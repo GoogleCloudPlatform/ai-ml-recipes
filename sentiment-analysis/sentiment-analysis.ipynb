{
 "cells": [
  {
   "cell_type": "code",
   "execution_count": null,
   "id": "7b9f55ae-6bf5-4e91-bd30-64e07ea85450",
   "metadata": {},
   "outputs": [],
   "source": [
    "# Copyright 2023 Google LLC\n",
    "#\n",
    "# Licensed under the Apache License, Version 2.0 (the \"License\");\n",
    "# you may not use this file except in compliance with the License.\n",
    "# You may obtain a copy of the License at\n",
    "#\n",
    "#     https://www.apache.org/licenses/LICENSE-2.0\n",
    "#\n",
    "# Unless required by applicable law or agreed to in writing, software\n",
    "# distributed under the License is distributed on an \"AS IS\" BASIS,\n",
    "# WITHOUT WARRANTIES OR CONDITIONS OF ANY KIND, either express or implied.\n",
    "# See the License for the specific language governing permissions and\n",
    "# limitations under the License."
   ]
  },
  {
   "cell_type": "markdown",
   "id": "fe656833-3d7c-4fde-87f5-c7c7ad21a106",
   "metadata": {},
   "source": [
    "# Sentimental Analysis of large scale data using LLM (PaLM API) (Vertex GenAI)"
   ]
  },
  {
   "cell_type": "markdown",
   "id": "e6fd7856-e138-4831-801e-6318f856efe3",
   "metadata": {},
   "source": [
    "## Overview"
   ]
  },
  {
   "cell_type": "markdown",
   "id": "e854e6c7-14f3-4b8a-933e-9091b24140af",
   "metadata": {
    "tags": []
   },
   "source": [
    "This notebook shows how to perform sentimental analysis on large scale data using LLM. The datasetused here would be a public dataset which is present in Bigquery Public Dataset.\n",
    "#### **Steps**\n",
    "Using Spark, \n",
    "1) This notebook reads data from Bigquert public dataset bigquery-public-data.imdb.reviews\n",
    "2) It runs data read activity for Sentimental Analysis from BQ public dataset bigquery-public-data.imdb.reviews\n",
    "3) It calls [Vertex AI Text Bison](https://cloud.google.com/vertex-ai/docs/generative-ai/start/quickstarts/api-quickstart#try_text_prompts) to find the sentiment of each review\n",
    "4) We compare the result side by side\n",
    "5) Find accuracy, and again try trimming input token and observe the accuracy increase.\n",
    "\n",
    "\n",
    "#### Related content\n",
    "\n",
    "- [Text Prompt](https://cloud.google.com/vertex-ai/docs/generative-ai/text/text-prompts)\n",
    "- [Content Classification](https://cloud.google.com/vertex-ai/docs/generative-ai/text/text-prompts#content-classification)"
   ]
  },
  {
   "cell_type": "code",
   "execution_count": 177,
   "id": "95c47182-9bc3-41e5-ab3c-f10f01727b99",
   "metadata": {},
   "outputs": [],
   "source": [
    "from pyspark.sql import SparkSession\n",
    "from pyspark.sql.functions import *\n",
    "from pyspark.sql.types import StructType, StructField, StringType, ArrayType\n",
    "\n",
    "import google.auth\n",
    "import google.auth.transport.requests\n",
    "import requests"
   ]
  },
  {
   "cell_type": "markdown",
   "id": "50ebd0b3-c4b5-4df5-8d11-0f721a147467",
   "metadata": {},
   "source": [
    "#### Get credentials to authenticate with Google APIs\n"
   ]
  },
  {
   "cell_type": "code",
   "execution_count": 178,
   "id": "bf715064-3b4b-44d2-9dcb-2c25143affa9",
   "metadata": {},
   "outputs": [],
   "source": [
    "credentials, project_id = google.auth.default()\n",
    "auth_req = google.auth.transport.requests.Request()\n",
    "credentials.refresh(auth_req)"
   ]
  },
  {
   "cell_type": "markdown",
   "id": "483fa597-0127-4077-b1f3-4bcb9ff11c65",
   "metadata": {},
   "source": [
    "### Create Spark Session for the notebook"
   ]
  },
  {
   "cell_type": "code",
   "execution_count": 179,
   "id": "c3e4dced-00af-4324-8d00-2855f6152f31",
   "metadata": {},
   "outputs": [],
   "source": [
    "spark = SparkSession.builder \\\n",
    "    .appName(\"Sentimental Analysis using Dataproc and Vertex LLM\") \\\n",
    "    .getOrCreate()"
   ]
  },
  {
   "cell_type": "markdown",
   "id": "97b310e5-ede5-4ac5-a5dd-df0732f61c8e",
   "metadata": {},
   "source": [
    "### Read data from Bigquery Public Dataset "
   ]
  },
  {
   "cell_type": "code",
   "execution_count": 180,
   "id": "02d7cad8-6ef6-44bb-baa9-78d5f10dc288",
   "metadata": {},
   "outputs": [],
   "source": [
    "movieReview =spark.read.format(\"bigquery\").option(\"table\",\"bigquery-public-data.imdb.reviews\").load()"
   ]
  },
  {
   "cell_type": "markdown",
   "id": "8efeb371-c8ae-4a20-b5e6-a21c5723e737",
   "metadata": {},
   "source": [
    "### Get Positive Reviews from Dataset"
   ]
  },
  {
   "cell_type": "code",
   "execution_count": 181,
   "id": "523c5cf6-5165-4ca6-b2b4-447bb15762b4",
   "metadata": {},
   "outputs": [],
   "source": [
    "positive_movie_review=movieReview.select(col(\"review\"),col(\"reviewer_rating\"),col(\"movie_id\"),col(\"label\")).where(col(\"label\")==\"Positive\").limit(100)"
   ]
  },
  {
   "cell_type": "markdown",
   "id": "d5846a0c-1ca6-483f-b9f1-52873bd50312",
   "metadata": {},
   "source": [
    "### Get Negative Reviews from Dataset"
   ]
  },
  {
   "cell_type": "code",
   "execution_count": 182,
   "id": "ec0a1557-cf01-4f86-9785-47ecb06ba752",
   "metadata": {},
   "outputs": [],
   "source": [
    "negative_movie_review=movieReview.select(col(\"review\"),col(\"reviewer_rating\"),col(\"movie_id\"),col(\"label\")).where(col(\"label\")==\"Negative\").limit(100)"
   ]
  },
  {
   "cell_type": "code",
   "execution_count": null,
   "id": "147f76ff-e834-4b0a-99f0-89a7d2dc265f",
   "metadata": {},
   "outputs": [
    {
     "name": "stdout",
     "output_type": "stream",
     "text": [
      "+--------------------+---------------+---------+--------+\n",
      "|              review|reviewer_rating| movie_id|   label|\n",
      "+--------------------+---------------+---------+--------+\n",
      "|This movie is ama...|             10|tt0187123|Positive|\n",
      "|THE HAND OF DEATH...|             10|tt0187123|Positive|\n",
      "|The Hand of Death...|              7|tt0187123|Positive|\n",
      "|Just as a reminde...|             10|tt0163955|Positive|\n",
      "|Like an earlier c...|              9|tt0163955|Positive|\n",
      "|>>> Great News th...|             10|tt0163955|Positive|\n",
      "|Insanely well cra...|             10|tt0163955|Positive|\n",
      "|Oppenheimer was a...|              9|tt0163955|Positive|\n",
      "|'Oppenheimer' wit...|             10|tt0163955|Positive|\n",
      "|President Harry S...|             10|tt0163955|Positive|\n",
      "|I, too, found \"Op...|              9|tt0163955|Positive|\n",
      "|I can't remember ...|             10|tt0163955|Positive|\n",
      "|I watched this mi...|              9|tt0163955|Positive|\n",
      "|Absolutely the be...|             10|tt0163955|Positive|\n",
      "|I saw this series...|             10|tt0163955|Positive|\n",
      "|I posted on IMDb ...|             10|tt0163955|Positive|\n",
      "|...a true geek-gi...|             10|tt0163955|Positive|\n",
      "|Has anyone found ...|              9|tt0163955|Positive|\n",
      "|This is the best ...|             10|tt0163955|Positive|\n",
      "|Her Excellency Ma...|             10|tt0184474|Positive|\n",
      "+--------------------+---------------+---------+--------+\n",
      "only showing top 20 rows\n",
      "\n"
     ]
    }
   ],
   "source": [
    "positive_movie_review.show()"
   ]
  },
  {
   "cell_type": "code",
   "execution_count": null,
   "id": "1b83bb57-ae91-421b-9bca-76faaf39fed6",
   "metadata": {},
   "outputs": [
    {
     "name": "stdout",
     "output_type": "stream",
     "text": [
      "+--------------------+---------------+---------+--------+\n",
      "|              review|reviewer_rating| movie_id|   label|\n",
      "+--------------------+---------------+---------+--------+\n",
      "|I had to see this...|              2|tt0158887|Negative|\n",
      "|This is a family ...|              4|tt0158887|Negative|\n",
      "|I would like to c...|              2|tt0391576|Negative|\n",
      "|Tyra & the rest o...|              3|tt0391576|Negative|\n",
      "|In watching this ...|              2|tt0391576|Negative|\n",
      "|Tyra Banks needs ...|              1|tt0391576|Negative|\n",
      "|This is by far th...|              1|tt0391576|Negative|\n",
      "|Ik know it is imp...|              3|tt0676157|Negative|\n",
      "|Terrific producti...|              3|tt0215002|Negative|\n",
      "|Earnest effort wh...|              4|tt0215002|Negative|\n",
      "|Although not a bi...|              3|tt0215002|Negative|\n",
      "|I know my summary...|              3|tt0225272|Negative|\n",
      "|I love documentar...|              2|tt0374071|Negative|\n",
      "|Some ugly weirdo ...|              2|tt0374071|Negative|\n",
      "|A frustrating doc...|              3|tt0374071|Negative|\n",
      "|Are you kidding m...|              1|tt0851760|Negative|\n",
      "|I rented this fil...|              3|tt0260841|Negative|\n",
      "|A killer (John Ka...|              3|tt0260841|Negative|\n",
      "|Detective Sergent...|              3|tt0260841|Negative|\n",
      "|Although this ser...|              3|tt0163931|Negative|\n",
      "+--------------------+---------------+---------+--------+\n",
      "only showing top 20 rows\n",
      "\n"
     ]
    }
   ],
   "source": [
    "negative_movie_review.show()"
   ]
  },
  {
   "cell_type": "markdown",
   "id": "14843f6a-8f88-49b8-b2a0-db930d3a5c37",
   "metadata": {},
   "source": [
    "### Mix positive and negative \n",
    "Making union of positive and negative reviews to get a good dataset of mixed set of reviews. For the purpose notebook, each class of reviews has 100 rows each."
   ]
  },
  {
   "cell_type": "code",
   "execution_count": 183,
   "id": "eda456fa-b95a-4e95-835c-cbc64be1fe11",
   "metadata": {},
   "outputs": [],
   "source": [
    "movieReviewMixed=positive_movie_review.union(negative_movie_review)"
   ]
  },
  {
   "cell_type": "markdown",
   "id": "558c6709-e265-4e21-a15b-4e5980303686",
   "metadata": {},
   "source": [
    "### Final count is 200 as can be seen below"
   ]
  },
  {
   "cell_type": "code",
   "execution_count": 184,
   "id": "a4bfebe8-6491-4cc4-b8b5-d6b408e67196",
   "metadata": {},
   "outputs": [
    {
     "data": {
      "text/plain": [
       "200"
      ]
     },
     "execution_count": 184,
     "metadata": {},
     "output_type": "execute_result"
    }
   ],
   "source": [
    "movieReviewMixed.count()"
   ]
  },
  {
   "cell_type": "markdown",
   "id": "2951e16c-5dd3-49b7-abf1-0fbb930453a2",
   "metadata": {},
   "source": [
    "### Creating a UDF to get predictions from Vertext Text Bison Model\n",
    "In this method, text whose sentiment is to be predicted is passed. Model used is text-bison-32k which allow 32k input tokens, so as to accomodate bigger text inputs of movie reviews. "
   ]
  },
  {
   "cell_type": "code",
   "execution_count": 199,
   "id": "9fdfb0bc-8ec1-43ee-b568-96e628772366",
   "metadata": {},
   "outputs": [],
   "source": [
    "def find_sentiment_zero_shot(text):\n",
    "    \n",
    "    def vertex_get_prediction(prompt):\n",
    "        MODEL_ID=\"text-bison-32k\"\n",
    "        prediction = requests.post(\n",
    "            f\"https://us-central1-aiplatform.googleapis.com/v1/projects/{project_id}/locations/us-central1/publishers/google/models/{MODEL_ID}:predict\",\n",
    "            headers={'Authorization': 'Bearer %s' % credentials.token,\n",
    "                     'Content-Type': 'application/json'},\n",
    "            json = {\n",
    "                      \"instances\": [\n",
    "                        { \"prompt\": prompt}\n",
    "                      ],\n",
    "                      \"parameters\": {\n",
    "                        \"temperature\": 0.2,\n",
    "                        \"maxOutputTokens\": 256,\n",
    "                        \"topK\": 40,\n",
    "                        \"topP\": 0.95\n",
    "                    }\n",
    "            }\n",
    "        ).json()\n",
    "        print(prediction)\n",
    "\n",
    "        if \"predictions\" in prediction:\n",
    "            pred = prediction[\"predictions\"][0]\n",
    "            if \"content\" in pred:\n",
    "                return pred[\"content\"]\n",
    "        else:\n",
    "            if \"error\" in prediction:\n",
    "                if prediction[\"error\"][\"code\"] == 429:  # Quota exceeded\n",
    "                    time.sleep(5)\n",
    "                    return predict_palm(prompt)\n",
    "                else:\n",
    "                    return f\"Error getting prediction: {prediction['error']}\"\n",
    "\n",
    "            return f\"Error getting predictions\"\n",
    "        \n",
    "    prompt = f\"\"\"For the given text below, provide the sentimental classification with two classes mentioned below:\n",
    "    The two classes are: Negative, Positive\n",
    "    text: {text}\n",
    "    Sentiment:\"\"\"\n",
    "    \n",
    "    sentiment = vertex_get_prediction(prompt)\n",
    "        \n",
    "    return sentiment"
   ]
  },
  {
   "cell_type": "code",
   "execution_count": 200,
   "id": "43a2b622-9430-4a3d-9f29-3b6714347550",
   "metadata": {},
   "outputs": [],
   "source": [
    "find_sentiment_zero_shot_udf = udf(find_sentiment_zero_shot)"
   ]
  },
  {
   "cell_type": "code",
   "execution_count": null,
   "id": "4fede9f0-a2dc-40bb-9af5-bdfcf7365f8f",
   "metadata": {},
   "outputs": [
    {
     "name": "stdout",
     "output_type": "stream",
     "text": [
      "root\n",
      " |-- review: string (nullable = true)\n",
      " |-- reviewer_rating: long (nullable = true)\n",
      " |-- movie_id: string (nullable = true)\n",
      " |-- label: string (nullable = true)\n",
      "\n"
     ]
    }
   ],
   "source": [
    "movieReviewMixed.printSchema()"
   ]
  },
  {
   "cell_type": "markdown",
   "id": "3642ecc0-2734-4027-b9d3-5ed32ff6d867",
   "metadata": {},
   "source": [
    "### Get prediction from the LLM using the UDF on the movie reviews"
   ]
  },
  {
   "cell_type": "code",
   "execution_count": 187,
   "id": "b7239a8d-f60a-40f5-95ee-a18b9b5d3a6c",
   "metadata": {},
   "outputs": [],
   "source": [
    "movie_review_sentiment_pred= movieReviewMixed.withColumn(\"predicted_sentiment\", find_sentiment_zero_shot_udf(movieReviewMixed[\"review\"])).cache()"
   ]
  },
  {
   "cell_type": "markdown",
   "id": "92c545e1-8d4f-47b7-a595-c03e01efbacf",
   "metadata": {},
   "source": [
    "### Let's check the predicted value and do a quick comparison of required output v/s actual label"
   ]
  },
  {
   "cell_type": "code",
   "execution_count": null,
   "id": "2e178b7f-f747-4093-a69e-50019ea3529e",
   "metadata": {},
   "outputs": [
    {
     "name": "stderr",
     "output_type": "stream",
     "text": [
      "[Stage 258:>                                                        (0 + 1) / 1]\r"
     ]
    },
    {
     "name": "stdout",
     "output_type": "stream",
     "text": [
      "+-------------------+--------+\n",
      "|predicted_sentiment|label   |\n",
      "+-------------------+--------+\n",
      "| Positive          |Positive|\n",
      "| Positive          |Positive|\n",
      "| Positive          |Positive|\n",
      "| Positive          |Positive|\n",
      "| Positive          |Positive|\n",
      "| Positive          |Positive|\n",
      "| Positive          |Positive|\n",
      "| Positive          |Positive|\n",
      "| Positive          |Positive|\n",
      "| Positive          |Positive|\n",
      "| Positive          |Positive|\n",
      "| Positive          |Positive|\n",
      "| Positive          |Positive|\n",
      "| Positive          |Positive|\n",
      "| Positive          |Positive|\n",
      "| Positive          |Positive|\n",
      "| Positive          |Positive|\n",
      "| Negative          |Positive|\n",
      "| Positive          |Positive|\n",
      "| Positive          |Positive|\n",
      "+-------------------+--------+\n",
      "only showing top 20 rows\n",
      "\n"
     ]
    },
    {
     "name": "stderr",
     "output_type": "stream",
     "text": [
      "                                                                                \r"
     ]
    }
   ],
   "source": [
    "movie_review_sentiment_pred.select(col(\"predicted_sentiment\"),col(\"label\")).show(truncate=False)"
   ]
  },
  {
   "cell_type": "markdown",
   "id": "7fa62d52-795b-4c27-b3c0-cb725a93d473",
   "metadata": {},
   "source": [
    "### Evaluation\n",
    "Let's create a evaluation dataframe to check how many out of all got matched with actual label. For every match, if_match column will store '1' else '0'. We will then sum it to check how many was correctly predicted"
   ]
  },
  {
   "cell_type": "code",
   "execution_count": 188,
   "id": "36ed31a4-db10-487d-ab38-17c0bf2cd6fc",
   "metadata": {},
   "outputs": [],
   "source": [
    "evaluation_df=movie_review_sentiment_pred.withColumn(\"if_match\",when((trim(col(\"predicted_sentiment\"))==trim(col(\"label\"))),1).otherwise(0))"
   ]
  },
  {
   "cell_type": "markdown",
   "id": "14b574d7-42e2-40f1-9108-74f9239aa0e3",
   "metadata": {},
   "source": [
    "#### Count the number of unsuccessful predictions"
   ]
  },
  {
   "cell_type": "code",
   "execution_count": null,
   "id": "2363c33a-20b1-45ca-b46c-08d936233a8d",
   "metadata": {},
   "outputs": [
    {
     "name": "stderr",
     "output_type": "stream",
     "text": [
      "                                                                                \r"
     ]
    },
    {
     "data": {
      "text/plain": [
       "28"
      ]
     },
     "execution_count": 152,
     "metadata": {},
     "output_type": "execute_result"
    }
   ],
   "source": [
    "evaluation_df.where(col(\"if_match\")==0).count()"
   ]
  },
  {
   "cell_type": "markdown",
   "id": "724aa40e-b047-4e4a-9a67-f300202acadc",
   "metadata": {},
   "source": [
    "#### Percentage Accuracy  \n",
    "Total Rows= 200\n",
    "\n",
    "* Rows not well predicted= 28\n",
    "\n",
    "* Percentage Accuracy= 100-(28/200*100) = 86% \n",
    "\n",
    "We can observe that more **86%** of the data has been rightfully predicted."
   ]
  },
  {
   "cell_type": "markdown",
   "id": "632afa55-edb1-4431-b78d-4765d527d838",
   "metadata": {},
   "source": [
    "#### Check the mismatch predictions\n",
    "Find the mismatched rows and show it"
   ]
  },
  {
   "cell_type": "code",
   "execution_count": 189,
   "id": "1e3f8d6c-7fab-4157-b60f-85784bc9fb74",
   "metadata": {},
   "outputs": [],
   "source": [
    "mismatch_df=evaluation_df.where(col(\"if_match\")==0).select(col('predicted_sentiment'),col('label'),col('review'))"
   ]
  },
  {
   "cell_type": "code",
   "execution_count": null,
   "id": "366b633a-46a1-4739-8758-58e483451365",
   "metadata": {},
   "outputs": [
    {
     "name": "stdout",
     "output_type": "stream",
     "text": [
      "+-------------------+--------+--------------------+\n",
      "|predicted_sentiment|   label|              review|\n",
      "+-------------------+--------+--------------------+\n",
      "|           Negative|Positive|Has anyone found ...|\n",
      "|                   |Positive|If it is true tha...|\n",
      "|           Negative|Positive|Overall I found t...|\n",
      "|           Negative|Positive|Isabelle Huppert ...|\n",
      "|                   |Positive|At the end of my ...|\n",
      "|                   |Positive|First of all, tho...|\n",
      "|           Negative|Positive|Erika Kohut is a ...|\n",
      "|                   |Positive|In the first twen...|\n",
      "|           Negative|Positive|Michael Haneke is...|\n",
      "|           Negative|Positive|I saw this film a...|\n",
      "|                   |Positive|The theme is cont...|\n",
      "|           Negative|Positive|The notion of mar...|\n",
      "|           Negative|Positive|For a long time I...|\n",
      "|                   |Positive|This was a bold m...|\n",
      "|                   |Negative|Tyra & the rest o...|\n",
      "|                   |Negative|This is by far th...|\n",
      "|                   |Negative|Some ugly weirdo ...|\n",
      "|                   |Negative|Detective Sergent...|\n",
      "|                   |Negative|\"The Cave\" got re...|\n",
      "|                   |Negative|Dire! Dismal! Awf...|\n",
      "+-------------------+--------+--------------------+\n",
      "only showing top 20 rows\n",
      "\n"
     ]
    }
   ],
   "source": [
    "mismatch_df.show()"
   ]
  },
  {
   "cell_type": "markdown",
   "id": "322d0698-4ed5-4f32-9471-ba4c10ca22df",
   "metadata": {},
   "source": [
    "### Observation\n",
    "It can be observed that there are few empty predictions because of extra input token. Lets try to shorten the input text for model by doing a quick substring and then again make a prediction."
   ]
  },
  {
   "cell_type": "code",
   "execution_count": 203,
   "id": "8105766a-ecf7-4167-9979-cc6734268f28",
   "metadata": {},
   "outputs": [],
   "source": [
    "mismatch_pred=mismatch_df.withColumn(\"predicted_sentiment_2\", find_sentiment_zero_shot_udf(substring(movieReviewMixed[\"review\"],0,35)))"
   ]
  },
  {
   "cell_type": "code",
   "execution_count": 204,
   "id": "5c0e94cd-7e95-46d2-88db-1875bb9bf4f5",
   "metadata": {},
   "outputs": [
    {
     "name": "stderr",
     "output_type": "stream",
     "text": [
      "[Stage 294:>                                                        (0 + 1) / 1]\r"
     ]
    },
    {
     "name": "stdout",
     "output_type": "stream",
     "text": [
      "+-------------------+--------+--------------------+---------------------+\n",
      "|predicted_sentiment|   label|              review|predicted_sentiment_2|\n",
      "+-------------------+--------+--------------------+---------------------+\n",
      "|           Negative|Positive|Has anyone found ...|             Negative|\n",
      "|                   |Positive|If it is true tha...|             Negative|\n",
      "|           Negative|Positive|Overall I found t...|             Positive|\n",
      "|           Negative|Positive|Isabelle Huppert ...|             Positive|\n",
      "|                   |Positive|At the end of my ...|             Negative|\n",
      "|                   |Positive|First of all, tho...|             Negative|\n",
      "|           Negative|Positive|Erika Kohut is a ...|             Positive|\n",
      "|                   |Positive|In the first twen...|             Negative|\n",
      "|           Negative|Positive|Michael Haneke is...|             Negative|\n",
      "|           Negative|Positive|I saw this film a...|             Positive|\n",
      "|                   |Positive|The theme is cont...|             Negative|\n",
      "|           Negative|Positive|The notion of mar...|             Negative|\n",
      "|           Negative|Positive|For a long time I...|             Negative|\n",
      "|                   |Positive|This was a bold m...|             Positive|\n",
      "|                   |Negative|Tyra & the rest o...|             Positive|\n",
      "|                   |Negative|This is by far th...|             Negative|\n",
      "|                   |Negative|Some ugly weirdo ...|             Negative|\n",
      "|                   |Negative|Detective Sergent...|             Negative|\n",
      "|                   |Negative|\"The Cave\" got re...|             Negative|\n",
      "|                   |Negative|Dire! Dismal! Awf...|             Negative|\n",
      "+-------------------+--------+--------------------+---------------------+\n",
      "only showing top 20 rows\n",
      "\n"
     ]
    },
    {
     "name": "stderr",
     "output_type": "stream",
     "text": [
      "                                                                                \r"
     ]
    }
   ],
   "source": [
    "mismatch_pred.show()"
   ]
  },
  {
   "cell_type": "code",
   "execution_count": 209,
   "id": "2c232546-0931-4784-83dc-6f7c15f0620f",
   "metadata": {},
   "outputs": [],
   "source": [
    "final_eval=mismatch_pred.withColumn(\"if_match\",when((trim(col(\"predicted_sentiment_2\"))==trim(col(\"label\"))),1).otherwise(0))"
   ]
  },
  {
   "cell_type": "code",
   "execution_count": 210,
   "id": "1a248191-ad9f-4438-8c73-e023d5ab65a7",
   "metadata": {},
   "outputs": [
    {
     "name": "stderr",
     "output_type": "stream",
     "text": [
      "                                                                                \r"
     ]
    },
    {
     "data": {
      "text/plain": [
       "12"
      ]
     },
     "execution_count": 210,
     "metadata": {},
     "output_type": "execute_result"
    }
   ],
   "source": [
    "final_eval.where(col(\"if_match\")==0).count()"
   ]
  },
  {
   "cell_type": "markdown",
   "id": "88b6f6ff-3694-4f41-aa1d-642167fea15c",
   "metadata": {},
   "source": [
    "### Observation\n",
    "We can see that by trimming the length of text, we are able to bring the mismatch prediction to just 12. \n",
    "* Hence, after triming, number of mismatched pred : 12\n",
    "* Hence percentage accuracy= 100-(12/200*100) = 94%\n",
    "\n",
    "Hence the final accuracy obtained is ***94%***, which means without any prior traning or chaining prompts, only by zero shot, the model has been able to predict sentiments properly with 94% accuracy"
   ]
  },
  {
   "cell_type": "code",
   "execution_count": null,
   "id": "5e524291-3df0-4ba0-84de-90bea8221365",
   "metadata": {},
   "outputs": [],
   "source": []
  }
 ],
 "metadata": {
  "language_info": {
   "codemirror_mode": {
    "name": "ipython",
    "version": 3
   },
   "file_extension": ".py",
   "mimetype": "text/x-python",
   "name": "python",
   "nbconvert_exporter": "python",
   "pygments_lexer": "ipython3",
   "version": "3.8.15"
  }
 },
 "nbformat": 4,
 "nbformat_minor": 5
}
