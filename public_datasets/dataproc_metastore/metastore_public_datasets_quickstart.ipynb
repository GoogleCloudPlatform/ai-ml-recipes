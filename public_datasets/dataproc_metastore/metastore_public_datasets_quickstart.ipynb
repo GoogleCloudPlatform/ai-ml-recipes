{
 "cells": [
  {
   "cell_type": "markdown",
   "id": "2dc32b08-8942-4d66-8a1c-1d12135fb0b2",
   "metadata": {},
   "source": [
    "# Dataproc Metastore - Public Datasets Quickstart"
   ]
  },
  {
   "cell_type": "markdown",
   "id": "176895c2-e8d3-43a9-b2e3-8fdd48287a80",
   "metadata": {
    "tags": []
   },
   "source": [
    "## Overview"
   ]
  },
  {
   "cell_type": "markdown",
   "id": "d9a4c073-9967-447a-b32e-1db752f6be3b",
   "metadata": {
    "jp-MarkdownHeadingCollapsed": true,
    "tags": []
   },
   "source": [
    "#### **Dataproc Metastore service**\n",
    "\n",
    "Dataproc Metastore is a fully managed, highly available, autohealing, serverless, Apache Hive metastore (HMS) that runs on Google Cloud.\n",
    "\n",
    "Dataproc Metastore provides you with a fully compatible Hive Metastore (HMS), which is the established standard in the open source big data ecosystem for managing technical metadata. This service helps you manage the metadata of your data lakes and provides interoperability between the various data processing engines and tools you're using.\n",
    "\n",
    "[Dataproc Metastore service documentation](https://cloud.google.com/dataproc-metastore/docs/overview)"
   ]
  },
  {
   "cell_type": "markdown",
   "id": "1f077669-09c4-4ae8-a33c-5debeb4c5c49",
   "metadata": {
    "tags": []
   },
   "source": [
    "### About Dataproc Metastore Public Datasets"
   ]
  },
  {
   "cell_type": "markdown",
   "id": "98bfac83-20f9-4418-9f77-96b12928cb24",
   "metadata": {},
   "source": [
    "We are making available a public dataset in a public Dataproc Metastore, which all users can read-only several pre-loaded datasets, to facilitate reading pre-selected public datasets from the internet and leveraging Dataproc capabilities."
   ]
  },
  {
   "cell_type": "markdown",
   "id": "803fb973-8149-4fbf-a887-6f03307b7c02",
   "metadata": {},
   "source": [
    "|                path|    modificationTime|\n",
    "|--------------------|--------------------|\n",
    "|GCP_PROJECT|dataproc-workspaces-notebooks  |\n",
    "|NAME|metastore-dev |\n",
    "|LOCATION|us-central1|\n",
    "|VERSION|3.1.2|\n",
    "|URI|https://metastore-dev-53ae9631-fniezrdzdq-uc.a.run.app:443|\n",
    "|WAREHOUSE_DIR|gs://gcs-bucket-metastore-dev-53ae9631-5703-491f-829f-164917e79441/hive-warehouse  |\n",
    "|BINARIES_BUCKET|gs://dataproc-metastore-public-binaries  |"
   ]
  },
  {
   "cell_type": "markdown",
   "id": "3c9fb208-2689-48b5-806d-6504a3212f25",
   "metadata": {
    "tags": []
   },
   "source": [
    "## Using Dataproc Metastore Public Datasets"
   ]
  },
  {
   "cell_type": "markdown",
   "id": "0d816e14-f4f5-49cc-81ad-76f28a91b383",
   "metadata": {},
   "source": [
    "**Step 1**: Create a Dataproc Cluster with a Dataproc Metastore service attached to it, via the UI or the following gcloud command:\n",
    "\n",
    "```console\n",
    "export GCP_PROJECT=<your_gcp_project>\n",
    "export REGION=<your_region>\n",
    "export CLUSTER_IMAGE_VERSION=<your_image_version> # ex: 2.0-debian10\n",
    "export CLUSTER_NAME=<your_desired_cluster_name> # ex: cluster-with-federation\n",
    "export SERVICE_ACCOUNT=<your_service_account>\n",
    "\n",
    "gcloud dataproc clusters create $CLUSTER_NAME \\\n",
    "    --region=$REGION \\\n",
    "    --project=$GCP_PROJECT \\\n",
    "    --service-account=$SERVICE_ACCOUNT \\\n",
    "    --image-version=$CLUSTER_IMAGE_VERSION \\\n",
    "    --scopes=https://www.googleapis.com/auth/cloud-platform \\\n",
    "    --enable-component-gateway \\\n",
    "    --optional-components JUPYTER \\\n",
    "    --dataproc-metastore projects/dataproc-workspaces-notebooks/locations/us-central1/services/metastore-dev\n",
    "```\n",
    "* For image version > 2.1, the --scopes=https://www.googleapis.com/auth/cloud-platform flag is not needed"
   ]
  },
  {
   "cell_type": "markdown",
   "id": "92232ed2-c734-4463-82ff-e34a18f305b1",
   "metadata": {},
   "source": [
    "**Step 2**: Use PySpark to list tables in the **public_datasets**:"
   ]
  },
  {
   "cell_type": "code",
   "execution_count": null,
   "id": "e03a39d4-d08f-4ceb-a11b-6cea8329ccb7",
   "metadata": {},
   "outputs": [],
   "source": [
    "from pyspark.sql import SparkSession"
   ]
  },
  {
   "cell_type": "code",
   "execution_count": null,
   "id": "a34ce061-651b-4fb9-88bb-bd59d4eaf2e0",
   "metadata": {},
   "outputs": [],
   "source": [
    "spark = SparkSession.builder \\\n",
    "    .appName(\"Dataproc Metastore Example\") \\\n",
    "    .enableHiveSupport() \\\n",
    "    .getOrCreate()"
   ]
  },
  {
   "cell_type": "code",
   "execution_count": null,
   "id": "86009d93-847f-4187-b9cb-443f8e4a5edc",
   "metadata": {},
   "outputs": [],
   "source": [
    "spark.sql(\"\"\"DESCRIBE DATABASE public_datasets\"\"\").show(500,False)"
   ]
  },
  {
   "cell_type": "markdown",
   "id": "0e659f85-88bd-424b-87d4-c287cdc6251e",
   "metadata": {},
   "source": [
    "|    info_name|                                                                                          info_value|\n",
    "|-------------|----------------------------------------------------------------------------------------------------|\n",
    "|Database Name|                                                                                     public_datasets|\n",
    "|      Comment|                                                                                                    |\n",
    "|     Location|gs://gcs-bucket-metastore-dev-53ae9631-5703-491f-829f-164917e79441/hive-warehouse/public_datasets.db|\n",
    "|        Owner|                                                                                                root|"
   ]
  },
  {
   "cell_type": "markdown",
   "id": "0d6e6965-ae22-4cba-858d-12127502e9a8",
   "metadata": {},
   "source": [
    "## Available tables"
   ]
  },
  {
   "cell_type": "code",
   "execution_count": null,
   "id": "8fc81e83-63af-4211-aa84-8417c9eb31c0",
   "metadata": {},
   "outputs": [],
   "source": [
    "spark.sql(\"SHOW TABLES IN public_datasets\").show()"
   ]
  },
  {
   "cell_type": "markdown",
   "id": "ed9727fa-8890-413d-b814-b0f48f7c8c30",
   "metadata": {},
   "source": [
    "|       database|tableName|isTemporary|\n",
    "|---------------|---------|-----------|\n",
    "|public_datasets|  cuad_v1|      false|"
   ]
  },
  {
   "cell_type": "markdown",
   "id": "18e0ae65-ba8d-47f2-ac54-dd9664acbfc5",
   "metadata": {
    "tags": []
   },
   "source": [
    "### Example 1) Contract Understanding Atticus Dataset (CUAD) - PDF files"
   ]
  },
  {
   "cell_type": "markdown",
   "id": "5d54457e-b43e-46a7-bdb8-dfbc1581f876",
   "metadata": {
    "tags": []
   },
   "source": [
    "#### How this dataset was created in the metastore\n",
    "\n",
    "Binary data metadata tables are created with Spark by using:  \n",
    "\n",
    "```\n",
    "binaries_tables_metadata = spark.read.format(\"binaryFile\").option(\"recursiveFileLookup\", \"true\").load(PUBLIC_DATASETS_BINARIES_BUCKET + \"/dataset/path/\")\n",
    "binaries_tables_metadata.write.mode('overwrite').saveAsTable(\"public_datasets.table_name\")\n",
    "```\n"
   ]
  },
  {
   "cell_type": "code",
   "execution_count": null,
   "id": "24bd8c55-d58b-4298-a3fd-ce77464235a2",
   "metadata": {},
   "outputs": [],
   "source": [
    "spark.sql(\"DESCRIBE TABLE EXTENDED public_datasets.cuad_v1\").show(50,50)"
   ]
  },
  {
   "cell_type": "markdown",
   "id": "97cf28fc-9b9f-49b8-b639-b38c4f533751",
   "metadata": {},
   "source": [
    "|                    col_name|                                         data_type|comment|\n",
    "|----------------------------|--------------------------------------------------|-------|\n",
    "|                        path|                                            string|   null|\n",
    "|            modificationTime|                                         timestamp|   null|\n",
    "|                      length|                                            bigint|   null|\n",
    "|                     content|                                            binary|   null|\n",
    "|                            |                                                  |       |\n",
    "|# Detailed Table Information|                                                  |       |\n",
    "|                    Database|                                   public_datasets|       |\n",
    "|                       Table|                                           cuad_v1|       |\n",
    "|                       Owner|                                              root|       |\n",
    "|                Created Time|                      Fri May 26 21:24:19 UTC 2023|       |\n",
    "|                 Last Access|                                           UNKNOWN|       |\n",
    "|                  Created By|                                       Spark 3.3.0|       |\n",
    "|                        Type|                                           MANAGED|       |\n",
    "|                    Provider|                                           parquet|       |\n",
    "|                  Statistics|                                    94736181 bytes|       |\n",
    "|                    Location|gs://gcs-bucket-metastore-dev-53ae9631-5703-491...|       |\n",
    "|               Serde Library|org.apache.hadoop.hive.ql.io.parquet.serde.Parq...|       |\n",
    "|                 InputFormat|org.apache.hadoop.hive.ql.io.parquet.MapredParq...|       |\n",
    "|                OutputFormat|org.apache.hadoop.hive.ql.io.parquet.MapredParq...|       |"
   ]
  },
  {
   "cell_type": "code",
   "execution_count": null,
   "id": "a29ee53c-cc25-4d47-9f7d-90355f6ec8f0",
   "metadata": {},
   "outputs": [],
   "source": [
    "cuad_v1 = spark.sql(\"SELECT * FROM public_datasets.cuad_v1 LIMIT 100\")\n",
    "cuad_v1.show()"
   ]
  },
  {
   "cell_type": "markdown",
   "id": "81e5b1bb-86f2-4be5-b7cf-d0c58e29f83f",
   "metadata": {},
   "source": [
    "|                path|    modificationTime| length|             content|\n",
    "|--------------------|--------------------|-------|--------------------|\n",
    "|gs://dataproc-met...|2023-05-15 20:53:...|3683550|[25 50 44 46 2D 3...|\n",
    "|gs://dataproc-met...|2023-05-15 20:53:...|2881262|[25 50 44 46 2D 3...|\n",
    "|gs://dataproc-met...|2023-05-15 20:54:...|1778356|[25 50 44 46 2D 3...|\n",
    "|gs://dataproc-met...|2023-05-15 20:53:...|1557129|[25 50 44 46 2D 3...|\n",
    "|gs://dataproc-met...|2023-05-15 20:53:...|1452180|[25 50 44 46 2D 3...|\n",
    "|gs://dataproc-met...|2023-05-15 20:53:...|1403548|[25 50 44 46 2D 3...|\n",
    "|gs://dataproc-met...|2023-05-15 20:53:...|1064706|[25 50 44 46 2D 3...|\n",
    "|gs://dataproc-met...|2023-05-15 20:53:...|1063465|[25 50 44 46 2D 3...|\n",
    "|gs://dataproc-met...|2023-05-15 20:53:...|1008546|[25 50 44 46 2D 3...|\n",
    "|gs://dataproc-met...|2023-05-15 20:53:...| 995799|[25 50 44 46 2D 3...|"
   ]
  }
 ],
 "metadata": {
  "kernelspec": {
   "display_name": "",
   "name": ""
  },
  "language_info": {
   "codemirror_mode": {
    "name": "ipython",
    "version": 3
   },
   "file_extension": ".py",
   "mimetype": "text/x-python",
   "name": "python",
   "nbconvert_exporter": "python",
   "pygments_lexer": "ipython3",
   "version": "3.8.15"
  }
 },
 "nbformat": 4,
 "nbformat_minor": 5
}
