{
 "cells": [
  {
   "cell_type": "code",
   "execution_count": null,
   "outputs": [],
   "source": [
    "# Copyright 2023 Google LLC\n",
    "#\n",
    "# Licensed under the Apache License, Version 2.0 (the \"License\");\n",
    "# you may not use this file except in compliance with the License.\n",
    "# You may obtain a copy of the License at\n",
    "#\n",
    "#     https://www.apache.org/licenses/LICENSE-2.0\n",
    "#\n",
    "# Unless required by applicable law or agreed to in writing, software\n",
    "# distributed under the License is distributed on an \"AS IS\" BASIS,\n",
    "# WITHOUT WARRANTIES OR CONDITIONS OF ANY KIND, either express or implied.\n",
    "# See the License for the specific language governing permissions and\n",
    "# limitations under the License."
   ],
   "metadata": {
    "collapsed": false
   }
  },
  {
   "cell_type": "markdown",
   "source": [
    "# Dataproc Metastore - Public Datasets Quickstart"
   ],
   "metadata": {
    "collapsed": false
   }
  },
  {
   "cell_type": "markdown",
   "id": "176895c2-e8d3-43a9-b2e3-8fdd48287a80",
   "metadata": {
    "tags": []
   },
   "source": [
    "## Overview"
   ]
  },
  {
   "cell_type": "markdown",
   "id": "d9a4c073-9967-447a-b32e-1db752f6be3b",
   "metadata": {
    "tags": []
   },
   "source": [
    "#### **Dataproc Metastore service**\n",
    "\n",
    "Dataproc Metastore is a fully managed, highly available, autohealing, serverless, Apache Hive metastore (HMS) that runs on Google Cloud.\n",
    "\n",
    "Dataproc Metastore provides you with a fully compatible Hive Metastore (HMS), which is the established standard in the open source big data ecosystem for managing technical metadata. This service helps you manage the metadata of your data lakes and provides interoperability between the various data processing engines and tools you're using.\n",
    "\n",
    "[Dataproc Metastore service documentation](https://cloud.google.com/dataproc-metastore/docs/overview)"
   ]
  },
  {
   "cell_type": "markdown",
   "id": "5ee4986c-8f34-47c5-bc39-35dc2a4a86bb",
   "metadata": {
    "tags": []
   },
   "source": [
    "### Available datasets"
   ]
  },
  {
   "cell_type": "markdown",
   "id": "0ff517c8-d14d-4fab-8230-8897eef660a2",
   "metadata": {},
   "source": [
    "[**public_datasets.cuad_v1**](https://www.atticusprojectai.org/cuad)  \n",
    "510 PDF files of legal contracts  \n",
    " \n",
    "|                path|    modificationTime| length|             content|\n",
    "|--------------------|--------------------|-------|--------------------|\n",
    "|gs://dataproc-met...|2023-05-15 20:53:...|3683550|[25 50 44 46 2D 3...|\n",
    "\n",
    "[**public_datasets.winequality_red**](https://archive.ics.uci.edu/dataset/186/wine+quality)  \n",
    "4898 Wine quality data of white vinho verde samples  \n",
    "\n",
    "|fixed_acidity|volatile_acidity|citric_acid|residual_sugar|chlorides|free_sulfur_dioxide|total_sulfur_dioxide|density|  pH|sulphates|alcohol|quality|\n",
    "|-------------|----------------|-----------|--------------|---------|-------------------|--------------------|-------|----|---------|-------|-------|\n",
    "|          7.0|            0.27|       0.36|          20.7|    0.045|               45.0|               170.0|  1.001| 3.0|     0.45|    8.8|      6|\n",
    "\n",
    "[**public_datasets.winequality_white**](https://archive.ics.uci.edu/dataset/186/wine+quality)  \n",
    "1599 Wine quality data of red vinho verde samples  \n",
    "\n",
    "|fixed_acidity|volatile_acidity|citric_acid|residual_sugar|chlorides|free_sulfur_dioxide|total_sulfur_dioxide|density|  pH|sulphates|alcohol|quality|\n",
    "|-------------|----------------|-----------|--------------|---------|-------------------|--------------------|-------|----|---------|-------|-------|\n",
    "|          7.0|            0.27|       0.36|          20.7|    0.045|               45.0|               170.0|  1.001| 3.0|     0.45|    8.8|      6|\n",
    "\n",
    "\n",
    "[**public_datasets.real_estate_sales**](https://catalog.data.gov/dataset/real-estate-sales-2001-2018)  \n",
    "997213 samples of real estate sales  \n",
    "\n",
    "| serial_number | list_year | date_recorded | town    | address      | assessed_value | sale_amount | sales_ratio | property_type | residential_type | non_use_code | assessor_remarks | opm_remarks          | location            |\n",
    "|---------------|-----------|---------------|---------|--------------|----------------|-------------|-------------|---------------|------------------|--------------|------------------|----------------------|---------------------|\n",
    "| 200594        | 2020      | 2021-02-16    | Danbury | 8 HICKORY ST | 121600.0       | 146216.0    | 0.8316463   | Residential   | Single Family    | 25 - Other   | I11192           | HOUSE HAS SETTLED... | {-73.44696, 41.41.. |\n",
    "\n",
    "[**public_datasets.sms_spam_collection**](https://archive.ics.uci.edu/dataset/228/sms+spam+collection)  \n",
    "5574 SMS messages (4827 ham and 747 spam)  \n",
    "\n",
    "|label|                text|\n",
    "|-----|--------------------|\n",
    "|  ham|Go until jurong p...|"
   ]
  },
  {
   "cell_type": "markdown",
   "id": "1f077669-09c4-4ae8-a33c-5debeb4c5c49",
   "metadata": {
    "tags": []
   },
   "source": [
    "### About Dataproc Metastore Public Datasets"
   ]
  },
  {
   "cell_type": "markdown",
   "id": "98bfac83-20f9-4418-9f77-96b12928cb24",
   "metadata": {},
   "source": [
    "We are making available a public dataset in a public Dataproc Metastore, which all users can read-only several pre-loaded datasets, to facilitate reading pre-selected public datasets from the internet and leveraging Dataproc capabilities."
   ]
  },
  {
   "cell_type": "markdown",
   "id": "803fb973-8149-4fbf-a887-6f03307b7c02",
   "metadata": {},
   "source": [
    "|                path|    modificationTime|\n",
    "|--------------------|--------------------|\n",
    "|GCP_PROJECT|dataproc-workspaces-notebooks  |\n",
    "|NAME|metastore-dev |\n",
    "|LOCATION|us-central1|\n",
    "|VERSION|3.1.2|\n",
    "|URI|https://metastore-dev-53ae9631-fniezrdzdq-uc.a.run.app:443|\n",
    "|WAREHOUSE_DIR|gs://gcs-bucket-metastore-dev-53ae9631-5703-491f-829f-164917e79441/hive-warehouse  |\n",
    "|BINARIES_BUCKET|gs://dataproc-metastore-public-binaries  |"
   ]
  },
  {
   "cell_type": "markdown",
   "id": "3c9fb208-2689-48b5-806d-6504a3212f25",
   "metadata": {
    "tags": []
   },
   "source": [
    "## Using Dataproc Metastore Public Datasets"
   ]
  },
  {
   "cell_type": "markdown",
   "id": "ca685386-aa7b-4a40-b083-a2c0cedeae7c",
   "metadata": {},
   "source": [
    "**Using Dataproc Workspaces**\n",
    "    \n",
    "- Via the UI console:\n",
    "    1) Edit Workspace Runtime\n",
    "    2) In the Metastore section, select the **dataproc-workspaces-notebooks** GCP project\n",
    "    3) Select **projects/dataproc-workspaces-notebooks/locations/us-central1/services/metastore-dev**\n"
   ]
  },
  {
   "cell_type": "markdown",
   "id": "0d816e14-f4f5-49cc-81ad-76f28a91b383",
   "metadata": {},
   "source": [
    "**Using Dataproc Cluster**\n",
    "\n",
    "Create a Dataproc Cluster with a Dataproc Metastore service attached to it, via the UI or the following gcloud command  \n",
    "\n",
    "```console\n",
    "export GCP_PROJECT=<your_gcp_project>\n",
    "export REGION=<your_region>\n",
    "export CLUSTER_IMAGE_VERSION=<your_image_version> # ex: 2.0-debian10\n",
    "export CLUSTER_NAME=<your_desired_cluster_name> # ex: cluster-with-federation\n",
    "export SERVICE_ACCOUNT=<your_service_account>\n",
    "\n",
    "gcloud dataproc clusters create $CLUSTER_NAME \\\n",
    "    --region=$REGION \\\n",
    "    --project=$GCP_PROJECT \\\n",
    "    --service-account=$SERVICE_ACCOUNT \\\n",
    "    --image-version=$CLUSTER_IMAGE_VERSION \\\n",
    "    --scopes=https://www.googleapis.com/auth/cloud-platform \\\n",
    "    --enable-component-gateway \\\n",
    "    --optional-components JUPYTER \\\n",
    "    --dataproc-metastore projects/dataproc-workspaces-notebooks/locations/us-central1/services/metastore-dev\n",
    "```\n",
    "* For image version > 2.1, the --scopes=https://www.googleapis.com/auth/cloud-platform flag is not needed"
   ]
  },
  {
   "cell_type": "markdown",
   "id": "92232ed2-c734-4463-82ff-e34a18f305b1",
   "metadata": {},
   "source": [
    "#### Use PySpark to list tables in the **public_datasets**:"
   ]
  },
  {
   "cell_type": "code",
   "execution_count": null,
   "id": "e03a39d4-d08f-4ceb-a11b-6cea8329ccb7",
   "metadata": {},
   "outputs": [],
   "source": [
    "from pyspark.sql import SparkSession"
   ]
  },
  {
   "cell_type": "code",
   "execution_count": null,
   "id": "a34ce061-651b-4fb9-88bb-bd59d4eaf2e0",
   "metadata": {},
   "outputs": [],
   "source": [
    "spark = SparkSession.builder \\\n",
    "    .appName(\"Dataproc Metastore Example\") \\\n",
    "    .enableHiveSupport() \\\n",
    "    .getOrCreate()"
   ]
  },
  {
   "cell_type": "code",
   "execution_count": null,
   "id": "86009d93-847f-4187-b9cb-443f8e4a5edc",
   "metadata": {},
   "outputs": [],
   "source": [
    "spark.sql(\"\"\"DESCRIBE DATABASE public_datasets\"\"\").show(500,False)"
   ]
  },
  {
   "cell_type": "markdown",
   "id": "0e659f85-88bd-424b-87d4-c287cdc6251e",
   "metadata": {},
   "source": [
    "|    info_name|                                                                                          info_value|\n",
    "|-------------|----------------------------------------------------------------------------------------------------|\n",
    "|Database Name|                                                                                     public_datasets|\n",
    "|      Comment|                                                                                                    |\n",
    "|     Location|gs://gcs-bucket-metastore-dev-53ae9631-5703-491f-829f-164917e79441/hive-warehouse/public_datasets.db|\n",
    "|        Owner|                                                                                                root|"
   ]
  },
  {
   "cell_type": "markdown",
   "id": "0d6e6965-ae22-4cba-858d-12127502e9a8",
   "metadata": {
    "tags": []
   },
   "source": [
    "## Available tables"
   ]
  },
  {
   "cell_type": "code",
   "execution_count": null,
   "id": "8fc81e83-63af-4211-aa84-8417c9eb31c0",
   "metadata": {},
   "outputs": [],
   "source": [
    "spark.sql(\"SHOW TABLES IN public_datasets\").show()"
   ]
  },
  {
   "cell_type": "markdown",
   "id": "5c620942-9012-439c-9355-e193e9db8642",
   "metadata": {},
   "source": [
    "|       database|        tableName|isTemporary|\n",
    "|---------------|-----------------|-----------|\n",
    "|public_datasets|          cuad_v1|      false|\n",
    "|public_datasets|  winequality_red|      false|\n",
    "|public_datasets|winequality_white|      false|"
   ]
  },
  {
   "cell_type": "markdown",
   "id": "18e0ae65-ba8d-47f2-ac54-dd9664acbfc5",
   "metadata": {
    "tags": []
   },
   "source": [
    "### Example 1) Contract Understanding Atticus Dataset (CUAD) - PDF files"
   ]
  },
  {
   "cell_type": "markdown",
   "id": "5d54457e-b43e-46a7-bdb8-dfbc1581f876",
   "metadata": {
    "tags": []
   },
   "source": [
    "#### How this dataset was created in the metastore\n",
    "\n",
    "Binary data metadata tables are created with Spark by using:  \n",
    "\n",
    "```\n",
    "binaries_tables_metadata = spark.read.format(\"binaryFile\").option(\"recursiveFileLookup\", \"true\").load(PUBLIC_DATASETS_BINARIES_BUCKET + \"/dataset/path/\")\n",
    "binaries_tables_metadata.write.mode('overwrite').saveAsTable(\"public_datasets.table_name\")\n",
    "```\n"
   ]
  },
  {
   "cell_type": "code",
   "execution_count": null,
   "id": "a29ee53c-cc25-4d47-9f7d-90355f6ec8f0",
   "metadata": {},
   "outputs": [],
   "source": [
    "cuad_v1 = spark.read.table(\"public_datasets.cuad_v1\")\n",
    "cuad_v1.show()"
   ]
  },
  {
   "cell_type": "markdown",
   "id": "81e5b1bb-86f2-4be5-b7cf-d0c58e29f83f",
   "metadata": {},
   "source": [
    "|                path|    modificationTime| length|             content|\n",
    "|--------------------|--------------------|-------|--------------------|\n",
    "|gs://dataproc-met...|2023-05-15 20:53:...|3683550|[25 50 44 46 2D 3...|\n",
    "|gs://dataproc-met...|2023-05-15 20:53:...|2881262|[25 50 44 46 2D 3...|\n",
    "|gs://dataproc-met...|2023-05-15 20:54:...|1778356|[25 50 44 46 2D 3...|\n",
    "|gs://dataproc-met...|2023-05-15 20:53:...|1557129|[25 50 44 46 2D 3...|\n",
    "|gs://dataproc-met...|2023-05-15 20:53:...|1452180|[25 50 44 46 2D 3...|"
   ]
  },
  {
   "cell_type": "markdown",
   "id": "1e79e397-ef37-47f5-a7a7-3f4e9c05627b",
   "metadata": {},
   "source": [
    "### Example 2) Wine Quality (Red and White)"
   ]
  },
  {
   "cell_type": "code",
   "execution_count": null,
   "id": "6d75db45-6855-4837-bac1-a6fdc9374bb7",
   "metadata": {},
   "outputs": [],
   "source": [
    "winequality_white = spark.read.table(\"public_datasets.winequality_white\")\n",
    "winequality_white.show()"
   ]
  },
  {
   "cell_type": "markdown",
   "id": "db69d8da-338e-499f-9000-f16386e7dfc7",
   "metadata": {},
   "source": [
    "|fixed_acidity|volatile_acidity|citric_acid|residual_sugar|chlorides|free_sulfur_dioxide|total_sulfur_dioxide|density|  pH|sulphates|alcohol|quality|\n",
    "|-------------|----------------|-----------|--------------|---------|-------------------|--------------------|-------|----|---------|-------|-------|\n",
    "|          7.0|            0.27|       0.36|          20.7|    0.045|               45.0|               170.0|  1.001| 3.0|     0.45|    8.8|      6|\n",
    "|          6.3|             0.3|       0.34|           1.6|    0.049|               14.0|               132.0|  0.994| 3.3|     0.49|    9.5|      6|\n",
    "|          8.1|            0.28|        0.4|           6.9|     0.05|               30.0|                97.0| 0.9951|3.26|     0.44|   10.1|      6|\n",
    "|          7.2|            0.23|       0.32|           8.5|    0.058|               47.0|               186.0| 0.9956|3.19|      0.4|    9.9|      6|\n",
    "|          7.2|            0.23|       0.32|           8.5|    0.058|               47.0|               186.0| 0.9956|3.19|      0.4|    9.9|      6|"
   ]
  },
  {
   "cell_type": "markdown",
   "id": "39669e53-437c-4977-91e9-94eb44bca90c",
   "metadata": {},
   "source": [
    "### Example 3) Real Estate Sales"
   ]
  },
  {
   "cell_type": "code",
   "execution_count": null,
   "id": "80c4a749-fd82-47f3-a9b5-a3d3d89b8ad4",
   "metadata": {},
   "outputs": [],
   "source": [
    "real_estate_sales = spark.read.table(\"public_datasets.real_estate_sales\")\n",
    "real_estate_sales.show()"
   ]
  },
  {
   "cell_type": "markdown",
   "id": "ed9b6574-a1b3-4e95-8a6c-715cc337b56b",
   "metadata": {},
   "source": [
    "| serial_number | list_year | date_recorded | town    | address              | assessed_value | sale_amount | sales_ratio | property_type | residential_type | non_use_code         | assessor_remarks     | opm_remarks          | location             |\n",
    "|---------------|-----------|---------------|---------|----------------------|----------------|-------------|-------------|---------------|------------------|----------------------|----------------------|----------------------|----------------------|\n",
    "| 200594        | 2020      | 2021-02-16    | Danbury | 8 HICKORY ST         | 121600.0       | 146216.0    | 0.8316463   | Residential   | Single Family    | 25 - Other           | I11192               | HOUSE HAS SETTLED... | {-73.44696, 41.41... |\n",
    "| 200562        | 2020      | 2021-02-03    | Danbury | 19  MILL RD          | 263600.0       | 415000.0    | 0.6351807   | Residential   | Single Family    | 25 - Other           | AFFORDABLE HOUSIN... | INCORRECT DATA PE... | {-73.53692, 41.38... |\n",
    "| 200968        | 2020      | 2021-05-24    | Danbury | 4A FLIRTATION DR     | 205700.0       | 515000.0    | 0.3994175   | Residential   | Single Family    | 07 - Change in Pr... | B17008               | UPDATED KITCHEN P... | {null, null}         |\n",
    "| 200260        | 2020      | 2020-11-23    | Danbury | 32 COALPIT HILL R... | 84900.0        | 181778.0    | 0.4670532   | Residential   | Condo            | 25 - Other           | J16087-4             | MULTIPLE UNIT SALE   | {-73.43796, 41.38... |\n",
    "| 200262        | 2020      | 2020-11-23    | Danbury | 32 COALPIT HILL R... | 84900.0        | 181778.0    | 0.4670532   | Residential   | Condo            | 25 - Other           | J16087-6             | MULTIPLE UNIT SALE   | {-73.43796, 41.38... |"
   ]
  },
  {
   "cell_type": "markdown",
   "source": [
    "### Example 4) SMS Spam collection"
   ],
   "metadata": {
    "collapsed": false
   }
  },
  {
   "cell_type": "code",
   "execution_count": null,
   "outputs": [],
   "source": [
    "sms_spam_collection = spark.read.table(\"public_datasets.sms_spam_collection\")\n",
    "sms_spam_collection.show()"
   ],
   "metadata": {
    "collapsed": false
   }
  },
  {
   "cell_type": "markdown",
   "source": [
    "|label|                text|\n",
    "|-----|--------------------|\n",
    "|  ham|Go until jurong p...|\n",
    "|  ham|Ok lar... Joking ...|\n",
    "| spam|Free entry in 2 a...|\n",
    "|  ham|U dun say so earl...|\n",
    "|  ham|Nah I don't think...|"
   ],
   "metadata": {
    "collapsed": false
   }
  }
 ],
 "metadata": {
  "language_info": {
   "codemirror_mode": {
    "name": "ipython",
    "version": 3
   },
   "file_extension": ".py",
   "mimetype": "text/x-python",
   "name": "python",
   "nbconvert_exporter": "python",
   "pygments_lexer": "ipython3",
   "version": "3.8.15"
  }
 },
 "nbformat": 4,
 "nbformat_minor": 5
}
