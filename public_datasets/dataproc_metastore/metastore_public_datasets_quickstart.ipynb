{
 "cells": [
  {
   "cell_type": "code",
   "execution_count": null,
   "id": "18689af1",
   "metadata": {
    "collapsed": false,
    "jupyter": {
     "outputs_hidden": false
    }
   },
   "outputs": [],
   "source": [
    "# Copyright 2023 Google LLC\n",
    "#\n",
    "# Licensed under the Apache License, Version 2.0 (the \"License\");\n",
    "# you may not use this file except in compliance with the License.\n",
    "# You may obtain a copy of the License at\n",
    "#\n",
    "#     https://www.apache.org/licenses/LICENSE-2.0\n",
    "#\n",
    "# Unless required by applicable law or agreed to in writing, software\n",
    "# distributed under the License is distributed on an \"AS IS\" BASIS,\n",
    "# WITHOUT WARRANTIES OR CONDITIONS OF ANY KIND, either express or implied.\n",
    "# See the License for the specific language governing permissions and\n",
    "# limitations under the License."
   ]
  },
  {
   "cell_type": "markdown",
   "id": "bbb9bd29",
   "metadata": {
    "collapsed": false,
    "jupyter": {
     "outputs_hidden": false
    }
   },
   "source": [
    "# Public Datasets Quickstart"
   ]
  },
  {
   "cell_type": "markdown",
   "id": "176895c2-e8d3-43a9-b2e3-8fdd48287a80",
   "metadata": {
    "tags": []
   },
   "source": [
    "## Overview"
   ]
  },
  {
   "cell_type": "markdown",
   "id": "53a05bf0-750b-4264-9bc4-3cbf1bed93c9",
   "metadata": {},
   "source": [
    "#### Datasets in the public read-only bucket\n",
    "\n",
    "The following GCS bucket contains the files for each available dataset detailed below.   \n",
    "\n",
    "|                GCP_PROJECT  |                                                                                                                    GCS bucket|\n",
    "|-----------------------------|------------------------------------------------------------------------------------------------------------------------------|\n",
    "|dataproc-workspaces-notebooks|[gs://dataproc-metastore-public-binaries](https://console.cloud.google.com/storage/browser/dataproc-metastore-public-binaries)|"
   ]
  },
  {
   "cell_type": "markdown",
   "id": "d9a4c073-9967-447a-b32e-1db752f6be3b",
   "metadata": {
    "tags": []
   },
   "source": [
    "#### Datasets in the public Dataproc Metastore instance\n",
    "\n",
    "Alternatively, you can configure you Dataproc cluster or Serverless Runtime to connect to this public read-only Dataproc Metastore and read the dataset tables using *spark.read.table(\"public_datasets.\\<table_name\\>\")*  \n",
    "\n",
    "|                path|    modificationTime|\n",
    "|--------------------|--------------------|\n",
    "|GCP_PROJECT|dataproc-workspaces-notebooks  |\n",
    "|NAME|public-metastore-v1 |\n",
    "|LOCATION|us-central1|\n",
    "|VERSION|3.1.2|\n",
    "\n",
    "Dataproc Metastore is a fully managed, highly available, autohealing, serverless, Apache Hive metastore (HMS) that runs on Google Cloud.  \n",
    "Dataproc Metastore provides you with a fully compatible Hive Metastore (HMS), which is the established standard in the open source big data ecosystem for managing technical metadata.  \n",
    "This service helps you manage the metadata of your data lakes and provides interoperability between the various data processing engines and tools you're using.  \n",
    "[Dataproc Metastore service documentation](https://cloud.google.com/dataproc-metastore/docs/overview)  "
   ]
  },
  {
   "cell_type": "markdown",
   "id": "5ee4986c-8f34-47c5-bc39-35dc2a4a86bb",
   "metadata": {
    "tags": []
   },
   "source": [
    "### Available datasets"
   ]
  },
  {
   "cell_type": "markdown",
   "id": "0ff517c8-d14d-4fab-8230-8897eef660a2",
   "metadata": {},
   "source": [
    "[**cuad_v1**](https://www.atticusprojectai.org/cuad)   \n",
    "GCS bucket path: gs://dataproc-metastore-public-binaries/cuad_v1/full_contract_pdf/    \n",
    "- Format: .pdf  \n",
    "- Metastore referece: public_datasets.cuad_v1  \n",
    "- Description: 510 PDF files of legal contracts   \n",
    " \n",
    "|                path|    modificationTime| length|             content|\n",
    "|--------------------|--------------------|-------|--------------------|\n",
    "|gs://dataproc-met...|2023-05-15 20:53:...|3683550|[25 50 44 46 2D 3...|\n",
    "\n",
    "[**winequality_red**](https://archive.ics.uci.edu/dataset/186/wine+quality)   \n",
    "GCS bucket path: gs://dataproc-metastore-public-binaries/winequality_red/  \n",
    "- Format: .csv    \n",
    "- Metastore referece: public_datasets.winequality_red  \n",
    "- Description: 4898 Wine quality data of white vinho verde samples   \n",
    "\n",
    "|fixed_acidity|volatile_acidity|citric_acid|residual_sugar|chlorides|free_sulfur_dioxide|total_sulfur_dioxide|density|  pH|sulphates|alcohol|quality|\n",
    "|-------------|----------------|-----------|--------------|---------|-------------------|--------------------|-------|----|---------|-------|-------|\n",
    "|          7.0|            0.27|       0.36|          20.7|    0.045|               45.0|               170.0|  1.001| 3.0|     0.45|    8.8|      6|\n",
    "\n",
    "[**winequality_white**](https://archive.ics.uci.edu/dataset/186/wine+quality)   \n",
    "GCS bucket path: gs://dataproc-metastore-public-binaries/winequality_white/    \n",
    "- Format: .csv    \n",
    "- Metastore referece: public_datasets.winequality_white  \n",
    "- Description: 1599 Wine quality data of red vinho verde samples  \n",
    "\n",
    "|fixed_acidity|volatile_acidity|citric_acid|residual_sugar|chlorides|free_sulfur_dioxide|total_sulfur_dioxide|density|  pH|sulphates|alcohol|quality|\n",
    "|-------------|----------------|-----------|--------------|---------|-------------------|--------------------|-------|----|---------|-------|-------|\n",
    "|          7.0|            0.27|       0.36|          20.7|    0.045|               45.0|               170.0|  1.001| 3.0|     0.45|    8.8|      6|\n",
    "\n",
    "[**real_estate_sales**](https://catalog.data.gov/dataset/real-estate-sales-2001-2018)  \n",
    "GCS bucket path: gs://dataproc-metastore-public-binaries/real_estate_sales/    \n",
    "- Format: .parquet      \n",
    "- Metastore referece: public_datasets.real_estate_sales  \n",
    "- Description: 997213 samples of real estate sales    \n",
    "\n",
    "| serial_number | list_year | date_recorded | town    | address      | assessed_value | sale_amount | sales_ratio | property_type | residential_type | non_use_code | assessor_remarks | opm_remarks          | longitude           | latitude           |\n",
    "|---------------|-----------|---------------|---------|--------------|----------------|-------------|-------------|---------------|------------------|--------------|------------------|----------------------|---------------------|--------------------|\n",
    "| 200594        | 2020      | 2021-02-16    | Danbury | 8 HICKORY ST | 121600.0       | 146216.0    | 0.8316463   | Residential   | Single Family    | 25 - Other   | I11192           | HOUSE HAS SETTLED... |            -73.44696|           41.41422 |\n",
    "\n",
    "[**sms_spam_collection**](https://archive.ics.uci.edu/dataset/228/sms+spam+collection)  \n",
    "GCS bucket path: gs://dataproc-metastore-public-binaries/sms_spam_collection/    \n",
    "- Format: .csv    \n",
    "- Metastore referece: public_datasets.sms_spam_collection   \n",
    "- Description: 5574 SMS messages (4827 ham and 747 spam)  \n",
    "\n",
    "|label|                text|\n",
    "|-----|--------------------|\n",
    "|  ham|Go until jurong p...|\n",
    "\n",
    "[**us_customer_price_index_yearly**](https://data.bls.gov/timeseries/CUUR0000SA0L1E?output_view=pct_12mths)  \n",
    "GCS bucket path: gs://dataproc-metastore-public-binaries/us_customer_price_index_yearly/    \n",
    "- Format: .csv    \n",
    "- Metastore referece: public_datasets.us_customer_price_index_yearly   \n",
    "- Description: Customer Price Indexes from 1913 to 2022  \n",
    "\n",
    "| Year | CPI   |\n",
    "|------|-------|\n",
    "| 2022 | 297.0 |\n",
    "\n",
    "[**ai4i_2020_predictive_maintenance**](https://archive.ics.uci.edu/dataset/601/ai4i+2020+predictive+maintenance+dataset)  \n",
    "GCS bucket path: gs://dataproc-metastore-public-binaries/ai4i_2020_predictive_maintenance/    \n",
    "- Format: .csv    \n",
    "- Metastore referece: public_datasets.ai4i_2020_predictive_maintenance   \n",
    "- Description: 10000 data points stored as rows with 14 features in columns   \n",
    "\n",
    "|udi|product_id|type|air_temperature_k|process_temperature_k|rotational_speed_rpm|torque_nm|tool_wear_min|machine_failure|twf|hdf|pwf|osf|rnf|\n",
    "|---|----------|----|-----------------|---------------------|--------------------|---------|-------------|---------------|---|---|---|---|---|\n",
    "|  1|    M14860|   M|            298.1|                308.6|                1551|     42.8|            0|              0|  0|  0|  0|  0|  0| 97.0 |\n",
    "\n",
    "[**stanford_online_products**](https://cvgl.stanford.edu/projects/lifted_struct/)   \n",
    "GCS bucket path: gs://dataproc-metastore-public-binaries/stanford_online_products/    \n",
    "- Format: .jpg    \n",
    "- Metastore referece: public_datasets.stanford_online_products   \n",
    "- Description: 120k images of 23k classes of online products   \n",
    "\n",
    "|                path|    modificationTime| length|\n",
    "|--------------------|--------------------|-------|\n",
    "|gs://dataproc-met...|2023-12-12 20:45:...|3051905|\n",
    "\n",
    "[**youtube_ucg**](https://media.withyoutube.com/)  \n",
    "GCS bucket path: gs://dataproc-metastore-public-binaries/youtube_ucg/\n",
    "- Format: .mp4\n",
    "- Metastore referece: public_datasets.youtube_ucg\n",
    "- Description: 20 youtube videos\n",
    "\n",
    "|                path|    modificationTime| length|\n",
    "|--------------------|--------------------|-------|\n",
    "|gs://dataproc-met...|2024-01-04 20:08:...|5051568|\n"
   ]
  },
  {
   "cell_type": "markdown",
   "id": "3c9fb208-2689-48b5-806d-6504a3212f25",
   "metadata": {
    "tags": []
   },
   "source": [
    "## Using Dataproc Metastore Public Datasets"
   ]
  },
  {
   "cell_type": "markdown",
   "id": "ca685386-aa7b-4a40-b083-a2c0cedeae7c",
   "metadata": {},
   "source": [
    "**Using Dataproc Jupyter Lab plugin**\n",
    "\n",
    "- Serverless Runtime:\n",
    "    1) Create New Runtime Template\n",
    "    2) In the Metastore section, select the **dataproc-workspaces-notebooks** GCP project\n",
    "    3) Select **projects/dataproc-workspaces-notebooks/locations/us-central1/services/public-metastore-v1**\n",
    "    4) Select this runtime as Jupyter Kernel\n",
    "\n",
    "<center><img src=\"../docs/create-runtime.png\"/></center>\n",
    "<center><img src=\"../docs/metastore-select.png\"/></center>"
   ]
  },
  {
   "cell_type": "markdown",
   "id": "0d816e14-f4f5-49cc-81ad-76f28a91b383",
   "metadata": {},
   "source": [
    "**Using Dataproc Cluster**\n",
    "\n",
    "Create a Dataproc Cluster with a Dataproc Metastore service attached to it, via the UI or the following gcloud command  \n",
    "\n",
    "1) Export variables\n",
    "```console\n",
    "export GCP_PROJECT=<your_gcp_project>\n",
    "export REGION=<your_region>\n",
    "export CLUSTER_IMAGE_VERSION=<your_image_version> # ex: 2.0-debian10\n",
    "export CLUSTER_NAME=<your_desired_cluster_name> # ex: cluster-with-federation\n",
    "export SERVICE_ACCOUNT=<your_service_account>\n",
    "```\n",
    "\n",
    "2) Create Dataproc cluster with a Dataproc Metastore service attached\n",
    "```console\n",
    "gcloud dataproc clusters create $CLUSTER_NAME \\\n",
    "    --region=$REGION \\\n",
    "    --project=$GCP_PROJECT \\\n",
    "    --service-account=$SERVICE_ACCOUNT \\\n",
    "    --image-version=$CLUSTER_IMAGE_VERSION \\\n",
    "    --scopes=https://www.googleapis.com/auth/cloud-platform \\\n",
    "    --enable-component-gateway \\\n",
    "    --optional-components JUPYTER \\\n",
    "    --dataproc-metastore projects/dataproc-workspaces-notebooks/locations/us-central1/services/metastore-dev\n",
    "\n",
    "# * For image version > 2.1, the --scopes=https://www.googleapis.com/auth/cloud-platform flag is not needed\n",
    "```"
   ]
  },
  {
   "cell_type": "markdown",
   "id": "92232ed2-c734-4463-82ff-e34a18f305b1",
   "metadata": {},
   "source": [
    "#### Use PySpark to list tables in the **public_datasets**:"
   ]
  },
  {
   "cell_type": "code",
   "execution_count": null,
   "id": "e03a39d4-d08f-4ceb-a11b-6cea8329ccb7",
   "metadata": {},
   "outputs": [],
   "source": [
    "from pyspark.sql import SparkSession"
   ]
  },
  {
   "cell_type": "code",
   "execution_count": null,
   "id": "a34ce061-651b-4fb9-88bb-bd59d4eaf2e0",
   "metadata": {},
   "outputs": [],
   "source": [
    "spark = SparkSession.builder \\\n",
    "    .appName(\"Dataproc Metastore Example\") \\\n",
    "    .enableHiveSupport() \\\n",
    "    .getOrCreate()"
   ]
  },
  {
   "cell_type": "markdown",
   "id": "0d6e6965-ae22-4cba-858d-12127502e9a8",
   "metadata": {
    "tags": []
   },
   "source": [
    "## Available tables"
   ]
  },
  {
   "cell_type": "code",
   "execution_count": null,
   "id": "8fc81e83-63af-4211-aa84-8417c9eb31c0",
   "metadata": {},
   "outputs": [],
   "source": [
    "spark.sql(\"SHOW TABLES IN public_datasets\").show()"
   ]
  },
  {
   "cell_type": "markdown",
   "id": "5c620942-9012-439c-9355-e193e9db8642",
   "metadata": {},
   "source": [
    "|       database|        tableName|isTemporary|\n",
    "|---------------|-----------------|-----------|\n",
    "|public_datasets|          cuad_v1|      false|\n",
    "|public_datasets|  winequality_red|      false|\n",
    "|public_datasets|winequality_white|      false|\n",
    "|public_datasets|real_estate_sales|      false|\n",
    "|public_datasets|sms_spam_collection|      false|\n",
    "|public_datasets|us_customer_price_index_yearly|      false|\n",
    "|public_datasets|ai4i_2020_predictive_maintenance|      false|\n",
    "|public_datasets|stanford_online_products|      false|\n",
    "|public_datasets|youtube_ucg|      false|"
   ]
  },
  {
   "cell_type": "markdown",
   "id": "18e0ae65-ba8d-47f2-ac54-dd9664acbfc5",
   "metadata": {
    "tags": []
   },
   "source": [
    "### Example 1) Contract Understanding Atticus Dataset (CUAD) - PDF files"
   ]
  },
  {
   "cell_type": "markdown",
   "id": "5d54457e-b43e-46a7-bdb8-dfbc1581f876",
   "metadata": {
    "tags": []
   },
   "source": [
    "#### How this dataset was created in the metastore\n",
    "\n",
    "Binary data metadata tables are created with Spark by using:  \n",
    "\n",
    "```\n",
    "binaries_tables_metadata = spark.read.format(\"binaryFile\").option(\"recursiveFileLookup\", \"true\").load(PUBLIC_DATASETS_BINARIES_BUCKET + \"/dataset/path/\")\n",
    "binaries_tables_metadata.write.mode('overwrite').saveAsTable(\"public_datasets.table_name\")\n",
    "```\n"
   ]
  },
  {
   "cell_type": "code",
   "execution_count": null,
   "id": "a29ee53c-cc25-4d47-9f7d-90355f6ec8f0",
   "metadata": {},
   "outputs": [],
   "source": [
    "cuad_v1 = spark.read.table(\"public_datasets.cuad_v1\")\n",
    "cuad_v1.show()"
   ]
  },
  {
   "cell_type": "markdown",
   "id": "81e5b1bb-86f2-4be5-b7cf-d0c58e29f83f",
   "metadata": {},
   "source": [
    "|                path|    modificationTime| length|             content|\n",
    "|--------------------|--------------------|-------|--------------------|\n",
    "|gs://dataproc-met...|2023-05-15 20:53:...|3683550|[25 50 44 46 2D 3...|\n",
    "|gs://dataproc-met...|2023-05-15 20:53:...|2881262|[25 50 44 46 2D 3...|\n",
    "|gs://dataproc-met...|2023-05-15 20:54:...|1778356|[25 50 44 46 2D 3...|\n",
    "|gs://dataproc-met...|2023-05-15 20:53:...|1557129|[25 50 44 46 2D 3...|\n",
    "|gs://dataproc-met...|2023-05-15 20:53:...|1452180|[25 50 44 46 2D 3...|"
   ]
  },
  {
   "cell_type": "markdown",
   "id": "1e79e397-ef37-47f5-a7a7-3f4e9c05627b",
   "metadata": {},
   "source": [
    "### Example 2) Wine Quality (Red and White)"
   ]
  },
  {
   "cell_type": "code",
   "execution_count": null,
   "id": "6d75db45-6855-4837-bac1-a6fdc9374bb7",
   "metadata": {},
   "outputs": [],
   "source": [
    "winequality_white = spark.read.table(\"public_datasets.winequality_white\")\n",
    "winequality_white.show()"
   ]
  },
  {
   "cell_type": "markdown",
   "id": "db69d8da-338e-499f-9000-f16386e7dfc7",
   "metadata": {},
   "source": [
    "|fixed_acidity|volatile_acidity|citric_acid|residual_sugar|chlorides|free_sulfur_dioxide|total_sulfur_dioxide|density|  pH|sulphates|alcohol|quality|\n",
    "|-------------|----------------|-----------|--------------|---------|-------------------|--------------------|-------|----|---------|-------|-------|\n",
    "|          7.0|            0.27|       0.36|          20.7|    0.045|               45.0|               170.0|  1.001| 3.0|     0.45|    8.8|      6|\n",
    "|          6.3|             0.3|       0.34|           1.6|    0.049|               14.0|               132.0|  0.994| 3.3|     0.49|    9.5|      6|\n",
    "|          8.1|            0.28|        0.4|           6.9|     0.05|               30.0|                97.0| 0.9951|3.26|     0.44|   10.1|      6|\n",
    "|          7.2|            0.23|       0.32|           8.5|    0.058|               47.0|               186.0| 0.9956|3.19|      0.4|    9.9|      6|\n",
    "|          7.2|            0.23|       0.32|           8.5|    0.058|               47.0|               186.0| 0.9956|3.19|      0.4|    9.9|      6|"
   ]
  },
  {
   "cell_type": "markdown",
   "id": "39669e53-437c-4977-91e9-94eb44bca90c",
   "metadata": {},
   "source": [
    "### Example 3) Real Estate Sales"
   ]
  },
  {
   "cell_type": "code",
   "execution_count": null,
   "id": "80c4a749-fd82-47f3-a9b5-a3d3d89b8ad4",
   "metadata": {},
   "outputs": [],
   "source": [
    "real_estate_sales = spark.read.table(\"public_datasets.real_estate_sales\")\n",
    "real_estate_sales.show()"
   ]
  },
  {
   "cell_type": "markdown",
   "id": "ed9b6574-a1b3-4e95-8a6c-715cc337b56b",
   "metadata": {},
   "source": [
    "| serial_number | list_year | date_recorded | town    | address              | assessed_value | sale_amount | sales_ratio | property_type | residential_type | non_use_code         | assessor_remarks     | opm_remarks          | longitude            | latitude           |\n",
    "|---------------|-----------|---------------|---------|----------------------|----------------|-------------|-------------|---------------|------------------|----------------------|----------------------|----------------------|----------------------|--------------------|\n",
    "| 200594        | 2020      | 2021-02-16    | Danbury | 8 HICKORY ST         | 121600.0       | 146216.0    | 0.8316463   | Residential   | Single Family    | 25 - Other           | I11192               | HOUSE HAS SETTLED... |            -73.44696 |           40.41404 |\n",
    "| 200562        | 2020      | 2021-02-03    | Danbury | 19  MILL RD          | 263600.0       | 415000.0    | 0.6351807   | Residential   | Single Family    | 25 - Other           | AFFORDABLE HOUSIN... | INCORRECT DATA PE... |            -23.42596 |           21.41424 |\n",
    "| 200968        | 2020      | 2021-05-24    | Danbury | 4A FLIRTATION DR     | 205700.0       | 515000.0    | 0.3994175   | Residential   | Single Family    | 07 - Change in Pr... | B17008               | UPDATED KITCHEN P... |            -73.55596 |           48.43564 |\n",
    "| 200260        | 2020      | 2020-11-23    | Danbury | 32 COALPIT HILL R... | 84900.0        | 181778.0    | 0.4670532   | Residential   | Condo            | 25 - Other           | J16087-4             | MULTIPLE UNIT SALE   |            -75.46666 |           75.56424 |\n",
    "| 200262        | 2020      | 2020-11-23    | Danbury | 32 COALPIT HILL R... | 84900.0        | 181778.0    | 0.4670532   | Residential   | Condo            | 25 - Other           | J16087-6             | MULTIPLE UNIT SALE   |            -13.44696 |           22.48524 |"
   ]
  },
  {
   "cell_type": "markdown",
   "id": "7ca29e3c",
   "metadata": {
    "collapsed": false,
    "jupyter": {
     "outputs_hidden": false
    }
   },
   "source": [
    "### Example 4) SMS Spam collection"
   ]
  },
  {
   "cell_type": "code",
   "execution_count": null,
   "id": "a9a554a2",
   "metadata": {
    "collapsed": false,
    "jupyter": {
     "outputs_hidden": false
    }
   },
   "outputs": [],
   "source": [
    "sms_spam_collection = spark.read.table(\"public_datasets.sms_spam_collection\")\n",
    "sms_spam_collection.show()"
   ]
  },
  {
   "cell_type": "markdown",
   "id": "6e83af91",
   "metadata": {
    "collapsed": false,
    "jupyter": {
     "outputs_hidden": false
    }
   },
   "source": [
    "|label|                text|\n",
    "|-----|--------------------|\n",
    "|  ham|Go until jurong p...|\n",
    "|  ham|Ok lar... Joking ...|\n",
    "| spam|Free entry in 2 a...|\n",
    "|  ham|U dun say so earl...|\n",
    "|  ham|Nah I don't think...|"
   ]
  },
  {
   "cell_type": "markdown",
   "id": "53cebc4f",
   "metadata": {
    "collapsed": false,
    "jupyter": {
     "outputs_hidden": false
    }
   },
   "source": [
    "### Example 5) US Customer Price Index Yearly"
   ]
  },
  {
   "cell_type": "code",
   "execution_count": null,
   "id": "6099607d",
   "metadata": {
    "collapsed": false,
    "jupyter": {
     "outputs_hidden": false
    }
   },
   "outputs": [],
   "source": [
    "us_customer_price_index_yearly = spark.read.table(\"public_datasets.us_customer_price_index_yearly\")\n",
    "us_customer_price_index_yearly.show()"
   ]
  },
  {
   "cell_type": "markdown",
   "id": "8a2ddb3c",
   "metadata": {
    "collapsed": false,
    "jupyter": {
     "outputs_hidden": false
    }
   },
   "source": [
    "|Year| CPI|\n",
    "|----|----|\n",
    "|1913| 9.9|\n",
    "|1914|10.0|\n",
    "|1915|10.1|\n",
    "|1916|10.9|\n",
    "|1917|12.8|"
   ]
  },
  {
   "cell_type": "markdown",
   "id": "c739d35b-357b-41c8-9b58-ddb0922c1ac1",
   "metadata": {},
   "source": [
    "### Example 6) AI4I 2020 Predictive Maintenance Dataset"
   ]
  },
  {
   "cell_type": "code",
   "execution_count": null,
   "id": "ef28d78d-4081-4ef2-bb00-61372c21060a",
   "metadata": {},
   "outputs": [],
   "source": [
    "predictive_maintenance = spark.read.table(\"public_datasets.ai4i_2020_predictive_maintenance\")\n",
    "predictive_maintenance.show()"
   ]
  },
  {
   "cell_type": "markdown",
   "id": "bbb5d3c7-30eb-491e-b106-3bb594998daf",
   "metadata": {},
   "source": [
    "|udi|product_id|type|air_temperature_k|process_temperature_k|rotational_speed_rpm|torque_nm|tool_wear_min|machine_failure|twf|hdf|pwf|osf|rnf|\n",
    "|---|----------|----|-----------------|---------------------|--------------------|---------|-------------|---------------|---|---|---|---|---|\n",
    "|  1|    M14860|   M|            298.1|                308.6|                1551|     42.8|            0|              0|  0|  0|  0|  0|  0|\n",
    "|  2|    L47181|   L|            298.2|                308.7|                1408|     46.3|            3|              0|  0|  0|  0|  0|  0|\n",
    "|  3|    L47182|   L|            298.1|                308.5|                1498|     49.4|            5|              0|  0|  0|  0|  0|  0|\n",
    "|  4|    L47183|   L|            298.2|                308.6|                1433|     39.5|            7|              0|  0|  0|  0|  0|  0|\n",
    "|  5|    L47184|   L|            298.2|                308.7|                1408|     40.0|            9|              0|  0|  0|  0|  0|  0|"
   ]
  },
  {
   "cell_type": "markdown",
   "id": "3b4d671a",
   "metadata": {
    "collapsed": false,
    "jupyter": {
     "outputs_hidden": false
    }
   },
   "source": [
    "### Example 7) Stanford Online Products"
   ]
  },
  {
   "cell_type": "code",
   "execution_count": null,
   "id": "ad7ef855",
   "metadata": {
    "collapsed": false,
    "jupyter": {
     "outputs_hidden": false
    }
   },
   "outputs": [],
   "source": [
    "stanford_online_products = spark.read.table(\"public_datasets.stanford_online_products\")\n",
    "stanford_online_products.show()"
   ]
  },
  {
   "cell_type": "markdown",
   "id": "13f695fc",
   "metadata": {
    "collapsed": false,
    "jupyter": {
     "outputs_hidden": false
    }
   },
   "source": [
    "|                path|    modificationTime| length|\n",
    "|--------------------|--------------------|-------|\n",
    "|gs://dataproc-met...|2023-12-12 20:45:...|3051905|\n",
    "|gs://dataproc-met...|2023-12-12 20:45:...|2998889|\n",
    "|gs://dataproc-met...|2023-12-12 20:44:...|2646343|\n",
    "|gs://dataproc-met...|2023-12-12 20:44:...|2605636|\n",
    "|gs://dataproc-met...|2023-12-12 20:45:...|2457016|"
   ]
  },
  {
   "cell_type": "markdown",
   "id": "926c0902-6e48-4025-84ef-b942f4532593",
   "metadata": {},
   "source": [
    "### Example 8) YouTube dataset - User Generated Content"
   ]
  },
  {
   "cell_type": "code",
   "execution_count": null,
   "id": "3eb4d133-afbb-4fa1-b621-1822f0f5080e",
   "metadata": {},
   "outputs": [],
   "source": [
    "stanford_online_products = spark.read.table(\"public_datasets.youtube_ucg\")\n",
    "stanford_online_products.show()"
   ]
  },
  {
   "cell_type": "markdown",
   "id": "5e7ae98c-7d7c-469d-a36c-6a5f1e7e65ac",
   "metadata": {},
   "source": [
    "|                path|    modificationTime| length|\n",
    "|--------------------|--------------------|-------|\n",
    "|gs://dataproc-met...|2024-01-04 20:08:...|5051568|\n",
    "|gs://dataproc-met...|2024-01-04 20:08:...|4450939|\n",
    "|gs://dataproc-met...|2024-01-04 20:08:...|2766749|\n",
    "|gs://dataproc-met...|2024-01-04 20:08:...|2525019|\n",
    "|gs://dataproc-met...|2024-01-04 20:08:...|2311945|\n",
    "|gs://dataproc-met...|2024-01-04 20:08:...|1682359|"
   ]
  }
 ],
 "metadata": {
  "kernelspec": {
   "display_name": "public-datasets-metastore2 on Serverless Spark (Remote)",
   "language": "python",
   "name": "9c39b79e5d2e7072beb4bd59-runtime-0000c0b4a290"
  },
  "language_info": {
   "codemirror_mode": {
    "name": "ipython",
    "version": 3
   },
   "file_extension": ".py",
   "mimetype": "text/x-python",
   "name": "python",
   "nbconvert_exporter": "python",
   "pygments_lexer": "ipython3",
   "version": "3.11.0"
  }
 },
 "nbformat": 4,
 "nbformat_minor": 5
}
