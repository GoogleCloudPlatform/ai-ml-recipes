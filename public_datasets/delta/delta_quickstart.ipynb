{
 "cells": [
  {
   "cell_type": "code",
   "execution_count": null,
   "id": "1d896dad-68b4-4405-8612-b8696fb68b03",
   "metadata": {},
   "outputs": [],
   "source": [
    "# Copyright 2023 Google LLC\n",
    "#\n",
    "# Licensed under the Apache License, Version 2.0 (the \"License\");\n",
    "# you may not use this file except in compliance with the License.\n",
    "# You may obtain a copy of the License at\n",
    "#\n",
    "#     https://www.apache.org/licenses/LICENSE-2.0\n",
    "#\n",
    "# Unless required by applicable law or agreed to in writing, software\n",
    "# distributed under the License is distributed on an \"AS IS\" BASIS,\n",
    "# WITHOUT WARRANTIES OR CONDITIONS OF ANY KIND, either express or implied.\n",
    "# See the License for the specific language governing permissions and\n",
    "# limitations under the License."
   ]
  },
  {
   "cell_type": "markdown",
   "id": "ff6ecae8-6c51-4611-bcfc-9bf71dce657b",
   "metadata": {},
   "source": [
    "# Delta files from Google Cloud Storage"
   ]
  },
  {
   "cell_type": "markdown",
   "id": "27f989cc-913d-4796-85a3-7d8705d40c89",
   "metadata": {},
   "source": [
    "In this quickstart, you'll learn how to seamlessly interact with data stored in the Delta Lake format on Google Cloud Storage (GCS).  \n",
    "We'll leverage the power of Dataproc Serverless runtimes, configured with the necessary Delta Lake libraries, to perform common data operations.  "
   ]
  },
  {
   "cell_type": "markdown",
   "id": "bc3f3b77-83b6-4be6-8b60-fe0d350e5c86",
   "metadata": {},
   "source": [
    "When creating a Dataproc Runtime Template using the Dataproc Jupyterlab Plugin, setup the following Spark property:\n",
    "\n",
    "**spark.jars**  \n",
    "gs://dataproc-metastore-public-binaries/dependencies/delta-storage-3.1.0.jar,gs://dataproc-metastore-public-binaries/dependencies/delta-spark_2.13-3.1.0.jar\n",
    "\n",
    "<center><img src=\"../docs/delta-jars.png\" width=\"20%\" height=\"20%\"/></center>\n"
   ]
  },
  {
   "cell_type": "code",
   "execution_count": null,
   "id": "39bc5ec2-d9fe-4e4a-8606-c3b9ee0ac6d1",
   "metadata": {
    "tags": []
   },
   "outputs": [],
   "source": [
    "from pyspark.sql import SparkSession"
   ]
  },
  {
   "cell_type": "code",
   "execution_count": null,
   "id": "1ce62d5e-ef60-4074-89ad-e11740407c3c",
   "metadata": {
    "tags": []
   },
   "outputs": [],
   "source": [
    "spark = SparkSession.builder \\\n",
    "  .appName(\"delta\") \\\n",
    "  .config(\"spark.sql.extensions\", \"io.delta.sql.DeltaSparkSessionExtension\") \\\n",
    "  .config(\"spark.sql.catalog.spark_catalog\", \"org.apache.spark.sql.delta.catalog.DeltaCatalog\") \\\n",
    "  .enableHiveSupport() \\\n",
    "  .getOrCreate()"
   ]
  },
  {
   "cell_type": "markdown",
   "id": "bf5eba75-792f-4974-a8f6-0d7dbf3a12ee",
   "metadata": {},
   "source": [
    "#### You can read a dataset in the delta format from our public datasets"
   ]
  },
  {
   "cell_type": "code",
   "execution_count": null,
   "id": "2416d16a-38aa-4345-80c2-5e3239bcc405",
   "metadata": {
    "tags": []
   },
   "outputs": [],
   "source": [
    "df = spark.read.format(\"delta\").option(\"header\",True).load(\"gs://dataproc-metastore-public-binaries/gas_sensors\")"
   ]
  },
  {
   "cell_type": "code",
   "execution_count": 12,
   "id": "909d3afe-4e3e-4d3b-ad47-fb9a24944d63",
   "metadata": {
    "tags": []
   },
   "outputs": [
    {
     "name": "stderr",
     "output_type": "stream",
     "text": [
      "[Stage 14:>                                                         (0 + 1) / 1]\r"
     ]
    },
    {
     "name": "stdout",
     "output_type": "stream",
     "text": [
      "+------+------+----------+------------+-------------+--------------+-------+-------+-------+-------+-------+-------+-------+-------+------+-------+-------+-------+-------+-------+\n",
      "| Times| COppm|Humidityrh|TemperatureC|FlowratemLmin|HeatervoltageV| R1MOhm| R2MOhm| R3MOhm| R4MOhm| R5MOhm| R6MOhm| R7MOhm| R8MOhm|R9MOhm|R10MOhm|R11MOhm|R12MOhm|R13MOhm|R14MOhm|\n",
      "+------+------+----------+------------+-------------+--------------+-------+-------+-------+-------+-------+-------+-------+-------+------+-------+-------+-------+-------+-------+\n",
      "|0.0000|0.0000|   32.7023|      9.9032|     240.8069|        0.8900| 0.0738| 0.1314| 0.0987| 0.0936| 0.1026| 0.1152| 0.1105| 0.0891|0.0951| 0.1083| 0.1037| 0.1009| 0.0927| 0.1009|\n",
      "|0.3070|0.0000|   45.5699|     13.7998|     240.8029|        0.8950| 0.0786| 0.1286| 0.1019| 0.0932| 0.1051| 0.1129| 0.1128| 0.0905|0.0958| 0.1103| 0.1043| 0.1025| 0.0942| 0.1020|\n",
      "|0.6170|0.0000|   58.5539|     17.7318|     240.7989|        0.8979| 0.0816| 0.1287| 0.1052| 0.0940| 0.1075| 0.1128| 0.1149| 0.0918|0.0966| 0.1119| 0.1050| 0.1036| 0.0958| 0.1028|\n",
      "|0.9240|0.0000|   71.4123|     21.6256|     240.7949|        0.8971| 0.0834| 0.1303| 0.1083| 0.0954| 0.1100| 0.1138| 0.1172| 0.0928|0.0972| 0.1130| 0.1054| 0.1044| 0.0968| 0.1033|\n",
      "|1.2340|0.0000|   83.8100|     25.3800|     240.7917|        0.8980| 0.0851| 0.1324| 0.1112| 0.0967| 0.1120| 0.1151| 0.1194| 0.0936|0.0976| 0.1138| 0.1057| 0.1049| 0.0975| 0.1038|\n",
      "|1.5410|0.0000|   83.8100|     25.3800|     240.8061|        0.8986| 0.0867| 0.1343| 0.1138| 0.0981| 0.1139| 0.1165| 0.1213| 0.0942|0.0980| 0.1144| 0.1058| 0.1053| 0.0980| 0.1041|\n",
      "|1.8500|0.0000|   83.8100|     25.3800|     240.8206|        0.8986| 0.0879| 0.1363| 0.1160| 0.0992| 0.1156| 0.1178| 0.1233| 0.0947|0.0981| 0.1148| 0.1059| 0.1058| 0.0985| 0.1045|\n",
      "|2.1600|0.0000|   83.8100|     25.3800|     240.8351|        0.8980| 0.0891| 0.1382| 0.1179| 0.1005| 0.1171| 0.1191| 0.1246| 0.0952|0.0983| 0.1152| 0.1062| 0.1060| 0.0988| 0.1046|\n",
      "|2.4690|0.0000|   83.8100|     25.3800|     240.8095|        0.8990| 0.0901| 0.1399| 0.1199| 0.1017| 0.1187| 0.1202| 0.1260| 0.0955|0.0985| 0.1153| 0.1062| 0.1062| 0.0992| 0.1047|\n",
      "|2.7790|0.0000|   83.8100|     25.3800|     240.7742|        0.8982| 0.0912| 0.1413| 0.1213| 0.1025| 0.1200| 0.1212| 0.1274| 0.0958|0.0986| 0.1155| 0.1064| 0.1063| 0.0993| 0.1047|\n",
      "|3.0870|0.0000|   83.8100|     25.3800|     240.7391|        0.8980| 0.0921| 0.1427| 0.1227| 0.1034| 0.1210| 0.1223| 0.1287| 0.0960|0.0987| 0.1156| 0.1064| 0.1062| 0.0996| 0.1050|\n",
      "|3.3950|0.0000|   83.8100|     25.3800|     240.7126|        0.8985| 0.0929| 0.1439| 0.1239| 0.1042| 0.1220| 0.1231| 0.1296| 0.0963|0.0987| 0.1157| 0.1064| 0.1064| 0.0997| 0.1049|\n",
      "|3.7050|0.0000|   83.8100|     25.3800|     240.6926|        0.8987| 0.0935| 0.1449| 0.1250| 0.1049| 0.1232| 0.1239| 0.1305| 0.0964|0.0989| 0.1160| 0.1064| 0.1064| 0.0998| 0.1050|\n",
      "|4.0140|0.0000|   83.8100|     25.3800|     240.6727|        0.8989| 0.0943| 0.1459| 0.1259| 0.1054| 0.1240| 0.1247| 0.1312| 0.0966|0.0989| 0.1160| 0.1064| 0.1066| 0.1001| 0.1050|\n",
      "|4.3240|0.0000|   83.8100|     25.3800|     240.5931|        0.8989| 0.0466| 0.1156| 0.1690| 0.1254| 0.2043| 0.2216| 0.3484| 0.0504|0.0766| 0.0922| 0.1247| 0.2414| 0.3472| 0.3945|\n",
      "|4.6320|0.0000|   83.8100|     25.3800|     240.3968|        0.2145| 0.5282| 1.3696| 2.1067| 1.3942| 2.1740| 2.3478| 3.3552| 1.2307|1.4607| 1.5965| 2.1389| 3.0161| 2.5474| 3.7923|\n",
      "|4.9420|0.0000|   83.8100|     25.3800|     240.1993|        0.2086| 3.7298| 8.2674|13.1529| 6.0058|11.8716|12.7666|14.4640| 6.6633|3.8494| 6.8522| 7.6493| 8.5120| 4.9330| 9.7929|\n",
      "|5.2510|0.0000|   83.8100|     25.3800|     240.0265|        0.2054|14.7138|23.2612|38.2646|10.7780|30.5816|33.8751|28.3469|12.6446|4.6007|11.7875|12.4514|12.2611| 6.0285|13.5886|\n",
      "|5.5600|0.0000|   83.8100|     25.3800|     240.0695|        0.2040|32.2705|35.0387|55.9066|12.5126|42.6025|50.4951|36.4079|15.6132|4.8126|14.9881|15.0335|14.7836| 6.5424|15.4479|\n",
      "|5.8690|0.0000|   83.8100|     25.3800|     240.1125|        0.2020|47.1199|39.3933|62.7987|13.1948|47.7793|58.8476|38.5320|16.9213|4.8828|16.6823|16.9441|16.2255| 6.7701|16.6882|\n",
      "+------+------+----------+------------+-------------+--------------+-------+-------+-------+-------+-------+-------+-------+-------+------+-------+-------+-------+-------+-------+\n",
      "only showing top 20 rows\n",
      "\n"
     ]
    },
    {
     "name": "stderr",
     "output_type": "stream",
     "text": [
      "                                                                                \r"
     ]
    }
   ],
   "source": [
    "df.show()"
   ]
  },
  {
   "cell_type": "markdown",
   "id": "52939565-a2a7-43d3-9f21-690d8117f9b4",
   "metadata": {},
   "source": [
    "#### You can write transformed data to your bucket in the delta format like this:"
   ]
  },
  {
   "cell_type": "markdown",
   "id": "bba858c1-d1b1-4042-9608-35b0dc381569",
   "metadata": {},
   "source": [
    "df.write.mode(\"append\").format(\"delta\").save(\"gs://\\<YOUR_GCS_BUCKET\\>/\\<PATH\\>/\")"
   ]
  }
 ],
 "metadata": {
  "environment": {
   "kernel": "9c39b79e5d2e7072beb4bd59-delta-runtime",
   "name": "workbench-notebooks.m120",
   "type": "gcloud",
   "uri": "us-docker.pkg.dev/deeplearning-platform-release/gcr.io/workbench-notebooks:m120"
  },
  "kernelspec": {
   "display_name": "delta-runtime on Serverless Spark (Remote)",
   "language": "python",
   "name": "9c39b79e5d2e7072beb4bd59-delta-runtime"
  },
  "language_info": {
   "codemirror_mode": {
    "name": "ipython",
    "version": 3
   },
   "file_extension": ".py",
   "mimetype": "text/x-python",
   "name": "python",
   "nbconvert_exporter": "python",
   "pygments_lexer": "ipython3",
   "version": "3.12.3"
  }
 },
 "nbformat": 4,
 "nbformat_minor": 5
}
