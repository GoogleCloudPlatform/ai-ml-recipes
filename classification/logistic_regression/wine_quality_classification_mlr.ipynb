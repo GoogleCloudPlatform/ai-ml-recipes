{
 "cells": [
  {
   "cell_type": "markdown",
   "id": "a0293b07-d50b-440f-a8e9-255aa925a6d2",
   "metadata": {
    "tags": []
   },
   "source": [
    "# Wine Quality Classification"
   ]
  },
  {
   "cell_type": "markdown",
   "id": "7bb9457a-4696-4ebb-bb20-697436d93e82",
   "metadata": {},
   "source": [
    "## 1. Overview"
   ]
  },
  {
   "cell_type": "markdown",
   "id": "e59039a0-b3c3-4023-830f-662605bea056",
   "metadata": {
    "jp-MarkdownHeadingCollapsed": true,
    "tags": []
   },
   "source": [
    "### Multinomial Logistic Regression\n",
    "\n",
    "<strong>Type</strong>: Classification </p>\n",
    "<strong>UCI Open Source Dataset</strong>: [Wine Quality](https://archive.ics.uci.edu/dataset/186/wine+quality) </p>\n",
    "\n",
    "This dataset contains red and white vinho verde wine samples, from the north of Portugal, and wine quality data based on physicochemical tests [Cortez et al., 2009](http://www3.dsi.uminho.pt/pcortez/wine/). \n",
    "\n",
    "<strong>Problem</strong>: Imagine you are a wine specialist who is looking for an automated way to categorize the wines you find based on wine quality data from physicochemical tests. You could use a machine learning algorithm to train a model that would be able to predict the quality of a wine based on its physicochemical properties. This would allow you to quickly and easily categorize new wines that you find, without having to manually taste them.\n",
    "\n",
    "Here are some of the benefits of using an automated wine categorization system:\n",
    "\n",
    "- <strong>Speed</strong>: An automated system can categorize wines much faster than a human can. This is especially beneficial for wine retailers and distributors who need to quickly categorize large numbers of wines.\n",
    "- <strong>Accuracy</strong>: An automated system can be more accurate than a human when it comes to categorizing wines. This is because the system is not influenced by personal biases or preferences.\n",
    "- <strong>Consistency</strong>: An automated system will consistently categorize wines in the same way, which can help to ensure that customers are getting the wines they expect.\n",
    "\n",
    "If you are a wine specialist who is looking for an efficient and accurate way to categorize wines, then an automated system may be the perfect solution for you."
   ]
  },
  {
   "cell_type": "markdown",
   "id": "1f8e5893-eb68-4721-b083-da5b40f78ac4",
   "metadata": {},
   "source": [
    "## 2. Setup"
   ]
  },
  {
   "cell_type": "code",
   "execution_count": 1,
   "id": "5377b0f3-bfdd-4153-a4b4-889962048eb4",
   "metadata": {},
   "outputs": [],
   "source": [
    "from google.cloud import storage, aiplatform, exceptions\n",
    "from pyspark.sql import SparkSession"
   ]
  },
  {
   "cell_type": "markdown",
   "id": "16aae3c7-b31d-42d6-bbe1-defe4057b24f",
   "metadata": {},
   "source": [
    "### Download the dataset"
   ]
  },
  {
   "cell_type": "code",
   "execution_count": 2,
   "id": "b252e0d9-a2a9-4cb4-944b-ee1cc5e9132e",
   "metadata": {},
   "outputs": [],
   "source": [
    "TRAIN_DATASET_URL = \"http://www3.dsi.uminho.pt/pcortez/wine/winequality.zip\"\n",
    "BUCKET_NAME = \"dataproc-workspaces-notebooks-wine-quality\""
   ]
  },
  {
   "cell_type": "markdown",
   "id": "3ec9ea5e-8d93-49bc-ad30-3801391a9408",
   "metadata": {
    "tags": []
   },
   "source": [
    "#### Create a bucket to handle training"
   ]
  },
  {
   "cell_type": "code",
   "execution_count": 3,
   "id": "a3d1df4a-67b9-4a9b-9873-b217489f1d90",
   "metadata": {},
   "outputs": [
    {
     "name": "stdout",
     "output_type": "stream",
     "text": [
      "Bucket dataproc-workspaces-notebooks-wine-quality already created\n"
     ]
    }
   ],
   "source": [
    "# Creating directory to store dataset\n",
    "def create_bucket_class_location(bucket_name):\n",
    "    storage_client = storage.Client()\n",
    "    bucket = storage_client.bucket(bucket_name)\n",
    "    bucket.storage_class = \"STANDARD\"\n",
    "    try:\n",
    "        new_bucket = storage_client.create_bucket(bucket, location=\"us\")\n",
    "        print(\n",
    "            \"Created bucket {} in {} with storage class {}\".format(\n",
    "                new_bucket.name, new_bucket.location, new_bucket.storage_class\n",
    "            )\n",
    "        )\n",
    "        return new_bucket\n",
    "    except exceptions.Conflict:\n",
    "        print(\n",
    "            \"Bucket {} already created\".format(bucket_name)\n",
    "        )\n",
    "    finally:\n",
    "        return bucket_name\n",
    "\n",
    "bucket_name = create_bucket_class_location(BUCKET_NAME)"
   ]
  },
  {
   "cell_type": "code",
   "execution_count": 4,
   "id": "2e1e48f9-9ed1-467f-bc57-8ea8aff89704",
   "metadata": {},
   "outputs": [
    {
     "name": "stdout",
     "output_type": "stream",
     "text": [
      "--2023-06-22 17:26:39--  http://www3.dsi.uminho.pt/pcortez/wine/winequality.zip\n",
      "Resolving www3.dsi.uminho.pt (www3.dsi.uminho.pt)... 193.136.11.133\n",
      "Connecting to www3.dsi.uminho.pt (www3.dsi.uminho.pt)|193.136.11.133|:80... connected.\n",
      "HTTP request sent, awaiting response... 200 OK\n",
      "Length: 96005 (94K) [application/x-zip-compressed]\n",
      "Saving to: ‘winequality.zip.34’\n",
      "\n",
      "winequality.zip.34  100%[===================>]  93.75K   414KB/s    in 0.2s    \n",
      "\n",
      "2023-06-22 17:26:40 (414 KB/s) - ‘winequality.zip.34’ saved [96005/96005]\n",
      "\n",
      "Archive:  winequality.zip\n",
      "  inflating: winequality/winequality-names.txt  \n",
      "  inflating: winequality/winequality-names.txt.bak  \n",
      "  inflating: winequality/winequality-red.csv  \n",
      "  inflating: winequality/winequality-white.csv  \n",
      "Copying file://winequality/winequality-names.txt [Content-Type=text/plain]...\n",
      "Copying file://winequality/winequality-names.txt.bak [Content-Type=application/x-trash]...\n",
      "Copying file://winequality/winequality-red.csv [Content-Type=text/csv]...       \n",
      "Copying file://winequality/winequality-white.csv [Content-Type=text/csv]...     \n",
      "- [4 files][346.0 KiB/346.0 KiB]                                                \n",
      "Operation completed over 4 objects/346.0 KiB.                                    \n"
     ]
    }
   ],
   "source": [
    "# Download the raw .zip data by copying the data to cloud storage bucket.\n",
    "!wget $TRAIN_DATASET_URL\n",
    "!unzip -o winequality.zip \n",
    "!gsutil cp winequality/* gs://$BUCKET_NAME"
   ]
  },
  {
   "cell_type": "markdown",
   "id": "7cd099d7-9b79-412f-9cc6-421b281b2d14",
   "metadata": {
    "tags": []
   },
   "source": [
    "## 3. Exploratory Data Analysis"
   ]
  },
  {
   "cell_type": "code",
   "execution_count": 5,
   "id": "5eee0eaa-4890-4a7a-bd96-fb59ee658b38",
   "metadata": {},
   "outputs": [],
   "source": [
    "spark = SparkSession.builder \\\n",
    "    .appName(\"Multinomial logistic regression Wine Quality\") \\\n",
    "    .enableHiveSupport() \\\n",
    "    .getOrCreate()"
   ]
  },
  {
   "cell_type": "markdown",
   "id": "29a095a2-a582-4360-8aca-310be6635296",
   "metadata": {},
   "source": [
    "### Import and parse the training dataset"
   ]
  },
  {
   "cell_type": "code",
   "execution_count": 6,
   "id": "cd0a6ea6-95f7-44cb-bcef-e25132b5463d",
   "metadata": {},
   "outputs": [
    {
     "name": "stderr",
     "output_type": "stream",
     "text": [
      "                                                                                \r"
     ]
    }
   ],
   "source": [
    "df = (\n",
    "    spark.read.\\\n",
    "    options(inferSchema='True',delimiter=';',header='True'). \\\n",
    "    csv(\"gs://{}/winequality-white.csv\".\n",
    "        format(BUCKET_NAME)\n",
    "       )\n",
    "     )"
   ]
  },
  {
   "cell_type": "code",
   "execution_count": 7,
   "id": "26707730-739c-4946-aa4b-1d8375b68c86",
   "metadata": {
    "tags": []
   },
   "outputs": [
    {
     "name": "stdout",
     "output_type": "stream",
     "text": [
      "+-------------+----------------+-----------+--------------+---------+-------------------+--------------------+-------+----+---------+-------+-------+\n",
      "|fixed acidity|volatile acidity|citric acid|residual sugar|chlorides|free sulfur dioxide|total sulfur dioxide|density|  pH|sulphates|alcohol|quality|\n",
      "+-------------+----------------+-----------+--------------+---------+-------------------+--------------------+-------+----+---------+-------+-------+\n",
      "|          7.0|            0.27|       0.36|          20.7|    0.045|               45.0|               170.0|  1.001| 3.0|     0.45|    8.8|      6|\n",
      "|          6.3|             0.3|       0.34|           1.6|    0.049|               14.0|               132.0|  0.994| 3.3|     0.49|    9.5|      6|\n",
      "|          8.1|            0.28|        0.4|           6.9|     0.05|               30.0|                97.0| 0.9951|3.26|     0.44|   10.1|      6|\n",
      "+-------------+----------------+-----------+--------------+---------+-------------------+--------------------+-------+----+---------+-------+-------+\n",
      "only showing top 3 rows\n",
      "\n"
     ]
    }
   ],
   "source": [
    "df.show(3)"
   ]
  },
  {
   "cell_type": "markdown",
   "id": "ee393d03-4f05-42ce-b9bd-d773a57f6494",
   "metadata": {},
   "source": [
    "### DataFrame Column Data Types"
   ]
  },
  {
   "cell_type": "markdown",
   "id": "4c94e725-fedf-4eef-9ba7-b3b8810f3012",
   "metadata": {},
   "source": [
    "DataFrames may have heterogenous or \"mixed\" data types, that is, some columns are numbers, some are strings, and some are dates etc. Because CSV files do not contain information on what data types are contained in each column, Pandas infers the data types when loading the data, e.g. if a column contains only numbers, Pandas will set that column’s data type to numeric: integer or float.\n",
    "\n",
    "Run the next cell to see information on the DataFrame."
   ]
  },
  {
   "cell_type": "code",
   "execution_count": 8,
   "id": "3649f263-ea02-4660-91bf-5cec489dd1fd",
   "metadata": {},
   "outputs": [
    {
     "name": "stdout",
     "output_type": "stream",
     "text": [
      "root\n",
      " |-- fixed acidity: double (nullable = true)\n",
      " |-- volatile acidity: double (nullable = true)\n",
      " |-- citric acid: double (nullable = true)\n",
      " |-- residual sugar: double (nullable = true)\n",
      " |-- chlorides: double (nullable = true)\n",
      " |-- free sulfur dioxide: double (nullable = true)\n",
      " |-- total sulfur dioxide: double (nullable = true)\n",
      " |-- density: double (nullable = true)\n",
      " |-- pH: double (nullable = true)\n",
      " |-- sulphates: double (nullable = true)\n",
      " |-- alcohol: double (nullable = true)\n",
      " |-- quality: integer (nullable = true)\n",
      "\n"
     ]
    }
   ],
   "source": [
    "df.printSchema()"
   ]
  },
  {
   "cell_type": "markdown",
   "id": "329201b2-9b22-4c41-940f-cefdfc92b525",
   "metadata": {},
   "source": [
    "### Summary Statistics \n",
    "\n",
    "At this point, we have all columns contains numerical values. For features which contain numerical values, we are often interested in various statistical measures relating to those values."
   ]
  },
  {
   "cell_type": "code",
   "execution_count": 9,
   "id": "b9378955-696c-4a1f-a44f-6401dbd5d5e2",
   "metadata": {},
   "outputs": [
    {
     "name": "stderr",
     "output_type": "stream",
     "text": [
      "[Stage 3:>                                                          (0 + 1) / 1]\r"
     ]
    },
    {
     "name": "stdout",
     "output_type": "stream",
     "text": [
      "+-------+------------------+-------------------+-------------------+-----------------+--------------------+-------------------+--------------------+--------------------+-------------------+-------------------+------------------+------------------+\n",
      "|summary|     fixed acidity|   volatile acidity|        citric acid|   residual sugar|           chlorides|free sulfur dioxide|total sulfur dioxide|             density|                 pH|          sulphates|           alcohol|           quality|\n",
      "+-------+------------------+-------------------+-------------------+-----------------+--------------------+-------------------+--------------------+--------------------+-------------------+-------------------+------------------+------------------+\n",
      "|  count|              4898|               4898|               4898|             4898|                4898|               4898|                4898|                4898|               4898|               4898|              4898|              4898|\n",
      "|   mean| 6.854787668436075|0.27824111882401087|0.33419150673743736|6.391414863209486|  0.0457723560636995|  35.30808493262556|  138.36065741118824|  0.9940273764801896| 3.1882666394446693| 0.4898468762760325|10.514267047774638|  5.87790935075541|\n",
      "| stddev|0.8438682276875127|0.10079454842486532|0.12101980420298254|5.072057784014878|0.021847968093728805|  17.00713732523259|  42.498064554142985|0.002990906916936997|0.15100059961506673|0.11412583394883222|  1.23062056775732|0.8856385749678322|\n",
      "|    min|               3.8|               0.08|                0.0|              0.6|               0.009|                2.0|                 9.0|             0.98711|               2.72|               0.22|               8.0|                 3|\n",
      "|    max|              14.2|                1.1|               1.66|             65.8|               0.346|              289.0|               440.0|             1.03898|               3.82|               1.08|              14.2|                 9|\n",
      "+-------+------------------+-------------------+-------------------+-----------------+--------------------+-------------------+--------------------+--------------------+-------------------+-------------------+------------------+------------------+\n",
      "\n"
     ]
    },
    {
     "name": "stderr",
     "output_type": "stream",
     "text": [
      "                                                                                \r"
     ]
    }
   ],
   "source": [
    "df.describe().show()"
   ]
  },
  {
   "cell_type": "markdown",
   "id": "ff21c0b9-1b62-4e4c-b9c8-673d802ef0c5",
   "metadata": {},
   "source": [
    "Let's investigate a bit more of our target data by using the .groupby() function."
   ]
  },
  {
   "cell_type": "code",
   "execution_count": 10,
   "id": "02466b00-d9ba-4a5f-b47e-e3c83982253b",
   "metadata": {},
   "outputs": [],
   "source": [
    "from pyspark.sql.functions import col, countDistinct, isnan, sum, when, count\n",
    "import pyspark.sql.functions as F"
   ]
  },
  {
   "cell_type": "code",
   "execution_count": 11,
   "id": "f60cd56e-1d9f-43f3-84f4-8a0b696a620b",
   "metadata": {},
   "outputs": [
    {
     "name": "stderr",
     "output_type": "stream",
     "text": [
      "                                                                                \r"
     ]
    },
    {
     "name": "stdout",
     "output_type": "stream",
     "text": [
      "+-------+-----+\n",
      "|quality|count|\n",
      "+-------+-----+\n",
      "|      6| 2198|\n",
      "|      3|   20|\n",
      "|      5| 1457|\n",
      "|      9|    5|\n",
      "|      4|  163|\n",
      "|      8|  175|\n",
      "|      7|  880|\n",
      "+-------+-----+\n",
      "\n"
     ]
    }
   ],
   "source": [
    "df.groupby(\n",
    "    col('quality')).\\\n",
    "    count().\\\n",
    "    show()"
   ]
  },
  {
   "cell_type": "markdown",
   "id": "658e23ae-3904-4fdc-99b7-539cf4aa5609",
   "metadata": {},
   "source": [
    "We can see here that the data is <b>imbalanced</b> for our target. <b>Imbalanced</b> data is a common problem in machine learning, where the number of samples in one class is much larger than the number of samples in another class. This can make it difficult to train a model that can accurately predict the minority class. There are a number of techniques that can be used to handle imbalanced data, including:\n",
    "\n",
    "- <b>Resampling</b>: This involves increasing the number of samples in the minority class or decreasing the number of samples in the majority class. This can be done by oversampling the minority class (creating new samples), undersampling the majority class (removing samples), or a combination of both.\n",
    "- <b>Cost-sensitive learning</b>: This involves assigning different costs to misclassifications of different classes. This can help to focus the model on correctly classifying the minority class.\n",
    "- <b>Ensemble learning</b>: This involves training multiple models on different subsets of the data and then combining the predictions of the models. This can help to improve the accuracy of the model on the minority class."
   ]
  },
  {
   "cell_type": "markdown",
   "id": "101507c8-b4ab-432d-8b0f-0eaeadbc55d7",
   "metadata": {},
   "source": [
    "We need to <b>resample</b> the data to balance the dataset. However, before we do that, we need to check if there are any issues with the data that need to be resolved. For example, we need to make sure that there are no missing values in the data. We also need to make sure that the data is not corrupted. Once we have resolved any issues with the data, we can then resample it to balance the dataset."
   ]
  },
  {
   "cell_type": "markdown",
   "id": "0974fcc1-3ed1-4e6d-a9ee-a7cea7733e4b",
   "metadata": {},
   "source": [
    "### DataFrame Column Data Types"
   ]
  },
  {
   "cell_type": "markdown",
   "id": "74c4609c-a771-41c8-ac8f-042b59779f85",
   "metadata": {},
   "source": [
    "DataFrames may have heterogenous or \"mixed\" data types, that is, some columns are numbers, some are strings, and some are dates etc. Because CSV files do not contain information on what data types are contained in each column, Pandas infers the data types when loading the data, e.g. if a column contains only numbers, Pandas will set that column’s data type to numeric: integer or float.\n",
    "\n",
    "Run the next cell to see information on the DataFrame."
   ]
  },
  {
   "cell_type": "code",
   "execution_count": 12,
   "id": "98cd535f-51d2-4b47-922a-9ae8d95df88b",
   "metadata": {},
   "outputs": [
    {
     "name": "stdout",
     "output_type": "stream",
     "text": [
      "root\n",
      " |-- fixed acidity: double (nullable = true)\n",
      " |-- volatile acidity: double (nullable = true)\n",
      " |-- citric acid: double (nullable = true)\n",
      " |-- residual sugar: double (nullable = true)\n",
      " |-- chlorides: double (nullable = true)\n",
      " |-- free sulfur dioxide: double (nullable = true)\n",
      " |-- total sulfur dioxide: double (nullable = true)\n",
      " |-- density: double (nullable = true)\n",
      " |-- pH: double (nullable = true)\n",
      " |-- sulphates: double (nullable = true)\n",
      " |-- alcohol: double (nullable = true)\n",
      " |-- quality: integer (nullable = true)\n",
      "\n"
     ]
    }
   ],
   "source": [
    "df.printSchema()"
   ]
  },
  {
   "cell_type": "markdown",
   "id": "089dd53c-3a65-4c1e-90cc-452252dd13b7",
   "metadata": {},
   "source": [
    "### Summary Statistics \n",
    "\n",
    "At this point, we have all columns contains numerical values. For features which contain numerical values, we are often interested in various statistical measures relating to those values."
   ]
  },
  {
   "cell_type": "code",
   "execution_count": 13,
   "id": "ceddaed6-39a8-400e-8a51-743b030d19d0",
   "metadata": {},
   "outputs": [
    {
     "name": "stdout",
     "output_type": "stream",
     "text": [
      "+-------+------------------+-------------------+-------------------+-----------------+--------------------+-------------------+--------------------+--------------------+-------------------+-------------------+------------------+------------------+\n",
      "|summary|     fixed acidity|   volatile acidity|        citric acid|   residual sugar|           chlorides|free sulfur dioxide|total sulfur dioxide|             density|                 pH|          sulphates|           alcohol|           quality|\n",
      "+-------+------------------+-------------------+-------------------+-----------------+--------------------+-------------------+--------------------+--------------------+-------------------+-------------------+------------------+------------------+\n",
      "|  count|              4898|               4898|               4898|             4898|                4898|               4898|                4898|                4898|               4898|               4898|              4898|              4898|\n",
      "|   mean| 6.854787668436075|0.27824111882401087|0.33419150673743736|6.391414863209486|  0.0457723560636995|  35.30808493262556|  138.36065741118824|  0.9940273764801896| 3.1882666394446693| 0.4898468762760325|10.514267047774638|  5.87790935075541|\n",
      "| stddev|0.8438682276875127|0.10079454842486532|0.12101980420298254|5.072057784014878|0.021847968093728805|  17.00713732523259|  42.498064554142985|0.002990906916936997|0.15100059961506673|0.11412583394883222|  1.23062056775732|0.8856385749678322|\n",
      "|    min|               3.8|               0.08|                0.0|              0.6|               0.009|                2.0|                 9.0|             0.98711|               2.72|               0.22|               8.0|                 3|\n",
      "|    max|              14.2|                1.1|               1.66|             65.8|               0.346|              289.0|               440.0|             1.03898|               3.82|               1.08|              14.2|                 9|\n",
      "+-------+------------------+-------------------+-------------------+-----------------+--------------------+-------------------+--------------------+--------------------+-------------------+-------------------+------------------+------------------+\n",
      "\n"
     ]
    }
   ],
   "source": [
    "df.describe().show()"
   ]
  },
  {
   "cell_type": "markdown",
   "id": "8ab092e4-ed42-48fc-bb58-e277cf8d145d",
   "metadata": {},
   "source": [
    "Let's investigate a bit more of our target data by using the .groupby() function."
   ]
  },
  {
   "cell_type": "code",
   "execution_count": 14,
   "id": "78be86e2-2c53-43e1-969b-669a00ccf8ea",
   "metadata": {
    "tags": []
   },
   "outputs": [],
   "source": [
    "from pyspark.sql.functions import col, countDistinct, isnan, sum, when, count\n",
    "import pyspark.sql.functions as F"
   ]
  },
  {
   "cell_type": "code",
   "execution_count": 15,
   "id": "1ca6847b-9366-4bed-b6e3-9f4ddd9a2db4",
   "metadata": {},
   "outputs": [
    {
     "name": "stdout",
     "output_type": "stream",
     "text": [
      "+-------+-----+\n",
      "|quality|count|\n",
      "+-------+-----+\n",
      "|      6| 2198|\n",
      "|      3|   20|\n",
      "|      5| 1457|\n",
      "|      9|    5|\n",
      "|      4|  163|\n",
      "|      8|  175|\n",
      "|      7|  880|\n",
      "+-------+-----+\n",
      "\n"
     ]
    }
   ],
   "source": [
    "df.groupby(\n",
    "    col('quality')).\\\n",
    "    count().\\\n",
    "    show()"
   ]
  },
  {
   "cell_type": "markdown",
   "id": "569083aa-79b5-4b48-b183-5d04172406d5",
   "metadata": {},
   "source": [
    "We can see here that the data is <b>imbalanced</b> for our target. <b>Imbalanced</b> data is a common problem in machine learning, where the number of samples in one class is much larger than the number of samples in another class. This can make it difficult to train a model that can accurately predict the minority class. There are a number of techniques that can be used to handle imbalanced data, including:\n",
    "\n",
    "- <b>Resampling</b>: This involves increasing the number of samples in the minority class or decreasing the number of samples in the majority class. This can be done by oversampling the minority class (creating new samples), undersampling the majority class (removing samples), or a combination of both.\n",
    "- <b>Cost-sensitive learning</b>: This involves assigning different costs to misclassifications of different classes. This can help to focus the model on correctly classifying the minority class.\n",
    "- <b>Ensemble learning</b>: This involves training multiple models on different subsets of the data and then combining the predictions of the models. This can help to improve the accuracy of the model on the minority class."
   ]
  },
  {
   "cell_type": "markdown",
   "id": "b847b372-0ccc-4ebb-81a8-51bcc52d821e",
   "metadata": {},
   "source": [
    "We need to <b>resample</b> the data to balance the dataset. However, before we do that, we need to check if there are any issues with the data that need to be resolved. For example, we need to make sure that there are no missing values in the data. We also need to make sure that the data is not corrupted. Once we have resolved any issues with the data, we can then resample it to balance the dataset."
   ]
  },
  {
   "cell_type": "markdown",
   "id": "8ddec5b6-35ec-4142-9045-4a3e049fdec2",
   "metadata": {},
   "source": [
    "### Let's summarize our data by row, column, features, unique, and missing values."
   ]
  },
  {
   "cell_type": "code",
   "execution_count": 16,
   "id": "e6a4a9c8-11cf-4652-91ce-56af6232bae5",
   "metadata": {},
   "outputs": [
    {
     "name": "stdout",
     "output_type": "stream",
     "text": [
      "Rows     :  4898\n",
      "Columns  :  12\n",
      "\n",
      "Features : \n",
      " ['fixed acidity', 'volatile acidity', 'citric acid', 'residual sugar', 'chlorides', 'free sulfur dioxide', 'total sulfur dioxide', 'density', 'pH', 'sulphates', 'alcohol', 'quality']\n",
      "\n",
      " Count Distinct values :  \n"
     ]
    },
    {
     "name": "stderr",
     "output_type": "stream",
     "text": [
      "                                                                                \r"
     ]
    },
    {
     "name": "stdout",
     "output_type": "stream",
     "text": [
      "+-------------+----------------+-----------+--------------+---------+-------------------+--------------------+-------+---+---------+-------+-------+\n",
      "|fixed acidity|volatile acidity|citric acid|residual sugar|chlorides|free sulfur dioxide|total sulfur dioxide|density| pH|sulphates|alcohol|quality|\n",
      "+-------------+----------------+-----------+--------------+---------+-------------------+--------------------+-------+---+---------+-------+-------+\n",
      "|           68|             125|         87|           310|      160|                132|                 251|    890|103|       79|    103|      7|\n",
      "+-------------+----------------+-----------+--------------+---------+-------------------+--------------------+-------+---+---------+-------+-------+\n",
      "\n",
      "\n",
      "Unique values :  \n",
      " None\n",
      "\n",
      "Missing values :   \n",
      "+-------------+----------------+-----------+--------------+---------+-------------------+--------------------+-------+---+---------+-------+-------+\n",
      "|fixed acidity|volatile acidity|citric acid|residual sugar|chlorides|free sulfur dioxide|total sulfur dioxide|density| pH|sulphates|alcohol|quality|\n",
      "+-------------+----------------+-----------+--------------+---------+-------------------+--------------------+-------+---+---------+-------+-------+\n",
      "|            0|               0|          0|             0|        0|                  0|                   0|      0|  0|        0|      0|      0|\n",
      "+-------------+----------------+-----------+--------------+---------+-------------------+--------------------+-------+---+---------+-------+-------+\n",
      "\n"
     ]
    }
   ],
   "source": [
    "# In Python shape() is used in pandas to give the number of rows/columns.\n",
    "# The number of rows is given by .shape[0]. The number of columns is given by .shape[1].\n",
    "# Thus, shape() consists of an array having two arguments -- rows and columns\n",
    "\n",
    "print (\"Rows     : \" ,df.count())\n",
    "print (\"Columns  : \" ,len(df.columns))\n",
    "print (\"\\nFeatures : \\n\" ,df.columns)\n",
    "print (\"\\n Count Distinct values : \", \"\")\n",
    "expression = [countDistinct(c).alias(c) for c in df.columns]\n",
    "print (\"\\nUnique values :  \\n\", df.select(*expression).show())\n",
    "print (\"\\nMissing values :  \", \"\")\n",
    "df.select([count(when(isnan(c) | col(c).isNull(), c)).alias(c) for c in df.columns]).show()"
   ]
  },
  {
   "cell_type": "markdown",
   "id": "90f22c89-83b6-4820-a72e-5eb12e393ee1",
   "metadata": {},
   "source": [
    "There no missing values, or other data issue. So we can ressample the data."
   ]
  },
  {
   "cell_type": "markdown",
   "id": "7456c90b-303f-411f-8299-9857ca1c1fea",
   "metadata": {},
   "source": [
    "### Distribution of Features"
   ]
  },
  {
   "cell_type": "code",
   "execution_count": 17,
   "id": "e9ee5820-cc29-410e-9d69-bbd774248e95",
   "metadata": {},
   "outputs": [
    {
     "data": {
      "image/png": "[encoded data removed]",
      "text/plain": [
       "<Figure size 2000x1000 with 10 Axes>"
      ]
     },
     "metadata": {},
     "output_type": "display_data"
    }
   ],
   "source": [
    "import matplotlib.pyplot as plt\n",
    "from matplotlib import cm\n",
    "\n",
    "fig = plt.figure(figsize=(20,10))\n",
    "st = fig.suptitle(\"Distribution of Features\",\n",
    "                  fontsize=20,\n",
    "                  verticalalignment='center')\n",
    "\n",
    "for col,num in zip(df.toPandas().describe().columns, range(1,11)):\n",
    "    ax = fig.add_subplot(3,4,num)\n",
    "    ax.hist(df.toPandas()[col])\n",
    "    plt.grid(False)\n",
    "    plt.xticks(rotation=45,fontsize=10)\n",
    "    plt.yticks(fontsize=10)\n",
    "    plt.title(col.upper(),fontsize=20)\n",
    "plt.tight_layout()\n",
    "st.set_y(0.95)\n",
    "fig.subplots_adjust(top=0.85,hspace = 0.4)\n",
    "plt.show()"
   ]
  },
  {
   "cell_type": "markdown",
   "id": "a040f021-3f5b-40e5-98ed-a5069f133578",
   "metadata": {},
   "source": [
    "Great part of freatures had a normal distribution, also known as the Gaussian distribution, is a continuous probability distribution that is widely used in statistical modeling and machine learning. It is a bell-shaped curve that is symmetrical around its mean and is characterized by its mean and standard deviation.\n",
    "\n",
    "In machine learning, data that is normally distributed is beneficial for model building because it makes the math easier. Many machine learning algorithms, such as linear regression and logistic regression, are explicitly calculated from the assumption that the distribution is a bivariate or multivariate normal. Additionally, sigmoid functions work most naturally with normally distributed data."
   ]
  },
  {
   "cell_type": "markdown",
   "id": "fa1f18b8-5879-43c2-b04b-df45061210eb",
   "metadata": {},
   "source": [
    "### Rename a Feature Column "
   ]
  },
  {
   "cell_type": "markdown",
   "id": "1c7de40f-ec11-4232-b165-967d013eb27e",
   "metadata": {},
   "source": [
    "Our feature columns have different \"capitalizations\" in their names, e.g. both upper and lower \"case\".  In addition, there are \"spaces\" in some of the column names. "
   ]
  },
  {
   "cell_type": "code",
   "execution_count": 18,
   "id": "19730bcd-71c5-4247-b0af-3da9932b3f89",
   "metadata": {},
   "outputs": [],
   "source": [
    "df = df.withColumnRenamed(\"fixed acidity\",\"fixed_acidity\")\\\n",
    ".withColumnRenamed(\"volatile acidity\",\"volatile_acidity\")\\\n",
    ".withColumnRenamed(\"citric acid\",\"citric_acid\")\\\n",
    ".withColumnRenamed(\"residual sugar\",\"residual_sugar\")\\\n",
    ".withColumnRenamed(\"chlorides\",\"chlorides\")\\\n",
    ".withColumnRenamed(\"free sulfur dioxide\",\"free_sulfur_dioxide\")\\\n",
    ".withColumnRenamed(\"total sulfur dioxide\",\"total_sulfur_dioxide\")\\\n",
    ".withColumnRenamed(\"density\",\"density\")\\\n",
    ".withColumnRenamed(\"pH\",\"pH\")\\\n",
    ".withColumnRenamed(\"sulphates\",\"sulphates\")\\\n",
    ".withColumnRenamed(\"alcohol\",\"alcohol\")\\\n",
    ".withColumnRenamed(\"quality\",\"quality\")"
   ]
  },
  {
   "cell_type": "code",
   "execution_count": 19,
   "id": "ad4177e6-249b-4b30-aa4f-f152898d2fbc",
   "metadata": {},
   "outputs": [
    {
     "name": "stdout",
     "output_type": "stream",
     "text": [
      "root\n",
      " |-- fixed_acidity: double (nullable = true)\n",
      " |-- volatile_acidity: double (nullable = true)\n",
      " |-- citric_acid: double (nullable = true)\n",
      " |-- residual_sugar: double (nullable = true)\n",
      " |-- chlorides: double (nullable = true)\n",
      " |-- free_sulfur_dioxide: double (nullable = true)\n",
      " |-- total_sulfur_dioxide: double (nullable = true)\n",
      " |-- density: double (nullable = true)\n",
      " |-- pH: double (nullable = true)\n",
      " |-- sulphates: double (nullable = true)\n",
      " |-- alcohol: double (nullable = true)\n",
      " |-- quality: integer (nullable = true)\n",
      "\n"
     ]
    }
   ],
   "source": [
    "df.printSchema()"
   ]
  },
  {
   "cell_type": "markdown",
   "id": "24e7c3c3-c5b4-43e1-a283-bcaa9dc232a9",
   "metadata": {},
   "source": [
    "### Pearson Correlation"
   ]
  },
  {
   "cell_type": "code",
   "execution_count": 20,
   "id": "afe091c9-b28f-43ba-aa47-edfb8abb0acd",
   "metadata": {},
   "outputs": [
    {
     "name": "stderr",
     "output_type": "stream",
     "text": [
      "                                                                                \r"
     ]
    },
    {
     "data": {
      "text/html": [
       "<div>\n",
       "<style scoped>\n",
       "    .dataframe tbody tr th:only-of-type {\n",
       "        vertical-align: middle;\n",
       "    }\n",
       "\n",
       "    .dataframe tbody tr th {\n",
       "        vertical-align: top;\n",
       "    }\n",
       "\n",
       "    .dataframe thead th {\n",
       "        text-align: right;\n",
       "    }\n",
       "</style>\n",
       "<table border=\"1\" class=\"dataframe\">\n",
       "  <thead>\n",
       "    <tr style=\"text-align: right;\">\n",
       "      <th></th>\n",
       "      <th>fixed_acidity</th>\n",
       "      <th>volatile_acidity</th>\n",
       "      <th>citric_acid</th>\n",
       "      <th>residual_sugar</th>\n",
       "      <th>chlorides</th>\n",
       "      <th>free_sulfur_dioxide</th>\n",
       "      <th>total_sulfur_dioxide</th>\n",
       "      <th>density</th>\n",
       "      <th>pH</th>\n",
       "      <th>sulphates</th>\n",
       "      <th>alcohol</th>\n",
       "      <th>quality</th>\n",
       "    </tr>\n",
       "  </thead>\n",
       "  <tbody>\n",
       "    <tr>\n",
       "      <th>fixed_acidity</th>\n",
       "      <td>1.000000</td>\n",
       "      <td>-0.022697</td>\n",
       "      <td>0.289181</td>\n",
       "      <td>0.089021</td>\n",
       "      <td>0.023086</td>\n",
       "      <td>-0.049396</td>\n",
       "      <td>0.091070</td>\n",
       "      <td>0.265331</td>\n",
       "      <td>-0.425858</td>\n",
       "      <td>-0.017143</td>\n",
       "      <td>-0.120881</td>\n",
       "      <td>-0.113663</td>\n",
       "    </tr>\n",
       "    <tr>\n",
       "      <th>volatile_acidity</th>\n",
       "      <td>-0.022697</td>\n",
       "      <td>1.000000</td>\n",
       "      <td>-0.149472</td>\n",
       "      <td>0.064286</td>\n",
       "      <td>0.070512</td>\n",
       "      <td>-0.097012</td>\n",
       "      <td>0.089261</td>\n",
       "      <td>0.027114</td>\n",
       "      <td>-0.031915</td>\n",
       "      <td>-0.035728</td>\n",
       "      <td>0.067718</td>\n",
       "      <td>-0.194723</td>\n",
       "    </tr>\n",
       "    <tr>\n",
       "      <th>citric_acid</th>\n",
       "      <td>0.289181</td>\n",
       "      <td>-0.149472</td>\n",
       "      <td>1.000000</td>\n",
       "      <td>0.094212</td>\n",
       "      <td>0.114364</td>\n",
       "      <td>0.094077</td>\n",
       "      <td>0.121131</td>\n",
       "      <td>0.149503</td>\n",
       "      <td>-0.163748</td>\n",
       "      <td>0.062331</td>\n",
       "      <td>-0.075729</td>\n",
       "      <td>-0.009209</td>\n",
       "    </tr>\n",
       "    <tr>\n",
       "      <th>residual_sugar</th>\n",
       "      <td>0.089021</td>\n",
       "      <td>0.064286</td>\n",
       "      <td>0.094212</td>\n",
       "      <td>1.000000</td>\n",
       "      <td>0.088685</td>\n",
       "      <td>0.299098</td>\n",
       "      <td>0.401439</td>\n",
       "      <td>0.838966</td>\n",
       "      <td>-0.194133</td>\n",
       "      <td>-0.026664</td>\n",
       "      <td>-0.450631</td>\n",
       "      <td>-0.097577</td>\n",
       "    </tr>\n",
       "    <tr>\n",
       "      <th>chlorides</th>\n",
       "      <td>0.023086</td>\n",
       "      <td>0.070512</td>\n",
       "      <td>0.114364</td>\n",
       "      <td>0.088685</td>\n",
       "      <td>1.000000</td>\n",
       "      <td>0.101392</td>\n",
       "      <td>0.198910</td>\n",
       "      <td>0.257211</td>\n",
       "      <td>-0.090439</td>\n",
       "      <td>0.016763</td>\n",
       "      <td>-0.360189</td>\n",
       "      <td>-0.209934</td>\n",
       "    </tr>\n",
       "    <tr>\n",
       "      <th>free_sulfur_dioxide</th>\n",
       "      <td>-0.049396</td>\n",
       "      <td>-0.097012</td>\n",
       "      <td>0.094077</td>\n",
       "      <td>0.299098</td>\n",
       "      <td>0.101392</td>\n",
       "      <td>1.000000</td>\n",
       "      <td>0.615501</td>\n",
       "      <td>0.294210</td>\n",
       "      <td>-0.000618</td>\n",
       "      <td>0.059217</td>\n",
       "      <td>-0.250104</td>\n",
       "      <td>0.008158</td>\n",
       "    </tr>\n",
       "    <tr>\n",
       "      <th>total_sulfur_dioxide</th>\n",
       "      <td>0.091070</td>\n",
       "      <td>0.089261</td>\n",
       "      <td>0.121131</td>\n",
       "      <td>0.401439</td>\n",
       "      <td>0.198910</td>\n",
       "      <td>0.615501</td>\n",
       "      <td>1.000000</td>\n",
       "      <td>0.529881</td>\n",
       "      <td>0.002321</td>\n",
       "      <td>0.134562</td>\n",
       "      <td>-0.448892</td>\n",
       "      <td>-0.174737</td>\n",
       "    </tr>\n",
       "    <tr>\n",
       "      <th>density</th>\n",
       "      <td>0.265331</td>\n",
       "      <td>0.027114</td>\n",
       "      <td>0.149503</td>\n",
       "      <td>0.838966</td>\n",
       "      <td>0.257211</td>\n",
       "      <td>0.294210</td>\n",
       "      <td>0.529881</td>\n",
       "      <td>1.000000</td>\n",
       "      <td>-0.093591</td>\n",
       "      <td>0.074493</td>\n",
       "      <td>-0.780138</td>\n",
       "      <td>-0.307123</td>\n",
       "    </tr>\n",
       "    <tr>\n",
       "      <th>pH</th>\n",
       "      <td>-0.425858</td>\n",
       "      <td>-0.031915</td>\n",
       "      <td>-0.163748</td>\n",
       "      <td>-0.194133</td>\n",
       "      <td>-0.090439</td>\n",
       "      <td>-0.000618</td>\n",
       "      <td>0.002321</td>\n",
       "      <td>-0.093591</td>\n",
       "      <td>1.000000</td>\n",
       "      <td>0.155951</td>\n",
       "      <td>0.121432</td>\n",
       "      <td>0.099427</td>\n",
       "    </tr>\n",
       "    <tr>\n",
       "      <th>sulphates</th>\n",
       "      <td>-0.017143</td>\n",
       "      <td>-0.035728</td>\n",
       "      <td>0.062331</td>\n",
       "      <td>-0.026664</td>\n",
       "      <td>0.016763</td>\n",
       "      <td>0.059217</td>\n",
       "      <td>0.134562</td>\n",
       "      <td>0.074493</td>\n",
       "      <td>0.155951</td>\n",
       "      <td>1.000000</td>\n",
       "      <td>-0.017433</td>\n",
       "      <td>0.053678</td>\n",
       "    </tr>\n",
       "    <tr>\n",
       "      <th>alcohol</th>\n",
       "      <td>-0.120881</td>\n",
       "      <td>0.067718</td>\n",
       "      <td>-0.075729</td>\n",
       "      <td>-0.450631</td>\n",
       "      <td>-0.360189</td>\n",
       "      <td>-0.250104</td>\n",
       "      <td>-0.448892</td>\n",
       "      <td>-0.780138</td>\n",
       "      <td>0.121432</td>\n",
       "      <td>-0.017433</td>\n",
       "      <td>1.000000</td>\n",
       "      <td>0.435575</td>\n",
       "    </tr>\n",
       "    <tr>\n",
       "      <th>quality</th>\n",
       "      <td>-0.113663</td>\n",
       "      <td>-0.194723</td>\n",
       "      <td>-0.009209</td>\n",
       "      <td>-0.097577</td>\n",
       "      <td>-0.209934</td>\n",
       "      <td>0.008158</td>\n",
       "      <td>-0.174737</td>\n",
       "      <td>-0.307123</td>\n",
       "      <td>0.099427</td>\n",
       "      <td>0.053678</td>\n",
       "      <td>0.435575</td>\n",
       "      <td>1.000000</td>\n",
       "    </tr>\n",
       "  </tbody>\n",
       "</table>\n",
       "</div>"
      ],
      "text/plain": [
       "                      fixed_acidity  volatile_acidity  citric_acid  \\\n",
       "fixed_acidity              1.000000         -0.022697     0.289181   \n",
       "volatile_acidity          -0.022697          1.000000    -0.149472   \n",
       "citric_acid                0.289181         -0.149472     1.000000   \n",
       "residual_sugar             0.089021          0.064286     0.094212   \n",
       "chlorides                  0.023086          0.070512     0.114364   \n",
       "free_sulfur_dioxide       -0.049396         -0.097012     0.094077   \n",
       "total_sulfur_dioxide       0.091070          0.089261     0.121131   \n",
       "density                    0.265331          0.027114     0.149503   \n",
       "pH                        -0.425858         -0.031915    -0.163748   \n",
       "sulphates                 -0.017143         -0.035728     0.062331   \n",
       "alcohol                   -0.120881          0.067718    -0.075729   \n",
       "quality                   -0.113663         -0.194723    -0.009209   \n",
       "\n",
       "                      residual_sugar  chlorides  free_sulfur_dioxide  \\\n",
       "fixed_acidity               0.089021   0.023086            -0.049396   \n",
       "volatile_acidity            0.064286   0.070512            -0.097012   \n",
       "citric_acid                 0.094212   0.114364             0.094077   \n",
       "residual_sugar              1.000000   0.088685             0.299098   \n",
       "chlorides                   0.088685   1.000000             0.101392   \n",
       "free_sulfur_dioxide         0.299098   0.101392             1.000000   \n",
       "total_sulfur_dioxide        0.401439   0.198910             0.615501   \n",
       "density                     0.838966   0.257211             0.294210   \n",
       "pH                         -0.194133  -0.090439            -0.000618   \n",
       "sulphates                  -0.026664   0.016763             0.059217   \n",
       "alcohol                    -0.450631  -0.360189            -0.250104   \n",
       "quality                    -0.097577  -0.209934             0.008158   \n",
       "\n",
       "                      total_sulfur_dioxide   density        pH  sulphates  \\\n",
       "fixed_acidity                     0.091070  0.265331 -0.425858  -0.017143   \n",
       "volatile_acidity                  0.089261  0.027114 -0.031915  -0.035728   \n",
       "citric_acid                       0.121131  0.149503 -0.163748   0.062331   \n",
       "residual_sugar                    0.401439  0.838966 -0.194133  -0.026664   \n",
       "chlorides                         0.198910  0.257211 -0.090439   0.016763   \n",
       "free_sulfur_dioxide               0.615501  0.294210 -0.000618   0.059217   \n",
       "total_sulfur_dioxide              1.000000  0.529881  0.002321   0.134562   \n",
       "density                           0.529881  1.000000 -0.093591   0.074493   \n",
       "pH                                0.002321 -0.093591  1.000000   0.155951   \n",
       "sulphates                         0.134562  0.074493  0.155951   1.000000   \n",
       "alcohol                          -0.448892 -0.780138  0.121432  -0.017433   \n",
       "quality                          -0.174737 -0.307123  0.099427   0.053678   \n",
       "\n",
       "                       alcohol   quality  \n",
       "fixed_acidity        -0.120881 -0.113663  \n",
       "volatile_acidity      0.067718 -0.194723  \n",
       "citric_acid          -0.075729 -0.009209  \n",
       "residual_sugar       -0.450631 -0.097577  \n",
       "chlorides            -0.360189 -0.209934  \n",
       "free_sulfur_dioxide  -0.250104  0.008158  \n",
       "total_sulfur_dioxide -0.448892 -0.174737  \n",
       "density              -0.780138 -0.307123  \n",
       "pH                    0.121432  0.099427  \n",
       "sulphates            -0.017433  0.053678  \n",
       "alcohol               1.000000  0.435575  \n",
       "quality               0.435575  1.000000  "
      ]
     },
     "execution_count": 20,
     "metadata": {},
     "output_type": "execute_result"
    }
   ],
   "source": [
    "from pyspark.mllib.stat import Statistics\n",
    "import pandas as pd\n",
    "\n",
    "col_names = df.columns\n",
    "features = df.rdd.map(lambda row: row[0:])\n",
    "corr_mat= Statistics.corr(features, method=\"pearson\")\n",
    "corr_df = pd.DataFrame(corr_mat)\n",
    "corr_df.index, corr_df.columns = col_names, col_names\n",
    "\n",
    "corr_df"
   ]
  },
  {
   "cell_type": "markdown",
   "id": "babc3903-8764-4766-97dd-80f690da76b0",
   "metadata": {},
   "source": [
    "A Pearson correlation coefficient of 0.7 or greater is generally considered to be a strong correlation. This means that there is a high degree of linear relationship between the two variables. For example, if the correlation coefficient between height and weight is 0.7, this means that taller people tend to be heavier, on average.\n",
    "\n",
    "However, it is important to note that the strength of a correlation coefficient can vary depending on the specific variables being measured. For example, a correlation coefficient of 0.7 might be considered strong for some variables, but weak for others.\n",
    "\n",
    "Here we could see that residual_sugar have a <b>strong correlation</b> with <b>density</b>."
   ]
  },
  {
   "cell_type": "markdown",
   "id": "9014e0be-2875-4a65-9346-a2acb841df1e",
   "metadata": {},
   "source": [
    "### Resampling"
   ]
  },
  {
   "cell_type": "code",
   "execution_count": 21,
   "id": "abb63754-1120-4e01-8695-a6f0bf4ab59d",
   "metadata": {},
   "outputs": [],
   "source": [
    "#TODO"
   ]
  },
  {
   "cell_type": "markdown",
   "id": "637ddba0-5fae-4383-ba2d-cc3461555216",
   "metadata": {},
   "source": [
    "## 4. Feature engineering"
   ]
  },
  {
   "cell_type": "markdown",
   "id": "0aa2e35c-7306-4e3a-a6da-ced25b3a4271",
   "metadata": {},
   "source": [
    "<b>Feature engineering</b> is the process of transforming raw data into features that are more informative and useful for machine learning algorithms. This can involve a variety of tasks, such as:\n",
    "\n",
    "- <b>Data transformation</b>: This involves transforming the data into a format that is more suitable for machine learning algorithms. For example, categorical data can be encoded as numerical data, and continuous data can be discretized.\n",
    "- <b>Feature selection</b>: This involves selecting the most important features from the data set. This can be done using a variety of techniques, such as statistical significance tests and feature importance scores.\n",
    "- <b>Feature creation</b>: This involves creating new features from the existing data. This can be done by combining existing features, or by creating derived features that are based on the relationships between different features."
   ]
  },
  {
   "cell_type": "markdown",
   "id": "1ecb7ca4-83cd-4c53-b292-92d7fb020b82",
   "metadata": {},
   "source": [
    "### Vectoring to prepare Data for Machine Learning"
   ]
  },
  {
   "cell_type": "code",
   "execution_count": 22,
   "id": "b8817295-3915-45e1-aee0-e4176964b296",
   "metadata": {},
   "outputs": [
    {
     "name": "stdout",
     "output_type": "stream",
     "text": [
      "+--------------------+-----+\n",
      "| vectorized_features|label|\n",
      "+--------------------+-----+\n",
      "|[7.0,0.27,0.36,20...|    6|\n",
      "|[6.3,0.3,0.34,1.6...|    6|\n",
      "+--------------------+-----+\n",
      "only showing top 2 rows\n",
      "\n"
     ]
    }
   ],
   "source": [
    "from pyspark.sql import Row\n",
    "from pyspark.ml.linalg import Vectors\n",
    "\n",
    "df_vec= df.rdd.map(lambda x:(Vectors.dense(x[0:-1]), x[-1])).toDF([\"vectorized_features\", \"label\"])\n",
    "df_vec.show(2)"
   ]
  },
  {
   "cell_type": "markdown",
   "id": "306b45d3-75d8-44ef-885c-694af2dcf9e7",
   "metadata": {},
   "source": [
    "### Standardization"
   ]
  },
  {
   "cell_type": "code",
   "execution_count": 23,
   "id": "b64d1119-55dc-4586-a6d3-e85d4c0b9ab8",
   "metadata": {},
   "outputs": [
    {
     "name": "stderr",
     "output_type": "stream",
     "text": [
      "[Stage 55:>                                                         (0 + 1) / 1]\r"
     ]
    },
    {
     "name": "stdout",
     "output_type": "stream",
     "text": [
      "+--------------------+-----+\n",
      "|            features|label|\n",
      "+--------------------+-----+\n",
      "|[8.29513396799212...|    6|\n",
      "|[7.46562057119291...|    6|\n",
      "+--------------------+-----+\n",
      "only showing top 2 rows\n",
      "\n"
     ]
    },
    {
     "name": "stderr",
     "output_type": "stream",
     "text": [
      "                                                                                \r"
     ]
    }
   ],
   "source": [
    "from pyspark.ml.feature import StandardScaler\n",
    "\n",
    "scaler = StandardScaler()\\\n",
    "         .setInputCol (\"vectorized_features\")\\\n",
    "         .setOutputCol (\"features\")\n",
    "        \n",
    "scaler_model = scaler.fit(df_vec)\n",
    "scaler_df = scaler_model.transform(df_vec)\n",
    "\n",
    "scaler_df = scaler_df.select('features', 'label')\n",
    "scaler_df.show(2)"
   ]
  },
  {
   "cell_type": "markdown",
   "id": "c9f8e115-9797-490f-a49a-5b577b492b6b",
   "metadata": {},
   "source": [
    "## 5. Model Choice"
   ]
  },
  {
   "cell_type": "markdown",
   "id": "74f15d40-f150-4ade-a1d4-2e87c974420b",
   "metadata": {},
   "source": [
    "<b>Multinomial logistic regression</b> is a type of logistic regression that can be used for multi-class classification problems. In the case of wine quality classification, there are 4 classes (poor, normal, good and excelent) so multinomial logistic regression is a good choice for modeling this problem.\n",
    "\n",
    "The physicochemical tests can be used to measure the various properties of wine, such as acidity, alcohol content, and sugar content. These properties can then be used as features in the multinomial logistic regression model.\n",
    "\n",
    "Here are some of the advantages of using multinomial logistic regression for wine quality classification:\n",
    "\n",
    "- It is a relatively simple model that is easy to understand and interpret.\n",
    "- It is a very flexible model that can be used to model a variety of different types of data.\n",
    "- It is a very efficient model that can be estimated quickly and easily.\n",
    "\n",
    "Here is some of the disadvantages of using multinomial logistic regression for wine quality classification:\n",
    "\n",
    "- It may not be as accurate as some other models, such as support vector machines or decision trees.\n",
    "- It may not be able to capture the nonlinear relationships between the features and the class labels.\n",
    "\n",
    "In addition to multinomial logistic regression, there are a number of other models that could be used for wine quality classification. Some of these other models include support vector machines, decision trees, and random forests. However, multinomial logistic regression is a good starting point for wine quality classification because it is a simple, flexible, and efficient model.\n"
   ]
  },
  {
   "cell_type": "markdown",
   "id": "88e5a896-ebf7-41d1-9087-ed0e99e2161d",
   "metadata": {},
   "source": [
    "## 6. Model Training"
   ]
  },
  {
   "cell_type": "markdown",
   "id": "ec542669-b32b-4874-bdc9-b88dc799da1c",
   "metadata": {},
   "source": [
    "### Train/Test Split data  "
   ]
  },
  {
   "cell_type": "code",
   "execution_count": 24,
   "id": "d6143644-a1ce-4cc5-aa53-5f80975ec77e",
   "metadata": {},
   "outputs": [
    {
     "name": "stderr",
     "output_type": "stream",
     "text": [
      "                                                                                \r"
     ]
    },
    {
     "name": "stdout",
     "output_type": "stream",
     "text": [
      "training instances 3901 test instances 997\n"
     ]
    }
   ],
   "source": [
    "# Split training and test data\n",
    "training, test = scaler_df.randomSplit([0.8, 0.2])\n",
    "\n",
    "print (\"training instances\", training.count(), \"test instances\", test.count())"
   ]
  },
  {
   "cell_type": "markdown",
   "id": "eef44604-5006-424a-afb4-09c8b8cceb4e",
   "metadata": {},
   "source": [
    "### Model Training phase"
   ]
  },
  {
   "cell_type": "code",
   "execution_count": 25,
   "id": "1359b31a-56b6-4cda-8005-f5cdf86532d6",
   "metadata": {},
   "outputs": [
    {
     "name": "stderr",
     "output_type": "stream",
     "text": [
      "23/06/22 17:27:29 WARN com.github.fommil.netlib.BLAS: Failed to load implementation from: com.github.fommil.netlib.NativeSystemBLAS\n",
      "23/06/22 17:27:29 WARN com.github.fommil.netlib.BLAS: Failed to load implementation from: com.github.fommil.netlib.NativeRefBLAS\n"
     ]
    },
    {
     "name": "stdout",
     "output_type": "stream",
     "text": [
      "Coefficients: \n",
      "DenseMatrix([[-0.007125  , -0.00237208, -0.00239189, -0.00110193, -0.00189064,\n",
      "              -0.0019002 , -0.00290387, -0.29238371, -0.01827289, -0.00378585,\n",
      "              -0.00753526],\n",
      "             [-0.007125  , -0.00237208, -0.00239189, -0.00110193, -0.00189064,\n",
      "              -0.0019002 , -0.00290387, -0.29238371, -0.01827289, -0.00378585,\n",
      "              -0.00753526],\n",
      "             [-0.007125  , -0.00237208, -0.00239189, -0.00110193, -0.00189064,\n",
      "              -0.0019002 , -0.00290387, -0.29238371, -0.01827289, -0.00378585,\n",
      "              -0.00753526],\n",
      "             [ 0.05370033,  0.01685847,  0.00237095,  0.00429083,  0.03406351,\n",
      "               0.03661996,  0.02863443,  0.12591351,  0.00305412, -0.01297852,\n",
      "              -0.01585062],\n",
      "             [ 0.14381719,  0.39902215, -0.07167737, -0.09570021,  0.12181644,\n",
      "              -0.23080755, -0.07814783,  0.12811741, -0.02103484, -0.03997474,\n",
      "              -0.17410222],\n",
      "             [ 0.00944385,  0.25459789,  0.00288724, -0.09173552,  0.16605299,\n",
      "              -0.17415154,  0.19280875,  0.15197853, -0.08272601, -0.09909037,\n",
      "              -0.89641399],\n",
      "             [-0.08910239, -0.33533581,  0.05976977,  0.18619596,  0.13294581,\n",
      "               0.11059832,  0.06232581,  0.13115562, -0.0668246 ,  0.04027087,\n",
      "               0.05233427],\n",
      "             [-0.03923637, -0.32846915,  0.00545603,  0.02260812, -0.33885163,\n",
      "               0.20624785, -0.10595875,  0.10336477,  0.12270332,  0.16118489,\n",
      "               0.69472383],\n",
      "             [-0.07028396, -0.00153776,  0.00443338, -0.0202375 , -0.10398831,\n",
      "               0.06126864, -0.08755168,  0.11596943,  0.08513612, -0.04215883,\n",
      "               0.34924424],\n",
      "             [ 0.01303634,  0.00198045,  0.00393567, -0.00211587, -0.0063669 ,\n",
      "              -0.00407506, -0.00339912,  0.12065185,  0.01451056,  0.00410426,\n",
      "               0.01267027]])\n",
      "Intercept: [-3.5107966697270725,-3.5107966697270725,-3.5107966697270725,-0.6763911845123086,1.3880108831388678,3.5429068675998616,3.965016134190755,3.0397818587324617,1.3963151918454826,-2.1232497418139022]\n",
      "objectiveHistory:\n",
      "1.2869771850762246\n",
      "1.286958167972268\n",
      "1.2869317046224678\n",
      "1.286875733767459\n",
      "1.2868214043580717\n",
      "1.2866064119791145\n",
      "1.2862819731313353\n",
      "1.2858929135234718\n",
      "1.2855409682355363\n",
      "1.285401820274172\n",
      "1.2851299126533533\n",
      "1.2845293485041664\n",
      "1.283005603350694\n",
      "1.279030725255255\n",
      "1.2675790896267678\n",
      "1.2477762410947626\n",
      "1.2433582858826817\n",
      "1.2326965006119068\n",
      "1.23181099291215\n",
      "1.2295113054168052\n",
      "1.2289827538794402\n",
      "1.228904050802295\n",
      "1.2288688528788791\n",
      "1.2288132680511241\n",
      "1.2286422770983754\n",
      "1.2281577881786674\n",
      "1.2268406292493814\n",
      "1.2231358841243107\n",
      "1.2188811884331956\n",
      "1.1996334516390235\n",
      "1.1870669719222098\n",
      "1.1848444120699813\n",
      "1.1803360700239227\n",
      "1.1757381489813212\n",
      "1.1742172437405014\n",
      "1.1718298612641478\n",
      "1.1705435200605\n",
      "1.1695399038608632\n",
      "1.168740821234366\n",
      "1.1681536159345298\n",
      "1.167683321501134\n",
      "1.1674154513432107\n",
      "1.1673362023326066\n",
      "1.16731089138847\n",
      "1.1673074627884144\n",
      "1.1673021704758129\n",
      "1.1672751114651287\n",
      "1.167200676403187\n",
      "1.1670200950819576\n",
      "1.1666492346808386\n",
      "1.1652167626394463\n",
      "1.1624696403520796\n",
      "1.149471973192723\n",
      "1.1481324768921721\n",
      "1.1411817367797326\n",
      "1.1404986040042113\n",
      "1.1402366291648254\n",
      "1.1402266349314305\n",
      "1.140220821746942\n",
      "1.1402169991743014\n",
      "1.1402074363145656\n",
      "1.1401905921904736\n",
      "1.140159024775486\n",
      "1.1400981207540664\n",
      "1.1400415602049332\n",
      "1.1399090076689078\n",
      "1.1397818901788177\n",
      "1.1396262403090416\n",
      "1.1395072632450642\n",
      "1.1393637286790672\n",
      "1.1392333694347696\n",
      "1.1388988805125633\n",
      "1.1383381440616196\n",
      "1.1376417191409318\n",
      "1.1366658984801001\n",
      "1.135895713758757\n",
      "1.1354310140639459\n",
      "1.1351296228759848\n",
      "1.1348297096209312\n",
      "1.133991817212951\n",
      "1.1334728532601916\n",
      "1.1330813529064467\n",
      "1.1328461358940902\n",
      "1.13247001946303\n",
      "1.1320010136730931\n",
      "1.1310705518138409\n",
      "1.1298718611058887\n",
      "1.1288431575812858\n",
      "1.1283672699730671\n",
      "1.1281297546728446\n",
      "1.1280106857102417\n",
      "1.1279269660442566\n",
      "1.1278725635634994\n",
      "1.12783136348817\n",
      "1.127715512115553\n",
      "1.1275289867265026\n",
      "1.1272152957752228\n",
      "1.1265933097948189\n",
      "1.1258199647130276\n",
      "1.124689160396002\n",
      "1.1232206897317276\n",
      "False positive rate by label:\n",
      "label 0: 0.0\n",
      "label 1: 0.0\n",
      "label 2: 0.13296903460837886\n",
      "label 3: 0.5881252921926133\n",
      "label 4: 0.06772784019975031\n",
      "label 5: 0.0\n",
      "label 6: 0.0\n",
      "True positive rate by label:\n",
      "label 0: 0.0\n",
      "label 1: 0.0\n",
      "label 2: 0.4541522491349481\n",
      "label 3: 0.7661748013620885\n",
      "label 4: 0.266857962697274\n",
      "label 5: 0.0\n",
      "label 6: 0.0\n",
      "Precision by label:\n",
      "label 0: 0.0\n",
      "label 1: 0.0\n",
      "label 2: 0.5898876404494382\n",
      "label 3: 0.5176380368098159\n",
      "label 4: 0.46153846153846156\n",
      "label 5: 0.0\n",
      "label 6: 0.0\n",
      "Recall by label:\n",
      "label 0: 0.0\n",
      "label 1: 0.0\n",
      "label 2: 0.4541522491349481\n",
      "label 3: 0.7661748013620885\n",
      "label 4: 0.266857962697274\n",
      "label 5: 0.0\n",
      "label 6: 0.0\n",
      "F-measure by label:\n",
      "label 0: 0.0\n",
      "label 1: 0.0\n",
      "label 2: 0.5131964809384164\n",
      "label 3: 0.6178489702517161\n",
      "label 4: 0.3381818181818182\n",
      "label 5: 0.0\n",
      "label 6: 0.0\n",
      "Accuracy: 0.5283260702384004\n",
      "FPR: 0.3171482372391429\n",
      "TPR: 0.5283260702384004\n",
      "F-measure: 0.49157081384800316\n",
      "Precision: 0.49107424786227993\n",
      "Recall: 0.5283260702384004\n"
     ]
    }
   ],
   "source": [
    "from pyspark.ml.classification import LogisticRegression\n",
    "\n",
    "lr = LogisticRegression(\n",
    "    family=\"multinomial\", \n",
    "    featuresCol = 'features', \n",
    "    labelCol = 'label'\n",
    ")\n",
    "\n",
    "# Fit the model\n",
    "lrModel = lr.fit(training)\n",
    "\n",
    "# Print the coefficients and intercept for multinomial logistic regression\n",
    "print(\"Coefficients: \\n\" + str(lrModel.coefficientMatrix))\n",
    "print(\"Intercept: \" + str(lrModel.interceptVector))\n",
    "\n",
    "trainingSummary = lrModel.summary\n",
    "\n",
    "# Obtain the objective per iteration\n",
    "objectiveHistory = trainingSummary.objectiveHistory\n",
    "print(\"objectiveHistory:\")\n",
    "for objective in objectiveHistory:\n",
    "    print(objective)\n",
    "\n",
    "# for multiclass, we can inspect metrics on a per-label basis\n",
    "print(\"False positive rate by label:\")\n",
    "for i, rate in enumerate(trainingSummary.falsePositiveRateByLabel):\n",
    "    print(\"label %d: %s\" % (i, rate))\n",
    "\n",
    "print(\"True positive rate by label:\")\n",
    "for i, rate in enumerate(trainingSummary.truePositiveRateByLabel):\n",
    "    print(\"label %d: %s\" % (i, rate))\n",
    "\n",
    "print(\"Precision by label:\")\n",
    "for i, prec in enumerate(trainingSummary.precisionByLabel):\n",
    "    print(\"label %d: %s\" % (i, prec))\n",
    "\n",
    "print(\"Recall by label:\")\n",
    "for i, rec in enumerate(trainingSummary.recallByLabel):\n",
    "    print(\"label %d: %s\" % (i, rec))\n",
    "\n",
    "print(\"F-measure by label:\")\n",
    "for i, f in enumerate(trainingSummary.fMeasureByLabel()):\n",
    "    print(\"label %d: %s\" % (i, f))\n",
    "\n",
    "accuracy = trainingSummary.accuracy\n",
    "falsePositiveRate = trainingSummary.weightedFalsePositiveRate\n",
    "truePositiveRate = trainingSummary.weightedTruePositiveRate\n",
    "fMeasure = trainingSummary.weightedFMeasure()\n",
    "precision = trainingSummary.weightedPrecision\n",
    "recall = trainingSummary.weightedRecall\n",
    "print(\"Accuracy: %s\\nFPR: %s\\nTPR: %s\\nF-measure: %s\\nPrecision: %s\\nRecall: %s\"\n",
    "      % (accuracy, falsePositiveRate, truePositiveRate, fMeasure, precision, recall))"
   ]
  },
  {
   "cell_type": "markdown",
   "id": "c01713d7-4e24-493f-a56b-a76a7e31c473",
   "metadata": {},
   "source": [
    "## 7. Model Evaluation"
   ]
  },
  {
   "cell_type": "code",
   "execution_count": 26,
   "id": "526b2585-a6d4-406a-806e-abece14959fd",
   "metadata": {},
   "outputs": [],
   "source": [
    "predictions = lrModel.transform(test)"
   ]
  },
  {
   "cell_type": "markdown",
   "id": "e2112684-c70c-4500-887b-4a2e5a9c2fff",
   "metadata": {},
   "source": [
    "### Confusion Matrix"
   ]
  },
  {
   "cell_type": "code",
   "execution_count": 27,
   "id": "dc951bd4-be34-4ec0-bfb9-f0e84365295d",
   "metadata": {},
   "outputs": [],
   "source": [
    "class_names=list(range(3,10))\n",
    "\n",
    "import itertools\n",
    "\n",
    "def plot_confusion_matrix(cm, classes,\n",
    "                          normalize=False,\n",
    "                          title='Confusion matrix',\n",
    "                          cmap=plt.cm.Blues):\n",
    "    if normalize:\n",
    "        cm = cm.astype('float') / cm.sum(axis=1)[:, np.newaxis]\n",
    "        print(\"Normalized confusion matrix\")\n",
    "    else:\n",
    "        print('Confusion matrix, without normalization')\n",
    "\n",
    "    print(cm)\n",
    "\n",
    "    plt.imshow(cm, interpolation='nearest', cmap=cmap)\n",
    "    plt.title(title)\n",
    "    plt.colorbar()\n",
    "    tick_marks = np.arange(len(classes))\n",
    "    plt.xticks(tick_marks, classes, rotation=45)\n",
    "    plt.yticks(tick_marks, classes)\n",
    "\n",
    "    fmt = '.2f' if normalize else 'd'\n",
    "    thresh = cm.max() / 2.\n",
    "    for i, j in itertools.product(range(cm.shape[0]), range(cm.shape[1])):\n",
    "        plt.text(j, i, format(cm[i, j], fmt),\n",
    "                 horizontalalignment=\"center\",\n",
    "                 color=\"white\" if cm[i, j] > thresh else \"black\")\n",
    "\n",
    "    plt.tight_layout()\n",
    "    plt.ylabel('True label')\n",
    "    plt.xlabel('Predicted label')"
   ]
  },
  {
   "cell_type": "code",
   "execution_count": 28,
   "id": "268757d2-09a8-422e-9097-df2420a6f7ab",
   "metadata": {},
   "outputs": [
    {
     "name": "stdout",
     "output_type": "stream",
     "text": [
      "Confusion matrix, without normalization\n",
      "[[  0   0   2   1   1   0   0]\n",
      " [  0   1  17  10   2   0   0]\n",
      " [  0   0 156 143   2   0   0]\n",
      " [  0   1  68 338  29   0   0]\n",
      " [  0   0   6 122  55   0   0]\n",
      " [  0   0   0  26  15   0   0]\n",
      " [  0   0   0   0   2   0   0]]\n"
     ]
    },
    {
     "data": {
      "image/png": "[encoded data removed]",
      "text/plain": [
       "<Figure size 640x480 with 2 Axes>"
      ]
     },
     "metadata": {},
     "output_type": "display_data"
    }
   ],
   "source": [
    "from sklearn.metrics import confusion_matrix\n",
    "import numpy as np\n",
    "\n",
    "y_true = predictions.select(\"label\")\n",
    "y_true = y_true.toPandas()\n",
    "\n",
    "y_pred = predictions.select(\"prediction\")\n",
    "y_pred = y_pred.toPandas()\n",
    "\n",
    "cnf_matrix = confusion_matrix(\n",
    "    y_true,\n",
    "    y_pred,\n",
    "    labels=class_names\n",
    ")\n",
    "\n",
    "plt.figure()\n",
    "plot_confusion_matrix(\n",
    "    cnf_matrix,\n",
    "    classes=class_names,\n",
    "    title='Confusion matrix'\n",
    ")\n",
    "\n",
    "plt.show()"
   ]
  },
  {
   "cell_type": "markdown",
   "id": "97723165-a6ba-4753-9230-3c108759917c",
   "metadata": {},
   "source": [
    "## 8. Prediction"
   ]
  },
  {
   "cell_type": "code",
   "execution_count": 29,
   "id": "8cec4da7-e539-4245-a5c0-68a40f3aef43",
   "metadata": {},
   "outputs": [
    {
     "name": "stderr",
     "output_type": "stream",
     "text": [
      "                                                                                \r"
     ]
    },
    {
     "data": {
      "text/html": [
       "<div>\n",
       "<style scoped>\n",
       "    .dataframe tbody tr th:only-of-type {\n",
       "        vertical-align: middle;\n",
       "    }\n",
       "\n",
       "    .dataframe tbody tr th {\n",
       "        vertical-align: top;\n",
       "    }\n",
       "\n",
       "    .dataframe thead th {\n",
       "        text-align: right;\n",
       "    }\n",
       "</style>\n",
       "<table border=\"1\" class=\"dataframe\">\n",
       "  <thead>\n",
       "    <tr style=\"text-align: right;\">\n",
       "      <th></th>\n",
       "      <th>label</th>\n",
       "      <th>features</th>\n",
       "      <th>rawPrediction</th>\n",
       "      <th>prediction</th>\n",
       "      <th>probability</th>\n",
       "    </tr>\n",
       "  </thead>\n",
       "  <tbody>\n",
       "    <tr>\n",
       "      <th>0</th>\n",
       "      <td>6</td>\n",
       "      <td>[5.214084208452194, 4.563738884577623, 0.82631...</td>\n",
       "      <td>[-100.68718831219716, -100.68718831219716, -10...</td>\n",
       "      <td>7.0</td>\n",
       "      <td>[1.118651445000295e-64, 1.118651445000295e-64,...</td>\n",
       "    </tr>\n",
       "    <tr>\n",
       "      <th>1</th>\n",
       "      <td>5</td>\n",
       "      <td>[5.451088036109111, 4.414921312254439, 0.0, 0....</td>\n",
       "      <td>[-101.31414025731624, -101.31414025731624, -10...</td>\n",
       "      <td>5.0</td>\n",
       "      <td>[4.544807838637659e-65, 4.544807838637659e-65,...</td>\n",
       "    </tr>\n",
       "    <tr>\n",
       "      <th>2</th>\n",
       "      <td>7</td>\n",
       "      <td>[5.6880918637660285, 1.6865991529960778, 2.313...</td>\n",
       "      <td>[-100.8631363125847, -100.8631363125847, -100....</td>\n",
       "      <td>6.0</td>\n",
       "      <td>[7.318758296540286e-65, 7.318758296540286e-65,...</td>\n",
       "    </tr>\n",
       "    <tr>\n",
       "      <th>3</th>\n",
       "      <td>6</td>\n",
       "      <td>[5.806593777594489, 2.331475299729872, 2.23103...</td>\n",
       "      <td>[-101.33355361180145, -101.33355361180145, -10...</td>\n",
       "      <td>6.0</td>\n",
       "      <td>[3.046583628251429e-65, 3.046583628251429e-65,...</td>\n",
       "    </tr>\n",
       "    <tr>\n",
       "      <th>4</th>\n",
       "      <td>8</td>\n",
       "      <td>[5.806593777594489, 3.273986591110033, 2.56156...</td>\n",
       "      <td>[-100.58998177615256, -100.58998177615256, -10...</td>\n",
       "      <td>7.0</td>\n",
       "      <td>[5.059808133835098e-65, 5.059808133835098e-65,...</td>\n",
       "    </tr>\n",
       "    <tr>\n",
       "      <th>5</th>\n",
       "      <td>6</td>\n",
       "      <td>[5.806593777594489, 4.662950599459744, 1.40472...</td>\n",
       "      <td>[-100.80935685542721, -100.80935685542721, -10...</td>\n",
       "      <td>6.0</td>\n",
       "      <td>[1.1907475820499528e-64, 1.1907475820499528e-6...</td>\n",
       "    </tr>\n",
       "    <tr>\n",
       "      <th>6</th>\n",
       "      <td>8</td>\n",
       "      <td>[5.925095691422947, 2.8771397315815443, 4.4620...</td>\n",
       "      <td>[-100.8338830125358, -100.8338830125358, -100....</td>\n",
       "      <td>6.0</td>\n",
       "      <td>[5.5586703394021206e-65, 5.5586703394021206e-6...</td>\n",
       "    </tr>\n",
       "    <tr>\n",
       "      <th>7</th>\n",
       "      <td>6</td>\n",
       "      <td>[5.925095691422947, 3.4724100208742774, 2.0657...</td>\n",
       "      <td>[-101.08942896261192, -101.08942896261192, -10...</td>\n",
       "      <td>6.0</td>\n",
       "      <td>[7.091210872309956e-65, 7.091210872309956e-65,...</td>\n",
       "    </tr>\n",
       "    <tr>\n",
       "      <th>8</th>\n",
       "      <td>5</td>\n",
       "      <td>[6.0435976052514055, 2.0834460125245666, 2.313...</td>\n",
       "      <td>[-101.03185671299464, -101.03185671299464, -10...</td>\n",
       "      <td>6.0</td>\n",
       "      <td>[5.815180736774023e-65, 5.815180736774023e-65,...</td>\n",
       "    </tr>\n",
       "    <tr>\n",
       "      <th>9</th>\n",
       "      <td>5</td>\n",
       "      <td>[6.0435976052514055, 2.2818694422888113, 1.487...</td>\n",
       "      <td>[-100.78581340012312, -100.78581340012312, -10...</td>\n",
       "      <td>6.0</td>\n",
       "      <td>[1.0110335706728609e-64, 1.0110335706728609e-6...</td>\n",
       "    </tr>\n",
       "  </tbody>\n",
       "</table>\n",
       "</div>"
      ],
      "text/plain": [
       "   label                                           features  \\\n",
       "0      6  [5.214084208452194, 4.563738884577623, 0.82631...   \n",
       "1      5  [5.451088036109111, 4.414921312254439, 0.0, 0....   \n",
       "2      7  [5.6880918637660285, 1.6865991529960778, 2.313...   \n",
       "3      6  [5.806593777594489, 2.331475299729872, 2.23103...   \n",
       "4      8  [5.806593777594489, 3.273986591110033, 2.56156...   \n",
       "5      6  [5.806593777594489, 4.662950599459744, 1.40472...   \n",
       "6      8  [5.925095691422947, 2.8771397315815443, 4.4620...   \n",
       "7      6  [5.925095691422947, 3.4724100208742774, 2.0657...   \n",
       "8      5  [6.0435976052514055, 2.0834460125245666, 2.313...   \n",
       "9      5  [6.0435976052514055, 2.2818694422888113, 1.487...   \n",
       "\n",
       "                                       rawPrediction  prediction  \\\n",
       "0  [-100.68718831219716, -100.68718831219716, -10...         7.0   \n",
       "1  [-101.31414025731624, -101.31414025731624, -10...         5.0   \n",
       "2  [-100.8631363125847, -100.8631363125847, -100....         6.0   \n",
       "3  [-101.33355361180145, -101.33355361180145, -10...         6.0   \n",
       "4  [-100.58998177615256, -100.58998177615256, -10...         7.0   \n",
       "5  [-100.80935685542721, -100.80935685542721, -10...         6.0   \n",
       "6  [-100.8338830125358, -100.8338830125358, -100....         6.0   \n",
       "7  [-101.08942896261192, -101.08942896261192, -10...         6.0   \n",
       "8  [-101.03185671299464, -101.03185671299464, -10...         6.0   \n",
       "9  [-100.78581340012312, -100.78581340012312, -10...         6.0   \n",
       "\n",
       "                                         probability  \n",
       "0  [1.118651445000295e-64, 1.118651445000295e-64,...  \n",
       "1  [4.544807838637659e-65, 4.544807838637659e-65,...  \n",
       "2  [7.318758296540286e-65, 7.318758296540286e-65,...  \n",
       "3  [3.046583628251429e-65, 3.046583628251429e-65,...  \n",
       "4  [5.059808133835098e-65, 5.059808133835098e-65,...  \n",
       "5  [1.1907475820499528e-64, 1.1907475820499528e-6...  \n",
       "6  [5.5586703394021206e-65, 5.5586703394021206e-6...  \n",
       "7  [7.091210872309956e-65, 7.091210872309956e-65,...  \n",
       "8  [5.815180736774023e-65, 5.815180736774023e-65,...  \n",
       "9  [1.0110335706728609e-64, 1.0110335706728609e-6...  "
      ]
     },
     "execution_count": 29,
     "metadata": {},
     "output_type": "execute_result"
    }
   ],
   "source": [
    "predictions.select(\n",
    "    'label',\n",
    "    'features',\n",
    "    'rawPrediction',\n",
    "    'prediction',\n",
    "    'probability'\n",
    ").toPandas()\\\n",
    ".head(10)"
   ]
  },
  {
   "cell_type": "code",
   "execution_count": null,
   "id": "d5d99b9f-7497-4b89-99dc-c78cb98e8be2",
   "metadata": {},
   "outputs": [],
   "source": []
  },
  {
   "cell_type": "code",
   "execution_count": null,
   "id": "e30460b2-1928-406b-a813-f328e89a3fc8",
   "metadata": {},
   "outputs": [],
   "source": []
  }
 ],
 "metadata": {
  "language_info": {
   "codemirror_mode": {
    "name": "ipython",
    "version": 3
   },
   "file_extension": ".py",
   "mimetype": "text/x-python",
   "name": "python",
   "nbconvert_exporter": "python",
   "pygments_lexer": "ipython3",
   "version": "3.8.15"
  }
 },
 "nbformat": 4,
 "nbformat_minor": 5
}
