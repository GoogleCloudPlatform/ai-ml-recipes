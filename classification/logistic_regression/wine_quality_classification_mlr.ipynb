{
 "cells": [
  {
   "cell_type": "markdown",
   "id": "a0293b07-d50b-440f-a8e9-255aa925a6d2",
   "metadata": {
    "tags": []
   },
   "source": [
    "# Wine Quality Classification"
   ]
  },
  {
   "cell_type": "markdown",
   "id": "7bb9457a-4696-4ebb-bb20-697436d93e82",
   "metadata": {},
   "source": [
    "## Overview"
   ]
  },
  {
   "cell_type": "markdown",
   "id": "e59039a0-b3c3-4023-830f-662605bea056",
   "metadata": {
    "jp-MarkdownHeadingCollapsed": true,
    "tags": []
   },
   "source": [
    "### Multinomial Logistic Regression\n",
    "\n",
    "<strong>Type</strong>: Classification </p>\n",
    "<strong>UCI Open Source Dataset</strong>: [Wine Quality](https://archive.ics.uci.edu/dataset/186/wine+quality) </p>\n",
    "\n",
    "This dataset contains red and white vinho verde wine samples, from the north of Portugal, and wine quality data based on physicochemical tests [Cortez et al., 2009](http://www3.dsi.uminho.pt/pcortez/wine/). \n",
    "\n",
    "<strong>Problem</strong>: Imagine you are a wine specialist who is looking for an automated way to categorize the wines you find based on wine quality data from physicochemical tests. You could use a machine learning algorithm to train a model that would be able to predict the quality of a wine based on its physicochemical properties. This would allow you to quickly and easily categorize new wines that you find, without having to manually taste them.\n",
    "\n",
    "Here are some of the benefits of using an automated wine categorization system:\n",
    "\n",
    "- <strong>Speed</strong>: An automated system can categorize wines much faster than a human can. This is especially beneficial for wine retailers and distributors who need to quickly categorize large numbers of wines.\n",
    "- <strong>Accuracy</strong>: An automated system can be more accurate than a human when it comes to categorizing wines. This is because the system is not influenced by personal biases or preferences.\n",
    "- <strong>Consistency</strong>: An automated system will consistently categorize wines in the same way, which can help to ensure that customers are getting the wines they expect.\n",
    "\n",
    "If you are a wine specialist who is looking for an efficient and accurate way to categorize wines, then an automated system may be the perfect solution for you."
   ]
  },
  {
   "cell_type": "markdown",
   "id": "1f8e5893-eb68-4721-b083-da5b40f78ac4",
   "metadata": {},
   "source": [
    "## Setup"
   ]
  },
  {
   "cell_type": "code",
   "execution_count": 1,
   "id": "5377b0f3-bfdd-4153-a4b4-889962048eb4",
   "metadata": {},
   "outputs": [
    {
     "name": "stderr",
     "output_type": "stream",
     "text": [
      "/opt/conda/miniconda3/lib/python3.8/site-packages/scipy/__init__.py:138: UserWarning: A NumPy version >=1.16.5 and <1.23.0 is required for this version of SciPy (detected version 1.24.3)\n",
      "  warnings.warn(f\"A NumPy version >={np_minversion} and <{np_maxversion} is required for this version of \"\n"
     ]
    }
   ],
   "source": [
    "from google.cloud import storage, aiplatform, exceptions\n",
    "\n",
    "from pyspark.sql import SparkSession, Row\n",
    "from pyspark.sql.functions import col, countDistinct, isnan, sum, when, count, udf\n",
    "from pyspark.sql.types import StringType, IntegerType\n",
    "\n",
    "from pyspark.mllib.stat import Statistics\n",
    "from pyspark.ml.feature import StringIndexer, StandardScaler\n",
    "from pyspark.ml.classification import LogisticRegression\n",
    "from pyspark.ml.linalg import Vectors"
   ]
  },
  {
   "cell_type": "markdown",
   "id": "16aae3c7-b31d-42d6-bbe1-defe4057b24f",
   "metadata": {},
   "source": [
    "### Load dataset from public metastore"
   ]
  },
  {
   "cell_type": "code",
   "execution_count": 2,
   "id": "b252e0d9-a2a9-4cb4-944b-ee1cc5e9132e",
   "metadata": {},
   "outputs": [
    {
     "name": "stderr",
     "output_type": "stream",
     "text": [
      "ivysettings.xml file not found in HIVE_HOME or HIVE_CONF_DIR,/etc/hive/conf.dist/ivysettings.xml will be used\n"
     ]
    }
   ],
   "source": [
    "df = spark.read.table(\"public_datasets.winequality_white\")"
   ]
  },
  {
   "cell_type": "markdown",
   "id": "7cd099d7-9b79-412f-9cc6-421b281b2d14",
   "metadata": {
    "tags": []
   },
   "source": [
    "## Exploratory Data Analysis"
   ]
  },
  {
   "cell_type": "code",
   "execution_count": 3,
   "id": "5eee0eaa-4890-4a7a-bd96-fb59ee658b38",
   "metadata": {},
   "outputs": [],
   "source": [
    "spark = SparkSession.builder \\\n",
    "    .appName(\"Multinomial logistic regression Wine Quality\") \\\n",
    "    .enableHiveSupport() \\\n",
    "    .getOrCreate()"
   ]
  },
  {
   "cell_type": "code",
   "execution_count": 4,
   "id": "a410dadd-1328-4461-bbf8-1d2f4c6ea6c5",
   "metadata": {},
   "outputs": [
    {
     "name": "stdout",
     "output_type": "stream",
     "text": [
      "PySpark Version :3.1.3\n"
     ]
    }
   ],
   "source": [
    "print('PySpark Version :'+spark.version)"
   ]
  },
  {
   "cell_type": "code",
   "execution_count": 5,
   "id": "26707730-739c-4946-aa4b-1d8375b68c86",
   "metadata": {
    "tags": []
   },
   "outputs": [
    {
     "name": "stderr",
     "output_type": "stream",
     "text": [
      "[Stage 0:>                                                          (0 + 1) / 1]\r"
     ]
    },
    {
     "name": "stdout",
     "output_type": "stream",
     "text": [
      "+-------------+----------------+-----------+--------------+---------+-------------------+--------------------+-------+----+---------+-------+-------+\n",
      "|fixed_acidity|volatile_acidity|citric_acid|residual_sugar|chlorides|free_sulfur_dioxide|total_sulfur_dioxide|density|  pH|sulphates|alcohol|quality|\n",
      "+-------------+----------------+-----------+--------------+---------+-------------------+--------------------+-------+----+---------+-------+-------+\n",
      "|          7.0|            0.27|       0.36|          20.7|    0.045|               45.0|               170.0|  1.001| 3.0|     0.45|    8.8|      6|\n",
      "|          6.3|             0.3|       0.34|           1.6|    0.049|               14.0|               132.0|  0.994| 3.3|     0.49|    9.5|      6|\n",
      "|          8.1|            0.28|        0.4|           6.9|     0.05|               30.0|                97.0| 0.9951|3.26|     0.44|   10.1|      6|\n",
      "|          7.2|            0.23|       0.32|           8.5|    0.058|               47.0|               186.0| 0.9956|3.19|      0.4|    9.9|      6|\n",
      "|          7.2|            0.23|       0.32|           8.5|    0.058|               47.0|               186.0| 0.9956|3.19|      0.4|    9.9|      6|\n",
      "+-------------+----------------+-----------+--------------+---------+-------------------+--------------------+-------+----+---------+-------+-------+\n",
      "only showing top 5 rows\n",
      "\n"
     ]
    },
    {
     "name": "stderr",
     "output_type": "stream",
     "text": [
      "                                                                                \r"
     ]
    }
   ],
   "source": [
    "df.show(5, 50)"
   ]
  },
  {
   "cell_type": "markdown",
   "id": "ee393d03-4f05-42ce-b9bd-d773a57f6494",
   "metadata": {},
   "source": [
    "### DataFrame Column Data Types"
   ]
  },
  {
   "cell_type": "markdown",
   "id": "4c94e725-fedf-4eef-9ba7-b3b8810f3012",
   "metadata": {},
   "source": [
    "DataFrames may have heterogenous or \"mixed\" data types, that is, some columns are numbers, some are strings, and some are dates etc. Because CSV files do not contain information on what data types are contained in each column, Pandas infers the data types when loading the data, e.g. if a column contains only numbers, Pandas will set that column’s data type to numeric: integer or float.\n",
    "\n",
    "Run the next cell to see information on the DataFrame."
   ]
  },
  {
   "cell_type": "code",
   "execution_count": 6,
   "id": "3649f263-ea02-4660-91bf-5cec489dd1fd",
   "metadata": {},
   "outputs": [
    {
     "name": "stdout",
     "output_type": "stream",
     "text": [
      "root\n",
      " |-- fixed_acidity: double (nullable = true)\n",
      " |-- volatile_acidity: double (nullable = true)\n",
      " |-- citric_acid: double (nullable = true)\n",
      " |-- residual_sugar: double (nullable = true)\n",
      " |-- chlorides: double (nullable = true)\n",
      " |-- free_sulfur_dioxide: double (nullable = true)\n",
      " |-- total_sulfur_dioxide: double (nullable = true)\n",
      " |-- density: double (nullable = true)\n",
      " |-- pH: double (nullable = true)\n",
      " |-- sulphates: double (nullable = true)\n",
      " |-- alcohol: double (nullable = true)\n",
      " |-- quality: integer (nullable = true)\n",
      "\n"
     ]
    }
   ],
   "source": [
    "df.printSchema()"
   ]
  },
  {
   "cell_type": "markdown",
   "id": "329201b2-9b22-4c41-940f-cefdfc92b525",
   "metadata": {},
   "source": [
    "### Summary Statistics \n",
    "\n",
    "At this point, we have all columns contains numerical values. For features which contain numerical values, we are often interested in various statistical measures relating to those values."
   ]
  },
  {
   "cell_type": "code",
   "execution_count": 7,
   "id": "b9378955-696c-4a1f-a44f-6401dbd5d5e2",
   "metadata": {},
   "outputs": [
    {
     "name": "stderr",
     "output_type": "stream",
     "text": [
      "[Stage 1:>                                                          (0 + 1) / 1]\r"
     ]
    },
    {
     "name": "stdout",
     "output_type": "stream",
     "text": [
      "+-------+------------------+-------------------+-------------------+-----------------+--------------------+-------------------+--------------------+--------------------+-------------------+-------------------+------------------+------------------+\n",
      "|summary|     fixed_acidity|   volatile_acidity|        citric_acid|   residual_sugar|           chlorides|free_sulfur_dioxide|total_sulfur_dioxide|             density|                 pH|          sulphates|           alcohol|           quality|\n",
      "+-------+------------------+-------------------+-------------------+-----------------+--------------------+-------------------+--------------------+--------------------+-------------------+-------------------+------------------+------------------+\n",
      "|  count|              4898|               4898|               4898|             4898|                4898|               4898|                4898|                4898|               4898|               4898|              4898|              4898|\n",
      "|   mean| 6.854787668436075|0.27824111882401087|0.33419150673743736|6.391414863209486|  0.0457723560636995|  35.30808493262556|  138.36065741118824|  0.9940273764801896| 3.1882666394446693| 0.4898468762760325|10.514267047774638|  5.87790935075541|\n",
      "| stddev|0.8438682276875127|0.10079454842486532|0.12101980420298254|5.072057784014878|0.021847968093728805|  17.00713732523259|  42.498064554142985|0.002990906916936997|0.15100059961506673|0.11412583394883222|  1.23062056775732|0.8856385749678322|\n",
      "|    min|               3.8|               0.08|                0.0|              0.6|               0.009|                2.0|                 9.0|             0.98711|               2.72|               0.22|               8.0|                 3|\n",
      "|    max|              14.2|                1.1|               1.66|             65.8|               0.346|              289.0|               440.0|             1.03898|               3.82|               1.08|              14.2|                 9|\n",
      "+-------+------------------+-------------------+-------------------+-----------------+--------------------+-------------------+--------------------+--------------------+-------------------+-------------------+------------------+------------------+\n",
      "\n"
     ]
    },
    {
     "name": "stderr",
     "output_type": "stream",
     "text": [
      "                                                                                \r"
     ]
    }
   ],
   "source": [
    "df.describe().show(5,50)"
   ]
  },
  {
   "cell_type": "markdown",
   "id": "ff21c0b9-1b62-4e4c-b9c8-673d802ef0c5",
   "metadata": {},
   "source": [
    "Let's investigate a bit more of our target data by using the .groupby() function."
   ]
  },
  {
   "cell_type": "code",
   "execution_count": 8,
   "id": "f60cd56e-1d9f-43f3-84f4-8a0b696a620b",
   "metadata": {},
   "outputs": [
    {
     "name": "stderr",
     "output_type": "stream",
     "text": [
      "                                                                                \r"
     ]
    },
    {
     "name": "stdout",
     "output_type": "stream",
     "text": [
      "+-------+-----+\n",
      "|quality|count|\n",
      "+-------+-----+\n",
      "|      6| 2198|\n",
      "|      3|   20|\n",
      "|      5| 1457|\n",
      "|      9|    5|\n",
      "|      4|  163|\n",
      "+-------+-----+\n",
      "only showing top 5 rows\n",
      "\n"
     ]
    }
   ],
   "source": [
    "df.groupby(\n",
    "    col('quality')).\\\n",
    "    count().\\\n",
    "    show(5,50)"
   ]
  },
  {
   "cell_type": "markdown",
   "id": "658e23ae-3904-4fdc-99b7-539cf4aa5609",
   "metadata": {},
   "source": [
    "We can see here that the data is <b>imbalanced</b> for our target. <b>Imbalanced</b> data is a common problem in machine learning, where the number of samples in one class is much larger than the number of samples in another class. This can make it difficult to train a model that can accurately predict the minority class. There are a number of techniques that can be used to handle imbalanced data, including:\n",
    "\n",
    "- <b>Resampling</b>: This involves increasing the number of samples in the minority class or decreasing the number of samples in the majority class. This can be done by oversampling the minority class (creating new samples), undersampling the majority class (removing samples), or a combination of both.\n",
    "- <b>Cost-sensitive learning</b>: This involves assigning different costs to misclassifications of different classes. This can help to focus the model on correctly classifying the minority class.\n",
    "- <b>Ensemble learning</b>: This involves training multiple models on different subsets of the data and then combining the predictions of the models. This can help to improve the accuracy of the model on the minority class."
   ]
  },
  {
   "cell_type": "markdown",
   "id": "101507c8-b4ab-432d-8b0f-0eaeadbc55d7",
   "metadata": {},
   "source": [
    "We need to <b>resample</b> the data to balance the dataset. However, before we do that, we need to check if there are any issues with the data that need to be resolved. For example, we need to make sure that there are no missing values in the data. We also need to make sure that the data is not corrupted. Once we have resolved any issues with the data, we can then resample it to balance the dataset."
   ]
  },
  {
   "cell_type": "markdown",
   "id": "0974fcc1-3ed1-4e6d-a9ee-a7cea7733e4b",
   "metadata": {},
   "source": [
    "### DataFrame Column Data Types"
   ]
  },
  {
   "cell_type": "markdown",
   "id": "74c4609c-a771-41c8-ac8f-042b59779f85",
   "metadata": {},
   "source": [
    "DataFrames may have heterogenous or \"mixed\" data types, that is, some columns are numbers, some are strings, and some are dates etc. Because CSV files do not contain information on what data types are contained in each column, Pandas infers the data types when loading the data, e.g. if a column contains only numbers, Pandas will set that column’s data type to numeric: integer or float.\n",
    "\n",
    "Run the next cell to see information on the DataFrame."
   ]
  },
  {
   "cell_type": "code",
   "execution_count": 9,
   "id": "98cd535f-51d2-4b47-922a-9ae8d95df88b",
   "metadata": {},
   "outputs": [
    {
     "name": "stdout",
     "output_type": "stream",
     "text": [
      "root\n",
      " |-- fixed_acidity: double (nullable = true)\n",
      " |-- volatile_acidity: double (nullable = true)\n",
      " |-- citric_acid: double (nullable = true)\n",
      " |-- residual_sugar: double (nullable = true)\n",
      " |-- chlorides: double (nullable = true)\n",
      " |-- free_sulfur_dioxide: double (nullable = true)\n",
      " |-- total_sulfur_dioxide: double (nullable = true)\n",
      " |-- density: double (nullable = true)\n",
      " |-- pH: double (nullable = true)\n",
      " |-- sulphates: double (nullable = true)\n",
      " |-- alcohol: double (nullable = true)\n",
      " |-- quality: integer (nullable = true)\n",
      "\n"
     ]
    }
   ],
   "source": [
    "df.printSchema()"
   ]
  },
  {
   "cell_type": "markdown",
   "id": "089dd53c-3a65-4c1e-90cc-452252dd13b7",
   "metadata": {},
   "source": [
    "### Summary Statistics \n",
    "\n",
    "At this point, we have all columns contains numerical values. For features which contain numerical values, we are often interested in various statistical measures relating to those values."
   ]
  },
  {
   "cell_type": "code",
   "execution_count": 10,
   "id": "ceddaed6-39a8-400e-8a51-743b030d19d0",
   "metadata": {},
   "outputs": [
    {
     "name": "stderr",
     "output_type": "stream",
     "text": [
      "[Stage 11:>                                                         (0 + 1) / 1]\r"
     ]
    },
    {
     "name": "stdout",
     "output_type": "stream",
     "text": [
      "+-------+------------------+-------------------+-------------------+-----------------+--------------------+-------------------+--------------------+--------------------+-------------------+-------------------+------------------+------------------+\n",
      "|summary|     fixed_acidity|   volatile_acidity|        citric_acid|   residual_sugar|           chlorides|free_sulfur_dioxide|total_sulfur_dioxide|             density|                 pH|          sulphates|           alcohol|           quality|\n",
      "+-------+------------------+-------------------+-------------------+-----------------+--------------------+-------------------+--------------------+--------------------+-------------------+-------------------+------------------+------------------+\n",
      "|  count|              4898|               4898|               4898|             4898|                4898|               4898|                4898|                4898|               4898|               4898|              4898|              4898|\n",
      "|   mean| 6.854787668436075|0.27824111882401087|0.33419150673743736|6.391414863209486|  0.0457723560636995|  35.30808493262556|  138.36065741118824|  0.9940273764801896| 3.1882666394446693| 0.4898468762760325|10.514267047774638|  5.87790935075541|\n",
      "| stddev|0.8438682276875127|0.10079454842486532|0.12101980420298254|5.072057784014878|0.021847968093728805|  17.00713732523259|  42.498064554142985|0.002990906916936997|0.15100059961506673|0.11412583394883222|  1.23062056775732|0.8856385749678322|\n",
      "|    min|               3.8|               0.08|                0.0|              0.6|               0.009|                2.0|                 9.0|             0.98711|               2.72|               0.22|               8.0|                 3|\n",
      "|    max|              14.2|                1.1|               1.66|             65.8|               0.346|              289.0|               440.0|             1.03898|               3.82|               1.08|              14.2|                 9|\n",
      "+-------+------------------+-------------------+-------------------+-----------------+--------------------+-------------------+--------------------+--------------------+-------------------+-------------------+------------------+------------------+\n",
      "\n"
     ]
    },
    {
     "name": "stderr",
     "output_type": "stream",
     "text": [
      "                                                                                \r"
     ]
    }
   ],
   "source": [
    "df.describe().show(5,50)"
   ]
  },
  {
   "cell_type": "markdown",
   "id": "8ab092e4-ed42-48fc-bb58-e277cf8d145d",
   "metadata": {},
   "source": [
    "Let's investigate a bit more of our target data by using the .groupby() function."
   ]
  },
  {
   "cell_type": "code",
   "execution_count": 11,
   "id": "1ca6847b-9366-4bed-b6e3-9f4ddd9a2db4",
   "metadata": {},
   "outputs": [
    {
     "name": "stdout",
     "output_type": "stream",
     "text": [
      "+-------+-----+\n",
      "|quality|count|\n",
      "+-------+-----+\n",
      "|      6| 2198|\n",
      "|      3|   20|\n",
      "|      5| 1457|\n",
      "|      9|    5|\n",
      "|      4|  163|\n",
      "+-------+-----+\n",
      "only showing top 5 rows\n",
      "\n"
     ]
    }
   ],
   "source": [
    "df.groupby(\n",
    "    col('quality')).\\\n",
    "    count().\\\n",
    "    show(5,50)"
   ]
  },
  {
   "cell_type": "markdown",
   "id": "569083aa-79b5-4b48-b183-5d04172406d5",
   "metadata": {},
   "source": [
    "We can see here that the data is <b>imbalanced</b> for our target. <b>Imbalanced</b> data is a common problem in machine learning, where the number of samples in one class is much larger than the number of samples in another class. This can make it difficult to train a model that can accurately predict the minority class. There are a number of techniques that can be used to handle imbalanced data, including:\n",
    "\n",
    "- <b>Resampling</b>: This involves increasing the number of samples in the minority class or decreasing the number of samples in the majority class. This can be done by oversampling the minority class (creating new samples), undersampling the majority class (removing samples), or a combination of both.\n",
    "- <b>Cost-sensitive learning</b>: This involves assigning different costs to misclassifications of different classes. This can help to focus the model on correctly classifying the minority class.\n",
    "- <b>Ensemble learning</b>: This involves training multiple models on different subsets of the data and then combining the predictions of the models. This can help to improve the accuracy of the model on the minority class."
   ]
  },
  {
   "cell_type": "markdown",
   "id": "b847b372-0ccc-4ebb-81a8-51bcc52d821e",
   "metadata": {},
   "source": [
    "We need to <b>resample</b> the data to balance the dataset. However, before we do that, we need to check if there are any issues with the data that need to be resolved. For example, we need to make sure that there are no missing values in the data. We also need to make sure that the data is not corrupted. Once we have resolved any issues with the data, we can then resample it to balance the dataset."
   ]
  },
  {
   "cell_type": "markdown",
   "id": "8ddec5b6-35ec-4142-9045-4a3e049fdec2",
   "metadata": {},
   "source": [
    "### Let's summarize our data by row, column, features, unique, and missing values."
   ]
  },
  {
   "cell_type": "code",
   "execution_count": 12,
   "id": "e6a4a9c8-11cf-4652-91ce-56af6232bae5",
   "metadata": {},
   "outputs": [
    {
     "name": "stdout",
     "output_type": "stream",
     "text": [
      "Rows     :  4898\n",
      "Columns  :  12\n",
      "\n",
      "Features : \n",
      " ['fixed_acidity', 'volatile_acidity', 'citric_acid', 'residual_sugar', 'chlorides', 'free_sulfur_dioxide', 'total_sulfur_dioxide', 'density', 'pH', 'sulphates', 'alcohol', 'quality']\n",
      "\n",
      " Count Distinct values :  \n",
      "+-------------+----------------+-----------+--------------+---------+-------------------+--------------------+-------+---+---------+-------+-------+\n",
      "|fixed_acidity|volatile_acidity|citric_acid|residual_sugar|chlorides|free_sulfur_dioxide|total_sulfur_dioxide|density| pH|sulphates|alcohol|quality|\n",
      "+-------------+----------------+-----------+--------------+---------+-------------------+--------------------+-------+---+---------+-------+-------+\n",
      "|           68|             125|         87|           310|      160|                132|                 251|    890|103|       79|    103|      7|\n",
      "+-------------+----------------+-----------+--------------+---------+-------------------+--------------------+-------+---+---------+-------+-------+\n",
      "\n",
      "\n",
      "Unique values :  \n",
      " None\n",
      "\n",
      "Missing values :   \n",
      "+-------------+----------------+-----------+--------------+---------+-------------------+--------------------+-------+---+---------+-------+-------+\n",
      "|fixed_acidity|volatile_acidity|citric_acid|residual_sugar|chlorides|free_sulfur_dioxide|total_sulfur_dioxide|density| pH|sulphates|alcohol|quality|\n",
      "+-------------+----------------+-----------+--------------+---------+-------------------+--------------------+-------+---+---------+-------+-------+\n",
      "|            0|               0|          0|             0|        0|                  0|                   0|      0|  0|        0|      0|      0|\n",
      "+-------------+----------------+-----------+--------------+---------+-------------------+--------------------+-------+---+---------+-------+-------+\n",
      "\n"
     ]
    }
   ],
   "source": [
    "print (\"Rows     : \" ,df.count())\n",
    "print (\"Columns  : \" ,len(df.columns))\n",
    "print (\"\\nFeatures : \\n\" ,df.columns)\n",
    "print (\"\\n Count Distinct values : \", \"\")\n",
    "expression = [countDistinct(c).alias(c) for c in df.columns]\n",
    "print (\"\\nUnique values :  \\n\", df.select(*expression).show())\n",
    "print (\"\\nMissing values :  \", \"\")\n",
    "df.select([count(when(isnan(c) | col(c).isNull(), c)).alias(c) for c in df.columns]).show()\n"
   ]
  },
  {
   "cell_type": "markdown",
   "id": "90f22c89-83b6-4820-a72e-5eb12e393ee1",
   "metadata": {},
   "source": [
    "There no missing values, or other data issue. So we can ressample the data."
   ]
  },
  {
   "cell_type": "markdown",
   "id": "7456c90b-303f-411f-8299-9857ca1c1fea",
   "metadata": {},
   "source": [
    "### Distribution of Features"
   ]
  },
  {
   "cell_type": "code",
   "execution_count": 13,
   "id": "e9ee5820-cc29-410e-9d69-bbd774248e95",
   "metadata": {},
   "outputs": [
    {
     "data": {
      "image/png": "[encoded data removed]",
      "text/plain": [
       "<Figure size 2000x1000 with 10 Axes>"
      ]
     },
     "metadata": {},
     "output_type": "display_data"
    }
   ],
   "source": [
    "import matplotlib.pyplot as plt\n",
    "from matplotlib import cm\n",
    "\n",
    "fig = plt.figure(figsize=(20,10))\n",
    "st = fig.suptitle(\"Distribution of Features\",\n",
    "                  fontsize=20,\n",
    "                  verticalalignment='center')\n",
    "\n",
    "for col,num in zip(df.toPandas().describe().columns, range(1,11)):\n",
    "    ax = fig.add_subplot(3,4,num)\n",
    "    ax.hist(df.toPandas()[col])\n",
    "    plt.grid(False)\n",
    "    plt.xticks(rotation=45,fontsize=10)\n",
    "    plt.yticks(fontsize=10)\n",
    "    plt.title(col.upper(),fontsize=20)\n",
    "plt.tight_layout()\n",
    "st.set_y(0.95)\n",
    "fig.subplots_adjust(top=0.85,hspace = 0.4)\n",
    "plt.show()"
   ]
  },
  {
   "cell_type": "markdown",
   "id": "a040f021-3f5b-40e5-98ed-a5069f133578",
   "metadata": {},
   "source": [
    "Great part of freatures had a normal distribution, also known as the Gaussian distribution, is a continuous probability distribution that is widely used in statistical modeling and machine learning. It is a bell-shaped curve that is symmetrical around its mean and is characterized by its mean and standard deviation.\n",
    "\n",
    "In machine learning, data that is normally distributed is beneficial for model building because it makes the math easier. Many machine learning algorithms, such as linear regression and logistic regression, are explicitly calculated from the assumption that the distribution is a bivariate or multivariate normal. Additionally, sigmoid functions work most naturally with normally distributed data."
   ]
  },
  {
   "cell_type": "markdown",
   "id": "fa1f18b8-5879-43c2-b04b-df45061210eb",
   "metadata": {},
   "source": [
    "### Rename a Feature Column "
   ]
  },
  {
   "cell_type": "markdown",
   "id": "1c7de40f-ec11-4232-b165-967d013eb27e",
   "metadata": {},
   "source": [
    "Our feature columns have different \"capitalizations\" in their names, e.g. both upper and lower \"case\".  In addition, there are \"spaces\" in some of the column names. "
   ]
  },
  {
   "cell_type": "code",
   "execution_count": 14,
   "id": "19730bcd-71c5-4247-b0af-3da9932b3f89",
   "metadata": {},
   "outputs": [],
   "source": [
    "df = df.withColumnRenamed(\"fixed acidity\",\"fixed_acidity\")\\\n",
    ".withColumnRenamed(\"volatile acidity\",\"volatile_acidity\")\\\n",
    ".withColumnRenamed(\"citric acid\",\"citric_acid\")\\\n",
    ".withColumnRenamed(\"residual sugar\",\"residual_sugar\")\\\n",
    ".withColumnRenamed(\"chlorides\",\"chlorides\")\\\n",
    ".withColumnRenamed(\"free sulfur dioxide\",\"free_sulfur_dioxide\")\\\n",
    ".withColumnRenamed(\"total sulfur dioxide\",\"total_sulfur_dioxide\")\\\n",
    ".withColumnRenamed(\"density\",\"density\")\\\n",
    ".withColumnRenamed(\"pH\",\"pH\")\\\n",
    ".withColumnRenamed(\"sulphates\",\"sulphates\")\\\n",
    ".withColumnRenamed(\"alcohol\",\"alcohol\")\\\n",
    ".withColumnRenamed(\"quality\",\"quality\")"
   ]
  },
  {
   "cell_type": "code",
   "execution_count": 15,
   "id": "ad4177e6-249b-4b30-aa4f-f152898d2fbc",
   "metadata": {},
   "outputs": [
    {
     "name": "stdout",
     "output_type": "stream",
     "text": [
      "root\n",
      " |-- fixed_acidity: double (nullable = true)\n",
      " |-- volatile_acidity: double (nullable = true)\n",
      " |-- citric_acid: double (nullable = true)\n",
      " |-- residual_sugar: double (nullable = true)\n",
      " |-- chlorides: double (nullable = true)\n",
      " |-- free_sulfur_dioxide: double (nullable = true)\n",
      " |-- total_sulfur_dioxide: double (nullable = true)\n",
      " |-- density: double (nullable = true)\n",
      " |-- pH: double (nullable = true)\n",
      " |-- sulphates: double (nullable = true)\n",
      " |-- alcohol: double (nullable = true)\n",
      " |-- quality: integer (nullable = true)\n",
      "\n"
     ]
    }
   ],
   "source": [
    "df.printSchema()"
   ]
  },
  {
   "cell_type": "markdown",
   "id": "24e7c3c3-c5b4-43e1-a283-bcaa9dc232a9",
   "metadata": {},
   "source": [
    "### Pearson Correlation"
   ]
  },
  {
   "cell_type": "code",
   "execution_count": 16,
   "id": "afe091c9-b28f-43ba-aa47-edfb8abb0acd",
   "metadata": {},
   "outputs": [
    {
     "name": "stderr",
     "output_type": "stream",
     "text": [
      "                                                                                \r"
     ]
    },
    {
     "data": {
      "text/html": [
       "<div>\n",
       "<style scoped>\n",
       "    .dataframe tbody tr th:only-of-type {\n",
       "        vertical-align: middle;\n",
       "    }\n",
       "\n",
       "    .dataframe tbody tr th {\n",
       "        vertical-align: top;\n",
       "    }\n",
       "\n",
       "    .dataframe thead th {\n",
       "        text-align: right;\n",
       "    }\n",
       "</style>\n",
       "<table border=\"1\" class=\"dataframe\">\n",
       "  <thead>\n",
       "    <tr style=\"text-align: right;\">\n",
       "      <th></th>\n",
       "      <th>fixed_acidity</th>\n",
       "      <th>volatile_acidity</th>\n",
       "      <th>citric_acid</th>\n",
       "      <th>residual_sugar</th>\n",
       "      <th>chlorides</th>\n",
       "      <th>free_sulfur_dioxide</th>\n",
       "      <th>total_sulfur_dioxide</th>\n",
       "      <th>density</th>\n",
       "      <th>pH</th>\n",
       "      <th>sulphates</th>\n",
       "      <th>alcohol</th>\n",
       "      <th>quality</th>\n",
       "    </tr>\n",
       "  </thead>\n",
       "  <tbody>\n",
       "    <tr>\n",
       "      <th>fixed_acidity</th>\n",
       "      <td>1.000000</td>\n",
       "      <td>-0.022697</td>\n",
       "      <td>0.289181</td>\n",
       "      <td>0.089021</td>\n",
       "      <td>0.023086</td>\n",
       "      <td>-0.049396</td>\n",
       "      <td>0.091070</td>\n",
       "      <td>0.265331</td>\n",
       "      <td>-0.425858</td>\n",
       "      <td>-0.017143</td>\n",
       "      <td>-0.120881</td>\n",
       "      <td>-0.113663</td>\n",
       "    </tr>\n",
       "    <tr>\n",
       "      <th>volatile_acidity</th>\n",
       "      <td>-0.022697</td>\n",
       "      <td>1.000000</td>\n",
       "      <td>-0.149472</td>\n",
       "      <td>0.064286</td>\n",
       "      <td>0.070512</td>\n",
       "      <td>-0.097012</td>\n",
       "      <td>0.089261</td>\n",
       "      <td>0.027114</td>\n",
       "      <td>-0.031915</td>\n",
       "      <td>-0.035728</td>\n",
       "      <td>0.067718</td>\n",
       "      <td>-0.194723</td>\n",
       "    </tr>\n",
       "    <tr>\n",
       "      <th>citric_acid</th>\n",
       "      <td>0.289181</td>\n",
       "      <td>-0.149472</td>\n",
       "      <td>1.000000</td>\n",
       "      <td>0.094212</td>\n",
       "      <td>0.114364</td>\n",
       "      <td>0.094077</td>\n",
       "      <td>0.121131</td>\n",
       "      <td>0.149503</td>\n",
       "      <td>-0.163748</td>\n",
       "      <td>0.062331</td>\n",
       "      <td>-0.075729</td>\n",
       "      <td>-0.009209</td>\n",
       "    </tr>\n",
       "    <tr>\n",
       "      <th>residual_sugar</th>\n",
       "      <td>0.089021</td>\n",
       "      <td>0.064286</td>\n",
       "      <td>0.094212</td>\n",
       "      <td>1.000000</td>\n",
       "      <td>0.088685</td>\n",
       "      <td>0.299098</td>\n",
       "      <td>0.401439</td>\n",
       "      <td>0.838966</td>\n",
       "      <td>-0.194133</td>\n",
       "      <td>-0.026664</td>\n",
       "      <td>-0.450631</td>\n",
       "      <td>-0.097577</td>\n",
       "    </tr>\n",
       "    <tr>\n",
       "      <th>chlorides</th>\n",
       "      <td>0.023086</td>\n",
       "      <td>0.070512</td>\n",
       "      <td>0.114364</td>\n",
       "      <td>0.088685</td>\n",
       "      <td>1.000000</td>\n",
       "      <td>0.101392</td>\n",
       "      <td>0.198910</td>\n",
       "      <td>0.257211</td>\n",
       "      <td>-0.090439</td>\n",
       "      <td>0.016763</td>\n",
       "      <td>-0.360189</td>\n",
       "      <td>-0.209934</td>\n",
       "    </tr>\n",
       "    <tr>\n",
       "      <th>free_sulfur_dioxide</th>\n",
       "      <td>-0.049396</td>\n",
       "      <td>-0.097012</td>\n",
       "      <td>0.094077</td>\n",
       "      <td>0.299098</td>\n",
       "      <td>0.101392</td>\n",
       "      <td>1.000000</td>\n",
       "      <td>0.615501</td>\n",
       "      <td>0.294210</td>\n",
       "      <td>-0.000618</td>\n",
       "      <td>0.059217</td>\n",
       "      <td>-0.250104</td>\n",
       "      <td>0.008158</td>\n",
       "    </tr>\n",
       "    <tr>\n",
       "      <th>total_sulfur_dioxide</th>\n",
       "      <td>0.091070</td>\n",
       "      <td>0.089261</td>\n",
       "      <td>0.121131</td>\n",
       "      <td>0.401439</td>\n",
       "      <td>0.198910</td>\n",
       "      <td>0.615501</td>\n",
       "      <td>1.000000</td>\n",
       "      <td>0.529881</td>\n",
       "      <td>0.002321</td>\n",
       "      <td>0.134562</td>\n",
       "      <td>-0.448892</td>\n",
       "      <td>-0.174737</td>\n",
       "    </tr>\n",
       "    <tr>\n",
       "      <th>density</th>\n",
       "      <td>0.265331</td>\n",
       "      <td>0.027114</td>\n",
       "      <td>0.149503</td>\n",
       "      <td>0.838966</td>\n",
       "      <td>0.257211</td>\n",
       "      <td>0.294210</td>\n",
       "      <td>0.529881</td>\n",
       "      <td>1.000000</td>\n",
       "      <td>-0.093591</td>\n",
       "      <td>0.074493</td>\n",
       "      <td>-0.780138</td>\n",
       "      <td>-0.307123</td>\n",
       "    </tr>\n",
       "    <tr>\n",
       "      <th>pH</th>\n",
       "      <td>-0.425858</td>\n",
       "      <td>-0.031915</td>\n",
       "      <td>-0.163748</td>\n",
       "      <td>-0.194133</td>\n",
       "      <td>-0.090439</td>\n",
       "      <td>-0.000618</td>\n",
       "      <td>0.002321</td>\n",
       "      <td>-0.093591</td>\n",
       "      <td>1.000000</td>\n",
       "      <td>0.155951</td>\n",
       "      <td>0.121432</td>\n",
       "      <td>0.099427</td>\n",
       "    </tr>\n",
       "    <tr>\n",
       "      <th>sulphates</th>\n",
       "      <td>-0.017143</td>\n",
       "      <td>-0.035728</td>\n",
       "      <td>0.062331</td>\n",
       "      <td>-0.026664</td>\n",
       "      <td>0.016763</td>\n",
       "      <td>0.059217</td>\n",
       "      <td>0.134562</td>\n",
       "      <td>0.074493</td>\n",
       "      <td>0.155951</td>\n",
       "      <td>1.000000</td>\n",
       "      <td>-0.017433</td>\n",
       "      <td>0.053678</td>\n",
       "    </tr>\n",
       "    <tr>\n",
       "      <th>alcohol</th>\n",
       "      <td>-0.120881</td>\n",
       "      <td>0.067718</td>\n",
       "      <td>-0.075729</td>\n",
       "      <td>-0.450631</td>\n",
       "      <td>-0.360189</td>\n",
       "      <td>-0.250104</td>\n",
       "      <td>-0.448892</td>\n",
       "      <td>-0.780138</td>\n",
       "      <td>0.121432</td>\n",
       "      <td>-0.017433</td>\n",
       "      <td>1.000000</td>\n",
       "      <td>0.435575</td>\n",
       "    </tr>\n",
       "    <tr>\n",
       "      <th>quality</th>\n",
       "      <td>-0.113663</td>\n",
       "      <td>-0.194723</td>\n",
       "      <td>-0.009209</td>\n",
       "      <td>-0.097577</td>\n",
       "      <td>-0.209934</td>\n",
       "      <td>0.008158</td>\n",
       "      <td>-0.174737</td>\n",
       "      <td>-0.307123</td>\n",
       "      <td>0.099427</td>\n",
       "      <td>0.053678</td>\n",
       "      <td>0.435575</td>\n",
       "      <td>1.000000</td>\n",
       "    </tr>\n",
       "  </tbody>\n",
       "</table>\n",
       "</div>"
      ],
      "text/plain": [
       "                      fixed_acidity  volatile_acidity  citric_acid  \\\n",
       "fixed_acidity              1.000000         -0.022697     0.289181   \n",
       "volatile_acidity          -0.022697          1.000000    -0.149472   \n",
       "citric_acid                0.289181         -0.149472     1.000000   \n",
       "residual_sugar             0.089021          0.064286     0.094212   \n",
       "chlorides                  0.023086          0.070512     0.114364   \n",
       "free_sulfur_dioxide       -0.049396         -0.097012     0.094077   \n",
       "total_sulfur_dioxide       0.091070          0.089261     0.121131   \n",
       "density                    0.265331          0.027114     0.149503   \n",
       "pH                        -0.425858         -0.031915    -0.163748   \n",
       "sulphates                 -0.017143         -0.035728     0.062331   \n",
       "alcohol                   -0.120881          0.067718    -0.075729   \n",
       "quality                   -0.113663         -0.194723    -0.009209   \n",
       "\n",
       "                      residual_sugar  chlorides  free_sulfur_dioxide  \\\n",
       "fixed_acidity               0.089021   0.023086            -0.049396   \n",
       "volatile_acidity            0.064286   0.070512            -0.097012   \n",
       "citric_acid                 0.094212   0.114364             0.094077   \n",
       "residual_sugar              1.000000   0.088685             0.299098   \n",
       "chlorides                   0.088685   1.000000             0.101392   \n",
       "free_sulfur_dioxide         0.299098   0.101392             1.000000   \n",
       "total_sulfur_dioxide        0.401439   0.198910             0.615501   \n",
       "density                     0.838966   0.257211             0.294210   \n",
       "pH                         -0.194133  -0.090439            -0.000618   \n",
       "sulphates                  -0.026664   0.016763             0.059217   \n",
       "alcohol                    -0.450631  -0.360189            -0.250104   \n",
       "quality                    -0.097577  -0.209934             0.008158   \n",
       "\n",
       "                      total_sulfur_dioxide   density        pH  sulphates  \\\n",
       "fixed_acidity                     0.091070  0.265331 -0.425858  -0.017143   \n",
       "volatile_acidity                  0.089261  0.027114 -0.031915  -0.035728   \n",
       "citric_acid                       0.121131  0.149503 -0.163748   0.062331   \n",
       "residual_sugar                    0.401439  0.838966 -0.194133  -0.026664   \n",
       "chlorides                         0.198910  0.257211 -0.090439   0.016763   \n",
       "free_sulfur_dioxide               0.615501  0.294210 -0.000618   0.059217   \n",
       "total_sulfur_dioxide              1.000000  0.529881  0.002321   0.134562   \n",
       "density                           0.529881  1.000000 -0.093591   0.074493   \n",
       "pH                                0.002321 -0.093591  1.000000   0.155951   \n",
       "sulphates                         0.134562  0.074493  0.155951   1.000000   \n",
       "alcohol                          -0.448892 -0.780138  0.121432  -0.017433   \n",
       "quality                          -0.174737 -0.307123  0.099427   0.053678   \n",
       "\n",
       "                       alcohol   quality  \n",
       "fixed_acidity        -0.120881 -0.113663  \n",
       "volatile_acidity      0.067718 -0.194723  \n",
       "citric_acid          -0.075729 -0.009209  \n",
       "residual_sugar       -0.450631 -0.097577  \n",
       "chlorides            -0.360189 -0.209934  \n",
       "free_sulfur_dioxide  -0.250104  0.008158  \n",
       "total_sulfur_dioxide -0.448892 -0.174737  \n",
       "density              -0.780138 -0.307123  \n",
       "pH                    0.121432  0.099427  \n",
       "sulphates            -0.017433  0.053678  \n",
       "alcohol               1.000000  0.435575  \n",
       "quality               0.435575  1.000000  "
      ]
     },
     "execution_count": 16,
     "metadata": {},
     "output_type": "execute_result"
    }
   ],
   "source": [
    "import pandas as pd\n",
    "\n",
    "col_names = df.columns\n",
    "features = df.rdd.map(lambda row: row[0:])\n",
    "corr_mat= Statistics.corr(features, method=\"pearson\")\n",
    "corr_df = pd.DataFrame(corr_mat)\n",
    "corr_df.index, corr_df.columns = col_names, col_names\n",
    "\n",
    "corr_df"
   ]
  },
  {
   "cell_type": "markdown",
   "id": "babc3903-8764-4766-97dd-80f690da76b0",
   "metadata": {},
   "source": [
    "A Pearson correlation coefficient of 0.7 or greater is generally considered to be a strong correlation. This means that there is a high degree of linear relationship between the two variables. For example, if the correlation coefficient between height and weight is 0.7, this means that taller people tend to be heavier, on average.\n",
    "\n",
    "However, it is important to note that the strength of a correlation coefficient can vary depending on the specific variables being measured. For example, a correlation coefficient of 0.7 might be considered strong for some variables, but weak for others.\n",
    "\n",
    "Here we could see that residual_sugar have a <b>strong correlation</b> with <b>density</b>."
   ]
  },
  {
   "cell_type": "markdown",
   "id": "637ddba0-5fae-4383-ba2d-cc3461555216",
   "metadata": {},
   "source": [
    "## Feature engineering"
   ]
  },
  {
   "cell_type": "markdown",
   "id": "0aa2e35c-7306-4e3a-a6da-ced25b3a4271",
   "metadata": {},
   "source": [
    "<b>Feature engineering</b> is the process of transforming raw data into features that are more informative and useful for machine learning algorithms. This can involve a variety of tasks, such as:\n",
    "\n",
    "- <b>Data transformation</b>: This involves transforming the data into a format that is more suitable for machine learning algorithms. For example, categorical data can be encoded as numerical data, and continuous data can be discretized.\n",
    "- <b>Feature selection</b>: This involves selecting the most important features from the data set. This can be done using a variety of techniques, such as statistical significance tests and feature importance scores.\n",
    "- <b>Feature creation</b>: This involves creating new features from the existing data. This can be done by combining existing features, or by creating derived features that are based on the relationships between different features."
   ]
  },
  {
   "cell_type": "markdown",
   "id": "e62cde88-e34d-4fe7-8958-b11595e1c22b",
   "metadata": {},
   "source": [
    "### Bucketing a quality label"
   ]
  },
  {
   "cell_type": "markdown",
   "id": "d1da8857-0aac-446a-8334-700846c50a38",
   "metadata": {},
   "source": [
    "- Poor for less than 3\n",
    "- Poor between 4 and 5 (inclusive)\n",
    "- Good between 6 and 7\n",
    "- Excelent for more than 7"
   ]
  },
  {
   "cell_type": "code",
   "execution_count": 17,
   "id": "e3a493c4-890c-4956-a5b7-15441a8f55e6",
   "metadata": {},
   "outputs": [],
   "source": [
    "@udf(returnType=StringType())\n",
    "def quality_score_to_label(score: int):\n",
    "    if score >=0 and score < 4:\n",
    "        return 'poor'\n",
    "    elif score >=4 and score <=5:\n",
    "        return 'normal'\n",
    "    elif score >=6 and score <=7:\n",
    "        return 'good'\n",
    "    else: \n",
    "        return 'excelent'"
   ]
  },
  {
   "cell_type": "code",
   "execution_count": 18,
   "id": "36151911-2585-4bd4-b9a4-b8ba4269f4c8",
   "metadata": {},
   "outputs": [
    {
     "name": "stdout",
     "output_type": "stream",
     "text": [
      "+-------------+----------------+-----------+--------------+---------+-------------------+--------------------+-------+----+---------+-------+-------+\n",
      "|fixed_acidity|volatile_acidity|citric_acid|residual_sugar|chlorides|free_sulfur_dioxide|total_sulfur_dioxide|density|  pH|sulphates|alcohol|quality|\n",
      "+-------------+----------------+-----------+--------------+---------+-------------------+--------------------+-------+----+---------+-------+-------+\n",
      "|          7.0|            0.27|       0.36|          20.7|    0.045|               45.0|               170.0|  1.001| 3.0|     0.45|    8.8|      6|\n",
      "|          6.3|             0.3|       0.34|           1.6|    0.049|               14.0|               132.0|  0.994| 3.3|     0.49|    9.5|      6|\n",
      "|          8.1|            0.28|        0.4|           6.9|     0.05|               30.0|                97.0| 0.9951|3.26|     0.44|   10.1|      6|\n",
      "|          7.2|            0.23|       0.32|           8.5|    0.058|               47.0|               186.0| 0.9956|3.19|      0.4|    9.9|      6|\n",
      "|          7.2|            0.23|       0.32|           8.5|    0.058|               47.0|               186.0| 0.9956|3.19|      0.4|    9.9|      6|\n",
      "|          8.1|            0.28|        0.4|           6.9|     0.05|               30.0|                97.0| 0.9951|3.26|     0.44|   10.1|      6|\n",
      "|          6.2|            0.32|       0.16|           7.0|    0.045|               30.0|               136.0| 0.9949|3.18|     0.47|    9.6|      6|\n",
      "|          7.0|            0.27|       0.36|          20.7|    0.045|               45.0|               170.0|  1.001| 3.0|     0.45|    8.8|      6|\n",
      "|          6.3|             0.3|       0.34|           1.6|    0.049|               14.0|               132.0|  0.994| 3.3|     0.49|    9.5|      6|\n",
      "|          8.1|            0.22|       0.43|           1.5|    0.044|               28.0|               129.0| 0.9938|3.22|     0.45|   11.0|      6|\n",
      "|          8.1|            0.27|       0.41|          1.45|    0.033|               11.0|                63.0| 0.9908|2.99|     0.56|   12.0|      5|\n",
      "|          8.6|            0.23|        0.4|           4.2|    0.035|               17.0|               109.0| 0.9947|3.14|     0.53|    9.7|      5|\n",
      "|          7.9|            0.18|       0.37|           1.2|     0.04|               16.0|                75.0|  0.992|3.18|     0.63|   10.8|      5|\n",
      "|          6.6|            0.16|        0.4|           1.5|    0.044|               48.0|               143.0| 0.9912|3.54|     0.52|   12.4|      7|\n",
      "|          8.3|            0.42|       0.62|         19.25|     0.04|               41.0|               172.0| 1.0002|2.98|     0.67|    9.7|      5|\n",
      "|          6.6|            0.17|       0.38|           1.5|    0.032|               28.0|               112.0| 0.9914|3.25|     0.55|   11.4|      7|\n",
      "|          6.3|            0.48|       0.04|           1.1|    0.046|               30.0|                99.0| 0.9928|3.24|     0.36|    9.6|      6|\n",
      "|          6.2|            0.66|       0.48|           1.2|    0.029|               29.0|                75.0| 0.9892|3.33|     0.39|   12.8|      8|\n",
      "|          7.4|            0.34|       0.42|           1.1|    0.033|               17.0|               171.0| 0.9917|3.12|     0.53|   11.3|      6|\n",
      "|          6.5|            0.31|       0.14|           7.5|    0.044|               34.0|               133.0| 0.9955|3.22|      0.5|    9.5|      5|\n",
      "+-------------+----------------+-----------+--------------+---------+-------------------+--------------------+-------+----+---------+-------+-------+\n",
      "only showing top 20 rows\n",
      "\n"
     ]
    }
   ],
   "source": [
    "df.show()"
   ]
  },
  {
   "cell_type": "code",
   "execution_count": 19,
   "id": "f5f0363a-ba47-4ea1-b068-e7863f3e7d96",
   "metadata": {},
   "outputs": [
    {
     "data": {
      "text/plain": [
       "StructType(List(StructField(fixed_acidity,DoubleType,true),StructField(volatile_acidity,DoubleType,true),StructField(citric_acid,DoubleType,true),StructField(residual_sugar,DoubleType,true),StructField(chlorides,DoubleType,true),StructField(free_sulfur_dioxide,DoubleType,true),StructField(total_sulfur_dioxide,DoubleType,true),StructField(density,DoubleType,true),StructField(pH,DoubleType,true),StructField(sulphates,DoubleType,true),StructField(alcohol,DoubleType,true),StructField(quality,IntegerType,true)))"
      ]
     },
     "execution_count": 19,
     "metadata": {},
     "output_type": "execute_result"
    }
   ],
   "source": [
    "df.schema"
   ]
  },
  {
   "cell_type": "code",
   "execution_count": 20,
   "id": "f9731bd6-51b9-4dbc-ab25-10aed0667f14",
   "metadata": {},
   "outputs": [
    {
     "name": "stdout",
     "output_type": "stream",
     "text": [
      "+-------------+----------------+-----------+--------------+---------+-------------------+--------------------+-------+----+---------+-------+-------------+\n",
      "|fixed_acidity|volatile_acidity|citric_acid|residual_sugar|chlorides|free_sulfur_dioxide|total_sulfur_dioxide|density|  pH|sulphates|alcohol|quality_label|\n",
      "+-------------+----------------+-----------+--------------+---------+-------------------+--------------------+-------+----+---------+-------+-------------+\n",
      "|          7.0|            0.27|       0.36|          20.7|    0.045|               45.0|               170.0|  1.001| 3.0|     0.45|    8.8|         good|\n",
      "|          6.3|             0.3|       0.34|           1.6|    0.049|               14.0|               132.0|  0.994| 3.3|     0.49|    9.5|         good|\n",
      "|          8.1|            0.28|        0.4|           6.9|     0.05|               30.0|                97.0| 0.9951|3.26|     0.44|   10.1|         good|\n",
      "|          7.2|            0.23|       0.32|           8.5|    0.058|               47.0|               186.0| 0.9956|3.19|      0.4|    9.9|         good|\n",
      "|          7.2|            0.23|       0.32|           8.5|    0.058|               47.0|               186.0| 0.9956|3.19|      0.4|    9.9|         good|\n",
      "|          8.1|            0.28|        0.4|           6.9|     0.05|               30.0|                97.0| 0.9951|3.26|     0.44|   10.1|         good|\n",
      "|          6.2|            0.32|       0.16|           7.0|    0.045|               30.0|               136.0| 0.9949|3.18|     0.47|    9.6|         good|\n",
      "|          7.0|            0.27|       0.36|          20.7|    0.045|               45.0|               170.0|  1.001| 3.0|     0.45|    8.8|         good|\n",
      "|          6.3|             0.3|       0.34|           1.6|    0.049|               14.0|               132.0|  0.994| 3.3|     0.49|    9.5|         good|\n",
      "|          8.1|            0.22|       0.43|           1.5|    0.044|               28.0|               129.0| 0.9938|3.22|     0.45|   11.0|         good|\n",
      "|          8.1|            0.27|       0.41|          1.45|    0.033|               11.0|                63.0| 0.9908|2.99|     0.56|   12.0|       normal|\n",
      "|          8.6|            0.23|        0.4|           4.2|    0.035|               17.0|               109.0| 0.9947|3.14|     0.53|    9.7|       normal|\n",
      "|          7.9|            0.18|       0.37|           1.2|     0.04|               16.0|                75.0|  0.992|3.18|     0.63|   10.8|       normal|\n",
      "|          6.6|            0.16|        0.4|           1.5|    0.044|               48.0|               143.0| 0.9912|3.54|     0.52|   12.4|         good|\n",
      "|          8.3|            0.42|       0.62|         19.25|     0.04|               41.0|               172.0| 1.0002|2.98|     0.67|    9.7|       normal|\n",
      "|          6.6|            0.17|       0.38|           1.5|    0.032|               28.0|               112.0| 0.9914|3.25|     0.55|   11.4|         good|\n",
      "|          6.3|            0.48|       0.04|           1.1|    0.046|               30.0|                99.0| 0.9928|3.24|     0.36|    9.6|         good|\n",
      "|          6.2|            0.66|       0.48|           1.2|    0.029|               29.0|                75.0| 0.9892|3.33|     0.39|   12.8|     excelent|\n",
      "|          7.4|            0.34|       0.42|           1.1|    0.033|               17.0|               171.0| 0.9917|3.12|     0.53|   11.3|         good|\n",
      "|          6.5|            0.31|       0.14|           7.5|    0.044|               34.0|               133.0| 0.9955|3.22|      0.5|    9.5|       normal|\n",
      "+-------------+----------------+-----------+--------------+---------+-------------------+--------------------+-------+----+---------+-------+-------------+\n",
      "only showing top 20 rows\n",
      "\n"
     ]
    }
   ],
   "source": [
    "df_buc = df.withColumn('quality_label', quality_score_to_label('quality'))\n",
    "df_buc = df_buc.drop('quality')\n",
    "df_buc.show()"
   ]
  },
  {
   "cell_type": "markdown",
   "id": "36d2123e-de88-486e-b3ba-c61dd3878397",
   "metadata": {},
   "source": [
    "### LabelIndexer"
   ]
  },
  {
   "cell_type": "code",
   "execution_count": 21,
   "id": "5705db46-a58c-4387-a11d-bf86ce02b07c",
   "metadata": {},
   "outputs": [
    {
     "name": "stderr",
     "output_type": "stream",
     "text": [
      "                                                                                \r"
     ]
    },
    {
     "name": "stdout",
     "output_type": "stream",
     "text": [
      "+-------------+----------------+-----------+--------------+---------+-------------------+--------------------+-------+----+---------+-------+-------+\n",
      "|fixed_acidity|volatile_acidity|citric_acid|residual_sugar|chlorides|free_sulfur_dioxide|total_sulfur_dioxide|density|  pH|sulphates|alcohol|quality|\n",
      "+-------------+----------------+-----------+--------------+---------+-------------------+--------------------+-------+----+---------+-------+-------+\n",
      "|          7.0|            0.27|       0.36|          20.7|    0.045|               45.0|               170.0|  1.001| 3.0|     0.45|    8.8|    0.0|\n",
      "|          6.3|             0.3|       0.34|           1.6|    0.049|               14.0|               132.0|  0.994| 3.3|     0.49|    9.5|    0.0|\n",
      "|          8.1|            0.28|        0.4|           6.9|     0.05|               30.0|                97.0| 0.9951|3.26|     0.44|   10.1|    0.0|\n",
      "|          7.2|            0.23|       0.32|           8.5|    0.058|               47.0|               186.0| 0.9956|3.19|      0.4|    9.9|    0.0|\n",
      "|          7.2|            0.23|       0.32|           8.5|    0.058|               47.0|               186.0| 0.9956|3.19|      0.4|    9.9|    0.0|\n",
      "+-------------+----------------+-----------+--------------+---------+-------------------+--------------------+-------+----+---------+-------+-------+\n",
      "only showing top 5 rows\n",
      "\n"
     ]
    }
   ],
   "source": [
    "label_indexer = StringIndexer()\\\n",
    "            .setInputCol (\"quality_label\")\\\n",
    "            .setOutputCol (\"quality\")\n",
    "\n",
    "label_indexer_model = label_indexer.fit(df_buc)\n",
    "label_indexer_df = label_indexer_model.transform(df_buc)\n",
    "\n",
    "label_indexer_df = label_indexer_df.drop('quality_label')\n",
    "\n",
    "label_indexer_df.show(5,50)"
   ]
  },
  {
   "cell_type": "code",
   "execution_count": 22,
   "id": "84086f8f-1c9d-4dea-8370-8136607f0c48",
   "metadata": {},
   "outputs": [
    {
     "name": "stdout",
     "output_type": "stream",
     "text": [
      "+-------+-----+\n",
      "|quality|count|\n",
      "+-------+-----+\n",
      "|    0.0| 3078|\n",
      "|    1.0| 1620|\n",
      "|    3.0|   20|\n",
      "|    2.0|  180|\n",
      "+-------+-----+\n",
      "\n"
     ]
    }
   ],
   "source": [
    "label_indexer_df.groupby('quality').\\\n",
    "    count().\\\n",
    "    show(5,50)"
   ]
  },
  {
   "cell_type": "markdown",
   "id": "9014e0be-2875-4a65-9346-a2acb841df1e",
   "metadata": {},
   "source": [
    "### Resampling [Optional step]"
   ]
  },
  {
   "cell_type": "code",
   "execution_count": 23,
   "id": "abb63754-1120-4e01-8695-a6f0bf4ab59d",
   "metadata": {},
   "outputs": [
    {
     "name": "stderr",
     "output_type": "stream",
     "text": [
      "                                                                                \r"
     ]
    }
   ],
   "source": [
    "from imblearn.over_sampling import SMOTE\n",
    "\n",
    "X, y = label_indexer_df.toPandas().iloc[:, :-1], label_indexer_df.toPandas().iloc[:, [-1]]\n",
    "sm = SMOTE(k_neighbors=6)\n",
    "X_res, y_res = sm.fit_resample(X, y)"
   ]
  },
  {
   "cell_type": "code",
   "execution_count": 24,
   "id": "4b65f558-175e-4f2f-94f4-ce450143d5ae",
   "metadata": {},
   "outputs": [
    {
     "name": "stdout",
     "output_type": "stream",
     "text": [
      "+-------------+----------------+-----------+--------------+---------+-------------------+--------------------+-------+----+---------+-------+-------+\n",
      "|fixed_acidity|volatile_acidity|citric_acid|residual_sugar|chlorides|free_sulfur_dioxide|total_sulfur_dioxide|density|  pH|sulphates|alcohol|quality|\n",
      "+-------------+----------------+-----------+--------------+---------+-------------------+--------------------+-------+----+---------+-------+-------+\n",
      "|          7.0|            0.27|       0.36|          20.7|    0.045|               45.0|               170.0|  1.001| 3.0|     0.45|    8.8|    0.0|\n",
      "|          6.3|             0.3|       0.34|           1.6|    0.049|               14.0|               132.0|  0.994| 3.3|     0.49|    9.5|    0.0|\n",
      "|          8.1|            0.28|        0.4|           6.9|     0.05|               30.0|                97.0| 0.9951|3.26|     0.44|   10.1|    0.0|\n",
      "|          7.2|            0.23|       0.32|           8.5|    0.058|               47.0|               186.0| 0.9956|3.19|      0.4|    9.9|    0.0|\n",
      "|          7.2|            0.23|       0.32|           8.5|    0.058|               47.0|               186.0| 0.9956|3.19|      0.4|    9.9|    0.0|\n",
      "+-------------+----------------+-----------+--------------+---------+-------------------+--------------------+-------+----+---------+-------+-------+\n",
      "only showing top 5 rows\n",
      "\n"
     ]
    }
   ],
   "source": [
    "df_res = spark.createDataFrame(pd.concat([X_res, y_res], axis=1))\n",
    "df_res.show(5,50)"
   ]
  },
  {
   "cell_type": "code",
   "execution_count": 25,
   "id": "85f8830c-41e0-45e8-8fd1-6e699ec47824",
   "metadata": {},
   "outputs": [
    {
     "name": "stdout",
     "output_type": "stream",
     "text": [
      "+-------+-----+\n",
      "|quality|count|\n",
      "+-------+-----+\n",
      "|    0.0| 3078|\n",
      "|    1.0| 3078|\n",
      "|    3.0| 3078|\n",
      "|    2.0| 3078|\n",
      "+-------+-----+\n",
      "\n"
     ]
    }
   ],
   "source": [
    "df_res.groupby('quality').\\\n",
    "    count().\\\n",
    "    show(5,50)"
   ]
  },
  {
   "cell_type": "markdown",
   "id": "1ecb7ca4-83cd-4c53-b292-92d7fb020b82",
   "metadata": {},
   "source": [
    "### Vectoring to prepare Data for Machine Learning"
   ]
  },
  {
   "cell_type": "code",
   "execution_count": 26,
   "id": "b8817295-3915-45e1-aee0-e4176964b296",
   "metadata": {},
   "outputs": [
    {
     "name": "stdout",
     "output_type": "stream",
     "text": [
      "+--------------------------------------------------+-----+\n",
      "|                               vectorized_features|label|\n",
      "+--------------------------------------------------+-----+\n",
      "|[7.0,0.27,0.36,20.7,0.045,45.0,170.0,1.001,3.0,...|  0.0|\n",
      "|[6.3,0.3,0.34,1.6,0.049,14.0,132.0,0.994,3.3,0....|  0.0|\n",
      "|[8.1,0.28,0.4,6.9,0.05,30.0,97.0,0.9951,3.26,0....|  0.0|\n",
      "|[7.2,0.23,0.32,8.5,0.058,47.0,186.0,0.9956,3.19...|  0.0|\n",
      "|[7.2,0.23,0.32,8.5,0.058,47.0,186.0,0.9956,3.19...|  0.0|\n",
      "+--------------------------------------------------+-----+\n",
      "only showing top 5 rows\n",
      "\n"
     ]
    }
   ],
   "source": [
    "df_vec= df_res.rdd.map(lambda x:(Vectors.dense(x[0:-1]), x[-1])).toDF([\"vectorized_features\", \"label\"])\n",
    "df_vec.show(5,50)"
   ]
  },
  {
   "cell_type": "markdown",
   "id": "306b45d3-75d8-44ef-885c-694af2dcf9e7",
   "metadata": {},
   "source": [
    "### Standardization"
   ]
  },
  {
   "cell_type": "code",
   "execution_count": 27,
   "id": "b64d1119-55dc-4586-a6d3-e85d4c0b9ab8",
   "metadata": {},
   "outputs": [
    {
     "name": "stderr",
     "output_type": "stream",
     "text": [
      "                                                                                \r"
     ]
    },
    {
     "name": "stdout",
     "output_type": "stream",
     "text": [
      "+--------------------------------------------------+-----+\n",
      "|                                          features|label|\n",
      "+--------------------------------------------------+-----+\n",
      "|[7.091676235334308,2.624682483651555,3.58662042...|  0.0|\n",
      "|[6.382508611800877,2.91631387072395,3.387363732...|  0.0|\n",
      "|[8.206082500886842,2.7218929460090204,3.9851338...|  0.0|\n",
      "|[7.29429555634386,2.235840634221695,3.188107041...|  0.0|\n",
      "|[7.29429555634386,2.235840634221695,3.188107041...|  0.0|\n",
      "+--------------------------------------------------+-----+\n",
      "only showing top 5 rows\n",
      "\n"
     ]
    }
   ],
   "source": [
    "scaler = StandardScaler()\\\n",
    "         .setInputCol (\"vectorized_features\")\\\n",
    "         .setOutputCol (\"features\")\n",
    "        \n",
    "scaler_model = scaler.fit(df_vec)\n",
    "scaler_df = scaler_model.transform(df_vec)\n",
    "\n",
    "scaler_df = scaler_df.select('features', 'label')\n",
    "scaler_df.show(5,50)"
   ]
  },
  {
   "cell_type": "markdown",
   "id": "c9f8e115-9797-490f-a49a-5b577b492b6b",
   "metadata": {},
   "source": [
    "## Model Choice"
   ]
  },
  {
   "cell_type": "markdown",
   "id": "74f15d40-f150-4ade-a1d4-2e87c974420b",
   "metadata": {},
   "source": [
    "<b>Multinomial logistic regression</b> is a type of logistic regression that can be used for multi-class classification problems. In the case of wine quality classification, there are 4 classes (poor, normal, good and excelent) so multinomial logistic regression is a good choice for modeling this problem.\n",
    "\n",
    "The physicochemical tests can be used to measure the various properties of wine, such as acidity, alcohol content, and sugar content. These properties can then be used as features in the multinomial logistic regression model.\n",
    "\n",
    "Here are some of the advantages of using multinomial logistic regression for wine quality classification:\n",
    "\n",
    "- It is a relatively simple model that is easy to understand and interpret.\n",
    "- It is a very flexible model that can be used to model a variety of different types of data.\n",
    "- It is a very efficient model that can be estimated quickly and easily.\n",
    "\n",
    "Here is some of the disadvantages of using multinomial logistic regression for wine quality classification:\n",
    "\n",
    "- It may not be as accurate as some other models, such as support vector machines or decision trees.\n",
    "- It may not be able to capture the nonlinear relationships between the features and the class labels.\n",
    "\n",
    "In addition to multinomial logistic regression, there are a number of other models that could be used for wine quality classification. Some of these other models include support vector machines, decision trees, and random forests. However, multinomial logistic regression is a good starting point for wine quality classification because it is a simple, flexible, and efficient model.\n"
   ]
  },
  {
   "cell_type": "markdown",
   "id": "88e5a896-ebf7-41d1-9087-ed0e99e2161d",
   "metadata": {},
   "source": [
    "## Model Training"
   ]
  },
  {
   "cell_type": "markdown",
   "id": "ec542669-b32b-4874-bdc9-b88dc799da1c",
   "metadata": {},
   "source": [
    "### Train/Test Split data  "
   ]
  },
  {
   "cell_type": "code",
   "execution_count": 28,
   "id": "d6143644-a1ce-4cc5-aa53-5f80975ec77e",
   "metadata": {},
   "outputs": [
    {
     "name": "stderr",
     "output_type": "stream",
     "text": [
      "                                                                                \r"
     ]
    },
    {
     "name": "stdout",
     "output_type": "stream",
     "text": [
      "training instances 9812 test instances 2500\n"
     ]
    }
   ],
   "source": [
    "# Split training and test data\n",
    "training, test = scaler_df.randomSplit([0.8, 0.2])\n",
    "\n",
    "print (\"training instances\", training.count(), \"test instances\", test.count())"
   ]
  },
  {
   "cell_type": "markdown",
   "id": "5d352991-de8d-4004-b99f-970c78540180",
   "metadata": {
    "tags": []
   },
   "source": [
    "### Model Training phase"
   ]
  },
  {
   "cell_type": "code",
   "execution_count": 29,
   "id": "1359b31a-56b6-4cda-8005-f5cdf86532d6",
   "metadata": {},
   "outputs": [
    {
     "name": "stderr",
     "output_type": "stream",
     "text": [
      "23/10/17 02:24:07 WARN com.github.fommil.netlib.BLAS: Failed to load implementation from: com.github.fommil.netlib.NativeSystemBLAS\n",
      "23/10/17 02:24:08 WARN com.github.fommil.netlib.BLAS: Failed to load implementation from: com.github.fommil.netlib.NativeRefBLAS\n",
      "                                                                                \r"
     ]
    },
    {
     "name": "stdout",
     "output_type": "stream",
     "text": [
      "Coefficients: \n",
      "DenseMatrix([[-0.34896407, -0.38920417,  0.04597766, -0.00597781, -0.02192771,\n",
      "              -0.05066512, -0.04617707,  0.02170925, -0.31903787,  0.27165671,\n",
      "               0.27160788],\n",
      "             [-0.17162722,  0.46104351,  0.129749  , -0.289748  , -0.1216308 ,\n",
      "              -0.31218029,  0.03003368,  0.03769138, -0.137102  , -0.00537254,\n",
      "              -1.14021946],\n",
      "             [-0.22712441, -0.52814983, -0.16545297,  0.39291136, -0.22996484,\n",
      "               0.20926202, -0.08931009, -0.01783066, -0.10112234,  0.17070278,\n",
      "               1.29661056],\n",
      "             [ 0.7477157 ,  0.45631049, -0.01027369, -0.09718555,  0.37352334,\n",
      "               0.15358339,  0.10545347, -0.04156997,  0.55726221, -0.43698695,\n",
      "              -0.42799898]])\n",
      "Intercept: [-0.0041825819845108855,-0.0006916363840113126,0.0025320368953637724,0.002342181473158426]\n",
      "objectiveHistory:\n",
      "1.386289248710883\n",
      "1.3862739998804068\n",
      "1.3862449488946396\n",
      "1.3859190757655848\n",
      "1.3853115584347662\n",
      "1.3834840242785753\n",
      "1.3790345379320832\n",
      "1.36778590345483\n",
      "1.3426259578884303\n",
      "1.2968512039240585\n",
      "1.2432516007756527\n",
      "1.230294654972968\n",
      "1.2021191188880083\n",
      "1.1941229520549406\n",
      "1.1933924913206877\n",
      "1.1933142233181846\n",
      "1.1933028122384945\n",
      "1.1925072529648812\n",
      "1.1818376505668096\n",
      "1.1657821377826687\n",
      "1.1379266085670727\n",
      "1.1238492255992345\n",
      "1.1124028311245995\n",
      "1.1115261433881807\n",
      "1.111449718352499\n",
      "1.1114439414993342\n",
      "1.1114413433187333\n",
      "1.1114294705586338\n",
      "1.1114017680026622\n",
      "1.1113168363661403\n",
      "1.1110967975122743\n",
      "1.110523361168077\n",
      "1.1091098355463478\n",
      "1.1059241106841695\n",
      "1.100101642480437\n",
      "1.0998847818405593\n",
      "1.093302039165077\n",
      "1.0904832719150919\n",
      "1.089661646841736\n",
      "1.0893873827754992\n",
      "1.0893688921687903\n",
      "1.0893617168103138\n",
      "1.089345194890868\n",
      "1.0892747108740062\n",
      "1.0892541752058027\n",
      "1.0892473866741077\n",
      "1.0892439134136789\n",
      "1.089234325390146\n",
      "1.0891843108665158\n",
      "1.0890720181745355\n",
      "1.088785872089794\n",
      "1.0882024869308746\n",
      "1.0876432430821037\n",
      "1.0859425581251563\n",
      "1.084121891951954\n",
      "1.0836447591548426\n",
      "1.0836261437781713\n",
      "1.0835861757428826\n",
      "1.0835849808593183\n",
      "1.083584757989598\n",
      "1.0835844181016039\n",
      "1.0835834908434725\n",
      "1.0835821907987453\n",
      "1.0835804191345948\n",
      "1.0835786955895506\n",
      "1.0835773297589861\n",
      "1.0835748344842648\n",
      "1.0835697444024084\n",
      "1.0835586320601573\n",
      "1.0835404242195927\n",
      "1.0835294028103606\n",
      "1.0835164291337824\n",
      "1.0835098906862697\n",
      "1.0835082875672257\n",
      "1.0835009183631894\n",
      "1.0834875596156162\n",
      "1.0834605455000945\n",
      "1.0834366232592247\n",
      "1.0834265489759958\n",
      "1.083417755023739\n",
      "1.0834153877698336\n",
      "1.0834116284338964\n",
      "1.0834061213276367\n",
      "1.083399911194764\n",
      "1.0833995296280035\n",
      "1.0833960093535169\n",
      "1.0833943710506322\n",
      "1.0833933365061341\n",
      "1.0833914837557626\n",
      "1.083387696029308\n",
      "1.0833796943871221\n",
      "1.0833587999158694\n",
      "1.0833172322966422\n",
      "1.0833076255558611\n",
      "1.0832517950890446\n",
      "1.08319638440853\n",
      "1.0831457182315536\n",
      "1.0830882393067331\n",
      "1.082958238925094\n",
      "1.0825694600016125\n",
      "1.081973521994223\n",
      "1.081701386142583\n",
      "1.0813012859941267\n",
      "1.0810319054339226\n",
      "1.0808487336785553\n",
      "1.0807632199864996\n",
      "1.080681682932232\n",
      "1.0806567735761035\n",
      "1.0806567098213684\n",
      "1.0806566733091352\n",
      "1.0806566074039927\n",
      "1.080656446010339\n",
      "1.080656058282128\n",
      "1.0806552540737038\n",
      "1.080654112014997\n",
      "1.0806508147498404\n",
      "1.0806442945967816\n",
      "1.0806320270657446\n",
      "1.0806183089714676\n",
      "1.0806038218248393\n",
      "1.080594716264376\n",
      "1.080591405261339\n",
      "1.080590286976499\n",
      "1.080585094831505\n",
      "1.0805834779031012\n",
      "1.0805802673133706\n",
      "1.0805767552721548\n",
      "1.0805739800798007\n",
      "1.0805703229213885\n",
      "1.0805693295659695\n",
      "1.0805681252520347\n",
      "1.0805673140304184\n",
      "1.0805669674535585\n",
      "1.0805664256565417\n",
      "1.0805626698932356\n",
      "1.0805570746640232\n",
      "1.0805484809789925\n",
      "1.0805354425649387\n",
      "1.0805125290358548\n",
      "1.0804819976968585\n",
      "1.0804240854734881\n",
      "1.080388860198099\n",
      "1.0803165610056484\n",
      "1.0802739055620136\n",
      "1.08025770157812\n",
      "1.0802442064817044\n",
      "1.0802344332903384\n",
      "1.080212807875173\n",
      "1.0801549732700868\n",
      "1.0801104377629123\n",
      "1.0800590482666965\n",
      "1.0800177471594927\n",
      "1.0799870813802162\n",
      "1.0799854600504168\n",
      "1.0799850187114812\n",
      "1.0799849633023053\n",
      "1.0799849252902372\n",
      "1.0799848936369323\n",
      "1.0799847681284012\n",
      "1.0799844838643131\n",
      "1.0799840545424413\n",
      "1.0799829960777956\n",
      "1.0799745550877298\n",
      "1.0799588319109537\n",
      "1.0799181709711578\n",
      "1.079843784109662\n",
      "1.0797529946124749\n",
      "1.0797052600902242\n",
      "1.0796599481697566\n",
      "1.0796486356206418\n",
      "1.0796474497890634\n",
      "1.0796472067064316\n",
      "1.0796470597327283\n",
      "1.0796468663359042\n",
      "1.079646754858212\n",
      "1.0796466296990432\n",
      "1.0796465425701414\n",
      "1.0796463109101613\n",
      "1.0796458725934082\n",
      "1.0796449238464811\n",
      "1.079644206258435\n",
      "1.079642009831737\n",
      "1.0796392935138668\n",
      "1.0796352356201857\n",
      "1.0796349230234688\n",
      "1.0796315774427117\n",
      "1.0796302913004747\n",
      "1.0796286148416294\n",
      "1.0796274980211642\n",
      "1.079626694249313\n",
      "1.0796258043333709\n",
      "1.079625030590249\n",
      "1.079623674783264\n",
      "1.0796226788048526\n",
      "1.079621917775771\n",
      "1.0796217819051226\n",
      "1.0796217700533595\n",
      "1.0796217635441785\n",
      "1.0796217171231979\n",
      "1.0796216492634831\n",
      "1.0796214592032995\n",
      "False positive rate by label:\n",
      "label 0: 0.15153981820648488\n",
      "label 1: 0.15941832019570534\n",
      "label 2: 0.16363142158195162\n",
      "label 3: 0.16042999047489453\n",
      "True positive rate by label:\n",
      "label 0: 0.3117574764440803\n",
      "label 1: 0.5904645476772616\n",
      "label 2: 0.6703341483292583\n",
      "label 3: 0.5213154689403167\n",
      "Precision by label:\n",
      "label 0: 0.40521831735889247\n",
      "label 1: 0.5526315789473685\n",
      "label 2: 0.5773955773955773\n",
      "label 3: 0.5213154689403167\n",
      "Recall by label:\n",
      "label 0: 0.3117574764440803\n",
      "label 1: 0.5904645476772616\n",
      "label 2: 0.6703341483292583\n",
      "label 3: 0.5213154689403167\n",
      "F-measure by label:\n",
      "label 0: 0.35239638805279\n",
      "label 1: 0.5709219858156028\n",
      "label 2: 0.6204035451631152\n",
      "label 3: 0.5213154689403167\n",
      "Accuracy: 0.523746432939258\n",
      "FPR: 0.15876598339829445\n",
      "TPR: 0.523746432939258\n",
      "F-measure: 0.5164810880818013\n",
      "Precision: 0.5142911286525321\n",
      "Recall: 0.523746432939258\n"
     ]
    },
    {
     "name": "stderr",
     "output_type": "stream",
     "text": [
      "                                                                                \r"
     ]
    }
   ],
   "source": [
    "lr = LogisticRegression(\n",
    "    family=\"multinomial\", \n",
    "    featuresCol = 'features', \n",
    "    labelCol = 'label',\n",
    "    maxIter=200,\n",
    "    elasticNetParam=1.0, \n",
    "    tol=1e-6, \n",
    "    standardization=True,\n",
    "    fitIntercept=True\n",
    ")\n",
    "    \n",
    "# Fit the model\n",
    "lrModel = lr.fit(training)\n",
    "\n",
    "# Print the coefficients and intercept for multinomial logistic regression\n",
    "print(\"Coefficients: \\n\" + str(lrModel.coefficientMatrix))\n",
    "print(\"Intercept: \" + str(lrModel.interceptVector))\n",
    "\n",
    "trainingSummary = lrModel.summary\n",
    "\n",
    "# Obtain the objective per iteration\n",
    "objectiveHistory = trainingSummary.objectiveHistory\n",
    "print(\"objectiveHistory:\")\n",
    "for objective in objectiveHistory:\n",
    "    print(objective)\n",
    "\n",
    "# for multiclass, we can inspect metrics on a per-label basis\n",
    "print(\"False positive rate by label:\")\n",
    "for i, rate in enumerate(trainingSummary.falsePositiveRateByLabel):\n",
    "    print(\"label %d: %s\" % (i, rate))\n",
    "\n",
    "print(\"True positive rate by label:\")\n",
    "for i, rate in enumerate(trainingSummary.truePositiveRateByLabel):\n",
    "    print(\"label %d: %s\" % (i, rate))\n",
    "\n",
    "print(\"Precision by label:\")\n",
    "for i, prec in enumerate(trainingSummary.precisionByLabel):\n",
    "    print(\"label %d: %s\" % (i, prec))\n",
    "\n",
    "print(\"Recall by label:\")\n",
    "for i, rec in enumerate(trainingSummary.recallByLabel):\n",
    "    print(\"label %d: %s\" % (i, rec))\n",
    "\n",
    "print(\"F-measure by label:\")\n",
    "for i, f in enumerate(trainingSummary.fMeasureByLabel()):\n",
    "    print(\"label %d: %s\" % (i, f))\n",
    "\n",
    "accuracy = trainingSummary.accuracy\n",
    "falsePositiveRate = trainingSummary.weightedFalsePositiveRate\n",
    "truePositiveRate = trainingSummary.weightedTruePositiveRate\n",
    "fMeasure = trainingSummary.weightedFMeasure()\n",
    "precision = trainingSummary.weightedPrecision\n",
    "recall = trainingSummary.weightedRecall\n",
    "print(\"Accuracy: %s\\nFPR: %s\\nTPR: %s\\nF-measure: %s\\nPrecision: %s\\nRecall: %s\"\n",
    "      % (accuracy, falsePositiveRate, truePositiveRate, fMeasure, precision, recall))"
   ]
  },
  {
   "cell_type": "markdown",
   "id": "c01713d7-4e24-493f-a56b-a76a7e31c473",
   "metadata": {},
   "source": [
    "## Model Evaluation"
   ]
  },
  {
   "cell_type": "code",
   "execution_count": 30,
   "id": "526b2585-a6d4-406a-806e-abece14959fd",
   "metadata": {},
   "outputs": [],
   "source": [
    "predictions = lrModel.transform(test)"
   ]
  },
  {
   "cell_type": "markdown",
   "id": "e2112684-c70c-4500-887b-4a2e5a9c2fff",
   "metadata": {
    "tags": []
   },
   "source": [
    "### Confusion Matrix"
   ]
  },
  {
   "cell_type": "code",
   "execution_count": 31,
   "id": "dc951bd4-be34-4ec0-bfb9-f0e84365295d",
   "metadata": {},
   "outputs": [],
   "source": [
    "class_names=list([0,1,2,3])\n",
    "\n",
    "import itertools\n",
    "\n",
    "def plot_confusion_matrix(cm, classes,\n",
    "                          normalize=False,\n",
    "                          title='Confusion matrix',\n",
    "                          cmap=plt.cm.Blues):\n",
    "    if normalize:\n",
    "        cm = cm.astype('float') / cm.sum(axis=1)[:, np.newaxis]\n",
    "        print(\"Normalized confusion matrix\")\n",
    "    else:\n",
    "        print('Confusion matrix, without normalization')\n",
    "\n",
    "    print(cm)\n",
    "\n",
    "    plt.imshow(cm, interpolation='nearest', cmap=cmap)\n",
    "    plt.title(title)\n",
    "    plt.colorbar()\n",
    "    tick_marks = np.arange(len(classes))\n",
    "    plt.xticks(tick_marks, classes, rotation=45)\n",
    "    plt.yticks(tick_marks, classes)\n",
    "\n",
    "    fmt = '.2f' if normalize else 'd'\n",
    "    thresh = cm.max() / 2.\n",
    "    for i, j in itertools.product(range(cm.shape[0]), range(cm.shape[1])):\n",
    "        plt.text(j, i, format(cm[i, j], fmt),\n",
    "                 horizontalalignment=\"center\",\n",
    "                 color=\"white\" if cm[i, j] > thresh else \"black\")\n",
    "\n",
    "    plt.tight_layout()\n",
    "    plt.ylabel('True label')\n",
    "    plt.xlabel('Predicted label')"
   ]
  },
  {
   "cell_type": "code",
   "execution_count": 32,
   "id": "268757d2-09a8-422e-9097-df2420a6f7ab",
   "metadata": {},
   "outputs": [
    {
     "name": "stdout",
     "output_type": "stream",
     "text": [
      "Confusion matrix, without normalization\n",
      "[[211 138 194  94]\n",
      " [102 386  27 109]\n",
      " [ 86  45 424  69]\n",
      " [ 80 146  69 320]]\n"
     ]
    },
    {
     "data": {
      "image/png": "[encoded data removed]",
      "text/plain": [
       "<Figure size 640x480 with 2 Axes>"
      ]
     },
     "metadata": {},
     "output_type": "display_data"
    }
   ],
   "source": [
    "from sklearn.metrics import confusion_matrix\n",
    "import numpy as np\n",
    "\n",
    "y_true = predictions.select(\"label\")\n",
    "y_true = y_true.toPandas()\n",
    "\n",
    "y_pred = predictions.select(\"prediction\")\n",
    "y_pred = y_pred.toPandas()\n",
    "\n",
    "cnf_matrix = confusion_matrix(\n",
    "    y_true,\n",
    "    y_pred,\n",
    "    labels=class_names\n",
    ")\n",
    "\n",
    "plt.figure()\n",
    "plot_confusion_matrix(\n",
    "    cnf_matrix,\n",
    "    classes=class_names,\n",
    "    title='Confusion matrix'\n",
    ")\n",
    "\n",
    "plt.show()"
   ]
  },
  {
   "cell_type": "markdown",
   "id": "97723165-a6ba-4753-9230-3c108759917c",
   "metadata": {},
   "source": [
    "## Prediction"
   ]
  },
  {
   "cell_type": "code",
   "execution_count": 33,
   "id": "00f680a2-e97b-40d1-b9ae-7b45cbd7bf5f",
   "metadata": {},
   "outputs": [],
   "source": [
    "predictions = predictions.withColumn('prediction', quality_score_to_label('prediction'))"
   ]
  },
  {
   "cell_type": "code",
   "execution_count": 34,
   "id": "8cec4da7-e539-4245-a5c0-68a40f3aef43",
   "metadata": {},
   "outputs": [
    {
     "data": {
      "text/html": [
       "<div>\n",
       "<style scoped>\n",
       "    .dataframe tbody tr th:only-of-type {\n",
       "        vertical-align: middle;\n",
       "    }\n",
       "\n",
       "    .dataframe tbody tr th {\n",
       "        vertical-align: top;\n",
       "    }\n",
       "\n",
       "    .dataframe thead th {\n",
       "        text-align: right;\n",
       "    }\n",
       "</style>\n",
       "<table border=\"1\" class=\"dataframe\">\n",
       "  <thead>\n",
       "    <tr style=\"text-align: right;\">\n",
       "      <th></th>\n",
       "      <th>label</th>\n",
       "      <th>features</th>\n",
       "      <th>rawPrediction</th>\n",
       "      <th>prediction</th>\n",
       "      <th>probability</th>\n",
       "    </tr>\n",
       "  </thead>\n",
       "  <tbody>\n",
       "    <tr>\n",
       "      <th>0</th>\n",
       "      <td>0.0</td>\n",
       "      <td>[5.065483025238792, 2.624682483651555, 3.18810...</td>\n",
       "      <td>[0.36948453428713496, -1.8187957364824332, 1.9...</td>\n",
       "      <td>poor</td>\n",
       "      <td>[0.157093686355724, 0.017611675891002817, 0.75...</td>\n",
       "    </tr>\n",
       "    <tr>\n",
       "      <th>1</th>\n",
       "      <td>0.0</td>\n",
       "      <td>[5.065483025238792, 3.013524333081415, 0.0, 1....</td>\n",
       "      <td>[0.6905845072341072, 0.5101778502556893, 0.071...</td>\n",
       "      <td>poor</td>\n",
       "      <td>[0.397798681120551, 0.332134296283102, 0.21419...</td>\n",
       "    </tr>\n",
       "    <tr>\n",
       "      <th>2</th>\n",
       "      <td>0.0</td>\n",
       "      <td>[5.166792685743567, 1.3609464730045102, 2.4907...</td>\n",
       "      <td>[1.0486873474874727, 1.3923898389345808, -0.95...</td>\n",
       "      <td>poor</td>\n",
       "      <td>[0.3810671863294682, 0.5373653371617169, 0.051...</td>\n",
       "    </tr>\n",
       "    <tr>\n",
       "      <th>3</th>\n",
       "      <td>0.0</td>\n",
       "      <td>[5.166792685743567, 3.2079452577963457, 2.1918...</td>\n",
       "      <td>[0.23728838830767313, -1.0692105073623435, 1.3...</td>\n",
       "      <td>poor</td>\n",
       "      <td>[0.20474206531228922, 0.05543726789414623, 0.6...</td>\n",
       "    </tr>\n",
       "    <tr>\n",
       "      <th>4</th>\n",
       "      <td>0.0</td>\n",
       "      <td>[5.166792685743567, 3.7912080319411356, 2.0921...</td>\n",
       "      <td>[0.2239941908378023, -0.7879613833715429, 1.22...</td>\n",
       "      <td>poor</td>\n",
       "      <td>[0.22211719686161452, 0.08074124879357748, 0.6...</td>\n",
       "    </tr>\n",
       "    <tr>\n",
       "      <th>5</th>\n",
       "      <td>2.0</td>\n",
       "      <td>[5.268102346248344, 1.5067621665407076, 3.2877...</td>\n",
       "      <td>[2.441711056507382, -0.979590970092125, 2.3489...</td>\n",
       "      <td>poor</td>\n",
       "      <td>[0.5138755222966557, 0.01678824660972829, 0.46...</td>\n",
       "    </tr>\n",
       "    <tr>\n",
       "      <th>6</th>\n",
       "      <td>2.0</td>\n",
       "      <td>[5.268102346248344, 2.33305109657916, 4.483275...</td>\n",
       "      <td>[0.5412167540704818, -0.1949401800203952, 0.40...</td>\n",
       "      <td>poor</td>\n",
       "      <td>[0.3803669625595908, 0.18217714604142154, 0.33...</td>\n",
       "    </tr>\n",
       "    <tr>\n",
       "      <th>7</th>\n",
       "      <td>2.0</td>\n",
       "      <td>[5.268102346248344, 2.7704981771877524, 2.8892...</td>\n",
       "      <td>[0.849721198901312, -1.547435414028816, 2.0367...</td>\n",
       "      <td>poor</td>\n",
       "      <td>[0.22319576539153205, 0.020305517459185626, 0....</td>\n",
       "    </tr>\n",
       "    <tr>\n",
       "      <th>8</th>\n",
       "      <td>0.0</td>\n",
       "      <td>[5.268102346248344, 3.49957664486874, 0.199256...</td>\n",
       "      <td>[-0.013190178807622249, -0.9492861352008248, 1...</td>\n",
       "      <td>poor</td>\n",
       "      <td>[0.17797564969790525, 0.06979419115924636, 0.6...</td>\n",
       "    </tr>\n",
       "    <tr>\n",
       "      <th>9</th>\n",
       "      <td>2.0</td>\n",
       "      <td>[5.268102346248344, 4.27726034372846, 0.398513...</td>\n",
       "      <td>[-0.2551340429718922, -0.615945104190563, 0.76...</td>\n",
       "      <td>poor</td>\n",
       "      <td>[0.1693716258917959, 0.1180707722232798, 0.469...</td>\n",
       "    </tr>\n",
       "  </tbody>\n",
       "</table>\n",
       "</div>"
      ],
      "text/plain": [
       "   label                                           features  \\\n",
       "0    0.0  [5.065483025238792, 2.624682483651555, 3.18810...   \n",
       "1    0.0  [5.065483025238792, 3.013524333081415, 0.0, 1....   \n",
       "2    0.0  [5.166792685743567, 1.3609464730045102, 2.4907...   \n",
       "3    0.0  [5.166792685743567, 3.2079452577963457, 2.1918...   \n",
       "4    0.0  [5.166792685743567, 3.7912080319411356, 2.0921...   \n",
       "5    2.0  [5.268102346248344, 1.5067621665407076, 3.2877...   \n",
       "6    2.0  [5.268102346248344, 2.33305109657916, 4.483275...   \n",
       "7    2.0  [5.268102346248344, 2.7704981771877524, 2.8892...   \n",
       "8    0.0  [5.268102346248344, 3.49957664486874, 0.199256...   \n",
       "9    2.0  [5.268102346248344, 4.27726034372846, 0.398513...   \n",
       "\n",
       "                                       rawPrediction prediction  \\\n",
       "0  [0.36948453428713496, -1.8187957364824332, 1.9...       poor   \n",
       "1  [0.6905845072341072, 0.5101778502556893, 0.071...       poor   \n",
       "2  [1.0486873474874727, 1.3923898389345808, -0.95...       poor   \n",
       "3  [0.23728838830767313, -1.0692105073623435, 1.3...       poor   \n",
       "4  [0.2239941908378023, -0.7879613833715429, 1.22...       poor   \n",
       "5  [2.441711056507382, -0.979590970092125, 2.3489...       poor   \n",
       "6  [0.5412167540704818, -0.1949401800203952, 0.40...       poor   \n",
       "7  [0.849721198901312, -1.547435414028816, 2.0367...       poor   \n",
       "8  [-0.013190178807622249, -0.9492861352008248, 1...       poor   \n",
       "9  [-0.2551340429718922, -0.615945104190563, 0.76...       poor   \n",
       "\n",
       "                                         probability  \n",
       "0  [0.157093686355724, 0.017611675891002817, 0.75...  \n",
       "1  [0.397798681120551, 0.332134296283102, 0.21419...  \n",
       "2  [0.3810671863294682, 0.5373653371617169, 0.051...  \n",
       "3  [0.20474206531228922, 0.05543726789414623, 0.6...  \n",
       "4  [0.22211719686161452, 0.08074124879357748, 0.6...  \n",
       "5  [0.5138755222966557, 0.01678824660972829, 0.46...  \n",
       "6  [0.3803669625595908, 0.18217714604142154, 0.33...  \n",
       "7  [0.22319576539153205, 0.020305517459185626, 0....  \n",
       "8  [0.17797564969790525, 0.06979419115924636, 0.6...  \n",
       "9  [0.1693716258917959, 0.1180707722232798, 0.469...  "
      ]
     },
     "execution_count": 34,
     "metadata": {},
     "output_type": "execute_result"
    }
   ],
   "source": [
    "predictions.select(\n",
    "    'label',\n",
    "    'features',\n",
    "    'rawPrediction',\n",
    "    'prediction',\n",
    "    'probability'\n",
    ").toPandas()\\\n",
    ".head(10)"
   ]
  }
 ],
 "metadata": {
  "language_info": {
   "codemirror_mode": {
    "name": "ipython",
    "version": 3
   },
   "file_extension": ".py",
   "mimetype": "text/x-python",
   "name": "python",
   "nbconvert_exporter": "python",
   "pygments_lexer": "ipython3",
   "version": "3.8.15"
  }
 },
 "nbformat": 4,
 "nbformat_minor": 5
}
