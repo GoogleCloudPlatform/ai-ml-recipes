{
 "cells": [
  {
   "cell_type": "markdown",
   "id": "a0293b07-d50b-440f-a8e9-255aa925a6d2",
   "metadata": {
    "tags": []
   },
   "source": [
    "# Wine Quality Classification"
   ]
  },
  {
   "cell_type": "markdown",
   "id": "7bb9457a-4696-4ebb-bb20-697436d93e82",
   "metadata": {},
   "source": [
    "## 1. Overview"
   ]
  },
  {
   "cell_type": "markdown",
   "id": "e59039a0-b3c3-4023-830f-662605bea056",
   "metadata": {
    "jp-MarkdownHeadingCollapsed": true,
    "tags": []
   },
   "source": [
    "### Multinomial Logistic Regression\n",
    "\n",
    "<strong>Type</strong>: Classification </p>\n",
    "<strong>UCI Open Source Dataset</strong>: [Wine Quality](https://archive.ics.uci.edu/dataset/186/wine+quality) </p>\n",
    "\n",
    "This dataset contains red and white vinho verde wine samples, from the north of Portugal, and wine quality data based on physicochemical tests [Cortez et al., 2009](http://www3.dsi.uminho.pt/pcortez/wine/). \n",
    "\n",
    "<strong>Problem</strong>: Imagine you are a wine specialist who is looking for an automated way to categorize the wines you find based on wine quality data from physicochemical tests. You could use a machine learning algorithm to train a model that would be able to predict the quality of a wine based on its physicochemical properties. This would allow you to quickly and easily categorize new wines that you find, without having to manually taste them.\n",
    "\n",
    "Here are some of the benefits of using an automated wine categorization system:\n",
    "\n",
    "- <strong>Speed</strong>: An automated system can categorize wines much faster than a human can. This is especially beneficial for wine retailers and distributors who need to quickly categorize large numbers of wines.\n",
    "- <strong>Accuracy</strong>: An automated system can be more accurate than a human when it comes to categorizing wines. This is because the system is not influenced by personal biases or preferences.\n",
    "- <strong>Consistency</strong>: An automated system will consistently categorize wines in the same way, which can help to ensure that customers are getting the wines they expect.\n",
    "\n",
    "If you are a wine specialist who is looking for an efficient and accurate way to categorize wines, then an automated system may be the perfect solution for you."
   ]
  },
  {
   "cell_type": "markdown",
   "id": "1f8e5893-eb68-4721-b083-da5b40f78ac4",
   "metadata": {},
   "source": [
    "## 2. Setup"
   ]
  },
  {
   "cell_type": "code",
   "execution_count": 4,
   "id": "5377b0f3-bfdd-4153-a4b4-889962048eb4",
   "metadata": {},
   "outputs": [],
   "source": [
    "from google.cloud import storage, aiplatform, exceptions\n",
    "from pyspark.sql import SparkSession"
   ]
  },
  {
   "cell_type": "markdown",
   "id": "16aae3c7-b31d-42d6-bbe1-defe4057b24f",
   "metadata": {},
   "source": [
    "### Load dataset from public metastore"
   ]
  },
  {
   "cell_type": "code",
   "execution_count": 5,
   "id": "b252e0d9-a2a9-4cb4-944b-ee1cc5e9132e",
   "metadata": {},
   "outputs": [],
   "source": [
    "df = spark.read.table(\"public_datasets.winequality_white\")"
   ]
  },
  {
   "cell_type": "markdown",
   "id": "7cd099d7-9b79-412f-9cc6-421b281b2d14",
   "metadata": {
    "tags": []
   },
   "source": [
    "## 3. Exploratory Data Analysis"
   ]
  },
  {
   "cell_type": "code",
   "execution_count": 6,
   "id": "5eee0eaa-4890-4a7a-bd96-fb59ee658b38",
   "metadata": {},
   "outputs": [],
   "source": [
    "spark = SparkSession.builder \\\n",
    "    .appName(\"Multinomial logistic regression Wine Quality\") \\\n",
    "    .enableHiveSupport() \\\n",
    "    .getOrCreate()"
   ]
  },
  {
   "cell_type": "code",
   "execution_count": 7,
   "id": "26707730-739c-4946-aa4b-1d8375b68c86",
   "metadata": {
    "tags": []
   },
   "outputs": [
    {
     "name": "stderr",
     "output_type": "stream",
     "text": [
      "[Stage 0:>                                                          (0 + 1) / 1]\r"
     ]
    },
    {
     "name": "stdout",
     "output_type": "stream",
     "text": [
      "+-------------+----------------+-----------+--------------+---------+-------------------+--------------------+-------+----+---------+-------+-------+\n",
      "|fixed_acidity|volatile_acidity|citric_acid|residual_sugar|chlorides|free_sulfur_dioxide|total_sulfur_dioxide|density|  pH|sulphates|alcohol|quality|\n",
      "+-------------+----------------+-----------+--------------+---------+-------------------+--------------------+-------+----+---------+-------+-------+\n",
      "|          7.0|            0.27|       0.36|          20.7|    0.045|               45.0|               170.0|  1.001| 3.0|     0.45|    8.8|      6|\n",
      "|          6.3|             0.3|       0.34|           1.6|    0.049|               14.0|               132.0|  0.994| 3.3|     0.49|    9.5|      6|\n",
      "|          8.1|            0.28|        0.4|           6.9|     0.05|               30.0|                97.0| 0.9951|3.26|     0.44|   10.1|      6|\n",
      "+-------------+----------------+-----------+--------------+---------+-------------------+--------------------+-------+----+---------+-------+-------+\n",
      "only showing top 3 rows\n",
      "\n"
     ]
    },
    {
     "name": "stderr",
     "output_type": "stream",
     "text": [
      "                                                                                \r"
     ]
    }
   ],
   "source": [
    "df.show(3)"
   ]
  },
  {
   "cell_type": "markdown",
   "id": "ee393d03-4f05-42ce-b9bd-d773a57f6494",
   "metadata": {},
   "source": [
    "### DataFrame Column Data Types"
   ]
  },
  {
   "cell_type": "markdown",
   "id": "4c94e725-fedf-4eef-9ba7-b3b8810f3012",
   "metadata": {},
   "source": [
    "DataFrames may have heterogenous or \"mixed\" data types, that is, some columns are numbers, some are strings, and some are dates etc. Because CSV files do not contain information on what data types are contained in each column, Pandas infers the data types when loading the data, e.g. if a column contains only numbers, Pandas will set that column’s data type to numeric: integer or float.\n",
    "\n",
    "Run the next cell to see information on the DataFrame."
   ]
  },
  {
   "cell_type": "code",
   "execution_count": 8,
   "id": "3649f263-ea02-4660-91bf-5cec489dd1fd",
   "metadata": {},
   "outputs": [
    {
     "name": "stdout",
     "output_type": "stream",
     "text": [
      "root\n",
      " |-- fixed_acidity: double (nullable = true)\n",
      " |-- volatile_acidity: double (nullable = true)\n",
      " |-- citric_acid: double (nullable = true)\n",
      " |-- residual_sugar: double (nullable = true)\n",
      " |-- chlorides: double (nullable = true)\n",
      " |-- free_sulfur_dioxide: double (nullable = true)\n",
      " |-- total_sulfur_dioxide: double (nullable = true)\n",
      " |-- density: double (nullable = true)\n",
      " |-- pH: double (nullable = true)\n",
      " |-- sulphates: double (nullable = true)\n",
      " |-- alcohol: double (nullable = true)\n",
      " |-- quality: integer (nullable = true)\n",
      "\n"
     ]
    }
   ],
   "source": [
    "df.printSchema()"
   ]
  },
  {
   "cell_type": "markdown",
   "id": "329201b2-9b22-4c41-940f-cefdfc92b525",
   "metadata": {},
   "source": [
    "### Summary Statistics \n",
    "\n",
    "At this point, we have all columns contains numerical values. For features which contain numerical values, we are often interested in various statistical measures relating to those values."
   ]
  },
  {
   "cell_type": "code",
   "execution_count": 9,
   "id": "b9378955-696c-4a1f-a44f-6401dbd5d5e2",
   "metadata": {},
   "outputs": [
    {
     "name": "stderr",
     "output_type": "stream",
     "text": [
      "[Stage 1:>                                                          (0 + 1) / 1]\r"
     ]
    },
    {
     "name": "stdout",
     "output_type": "stream",
     "text": [
      "+-------+------------------+-------------------+-------------------+-----------------+--------------------+-------------------+--------------------+--------------------+-------------------+-------------------+------------------+------------------+\n",
      "|summary|     fixed_acidity|   volatile_acidity|        citric_acid|   residual_sugar|           chlorides|free_sulfur_dioxide|total_sulfur_dioxide|             density|                 pH|          sulphates|           alcohol|           quality|\n",
      "+-------+------------------+-------------------+-------------------+-----------------+--------------------+-------------------+--------------------+--------------------+-------------------+-------------------+------------------+------------------+\n",
      "|  count|              4898|               4898|               4898|             4898|                4898|               4898|                4898|                4898|               4898|               4898|              4898|              4898|\n",
      "|   mean| 6.854787668436075|0.27824111882401087|0.33419150673743736|6.391414863209486|  0.0457723560636995|  35.30808493262556|  138.36065741118824|  0.9940273764801896| 3.1882666394446693| 0.4898468762760325|10.514267047774638|  5.87790935075541|\n",
      "| stddev|0.8438682276875127|0.10079454842486532|0.12101980420298254|5.072057784014878|0.021847968093728805|  17.00713732523259|  42.498064554142985|0.002990906916936997|0.15100059961506673|0.11412583394883222|  1.23062056775732|0.8856385749678322|\n",
      "|    min|               3.8|               0.08|                0.0|              0.6|               0.009|                2.0|                 9.0|             0.98711|               2.72|               0.22|               8.0|                 3|\n",
      "|    max|              14.2|                1.1|               1.66|             65.8|               0.346|              289.0|               440.0|             1.03898|               3.82|               1.08|              14.2|                 9|\n",
      "+-------+------------------+-------------------+-------------------+-----------------+--------------------+-------------------+--------------------+--------------------+-------------------+-------------------+------------------+------------------+\n",
      "\n"
     ]
    },
    {
     "name": "stderr",
     "output_type": "stream",
     "text": [
      "                                                                                \r"
     ]
    }
   ],
   "source": [
    "df.describe().show()"
   ]
  },
  {
   "cell_type": "markdown",
   "id": "ff21c0b9-1b62-4e4c-b9c8-673d802ef0c5",
   "metadata": {},
   "source": [
    "Let's investigate a bit more of our target data by using the .groupby() function."
   ]
  },
  {
   "cell_type": "code",
   "execution_count": 10,
   "id": "02466b00-d9ba-4a5f-b47e-e3c83982253b",
   "metadata": {},
   "outputs": [],
   "source": [
    "from pyspark.sql.functions import col, countDistinct, isnan, sum, when, count\n",
    "import pyspark.sql.functions as F"
   ]
  },
  {
   "cell_type": "code",
   "execution_count": 11,
   "id": "f60cd56e-1d9f-43f3-84f4-8a0b696a620b",
   "metadata": {},
   "outputs": [
    {
     "name": "stderr",
     "output_type": "stream",
     "text": [
      "[Stage 4:>                                                          (0 + 1) / 1]\r"
     ]
    },
    {
     "name": "stdout",
     "output_type": "stream",
     "text": [
      "+-------+-----+\n",
      "|quality|count|\n",
      "+-------+-----+\n",
      "|      6| 2198|\n",
      "|      3|   20|\n",
      "|      5| 1457|\n",
      "|      9|    5|\n",
      "|      4|  163|\n",
      "|      8|  175|\n",
      "|      7|  880|\n",
      "+-------+-----+\n",
      "\n"
     ]
    },
    {
     "name": "stderr",
     "output_type": "stream",
     "text": [
      "                                                                                \r"
     ]
    }
   ],
   "source": [
    "df.groupby(\n",
    "    col('quality')).\\\n",
    "    count().\\\n",
    "    show()"
   ]
  },
  {
   "cell_type": "markdown",
   "id": "658e23ae-3904-4fdc-99b7-539cf4aa5609",
   "metadata": {},
   "source": [
    "We can see here that the data is <b>imbalanced</b> for our target. <b>Imbalanced</b> data is a common problem in machine learning, where the number of samples in one class is much larger than the number of samples in another class. This can make it difficult to train a model that can accurately predict the minority class. There are a number of techniques that can be used to handle imbalanced data, including:\n",
    "\n",
    "- <b>Resampling</b>: This involves increasing the number of samples in the minority class or decreasing the number of samples in the majority class. This can be done by oversampling the minority class (creating new samples), undersampling the majority class (removing samples), or a combination of both.\n",
    "- <b>Cost-sensitive learning</b>: This involves assigning different costs to misclassifications of different classes. This can help to focus the model on correctly classifying the minority class.\n",
    "- <b>Ensemble learning</b>: This involves training multiple models on different subsets of the data and then combining the predictions of the models. This can help to improve the accuracy of the model on the minority class."
   ]
  },
  {
   "cell_type": "markdown",
   "id": "101507c8-b4ab-432d-8b0f-0eaeadbc55d7",
   "metadata": {},
   "source": [
    "We need to <b>resample</b> the data to balance the dataset. However, before we do that, we need to check if there are any issues with the data that need to be resolved. For example, we need to make sure that there are no missing values in the data. We also need to make sure that the data is not corrupted. Once we have resolved any issues with the data, we can then resample it to balance the dataset."
   ]
  },
  {
   "cell_type": "markdown",
   "id": "0974fcc1-3ed1-4e6d-a9ee-a7cea7733e4b",
   "metadata": {},
   "source": [
    "### DataFrame Column Data Types"
   ]
  },
  {
   "cell_type": "markdown",
   "id": "74c4609c-a771-41c8-ac8f-042b59779f85",
   "metadata": {},
   "source": [
    "DataFrames may have heterogenous or \"mixed\" data types, that is, some columns are numbers, some are strings, and some are dates etc. Because CSV files do not contain information on what data types are contained in each column, Pandas infers the data types when loading the data, e.g. if a column contains only numbers, Pandas will set that column’s data type to numeric: integer or float.\n",
    "\n",
    "Run the next cell to see information on the DataFrame."
   ]
  },
  {
   "cell_type": "code",
   "execution_count": 12,
   "id": "98cd535f-51d2-4b47-922a-9ae8d95df88b",
   "metadata": {},
   "outputs": [
    {
     "name": "stdout",
     "output_type": "stream",
     "text": [
      "root\n",
      " |-- fixed_acidity: double (nullable = true)\n",
      " |-- volatile_acidity: double (nullable = true)\n",
      " |-- citric_acid: double (nullable = true)\n",
      " |-- residual_sugar: double (nullable = true)\n",
      " |-- chlorides: double (nullable = true)\n",
      " |-- free_sulfur_dioxide: double (nullable = true)\n",
      " |-- total_sulfur_dioxide: double (nullable = true)\n",
      " |-- density: double (nullable = true)\n",
      " |-- pH: double (nullable = true)\n",
      " |-- sulphates: double (nullable = true)\n",
      " |-- alcohol: double (nullable = true)\n",
      " |-- quality: integer (nullable = true)\n",
      "\n"
     ]
    }
   ],
   "source": [
    "df.printSchema()"
   ]
  },
  {
   "cell_type": "markdown",
   "id": "089dd53c-3a65-4c1e-90cc-452252dd13b7",
   "metadata": {},
   "source": [
    "### Summary Statistics \n",
    "\n",
    "At this point, we have all columns contains numerical values. For features which contain numerical values, we are often interested in various statistical measures relating to those values."
   ]
  },
  {
   "cell_type": "code",
   "execution_count": 13,
   "id": "ceddaed6-39a8-400e-8a51-743b030d19d0",
   "metadata": {},
   "outputs": [
    {
     "name": "stdout",
     "output_type": "stream",
     "text": [
      "+-------+------------------+-------------------+-------------------+-----------------+--------------------+-------------------+--------------------+--------------------+-------------------+-------------------+------------------+------------------+\n",
      "|summary|     fixed_acidity|   volatile_acidity|        citric_acid|   residual_sugar|           chlorides|free_sulfur_dioxide|total_sulfur_dioxide|             density|                 pH|          sulphates|           alcohol|           quality|\n",
      "+-------+------------------+-------------------+-------------------+-----------------+--------------------+-------------------+--------------------+--------------------+-------------------+-------------------+------------------+------------------+\n",
      "|  count|              4898|               4898|               4898|             4898|                4898|               4898|                4898|                4898|               4898|               4898|              4898|              4898|\n",
      "|   mean| 6.854787668436075|0.27824111882401087|0.33419150673743736|6.391414863209486|  0.0457723560636995|  35.30808493262556|  138.36065741118824|  0.9940273764801896| 3.1882666394446693| 0.4898468762760325|10.514267047774638|  5.87790935075541|\n",
      "| stddev|0.8438682276875127|0.10079454842486532|0.12101980420298254|5.072057784014878|0.021847968093728805|  17.00713732523259|  42.498064554142985|0.002990906916936997|0.15100059961506673|0.11412583394883222|  1.23062056775732|0.8856385749678322|\n",
      "|    min|               3.8|               0.08|                0.0|              0.6|               0.009|                2.0|                 9.0|             0.98711|               2.72|               0.22|               8.0|                 3|\n",
      "|    max|              14.2|                1.1|               1.66|             65.8|               0.346|              289.0|               440.0|             1.03898|               3.82|               1.08|              14.2|                 9|\n",
      "+-------+------------------+-------------------+-------------------+-----------------+--------------------+-------------------+--------------------+--------------------+-------------------+-------------------+------------------+------------------+\n",
      "\n"
     ]
    }
   ],
   "source": [
    "df.describe().show()"
   ]
  },
  {
   "cell_type": "markdown",
   "id": "8ab092e4-ed42-48fc-bb58-e277cf8d145d",
   "metadata": {},
   "source": [
    "Let's investigate a bit more of our target data by using the .groupby() function."
   ]
  },
  {
   "cell_type": "code",
   "execution_count": 14,
   "id": "78be86e2-2c53-43e1-969b-669a00ccf8ea",
   "metadata": {
    "tags": []
   },
   "outputs": [],
   "source": [
    "from pyspark.sql.functions import col, countDistinct, isnan, sum, when, count\n",
    "import pyspark.sql.functions as F"
   ]
  },
  {
   "cell_type": "code",
   "execution_count": 15,
   "id": "1ca6847b-9366-4bed-b6e3-9f4ddd9a2db4",
   "metadata": {},
   "outputs": [
    {
     "name": "stdout",
     "output_type": "stream",
     "text": [
      "+-------+-----+\n",
      "|quality|count|\n",
      "+-------+-----+\n",
      "|      6| 2198|\n",
      "|      3|   20|\n",
      "|      5| 1457|\n",
      "|      9|    5|\n",
      "|      4|  163|\n",
      "|      8|  175|\n",
      "|      7|  880|\n",
      "+-------+-----+\n",
      "\n"
     ]
    }
   ],
   "source": [
    "df.groupby(\n",
    "    col('quality')).\\\n",
    "    count().\\\n",
    "    show()"
   ]
  },
  {
   "cell_type": "markdown",
   "id": "569083aa-79b5-4b48-b183-5d04172406d5",
   "metadata": {},
   "source": [
    "We can see here that the data is <b>imbalanced</b> for our target. <b>Imbalanced</b> data is a common problem in machine learning, where the number of samples in one class is much larger than the number of samples in another class. This can make it difficult to train a model that can accurately predict the minority class. There are a number of techniques that can be used to handle imbalanced data, including:\n",
    "\n",
    "- <b>Resampling</b>: This involves increasing the number of samples in the minority class or decreasing the number of samples in the majority class. This can be done by oversampling the minority class (creating new samples), undersampling the majority class (removing samples), or a combination of both.\n",
    "- <b>Cost-sensitive learning</b>: This involves assigning different costs to misclassifications of different classes. This can help to focus the model on correctly classifying the minority class.\n",
    "- <b>Ensemble learning</b>: This involves training multiple models on different subsets of the data and then combining the predictions of the models. This can help to improve the accuracy of the model on the minority class."
   ]
  },
  {
   "cell_type": "markdown",
   "id": "b847b372-0ccc-4ebb-81a8-51bcc52d821e",
   "metadata": {},
   "source": [
    "We need to <b>resample</b> the data to balance the dataset. However, before we do that, we need to check if there are any issues with the data that need to be resolved. For example, we need to make sure that there are no missing values in the data. We also need to make sure that the data is not corrupted. Once we have resolved any issues with the data, we can then resample it to balance the dataset."
   ]
  },
  {
   "cell_type": "markdown",
   "id": "8ddec5b6-35ec-4142-9045-4a3e049fdec2",
   "metadata": {},
   "source": [
    "### Let's summarize our data by row, column, features, unique, and missing values."
   ]
  },
  {
   "cell_type": "code",
   "execution_count": 16,
   "id": "e6a4a9c8-11cf-4652-91ce-56af6232bae5",
   "metadata": {},
   "outputs": [
    {
     "name": "stdout",
     "output_type": "stream",
     "text": [
      "Rows     :  4898\n",
      "Columns  :  12\n",
      "\n",
      "Features : \n",
      " ['fixed_acidity', 'volatile_acidity', 'citric_acid', 'residual_sugar', 'chlorides', 'free_sulfur_dioxide', 'total_sulfur_dioxide', 'density', 'pH', 'sulphates', 'alcohol', 'quality']\n",
      "\n",
      " Count Distinct values :  \n",
      "+-------------+----------------+-----------+--------------+---------+-------------------+--------------------+-------+---+---------+-------+-------+\n",
      "|fixed_acidity|volatile_acidity|citric_acid|residual_sugar|chlorides|free_sulfur_dioxide|total_sulfur_dioxide|density| pH|sulphates|alcohol|quality|\n",
      "+-------------+----------------+-----------+--------------+---------+-------------------+--------------------+-------+---+---------+-------+-------+\n",
      "|           68|             125|         87|           310|      160|                132|                 251|    890|103|       79|    103|      7|\n",
      "+-------------+----------------+-----------+--------------+---------+-------------------+--------------------+-------+---+---------+-------+-------+\n",
      "\n",
      "\n",
      "Unique values :  \n",
      " None\n",
      "\n",
      "Missing values :   \n",
      "+-------------+----------------+-----------+--------------+---------+-------------------+--------------------+-------+---+---------+-------+-------+\n",
      "|fixed_acidity|volatile_acidity|citric_acid|residual_sugar|chlorides|free_sulfur_dioxide|total_sulfur_dioxide|density| pH|sulphates|alcohol|quality|\n",
      "+-------------+----------------+-----------+--------------+---------+-------------------+--------------------+-------+---+---------+-------+-------+\n",
      "|            0|               0|          0|             0|        0|                  0|                   0|      0|  0|        0|      0|      0|\n",
      "+-------------+----------------+-----------+--------------+---------+-------------------+--------------------+-------+---+---------+-------+-------+\n",
      "\n"
     ]
    }
   ],
   "source": [
    "# In Python shape() is used in pandas to give the number of rows/columns.\n",
    "# The number of rows is given by .shape[0]. The number of columns is given by .shape[1].\n",
    "# Thus, shape() consists of an array having two arguments -- rows and columns\n",
    "\n",
    "print (\"Rows     : \" ,df.count())\n",
    "print (\"Columns  : \" ,len(df.columns))\n",
    "print (\"\\nFeatures : \\n\" ,df.columns)\n",
    "print (\"\\n Count Distinct values : \", \"\")\n",
    "expression = [countDistinct(c).alias(c) for c in df.columns]\n",
    "print (\"\\nUnique values :  \\n\", df.select(*expression).show())\n",
    "print (\"\\nMissing values :  \", \"\")\n",
    "df.select([count(when(isnan(c) | col(c).isNull(), c)).alias(c) for c in df.columns]).show()"
   ]
  },
  {
   "cell_type": "markdown",
   "id": "90f22c89-83b6-4820-a72e-5eb12e393ee1",
   "metadata": {},
   "source": [
    "There no missing values, or other data issue. So we can ressample the data."
   ]
  },
  {
   "cell_type": "markdown",
   "id": "7456c90b-303f-411f-8299-9857ca1c1fea",
   "metadata": {},
   "source": [
    "### Distribution of Features"
   ]
  },
  {
   "cell_type": "code",
   "execution_count": 17,
   "id": "e9ee5820-cc29-410e-9d69-bbd774248e95",
   "metadata": {},
   "outputs": [
    {
     "data": {
      "image/png": "[encoded data removed]",
      "text/plain": [
       "<Figure size 2000x1000 with 10 Axes>"
      ]
     },
     "metadata": {},
     "output_type": "display_data"
    }
   ],
   "source": [
    "import matplotlib.pyplot as plt\n",
    "from matplotlib import cm\n",
    "\n",
    "fig = plt.figure(figsize=(20,10))\n",
    "st = fig.suptitle(\"Distribution of Features\",\n",
    "                  fontsize=20,\n",
    "                  verticalalignment='center')\n",
    "\n",
    "for col,num in zip(df.toPandas().describe().columns, range(1,11)):\n",
    "    ax = fig.add_subplot(3,4,num)\n",
    "    ax.hist(df.toPandas()[col])\n",
    "    plt.grid(False)\n",
    "    plt.xticks(rotation=45,fontsize=10)\n",
    "    plt.yticks(fontsize=10)\n",
    "    plt.title(col.upper(),fontsize=20)\n",
    "plt.tight_layout()\n",
    "st.set_y(0.95)\n",
    "fig.subplots_adjust(top=0.85,hspace = 0.4)\n",
    "plt.show()"
   ]
  },
  {
   "cell_type": "markdown",
   "id": "a040f021-3f5b-40e5-98ed-a5069f133578",
   "metadata": {},
   "source": [
    "Great part of freatures had a normal distribution, also known as the Gaussian distribution, is a continuous probability distribution that is widely used in statistical modeling and machine learning. It is a bell-shaped curve that is symmetrical around its mean and is characterized by its mean and standard deviation.\n",
    "\n",
    "In machine learning, data that is normally distributed is beneficial for model building because it makes the math easier. Many machine learning algorithms, such as linear regression and logistic regression, are explicitly calculated from the assumption that the distribution is a bivariate or multivariate normal. Additionally, sigmoid functions work most naturally with normally distributed data."
   ]
  },
  {
   "cell_type": "markdown",
   "id": "fa1f18b8-5879-43c2-b04b-df45061210eb",
   "metadata": {},
   "source": [
    "### Rename a Feature Column "
   ]
  },
  {
   "cell_type": "markdown",
   "id": "1c7de40f-ec11-4232-b165-967d013eb27e",
   "metadata": {},
   "source": [
    "Our feature columns have different \"capitalizations\" in their names, e.g. both upper and lower \"case\".  In addition, there are \"spaces\" in some of the column names. "
   ]
  },
  {
   "cell_type": "code",
   "execution_count": 18,
   "id": "19730bcd-71c5-4247-b0af-3da9932b3f89",
   "metadata": {},
   "outputs": [],
   "source": [
    "df = df.withColumnRenamed(\"fixed acidity\",\"fixed_acidity\")\\\n",
    ".withColumnRenamed(\"volatile acidity\",\"volatile_acidity\")\\\n",
    ".withColumnRenamed(\"citric acid\",\"citric_acid\")\\\n",
    ".withColumnRenamed(\"residual sugar\",\"residual_sugar\")\\\n",
    ".withColumnRenamed(\"chlorides\",\"chlorides\")\\\n",
    ".withColumnRenamed(\"free sulfur dioxide\",\"free_sulfur_dioxide\")\\\n",
    ".withColumnRenamed(\"total sulfur dioxide\",\"total_sulfur_dioxide\")\\\n",
    ".withColumnRenamed(\"density\",\"density\")\\\n",
    ".withColumnRenamed(\"pH\",\"pH\")\\\n",
    ".withColumnRenamed(\"sulphates\",\"sulphates\")\\\n",
    ".withColumnRenamed(\"alcohol\",\"alcohol\")\\\n",
    ".withColumnRenamed(\"quality\",\"quality\")"
   ]
  },
  {
   "cell_type": "code",
   "execution_count": 19,
   "id": "ad4177e6-249b-4b30-aa4f-f152898d2fbc",
   "metadata": {},
   "outputs": [
    {
     "name": "stdout",
     "output_type": "stream",
     "text": [
      "root\n",
      " |-- fixed_acidity: double (nullable = true)\n",
      " |-- volatile_acidity: double (nullable = true)\n",
      " |-- citric_acid: double (nullable = true)\n",
      " |-- residual_sugar: double (nullable = true)\n",
      " |-- chlorides: double (nullable = true)\n",
      " |-- free_sulfur_dioxide: double (nullable = true)\n",
      " |-- total_sulfur_dioxide: double (nullable = true)\n",
      " |-- density: double (nullable = true)\n",
      " |-- pH: double (nullable = true)\n",
      " |-- sulphates: double (nullable = true)\n",
      " |-- alcohol: double (nullable = true)\n",
      " |-- quality: integer (nullable = true)\n",
      "\n"
     ]
    }
   ],
   "source": [
    "df.printSchema()"
   ]
  },
  {
   "cell_type": "markdown",
   "id": "24e7c3c3-c5b4-43e1-a283-bcaa9dc232a9",
   "metadata": {},
   "source": [
    "### Pearson Correlation"
   ]
  },
  {
   "cell_type": "code",
   "execution_count": 20,
   "id": "afe091c9-b28f-43ba-aa47-edfb8abb0acd",
   "metadata": {},
   "outputs": [
    {
     "name": "stderr",
     "output_type": "stream",
     "text": [
      "                                                                                \r"
     ]
    },
    {
     "data": {
      "text/html": [
       "<div>\n",
       "<style scoped>\n",
       "    .dataframe tbody tr th:only-of-type {\n",
       "        vertical-align: middle;\n",
       "    }\n",
       "\n",
       "    .dataframe tbody tr th {\n",
       "        vertical-align: top;\n",
       "    }\n",
       "\n",
       "    .dataframe thead th {\n",
       "        text-align: right;\n",
       "    }\n",
       "</style>\n",
       "<table border=\"1\" class=\"dataframe\">\n",
       "  <thead>\n",
       "    <tr style=\"text-align: right;\">\n",
       "      <th></th>\n",
       "      <th>fixed_acidity</th>\n",
       "      <th>volatile_acidity</th>\n",
       "      <th>citric_acid</th>\n",
       "      <th>residual_sugar</th>\n",
       "      <th>chlorides</th>\n",
       "      <th>free_sulfur_dioxide</th>\n",
       "      <th>total_sulfur_dioxide</th>\n",
       "      <th>density</th>\n",
       "      <th>pH</th>\n",
       "      <th>sulphates</th>\n",
       "      <th>alcohol</th>\n",
       "      <th>quality</th>\n",
       "    </tr>\n",
       "  </thead>\n",
       "  <tbody>\n",
       "    <tr>\n",
       "      <th>fixed_acidity</th>\n",
       "      <td>1.000000</td>\n",
       "      <td>-0.022697</td>\n",
       "      <td>0.289181</td>\n",
       "      <td>0.089021</td>\n",
       "      <td>0.023086</td>\n",
       "      <td>-0.049396</td>\n",
       "      <td>0.091070</td>\n",
       "      <td>0.265331</td>\n",
       "      <td>-0.425858</td>\n",
       "      <td>-0.017143</td>\n",
       "      <td>-0.120881</td>\n",
       "      <td>-0.113663</td>\n",
       "    </tr>\n",
       "    <tr>\n",
       "      <th>volatile_acidity</th>\n",
       "      <td>-0.022697</td>\n",
       "      <td>1.000000</td>\n",
       "      <td>-0.149472</td>\n",
       "      <td>0.064286</td>\n",
       "      <td>0.070512</td>\n",
       "      <td>-0.097012</td>\n",
       "      <td>0.089261</td>\n",
       "      <td>0.027114</td>\n",
       "      <td>-0.031915</td>\n",
       "      <td>-0.035728</td>\n",
       "      <td>0.067718</td>\n",
       "      <td>-0.194723</td>\n",
       "    </tr>\n",
       "    <tr>\n",
       "      <th>citric_acid</th>\n",
       "      <td>0.289181</td>\n",
       "      <td>-0.149472</td>\n",
       "      <td>1.000000</td>\n",
       "      <td>0.094212</td>\n",
       "      <td>0.114364</td>\n",
       "      <td>0.094077</td>\n",
       "      <td>0.121131</td>\n",
       "      <td>0.149503</td>\n",
       "      <td>-0.163748</td>\n",
       "      <td>0.062331</td>\n",
       "      <td>-0.075729</td>\n",
       "      <td>-0.009209</td>\n",
       "    </tr>\n",
       "    <tr>\n",
       "      <th>residual_sugar</th>\n",
       "      <td>0.089021</td>\n",
       "      <td>0.064286</td>\n",
       "      <td>0.094212</td>\n",
       "      <td>1.000000</td>\n",
       "      <td>0.088685</td>\n",
       "      <td>0.299098</td>\n",
       "      <td>0.401439</td>\n",
       "      <td>0.838966</td>\n",
       "      <td>-0.194133</td>\n",
       "      <td>-0.026664</td>\n",
       "      <td>-0.450631</td>\n",
       "      <td>-0.097577</td>\n",
       "    </tr>\n",
       "    <tr>\n",
       "      <th>chlorides</th>\n",
       "      <td>0.023086</td>\n",
       "      <td>0.070512</td>\n",
       "      <td>0.114364</td>\n",
       "      <td>0.088685</td>\n",
       "      <td>1.000000</td>\n",
       "      <td>0.101392</td>\n",
       "      <td>0.198910</td>\n",
       "      <td>0.257211</td>\n",
       "      <td>-0.090439</td>\n",
       "      <td>0.016763</td>\n",
       "      <td>-0.360189</td>\n",
       "      <td>-0.209934</td>\n",
       "    </tr>\n",
       "    <tr>\n",
       "      <th>free_sulfur_dioxide</th>\n",
       "      <td>-0.049396</td>\n",
       "      <td>-0.097012</td>\n",
       "      <td>0.094077</td>\n",
       "      <td>0.299098</td>\n",
       "      <td>0.101392</td>\n",
       "      <td>1.000000</td>\n",
       "      <td>0.615501</td>\n",
       "      <td>0.294210</td>\n",
       "      <td>-0.000618</td>\n",
       "      <td>0.059217</td>\n",
       "      <td>-0.250104</td>\n",
       "      <td>0.008158</td>\n",
       "    </tr>\n",
       "    <tr>\n",
       "      <th>total_sulfur_dioxide</th>\n",
       "      <td>0.091070</td>\n",
       "      <td>0.089261</td>\n",
       "      <td>0.121131</td>\n",
       "      <td>0.401439</td>\n",
       "      <td>0.198910</td>\n",
       "      <td>0.615501</td>\n",
       "      <td>1.000000</td>\n",
       "      <td>0.529881</td>\n",
       "      <td>0.002321</td>\n",
       "      <td>0.134562</td>\n",
       "      <td>-0.448892</td>\n",
       "      <td>-0.174737</td>\n",
       "    </tr>\n",
       "    <tr>\n",
       "      <th>density</th>\n",
       "      <td>0.265331</td>\n",
       "      <td>0.027114</td>\n",
       "      <td>0.149503</td>\n",
       "      <td>0.838966</td>\n",
       "      <td>0.257211</td>\n",
       "      <td>0.294210</td>\n",
       "      <td>0.529881</td>\n",
       "      <td>1.000000</td>\n",
       "      <td>-0.093591</td>\n",
       "      <td>0.074493</td>\n",
       "      <td>-0.780138</td>\n",
       "      <td>-0.307123</td>\n",
       "    </tr>\n",
       "    <tr>\n",
       "      <th>pH</th>\n",
       "      <td>-0.425858</td>\n",
       "      <td>-0.031915</td>\n",
       "      <td>-0.163748</td>\n",
       "      <td>-0.194133</td>\n",
       "      <td>-0.090439</td>\n",
       "      <td>-0.000618</td>\n",
       "      <td>0.002321</td>\n",
       "      <td>-0.093591</td>\n",
       "      <td>1.000000</td>\n",
       "      <td>0.155951</td>\n",
       "      <td>0.121432</td>\n",
       "      <td>0.099427</td>\n",
       "    </tr>\n",
       "    <tr>\n",
       "      <th>sulphates</th>\n",
       "      <td>-0.017143</td>\n",
       "      <td>-0.035728</td>\n",
       "      <td>0.062331</td>\n",
       "      <td>-0.026664</td>\n",
       "      <td>0.016763</td>\n",
       "      <td>0.059217</td>\n",
       "      <td>0.134562</td>\n",
       "      <td>0.074493</td>\n",
       "      <td>0.155951</td>\n",
       "      <td>1.000000</td>\n",
       "      <td>-0.017433</td>\n",
       "      <td>0.053678</td>\n",
       "    </tr>\n",
       "    <tr>\n",
       "      <th>alcohol</th>\n",
       "      <td>-0.120881</td>\n",
       "      <td>0.067718</td>\n",
       "      <td>-0.075729</td>\n",
       "      <td>-0.450631</td>\n",
       "      <td>-0.360189</td>\n",
       "      <td>-0.250104</td>\n",
       "      <td>-0.448892</td>\n",
       "      <td>-0.780138</td>\n",
       "      <td>0.121432</td>\n",
       "      <td>-0.017433</td>\n",
       "      <td>1.000000</td>\n",
       "      <td>0.435575</td>\n",
       "    </tr>\n",
       "    <tr>\n",
       "      <th>quality</th>\n",
       "      <td>-0.113663</td>\n",
       "      <td>-0.194723</td>\n",
       "      <td>-0.009209</td>\n",
       "      <td>-0.097577</td>\n",
       "      <td>-0.209934</td>\n",
       "      <td>0.008158</td>\n",
       "      <td>-0.174737</td>\n",
       "      <td>-0.307123</td>\n",
       "      <td>0.099427</td>\n",
       "      <td>0.053678</td>\n",
       "      <td>0.435575</td>\n",
       "      <td>1.000000</td>\n",
       "    </tr>\n",
       "  </tbody>\n",
       "</table>\n",
       "</div>"
      ],
      "text/plain": [
       "                      fixed_acidity  volatile_acidity  citric_acid  \\\n",
       "fixed_acidity              1.000000         -0.022697     0.289181   \n",
       "volatile_acidity          -0.022697          1.000000    -0.149472   \n",
       "citric_acid                0.289181         -0.149472     1.000000   \n",
       "residual_sugar             0.089021          0.064286     0.094212   \n",
       "chlorides                  0.023086          0.070512     0.114364   \n",
       "free_sulfur_dioxide       -0.049396         -0.097012     0.094077   \n",
       "total_sulfur_dioxide       0.091070          0.089261     0.121131   \n",
       "density                    0.265331          0.027114     0.149503   \n",
       "pH                        -0.425858         -0.031915    -0.163748   \n",
       "sulphates                 -0.017143         -0.035728     0.062331   \n",
       "alcohol                   -0.120881          0.067718    -0.075729   \n",
       "quality                   -0.113663         -0.194723    -0.009209   \n",
       "\n",
       "                      residual_sugar  chlorides  free_sulfur_dioxide  \\\n",
       "fixed_acidity               0.089021   0.023086            -0.049396   \n",
       "volatile_acidity            0.064286   0.070512            -0.097012   \n",
       "citric_acid                 0.094212   0.114364             0.094077   \n",
       "residual_sugar              1.000000   0.088685             0.299098   \n",
       "chlorides                   0.088685   1.000000             0.101392   \n",
       "free_sulfur_dioxide         0.299098   0.101392             1.000000   \n",
       "total_sulfur_dioxide        0.401439   0.198910             0.615501   \n",
       "density                     0.838966   0.257211             0.294210   \n",
       "pH                         -0.194133  -0.090439            -0.000618   \n",
       "sulphates                  -0.026664   0.016763             0.059217   \n",
       "alcohol                    -0.450631  -0.360189            -0.250104   \n",
       "quality                    -0.097577  -0.209934             0.008158   \n",
       "\n",
       "                      total_sulfur_dioxide   density        pH  sulphates  \\\n",
       "fixed_acidity                     0.091070  0.265331 -0.425858  -0.017143   \n",
       "volatile_acidity                  0.089261  0.027114 -0.031915  -0.035728   \n",
       "citric_acid                       0.121131  0.149503 -0.163748   0.062331   \n",
       "residual_sugar                    0.401439  0.838966 -0.194133  -0.026664   \n",
       "chlorides                         0.198910  0.257211 -0.090439   0.016763   \n",
       "free_sulfur_dioxide               0.615501  0.294210 -0.000618   0.059217   \n",
       "total_sulfur_dioxide              1.000000  0.529881  0.002321   0.134562   \n",
       "density                           0.529881  1.000000 -0.093591   0.074493   \n",
       "pH                                0.002321 -0.093591  1.000000   0.155951   \n",
       "sulphates                         0.134562  0.074493  0.155951   1.000000   \n",
       "alcohol                          -0.448892 -0.780138  0.121432  -0.017433   \n",
       "quality                          -0.174737 -0.307123  0.099427   0.053678   \n",
       "\n",
       "                       alcohol   quality  \n",
       "fixed_acidity        -0.120881 -0.113663  \n",
       "volatile_acidity      0.067718 -0.194723  \n",
       "citric_acid          -0.075729 -0.009209  \n",
       "residual_sugar       -0.450631 -0.097577  \n",
       "chlorides            -0.360189 -0.209934  \n",
       "free_sulfur_dioxide  -0.250104  0.008158  \n",
       "total_sulfur_dioxide -0.448892 -0.174737  \n",
       "density              -0.780138 -0.307123  \n",
       "pH                    0.121432  0.099427  \n",
       "sulphates            -0.017433  0.053678  \n",
       "alcohol               1.000000  0.435575  \n",
       "quality               0.435575  1.000000  "
      ]
     },
     "execution_count": 20,
     "metadata": {},
     "output_type": "execute_result"
    }
   ],
   "source": [
    "from pyspark.mllib.stat import Statistics\n",
    "import pandas as pd\n",
    "\n",
    "col_names = df.columns\n",
    "features = df.rdd.map(lambda row: row[0:])\n",
    "corr_mat= Statistics.corr(features, method=\"pearson\")\n",
    "corr_df = pd.DataFrame(corr_mat)\n",
    "corr_df.index, corr_df.columns = col_names, col_names\n",
    "\n",
    "corr_df"
   ]
  },
  {
   "cell_type": "markdown",
   "id": "babc3903-8764-4766-97dd-80f690da76b0",
   "metadata": {},
   "source": [
    "A Pearson correlation coefficient of 0.7 or greater is generally considered to be a strong correlation. This means that there is a high degree of linear relationship between the two variables. For example, if the correlation coefficient between height and weight is 0.7, this means that taller people tend to be heavier, on average.\n",
    "\n",
    "However, it is important to note that the strength of a correlation coefficient can vary depending on the specific variables being measured. For example, a correlation coefficient of 0.7 might be considered strong for some variables, but weak for others.\n",
    "\n",
    "Here we could see that residual_sugar have a <b>strong correlation</b> with <b>density</b>."
   ]
  },
  {
   "cell_type": "markdown",
   "id": "637ddba0-5fae-4383-ba2d-cc3461555216",
   "metadata": {},
   "source": [
    "## 4. Feature engineering"
   ]
  },
  {
   "cell_type": "markdown",
   "id": "0aa2e35c-7306-4e3a-a6da-ced25b3a4271",
   "metadata": {},
   "source": [
    "<b>Feature engineering</b> is the process of transforming raw data into features that are more informative and useful for machine learning algorithms. This can involve a variety of tasks, such as:\n",
    "\n",
    "- <b>Data transformation</b>: This involves transforming the data into a format that is more suitable for machine learning algorithms. For example, categorical data can be encoded as numerical data, and continuous data can be discretized.\n",
    "- <b>Feature selection</b>: This involves selecting the most important features from the data set. This can be done using a variety of techniques, such as statistical significance tests and feature importance scores.\n",
    "- <b>Feature creation</b>: This involves creating new features from the existing data. This can be done by combining existing features, or by creating derived features that are based on the relationships between different features."
   ]
  },
  {
   "cell_type": "markdown",
   "id": "e62cde88-e34d-4fe7-8958-b11595e1c22b",
   "metadata": {},
   "source": [
    "### Bucketing a quality label"
   ]
  },
  {
   "cell_type": "markdown",
   "id": "d1da8857-0aac-446a-8334-700846c50a38",
   "metadata": {},
   "source": [
    "- Poor for less than 3\n",
    "- Poor between 4 and 5 (inclusive)\n",
    "- Good between 6 and 7\n",
    "- Excelent for more than 7"
   ]
  },
  {
   "cell_type": "code",
   "execution_count": 21,
   "id": "e3a493c4-890c-4956-a5b7-15441a8f55e6",
   "metadata": {},
   "outputs": [],
   "source": [
    "from pyspark.sql.types import StringType\n",
    "from pyspark.sql import functions as F\n",
    "\n",
    "@F.udf(returnType=StringType())\n",
    "def quality_score_to_label(score: int):\n",
    "    if score >=0 and score < 4:\n",
    "        return 'poor'\n",
    "    elif score >=4 and score <=5:\n",
    "        return 'normal'\n",
    "    elif score >=6 and score <=7:\n",
    "        return 'good'\n",
    "    else: \n",
    "        return 'excelent'"
   ]
  },
  {
   "cell_type": "code",
   "execution_count": 22,
   "id": "f9731bd6-51b9-4dbc-ab25-10aed0667f14",
   "metadata": {},
   "outputs": [
    {
     "name": "stdout",
     "output_type": "stream",
     "text": [
      "+-------------+----------------+-----------+--------------+---------+-------------------+--------------------+-------+---+---------+-------+-------------+\n",
      "|fixed_acidity|volatile_acidity|citric_acid|residual_sugar|chlorides|free_sulfur_dioxide|total_sulfur_dioxide|density| pH|sulphates|alcohol|quality_label|\n",
      "+-------------+----------------+-----------+--------------+---------+-------------------+--------------------+-------+---+---------+-------+-------------+\n",
      "|          7.0|            0.27|       0.36|          20.7|    0.045|               45.0|               170.0|  1.001|3.0|     0.45|    8.8|         good|\n",
      "|          6.3|             0.3|       0.34|           1.6|    0.049|               14.0|               132.0|  0.994|3.3|     0.49|    9.5|         good|\n",
      "+-------------+----------------+-----------+--------------+---------+-------------------+--------------------+-------+---+---------+-------+-------------+\n",
      "only showing top 2 rows\n",
      "\n"
     ]
    }
   ],
   "source": [
    "df_buc = df.withColumn('quality_label', quality_score_to_label('quality'))\n",
    "df_buc = df_buc.drop('quality')\n",
    "df_buc.show(2)"
   ]
  },
  {
   "cell_type": "markdown",
   "id": "36d2123e-de88-486e-b3ba-c61dd3878397",
   "metadata": {},
   "source": [
    "### LabelIndexer"
   ]
  },
  {
   "cell_type": "code",
   "execution_count": 27,
   "id": "5705db46-a58c-4387-a11d-bf86ce02b07c",
   "metadata": {},
   "outputs": [
    {
     "name": "stdout",
     "output_type": "stream",
     "text": [
      "+-------------+----------------+-----------+--------------+---------+-------------------+--------------------+-------+---+---------+-------+-------+\n",
      "|fixed_acidity|volatile_acidity|citric_acid|residual_sugar|chlorides|free_sulfur_dioxide|total_sulfur_dioxide|density| pH|sulphates|alcohol|quality|\n",
      "+-------------+----------------+-----------+--------------+---------+-------------------+--------------------+-------+---+---------+-------+-------+\n",
      "|          7.0|            0.27|       0.36|          20.7|    0.045|               45.0|               170.0|  1.001|3.0|     0.45|    8.8|    0.0|\n",
      "|          6.3|             0.3|       0.34|           1.6|    0.049|               14.0|               132.0|  0.994|3.3|     0.49|    9.5|    0.0|\n",
      "+-------------+----------------+-----------+--------------+---------+-------------------+--------------------+-------+---+---------+-------+-------+\n",
      "only showing top 2 rows\n",
      "\n"
     ]
    }
   ],
   "source": [
    "from pyspark.ml.feature import StringIndexer\n",
    "\n",
    "label_indexer = StringIndexer()\\\n",
    "            .setInputCol (\"quality_label\")\\\n",
    "            .setOutputCol (\"quality\")\n",
    "\n",
    "label_indexer_model = label_indexer.fit(df_buc)\n",
    "label_indexer_df = label_indexer_model.transform(df_buc)\n",
    "\n",
    "label_indexer_df = label_indexer_df.drop('quality_label')\n",
    "\n",
    "label_indexer_df.show(2)"
   ]
  },
  {
   "cell_type": "code",
   "execution_count": 28,
   "id": "84086f8f-1c9d-4dea-8370-8136607f0c48",
   "metadata": {},
   "outputs": [
    {
     "name": "stdout",
     "output_type": "stream",
     "text": [
      "+-------+-----+\n",
      "|quality|count|\n",
      "+-------+-----+\n",
      "|    0.0| 3078|\n",
      "|    1.0| 1620|\n",
      "|    3.0|   20|\n",
      "|    2.0|  180|\n",
      "+-------+-----+\n",
      "\n"
     ]
    }
   ],
   "source": [
    "label_indexer_df.groupby(\n",
    "    F.col('quality')).\\\n",
    "    count().\\\n",
    "    show()"
   ]
  },
  {
   "cell_type": "markdown",
   "id": "9014e0be-2875-4a65-9346-a2acb841df1e",
   "metadata": {},
   "source": [
    "### Resampling [Optional step]"
   ]
  },
  {
   "cell_type": "code",
   "execution_count": 29,
   "id": "abb63754-1120-4e01-8695-a6f0bf4ab59d",
   "metadata": {},
   "outputs": [],
   "source": [
    "from imblearn.over_sampling import SMOTE\n",
    "\n",
    "X, y = label_indexer_df.toPandas().iloc[:, :-1], label_indexer_df.toPandas().iloc[:, [-1]]\n",
    "sm = SMOTE(k_neighbors=6)\n",
    "X_res, y_res = sm.fit_resample(X, y)"
   ]
  },
  {
   "cell_type": "code",
   "execution_count": 30,
   "id": "4b65f558-175e-4f2f-94f4-ce450143d5ae",
   "metadata": {},
   "outputs": [
    {
     "name": "stdout",
     "output_type": "stream",
     "text": [
      "+-------------+----------------+-----------+--------------+---------+-------------------+--------------------+-------+---+---------+-------+-------+\n",
      "|fixed_acidity|volatile_acidity|citric_acid|residual_sugar|chlorides|free_sulfur_dioxide|total_sulfur_dioxide|density| pH|sulphates|alcohol|quality|\n",
      "+-------------+----------------+-----------+--------------+---------+-------------------+--------------------+-------+---+---------+-------+-------+\n",
      "|          7.0|            0.27|       0.36|          20.7|    0.045|               45.0|               170.0|  1.001|3.0|     0.45|    8.8|    0.0|\n",
      "|          6.3|             0.3|       0.34|           1.6|    0.049|               14.0|               132.0|  0.994|3.3|     0.49|    9.5|    0.0|\n",
      "+-------------+----------------+-----------+--------------+---------+-------------------+--------------------+-------+---+---------+-------+-------+\n",
      "only showing top 2 rows\n",
      "\n"
     ]
    }
   ],
   "source": [
    "df_res = spark.createDataFrame(pd.concat([X_res, y_res], axis=1))\n",
    "df_res.show(2)"
   ]
  },
  {
   "cell_type": "code",
   "execution_count": 31,
   "id": "c4831f6a-633b-42e9-aef0-60d39b821990",
   "metadata": {},
   "outputs": [],
   "source": [
    "from pyspark.sql import functions as F"
   ]
  },
  {
   "cell_type": "code",
   "execution_count": 32,
   "id": "85f8830c-41e0-45e8-8fd1-6e699ec47824",
   "metadata": {},
   "outputs": [
    {
     "name": "stdout",
     "output_type": "stream",
     "text": [
      "+-------+-----+\n",
      "|quality|count|\n",
      "+-------+-----+\n",
      "|    0.0| 3078|\n",
      "|    1.0| 3078|\n",
      "|    3.0| 3078|\n",
      "|    2.0| 3078|\n",
      "+-------+-----+\n",
      "\n"
     ]
    }
   ],
   "source": [
    "df_res.groupby(\n",
    "    F.col('quality')).\\\n",
    "    count().\\\n",
    "    show()"
   ]
  },
  {
   "cell_type": "markdown",
   "id": "1ecb7ca4-83cd-4c53-b292-92d7fb020b82",
   "metadata": {},
   "source": [
    "### Vectoring to prepare Data for Machine Learning"
   ]
  },
  {
   "cell_type": "code",
   "execution_count": 36,
   "id": "b8817295-3915-45e1-aee0-e4176964b296",
   "metadata": {},
   "outputs": [
    {
     "name": "stdout",
     "output_type": "stream",
     "text": [
      "+--------------------+-----+\n",
      "| vectorized_features|label|\n",
      "+--------------------+-----+\n",
      "|[7.0,0.27,0.36,20...|  0.0|\n",
      "|[6.3,0.3,0.34,1.6...|  0.0|\n",
      "+--------------------+-----+\n",
      "only showing top 2 rows\n",
      "\n"
     ]
    }
   ],
   "source": [
    "from pyspark.sql import Row\n",
    "from pyspark.ml.linalg import Vectors\n",
    "\n",
    "df_vec= df_res.rdd.map(lambda x:(Vectors.dense(x[0:-1]), x[-1])).toDF([\"vectorized_features\", \"label\"])\n",
    "df_vec.show(2)"
   ]
  },
  {
   "cell_type": "markdown",
   "id": "306b45d3-75d8-44ef-885c-694af2dcf9e7",
   "metadata": {},
   "source": [
    "### Standardization"
   ]
  },
  {
   "cell_type": "code",
   "execution_count": 37,
   "id": "b64d1119-55dc-4586-a6d3-e85d4c0b9ab8",
   "metadata": {},
   "outputs": [
    {
     "name": "stdout",
     "output_type": "stream",
     "text": [
      "+--------------------+-----+\n",
      "|            features|label|\n",
      "+--------------------+-----+\n",
      "|[6.99576901327996...|  0.0|\n",
      "|[6.29619211195196...|  0.0|\n",
      "+--------------------+-----+\n",
      "only showing top 2 rows\n",
      "\n"
     ]
    }
   ],
   "source": [
    "from pyspark.ml.feature import StandardScaler\n",
    "\n",
    "scaler = StandardScaler()\\\n",
    "         .setInputCol (\"vectorized_features\")\\\n",
    "         .setOutputCol (\"features\")\n",
    "        \n",
    "scaler_model = scaler.fit(df_vec)\n",
    "scaler_df = scaler_model.transform(df_vec)\n",
    "\n",
    "scaler_df = scaler_df.select('features', 'label')\n",
    "scaler_df.show(2)"
   ]
  },
  {
   "cell_type": "markdown",
   "id": "c9f8e115-9797-490f-a49a-5b577b492b6b",
   "metadata": {},
   "source": [
    "## 5. Model Choice"
   ]
  },
  {
   "cell_type": "markdown",
   "id": "74f15d40-f150-4ade-a1d4-2e87c974420b",
   "metadata": {},
   "source": [
    "<b>Multinomial logistic regression</b> is a type of logistic regression that can be used for multi-class classification problems. In the case of wine quality classification, there are 4 classes (poor, normal, good and excelent) so multinomial logistic regression is a good choice for modeling this problem.\n",
    "\n",
    "The physicochemical tests can be used to measure the various properties of wine, such as acidity, alcohol content, and sugar content. These properties can then be used as features in the multinomial logistic regression model.\n",
    "\n",
    "Here are some of the advantages of using multinomial logistic regression for wine quality classification:\n",
    "\n",
    "- It is a relatively simple model that is easy to understand and interpret.\n",
    "- It is a very flexible model that can be used to model a variety of different types of data.\n",
    "- It is a very efficient model that can be estimated quickly and easily.\n",
    "\n",
    "Here is some of the disadvantages of using multinomial logistic regression for wine quality classification:\n",
    "\n",
    "- It may not be as accurate as some other models, such as support vector machines or decision trees.\n",
    "- It may not be able to capture the nonlinear relationships between the features and the class labels.\n",
    "\n",
    "In addition to multinomial logistic regression, there are a number of other models that could be used for wine quality classification. Some of these other models include support vector machines, decision trees, and random forests. However, multinomial logistic regression is a good starting point for wine quality classification because it is a simple, flexible, and efficient model.\n"
   ]
  },
  {
   "cell_type": "markdown",
   "id": "88e5a896-ebf7-41d1-9087-ed0e99e2161d",
   "metadata": {},
   "source": [
    "## 6. Model Training"
   ]
  },
  {
   "cell_type": "markdown",
   "id": "ec542669-b32b-4874-bdc9-b88dc799da1c",
   "metadata": {},
   "source": [
    "### Train/Test Split data  "
   ]
  },
  {
   "cell_type": "code",
   "execution_count": 38,
   "id": "d6143644-a1ce-4cc5-aa53-5f80975ec77e",
   "metadata": {},
   "outputs": [
    {
     "name": "stdout",
     "output_type": "stream",
     "text": [
      "training instances 9871 test instances 2441\n"
     ]
    }
   ],
   "source": [
    "# Split training and test data\n",
    "training, test = scaler_df.randomSplit([0.8, 0.2])\n",
    "\n",
    "print (\"training instances\", training.count(), \"test instances\", test.count())"
   ]
  },
  {
   "cell_type": "markdown",
   "id": "5d352991-de8d-4004-b99f-970c78540180",
   "metadata": {
    "tags": []
   },
   "source": [
    "### Model Training phase"
   ]
  },
  {
   "cell_type": "code",
   "execution_count": 39,
   "id": "1359b31a-56b6-4cda-8005-f5cdf86532d6",
   "metadata": {},
   "outputs": [
    {
     "name": "stderr",
     "output_type": "stream",
     "text": [
      "23/06/23 02:24:21 WARN com.github.fommil.netlib.BLAS: Failed to load implementation from: com.github.fommil.netlib.NativeSystemBLAS\n",
      "23/06/23 02:24:21 WARN com.github.fommil.netlib.BLAS: Failed to load implementation from: com.github.fommil.netlib.NativeRefBLAS\n",
      "                                                                                \r"
     ]
    },
    {
     "name": "stdout",
     "output_type": "stream",
     "text": [
      "Coefficients: \n",
      "DenseMatrix([[-3.67529068e-01, -3.97786047e-01,  2.98822570e-02,\n",
      "               4.52674234e-03, -7.21416896e-02, -6.33224097e-02,\n",
      "              -2.18937549e-02,  2.15119306e-02, -2.94895020e-01,\n",
      "               2.40152500e-01,  2.64378799e-01],\n",
      "             [-2.48557233e-01,  4.68692525e-01,  1.16561513e-01,\n",
      "              -3.42594465e-01, -1.39570801e-01, -3.77277221e-01,\n",
      "               1.02892124e-01,  4.34166452e-02, -1.83707057e-01,\n",
      "               4.92681955e-04, -1.18516662e+00],\n",
      "             [-2.47462733e-01, -5.67664044e-01, -1.23392357e-01,\n",
      "               4.21050259e-01, -1.25734635e-01,  2.26949197e-01,\n",
      "              -1.04611473e-01, -1.54648676e-02, -1.62057760e-01,\n",
      "               1.69525384e-01,  1.35036841e+00],\n",
      "             [ 8.63549033e-01,  4.96757567e-01, -2.30514135e-02,\n",
      "              -8.29825362e-02,  3.37447125e-01,  2.13650433e-01,\n",
      "               2.36131036e-02, -4.94637083e-02,  6.40659837e-01,\n",
      "              -4.10170566e-01, -4.29580586e-01]])\n",
      "Intercept: [0.008053581897604923,-0.010737016675483617,0.00023949026449031534,0.0024439445133883782]\n",
      "objectiveHistory:\n",
      "1.3862733090920696\n",
      "1.3862582377114032\n",
      "1.3862294872867877\n",
      "1.3859085865967609\n",
      "1.385309676218825\n",
      "1.3835087172408618\n",
      "1.3791191845969404\n",
      "1.3679913824394627\n",
      "1.3428863024485413\n",
      "1.2963226257657614\n",
      "1.2400067646578325\n",
      "1.2304057220996816\n",
      "1.1982389546939336\n",
      "1.188299088523401\n",
      "1.187222384633237\n",
      "1.1870915970013776\n",
      "1.1870753258336082\n",
      "1.1859730586300428\n",
      "1.174808681690037\n",
      "1.1741859815653088\n",
      "1.157369975901189\n",
      "1.1251817342361008\n",
      "1.116844927116924\n",
      "1.100149484711936\n",
      "1.0973532125232097\n",
      "1.0973005905285138\n",
      "1.09724167648733\n",
      "1.0972390328484045\n",
      "1.0972348960801879\n",
      "1.0972240077596396\n",
      "1.0971960980706108\n",
      "1.0971228434286155\n",
      "1.0969340401045478\n",
      "1.0964594841084059\n",
      "1.0953487164324365\n",
      "1.093506594044841\n",
      "1.0904790721566824\n",
      "1.085623276441561\n",
      "1.0843018262493016\n",
      "1.0841569219844778\n",
      "1.0840666719159573\n",
      "1.0839371346582138\n",
      "1.0836210100974197\n",
      "1.0828496365005404\n",
      "1.081233971299321\n",
      "1.0788381936291531\n",
      "1.0784929835115202\n",
      "1.076670698078547\n",
      "1.076165104953164\n",
      "1.0761045692595044\n",
      "1.0761018271130192\n",
      "1.0761011231819437\n",
      "1.0761008362068867\n",
      "1.0760992210886406\n",
      "1.0760969985445457\n",
      "1.0760921030953063\n",
      "1.0760797815436256\n",
      "1.0760451761745815\n",
      "1.0759675339782666\n",
      "1.0758078464994367\n",
      "1.0755053138859096\n",
      "1.0746398546629121\n",
      "1.0735938309599518\n",
      "1.0725706236135613\n",
      "1.0716428680855015\n",
      "1.0707824617920976\n",
      "1.0704636116449646\n",
      "1.0702201185575901\n",
      "1.0701851690960955\n",
      "1.0701838963313963\n",
      "1.0701836155212512\n",
      "1.0701823781114652\n",
      "1.0701801684863947\n",
      "1.0701749992520821\n",
      "1.0701708972602018\n",
      "1.0701486840678829\n",
      "1.0701073540904136\n",
      "1.0700031452382677\n",
      "1.0697871281232991\n",
      "1.0693562056200863\n",
      "1.0688327036102068\n",
      "1.068292788923476\n",
      "1.0679489545416037\n",
      "1.0678745277206831\n",
      "1.0678544760684763\n",
      "1.0678264633859904\n",
      "1.0677480660878973\n",
      "1.0677364888791736\n",
      "1.0677235433722754\n",
      "1.0677194607335674\n",
      "1.067708938846576\n",
      "1.0676939162899783\n",
      "1.0676463587885952\n",
      "1.0675508776302327\n",
      "1.0673829676690032\n",
      "1.0673275468810377\n",
      "1.0671809670890038\n",
      "1.0671068667847279\n",
      "1.0671012166111002\n",
      "1.0671009617622906\n",
      "1.0671006670944654\n",
      "1.0671005840073247\n",
      "1.0671004054102173\n",
      "1.0671001034947003\n",
      "1.0670991110044972\n",
      "1.0670969412851212\n",
      "1.0670920672143358\n",
      "1.0670843524890248\n",
      "1.0670812000571772\n",
      "1.0670746196930534\n",
      "1.0670716142382415\n",
      "1.0670710560238543\n",
      "1.0670703280322391\n",
      "1.0670681131586424\n",
      "1.0670654375947093\n",
      "1.0670638055450148\n",
      "1.0670623660865672\n",
      "1.067061615964692\n",
      "1.0670607599684399\n",
      "1.0670580230851807\n",
      "1.0670528435875652\n",
      "1.0670446197733712\n",
      "1.0670431349060006\n",
      "1.0670374810519598\n",
      "1.0670357748135688\n",
      "1.0670356039273796\n",
      "1.0670355719725566\n",
      "1.0670354505725528\n",
      "1.0670351053167808\n",
      "1.067034366340541\n",
      "1.0670330728411002\n",
      "1.067031020910907\n",
      "1.0670259579109431\n",
      "1.0670247800093724\n",
      "1.0670240579060777\n",
      "1.067023404168202\n",
      "1.0670229242961833\n",
      "1.0670224510535966\n",
      "1.06702187888891\n",
      "1.0670211422109541\n",
      "1.0670194318595199\n",
      "1.0670164648082157\n",
      "1.0670113152610314\n",
      "1.066986503425584\n",
      "1.066945278600084\n",
      "1.0668392093485284\n",
      "1.0666461356301666\n",
      "1.0665615501521843\n",
      "1.066324384321813\n",
      "1.066198100972729\n",
      "1.0661763272038356\n",
      "1.0661734146004198\n",
      "1.0661722225439259\n",
      "1.0661717265919675\n",
      "1.0661709526844227\n",
      "1.0661690599844833\n",
      "1.066164140080983\n",
      "1.0661540725382277\n",
      "1.0661392216282897\n",
      "1.0661373060359964\n",
      "1.066126112328475\n",
      "1.0661223681230307\n",
      "1.0661220522368189\n",
      "1.0661220147032626\n",
      "1.0661219965291608\n",
      "1.0661219329086713\n",
      "1.0661218141205897\n",
      "1.0661215793521304\n",
      "1.0661209742592326\n",
      "1.066119378365053\n",
      "1.0661156760960746\n",
      "1.0661133356996428\n",
      "1.0661052884535758\n",
      "1.0660733891294474\n",
      "1.0660365808664374\n",
      "1.0659966507475607\n",
      "1.0659185274883116\n",
      "1.0658634725100582\n",
      "1.065849048981212\n",
      "1.0658464215615093\n",
      "1.0658450992673685\n",
      "1.0658432070030321\n",
      "1.0658397773237676\n",
      "1.0658376373068377\n",
      "1.065836673414906\n",
      "1.065836256072676\n",
      "1.065836136461296\n",
      "1.0658360834241525\n",
      "1.0658359595802696\n",
      "1.0658359242985553\n",
      "1.0658358377423256\n",
      "1.0658354496003923\n",
      "1.0658349608472142\n",
      "1.0658336132432429\n",
      "1.0658301868455435\n",
      "1.0658227198341967\n",
      "1.0658030218238497\n",
      "1.0657656131494497\n",
      "1.0656930304403822\n",
      "1.065574621558483\n",
      "1.065556378900089\n",
      "False positive rate by label:\n",
      "label 0: 0.15260663507109004\n",
      "label 1: 0.15591759795341323\n",
      "label 2: 0.15847732181425486\n",
      "label 3: 0.15812254835655348\n",
      "True positive rate by label:\n",
      "label 0: 0.31979082864038616\n",
      "label 1: 0.5961538461538461\n",
      "label 2: 0.6707267559886317\n",
      "label 3: 0.5403551251008878\n",
      "Precision by label:\n",
      "label 0: 0.4136316337148803\n",
      "label 1: 0.55717017208413\n",
      "label 2: 0.5845718329794763\n",
      "label 3: 0.5338915470494418\n",
      "Recall by label:\n",
      "label 0: 0.31979082864038616\n",
      "label 1: 0.5961538461538461\n",
      "label 2: 0.6707267559886317\n",
      "label 3: 0.5403551251008878\n",
      "F-measure by label:\n",
      "label 0: 0.36070780399274044\n",
      "label 1: 0.5760031626803717\n",
      "label 2: 0.6246927585554926\n",
      "label 3: 0.5371038908945045\n",
      "Accuracy: 0.531151858980853\n",
      "FPR: 0.15627596217616463\n",
      "TPR: 0.531151858980853\n",
      "F-measure: 0.5241650325474158\n",
      "Precision: 0.5220135569046473\n",
      "Recall: 0.531151858980853\n"
     ]
    },
    {
     "name": "stderr",
     "output_type": "stream",
     "text": [
      "                                                                                \r"
     ]
    }
   ],
   "source": [
    "from pyspark.ml.classification import LogisticRegression\n",
    "\n",
    "lr = LogisticRegression(\n",
    "    family=\"multinomial\", \n",
    "    featuresCol = 'features', \n",
    "    labelCol = 'label',\n",
    "    maxIter=200,\n",
    "    elasticNetParam=1.0, \n",
    "    tol=1e-6, \n",
    "    standardization=True,\n",
    "    fitIntercept=True\n",
    ")\n",
    "    \n",
    "# Fit the model\n",
    "lrModel = lr.fit(training)\n",
    "\n",
    "# Print the coefficients and intercept for multinomial logistic regression\n",
    "print(\"Coefficients: \\n\" + str(lrModel.coefficientMatrix))\n",
    "print(\"Intercept: \" + str(lrModel.interceptVector))\n",
    "\n",
    "trainingSummary = lrModel.summary\n",
    "\n",
    "# Obtain the objective per iteration\n",
    "objectiveHistory = trainingSummary.objectiveHistory\n",
    "print(\"objectiveHistory:\")\n",
    "for objective in objectiveHistory:\n",
    "    print(objective)\n",
    "\n",
    "# for multiclass, we can inspect metrics on a per-label basis\n",
    "print(\"False positive rate by label:\")\n",
    "for i, rate in enumerate(trainingSummary.falsePositiveRateByLabel):\n",
    "    print(\"label %d: %s\" % (i, rate))\n",
    "\n",
    "print(\"True positive rate by label:\")\n",
    "for i, rate in enumerate(trainingSummary.truePositiveRateByLabel):\n",
    "    print(\"label %d: %s\" % (i, rate))\n",
    "\n",
    "print(\"Precision by label:\")\n",
    "for i, prec in enumerate(trainingSummary.precisionByLabel):\n",
    "    print(\"label %d: %s\" % (i, prec))\n",
    "\n",
    "print(\"Recall by label:\")\n",
    "for i, rec in enumerate(trainingSummary.recallByLabel):\n",
    "    print(\"label %d: %s\" % (i, rec))\n",
    "\n",
    "print(\"F-measure by label:\")\n",
    "for i, f in enumerate(trainingSummary.fMeasureByLabel()):\n",
    "    print(\"label %d: %s\" % (i, f))\n",
    "\n",
    "accuracy = trainingSummary.accuracy\n",
    "falsePositiveRate = trainingSummary.weightedFalsePositiveRate\n",
    "truePositiveRate = trainingSummary.weightedTruePositiveRate\n",
    "fMeasure = trainingSummary.weightedFMeasure()\n",
    "precision = trainingSummary.weightedPrecision\n",
    "recall = trainingSummary.weightedRecall\n",
    "print(\"Accuracy: %s\\nFPR: %s\\nTPR: %s\\nF-measure: %s\\nPrecision: %s\\nRecall: %s\"\n",
    "      % (accuracy, falsePositiveRate, truePositiveRate, fMeasure, precision, recall))"
   ]
  },
  {
   "cell_type": "markdown",
   "id": "c01713d7-4e24-493f-a56b-a76a7e31c473",
   "metadata": {},
   "source": [
    "## 7. Model Evaluation"
   ]
  },
  {
   "cell_type": "code",
   "execution_count": 40,
   "id": "526b2585-a6d4-406a-806e-abece14959fd",
   "metadata": {},
   "outputs": [],
   "source": [
    "predictions = lrModel.transform(test)"
   ]
  },
  {
   "cell_type": "markdown",
   "id": "e2112684-c70c-4500-887b-4a2e5a9c2fff",
   "metadata": {
    "tags": []
   },
   "source": [
    "### Confusion Matrix"
   ]
  },
  {
   "cell_type": "code",
   "execution_count": 41,
   "id": "dc951bd4-be34-4ec0-bfb9-f0e84365295d",
   "metadata": {},
   "outputs": [],
   "source": [
    "class_names=list([0,1,2,3])\n",
    "\n",
    "import itertools\n",
    "\n",
    "def plot_confusion_matrix(cm, classes,\n",
    "                          normalize=False,\n",
    "                          title='Confusion matrix',\n",
    "                          cmap=plt.cm.Blues):\n",
    "    if normalize:\n",
    "        cm = cm.astype('float') / cm.sum(axis=1)[:, np.newaxis]\n",
    "        print(\"Normalized confusion matrix\")\n",
    "    else:\n",
    "        print('Confusion matrix, without normalization')\n",
    "\n",
    "    print(cm)\n",
    "\n",
    "    plt.imshow(cm, interpolation='nearest', cmap=cmap)\n",
    "    plt.title(title)\n",
    "    plt.colorbar()\n",
    "    tick_marks = np.arange(len(classes))\n",
    "    plt.xticks(tick_marks, classes, rotation=45)\n",
    "    plt.yticks(tick_marks, classes)\n",
    "\n",
    "    fmt = '.2f' if normalize else 'd'\n",
    "    thresh = cm.max() / 2.\n",
    "    for i, j in itertools.product(range(cm.shape[0]), range(cm.shape[1])):\n",
    "        plt.text(j, i, format(cm[i, j], fmt),\n",
    "                 horizontalalignment=\"center\",\n",
    "                 color=\"white\" if cm[i, j] > thresh else \"black\")\n",
    "\n",
    "    plt.tight_layout()\n",
    "    plt.ylabel('True label')\n",
    "    plt.xlabel('Predicted label')"
   ]
  },
  {
   "cell_type": "code",
   "execution_count": 42,
   "id": "268757d2-09a8-422e-9097-df2420a6f7ab",
   "metadata": {},
   "outputs": [
    {
     "name": "stdout",
     "output_type": "stream",
     "text": [
      "Confusion matrix, without normalization\n",
      "[[188 140 176  88]\n",
      " [100 371  19 144]\n",
      " [113  37 372  93]\n",
      " [ 83 112  59 346]]\n"
     ]
    },
    {
     "data": {
      "image/png": "[encoded data removed]",
      "text/plain": [
       "<Figure size 640x480 with 2 Axes>"
      ]
     },
     "metadata": {},
     "output_type": "display_data"
    }
   ],
   "source": [
    "from sklearn.metrics import confusion_matrix\n",
    "import numpy as np\n",
    "\n",
    "y_true = predictions.select(\"label\")\n",
    "y_true = y_true.toPandas()\n",
    "\n",
    "y_pred = predictions.select(\"prediction\")\n",
    "y_pred = y_pred.toPandas()\n",
    "\n",
    "cnf_matrix = confusion_matrix(\n",
    "    y_true,\n",
    "    y_pred,\n",
    "    labels=class_names\n",
    ")\n",
    "\n",
    "plt.figure()\n",
    "plot_confusion_matrix(\n",
    "    cnf_matrix,\n",
    "    classes=class_names,\n",
    "    title='Confusion matrix'\n",
    ")\n",
    "\n",
    "plt.show()"
   ]
  },
  {
   "cell_type": "markdown",
   "id": "97723165-a6ba-4753-9230-3c108759917c",
   "metadata": {},
   "source": [
    "## 8. Prediction"
   ]
  },
  {
   "cell_type": "code",
   "execution_count": 43,
   "id": "8cec4da7-e539-4245-a5c0-68a40f3aef43",
   "metadata": {},
   "outputs": [
    {
     "data": {
      "text/html": [
       "<div>\n",
       "<style scoped>\n",
       "    .dataframe tbody tr th:only-of-type {\n",
       "        vertical-align: middle;\n",
       "    }\n",
       "\n",
       "    .dataframe tbody tr th {\n",
       "        vertical-align: top;\n",
       "    }\n",
       "\n",
       "    .dataframe thead th {\n",
       "        text-align: right;\n",
       "    }\n",
       "</style>\n",
       "<table border=\"1\" class=\"dataframe\">\n",
       "  <thead>\n",
       "    <tr style=\"text-align: right;\">\n",
       "      <th></th>\n",
       "      <th>label</th>\n",
       "      <th>features</th>\n",
       "      <th>rawPrediction</th>\n",
       "      <th>prediction</th>\n",
       "      <th>probability</th>\n",
       "    </tr>\n",
       "  </thead>\n",
       "  <tbody>\n",
       "    <tr>\n",
       "      <th>0</th>\n",
       "      <td>2.0</td>\n",
       "      <td>[3.8976427359702646, 2.2072459957132007, 4.038...</td>\n",
       "      <td>[1.136368179600305, -1.7094405500987946, 2.351...</td>\n",
       "      <td>2.0</td>\n",
       "      <td>[0.22309393640113775, 0.012958917906009598, 0....</td>\n",
       "    </tr>\n",
       "    <tr>\n",
       "      <th>1</th>\n",
       "      <td>0.0</td>\n",
       "      <td>[4.397340522633119, 4.5125918134581, 1.0095734...</td>\n",
       "      <td>[0.153029348104244, -1.1886073655247873, 1.615...</td>\n",
       "      <td>2.0</td>\n",
       "      <td>[0.16508431600759846, 0.04315592137717419, 0.7...</td>\n",
       "    </tr>\n",
       "    <tr>\n",
       "      <th>2</th>\n",
       "      <td>1.0</td>\n",
       "      <td>[4.49728007996569, 1.8638966186022585, 2.12010...</td>\n",
       "      <td>[0.47187470762242195, 2.0450964825664157, -2.0...</td>\n",
       "      <td>1.0</td>\n",
       "      <td>[0.1592701591376285, 0.7680260481051342, 0.013...</td>\n",
       "    </tr>\n",
       "    <tr>\n",
       "      <th>3</th>\n",
       "      <td>0.0</td>\n",
       "      <td>[4.6971591946308315, 4.463541902442251, 1.8172...</td>\n",
       "      <td>[1.8718777217708018, -1.725654123660205, 3.383...</td>\n",
       "      <td>2.0</td>\n",
       "      <td>[0.1796805226608195, 0.004921673202002625, 0.8...</td>\n",
       "    </tr>\n",
       "    <tr>\n",
       "      <th>4</th>\n",
       "      <td>0.0</td>\n",
       "      <td>[4.797098751963402, 2.2072459957132007, 3.8363...</td>\n",
       "      <td>[0.7499169469545811, 0.49128630250164856, -0.5...</td>\n",
       "      <td>0.0</td>\n",
       "      <td>[0.4378794237450414, 0.33809027302238953, 0.12...</td>\n",
       "    </tr>\n",
       "    <tr>\n",
       "      <th>5</th>\n",
       "      <td>1.0</td>\n",
       "      <td>[4.797098751963402, 3.237294127046028, 0.0, 1....</td>\n",
       "      <td>[0.6935071429146228, 0.9756459002914213, -0.23...</td>\n",
       "      <td>1.0</td>\n",
       "      <td>[0.3520555470185227, 0.46681252167772636, 0.13...</td>\n",
       "    </tr>\n",
       "    <tr>\n",
       "      <th>6</th>\n",
       "      <td>0.0</td>\n",
       "      <td>[4.897038309295974, 2.3053458177448984, 2.7258...</td>\n",
       "      <td>[1.3612991408412936, 1.1954734626673809, 0.087...</td>\n",
       "      <td>0.0</td>\n",
       "      <td>[0.46618896442631746, 0.3949524495696164, 0.13...</td>\n",
       "    </tr>\n",
       "    <tr>\n",
       "      <th>7</th>\n",
       "      <td>1.0</td>\n",
       "      <td>[4.897038309295974, 3.3844438600935742, 3.4325...</td>\n",
       "      <td>[0.3798592163724284, 1.5213361579775395, -1.41...</td>\n",
       "      <td>1.0</td>\n",
       "      <td>[0.2119593965912317, 0.663727499166497, 0.0352...</td>\n",
       "    </tr>\n",
       "    <tr>\n",
       "      <th>8</th>\n",
       "      <td>1.0</td>\n",
       "      <td>[4.897038309295974, 3.3844438600935742, 3.4325...</td>\n",
       "      <td>[0.3798592163724284, 1.5213361579775395, -1.41...</td>\n",
       "      <td>1.0</td>\n",
       "      <td>[0.2119593965912317, 0.663727499166497, 0.0352...</td>\n",
       "    </tr>\n",
       "    <tr>\n",
       "      <th>9</th>\n",
       "      <td>0.0</td>\n",
       "      <td>[4.996977866628544, 2.3543957287607475, 2.1201...</td>\n",
       "      <td>[0.7139711828439043, -1.2004760283371538, 1.16...</td>\n",
       "      <td>2.0</td>\n",
       "      <td>[0.3377153267000169, 0.04978710928029406, 0.52...</td>\n",
       "    </tr>\n",
       "  </tbody>\n",
       "</table>\n",
       "</div>"
      ],
      "text/plain": [
       "   label                                           features  \\\n",
       "0    2.0  [3.8976427359702646, 2.2072459957132007, 4.038...   \n",
       "1    0.0  [4.397340522633119, 4.5125918134581, 1.0095734...   \n",
       "2    1.0  [4.49728007996569, 1.8638966186022585, 2.12010...   \n",
       "3    0.0  [4.6971591946308315, 4.463541902442251, 1.8172...   \n",
       "4    0.0  [4.797098751963402, 2.2072459957132007, 3.8363...   \n",
       "5    1.0  [4.797098751963402, 3.237294127046028, 0.0, 1....   \n",
       "6    0.0  [4.897038309295974, 2.3053458177448984, 2.7258...   \n",
       "7    1.0  [4.897038309295974, 3.3844438600935742, 3.4325...   \n",
       "8    1.0  [4.897038309295974, 3.3844438600935742, 3.4325...   \n",
       "9    0.0  [4.996977866628544, 2.3543957287607475, 2.1201...   \n",
       "\n",
       "                                       rawPrediction  prediction  \\\n",
       "0  [1.136368179600305, -1.7094405500987946, 2.351...         2.0   \n",
       "1  [0.153029348104244, -1.1886073655247873, 1.615...         2.0   \n",
       "2  [0.47187470762242195, 2.0450964825664157, -2.0...         1.0   \n",
       "3  [1.8718777217708018, -1.725654123660205, 3.383...         2.0   \n",
       "4  [0.7499169469545811, 0.49128630250164856, -0.5...         0.0   \n",
       "5  [0.6935071429146228, 0.9756459002914213, -0.23...         1.0   \n",
       "6  [1.3612991408412936, 1.1954734626673809, 0.087...         0.0   \n",
       "7  [0.3798592163724284, 1.5213361579775395, -1.41...         1.0   \n",
       "8  [0.3798592163724284, 1.5213361579775395, -1.41...         1.0   \n",
       "9  [0.7139711828439043, -1.2004760283371538, 1.16...         2.0   \n",
       "\n",
       "                                         probability  \n",
       "0  [0.22309393640113775, 0.012958917906009598, 0....  \n",
       "1  [0.16508431600759846, 0.04315592137717419, 0.7...  \n",
       "2  [0.1592701591376285, 0.7680260481051342, 0.013...  \n",
       "3  [0.1796805226608195, 0.004921673202002625, 0.8...  \n",
       "4  [0.4378794237450414, 0.33809027302238953, 0.12...  \n",
       "5  [0.3520555470185227, 0.46681252167772636, 0.13...  \n",
       "6  [0.46618896442631746, 0.3949524495696164, 0.13...  \n",
       "7  [0.2119593965912317, 0.663727499166497, 0.0352...  \n",
       "8  [0.2119593965912317, 0.663727499166497, 0.0352...  \n",
       "9  [0.3377153267000169, 0.04978710928029406, 0.52...  "
      ]
     },
     "execution_count": 43,
     "metadata": {},
     "output_type": "execute_result"
    }
   ],
   "source": [
    "predictions.select(\n",
    "    'label',\n",
    "    'features',\n",
    "    'rawPrediction',\n",
    "    'prediction',\n",
    "    'probability'\n",
    ").toPandas()\\\n",
    ".head(10)"
   ]
  },
  {
   "cell_type": "code",
   "execution_count": null,
   "id": "4b86e72c-b6d3-4b6f-bcba-001081d29e4c",
   "metadata": {},
   "outputs": [],
   "source": []
  }
 ],
 "metadata": {
  "language_info": {
   "codemirror_mode": {
    "name": "ipython",
    "version": 3
   },
   "file_extension": ".py",
   "mimetype": "text/x-python",
   "name": "python",
   "nbconvert_exporter": "python",
   "pygments_lexer": "ipython3",
   "version": "3.8.15"
  }
 },
 "nbformat": 4,
 "nbformat_minor": 5
}
