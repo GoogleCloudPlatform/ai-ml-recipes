{
  "cells": [
    {
      "cell_type": "code",
      "execution_count": null,
      "id": "license",
      "metadata": {},
      "outputs": [],
      "source": [
        "# Copyright 2025 Google LLC\n",
        "#\n",
        "# Licensed under the Apache License, Version 2.0 (the \"License\");\n",
        "# you may not use this file except in compliance with the License.\n",
        "# You may obtain a copy of the License at\n",
        "#\n",
        "#     https://www.apache.org/licenses/LICENSE-2.0\n",
        "#\n",
        "# Unless required by applicable law or agreed to in writing, software\n",
        "# distributed under the License is distributed on an \"AS IS\" BASIS,\n",
        "# WITHOUT WARRANTIES OR CONDITIONS OF ANY KIND, either express or implied.\n",
        "# See the License for the specific language governing permissions and\n",
        "# limitations under the License.\n"
      ]
    },
    {
      "cell_type": "markdown",
      "id": "standard-links",
      "metadata": {},
      "source": [
        "<table align=\"left\">\n",
        "  <td><a href=\"https://colab.research.google.com/github/GoogleCloudPlatform/ai-ml-recipes/blob/main/notebooks/analytics/test.ipynb\"><img src=\"https://avatars.githubusercontent.com/u/33467679?s=200&v=4\" width=\"32px\" alt=\"Colab logo\"> Run in Colab</a></td>\n",
        "  <td><a href=\"https://github.com/GoogleCloudPlatform/ai-ml-recipes/blob/main/notebooks/analytics/test.ipynb\"><img src=\"https://github.githubassets.com/assets/GitHub-Mark-ea2971cee799.png\" width=\"32px\" alt=\"GitHub logo\"> View on GitHub</a></td>\n",
        "  <td><a href=\"https://console.cloud.google.com/vertex-ai/workbench/deploy-notebook?download_url=https://raw.githubusercontent.com/GoogleCloudPlatform/ai-ml-recipes/main/notebooks/analytics/test.ipynb\"><img src=\"https://lh3.googleusercontent.com/UiNooY4LUgW_oTvpsNhPpQzsstV5W8F7rYgxgGBD85cWJoLmrOzhVs_ksK_vgx40SHs7jCqkTkCk=e14-rj-sc0xffffff-h130-w32\" alt=\"Vertex AI logo\"> Open in Vertex AI Workbench</a></td>\n",
        "  <td><a href=\"https://console.cloud.google.com/bigquery/import?url=https://github.com/GoogleCloudPlatform/ai-ml-recipes/blob/main/notebooks/analytics/test.ipynb\"><img src=\"https://encrypted-tbn0.gstatic.com/images?q=tbn:ANd9GcTW1gvOovVlbZAIZylUtf5Iu8-693qS1w5NJw&s\" alt=\"BQ logo\" width=\"35\"> Open in BQ Studio</a></td>\n",
        "  <td><a href=\"https://console.cloud.google.com/vertex-ai/colab/import/https:%2F%2Fraw.githubusercontent.com%2FGoogleCloudPlatform%2Fai-ml-recipes%2Fmain%2Fnotebooks/analytics/test.ipynb\"><img width=\"32px\" src=\"https://lh3.googleusercontent.com/JmcxdQi-qOpctIvWKgPtrzZdJJK-J3sWE1RsfjZNwshCFgE_9fULcNpuXYTilIR2hjwN\" alt=\"Google Cloud Colab Enterprise logo\"> Open in Colab Enterprise</a></td>\n",
        "</table>"
      ]
    },
    {
      "cell_type": "markdown",
      "id": "notebook-title",
      "metadata": {},
      "source": [
        "# Example Notebook for Google Cloud Dataproc and BigQuery"
      ]
    },
    {
      "cell_type": "markdown",
      "id": "overview-section",
      "metadata": {},
      "source": [
        "## Overview\n",
        "\n",
        "This notebook demonstrates how to set up and use Google Cloud Dataproc and BigQuery clients within a Jupyter environment. It covers initial setup, authentication, and client initialization for interacting with these Google Cloud services."
      ]
    },
    {
      "cell_type": "markdown",
      "id": "setup-section",
      "metadata": {},
      "source": [
        "## Setup"
      ]
    },
    {
      "cell_type": "markdown",
      "id": "markdown-imports",
      "metadata": {},
      "source": [
        "### Install and import libraries\n",
        "\n",
        "This cell imports the necessary client libraries for Google Cloud Dataproc and BigQuery from the `google.cloud` package. It also imports `client_options` for configuring API endpoints."
      ]
    },
    {
      "cell_type": "code",
      "execution_count": null,
      "id": "2fccea23-bb1d-494a-beff-fa93f9c928de",
      "metadata": {
        "tags": []
      },
      "outputs": [],
      "source": [
        "from google.cloud import dataproc_v1 as dataproc\n",
        "from google.api_core import client_options\n",
        "from google.cloud import bigquery"
      ]
    },
    {
      "cell_type": "markdown",
      "id": "markdown-project-config",
      "metadata": {},
      "source": [
        "### Configure your Google Cloud project\n",
        "\n",
        "Set your Google Cloud project ID and the region for your Dataproc resources. Replace the placeholder values with your actual project ID and desired GCP region."
      ]
    },
    {
      "cell_type": "code",
      "execution_count": null,
      "id": "7fb0e9a8-4db0-4ab0-a6f8-9edf11c44dcc",
      "metadata": {
        "tags": []
      },
      "outputs": [],
      "source": [
        "# Provide your GCP project ID\n",
        "PROJECT_ID = \"\" \n",
        "# Provide your GCP region\n",
        "GCP_REGION = \"us-central1\" "
      ]
    },
    {
      "cell_type": "markdown",
      "id": "markdown-init-clients",
      "metadata": {},
      "source": [
        "### Initialize API clients\n",
        "\n",
        "This cell initializes the `WorkflowTemplateServiceClient` for Dataproc and the `bigquery.Client` for BigQuery. The Dataproc client is configured with a region-specific API endpoint."
      ]
    },
    {
      "cell_type": "code",
      "execution_count": 7,
      "id": "04544a15-5381-4ac9-a49e-4fbbb2290718",
      "metadata": {
        "tags": []
      },
      "outputs": [],
      "source": [
        "client_options = client_options.ClientOptions(\n",
        "    api_endpoint=f\"{GCP_REGION}-dataproc.googleapis.com:443\"\n",
        ")\n",
        "workflow_template_client = dataproc.WorkflowTemplateServiceClient(client_options=client_options)\n",
        "bq_client = bigquery.Client()"
      ]
    }
  ],
  "metadata": {
    "environment": {
      "kernel": "conda-base-py",
      "name": "workbench-notebooks.m121",
      "type": "gcloud",
      "uri": "us-docker.pkg.dev/deeplearning-platform-release/gcr.io/workbench-notebooks:m121"
    },
    "kernelspec": {
      "display_name": "Python 3 (ipykernel) (Local)",
      "language": "python",
      "name": "conda-base-py"
    },
    "language_info": {
      "codemirror_mode": {
        "name": "ipython",
        "version": 3
      },
      "file_extension": ".py",
      "mimetype": "text/x-python",
      "name": "python",
      "nbconvert_exporter": "python",
      "pygments_lexer": "ipython3",
      "version": "3.10.14"
    }
  },
  "nbformat": 4,
  "nbformat_minor": 5
}