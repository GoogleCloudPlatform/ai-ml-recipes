{
 "cells": [
  {
   "cell_type": "code",
   "execution_count": null,
   "id": "2fccea23-bb1d-494a-beff-fa93f9c928de",
   "metadata": {
    "tags": []
   },
   "outputs": [],
   "source": [
    "from google.cloud import dataproc_v1 as dataproc\n",
    "from google.api_core import client_options\n",
    "from google.cloud import bigquery"
   ]
  },
  {
   "cell_type": "code",
   "execution_count": null,
   "id": "7fb0e9a8-4db8-4ab0-a6f8-9edf11c44dcc",
   "metadata": {
    "tags": []
   },
   "outputs": [],
   "source": [
    "# Provide your GCP project ID\n",
    "PROJECT_ID = \"\" \n",
    "# Provide your GCP region\n",
    "GCP_REGION = \"us-central1\" "
   ]
  },
  {
   "cell_type": "code",
   "execution_count": 7,
   "id": "04544a15-5381-4ac9-a49e-4fbbb2290718",
   "metadata": {
    "tags": []
   },
   "outputs": [],
   "source": [
    "client_options = client_options.ClientOptions(\n",
    "    api_endpoint=f\"{GCP_REGION}-dataproc.googleapis.com:443\"\n",
    ")\n",
    "workflow_template_client = dataproc.WorkflowTemplateServiceClient(client_options=client_options)\n",
    "bq_client = bigquery.Client()"
   ]
  }
 ],
 "metadata": {
  "environment": {
   "kernel": "conda-base-py",
   "name": "workbench-notebooks.m121",
   "type": "gcloud",
   "uri": "us-docker.pkg.dev/deeplearning-platform-release/gcr.io/workbench-notebooks:m121"
  },
  "kernelspec": {
   "display_name": "Python 3 (ipykernel) (Local)",
   "language": "python",
   "name": "conda-base-py"
  },
  "language_info": {
   "codemirror_mode": {
    "name": "ipython",
    "version": 3
   },
   "file_extension": ".py",
   "mimetype": "text/x-python",
   "name": "python",
   "nbconvert_exporter": "python",
   "pygments_lexer": "ipython3",
   "version": "3.10.14"
  }
 },
 "nbformat": 4,
 "nbformat_minor": 5
}
