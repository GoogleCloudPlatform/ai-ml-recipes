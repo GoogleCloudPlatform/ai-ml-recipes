{
 "cells": [
  {
   "cell_type": "code",
   "execution_count": null,
   "id": "43d9cdb9-1ab6-4e4d-b619-f59680254e3c",
   "metadata": {
    "tags": []
   },
   "outputs": [],
   "source": [
    "# Copyright 2023 Google LLC\n",
    "#\n",
    "# Licensed under the Apache License, Version 2.0 (the \"License\");\n",
    "# you may not use this file except in compliance with the License.\n",
    "# You may obtain a copy of the License at\n",
    "#\n",
    "#     https://www.apache.org/licenses/LICENSE-2.0\n",
    "#\n",
    "# Unless required by applicable law or agreed to in writing, software\n",
    "# distributed under the License is distributed on an \"AS IS\" BASIS,\n",
    "# WITHOUT WARRANTIES OR CONDITIONS OF ANY KIND, either express or implied.\n",
    "# See the License for the specific language governing permissions and\n",
    "# limitations under the License."
   ]
  },
  {
   "cell_type": "markdown",
   "id": "1b553a81-d772-4f73-8ef9-d50f6e4ff4b3",
   "metadata": {
    "tags": []
   },
   "source": [
    "<h1>\n",
    "    <img src=\"../../docs/images/dataproc_cluster_insights_bigquery/dataproc-jobs-logo.png\" alt=\"drawing\" width=\"50\"/> \n",
    "    Dataproc usage analysis\n",
    "</h1>"
   ]
  },
  {
   "cell_type": "markdown",
   "id": "7d2320cb-9779-4ebf-bc1b-fcbd425a71f4",
   "metadata": {
    "tags": []
   },
   "source": [
    "<table align=\"left\">\n",
    "\n",
    "  <td>\n",
    "    <a href=\"https://colab.research.google.com/github/GoogleCloudPlatform/ai-ml-recipes/blob/main/notebooks/analytics/dataproc_cluster_insights_bigquery.ipynb\">\n",
    "      <img src=\"https://avatars.githubusercontent.com/u/33467679?s=200&v=4\" width=\"32px\" alt=\"Colab logo\"> Run in Colab\n",
    "    </a>\n",
    "  </td>\n",
    "  <td>\n",
    "    <a href=\"https://github.com/GoogleCloudPlatform/ai-ml-recipes/blob/main/notebooks/analytics/dataproc_cluster_insights_bigquery.ipynb\">\n",
    "      <img src=\"https://github.githubassets.com/assets/GitHub-Mark-ea2971cee799.png\" width=\"32px\" alt=\"GitHub logo\">\n",
    "      View on GitHub\n",
    "    </a>\n",
    "  </td>\n",
    "  <td>\n",
    "    <a href=\"https://console.cloud.google.com/vertex-ai/workbench/deploy-notebook?download_url=https://raw.githubusercontent.com/GoogleCloudPlatform/ai-ml-recipes/main/notebooks/analytics/dataproc_cluster_insights_bigquery.ipynb\">\n",
    "      <img src=\"https://lh3.googleusercontent.com/UiNooY4LUgW_oTvpsNhPpQzsstV5W8F7rYgxgGBD85cWJoLmrOzhVs_ksK_vgx40SHs7jCqkTkCk=e14-rj-sc0xffffff-h130-w32\" alt=\"Vertex AI logo\">\n",
    "      Open in Vertex AI Workbench\n",
    "    </a>\n",
    "  </td>\n",
    "  <td>\n",
    "    <a href=\"https://console.cloud.google.com/bigquery/import?url=https://github.com/GoogleCloudPlatform/ai-ml-recipes/blob/main/notebooks/analytics/dataproc_cluster_insights_bigquery.ipynb\">\n",
    "      <img src=\"https://encrypted-tbn0.gstatic.com/images?q=tbn:ANd9GcTW1gvOovVlbZAIZylUtf5Iu8-693qS1w5NJw&s\" alt=\"BQ logo\" width=\"35\">\n",
    "      Open in BQ Studio\n",
    "    </a>\n",
    "  </td>\n",
    "  <td>\n",
    "    <a href=\"https://console.cloud.google.com/vertex-ai/colab/import/https:%2F%2Fraw.githubusercontent.com%2FGoogleCloudPlatform%2Fai-ml-recipes%2Fmain%2Fnotebooks%2Fanalytics%2Fdataproc_cluster_insights_bigquery.ipynb\">\n",
    "    <img width=\"32px\" src=\"https://lh3.googleusercontent.com/JmcxdQi-qOpctIvWKgPtrzZdJJK-J3sWE1RsfjZNwshCFgE_9fULcNpuXYTilIR2hjwN\" alt=\"Google Cloud Colab Enterprise logo\">\n",
    "    Open in Colab Enterprise\n",
    "    </a>\n",
    "  </td>\n",
    "\n",
    "</table>"
   ]
  },
  {
   "cell_type": "markdown",
   "id": "801e091a-10ac-499d-9237-fd336b509574",
   "metadata": {
    "jp-MarkdownHeadingCollapsed": true,
    "tags": []
   },
   "source": [
    "## Table of contents<a id=\"index\"></a>\n",
    "* Overview\n",
    "* Reference architecture\n",
    "* Setup\n",
    "* Imports\n",
    "* Parameters\n",
    "* Client and functions\n",
    "* Run data extraction and preparation\n",
    "* Explore data\n",
    "* Visualize in Looker Studio"
   ]
  },
  {
   "cell_type": "markdown",
   "id": "371ed8d6-9d2d-47af-87a0-6f8558175624",
   "metadata": {
    "jp-MarkdownHeadingCollapsed": true,
    "tags": []
   },
   "source": [
    "## <a id=\"overview\"></a>Overview "
   ]
  },
  {
   "cell_type": "markdown",
   "id": "fa475167-86b3-45b4-abdc-1629de214578",
   "metadata": {},
   "source": [
    "This notebooks show how to analyse Dataproc usage and billing. It uses the [Dataproc JobController](https://cloud.google.com/python/docs/reference/dataproc/latest/google.cloud.dataproc_v1.services.job_controller.JobControllerClient#google_cloud_dataproc_v1_services_job_controller_JobControllerClient_list_operations) python client to retrieve the service operations of type [dataproc.v1.ClusterOperationMetadata](https://cloud.google.com/python/docs/reference/dataproc/5.16.0/google.cloud.dataproc_v1.types.ClusterOperationMetadata). This operation logs cluster creation and deletion events. It also uses [BigQuery magics](https://cloud.google.com/python/docs/reference/bigquery/latest/magics) and [Bigframes API](https://cloud.google.com/python/docs/reference/bigframes/latest/summary_overview) to query, explore, and plot the data easily.\n",
    "\n",
    "In addition, [Cloud Billing data](https://cloud.google.com/billing/docs/how-to/export-data-bigquery) exported in BigQuery is used to provide further insights about the usage cost."
   ]
  },
  {
   "cell_type": "markdown",
   "id": "519a7ddf-8372-4c4b-ae48-b046374d79e5",
   "metadata": {
    "tags": []
   },
   "source": [
    "## <a id=\"architecture\"></a> Reference architecture"
   ]
  },
  {
   "cell_type": "markdown",
   "id": "9e7c8879-e547-4eef-950d-18a722f54e17",
   "metadata": {
    "tags": []
   },
   "source": [
    "![dataproc-jobs-architecture.png](../../docs/images/dataproc_cluster_insights_bigquery/dataproc-jobs-architecture.png)"
   ]
  },
  {
   "cell_type": "markdown",
   "id": "bb3f69cd-7fae-49d7-b50d-1808b51619e7",
   "metadata": {
    "tags": []
   },
   "source": [
    "## <a id=\"setup\"></a>Setup "
   ]
  },
  {
   "cell_type": "markdown",
   "id": "178071c6-aae2-44de-8217-137582515b37",
   "metadata": {},
   "source": [
    "Pre-requisites:\n",
    "* [Setup Cloud Billing export to BigQuery](https://cloud.google.com/billing/docs/how-to/export-data-bigquery)\n",
    "* [Create a BigQuery dataset named **dataproc_analysis**](https://cloud.google.com/bigquery/docs/datasets#console)\n",
    "\n",
    "Make sure the service account running this notebook has:\n",
    "* [BigQueryDataViewer role](https://cloud.google.com/bigquery/docs/access-control#dataset_level) on the dataset used for Cloud Billing export\n",
    "* [BigQueryDataEditor role](https://cloud.google.com/bigquery/docs/access-control#dataset_level) on the **dataproc_analysis** dataset\n",
    "* Dataproc IAM permisions on [operations.list](https://cloud.google.com/dataproc/docs/concepts/iam/iam#operations_methods_required_permissions) and [workflowTemplates.list](https://cloud.google.com/dataproc/docs/concepts/iam/iam#workflow_templates_methods_required_permissions)\n",
    "\n",
    "Considerations:\n",
    "* This code will not retrieve nor ingest data incrementally, but historically. Then it will filter from the specified date.\n",
    "* Tables will be re-created at each run.\n",
    "* Code provided as a sample, not ready to production. Review with your organization.\n",
    "* To protect large customer environments, there is a filter provided to limit the Dataproc client pager to only retrieve 5 pages of data. Remove it carefully after considering the volume of your organization."
   ]
  },
  {
   "cell_type": "markdown",
   "id": "9f4ba4c1-4c4d-4052-b16a-9c11d3776515",
   "metadata": {
    "tags": []
   },
   "source": [
    "**Install upgrade dependencies**"
   ]
  },
  {
   "cell_type": "code",
   "execution_count": null,
   "id": "363aa697-4b9f-49a1-83e3-fc6022b867e3",
   "metadata": {
    "scrolled": true,
    "tags": []
   },
   "outputs": [],
   "source": [
    "pip install --upgrade google-api-core google-cloud-dataproc bigframes -q"
   ]
  },
  {
   "cell_type": "markdown",
   "id": "c80e7282-68a3-44a8-bada-43bb900d8bf9",
   "metadata": {
    "scrolled": true,
    "tags": []
   },
   "source": [
    "**Make sure to restart Kernel**"
   ]
  },
  {
   "cell_type": "markdown",
   "id": "36f7f7d5-8bf3-4aae-8106-03ae67f60f22",
   "metadata": {
    "jp-MarkdownHeadingCollapsed": true,
    "tags": []
   },
   "source": [
    "## <a id=\"imports\"></a>Imports"
   ]
  },
  {
   "cell_type": "code",
   "execution_count": 4,
   "id": "2fccea23-bb1d-494a-beff-fa93f9c928de",
   "metadata": {
    "tags": []
   },
   "outputs": [],
   "source": [
    "from google.cloud import dataproc_v1 as dataproc\n",
    "from google.api_core import client_options\n",
    "from google.longrunning.operations_pb2 import ListOperationsRequest\n",
    "from typing import Sequence, Tuple, Union\n",
    "from google.protobuf.json_format import MessageToJson \n",
    "import json\n",
    "import pandas as pd\n",
    "from google.cloud import bigquery\n",
    "import time\n",
    "import bigframes.pandas as bpd"
   ]
  },
  {
   "cell_type": "markdown",
   "id": "0a59f01f-d0ae-49d9-b344-a1703c842f93",
   "metadata": {
    "jp-MarkdownHeadingCollapsed": true,
    "tags": []
   },
   "source": [
    "## <a id=\"parameters\"></a>Parameters "
   ]
  },
  {
   "cell_type": "markdown",
   "id": "0f33cb72-7d81-4020-af0c-b60a09e7cce1",
   "metadata": {},
   "source": [
    "- Provide your Google Cloud Project ID, region, and information for the Cloud Billing export in BigQuery (Dataset and table name).\n",
    "\n",
    "- You can configure the start date from where the data will be presented.\n",
    "\n",
    "- DATAPROC_PAGER_LIMIT allows you to limit how many request to the Dataproc API are made to retrieve past Operations. "
   ]
  },
  {
   "cell_type": "code",
   "execution_count": 5,
   "id": "7fb0e9a8-4db8-4ab0-a6f8-9edf11c44dcc",
   "metadata": {
    "tags": []
   },
   "outputs": [],
   "source": [
    "# Provide your GCP project ID\n",
    "PROJECT_ID = \"\" \n",
    "# Provide your GCP region\n",
    "GCP_REGION = \"us-central1\" \n",
    "# Provide your Cloud Billing export dataset\n",
    "BQ_BILLING_DATASET_NAME = \"gcp_billing\" \n",
    "# Provide your Cloud Billing export table name\n",
    "BQ_BILLING_TABLE_NAME = \"gcp_billing_export_resource_v1_019CAE_7D7330_15385C\" \n",
    "\n",
    "# Set reporting start date \n",
    "START_DATE = \"2024-03-01\"\n",
    "\n",
    "# Limit Dataproc operation list pager\n",
    "DATAPROC_PAGER_LIMIT = 5"
   ]
  },
  {
   "cell_type": "code",
   "execution_count": 6,
   "id": "4f477fc4-28a3-4f70-aac2-6100e9175315",
   "metadata": {},
   "outputs": [],
   "source": [
    "# Do not change, unless necesary\n",
    "BQ_DATASET_NAME = \"dataproc_analysis\"\n",
    "BQ_TABLE_NAME_RAW = \"operations_raw\"\n",
    "BQ_TABLE_NAME_CLEAN = \"operations_clean\"\n",
    "BQ_TABLE_NAME_MODEL = \"operations_model\"\n",
    "BQ_BILLING_TABLE_VIEW = \"billing_model\""
   ]
  },
  {
   "cell_type": "markdown",
   "id": "d6a99a1c-7f43-4fe6-9820-16cc0a635c50",
   "metadata": {
    "jp-MarkdownHeadingCollapsed": true,
    "tags": []
   },
   "source": [
    "## <a id=\"client_functions\"></a>Clients and functions "
   ]
  },
  {
   "cell_type": "code",
   "execution_count": 7,
   "id": "04544a15-5381-4ac9-a49e-4fbbb2290718",
   "metadata": {
    "tags": []
   },
   "outputs": [],
   "source": [
    "client_options = client_options.ClientOptions(\n",
    "    api_endpoint=f\"{GCP_REGION}-dataproc.googleapis.com:443\"\n",
    ")\n",
    "workflow_template_client = dataproc.WorkflowTemplateServiceClient(client_options=client_options)\n",
    "bq_client = bigquery.Client()"
   ]
  },
  {
   "cell_type": "code",
   "execution_count": 8,
   "id": "af04229f-b1f1-428d-a1ba-b86dacfc3cbe",
   "metadata": {
    "tags": []
   },
   "outputs": [],
   "source": [
    "def save_to_bq(table_id, df, schema = None):\n",
    "    job_config = bigquery.LoadJobConfig(\n",
    "        write_disposition=\"WRITE_APPEND\",\n",
    "        schema = schema\n",
    "    )\n",
    "\n",
    "    job = bq_client.load_table_from_dataframe(df, table_id, job_config=job_config) \n",
    "    return job.result()"
   ]
  },
  {
   "cell_type": "markdown",
   "id": "95193af9-e284-497e-9dd2-9a0f027daad2",
   "metadata": {
    "jp-MarkdownHeadingCollapsed": true,
    "tags": []
   },
   "source": [
    "## <a id=\"run_data\"></a>Run data extraction and preparation "
   ]
  },
  {
   "cell_type": "markdown",
   "id": "b37e7ad9-8179-4dd7-be8d-d6f51ebaab24",
   "metadata": {
    "jp-MarkdownHeadingCollapsed": true,
    "tags": []
   },
   "source": [
    "#### 1. Prepare BigQuery tables"
   ]
  },
  {
   "cell_type": "code",
   "execution_count": 9,
   "id": "ce2c19be-5ef0-4d04-be49-76cfea9d6c24",
   "metadata": {
    "tags": []
   },
   "outputs": [],
   "source": [
    "SQL_QUERY = f\"\"\"\n",
    "    CREATE OR REPLACE TABLE {BQ_DATASET_NAME}.{BQ_TABLE_NAME_RAW}\n",
    "    (\n",
    "        clusterUuid STRING,\n",
    "        clusterName STRING,\n",
    "        operationType STRING,\n",
    "        status STRING,\n",
    "        master_instances STRING,\n",
    "        master_machine_type STRING,\n",
    "        worker_instances STRING,\n",
    "        worker_machine_type STRING\n",
    "    );\n",
    "    CREATE OR REPLACE TABLE {BQ_DATASET_NAME}.{BQ_TABLE_NAME_CLEAN}\n",
    "    (\n",
    "        clusterUuid STRING, \n",
    "        clusterName STRING,\n",
    "        operationType STRING,\n",
    "        stateStartTime STRING,\n",
    "        master_instances STRING,\n",
    "        master_machine_type STRING,\n",
    "        worker_instances STRING,\n",
    "        worker_machine_type STRING\n",
    "    );\n",
    "    CREATE OR REPLACE TABLE {BQ_DATASET_NAME}.{BQ_TABLE_NAME_MODEL}\n",
    "    (\n",
    "        clusterUuid STRING, \n",
    "        clusterName STRING,\n",
    "        created TIMESTAMP,\n",
    "        deleted TIMESTAMP,\n",
    "        date DATE,\n",
    "        hour INTEGER,\n",
    "        master_instances STRING,\n",
    "        master_machine_type STRING,\n",
    "        worker_instances STRING,\n",
    "        worker_machine_type STRING,\n",
    "        seconds_elapsed INTEGER,\n",
    "    );\n",
    "\"\"\""
   ]
  },
  {
   "cell_type": "code",
   "execution_count": 10,
   "id": "4cbf243f-b47f-45a2-a2f5-753b1ee7659c",
   "metadata": {
    "tags": []
   },
   "outputs": [
    {
     "data": {
      "application/vnd.jupyter.widget-view+json": {
       "model_id": "f30e63c48dca4174af46142b74aa04de",
       "version_major": 2,
       "version_minor": 0
      },
      "text/plain": [
       "Query is running:   0%|          |"
      ]
     },
     "metadata": {},
     "output_type": "display_data"
    },
    {
     "data": {
      "text/html": [
       "<div>\n",
       "<style scoped>\n",
       "    .dataframe tbody tr th:only-of-type {\n",
       "        vertical-align: middle;\n",
       "    }\n",
       "\n",
       "    .dataframe tbody tr th {\n",
       "        vertical-align: top;\n",
       "    }\n",
       "\n",
       "    .dataframe thead th {\n",
       "        text-align: right;\n",
       "    }\n",
       "</style>\n",
       "<table border=\"1\" class=\"dataframe\">\n",
       "  <thead>\n",
       "    <tr style=\"text-align: right;\">\n",
       "      <th></th>\n",
       "    </tr>\n",
       "  </thead>\n",
       "  <tbody>\n",
       "  </tbody>\n",
       "</table>\n",
       "</div>"
      ],
      "text/plain": [
       "Empty DataFrame\n",
       "Columns: []\n",
       "Index: []"
      ]
     },
     "execution_count": 10,
     "metadata": {},
     "output_type": "execute_result"
    }
   ],
   "source": [
    "%%bigquery\n",
    "$SQL_QUERY"
   ]
  },
  {
   "cell_type": "markdown",
   "id": "b071e7a2-d779-4274-aed6-2176455ec681",
   "metadata": {
    "tags": []
   },
   "source": [
    "#### 2. List workflow templates"
   ]
  },
  {
   "cell_type": "code",
   "execution_count": 11,
   "id": "8dd84b94-de9d-49bf-aafa-20c4a9cd7507",
   "metadata": {
    "tags": []
   },
   "outputs": [],
   "source": [
    "parent = f\"projects/{PROJECT_ID}/regions/{GCP_REGION}\"\n",
    "request = dataproc.ListWorkflowTemplatesRequest(parent=parent)"
   ]
  },
  {
   "cell_type": "code",
   "execution_count": 12,
   "id": "2f0067ef-416f-4dad-96f7-83463783a1ae",
   "metadata": {
    "scrolled": true,
    "tags": []
   },
   "outputs": [],
   "source": [
    "page_result = workflow_template_client.list_workflow_templates(request=request)"
   ]
  },
  {
   "cell_type": "code",
   "execution_count": 13,
   "id": "86548456-13b3-41e0-81b3-9fc7a55c148a",
   "metadata": {},
   "outputs": [],
   "source": [
    "workflow_templates = []\n",
    "\n",
    "for response in page_result:\n",
    "    workflow_templates.append({\n",
    "        \"name\": response.name,\n",
    "        \"id\": response.id\n",
    "    })"
   ]
  },
  {
   "cell_type": "markdown",
   "id": "aae2a7ee-043d-493c-8542-b6952f8abebf",
   "metadata": {
    "tags": []
   },
   "source": [
    "#### 3. Get cluster operations and save them into BigQuery"
   ]
  },
  {
   "cell_type": "code",
   "execution_count": 14,
   "id": "bfa59c96-60c7-49a1-9ca3-0fc946fd1cb0",
   "metadata": {
    "tags": []
   },
   "outputs": [],
   "source": [
    "def format_ops_data(ops):\n",
    "    cluster_metadata = json.loads(MessageToJson(ops.metadata))\n",
    "    ops = json.loads(MessageToJson(ops))\n",
    "    \n",
    "    response = ops.get(\"response\", None)\n",
    "    config = response.get(\"config\", None) if response is not None else None\n",
    "\n",
    "    # Master\n",
    "    master_config = config.get(\"masterConfig\", {\"masterConfig\": None}) if config is not None else None\n",
    "    master_num_instances = master_config.get(\"numInstances\", \"\") if master_config is not None else \"\"\n",
    "    master_machineType = master_config.get(\"machineTypeUri\", \"\") if master_config is not None else \"\"\n",
    "    master_mathineType = master_machineType[master_machineType.rindex('/')+1:] if master_machineType != \"\" else \"\"\n",
    "\n",
    "    # Worker\n",
    "    worker_config = config.get(\"workerConfig\", {\"workerConfig\": None}) if config is not None else None\n",
    "    worker_num_instances = worker_config.get(\"numInstances\", \"\") if worker_config is not None else \"\"\n",
    "    worker_machineType = master_config.get(\"machineTypeUri\", \"\") if worker_config is not None else \"\"\n",
    "    worker_machineType = worker_machineType[worker_machineType.rindex('/')+1:] if worker_machineType != \"\" else \"\"\n",
    "    \n",
    "    return {\n",
    "        \"clusterName\": cluster_metadata[\"clusterName\"], \n",
    "        \"clusterUuid\": cluster_metadata[\"clusterUuid\"], \n",
    "        \"operationType\": cluster_metadata[\"operationType\"], \n",
    "        \"status\": cluster_metadata[\"status\"],\n",
    "        \"master_instances\": str(master_num_instances),\n",
    "        \"master_machine_type\": master_mathineType,\n",
    "        \"worker_instances\": str(worker_num_instances),\n",
    "        \"worker_machine_type\": worker_machineType,\n",
    "    }"
   ]
  },
  {
   "cell_type": "code",
   "execution_count": 15,
   "id": "032215df-a9f3-4b23-ab5f-a2c97f599833",
   "metadata": {
    "scrolled": true,
    "tags": []
   },
   "outputs": [],
   "source": [
    "def run_extract(filter_string):\n",
    "    parent = f\"projects/{PROJECT_ID}/regions/{GCP_REGION}/operations\"\n",
    "    operations_count = 0\n",
    "    page_token = \"\"\n",
    "    run_count = 0\n",
    "    while True:\n",
    "        run_count += 1\n",
    "        time.sleep(0.5)\n",
    "        \n",
    "        if run_count > DATAPROC_PAGER_LIMIT:\n",
    "            return operations_count\n",
    "\n",
    "        operations = []\n",
    "        request = ListOperationsRequest(\n",
    "            name = parent,\n",
    "            page_token = page_token,\n",
    "            filter = filter_string\n",
    "        )\n",
    "        execution_request = workflow_template_client.list_operations(request=request)\n",
    "        for ops in execution_request.operations:\n",
    "            if ops.metadata.type_url == \"type.googleapis.com/google.cloud.dataproc.v1.ClusterOperationMetadata\":\n",
    "                operations_count += 1\n",
    "                cluster_metadata = format_ops_data(ops)\n",
    "                operations.append(cluster_metadata)\n",
    "\n",
    "        df = pd.DataFrame(operations)\n",
    "        df[\"status\"] = df[\"status\"].apply(json.dumps)\n",
    "        save_to_bq(\n",
    "            table_id = f\"{BQ_DATASET_NAME}.{BQ_TABLE_NAME_RAW}\",\n",
    "            df = df\n",
    "        )\n",
    "\n",
    "        page_token = execution_request.next_page_token\n",
    "        if page_token == '':\n",
    "            return operations_count"
   ]
  },
  {
   "cell_type": "code",
   "execution_count": 16,
   "id": "c259c696-a1a1-465b-924e-d42f13c6f8c2",
   "metadata": {
    "scrolled": true,
    "tags": []
   },
   "outputs": [],
   "source": [
    "operations_count = 0\n",
    "filter_string = \"operationType=CREATE\"\n",
    "operations_count += run_extract(filter_string)\n",
    "\n",
    "filter_string = \"operationType=DELETE\"\n",
    "operations_count += run_extract(filter_string)"
   ]
  },
  {
   "cell_type": "code",
   "execution_count": 17,
   "id": "ea2ad878-7198-4bbf-80a5-fbc55787d88e",
   "metadata": {
    "tags": []
   },
   "outputs": [
    {
     "data": {
      "text/plain": [
       "'86 operations found'"
      ]
     },
     "execution_count": 17,
     "metadata": {},
     "output_type": "execute_result"
    }
   ],
   "source": [
    "f\"{operations_count} operations found\""
   ]
  },
  {
   "cell_type": "markdown",
   "id": "9861b3b0-d79d-42cc-980f-87395592a417",
   "metadata": {
    "tags": []
   },
   "source": [
    "#### 4. Clean operations"
   ]
  },
  {
   "cell_type": "code",
   "execution_count": 18,
   "id": "7af22abb-4ded-4e69-8214-b2fd44f2d4a7",
   "metadata": {
    "scrolled": true,
    "tags": []
   },
   "outputs": [],
   "source": [
    "SQL_QUERY = f\"\"\"\n",
    "    INSERT INTO {BQ_DATASET_NAME}.{BQ_TABLE_NAME_CLEAN}\n",
    "      WITH operations_clean AS (\n",
    "        SELECT \n",
    "            clusterUuid\n",
    "            , clusterName\n",
    "            , operationType\n",
    "            , JSON_VALUE(PARSE_JSON(status), '$.stateStartTime') stateStartTime\n",
    "            , master_instances\n",
    "            , master_machine_type\n",
    "            , worker_instances\n",
    "            , worker_machine_type\n",
    "          FROM {BQ_DATASET_NAME}.{BQ_TABLE_NAME_RAW}\n",
    "          WHERE \n",
    "              --JSON_VALUE(PARSE_JSON(status), '$.innerState') = 'DONE'\n",
    "              JSON_VALUE(PARSE_JSON(status), '$.state') = 'DONE'\n",
    "      )\n",
    "      , created AS (\n",
    "        SELECT\n",
    "            *\n",
    "            , RANK() OVER ( PARTITION BY clusterUuid ORDER BY stateStartTime ASC) cluster_group\n",
    "        FROM operations_clean \n",
    "        WHERE \n",
    "            operationType = 'CREATE'\n",
    "            AND DATE(stateStartTime) >= DATE('{START_DATE}')\n",
    "        GROUP BY ALL\n",
    "        ORDER BY stateStartTime\n",
    "      )\n",
    "      , deleted AS (\n",
    "        SELECT\n",
    "        *\n",
    "        , RANK() OVER ( PARTITION BY clusterUuid ORDER BY stateStartTime DESC ) cluster_group\n",
    "        FROM operations_clean \n",
    "        WHERE operationType = 'DELETE' AND clusterUuid IN (SELECT clusterUuid FROM created GROUP BY 1)\n",
    "        GROUP BY ALL\n",
    "        ORDER BY stateStartTime\n",
    "      )\n",
    "      SELECT \n",
    "          * EXCEPT (cluster_group)\n",
    "      FROM created\n",
    "      WHERE cluster_group = 1\n",
    "      UNION ALL\n",
    "      SELECT \n",
    "          * EXCEPT (cluster_group)\n",
    "      FROM deleted\n",
    "      WHERE cluster_group = 1\n",
    "\"\"\""
   ]
  },
  {
   "cell_type": "code",
   "execution_count": 19,
   "id": "8cfda3cf-3d46-4768-93cd-40816e8c388c",
   "metadata": {},
   "outputs": [
    {
     "data": {
      "application/vnd.jupyter.widget-view+json": {
       "model_id": "0a583f4120a54dc982675e3b25149177",
       "version_major": 2,
       "version_minor": 0
      },
      "text/plain": [
       "Query is running:   0%|          |"
      ]
     },
     "metadata": {},
     "output_type": "display_data"
    },
    {
     "data": {
      "text/html": [
       "<div>\n",
       "<style scoped>\n",
       "    .dataframe tbody tr th:only-of-type {\n",
       "        vertical-align: middle;\n",
       "    }\n",
       "\n",
       "    .dataframe tbody tr th {\n",
       "        vertical-align: top;\n",
       "    }\n",
       "\n",
       "    .dataframe thead th {\n",
       "        text-align: right;\n",
       "    }\n",
       "</style>\n",
       "<table border=\"1\" class=\"dataframe\">\n",
       "  <thead>\n",
       "    <tr style=\"text-align: right;\">\n",
       "      <th></th>\n",
       "    </tr>\n",
       "  </thead>\n",
       "  <tbody>\n",
       "  </tbody>\n",
       "</table>\n",
       "</div>"
      ],
      "text/plain": [
       "Empty DataFrame\n",
       "Columns: []\n",
       "Index: []"
      ]
     },
     "execution_count": 19,
     "metadata": {},
     "output_type": "execute_result"
    }
   ],
   "source": [
    "%%bigquery\n",
    "$SQL_QUERY"
   ]
  },
  {
   "cell_type": "markdown",
   "id": "47dad238-ae05-4154-aa96-4a803ae6a1fe",
   "metadata": {
    "tags": []
   },
   "source": [
    "#### 5. Model cluster usage"
   ]
  },
  {
   "cell_type": "code",
   "execution_count": 20,
   "id": "db029f7d-6576-484a-98c2-d03633d9c931",
   "metadata": {},
   "outputs": [],
   "source": [
    "SQL_QUERY = f\"\"\"\n",
    "    INSERT INTO {BQ_DATASET_NAME}.{BQ_TABLE_NAME_MODEL}\n",
    "        WITH cluster_create AS (\n",
    "          SELECT \n",
    "              clusterUuid, clusterName, TIMESTAMP(stateStartTime) stateStartTime,\n",
    "              master_instances, master_machine_type, worker_instances, worker_machine_type\n",
    "          FROM {BQ_DATASET_NAME}.{BQ_TABLE_NAME_CLEAN}\n",
    "          WHERE operationType = 'CREATE'\n",
    "        )\n",
    "        , cluster_delete AS (\n",
    "          SELECT clusterUuid, TIMESTAMP(stateStartTime) stateStartTime\n",
    "          FROM {BQ_DATASET_NAME}.{BQ_TABLE_NAME_CLEAN}\n",
    "          WHERE operationType = 'DELETE'\n",
    "        )\n",
    "        SELECT \n",
    "            cluster_create.clusterUuid\n",
    "          , cluster_create.clusterName\n",
    "          , cluster_create.stateStartTime AS created\n",
    "          , cluster_delete.stateStartTime AS deleted\n",
    "          , extract(DATE from cluster_create.stateStartTime) date\n",
    "          , extract(HOUR from cluster_create.stateStartTime) hour\n",
    "          , master_instances\n",
    "          , master_machine_type\n",
    "          , worker_instances\n",
    "          , worker_machine_type\n",
    "          , TIMESTAMP_DIFF(cluster_delete.stateStartTime, cluster_create.stateStartTime, SECOND) AS seconds_elapsed\n",
    "         FROM cluster_create\n",
    "        LEFT JOIN cluster_delete\n",
    "        USING (clusterUuid)\n",
    "        GROUP BY 1,2,3,4,5,6,7,8,9,10\n",
    "\"\"\""
   ]
  },
  {
   "cell_type": "code",
   "execution_count": 21,
   "id": "1587a323-d20b-45ee-8e74-66065e767666",
   "metadata": {
    "tags": []
   },
   "outputs": [
    {
     "data": {
      "application/vnd.jupyter.widget-view+json": {
       "model_id": "be37461944f24afdac7358d33b1b087d",
       "version_major": 2,
       "version_minor": 0
      },
      "text/plain": [
       "Query is running:   0%|          |"
      ]
     },
     "metadata": {},
     "output_type": "display_data"
    },
    {
     "data": {
      "text/html": [
       "<div>\n",
       "<style scoped>\n",
       "    .dataframe tbody tr th:only-of-type {\n",
       "        vertical-align: middle;\n",
       "    }\n",
       "\n",
       "    .dataframe tbody tr th {\n",
       "        vertical-align: top;\n",
       "    }\n",
       "\n",
       "    .dataframe thead th {\n",
       "        text-align: right;\n",
       "    }\n",
       "</style>\n",
       "<table border=\"1\" class=\"dataframe\">\n",
       "  <thead>\n",
       "    <tr style=\"text-align: right;\">\n",
       "      <th></th>\n",
       "    </tr>\n",
       "  </thead>\n",
       "  <tbody>\n",
       "  </tbody>\n",
       "</table>\n",
       "</div>"
      ],
      "text/plain": [
       "Empty DataFrame\n",
       "Columns: []\n",
       "Index: []"
      ]
     },
     "execution_count": 21,
     "metadata": {},
     "output_type": "execute_result"
    }
   ],
   "source": [
    "%%bigquery\n",
    "$SQL_QUERY"
   ]
  },
  {
   "cell_type": "markdown",
   "id": "36bfec24-3e78-4e97-93fe-9c26041bc21c",
   "metadata": {
    "jp-MarkdownHeadingCollapsed": true,
    "tags": []
   },
   "source": [
    "## <a id=\"explore\"></a>Explore data "
   ]
  },
  {
   "cell_type": "markdown",
   "id": "08479090-ad5e-413d-8cf3-3b4bb6c478b6",
   "metadata": {},
   "source": [
    "#### Total seconds by time"
   ]
  },
  {
   "cell_type": "code",
   "execution_count": 22,
   "id": "a36d990f-6e2e-4c38-b9d0-e188273433fa",
   "metadata": {
    "tags": []
   },
   "outputs": [],
   "source": [
    "SQL_QUERY = f\"\"\"\n",
    "    SELECT \n",
    "          date\n",
    "        , hour\n",
    "        , concat(date, ' ', hour, ':00') date_hour\n",
    "        , sum(seconds_elapsed) / 60 minutes\n",
    "    FROM {BQ_DATASET_NAME}.{BQ_TABLE_NAME_MODEL}\n",
    "    GROUP BY 1,2,3\n",
    "    ORDER BY 3\n",
    "\"\"\""
   ]
  },
  {
   "cell_type": "code",
   "execution_count": 23,
   "id": "eb480990-7650-4d1e-aac5-24cd64da20e0",
   "metadata": {
    "scrolled": true,
    "tags": []
   },
   "outputs": [
    {
     "data": {
      "application/vnd.jupyter.widget-view+json": {
       "model_id": "30fa65b12cf849ff8fcf0360576246d0",
       "version_major": 2,
       "version_minor": 0
      },
      "text/plain": [
       "Query is running:   0%|          |"
      ]
     },
     "metadata": {},
     "output_type": "display_data"
    },
    {
     "data": {
      "application/vnd.jupyter.widget-view+json": {
       "model_id": "e3205a4658cd4a0bbf094e852cddf642",
       "version_major": 2,
       "version_minor": 0
      },
      "text/plain": [
       "Downloading:   0%|          |"
      ]
     },
     "metadata": {},
     "output_type": "display_data"
    },
    {
     "data": {
      "text/html": [
       "<div>\n",
       "<style scoped>\n",
       "    .dataframe tbody tr th:only-of-type {\n",
       "        vertical-align: middle;\n",
       "    }\n",
       "\n",
       "    .dataframe tbody tr th {\n",
       "        vertical-align: top;\n",
       "    }\n",
       "\n",
       "    .dataframe thead th {\n",
       "        text-align: right;\n",
       "    }\n",
       "</style>\n",
       "<table border=\"1\" class=\"dataframe\">\n",
       "  <thead>\n",
       "    <tr style=\"text-align: right;\">\n",
       "      <th></th>\n",
       "      <th>date</th>\n",
       "      <th>hour</th>\n",
       "      <th>date_hour</th>\n",
       "      <th>minutes</th>\n",
       "    </tr>\n",
       "  </thead>\n",
       "  <tbody>\n",
       "    <tr>\n",
       "      <th>0</th>\n",
       "      <td>2024-03-21</td>\n",
       "      <td>0</td>\n",
       "      <td>2024-03-21 0:00</td>\n",
       "      <td>32.550000</td>\n",
       "    </tr>\n",
       "    <tr>\n",
       "      <th>1</th>\n",
       "      <td>2024-03-21</td>\n",
       "      <td>21</td>\n",
       "      <td>2024-03-21 21:00</td>\n",
       "      <td>30.366667</td>\n",
       "    </tr>\n",
       "    <tr>\n",
       "      <th>2</th>\n",
       "      <td>2024-04-22</td>\n",
       "      <td>15</td>\n",
       "      <td>2024-04-22 15:00</td>\n",
       "      <td>10.366667</td>\n",
       "    </tr>\n",
       "    <tr>\n",
       "      <th>3</th>\n",
       "      <td>2024-05-29</td>\n",
       "      <td>20</td>\n",
       "      <td>2024-05-29 20:00</td>\n",
       "      <td>30.066667</td>\n",
       "    </tr>\n",
       "    <tr>\n",
       "      <th>4</th>\n",
       "      <td>2024-06-04</td>\n",
       "      <td>13</td>\n",
       "      <td>2024-06-04 13:00</td>\n",
       "      <td>29.833333</td>\n",
       "    </tr>\n",
       "    <tr>\n",
       "      <th>5</th>\n",
       "      <td>2024-06-18</td>\n",
       "      <td>12</td>\n",
       "      <td>2024-06-18 12:00</td>\n",
       "      <td>30.016667</td>\n",
       "    </tr>\n",
       "    <tr>\n",
       "      <th>6</th>\n",
       "      <td>2024-09-03</td>\n",
       "      <td>21</td>\n",
       "      <td>2024-09-03 21:00</td>\n",
       "      <td>2.433333</td>\n",
       "    </tr>\n",
       "    <tr>\n",
       "      <th>7</th>\n",
       "      <td>2024-11-27</td>\n",
       "      <td>14</td>\n",
       "      <td>2024-11-27 14:00</td>\n",
       "      <td>31.216667</td>\n",
       "    </tr>\n",
       "    <tr>\n",
       "      <th>8</th>\n",
       "      <td>2025-02-12</td>\n",
       "      <td>17</td>\n",
       "      <td>2025-02-12 17:00</td>\n",
       "      <td>4.333333</td>\n",
       "    </tr>\n",
       "    <tr>\n",
       "      <th>9</th>\n",
       "      <td>2025-02-12</td>\n",
       "      <td>18</td>\n",
       "      <td>2025-02-12 18:00</td>\n",
       "      <td>4.933333</td>\n",
       "    </tr>\n",
       "    <tr>\n",
       "      <th>10</th>\n",
       "      <td>2025-02-24</td>\n",
       "      <td>22</td>\n",
       "      <td>2025-02-24 22:00</td>\n",
       "      <td>11.650000</td>\n",
       "    </tr>\n",
       "    <tr>\n",
       "      <th>11</th>\n",
       "      <td>2025-02-24</td>\n",
       "      <td>23</td>\n",
       "      <td>2025-02-24 23:00</td>\n",
       "      <td>2.983333</td>\n",
       "    </tr>\n",
       "    <tr>\n",
       "      <th>12</th>\n",
       "      <td>2025-02-25</td>\n",
       "      <td>12</td>\n",
       "      <td>2025-02-25 12:00</td>\n",
       "      <td>2.833333</td>\n",
       "    </tr>\n",
       "    <tr>\n",
       "      <th>13</th>\n",
       "      <td>2025-02-25</td>\n",
       "      <td>6</td>\n",
       "      <td>2025-02-25 6:00</td>\n",
       "      <td>2.900000</td>\n",
       "    </tr>\n",
       "  </tbody>\n",
       "</table>\n",
       "</div>"
      ],
      "text/plain": [
       "          date  hour         date_hour    minutes\n",
       "0   2024-03-21     0   2024-03-21 0:00  32.550000\n",
       "1   2024-03-21    21  2024-03-21 21:00  30.366667\n",
       "2   2024-04-22    15  2024-04-22 15:00  10.366667\n",
       "3   2024-05-29    20  2024-05-29 20:00  30.066667\n",
       "4   2024-06-04    13  2024-06-04 13:00  29.833333\n",
       "5   2024-06-18    12  2024-06-18 12:00  30.016667\n",
       "6   2024-09-03    21  2024-09-03 21:00   2.433333\n",
       "7   2024-11-27    14  2024-11-27 14:00  31.216667\n",
       "8   2025-02-12    17  2025-02-12 17:00   4.333333\n",
       "9   2025-02-12    18  2025-02-12 18:00   4.933333\n",
       "10  2025-02-24    22  2025-02-24 22:00  11.650000\n",
       "11  2025-02-24    23  2025-02-24 23:00   2.983333\n",
       "12  2025-02-25    12  2025-02-25 12:00   2.833333\n",
       "13  2025-02-25     6   2025-02-25 6:00   2.900000"
      ]
     },
     "execution_count": 23,
     "metadata": {},
     "output_type": "execute_result"
    }
   ],
   "source": [
    "%%bigquery\n",
    "$SQL_QUERY"
   ]
  },
  {
   "cell_type": "code",
   "execution_count": 24,
   "id": "f68e7b20-9e27-44cd-83b6-75a2af621c94",
   "metadata": {
    "tags": []
   },
   "outputs": [
    {
     "data": {
      "text/html": [
       "Query job fdb5cc9f-ccde-4f03-83c0-bd2eaf594052 is DONE. 0 Bytes processed. <a target=\"_blank\" href=\"https://console.cloud.google.com/bigquery?project=lgbaeza-202310&j=bq:US:fdb5cc9f-ccde-4f03-83c0-bd2eaf594052&page=queryresults\">Open Job</a>"
      ],
      "text/plain": [
       "<IPython.core.display.HTML object>"
      ]
     },
     "metadata": {},
     "output_type": "display_data"
    },
    {
     "data": {
      "text/html": [
       "Query job 282c56b2-31b9-48e4-91d2-e57ec3c647be is DONE. 504 Bytes processed. <a target=\"_blank\" href=\"https://console.cloud.google.com/bigquery?project=lgbaeza-202310&j=bq:US:282c56b2-31b9-48e4-91d2-e57ec3c647be&page=queryresults\">Open Job</a>"
      ],
      "text/plain": [
       "<IPython.core.display.HTML object>"
      ]
     },
     "metadata": {},
     "output_type": "display_data"
    },
    {
     "data": {
      "text/html": [
       "Query job 8632188a-c966-4731-a02c-e85ba3c3bd98 is DONE. 586 Bytes processed. <a target=\"_blank\" href=\"https://console.cloud.google.com/bigquery?project=lgbaeza-202310&j=bq:US:8632188a-c966-4731-a02c-e85ba3c3bd98&page=queryresults\">Open Job</a>"
      ],
      "text/plain": [
       "<IPython.core.display.HTML object>"
      ]
     },
     "metadata": {},
     "output_type": "display_data"
    },
    {
     "data": {
      "text/plain": [
       "<Axes: xlabel='date_hour'>"
      ]
     },
     "execution_count": 24,
     "metadata": {},
     "output_type": "execute_result"
    },
    {
     "data": {
      "image/png": "[encoded data removed]",
      "text/plain": [
       "<Figure size 640x480 with 1 Axes>"
      ]
     },
     "metadata": {},
     "output_type": "display_data"
    }
   ],
   "source": [
    "df = bpd.read_gbq(SQL_QUERY)\n",
    "df[[\"date_hour\", \"minutes\"]].plot.bar(x=\"date_hour\", y=\"minutes\")"
   ]
  },
  {
   "cell_type": "markdown",
   "id": "205039f3-6b1b-4557-b1c6-c6866d050534",
   "metadata": {},
   "source": [
    "#### Cluster details"
   ]
  },
  {
   "cell_type": "code",
   "execution_count": 25,
   "id": "406d1a6e-03ca-42a0-9875-c0a2f3f0a7b2",
   "metadata": {
    "tags": []
   },
   "outputs": [],
   "source": [
    "SQL_QUERY = f\"\"\"\n",
    "SELECT \n",
    "      date\n",
    "    , hour\n",
    "    , clusterUuid\n",
    "    , clusterName\n",
    "    , seconds_elapsed / 60 minutes\n",
    "FROM {BQ_DATASET_NAME}.{BQ_TABLE_NAME_MODEL}\n",
    "ORDER BY 1,2,3\n",
    "\"\"\""
   ]
  },
  {
   "cell_type": "code",
   "execution_count": 26,
   "id": "431174f9-1278-49ed-b7e3-14b65507e529",
   "metadata": {
    "scrolled": true,
    "tags": []
   },
   "outputs": [
    {
     "data": {
      "application/vnd.jupyter.widget-view+json": {
       "model_id": "39168d8de1b3467f820309f647955ea0",
       "version_major": 2,
       "version_minor": 0
      },
      "text/plain": [
       "Query is running:   0%|          |"
      ]
     },
     "metadata": {},
     "output_type": "display_data"
    },
    {
     "data": {
      "application/vnd.jupyter.widget-view+json": {
       "model_id": "d55e98de90444ddc8eb74adeca1adf99",
       "version_major": 2,
       "version_minor": 0
      },
      "text/plain": [
       "Downloading:   0%|          |"
      ]
     },
     "metadata": {},
     "output_type": "display_data"
    },
    {
     "data": {
      "text/html": [
       "<div>\n",
       "<style scoped>\n",
       "    .dataframe tbody tr th:only-of-type {\n",
       "        vertical-align: middle;\n",
       "    }\n",
       "\n",
       "    .dataframe tbody tr th {\n",
       "        vertical-align: top;\n",
       "    }\n",
       "\n",
       "    .dataframe thead th {\n",
       "        text-align: right;\n",
       "    }\n",
       "</style>\n",
       "<table border=\"1\" class=\"dataframe\">\n",
       "  <thead>\n",
       "    <tr style=\"text-align: right;\">\n",
       "      <th></th>\n",
       "      <th>date</th>\n",
       "      <th>hour</th>\n",
       "      <th>clusterUuid</th>\n",
       "      <th>clusterName</th>\n",
       "      <th>minutes</th>\n",
       "    </tr>\n",
       "  </thead>\n",
       "  <tbody>\n",
       "    <tr>\n",
       "      <th>0</th>\n",
       "      <td>2024-03-21</td>\n",
       "      <td>0</td>\n",
       "      <td>7c7f0f34-76e5-422b-9b10-27c319dea982</td>\n",
       "      <td>srvls-session-7ae4c720-8e54-477e-b33b-a9cecc62...</td>\n",
       "      <td>2.383333</td>\n",
       "    </tr>\n",
       "    <tr>\n",
       "      <th>1</th>\n",
       "      <td>2024-03-21</td>\n",
       "      <td>0</td>\n",
       "      <td>f177a280-8efc-42fe-885d-edc8ff76f64c</td>\n",
       "      <td>srvls-session-0b40ab36-883c-4ec1-93f5-43efb647...</td>\n",
       "      <td>30.166667</td>\n",
       "    </tr>\n",
       "    <tr>\n",
       "      <th>2</th>\n",
       "      <td>2024-03-21</td>\n",
       "      <td>21</td>\n",
       "      <td>199a2ebc-e287-40a8-a7e6-701042cd6663</td>\n",
       "      <td>srvls-session-8f4207ee-921a-4593-86b5-ead3d406...</td>\n",
       "      <td>30.366667</td>\n",
       "    </tr>\n",
       "    <tr>\n",
       "      <th>3</th>\n",
       "      <td>2024-04-22</td>\n",
       "      <td>15</td>\n",
       "      <td>08273726-b69e-488a-a813-c0e287b9bf0b</td>\n",
       "      <td>srvls-session-d6c9fdd2-b4d5-49ad-9853-fd283347...</td>\n",
       "      <td>10.366667</td>\n",
       "    </tr>\n",
       "    <tr>\n",
       "      <th>4</th>\n",
       "      <td>2024-05-29</td>\n",
       "      <td>20</td>\n",
       "      <td>fc36f463-6de5-4f4d-972a-7e7a0cccdaa0</td>\n",
       "      <td>srvls-session-d9f26ba6-6140-47f6-9f6d-c3c17da5...</td>\n",
       "      <td>30.066667</td>\n",
       "    </tr>\n",
       "    <tr>\n",
       "      <th>5</th>\n",
       "      <td>2024-06-04</td>\n",
       "      <td>13</td>\n",
       "      <td>ecd1fe28-354f-4eea-863e-745b02462c85</td>\n",
       "      <td>srvls-session-ccc4f4ef-de25-4aaf-aa07-1442776b...</td>\n",
       "      <td>29.833333</td>\n",
       "    </tr>\n",
       "    <tr>\n",
       "      <th>6</th>\n",
       "      <td>2024-06-18</td>\n",
       "      <td>12</td>\n",
       "      <td>fbaac46a-e25c-454b-8617-261ec75a4c07</td>\n",
       "      <td>srvls-session-ad7438cc-23a6-41c0-9dc1-b116f8a8...</td>\n",
       "      <td>30.016667</td>\n",
       "    </tr>\n",
       "    <tr>\n",
       "      <th>7</th>\n",
       "      <td>2024-09-03</td>\n",
       "      <td>21</td>\n",
       "      <td>b7dc43ed-9556-462f-b1f4-540c080a678c</td>\n",
       "      <td>srvls-session-5153a351-3d2f-4f8f-861f-339a24f1...</td>\n",
       "      <td>2.433333</td>\n",
       "    </tr>\n",
       "    <tr>\n",
       "      <th>8</th>\n",
       "      <td>2024-11-27</td>\n",
       "      <td>14</td>\n",
       "      <td>44ae9df0-467d-4cc8-9b37-ef8a5dabbfa0</td>\n",
       "      <td>srvls-session-58fe92c0-55f3-4bea-91aa-a05852a4...</td>\n",
       "      <td>31.216667</td>\n",
       "    </tr>\n",
       "    <tr>\n",
       "      <th>9</th>\n",
       "      <td>2025-02-12</td>\n",
       "      <td>17</td>\n",
       "      <td>68aac871-dac9-4534-9dba-b3b94adb4925</td>\n",
       "      <td>cluster-f6ef-ktklml7lgv4wa</td>\n",
       "      <td>2.783333</td>\n",
       "    </tr>\n",
       "    <tr>\n",
       "      <th>10</th>\n",
       "      <td>2025-02-12</td>\n",
       "      <td>17</td>\n",
       "      <td>89d41015-4d24-4df6-b107-93dc80789a43</td>\n",
       "      <td>cluster-f6ef-ze7qchjeqbgpi</td>\n",
       "      <td>1.550000</td>\n",
       "    </tr>\n",
       "    <tr>\n",
       "      <th>11</th>\n",
       "      <td>2025-02-12</td>\n",
       "      <td>18</td>\n",
       "      <td>05804ce3-9436-4ad5-b06e-03ec40136fc7</td>\n",
       "      <td>cluster-f6ef-ftpjdixscxjea</td>\n",
       "      <td>2.766667</td>\n",
       "    </tr>\n",
       "    <tr>\n",
       "      <th>12</th>\n",
       "      <td>2025-02-12</td>\n",
       "      <td>18</td>\n",
       "      <td>e78bddb9-ca43-4c1b-96cf-b9427c35f1b8</td>\n",
       "      <td>cluster-f6ef-r4alnh7zqdhtm</td>\n",
       "      <td>2.166667</td>\n",
       "    </tr>\n",
       "    <tr>\n",
       "      <th>13</th>\n",
       "      <td>2025-02-24</td>\n",
       "      <td>22</td>\n",
       "      <td>21bf1220-045c-49a9-a4ce-d60964469993</td>\n",
       "      <td>cluster-f6ef-lsde6ofzsmtu6</td>\n",
       "      <td>2.816667</td>\n",
       "    </tr>\n",
       "    <tr>\n",
       "      <th>14</th>\n",
       "      <td>2025-02-24</td>\n",
       "      <td>22</td>\n",
       "      <td>5054321f-c443-4772-8d22-9dee9316a14f</td>\n",
       "      <td>cluster-1605-zl3r44m2mf7qy</td>\n",
       "      <td>2.800000</td>\n",
       "    </tr>\n",
       "    <tr>\n",
       "      <th>15</th>\n",
       "      <td>2025-02-24</td>\n",
       "      <td>22</td>\n",
       "      <td>7ddf6d6c-11a0-4415-8743-f6784b0e7b30</td>\n",
       "      <td>cluster-f6ef-kus5iy4fdbtji</td>\n",
       "      <td>1.533333</td>\n",
       "    </tr>\n",
       "    <tr>\n",
       "      <th>16</th>\n",
       "      <td>2025-02-24</td>\n",
       "      <td>22</td>\n",
       "      <td>d2493f89-43a1-446c-9f1e-e25900048718</td>\n",
       "      <td>cluster-b015-47cnzyiaswp2w</td>\n",
       "      <td>2.883333</td>\n",
       "    </tr>\n",
       "    <tr>\n",
       "      <th>17</th>\n",
       "      <td>2025-02-24</td>\n",
       "      <td>22</td>\n",
       "      <td>eab86372-1fbe-4bb9-9328-3e346aa987df</td>\n",
       "      <td>cluster-f6ef-litog7w7m245o</td>\n",
       "      <td>1.616667</td>\n",
       "    </tr>\n",
       "    <tr>\n",
       "      <th>18</th>\n",
       "      <td>2025-02-24</td>\n",
       "      <td>23</td>\n",
       "      <td>3360ed2a-888b-42c4-9965-f61f993c6106</td>\n",
       "      <td>cluster-0f90-4unxcy2ydejwg</td>\n",
       "      <td>2.983333</td>\n",
       "    </tr>\n",
       "    <tr>\n",
       "      <th>19</th>\n",
       "      <td>2025-02-25</td>\n",
       "      <td>6</td>\n",
       "      <td>7e21b393-61c3-4b89-a5ef-168e7c555528</td>\n",
       "      <td>cluster-26fc-jzicbl3sson3k</td>\n",
       "      <td>2.900000</td>\n",
       "    </tr>\n",
       "    <tr>\n",
       "      <th>20</th>\n",
       "      <td>2025-02-25</td>\n",
       "      <td>12</td>\n",
       "      <td>34658e4a-bcec-472f-bd56-5aaabba58895</td>\n",
       "      <td>cluster-26fc-2hphnbrwz37s6</td>\n",
       "      <td>2.833333</td>\n",
       "    </tr>\n",
       "  </tbody>\n",
       "</table>\n",
       "</div>"
      ],
      "text/plain": [
       "          date  hour                           clusterUuid  \\\n",
       "0   2024-03-21     0  7c7f0f34-76e5-422b-9b10-27c319dea982   \n",
       "1   2024-03-21     0  f177a280-8efc-42fe-885d-edc8ff76f64c   \n",
       "2   2024-03-21    21  199a2ebc-e287-40a8-a7e6-701042cd6663   \n",
       "3   2024-04-22    15  08273726-b69e-488a-a813-c0e287b9bf0b   \n",
       "4   2024-05-29    20  fc36f463-6de5-4f4d-972a-7e7a0cccdaa0   \n",
       "5   2024-06-04    13  ecd1fe28-354f-4eea-863e-745b02462c85   \n",
       "6   2024-06-18    12  fbaac46a-e25c-454b-8617-261ec75a4c07   \n",
       "7   2024-09-03    21  b7dc43ed-9556-462f-b1f4-540c080a678c   \n",
       "8   2024-11-27    14  44ae9df0-467d-4cc8-9b37-ef8a5dabbfa0   \n",
       "9   2025-02-12    17  68aac871-dac9-4534-9dba-b3b94adb4925   \n",
       "10  2025-02-12    17  89d41015-4d24-4df6-b107-93dc80789a43   \n",
       "11  2025-02-12    18  05804ce3-9436-4ad5-b06e-03ec40136fc7   \n",
       "12  2025-02-12    18  e78bddb9-ca43-4c1b-96cf-b9427c35f1b8   \n",
       "13  2025-02-24    22  21bf1220-045c-49a9-a4ce-d60964469993   \n",
       "14  2025-02-24    22  5054321f-c443-4772-8d22-9dee9316a14f   \n",
       "15  2025-02-24    22  7ddf6d6c-11a0-4415-8743-f6784b0e7b30   \n",
       "16  2025-02-24    22  d2493f89-43a1-446c-9f1e-e25900048718   \n",
       "17  2025-02-24    22  eab86372-1fbe-4bb9-9328-3e346aa987df   \n",
       "18  2025-02-24    23  3360ed2a-888b-42c4-9965-f61f993c6106   \n",
       "19  2025-02-25     6  7e21b393-61c3-4b89-a5ef-168e7c555528   \n",
       "20  2025-02-25    12  34658e4a-bcec-472f-bd56-5aaabba58895   \n",
       "\n",
       "                                          clusterName    minutes  \n",
       "0   srvls-session-7ae4c720-8e54-477e-b33b-a9cecc62...   2.383333  \n",
       "1   srvls-session-0b40ab36-883c-4ec1-93f5-43efb647...  30.166667  \n",
       "2   srvls-session-8f4207ee-921a-4593-86b5-ead3d406...  30.366667  \n",
       "3   srvls-session-d6c9fdd2-b4d5-49ad-9853-fd283347...  10.366667  \n",
       "4   srvls-session-d9f26ba6-6140-47f6-9f6d-c3c17da5...  30.066667  \n",
       "5   srvls-session-ccc4f4ef-de25-4aaf-aa07-1442776b...  29.833333  \n",
       "6   srvls-session-ad7438cc-23a6-41c0-9dc1-b116f8a8...  30.016667  \n",
       "7   srvls-session-5153a351-3d2f-4f8f-861f-339a24f1...   2.433333  \n",
       "8   srvls-session-58fe92c0-55f3-4bea-91aa-a05852a4...  31.216667  \n",
       "9                          cluster-f6ef-ktklml7lgv4wa   2.783333  \n",
       "10                         cluster-f6ef-ze7qchjeqbgpi   1.550000  \n",
       "11                         cluster-f6ef-ftpjdixscxjea   2.766667  \n",
       "12                         cluster-f6ef-r4alnh7zqdhtm   2.166667  \n",
       "13                         cluster-f6ef-lsde6ofzsmtu6   2.816667  \n",
       "14                         cluster-1605-zl3r44m2mf7qy   2.800000  \n",
       "15                         cluster-f6ef-kus5iy4fdbtji   1.533333  \n",
       "16                         cluster-b015-47cnzyiaswp2w   2.883333  \n",
       "17                         cluster-f6ef-litog7w7m245o   1.616667  \n",
       "18                         cluster-0f90-4unxcy2ydejwg   2.983333  \n",
       "19                         cluster-26fc-jzicbl3sson3k   2.900000  \n",
       "20                         cluster-26fc-2hphnbrwz37s6   2.833333  "
      ]
     },
     "execution_count": 26,
     "metadata": {},
     "output_type": "execute_result"
    }
   ],
   "source": [
    "%%bigquery\n",
    "$SQL_QUERY"
   ]
  },
  {
   "cell_type": "markdown",
   "id": "9da1381a-a5f7-442d-9afd-6795c8b9188f",
   "metadata": {
    "tags": []
   },
   "source": [
    "#### Total price by the hour"
   ]
  },
  {
   "cell_type": "code",
   "execution_count": 27,
   "id": "c0a93faa-3751-448b-9ba4-2b5aa9d96ff0",
   "metadata": {
    "tags": []
   },
   "outputs": [],
   "source": [
    "SQL_QUERY = f\"\"\"\n",
    "    SELECT \n",
    "      CONCAT(\n",
    "          EXTRACT (DATE FROM usage_start_time),\n",
    "          ' ',\n",
    "          EXTRACT (HOUR FROM usage_start_time),\n",
    "          ' :00'\n",
    "       ) date_hour,\n",
    "      sku.id sku_id, \n",
    "      price.effective_price / price.pricing_unit_quantity effective_price,\n",
    "      SUM(usage.amount_in_pricing_units) amount_in_pricing_units, \n",
    "      SUM(usage.amount_in_pricing_units * price.effective_price / price.pricing_unit_quantity) total_price\n",
    "    FROM {BQ_BILLING_DATASET_NAME}.{BQ_BILLING_TABLE_NAME}\n",
    "    WHERE \n",
    "      service.description = 'Dataproc' \n",
    "      AND sku.description LIKE 'Data Compute Unit (milli) Hours%'\n",
    "      AND DATE(usage_start_time) >= DATE('{START_DATE}')\n",
    "    GROUP BY 1,2,3\n",
    "    ORDER BY 1\n",
    "\"\"\""
   ]
  },
  {
   "cell_type": "code",
   "execution_count": 28,
   "id": "7ab1f56c-f73f-4356-9a65-93bed4a024c1",
   "metadata": {
    "scrolled": true,
    "tags": []
   },
   "outputs": [
    {
     "data": {
      "application/vnd.jupyter.widget-view+json": {
       "model_id": "7d4f53b6b8a9470d97f10264495946be",
       "version_major": 2,
       "version_minor": 0
      },
      "text/plain": [
       "Query is running:   0%|          |"
      ]
     },
     "metadata": {},
     "output_type": "display_data"
    },
    {
     "data": {
      "application/vnd.jupyter.widget-view+json": {
       "model_id": "d3f7e2e46fa846d7aa63eb0d1cc8c4ff",
       "version_major": 2,
       "version_minor": 0
      },
      "text/plain": [
       "Downloading:   0%|          |"
      ]
     },
     "metadata": {},
     "output_type": "display_data"
    },
    {
     "data": {
      "text/html": [
       "<div>\n",
       "<style scoped>\n",
       "    .dataframe tbody tr th:only-of-type {\n",
       "        vertical-align: middle;\n",
       "    }\n",
       "\n",
       "    .dataframe tbody tr th {\n",
       "        vertical-align: top;\n",
       "    }\n",
       "\n",
       "    .dataframe thead th {\n",
       "        text-align: right;\n",
       "    }\n",
       "</style>\n",
       "<table border=\"1\" class=\"dataframe\">\n",
       "  <thead>\n",
       "    <tr style=\"text-align: right;\">\n",
       "      <th></th>\n",
       "      <th>date_hour</th>\n",
       "      <th>sku_id</th>\n",
       "      <th>effective_price</th>\n",
       "      <th>amount_in_pricing_units</th>\n",
       "      <th>total_price</th>\n",
       "    </tr>\n",
       "  </thead>\n",
       "  <tbody>\n",
       "    <tr>\n",
       "      <th>0</th>\n",
       "      <td>2024-03-21 0 :00</td>\n",
       "      <td>A486-6040-07FE</td>\n",
       "      <td>0.000089000</td>\n",
       "      <td>11721.573333</td>\n",
       "      <td>1.043220</td>\n",
       "    </tr>\n",
       "    <tr>\n",
       "      <th>1</th>\n",
       "      <td>2024-03-21 21 :00</td>\n",
       "      <td>A486-6040-07FE</td>\n",
       "      <td>0.000089000</td>\n",
       "      <td>22043.298611</td>\n",
       "      <td>1.961854</td>\n",
       "    </tr>\n",
       "    <tr>\n",
       "      <th>2</th>\n",
       "      <td>2024-03-23 0 :00</td>\n",
       "      <td>A065-18C2-08FA</td>\n",
       "      <td>0.000100232</td>\n",
       "      <td>10963.938611</td>\n",
       "      <td>1.098937</td>\n",
       "    </tr>\n",
       "    <tr>\n",
       "      <th>3</th>\n",
       "      <td>2024-03-23 1 :00</td>\n",
       "      <td>A065-18C2-08FA</td>\n",
       "      <td>0.000100232</td>\n",
       "      <td>11849.999167</td>\n",
       "      <td>1.187749</td>\n",
       "    </tr>\n",
       "    <tr>\n",
       "      <th>4</th>\n",
       "      <td>2024-03-23 10 :00</td>\n",
       "      <td>A065-18C2-08FA</td>\n",
       "      <td>0.000100232</td>\n",
       "      <td>11850.000000</td>\n",
       "      <td>1.187749</td>\n",
       "    </tr>\n",
       "    <tr>\n",
       "      <th>5</th>\n",
       "      <td>2024-03-23 11 :00</td>\n",
       "      <td>A065-18C2-08FA</td>\n",
       "      <td>0.000100232</td>\n",
       "      <td>11850.000000</td>\n",
       "      <td>1.187749</td>\n",
       "    </tr>\n",
       "    <tr>\n",
       "      <th>6</th>\n",
       "      <td>2024-03-23 12 :00</td>\n",
       "      <td>A065-18C2-08FA</td>\n",
       "      <td>0.000100232</td>\n",
       "      <td>11850.000000</td>\n",
       "      <td>1.187749</td>\n",
       "    </tr>\n",
       "    <tr>\n",
       "      <th>7</th>\n",
       "      <td>2024-03-23 13 :00</td>\n",
       "      <td>A065-18C2-08FA</td>\n",
       "      <td>0.000100232</td>\n",
       "      <td>11850.000000</td>\n",
       "      <td>1.187749</td>\n",
       "    </tr>\n",
       "    <tr>\n",
       "      <th>8</th>\n",
       "      <td>2024-03-23 14 :00</td>\n",
       "      <td>A065-18C2-08FA</td>\n",
       "      <td>0.000100232</td>\n",
       "      <td>11850.000000</td>\n",
       "      <td>1.187749</td>\n",
       "    </tr>\n",
       "    <tr>\n",
       "      <th>9</th>\n",
       "      <td>2024-03-23 15 :00</td>\n",
       "      <td>A065-18C2-08FA</td>\n",
       "      <td>0.000100232</td>\n",
       "      <td>11850.000000</td>\n",
       "      <td>1.187749</td>\n",
       "    </tr>\n",
       "    <tr>\n",
       "      <th>10</th>\n",
       "      <td>2024-03-23 16 :00</td>\n",
       "      <td>A065-18C2-08FA</td>\n",
       "      <td>0.000100232</td>\n",
       "      <td>11850.000000</td>\n",
       "      <td>1.187749</td>\n",
       "    </tr>\n",
       "    <tr>\n",
       "      <th>11</th>\n",
       "      <td>2024-03-23 17 :00</td>\n",
       "      <td>A065-18C2-08FA</td>\n",
       "      <td>0.000100232</td>\n",
       "      <td>11850.000000</td>\n",
       "      <td>1.187749</td>\n",
       "    </tr>\n",
       "    <tr>\n",
       "      <th>12</th>\n",
       "      <td>2024-03-23 18 :00</td>\n",
       "      <td>A065-18C2-08FA</td>\n",
       "      <td>0.000100232</td>\n",
       "      <td>11850.000000</td>\n",
       "      <td>1.187749</td>\n",
       "    </tr>\n",
       "    <tr>\n",
       "      <th>13</th>\n",
       "      <td>2024-03-23 19 :00</td>\n",
       "      <td>A065-18C2-08FA</td>\n",
       "      <td>0.000100232</td>\n",
       "      <td>11850.000000</td>\n",
       "      <td>1.187749</td>\n",
       "    </tr>\n",
       "    <tr>\n",
       "      <th>14</th>\n",
       "      <td>2024-03-23 2 :00</td>\n",
       "      <td>A065-18C2-08FA</td>\n",
       "      <td>0.000100232</td>\n",
       "      <td>11850.000000</td>\n",
       "      <td>1.187749</td>\n",
       "    </tr>\n",
       "    <tr>\n",
       "      <th>15</th>\n",
       "      <td>2024-03-23 20 :00</td>\n",
       "      <td>A065-18C2-08FA</td>\n",
       "      <td>0.000100232</td>\n",
       "      <td>11850.000000</td>\n",
       "      <td>1.187749</td>\n",
       "    </tr>\n",
       "    <tr>\n",
       "      <th>16</th>\n",
       "      <td>2024-03-23 21 :00</td>\n",
       "      <td>A065-18C2-08FA</td>\n",
       "      <td>0.000100232</td>\n",
       "      <td>11850.000000</td>\n",
       "      <td>1.187749</td>\n",
       "    </tr>\n",
       "    <tr>\n",
       "      <th>17</th>\n",
       "      <td>2024-03-23 22 :00</td>\n",
       "      <td>A065-18C2-08FA</td>\n",
       "      <td>0.000100232</td>\n",
       "      <td>11850.000000</td>\n",
       "      <td>1.187749</td>\n",
       "    </tr>\n",
       "    <tr>\n",
       "      <th>18</th>\n",
       "      <td>2024-03-23 23 :00</td>\n",
       "      <td>A065-18C2-08FA</td>\n",
       "      <td>0.000100232</td>\n",
       "      <td>11850.000000</td>\n",
       "      <td>1.187749</td>\n",
       "    </tr>\n",
       "    <tr>\n",
       "      <th>19</th>\n",
       "      <td>2024-03-23 3 :00</td>\n",
       "      <td>A065-18C2-08FA</td>\n",
       "      <td>0.000100232</td>\n",
       "      <td>11850.000000</td>\n",
       "      <td>1.187749</td>\n",
       "    </tr>\n",
       "    <tr>\n",
       "      <th>20</th>\n",
       "      <td>2024-03-23 4 :00</td>\n",
       "      <td>A065-18C2-08FA</td>\n",
       "      <td>0.000100232</td>\n",
       "      <td>11850.000000</td>\n",
       "      <td>1.187749</td>\n",
       "    </tr>\n",
       "    <tr>\n",
       "      <th>21</th>\n",
       "      <td>2024-03-23 5 :00</td>\n",
       "      <td>A065-18C2-08FA</td>\n",
       "      <td>0.000100232</td>\n",
       "      <td>11850.000000</td>\n",
       "      <td>1.187749</td>\n",
       "    </tr>\n",
       "    <tr>\n",
       "      <th>22</th>\n",
       "      <td>2024-03-23 6 :00</td>\n",
       "      <td>A065-18C2-08FA</td>\n",
       "      <td>0.000100232</td>\n",
       "      <td>11850.000000</td>\n",
       "      <td>1.187749</td>\n",
       "    </tr>\n",
       "    <tr>\n",
       "      <th>23</th>\n",
       "      <td>2024-03-23 7 :00</td>\n",
       "      <td>A065-18C2-08FA</td>\n",
       "      <td>0.000100232</td>\n",
       "      <td>11850.000000</td>\n",
       "      <td>1.187749</td>\n",
       "    </tr>\n",
       "    <tr>\n",
       "      <th>24</th>\n",
       "      <td>2024-03-23 8 :00</td>\n",
       "      <td>A065-18C2-08FA</td>\n",
       "      <td>0.000100232</td>\n",
       "      <td>11850.000000</td>\n",
       "      <td>1.187749</td>\n",
       "    </tr>\n",
       "    <tr>\n",
       "      <th>25</th>\n",
       "      <td>2024-03-23 9 :00</td>\n",
       "      <td>A065-18C2-08FA</td>\n",
       "      <td>0.000100232</td>\n",
       "      <td>11850.000000</td>\n",
       "      <td>1.187749</td>\n",
       "    </tr>\n",
       "    <tr>\n",
       "      <th>26</th>\n",
       "      <td>2024-03-24 0 :00</td>\n",
       "      <td>A065-18C2-08FA</td>\n",
       "      <td>0.000100232</td>\n",
       "      <td>2229.268889</td>\n",
       "      <td>0.223444</td>\n",
       "    </tr>\n",
       "    <tr>\n",
       "      <th>27</th>\n",
       "      <td>2024-04-22 15 :00</td>\n",
       "      <td>A065-18C2-08FA</td>\n",
       "      <td>0.000100232</td>\n",
       "      <td>2910.310278</td>\n",
       "      <td>0.291706</td>\n",
       "    </tr>\n",
       "    <tr>\n",
       "      <th>28</th>\n",
       "      <td>2024-04-22 15 :00</td>\n",
       "      <td>A486-6040-07FE</td>\n",
       "      <td>0.000089000</td>\n",
       "      <td>3556.234722</td>\n",
       "      <td>0.316505</td>\n",
       "    </tr>\n",
       "    <tr>\n",
       "      <th>29</th>\n",
       "      <td>2024-04-22 16 :00</td>\n",
       "      <td>A065-18C2-08FA</td>\n",
       "      <td>0.000100232</td>\n",
       "      <td>2979.960278</td>\n",
       "      <td>0.298687</td>\n",
       "    </tr>\n",
       "    <tr>\n",
       "      <th>30</th>\n",
       "      <td>2024-04-22 16 :00</td>\n",
       "      <td>A486-6040-07FE</td>\n",
       "      <td>0.000089000</td>\n",
       "      <td>1058.423889</td>\n",
       "      <td>0.094200</td>\n",
       "    </tr>\n",
       "    <tr>\n",
       "      <th>31</th>\n",
       "      <td>2024-05-29 20 :00</td>\n",
       "      <td>A486-6040-07FE</td>\n",
       "      <td>0.000089000</td>\n",
       "      <td>21327.533889</td>\n",
       "      <td>1.898151</td>\n",
       "    </tr>\n",
       "    <tr>\n",
       "      <th>32</th>\n",
       "      <td>2024-06-04 13 :00</td>\n",
       "      <td>A486-6040-07FE</td>\n",
       "      <td>0.000089000</td>\n",
       "      <td>1936.050833</td>\n",
       "      <td>0.172309</td>\n",
       "    </tr>\n",
       "    <tr>\n",
       "      <th>33</th>\n",
       "      <td>2024-06-04 14 :00</td>\n",
       "      <td>A486-6040-07FE</td>\n",
       "      <td>0.000089000</td>\n",
       "      <td>6321.680556</td>\n",
       "      <td>0.562630</td>\n",
       "    </tr>\n",
       "    <tr>\n",
       "      <th>34</th>\n",
       "      <td>2024-06-18 12 :00</td>\n",
       "      <td>A486-6040-07FE</td>\n",
       "      <td>0.000089000</td>\n",
       "      <td>13069.699444</td>\n",
       "      <td>1.163203</td>\n",
       "    </tr>\n",
       "    <tr>\n",
       "      <th>35</th>\n",
       "      <td>2024-11-27 14 :00</td>\n",
       "      <td>A486-6040-07FE</td>\n",
       "      <td>0.000089000</td>\n",
       "      <td>21816.631944</td>\n",
       "      <td>1.941680</td>\n",
       "    </tr>\n",
       "    <tr>\n",
       "      <th>36</th>\n",
       "      <td>2025-02-12 17 :00</td>\n",
       "      <td>EC7A-EF05-537E</td>\n",
       "      <td>0.000060000</td>\n",
       "      <td>607.366944</td>\n",
       "      <td>0.036442</td>\n",
       "    </tr>\n",
       "    <tr>\n",
       "      <th>37</th>\n",
       "      <td>2025-02-12 18 :00</td>\n",
       "      <td>EC7A-EF05-537E</td>\n",
       "      <td>0.000060000</td>\n",
       "      <td>594.935278</td>\n",
       "      <td>0.035696</td>\n",
       "    </tr>\n",
       "  </tbody>\n",
       "</table>\n",
       "</div>"
      ],
      "text/plain": [
       "            date_hour          sku_id effective_price  \\\n",
       "0    2024-03-21 0 :00  A486-6040-07FE     0.000089000   \n",
       "1   2024-03-21 21 :00  A486-6040-07FE     0.000089000   \n",
       "2    2024-03-23 0 :00  A065-18C2-08FA     0.000100232   \n",
       "3    2024-03-23 1 :00  A065-18C2-08FA     0.000100232   \n",
       "4   2024-03-23 10 :00  A065-18C2-08FA     0.000100232   \n",
       "5   2024-03-23 11 :00  A065-18C2-08FA     0.000100232   \n",
       "6   2024-03-23 12 :00  A065-18C2-08FA     0.000100232   \n",
       "7   2024-03-23 13 :00  A065-18C2-08FA     0.000100232   \n",
       "8   2024-03-23 14 :00  A065-18C2-08FA     0.000100232   \n",
       "9   2024-03-23 15 :00  A065-18C2-08FA     0.000100232   \n",
       "10  2024-03-23 16 :00  A065-18C2-08FA     0.000100232   \n",
       "11  2024-03-23 17 :00  A065-18C2-08FA     0.000100232   \n",
       "12  2024-03-23 18 :00  A065-18C2-08FA     0.000100232   \n",
       "13  2024-03-23 19 :00  A065-18C2-08FA     0.000100232   \n",
       "14   2024-03-23 2 :00  A065-18C2-08FA     0.000100232   \n",
       "15  2024-03-23 20 :00  A065-18C2-08FA     0.000100232   \n",
       "16  2024-03-23 21 :00  A065-18C2-08FA     0.000100232   \n",
       "17  2024-03-23 22 :00  A065-18C2-08FA     0.000100232   \n",
       "18  2024-03-23 23 :00  A065-18C2-08FA     0.000100232   \n",
       "19   2024-03-23 3 :00  A065-18C2-08FA     0.000100232   \n",
       "20   2024-03-23 4 :00  A065-18C2-08FA     0.000100232   \n",
       "21   2024-03-23 5 :00  A065-18C2-08FA     0.000100232   \n",
       "22   2024-03-23 6 :00  A065-18C2-08FA     0.000100232   \n",
       "23   2024-03-23 7 :00  A065-18C2-08FA     0.000100232   \n",
       "24   2024-03-23 8 :00  A065-18C2-08FA     0.000100232   \n",
       "25   2024-03-23 9 :00  A065-18C2-08FA     0.000100232   \n",
       "26   2024-03-24 0 :00  A065-18C2-08FA     0.000100232   \n",
       "27  2024-04-22 15 :00  A065-18C2-08FA     0.000100232   \n",
       "28  2024-04-22 15 :00  A486-6040-07FE     0.000089000   \n",
       "29  2024-04-22 16 :00  A065-18C2-08FA     0.000100232   \n",
       "30  2024-04-22 16 :00  A486-6040-07FE     0.000089000   \n",
       "31  2024-05-29 20 :00  A486-6040-07FE     0.000089000   \n",
       "32  2024-06-04 13 :00  A486-6040-07FE     0.000089000   \n",
       "33  2024-06-04 14 :00  A486-6040-07FE     0.000089000   \n",
       "34  2024-06-18 12 :00  A486-6040-07FE     0.000089000   \n",
       "35  2024-11-27 14 :00  A486-6040-07FE     0.000089000   \n",
       "36  2025-02-12 17 :00  EC7A-EF05-537E     0.000060000   \n",
       "37  2025-02-12 18 :00  EC7A-EF05-537E     0.000060000   \n",
       "\n",
       "    amount_in_pricing_units  total_price  \n",
       "0              11721.573333     1.043220  \n",
       "1              22043.298611     1.961854  \n",
       "2              10963.938611     1.098937  \n",
       "3              11849.999167     1.187749  \n",
       "4              11850.000000     1.187749  \n",
       "5              11850.000000     1.187749  \n",
       "6              11850.000000     1.187749  \n",
       "7              11850.000000     1.187749  \n",
       "8              11850.000000     1.187749  \n",
       "9              11850.000000     1.187749  \n",
       "10             11850.000000     1.187749  \n",
       "11             11850.000000     1.187749  \n",
       "12             11850.000000     1.187749  \n",
       "13             11850.000000     1.187749  \n",
       "14             11850.000000     1.187749  \n",
       "15             11850.000000     1.187749  \n",
       "16             11850.000000     1.187749  \n",
       "17             11850.000000     1.187749  \n",
       "18             11850.000000     1.187749  \n",
       "19             11850.000000     1.187749  \n",
       "20             11850.000000     1.187749  \n",
       "21             11850.000000     1.187749  \n",
       "22             11850.000000     1.187749  \n",
       "23             11850.000000     1.187749  \n",
       "24             11850.000000     1.187749  \n",
       "25             11850.000000     1.187749  \n",
       "26              2229.268889     0.223444  \n",
       "27              2910.310278     0.291706  \n",
       "28              3556.234722     0.316505  \n",
       "29              2979.960278     0.298687  \n",
       "30              1058.423889     0.094200  \n",
       "31             21327.533889     1.898151  \n",
       "32              1936.050833     0.172309  \n",
       "33              6321.680556     0.562630  \n",
       "34             13069.699444     1.163203  \n",
       "35             21816.631944     1.941680  \n",
       "36               607.366944     0.036442  \n",
       "37               594.935278     0.035696  "
      ]
     },
     "execution_count": 28,
     "metadata": {},
     "output_type": "execute_result"
    }
   ],
   "source": [
    "%%bigquery\n",
    "$SQL_QUERY"
   ]
  },
  {
   "cell_type": "code",
   "execution_count": 29,
   "id": "5a774c45-d631-4d4c-8a95-612001861af7",
   "metadata": {
    "tags": []
   },
   "outputs": [
    {
     "data": {
      "text/html": [
       "Query job c8816107-06b2-4d99-bbcb-0abfe3f7db9f is DONE. 2.4 kB processed. <a target=\"_blank\" href=\"https://console.cloud.google.com/bigquery?project=lgbaeza-202310&j=bq:US:c8816107-06b2-4d99-bbcb-0abfe3f7db9f&page=queryresults\">Open Job</a>"
      ],
      "text/plain": [
       "<IPython.core.display.HTML object>"
      ]
     },
     "metadata": {},
     "output_type": "display_data"
    },
    {
     "data": {
      "text/html": [
       "Query job 66ca8e85-faf1-4ee7-8943-2f72812f0460 is DONE. 2.5 kB processed. <a target=\"_blank\" href=\"https://console.cloud.google.com/bigquery?project=lgbaeza-202310&j=bq:US:66ca8e85-faf1-4ee7-8943-2f72812f0460&page=queryresults\">Open Job</a>"
      ],
      "text/plain": [
       "<IPython.core.display.HTML object>"
      ]
     },
     "metadata": {},
     "output_type": "display_data"
    },
    {
     "data": {
      "text/plain": [
       "<Axes: xlabel='date_hour'>"
      ]
     },
     "execution_count": 29,
     "metadata": {},
     "output_type": "execute_result"
    },
    {
     "data": {
      "image/png": "[encoded data removed]",
      "text/plain": [
       "<Figure size 640x480 with 1 Axes>"
      ]
     },
     "metadata": {},
     "output_type": "display_data"
    }
   ],
   "source": [
    "df = bpd.read_gbq(SQL_QUERY)\n",
    "df[[\"date_hour\", \"total_price\"]].plot.bar(x=\"date_hour\", y=\"total_price\")"
   ]
  },
  {
   "cell_type": "markdown",
   "id": "68b62d46-88e0-45bd-ae90-3228553077ee",
   "metadata": {},
   "source": [
    "#### Billing details by SKU and hour"
   ]
  },
  {
   "cell_type": "code",
   "execution_count": 30,
   "id": "efac01dc-89f7-40de-b2fe-22884fef78cd",
   "metadata": {
    "tags": []
   },
   "outputs": [],
   "source": [
    "SQL_QUERY = f\"\"\"\n",
    "    CREATE OR REPLACE MATERIALIZED VIEW {BQ_DATASET_NAME}.{BQ_BILLING_TABLE_VIEW} AS\n",
    "    SELECT \n",
    "      EXTRACT (DATE FROM usage_start_time) date,\n",
    "      EXTRACT (HOUR FROM usage_start_time) hour,\n",
    "      sku.id sku_id, \n",
    "      sku.description sku_description, \n",
    "      price.effective_price / price.pricing_unit_quantity effective_price,\n",
    "      SUM(usage.amount_in_pricing_units) amount_in_pricing_units, \n",
    "      SUM(usage.amount_in_pricing_units * price.effective_price / price.pricing_unit_quantity) total_price\n",
    "    FROM {BQ_BILLING_DATASET_NAME}.{BQ_BILLING_TABLE_NAME}\n",
    "    WHERE \n",
    "      service.description = 'Dataproc' \n",
    "      AND sku.description LIKE 'Data Compute Unit (milli) Hours%'\n",
    "      AND DATE(usage_start_time) >= DATE('{START_DATE}')\n",
    "    GROUP BY 1,2,3,4,5;\n",
    "    \n",
    "    SELECT * FROM {BQ_DATASET_NAME}.{BQ_BILLING_TABLE_VIEW} ORDER BY 1,2;\n",
    "\"\"\""
   ]
  },
  {
   "cell_type": "code",
   "execution_count": 31,
   "id": "953cbf74-ff08-4c0e-abd3-0f44503b15f2",
   "metadata": {
    "scrolled": true,
    "tags": []
   },
   "outputs": [
    {
     "data": {
      "application/vnd.jupyter.widget-view+json": {
       "model_id": "7dcbeb52e86d4729a478c4f23ce7c93b",
       "version_major": 2,
       "version_minor": 0
      },
      "text/plain": [
       "Query is running:   0%|          |"
      ]
     },
     "metadata": {},
     "output_type": "display_data"
    },
    {
     "data": {
      "application/vnd.jupyter.widget-view+json": {
       "model_id": "7d1c9dae1e374369b8188fa509bd6776",
       "version_major": 2,
       "version_minor": 0
      },
      "text/plain": [
       "Downloading:   0%|          |"
      ]
     },
     "metadata": {},
     "output_type": "display_data"
    },
    {
     "data": {
      "text/html": [
       "<div>\n",
       "<style scoped>\n",
       "    .dataframe tbody tr th:only-of-type {\n",
       "        vertical-align: middle;\n",
       "    }\n",
       "\n",
       "    .dataframe tbody tr th {\n",
       "        vertical-align: top;\n",
       "    }\n",
       "\n",
       "    .dataframe thead th {\n",
       "        text-align: right;\n",
       "    }\n",
       "</style>\n",
       "<table border=\"1\" class=\"dataframe\">\n",
       "  <thead>\n",
       "    <tr style=\"text-align: right;\">\n",
       "      <th></th>\n",
       "      <th>date</th>\n",
       "      <th>hour</th>\n",
       "      <th>sku_id</th>\n",
       "      <th>sku_description</th>\n",
       "      <th>effective_price</th>\n",
       "      <th>amount_in_pricing_units</th>\n",
       "      <th>total_price</th>\n",
       "    </tr>\n",
       "  </thead>\n",
       "  <tbody>\n",
       "    <tr>\n",
       "      <th>0</th>\n",
       "      <td>2024-03-21</td>\n",
       "      <td>0</td>\n",
       "      <td>A486-6040-07FE</td>\n",
       "      <td>Data Compute Unit (milli) Hours - Dataproc Ser...</td>\n",
       "      <td>0.000089000</td>\n",
       "      <td>11721.573333</td>\n",
       "      <td>1.043220</td>\n",
       "    </tr>\n",
       "    <tr>\n",
       "      <th>1</th>\n",
       "      <td>2024-03-21</td>\n",
       "      <td>21</td>\n",
       "      <td>A486-6040-07FE</td>\n",
       "      <td>Data Compute Unit (milli) Hours - Dataproc Ser...</td>\n",
       "      <td>0.000089000</td>\n",
       "      <td>22043.298611</td>\n",
       "      <td>1.961854</td>\n",
       "    </tr>\n",
       "    <tr>\n",
       "      <th>2</th>\n",
       "      <td>2024-03-23</td>\n",
       "      <td>0</td>\n",
       "      <td>A065-18C2-08FA</td>\n",
       "      <td>Data Compute Unit (milli) Hours - Dataproc Ser...</td>\n",
       "      <td>0.000100232</td>\n",
       "      <td>10963.938611</td>\n",
       "      <td>1.098937</td>\n",
       "    </tr>\n",
       "    <tr>\n",
       "      <th>3</th>\n",
       "      <td>2024-03-23</td>\n",
       "      <td>1</td>\n",
       "      <td>A065-18C2-08FA</td>\n",
       "      <td>Data Compute Unit (milli) Hours - Dataproc Ser...</td>\n",
       "      <td>0.000100232</td>\n",
       "      <td>11849.999167</td>\n",
       "      <td>1.187749</td>\n",
       "    </tr>\n",
       "    <tr>\n",
       "      <th>4</th>\n",
       "      <td>2024-03-23</td>\n",
       "      <td>2</td>\n",
       "      <td>A065-18C2-08FA</td>\n",
       "      <td>Data Compute Unit (milli) Hours - Dataproc Ser...</td>\n",
       "      <td>0.000100232</td>\n",
       "      <td>11850.000000</td>\n",
       "      <td>1.187749</td>\n",
       "    </tr>\n",
       "    <tr>\n",
       "      <th>5</th>\n",
       "      <td>2024-03-23</td>\n",
       "      <td>3</td>\n",
       "      <td>A065-18C2-08FA</td>\n",
       "      <td>Data Compute Unit (milli) Hours - Dataproc Ser...</td>\n",
       "      <td>0.000100232</td>\n",
       "      <td>11850.000000</td>\n",
       "      <td>1.187749</td>\n",
       "    </tr>\n",
       "    <tr>\n",
       "      <th>6</th>\n",
       "      <td>2024-03-23</td>\n",
       "      <td>4</td>\n",
       "      <td>A065-18C2-08FA</td>\n",
       "      <td>Data Compute Unit (milli) Hours - Dataproc Ser...</td>\n",
       "      <td>0.000100232</td>\n",
       "      <td>11850.000000</td>\n",
       "      <td>1.187749</td>\n",
       "    </tr>\n",
       "    <tr>\n",
       "      <th>7</th>\n",
       "      <td>2024-03-23</td>\n",
       "      <td>5</td>\n",
       "      <td>A065-18C2-08FA</td>\n",
       "      <td>Data Compute Unit (milli) Hours - Dataproc Ser...</td>\n",
       "      <td>0.000100232</td>\n",
       "      <td>11850.000000</td>\n",
       "      <td>1.187749</td>\n",
       "    </tr>\n",
       "    <tr>\n",
       "      <th>8</th>\n",
       "      <td>2024-03-23</td>\n",
       "      <td>6</td>\n",
       "      <td>A065-18C2-08FA</td>\n",
       "      <td>Data Compute Unit (milli) Hours - Dataproc Ser...</td>\n",
       "      <td>0.000100232</td>\n",
       "      <td>11850.000000</td>\n",
       "      <td>1.187749</td>\n",
       "    </tr>\n",
       "    <tr>\n",
       "      <th>9</th>\n",
       "      <td>2024-03-23</td>\n",
       "      <td>7</td>\n",
       "      <td>A065-18C2-08FA</td>\n",
       "      <td>Data Compute Unit (milli) Hours - Dataproc Ser...</td>\n",
       "      <td>0.000100232</td>\n",
       "      <td>11850.000000</td>\n",
       "      <td>1.187749</td>\n",
       "    </tr>\n",
       "    <tr>\n",
       "      <th>10</th>\n",
       "      <td>2024-03-23</td>\n",
       "      <td>8</td>\n",
       "      <td>A065-18C2-08FA</td>\n",
       "      <td>Data Compute Unit (milli) Hours - Dataproc Ser...</td>\n",
       "      <td>0.000100232</td>\n",
       "      <td>11850.000000</td>\n",
       "      <td>1.187749</td>\n",
       "    </tr>\n",
       "    <tr>\n",
       "      <th>11</th>\n",
       "      <td>2024-03-23</td>\n",
       "      <td>9</td>\n",
       "      <td>A065-18C2-08FA</td>\n",
       "      <td>Data Compute Unit (milli) Hours - Dataproc Ser...</td>\n",
       "      <td>0.000100232</td>\n",
       "      <td>11850.000000</td>\n",
       "      <td>1.187749</td>\n",
       "    </tr>\n",
       "    <tr>\n",
       "      <th>12</th>\n",
       "      <td>2024-03-23</td>\n",
       "      <td>10</td>\n",
       "      <td>A065-18C2-08FA</td>\n",
       "      <td>Data Compute Unit (milli) Hours - Dataproc Ser...</td>\n",
       "      <td>0.000100232</td>\n",
       "      <td>11850.000000</td>\n",
       "      <td>1.187749</td>\n",
       "    </tr>\n",
       "    <tr>\n",
       "      <th>13</th>\n",
       "      <td>2024-03-23</td>\n",
       "      <td>11</td>\n",
       "      <td>A065-18C2-08FA</td>\n",
       "      <td>Data Compute Unit (milli) Hours - Dataproc Ser...</td>\n",
       "      <td>0.000100232</td>\n",
       "      <td>11850.000000</td>\n",
       "      <td>1.187749</td>\n",
       "    </tr>\n",
       "    <tr>\n",
       "      <th>14</th>\n",
       "      <td>2024-03-23</td>\n",
       "      <td>12</td>\n",
       "      <td>A065-18C2-08FA</td>\n",
       "      <td>Data Compute Unit (milli) Hours - Dataproc Ser...</td>\n",
       "      <td>0.000100232</td>\n",
       "      <td>11850.000000</td>\n",
       "      <td>1.187749</td>\n",
       "    </tr>\n",
       "    <tr>\n",
       "      <th>15</th>\n",
       "      <td>2024-03-23</td>\n",
       "      <td>13</td>\n",
       "      <td>A065-18C2-08FA</td>\n",
       "      <td>Data Compute Unit (milli) Hours - Dataproc Ser...</td>\n",
       "      <td>0.000100232</td>\n",
       "      <td>11850.000000</td>\n",
       "      <td>1.187749</td>\n",
       "    </tr>\n",
       "    <tr>\n",
       "      <th>16</th>\n",
       "      <td>2024-03-23</td>\n",
       "      <td>14</td>\n",
       "      <td>A065-18C2-08FA</td>\n",
       "      <td>Data Compute Unit (milli) Hours - Dataproc Ser...</td>\n",
       "      <td>0.000100232</td>\n",
       "      <td>11850.000000</td>\n",
       "      <td>1.187749</td>\n",
       "    </tr>\n",
       "    <tr>\n",
       "      <th>17</th>\n",
       "      <td>2024-03-23</td>\n",
       "      <td>15</td>\n",
       "      <td>A065-18C2-08FA</td>\n",
       "      <td>Data Compute Unit (milli) Hours - Dataproc Ser...</td>\n",
       "      <td>0.000100232</td>\n",
       "      <td>11850.000000</td>\n",
       "      <td>1.187749</td>\n",
       "    </tr>\n",
       "    <tr>\n",
       "      <th>18</th>\n",
       "      <td>2024-03-23</td>\n",
       "      <td>16</td>\n",
       "      <td>A065-18C2-08FA</td>\n",
       "      <td>Data Compute Unit (milli) Hours - Dataproc Ser...</td>\n",
       "      <td>0.000100232</td>\n",
       "      <td>11850.000000</td>\n",
       "      <td>1.187749</td>\n",
       "    </tr>\n",
       "    <tr>\n",
       "      <th>19</th>\n",
       "      <td>2024-03-23</td>\n",
       "      <td>17</td>\n",
       "      <td>A065-18C2-08FA</td>\n",
       "      <td>Data Compute Unit (milli) Hours - Dataproc Ser...</td>\n",
       "      <td>0.000100232</td>\n",
       "      <td>11850.000000</td>\n",
       "      <td>1.187749</td>\n",
       "    </tr>\n",
       "    <tr>\n",
       "      <th>20</th>\n",
       "      <td>2024-03-23</td>\n",
       "      <td>18</td>\n",
       "      <td>A065-18C2-08FA</td>\n",
       "      <td>Data Compute Unit (milli) Hours - Dataproc Ser...</td>\n",
       "      <td>0.000100232</td>\n",
       "      <td>11850.000000</td>\n",
       "      <td>1.187749</td>\n",
       "    </tr>\n",
       "    <tr>\n",
       "      <th>21</th>\n",
       "      <td>2024-03-23</td>\n",
       "      <td>19</td>\n",
       "      <td>A065-18C2-08FA</td>\n",
       "      <td>Data Compute Unit (milli) Hours - Dataproc Ser...</td>\n",
       "      <td>0.000100232</td>\n",
       "      <td>11850.000000</td>\n",
       "      <td>1.187749</td>\n",
       "    </tr>\n",
       "    <tr>\n",
       "      <th>22</th>\n",
       "      <td>2024-03-23</td>\n",
       "      <td>20</td>\n",
       "      <td>A065-18C2-08FA</td>\n",
       "      <td>Data Compute Unit (milli) Hours - Dataproc Ser...</td>\n",
       "      <td>0.000100232</td>\n",
       "      <td>11850.000000</td>\n",
       "      <td>1.187749</td>\n",
       "    </tr>\n",
       "    <tr>\n",
       "      <th>23</th>\n",
       "      <td>2024-03-23</td>\n",
       "      <td>21</td>\n",
       "      <td>A065-18C2-08FA</td>\n",
       "      <td>Data Compute Unit (milli) Hours - Dataproc Ser...</td>\n",
       "      <td>0.000100232</td>\n",
       "      <td>11850.000000</td>\n",
       "      <td>1.187749</td>\n",
       "    </tr>\n",
       "    <tr>\n",
       "      <th>24</th>\n",
       "      <td>2024-03-23</td>\n",
       "      <td>22</td>\n",
       "      <td>A065-18C2-08FA</td>\n",
       "      <td>Data Compute Unit (milli) Hours - Dataproc Ser...</td>\n",
       "      <td>0.000100232</td>\n",
       "      <td>11850.000000</td>\n",
       "      <td>1.187749</td>\n",
       "    </tr>\n",
       "    <tr>\n",
       "      <th>25</th>\n",
       "      <td>2024-03-23</td>\n",
       "      <td>23</td>\n",
       "      <td>A065-18C2-08FA</td>\n",
       "      <td>Data Compute Unit (milli) Hours - Dataproc Ser...</td>\n",
       "      <td>0.000100232</td>\n",
       "      <td>11850.000000</td>\n",
       "      <td>1.187749</td>\n",
       "    </tr>\n",
       "    <tr>\n",
       "      <th>26</th>\n",
       "      <td>2024-03-24</td>\n",
       "      <td>0</td>\n",
       "      <td>A065-18C2-08FA</td>\n",
       "      <td>Data Compute Unit (milli) Hours - Dataproc Ser...</td>\n",
       "      <td>0.000100232</td>\n",
       "      <td>2229.268889</td>\n",
       "      <td>0.223444</td>\n",
       "    </tr>\n",
       "    <tr>\n",
       "      <th>27</th>\n",
       "      <td>2024-04-22</td>\n",
       "      <td>15</td>\n",
       "      <td>A486-6040-07FE</td>\n",
       "      <td>Data Compute Unit (milli) Hours - Dataproc Ser...</td>\n",
       "      <td>0.000089000</td>\n",
       "      <td>3556.234722</td>\n",
       "      <td>0.316505</td>\n",
       "    </tr>\n",
       "    <tr>\n",
       "      <th>28</th>\n",
       "      <td>2024-04-22</td>\n",
       "      <td>15</td>\n",
       "      <td>A065-18C2-08FA</td>\n",
       "      <td>Data Compute Unit (milli) Hours - Dataproc Ser...</td>\n",
       "      <td>0.000100232</td>\n",
       "      <td>2910.310278</td>\n",
       "      <td>0.291706</td>\n",
       "    </tr>\n",
       "    <tr>\n",
       "      <th>29</th>\n",
       "      <td>2024-04-22</td>\n",
       "      <td>16</td>\n",
       "      <td>A486-6040-07FE</td>\n",
       "      <td>Data Compute Unit (milli) Hours - Dataproc Ser...</td>\n",
       "      <td>0.000089000</td>\n",
       "      <td>1058.423889</td>\n",
       "      <td>0.094200</td>\n",
       "    </tr>\n",
       "    <tr>\n",
       "      <th>30</th>\n",
       "      <td>2024-04-22</td>\n",
       "      <td>16</td>\n",
       "      <td>A065-18C2-08FA</td>\n",
       "      <td>Data Compute Unit (milli) Hours - Dataproc Ser...</td>\n",
       "      <td>0.000100232</td>\n",
       "      <td>2979.960278</td>\n",
       "      <td>0.298687</td>\n",
       "    </tr>\n",
       "    <tr>\n",
       "      <th>31</th>\n",
       "      <td>2024-05-29</td>\n",
       "      <td>20</td>\n",
       "      <td>A486-6040-07FE</td>\n",
       "      <td>Data Compute Unit (milli) Hours - Dataproc Ser...</td>\n",
       "      <td>0.000089000</td>\n",
       "      <td>21327.533889</td>\n",
       "      <td>1.898151</td>\n",
       "    </tr>\n",
       "    <tr>\n",
       "      <th>32</th>\n",
       "      <td>2024-06-04</td>\n",
       "      <td>13</td>\n",
       "      <td>A486-6040-07FE</td>\n",
       "      <td>Data Compute Unit (milli) Hours - Dataproc Ser...</td>\n",
       "      <td>0.000089000</td>\n",
       "      <td>1936.050833</td>\n",
       "      <td>0.172309</td>\n",
       "    </tr>\n",
       "    <tr>\n",
       "      <th>33</th>\n",
       "      <td>2024-06-04</td>\n",
       "      <td>14</td>\n",
       "      <td>A486-6040-07FE</td>\n",
       "      <td>Data Compute Unit (milli) Hours - Dataproc Ser...</td>\n",
       "      <td>0.000089000</td>\n",
       "      <td>6321.680556</td>\n",
       "      <td>0.562630</td>\n",
       "    </tr>\n",
       "    <tr>\n",
       "      <th>34</th>\n",
       "      <td>2024-06-18</td>\n",
       "      <td>12</td>\n",
       "      <td>A486-6040-07FE</td>\n",
       "      <td>Data Compute Unit (milli) Hours - Dataproc Ser...</td>\n",
       "      <td>0.000089000</td>\n",
       "      <td>13069.699444</td>\n",
       "      <td>1.163203</td>\n",
       "    </tr>\n",
       "    <tr>\n",
       "      <th>35</th>\n",
       "      <td>2024-11-27</td>\n",
       "      <td>14</td>\n",
       "      <td>A486-6040-07FE</td>\n",
       "      <td>Data Compute Unit (milli) Hours - Dataproc Ser...</td>\n",
       "      <td>0.000089000</td>\n",
       "      <td>21816.631944</td>\n",
       "      <td>1.941680</td>\n",
       "    </tr>\n",
       "    <tr>\n",
       "      <th>36</th>\n",
       "      <td>2025-02-12</td>\n",
       "      <td>17</td>\n",
       "      <td>EC7A-EF05-537E</td>\n",
       "      <td>Data Compute Unit (milli) Hours - Dataproc Ser...</td>\n",
       "      <td>0.000060000</td>\n",
       "      <td>607.366944</td>\n",
       "      <td>0.036442</td>\n",
       "    </tr>\n",
       "    <tr>\n",
       "      <th>37</th>\n",
       "      <td>2025-02-12</td>\n",
       "      <td>18</td>\n",
       "      <td>EC7A-EF05-537E</td>\n",
       "      <td>Data Compute Unit (milli) Hours - Dataproc Ser...</td>\n",
       "      <td>0.000060000</td>\n",
       "      <td>594.935278</td>\n",
       "      <td>0.035696</td>\n",
       "    </tr>\n",
       "  </tbody>\n",
       "</table>\n",
       "</div>"
      ],
      "text/plain": [
       "          date  hour          sku_id  \\\n",
       "0   2024-03-21     0  A486-6040-07FE   \n",
       "1   2024-03-21    21  A486-6040-07FE   \n",
       "2   2024-03-23     0  A065-18C2-08FA   \n",
       "3   2024-03-23     1  A065-18C2-08FA   \n",
       "4   2024-03-23     2  A065-18C2-08FA   \n",
       "5   2024-03-23     3  A065-18C2-08FA   \n",
       "6   2024-03-23     4  A065-18C2-08FA   \n",
       "7   2024-03-23     5  A065-18C2-08FA   \n",
       "8   2024-03-23     6  A065-18C2-08FA   \n",
       "9   2024-03-23     7  A065-18C2-08FA   \n",
       "10  2024-03-23     8  A065-18C2-08FA   \n",
       "11  2024-03-23     9  A065-18C2-08FA   \n",
       "12  2024-03-23    10  A065-18C2-08FA   \n",
       "13  2024-03-23    11  A065-18C2-08FA   \n",
       "14  2024-03-23    12  A065-18C2-08FA   \n",
       "15  2024-03-23    13  A065-18C2-08FA   \n",
       "16  2024-03-23    14  A065-18C2-08FA   \n",
       "17  2024-03-23    15  A065-18C2-08FA   \n",
       "18  2024-03-23    16  A065-18C2-08FA   \n",
       "19  2024-03-23    17  A065-18C2-08FA   \n",
       "20  2024-03-23    18  A065-18C2-08FA   \n",
       "21  2024-03-23    19  A065-18C2-08FA   \n",
       "22  2024-03-23    20  A065-18C2-08FA   \n",
       "23  2024-03-23    21  A065-18C2-08FA   \n",
       "24  2024-03-23    22  A065-18C2-08FA   \n",
       "25  2024-03-23    23  A065-18C2-08FA   \n",
       "26  2024-03-24     0  A065-18C2-08FA   \n",
       "27  2024-04-22    15  A486-6040-07FE   \n",
       "28  2024-04-22    15  A065-18C2-08FA   \n",
       "29  2024-04-22    16  A486-6040-07FE   \n",
       "30  2024-04-22    16  A065-18C2-08FA   \n",
       "31  2024-05-29    20  A486-6040-07FE   \n",
       "32  2024-06-04    13  A486-6040-07FE   \n",
       "33  2024-06-04    14  A486-6040-07FE   \n",
       "34  2024-06-18    12  A486-6040-07FE   \n",
       "35  2024-11-27    14  A486-6040-07FE   \n",
       "36  2025-02-12    17  EC7A-EF05-537E   \n",
       "37  2025-02-12    18  EC7A-EF05-537E   \n",
       "\n",
       "                                      sku_description effective_price  \\\n",
       "0   Data Compute Unit (milli) Hours - Dataproc Ser...     0.000089000   \n",
       "1   Data Compute Unit (milli) Hours - Dataproc Ser...     0.000089000   \n",
       "2   Data Compute Unit (milli) Hours - Dataproc Ser...     0.000100232   \n",
       "3   Data Compute Unit (milli) Hours - Dataproc Ser...     0.000100232   \n",
       "4   Data Compute Unit (milli) Hours - Dataproc Ser...     0.000100232   \n",
       "5   Data Compute Unit (milli) Hours - Dataproc Ser...     0.000100232   \n",
       "6   Data Compute Unit (milli) Hours - Dataproc Ser...     0.000100232   \n",
       "7   Data Compute Unit (milli) Hours - Dataproc Ser...     0.000100232   \n",
       "8   Data Compute Unit (milli) Hours - Dataproc Ser...     0.000100232   \n",
       "9   Data Compute Unit (milli) Hours - Dataproc Ser...     0.000100232   \n",
       "10  Data Compute Unit (milli) Hours - Dataproc Ser...     0.000100232   \n",
       "11  Data Compute Unit (milli) Hours - Dataproc Ser...     0.000100232   \n",
       "12  Data Compute Unit (milli) Hours - Dataproc Ser...     0.000100232   \n",
       "13  Data Compute Unit (milli) Hours - Dataproc Ser...     0.000100232   \n",
       "14  Data Compute Unit (milli) Hours - Dataproc Ser...     0.000100232   \n",
       "15  Data Compute Unit (milli) Hours - Dataproc Ser...     0.000100232   \n",
       "16  Data Compute Unit (milli) Hours - Dataproc Ser...     0.000100232   \n",
       "17  Data Compute Unit (milli) Hours - Dataproc Ser...     0.000100232   \n",
       "18  Data Compute Unit (milli) Hours - Dataproc Ser...     0.000100232   \n",
       "19  Data Compute Unit (milli) Hours - Dataproc Ser...     0.000100232   \n",
       "20  Data Compute Unit (milli) Hours - Dataproc Ser...     0.000100232   \n",
       "21  Data Compute Unit (milli) Hours - Dataproc Ser...     0.000100232   \n",
       "22  Data Compute Unit (milli) Hours - Dataproc Ser...     0.000100232   \n",
       "23  Data Compute Unit (milli) Hours - Dataproc Ser...     0.000100232   \n",
       "24  Data Compute Unit (milli) Hours - Dataproc Ser...     0.000100232   \n",
       "25  Data Compute Unit (milli) Hours - Dataproc Ser...     0.000100232   \n",
       "26  Data Compute Unit (milli) Hours - Dataproc Ser...     0.000100232   \n",
       "27  Data Compute Unit (milli) Hours - Dataproc Ser...     0.000089000   \n",
       "28  Data Compute Unit (milli) Hours - Dataproc Ser...     0.000100232   \n",
       "29  Data Compute Unit (milli) Hours - Dataproc Ser...     0.000089000   \n",
       "30  Data Compute Unit (milli) Hours - Dataproc Ser...     0.000100232   \n",
       "31  Data Compute Unit (milli) Hours - Dataproc Ser...     0.000089000   \n",
       "32  Data Compute Unit (milli) Hours - Dataproc Ser...     0.000089000   \n",
       "33  Data Compute Unit (milli) Hours - Dataproc Ser...     0.000089000   \n",
       "34  Data Compute Unit (milli) Hours - Dataproc Ser...     0.000089000   \n",
       "35  Data Compute Unit (milli) Hours - Dataproc Ser...     0.000089000   \n",
       "36  Data Compute Unit (milli) Hours - Dataproc Ser...     0.000060000   \n",
       "37  Data Compute Unit (milli) Hours - Dataproc Ser...     0.000060000   \n",
       "\n",
       "    amount_in_pricing_units  total_price  \n",
       "0              11721.573333     1.043220  \n",
       "1              22043.298611     1.961854  \n",
       "2              10963.938611     1.098937  \n",
       "3              11849.999167     1.187749  \n",
       "4              11850.000000     1.187749  \n",
       "5              11850.000000     1.187749  \n",
       "6              11850.000000     1.187749  \n",
       "7              11850.000000     1.187749  \n",
       "8              11850.000000     1.187749  \n",
       "9              11850.000000     1.187749  \n",
       "10             11850.000000     1.187749  \n",
       "11             11850.000000     1.187749  \n",
       "12             11850.000000     1.187749  \n",
       "13             11850.000000     1.187749  \n",
       "14             11850.000000     1.187749  \n",
       "15             11850.000000     1.187749  \n",
       "16             11850.000000     1.187749  \n",
       "17             11850.000000     1.187749  \n",
       "18             11850.000000     1.187749  \n",
       "19             11850.000000     1.187749  \n",
       "20             11850.000000     1.187749  \n",
       "21             11850.000000     1.187749  \n",
       "22             11850.000000     1.187749  \n",
       "23             11850.000000     1.187749  \n",
       "24             11850.000000     1.187749  \n",
       "25             11850.000000     1.187749  \n",
       "26              2229.268889     0.223444  \n",
       "27              3556.234722     0.316505  \n",
       "28              2910.310278     0.291706  \n",
       "29              1058.423889     0.094200  \n",
       "30              2979.960278     0.298687  \n",
       "31             21327.533889     1.898151  \n",
       "32              1936.050833     0.172309  \n",
       "33              6321.680556     0.562630  \n",
       "34             13069.699444     1.163203  \n",
       "35             21816.631944     1.941680  \n",
       "36               607.366944     0.036442  \n",
       "37               594.935278     0.035696  "
      ]
     },
     "execution_count": 31,
     "metadata": {},
     "output_type": "execute_result"
    }
   ],
   "source": [
    "%%bigquery\n",
    "$SQL_QUERY"
   ]
  },
  {
   "cell_type": "markdown",
   "id": "45429e85-6532-4d97-b8d7-eb205ff98787",
   "metadata": {
    "tags": []
   },
   "source": [
    "## <a id=\"visualize\"></a>Visualize in Looker Studio "
   ]
  },
  {
   "cell_type": "markdown",
   "id": "a3bc00d4-65d6-4f9f-a1b0-159ef7882972",
   "metadata": {},
   "source": [
    "With the refined tables **operations_model** and **billing_model** in your dataset **dataproc_analysis**, you can now generate the following dashboard in Looker Studio. This can provide business and FinOps users a simple pane of glass to understad Dataproc cluster usage and billing."
   ]
  },
  {
   "cell_type": "markdown",
   "id": "90b7f661-0a47-4bec-a5fe-69217176cdbc",
   "metadata": {},
   "source": [
    "![dataproc-jobs.png](../../docs/images/dataproc_cluster_insights_bigquery/dataproc-jobs.png)"
   ]
  },
  {
   "cell_type": "code",
   "execution_count": null,
   "id": "4e518fb2-36da-43d7-90f4-beb78042903a",
   "metadata": {},
   "outputs": [],
   "source": []
  }
 ],
 "metadata": {
  "environment": {
   "kernel": "conda-base-py",
   "name": "workbench-notebooks.m121",
   "type": "gcloud",
   "uri": "us-docker.pkg.dev/deeplearning-platform-release/gcr.io/workbench-notebooks:m121"
  },
  "kernelspec": {
   "display_name": "Python 3 (ipykernel) (Local)",
   "language": "python",
   "name": "conda-base-py"
  },
  "language_info": {
   "codemirror_mode": {
    "name": "ipython",
    "version": 3
   },
   "file_extension": ".py",
   "mimetype": "text/x-python",
   "name": "python",
   "nbconvert_exporter": "python",
   "pygments_lexer": "ipython3",
   "version": "3.10.14"
  }
 },
 "nbformat": 4,
 "nbformat_minor": 5
}
