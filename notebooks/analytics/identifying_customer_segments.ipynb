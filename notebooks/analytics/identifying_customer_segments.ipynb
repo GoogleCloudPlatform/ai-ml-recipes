{
  "cells": [
    {
      "cell_type": "code",
      "id": "rRZ7j28KcY5ZyKWv7dQnxjxF",
      "metadata": {
        "tags": [],
        "id": "rRZ7j28KcY5ZyKWv7dQnxjxF"
      },
      "source": [
        "# Copyright 2024 Google LLC\n",
        "#\n",
        "# Licensed under the Apache License, Version 2.0 (the \"License\");\n",
        "# you may not use this file except in compliance with the License.\n",
        "# You may obtain a copy of the License at\n",
        "#\n",
        "#     https://www.apache.org/licenses/LICENSE-2.0\n",
        "#\n",
        "# Unless required by applicable law or agreed to in writing, software\n",
        "# distributed under the License is distributed on an \"AS IS\" BASIS,\n",
        "# WITHOUT WARRANTIES OR CONDITIONS OF ANY KIND, either express or implied.\n",
        "# See the License for the specific language governing permissions and\n",
        "# limitations under the License."
      ],
      "execution_count": null,
      "outputs": []
    },
    {
      "cell_type": "markdown",
      "source": [
        "# Identifying Customer Segments for Targeted Marketing"
      ],
      "metadata": {
        "id": "Z_Qroe-RvDQQ"
      },
      "id": "Z_Qroe-RvDQQ"
    },
    {
      "cell_type": "markdown",
      "source": [
        "**The Business Challenge:** Marketing teams often need to optimize budget allocation to maximize return on investment (ROI). A one-size-fits-all marketing strategy is inefficient, leading to wasted ad spend and low engagement, as the messaging is not relevant to all recipients. The business problem is to develop a systematic, data-driven method for partitioning a customer base into distinct groups based on their behavior, enabling more effective and personalized marketing campaigns.\n",
        "\n",
        "While basic segmentation using simple demographic data is straightforward, it often fails to capture the more nuanced differences in customer purchasing patterns. The analytical challenge is to move beyond these simple heuristics and identify meaningful segments based on complex behavioral data, such as purchase frequency, monetary value, and product category preferences. The goal is to produce segments that are not only statistically distinct but also interpretable and actionable for the marketing team.\n",
        "\n"
      ],
      "metadata": {
        "id": "PUDZ25xLvDpS"
      },
      "id": "PUDZ25xLvDpS"
    },
    {
      "cell_type": "markdown",
      "source": [
        "**The Data Science Approach:** In this use case, we will combine unsupervised machine learning with generative AI to create and characterize customer segments. First, we will apply a k-means clustering algorithm directly within BigQuery ML to efficiently partition the entire customer dataset based on purchasing behavior within BigQuery.\n",
        "\n",
        "Clustering effectively groups customers and generates a cluster ID. The second part of our approach is to automate the interpretation of these segments to provide business context. We will use a generative AI function to analyze the behavioral data of customers within each cluster and programmatically generate qualitative descriptions, including concise segment name, segment summary and tailored marketing suggestions for each segment."
      ],
      "metadata": {
        "id": "B9huAQgmvUjL"
      },
      "id": "B9huAQgmvUjL"
    },
    {
      "cell_type": "code",
      "source": [
        "#@title 1. Prepare Customer Data: Consolidate and clean customer purchasing data for analysis.\n",
        "\n",
        "%%bigquery\n",
        "SELECT * FROM `bigquery-public-data.thelook_ecommerce.orders` LIMIT 1000;"
      ],
      "metadata": {
        "id": "YAh27zfewa03"
      },
      "id": "YAh27zfewa03",
      "execution_count": null,
      "outputs": []
    },
    {
      "cell_type": "markdown",
      "source": [
        "### Instructions:\n",
        "\n",
        "*   Replace PROJECT_ID and DATASET_ID with your own project_id and daatset_id.\n",
        "*   Create a connection (image_embed_conn) in the US region and give service account access by following these steps [here](https://cloud.google.com/bigquery/docs/generate-visual-content-embedding#create_a_connection).\n"
      ],
      "metadata": {
        "id": "TmxltjB8IuSU"
      },
      "id": "TmxltjB8IuSU"
    },
    {
      "cell_type": "code",
      "source": [
        "\n",
        "%%bigquery\n",
        "CREATE OR REPLACE TABLE {PROJECT_ID}.{DATASET_ID}.customer_date AS(\n",
        "  SELECT\n",
        "  users.id,\n",
        "  SUM(order_items.sale_price) AS total_spend,\n",
        "  COUNT(DISTINCT orders.order_id) AS number_of_orders,\n",
        "  MAX(orders.created_at) AS last_purchase_date\n",
        "FROM\n",
        "  `bigquery-public-data.thelook_ecommerce.users` AS users\n",
        "JOIN\n",
        "  `bigquery-public-data.thelook_ecommerce.orders` AS orders\n",
        "ON\n",
        "  users.id = orders.user_id\n",
        "JOIN\n",
        "  `bigquery-public-data.thelook_ecommerce.order_items` AS order_items\n",
        "ON\n",
        "  orders.order_id = order_items.order_id\n",
        "GROUP BY\n",
        "  users.id );"
      ],
      "metadata": {
        "id": "olb6Rz0yzsU7"
      },
      "id": "olb6Rz0yzsU7",
      "execution_count": null,
      "outputs": []
    },
    {
      "cell_type": "code",
      "source": [
        "%%bigquery\n",
        "SELECT * FROM `{PROJECT_ID}.{DATASET_ID}.customer_date` LIMIT 1000;"
      ],
      "metadata": {
        "id": "bAj6eGAmz42u"
      },
      "id": "bAj6eGAmz42u",
      "execution_count": null,
      "outputs": []
    },
    {
      "cell_type": "code",
      "source": [
        "#@title Train a Clustering Model\n",
        "# Create and train a k-means clustering model using a single SQL query in BigQuery ML to group customers into a specified number of segments.\n",
        "\n",
        "%%bigquery\n",
        "CREATE OR REPLACE MODEL `{PROJECT_ID}.{DATASET_ID}.customer_clusters`\n",
        "OPTIONS(model_type='kmeans', num_clusters=3, standardize_features=TRUE) AS\n",
        "SELECT\n",
        "  id,\n",
        "  total_spend,\n",
        "  number_of_orders,\n",
        "  last_purchase_date\n",
        "FROM `{PROJECT_ID}.{DATASET_ID}.customer_date`;"
      ],
      "metadata": {
        "id": "wtdKqX6azrL_"
      },
      "id": "wtdKqX6azrL_",
      "execution_count": null,
      "outputs": []
    },
    {
      "cell_type": "code",
      "source": [
        "#@title Assign Customers to Segments\n",
        "# Use the ML.PREDICT function to assign each customer to their respective segment.\n",
        "\n",
        "%%bigquery\n",
        "CREATE OR REPLACE TABLE `{PROJECT_ID}.{DATASET_ID}.predictions` AS(\n",
        "SELECT\n",
        "id,\n",
        "centroid_id,\n",
        "total_spend,\n",
        "number_of_orders,\n",
        "last_purchase_date\n",
        "FROM\n",
        "  ML.PREDICT(MODEL `{PROJECT_ID}.{DATASET_ID}.customer_clusters`,\n",
        "    (SELECT * FROM\n",
        "       `{PROJECT_ID}.{DATASET_ID}.customer_date`)\n",
        "\n",
        "));\n"
      ],
      "metadata": {
        "id": "8HT4bFwf1SXS"
      },
      "id": "8HT4bFwf1SXS",
      "execution_count": null,
      "outputs": []
    },
    {
      "cell_type": "code",
      "source": [
        "%%bigquery\n",
        "SELECT * FROM `{PROJECT_ID}.{DATASET_ID}.predictions` LIMIT 50;"
      ],
      "metadata": {
        "id": "N2dmYZkX1uq8"
      },
      "id": "N2dmYZkX1uq8",
      "execution_count": null,
      "outputs": []
    },
    {
      "cell_type": "markdown",
      "source": [
        "### **4. Generate Segment Personas with AI:**\n",
        "Use the AI.GENERATE_TABLE() function to analyze the members of each cluster and automatically generate a descriptive persona, a summary of their behavior, and potential marketing strategies for that segment.\n"
      ],
      "metadata": {
        "id": "d07jgX6evezX"
      },
      "id": "d07jgX6evezX"
    },
    {
      "cell_type": "code",
      "source": [
        "# Create a BQML model to use the AI functions\n",
        "# Create a connection (ai_function) in the US region and give service account access by following these steps here: https://cloud.google.com/bigquery/docs/generate-table#create_a_connection\n",
        "\n",
        "%%bigquery\n",
        "CREATE OR REPLACE MODEL`{PROJECT_ID}.{DATASET_ID}.ai_model`\n",
        "REMOTE WITH CONNECTION `{PROJECT_ID}.us.ai_function`\n",
        "OPTIONS (ENDPOINT = 'gemini-2.5-flash');"
      ],
      "metadata": {
        "id": "NcC2-4Zc1nbL"
      },
      "id": "NcC2-4Zc1nbL",
      "execution_count": null,
      "outputs": []
    },
    {
      "cell_type": "code",
      "source": [
        "%%bigquery\n",
        "\n",
        "CREATE OR REPLACE TABLE `{PROJECT_ID}.{DATASET_ID}.segment_campaigns` AS(\n",
        "SELECT\n",
        "  *\n",
        "FROM\n",
        "  AI.GENERATE_TABLE(\n",
        "    MODEL `{PROJECT_ID}.{DATASET_ID}.ai_model`,\n",
        "    (\n",
        "      SELECT\n",
        "          'For the customer segment with centroid_id, provide a concise segment_name, a segment_summary (1-2 sentences), and 3 numbered marketing_suggestions in a list based on the provided metrics. For context, these metrics are from an ecommerce store.'\n",
        "          AS prompt\n",
        "      FROM (\n",
        "        SELECT\n",
        "          CAST(centroid_id AS STRING) AS centroid_id,\n",
        "          AVG(total_spend) AS avg_total_spend,\n",
        "          AVG(number_of_orders) AS avg_number_of_orders,\n",
        "          AVG(TIMESTAMP_DIFF(CURRENT_TIMESTAMP(), last_purchase_date, DAY)) AS avg_time_since_last_purchase_days\n",
        "        FROM\n",
        "          `{PROJECT_ID}.{DATASET_ID}.predictions`\n",
        "        GROUP BY\n",
        "          centroid_id\n",
        "      )\n",
        "    ),\n",
        "     STRUCT (\"customer_segment STRING, segment_name STRING, segment_summary STRING, marketing_suggestions ARRAY<STRING>\" AS output_schema ))\n",
        ");"
      ],
      "metadata": {
        "id": "dnWe-AZ_2EkY"
      },
      "id": "dnWe-AZ_2EkY",
      "execution_count": null,
      "outputs": []
    },
    {
      "cell_type": "code",
      "source": [
        "%%bigquery\n",
        "SELECT * FROM `{PROJECT_ID}.{DATASET_ID}.segment_campaigns`"
      ],
      "metadata": {
        "id": "PVdgdKOM6aqf"
      },
      "id": "PVdgdKOM6aqf",
      "execution_count": null,
      "outputs": []
    }
  ],
  "metadata": {
    "kernelspec": {
      "display_name": "Python 3",
      "language": "python",
      "name": "python3"
    },
    "language_info": {
      "codemirror_mode": {
        "name": "ipython",
        "version": 3
      },
      "file_extension": ".py",
      "mimetype": "text/x-python",
      "name": "python",
      "nbconvert_exporter": "python",
      "pygments_lexer": "ipython3",
      "version": "3.10.10"
    },
    "colab": {
      "provenance": [],
      "name": "identifying_customer_segments",
      "gpuType": "L4"
    },
    "accelerator": "GPU"
  },
  "nbformat": 4,
  "nbformat_minor": 5
}