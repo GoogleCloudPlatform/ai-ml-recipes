{
  "cells": [
    {
      "cell_type": "code",
      "execution_count": null,
      "id": "rRZ7j28KcY5ZyKWv7dQnxjxF",
      "metadata": {
        "id": "rRZ7j28KcY5ZyKWv7dQnxjxF",
        "tags": []
      },
      "outputs": [],
      "source": [
        "# Copyright 2025 Google LLC\n",
        "#\n",
        "# Licensed under the Apache License, Version 2.0 (the \"License\");\n",
        "# you may not use this file except in compliance with the License.\n",
        "# You may obtain a copy of the License at\n",
        "#\n",
        "#     https://www.apache.org/licenses/LICENSE-2.0\n",
        "#\n",
        "# Unless required by applicable law or agreed to in writing, software\n",
        "# distributed under the License is distributed on an \"AS IS\" BASIS,\n",
        "# WITHOUT WARRANTIES OR CONDITIONS OF ANY KIND, either express or implied.\n",
        "# See the License for the specific language governing permissions and\n",
        "# limitations under the License.\n"
      ]
    },
    {
      "cell_type": "markdown",
      "id": "e0d04c0704f7",
      "metadata": {},
      "source": [
        "<table align=\"left\">\n",
        "  <td><a href=\"https://colab.research.google.com/github/GoogleCloudPlatform/ai-ml-recipes/blob/main/notebooks/analytics/identifying_customer_segments.ipynb\"><img src=\"https://avatars.githubusercontent.com/u/33467679?s=200&v=4\" width=\"32px\" alt=\"Colab logo\"> Run in Colab</a></td>\n",
        "  <td><a href=\"https://github.com/GoogleCloudPlatform/ai-ml-recipes/blob/main/notebooks/analytics/identifying_customer_segments.ipynb\"><img src=\"https://github.githubassets.com/assets/GitHub-Mark-ea2971cee799.png\" width=\"32px\" alt=\"GitHub logo\"> View on GitHub</a></td>\n",
        "  <td><a href=\"https://console.cloud.google.com/vertex-ai/workbench/deploy-notebook?download_url=https://raw.githubusercontent.com/GoogleCloudPlatform/ai-ml-recipes/main/notebooks/analytics/identifying_customer_segments.ipynb\"><img src=\"https://lh3.googleusercontent.com/UiNooY4LUgW_oTvpsNhPpQzsstV5W8F7rYgxgGBD85cWJoLmrOzhVs_ksK_vgx40SHs7jCqkTkCk=e14-rj-sc0xffffff-h130-w32\" alt=\"Vertex AI logo\"> Open in Vertex AI Workbench</a></td>\n",
        "  <td><a href=\"https://console.cloud.google.com/bigquery/import?url=https://github.com/GoogleCloudPlatform/ai-ml-recipes/blob/main/notebooks/analytics/identifying_customer_segments.ipynb\"><img src=\"https://encrypted-tbn0.gstatic.com/images?q=tbn:ANd9GcTW1gvOovVlbZAIZylUtf5Iu8-693qS1w5NJw&s\" alt=\"BQ logo\" width=\"35\"> Open in BQ Studio</a></td>\n",
        "  <td><a href=\"https://console.cloud.google.com/vertex-ai/colab/import/https:%2F%2Fraw.githubusercontent.com%2FGoogleCloudPlatform%2Fai-ml-recipes%2Fmain%2Fnotebooks/analytics/identifying_customer_segments.ipynb\"><img width=\"32px\" src=\"https://lh3.googleusercontent.com/JmcxdQi-qOpctIvWKgPtrzZdJJK-J3sWE1RsfjZNwshCFgE_9fULcNpuXYTilIR2hjwN\" alt=\"Google Cloud Colab Enterprise logo\"> Open in Colab Enterprise</a></td>\n",
        "</table>"
      ]
    },
    {
      "cell_type": "markdown",
      "id": "Z_Qroe-RvDQQ",
      "metadata": {
        "id": "Z_Qroe-RvDQQ"
      },
      "source": [
        "# Identifying Customer Segments for Targeted Marketing"
      ]
    },
    {
      "cell_type": "markdown",
      "id": "76c24018318e",
      "metadata": {},
      "source": [
        "## Overview"
      ]
    },
    {
      "cell_type": "markdown",
      "id": "PUDZ25xLvDpS",
      "metadata": {
        "id": "PUDZ25xLvDpS"
      },
      "source": [
        "**The Business Challenge:** Marketing teams often need to optimize budget allocation to maximize return on investment (ROI). A one-size-fits-all marketing strategy is inefficient, leading to wasted ad spend and low engagement, as the messaging is not relevant to all recipients. The business problem is to develop a systematic, data-driven method for partitioning a customer base into distinct groups based on their behavior, enabling more effective and personalized marketing campaigns.\n",
        "\n",
        "While basic segmentation using simple demographic data is straightforward, it often fails to capture the more nuanced differences in customer purchasing patterns. The analytical challenge is to move beyond these simple heuristics and identify meaningful segments based on complex behavioral data, such as purchase frequency, monetary value, and product category preferences. The goal is to produce segments that are not only statistically distinct but also interpretable and actionable for the marketing team.\n"
      ]
    },
    {
      "cell_type": "markdown",
      "id": "B9huAQgmvUjL",
      "metadata": {
        "id": "B9huAQgmvUjL"
      },
      "source": [
        "**The Data Science Approach:** In this use case, we will combine unsupervised machine learning with generative AI to create and characterize customer segments. First, we will apply a k-means clustering algorithm directly within BigQuery ML to efficiently partition the entire customer dataset based on purchasing behavior within BigQuery.\n",
        "\n",
        "Clustering effectively groups customers and generates a cluster ID. The second part of our approach is to automate the interpretation of these segments to provide business context. We will use a generative AI function to analyze the behavioral data of customers within each cluster and programmatically generate qualitative descriptions, including concise segment name, segment summary and tailored marketing suggestions for each segment."
      ]
    },
    {
      "cell_type": "markdown",
      "id": "771239ce343a",
      "metadata": {},
      "source": [
        "## Setup"
      ]
    },
    {
      "cell_type": "markdown",
      "id": "8b082ef2f84b",
      "metadata": {},
      "source": [
        "This section sets up the necessary environment and configurations for running the notebook. It includes defining project and dataset IDs and providing instructions for BigQuery connections."
      ]
    },
    {
      "cell_type": "markdown",
      "metadata": {},
      "source": [
        "Installs the `bigquery-magics` extension, which allows running BigQuery SQL queries directly within Jupyter notebooks."
      ]
    },
    {
      "cell_type": "code",
      "execution_count": null,
      "id": "4d8ca68b",
      "metadata": {},
      "outputs": [],
      "source": [
        "%pip install bigquery-magics -q"
      ]
    },
    {
      "cell_type": "markdown",
      "metadata": {},
      "source": [
        "Loads the `bigquery_magics` extension, enabling the use of `%%bigquery` cell magic for executing SQL."
      ]
    },
    {
      "cell_type": "code",
      "execution_count": null,
      "id": "a382ebbc",
      "metadata": {},
      "outputs": [],
      "source": [
        "%load_ext bigquery_magics"
      ]
    },
    {
      "cell_type": "markdown",
      "metadata": {},
      "source": [
        "### Configure Google Cloud Project and Dataset\n\nDefines the Google Cloud project ID, dataset ID, and geographic location to be used for BigQuery operations. **Remember to replace `PROJECT_ID` and `DATASET_ID` with your actual values.**"
      ]
    },
    {
      "cell_type": "code",
      "execution_count": null,
      "id": "6723c732",
      "metadata": {},
      "outputs": [],
      "source": [
        "PROJECT_ID = \"PROJECT_ID\"\n",
        "DATASET_ID = \"DATASET_ID\"\n",
        "LOCATION = \"US\""
      ]
    },
    {
      "cell_type": "markdown",
      "id": "b3e9444bb252",
      "metadata": {},
      "source": [
        "## Data Preparation"
      ]
    },
    {
      "cell_type": "markdown",
      "id": "06394e1e0a29",
      "metadata": {},
      "source": [
        "### Preview Raw Customer Order Data\n\nThis cell queries a sample of the raw customer order data from the `thelook_ecommerce` public dataset to understand its structure and content before further processing."
      ]
    },
    {
      "cell_type": "code",
      "execution_count": null,
      "id": "YAh27zfewa03",
      "metadata": {
        "id": "YAh27zfewa03"
      },
      "outputs": [],
      "source": [
        "%%bigquery\n",
        "SELECT * FROM `bigquery-public-data.thelook_ecommerce.orders` LIMIT 1000;"
      ]
    },
    {
      "cell_type": "markdown",
      "id": "d6350d75ae25",
      "metadata": {},
      "source": [
        "### Create Customer Features Table\n\nThis code aggregates raw order data to create a `customer_date` table, which includes `total_spend`, `number_of_orders`, and `last_purchase_date` for each customer. This table will be used for customer segmentation."
      ]
    },
    {
      "cell_type": "markdown",
      "metadata": {},
      "source": [
        "### Create BigQuery Dataset\n\nDefines a BigQuery SQL query to create a new dataset if it doesn't already exist. This dataset will store all tables created during this analysis."
      ]
    },
    {
      "cell_type": "code",
      "execution_count": null,
      "id": "49c190fc",
      "metadata": {},
      "outputs": [],
      "source": [
        "#@title Create BigQuery dataset if not exists\n",
        "\n",
        "query = f\"\"\"\n",
        "CREATE SCHEMA IF NOT EXISTS `{PROJECT_ID}.{DATASET_ID}`\n",
        "  OPTIONS (\n",
        "    location = '{LOCATION}');\n",
        "\"\"\""
      ]
    },
    {
      "cell_type": "markdown",
      "metadata": {},
      "source": [
        "Executes the SQL query to create the BigQuery dataset."
      ]
    },
    {
      "cell_type": "code",
      "execution_count": null,
      "id": "c6c41c9f",
      "metadata": {},
      "outputs": [],
      "source": [
        "%%bigquery\n",
        "$query"
      ]
    },
    {
      "cell_type": "markdown",
      "metadata": {},
      "source": [
        "### Define Customer Features Table Creation Query\n\nDefines a BigQuery SQL query to create or replace the `customer_date` table. This table aggregates customer information such as `total_spend`, `number_of_orders`, and `last_purchase_date` for each customer from the public e-commerce dataset."
      ]
    },
    {
      "cell_type": "code",
      "execution_count": null,
      "id": "olb6Rz0yzsU7",
      "metadata": {
        "id": "olb6Rz0yzsU7"
      },
      "outputs": [],
      "source": [
        "query = f\"\"\"\n",
        "CREATE OR REPLACE TABLE {PROJECT_ID}.{DATASET_ID}.customer_date AS(\n",
        "  SELECT\n",
        "  users.id,\n",
        "  SUM(order_items.sale_price) AS total_spend,\n",
        "  COUNT(DISTINCT orders.order_id) AS number_of_orders,\n",
        "  MAX(orders.created_at) AS last_purchase_date\n",
        "FROM\n",
        "  `bigquery-public-data.thelook_ecommerce.users` AS users\n",
        "JOIN\n",
        "  `bigquery-public-data.thelook_ecommerce.orders` AS orders\n",
        "ON\n",
        "  users.id = orders.user_id\n",
        "JOIN\n",
        "  `bigquery-public-data.thelook_ecommerce.order_items` AS order_items\n",
        "ON\n",
        "  orders.order_id = order_items.order_id\n",
        "GROUP BY\n",
        "  users.id );\n",
        "\"\"\""
      ]
    },
    {
      "cell_type": "markdown",
      "metadata": {},
      "source": [
        "Executes the SQL query to create the `customer_date` table."
      ]
    },
    {
      "cell_type": "code",
      "execution_count": null,
      "id": "d70021c5",
      "metadata": {},
      "outputs": [],
      "source": [
        "%%bigquery\n",
        "$query"
      ]
    },
    {
      "cell_type": "markdown",
      "id": "31185f478a87",
      "metadata": {},
      "source": [
        "### Preview Prepared Customer Data\n\nDisplays a sample of the newly created `customer_date` table, confirming the data preparation step was successful and the features are correctly structured."
      ]
    },
    {
      "cell_type": "markdown",
      "metadata": {},
      "source": [
        "### Define Query to Preview Prepared Data\n\nDefines a BigQuery SQL query to select a sample of data from the `customer_date` table."
      ]
    },
    {
      "cell_type": "code",
      "execution_count": null,
      "id": "bAj6eGAmz42u",
      "metadata": {
        "id": "bAj6eGAmz42u"
      },
      "outputs": [],
      "source": [
        "query = f\"\"\"\n",
        "SELECT * FROM `{PROJECT_ID}.{DATASET_ID}.customer_date` LIMIT 1000;\n",
        "\"\"\""
      ]
    },
    {
      "cell_type": "markdown",
      "metadata": {},
      "source": [
        "Executes the SQL query to display the first 1000 rows of the `customer_date` table."
      ]
    },
    {
      "cell_type": "code",
      "execution_count": null,
      "id": "63705560",
      "metadata": {},
      "outputs": [],
      "source": [
        "%%bigquery\n",
        "$query"
      ]
    },
    {
      "cell_type": "markdown",
      "id": "67246571a815",
      "metadata": {},
      "source": [
        "## Customer Segmentation with BigQuery ML"
      ]
    },
    {
      "cell_type": "markdown",
      "id": "f51f49679f22",
      "metadata": {},
      "source": [
        "### Train a K-Means Clustering Model\n\nUtilizes BigQuery ML to train a k-means clustering model. This model will group customers into distinct segments based on their `total_spend`, `number_of_orders`, and `last_purchase_date`."
      ]
    },
    {
      "cell_type": "markdown",
      "metadata": {},
      "source": [
        "### Define K-Means Model Training Query\n\nDefines a BigQuery ML SQL query to create and train a K-Means clustering model. The model is configured to create 3 clusters and standardize features for better performance."
      ]
    },
    {
      "cell_type": "code",
      "execution_count": null,
      "id": "wtdKqX6azrL_",
      "metadata": {
        "id": "wtdKqX6azrL_"
      },
      "outputs": [],
      "source": [
        "query = f\"\"\"\n",
        "CREATE OR REPLACE MODEL `{PROJECT_ID}.{DATASET_ID}.customer_clusters`\n",
        "OPTIONS(model_type='kmeans', num_clusters=3, standardize_features=TRUE) AS\n",
        "SELECT\n",
        "  id,\n",
        "  total_spend,\n",
        "  number_of_orders,\n",
        "  last_purchase_date\n",
        "FROM `{PROJECT_ID}.{DATASET_ID}.customer_date`;\n",
        "\"\"\""
      ]
    },
    {
      "cell_type": "markdown",
      "metadata": {},
      "source": [
        "Executes the SQL query to train the K-Means clustering model."
      ]
    },
    {
      "cell_type": "code",
      "execution_count": null,
      "id": "e8bd50da",
      "metadata": {},
      "outputs": [],
      "source": [
        "%%bigquery\n",
        "$query"
      ]
    },
    {
      "cell_type": "markdown",
      "id": "270c524b07fe",
      "metadata": {},
      "source": [
        "### Assign Customers to Segments\n\nApplies the trained k-means model using `ML.PREDICT` to assign each customer in the `customer_date` table to a specific cluster, creating a `predictions` table with their assigned `centroid_id`."
      ]
    },
    {
      "cell_type": "markdown",
      "metadata": {},
      "source": [
        "### Define Query to Assign Customers to Clusters\n\nDefines a BigQuery SQL query to apply the trained K-Means model using `ML.PREDICT` to assign each customer in the `customer_date` table to a specific cluster, creating a `predictions` table with their assigned `centroid_id`."
      ]
    },
    {
      "cell_type": "code",
      "execution_count": null,
      "id": "8HT4bFwf1SXS",
      "metadata": {
        "id": "8HT4bFwf1SXS"
      },
      "outputs": [],
      "source": [
        "query = f\"\"\"\n",
        "CREATE OR REPLACE TABLE `{PROJECT_ID}.{DATASET_ID}.predictions` AS(\n",
        "SELECT\n",
        "id,\n",
        "centroid_id,\n",
        "total_spend,\n",
        "number_of_orders,\n",
        "last_purchase_date\n",
        "FROM\n",
        "  ML.PREDICT(MODEL `{PROJECT_ID}.{DATASET_ID}.customer_clusters`,\n",
        "    (SELECT * FROM\n",
        "       `{PROJECT_ID}.{DATASET_ID}.customer_date`)\n",
        "\n",
        "));\n",
        "\"\"\""
      ]
    },
    {
      "cell_type": "markdown",
      "metadata": {},
      "source": [
        "Executes the SQL query to generate and save customer cluster predictions."
      ]
    },
    {
      "cell_type": "code",
      "execution_count": null,
      "id": "33cd3c38",
      "metadata": {},
      "outputs": [],
      "source": [
        "%%bigquery\n",
        "$query"
      ]
    },
    {
      "cell_type": "markdown",
      "id": "670c5f2425d7",
      "metadata": {},
      "source": [
        "### Review Customer Segment Assignments\n\nDisplays a sample of the `predictions` table, showing customers along with their assigned cluster IDs and relevant features."
      ]
    },
    {
      "cell_type": "markdown",
      "metadata": {},
      "source": [
        "### Define Query to Review Segment Assignments\n\nDefines a BigQuery SQL query to select a sample of data from the `predictions` table."
      ]
    },
    {
      "cell_type": "code",
      "execution_count": null,
      "id": "N2dmYZkX1uq8",
      "metadata": {
        "id": "N2dmYZkX1uq8"
      },
      "outputs": [],
      "source": [
        "query = f\"\"\"\n",
        "SELECT * FROM `{PROJECT_ID}.{DATASET_ID}.predictions` LIMIT 50;\n",
        "\"\"\""
      ]
    },
    {
      "cell_type": "markdown",
      "metadata": {},
      "source": [
        "Executes the SQL query to display the first 50 rows of the `predictions` table, showing assigned customer segments."
      ]
    },
    {
      "cell_type": "code",
      "execution_count": null,
      "id": "fb8af8cb",
      "metadata": {},
      "outputs": [],
      "source": [
        "%%bigquery\n",
        "$query"
      ]
    },
    {
      "cell_type": "markdown",
      "id": "d07jgX6evezX",
      "metadata": {
        "id": "d07jgX6evezX"
      },
      "source": [
        "## Generate Segment Personas with AI\n\nUse the AI.GENERATE_TABLE() function to analyze the members of each cluster and automatically generate a descriptive persona, a summary of their behavior, and potential marketing strategies for that segment.\n"
      ]
    },
    {
      "cell_type": "markdown",
      "id": "f51efd612440",
      "metadata": {},
      "source": [
        "### Create BigQuery ML Remote Model for AI Functions\n\nEstablishes a BigQuery ML remote model that connects to a generative AI endpoint (Gemini-2.5-Flash). This model enables the use of AI functions like `AI.GENERATE_TABLE` within BigQuery for advanced data analysis."
      ]
    },
    {
      "cell_type": "markdown",
      "metadata": {},
      "source": [
        "### Define Remote Model for Generative AI\n\nDefines a BigQuery ML SQL query to create a remote model for integrating with generative AI (Gemini-2.5-Flash). This model will be used to generate textual descriptions for customer segments."
      ]
    },
    {
      "cell_type": "code",
      "execution_count": null,
      "id": "NcC2-4Zc1nbL",
      "metadata": {
        "id": "NcC2-4Zc1nbL"
      },
      "outputs": [],
      "source": [
        "# Create a BQML model to use the AI functions\n",
        "\n",
        "query = f\"\"\"\n",
        "CREATE OR REPLACE MODEL`{PROJECT_ID}.{DATASET_ID}.ai_model`\n",
        "REMOTE WITH CONNECTION DEFAULT\n",
        "OPTIONS (ENDPOINT = 'gemini-2.5-flash');\n",
        "\"\"\""
      ]
    },
    {
      "cell_type": "markdown",
      "metadata": {},
      "source": [
        "Executes the SQL query to create the BigQuery ML remote model, connecting it to the specified generative AI endpoint."
      ]
    },
    {
      "cell_type": "code",
      "execution_count": null,
      "id": "3035591e",
      "metadata": {},
      "outputs": [],
      "source": [
        "%%bigquery\n",
        "$query"
      ]
    },
    {
      "cell_type": "markdown",
      "id": "89b5c3789b96",
      "metadata": {},
      "source": [
        "### Generate Segment Profiles and Marketing Strategies\n\nLeverages the `AI.GENERATE_TABLE` function to analyze the characteristics of each customer segment (cluster) and generate a concise segment name, a summary of their behavior, and tailored marketing suggestions."
      ]
    },
    {
      "cell_type": "markdown",
      "metadata": {},
      "source": [
        "### Define Query to Generate Segment Profiles and Marketing Strategies\n\nDefines a BigQuery SQL query that uses the `AI.GENERATE_TABLE` function to analyze each customer segment's aggregated metrics (average spend, orders, and recency). It then prompts the generative AI model to create a segment name, summary, and marketing suggestions for each cluster. The output schema is explicitly defined for structured results."
      ]
    },
    {
      "cell_type": "code",
      "execution_count": null,
      "id": "dnWe-AZ_2EkY",
      "metadata": {
        "id": "dnWe-AZ_2EkY"
      },
      "outputs": [],
      "source": [
        "query = f\"\"\"\n",
        "CREATE OR REPLACE TABLE `{PROJECT_ID}.{DATASET_ID}.segment_campaigns` AS(\n",
        "SELECT\n",
        "  *\n",
        "FROM\n",
        "  AI.GENERATE_TABLE(\n",
        "    MODEL `{PROJECT_ID}.{DATASET_ID}.ai_model`,\n",
        "    (\n",
        "      SELECT\n",
        "          'For the customer segment with centroid_id, provide a concise segment_name, a segment_summary (1-2 sentences), and 3 numbered marketing_suggestions in a list based on the provided metrics. For context, these metrics are from an ecommerce store.'\n",
        "          AS prompt\n",
        "      FROM (\n",
        "        SELECT\n",
        "          CAST(centroid_id AS STRING) AS centroid_id,\n",
        "          AVG(total_spend) AS avg_total_spend,\n",
        "          AVG(number_of_orders) AS avg_number_of_orders,\n",
        "          AVG(TIMESTAMP_DIFF(CURRENT_TIMESTAMP(), last_purchase_date, DAY)) AS avg_time_since_last_purchase_days\n",
        "        FROM\n",
        "          `{PROJECT_ID}.{DATASET_ID}.predictions`\n",
        "        GROUP BY\n",
        "          centroid_id\n",
        "      )\n",
        "    ),\n",
        "     STRUCT (\"customer_segment STRING, segment_name STRING, segment_summary STRING, marketing_suggestions ARRAY<STRING>\" AS output_schema ))\n",
        ");\n",
        "\"\"\""
      ]
    },
    {
      "cell_type": "markdown",
      "metadata": {},
      "source": [
        "Executes the SQL query to generate the customer segment profiles and marketing strategies using generative AI and stores them in the `segment_campaigns` table."
      ]
    },
    {
      "cell_type": "code",
      "execution_count": null,
      "id": "d473912b",
      "metadata": {},
      "outputs": [],
      "source": [
        "%%bigquery\n",
        "$query"
      ]
    },
    {
      "cell_type": "markdown",
      "id": "d0c8976c75df",
      "metadata": {},
      "source": [
        "### Review Generated Segment Campaigns\n\nDisplays the AI-generated segment personas, including their names, summaries, and proposed marketing strategies, providing actionable insights for targeted marketing."
      ]
    },
    {
      "cell_type": "markdown",
      "metadata": {},
      "source": [
        "### Define Query to Review Generated Segment Campaigns\n\nDefines a BigQuery SQL query to retrieve all generated segment campaigns."
      ]
    },
    {
      "cell_type": "code",
      "execution_count": null,
      "id": "PVdgdKOM6aqf",
      "metadata": {
        "id": "PVdgdKOM6aqf"
      },
      "outputs": [],
      "source": [
        "query = f\"\"\"\n",
        "SELECT * FROM `{PROJECT_ID}.{DATASET_ID}.segment_campaigns`\n",
        "\"\"\""
      ]
    },
    {
      "cell_type": "markdown",
      "metadata": {},
      "source": [
        "Executes the SQL query to display the final AI-generated customer segment personas and their corresponding marketing campaign suggestions."
      ]
    },
    {
      "cell_type": "code",
      "execution_count": null,
      "id": "173eb802",
      "metadata": {},
      "outputs": [],
      "source": [
        "%%bigquery\n",
        "$query"
      ]
    }
  ],
  "metadata": {
    "accelerator": "GPU",
    "colab": {
      "gpuType": "L4",
      "name": "identifying_customer_segments",
      "provenance": []
    },
    "kernelspec": {
      "display_name": ".venv",
      "language": "python",
      "name": "python3"
    },
    "language_info": {
      "codemirror_mode": {
        "name": "ipython",
        "version": 3
      },
      "file_extension": ".py",
      "mimetype": "text/x-python",
      "name": "python",
      "nbconvert_exporter": "python",
      "pygments_lexer": "ipython3",
      "version": "3.11.6"
    }
  },
  "nbformat": 4,
  "nbformat_minor": 5
}