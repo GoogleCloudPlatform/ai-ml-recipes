{
  "cells": [
    {
      "cell_type": "code",
      "source": [
        "# Copyright 2025 Google LLC\n",
        "#\n",
        "# Licensed under the Apache License, Version 2.0 (the \"License\");\n",
        "# you may not use this file except in compliance with the License.\n",
        "# You may obtain a copy of the License at\n",
        "#\n",
        "#     https://www.apache.org/licenses/LICENSE-2.0\n",
        "#\n",
        "# Unless required by applicable law or agreed to in writing, software\n",
        "# distributed under the License is distributed on an \"AS IS\" BASIS,\n",
        "# WITHOUT WARRANTIES OR CONDITIONS OF ANY KIND, either express or implied.\n",
        "# See the License for the specific language governing permissions and\n",
        "# limitations under the License."
      ],
      "metadata": {
        "id": "FEzbCDDc6eLi"
      },
      "id": "FEzbCDDc6eLi",
      "execution_count": null,
      "outputs": []
    },
  {
   "cell_type": "markdown",
   "metadata": {
    "tags": []
   },
   "source": [
    "<table align=\"left\">\n",
    "\n",
    "  <td>\n",
    "    <a href=\"https://colab.research.google.com/github/GoogleCloudPlatform/ai-ml-recipes/blob/main/notebooks/analytics/investigating_poor_product_sales.ipynb\">\n",
    "      <img src=\"https://avatars.githubusercontent.com/u/33467679?s=200&v=4\" width=\"32px\" alt=\"Colab logo\"> Run in Colab\n",
    "    </a>\n",
    "  </td>\n",
    "  <td>\n",
    "    <a href=\"https://github.com/GoogleCloudPlatform/ai-ml-recipes/blob/main/notebooks/analytics/investigating_poor_product_sales.ipynb\">\n",
    "      <img src=\"https://github.githubassets.com/assets/GitHub-Mark-ea2971cee799.png\" width=\"32px\" alt=\"GitHub logo\">\n",
    "      View on GitHub\n",
    "    </a>\n",
    "  </td>\n",
    "  <td>\n",
    "    <a href=\"https://console.cloud.google.com/vertex-ai/workbench/deploy-notebook?download_url=https://raw.githubusercontent.com/GoogleCloudPlatform/ai-ml-recipes/main/notebooks/analytics/investigating_poor_product_sales.ipynb\">\n",
    "      <img src=\"https://lh3.googleusercontent.com/UiNooY4LUgW_oTvpsNhPpQzsstV5W8F7rYgxgGBD85cWJoLmrOzhVs_ksK_vgx40SHs7jCqkTkCk=e14-rj-sc0xffffff-h130-w32\" alt=\"Vertex AI logo\">\n",
    "      Open in Vertex AI Workbench\n",
    "    </a>\n",
    "  </td>\n",
    "  <td>\n",
    "    <a href=\"https://console.cloud.google.com/bigquery/import?url=https://github.com/GoogleCloudPlatform/ai-ml-recipes/blob/main/notebooks/analytics/investigating_poor_product_sales.ipynb\">\n",
    "      <img src=\"https://encrypted-tbn0.gstatic.com/images?q=tbn:ANd9GcTW1gvOovVlbZAIZylUtf5Iu8-693qS1w5NJw&s\" alt=\"BQ logo\" width=\"35\">\n",
    "      Open in BQ Studio\n",
    "    </a>\n",
    "  </td>\n",
    "  <td>\n",
    "    <a href=\"https://console.cloud.google.com/vertex-ai/colab/import/https:%2F%2Fraw.githubusercontent.com%2FGoogleCloudPlatform%2Fai-ml-recipes%2Fmain%2Fnotebooks%2Fanalytics%2Finvestigating_poor_product_sales.ipynb\">\n",
    "    <img width=\"32px\" src=\"https://lh3.googleusercontent.com/JmcxdQi-qOpctIvWKgPtrzZdJJK-J3sWE1RsfjZNwshCFgE_9fULcNpuXYTilIR2hjwN\" alt=\"Google Cloud Colab Enterprise logo\">\n",
    "    Open in Colab Enterprise\n",
    "    </a>\n",
    "  </td>\n",
    "\n",
    "</table>"
   ]
  },
    {
      "cell_type": "markdown",
      "source": [
        "# A Data Science Approach to Investigating Poor Product Sales Performance"
      ],
      "metadata": {
        "id": "arxpX_rClpjx"
      },
      "id": "arxpX_rClpjx"
    },
    {
      "cell_type": "markdown",
      "source": [
        "## The Business Challenge"
      ],
      "metadata": {
        "id": "J2DBfi_I-MYX"
      },
      "id": "J2DBfi_I-MYX"
    },
    {
      "cell_type": "markdown",
      "source": [
        "Global Gadgets is an electronics retailer with physical stores, ecommerce sales and house brands.\n",
        "\n",
        "Global gadgets has recently released a new version of its smart speaker [Quantum AI Speaker 2].\n",
        "\n",
        "However, the new speaker seems to have lower than expected sales when compared to Speaker 1 at the same point in its lifecycle.\n",
        "\n",
        "Global Gadgets is trying to identify what may be causing the lower than expected sales for Speaker 2.\n",
        "\n"
      ],
      "metadata": {
        "id": "dbD1TqdC-WPy"
      },
      "id": "dbD1TqdC-WPy"
    },
    {
      "cell_type": "markdown",
      "source": [
        "## **0.** Setup"
      ],
      "metadata": {
        "id": "zMm-FoQLw6NN"
      },
      "id": "zMm-FoQLw6NN"
    },
    {
      "cell_type": "markdown",
      "source": [
        "###Create and Enable the Vertex Connection\n",
        "Before creating the connection, ensure you have the following:\n",
        "\n",
        "\n",
        "1.   The Cloud AI Companion API is enabled in your Google Cloud project.\n",
        "2.   You have the BigQuery Connection Admin (roles/bigquery.connectionAdmin) IAM role to create the connection.\n",
        "3. You have the Project IAM Admin (roles/resourcemanager.projectIamAdmin) role to grant permissions to the connection's service account.\n",
        "\n",
        "\n",
        "---\n",
        "\n",
        "\n",
        "###Step-by-Step Instructions\n",
        "You can create the connection and set its permissions using the following three steps.\n",
        "\n",
        "**Step 1: Create the AI Connection in BigQuery**\n",
        "\n",
        "This SQL command creates a new connection named vertex_ai_connection in the US region. This connection acts as a bridge between BigQuery and Vertex AI services.\n",
        "\n",
        "Run the following in the BigQuery SQL editor:"
      ],
      "metadata": {
        "id": "RdYgBHEKxJYk"
      },
      "id": "RdYgBHEKxJYk"
    },
    {
      "cell_type": "code",
      "source": [
        "# sql_engine: bigquery\n",
        "# output_variable: df\n",
        "# start _sql\n",
        "_sql = \"\"\"\n",
        "-- Creates a connection to Vertex AI in the US multi-region.\n",
        "-- This automatically generates a unique service account for the connection.\n",
        "CREATE OR REPLACE CONNECTION `US.vertex_ai_connection`\n",
        "OPTIONS (\n",
        "  cloud_resource_type = 'CLOUD_AI_SERVICE_ENDPOINT',\n",
        "  service_endpoint = 'us-aiplatform.googleapis.com'\n",
        ");\n",
        "\n",
        "\"\"\" # end _sql\n",
        "from google.colab.sql import bigquery as _bqsqlcell\n",
        "df = _bqsqlcell.run(_sql)\n",
        "df"
      ],
      "metadata": {
        "colab_type": "sql",
        "id": "tdi0rREa2dcS"
      },
      "id": "tdi0rREa2dcS",
      "execution_count": null,
      "outputs": []
    },
    {
      "cell_type": "markdown",
      "source": [
        "**Step 2: Get the Connection's Service Account**\n",
        "\n",
        "After creating the connection, you need to find the unique service account that BigQuery generated for it.\n",
        "\n",
        "Run this query and copy the service_account_id from the results:"
      ],
      "metadata": {
        "id": "B2RNDHqp2x3D"
      },
      "id": "B2RNDHqp2x3D"
    },
    {
      "cell_type": "code",
      "source": [
        "# sql_engine: bigquery\n",
        "# output_variable: df\n",
        "# start _sql\n",
        "_sql = \"\"\"\n",
        "-- Finds the service account created for your new connection.\n",
        "-- You will need this ID for the next step.\n",
        "SELECT *\n",
        "FROM `US.INFORMATION_SCHEMA.CONNECTIONS`\n",
        "WHERE connection_id = 'vertex_ai_connection';\n",
        "\n",
        "\"\"\" # end _sql\n",
        "from google.colab.sql import bigquery as _bqsqlcell\n",
        "df = _bqsqlcell.run(_sql)\n",
        "df"
      ],
      "metadata": {
        "colab_type": "sql",
        "id": "lIiDMRrD3UNH"
      },
      "id": "lIiDMRrD3UNH",
      "execution_count": null,
      "outputs": []
    },
    {
      "cell_type": "markdown",
      "source": [
        "**Step 3: Grant Vertex AI Permissions**\n",
        "\n",
        "The service account you just found needs permission to interact with Vertex AI. You must grant it the Vertex AI User (roles/aiplatform.user) role.\n",
        "\n",
        "You can do this using either the Google Cloud Console or the gcloud CLI.\n",
        "\n",
        "**Option A: Use the Google Cloud Console (Recommended)**\n",
        "1. Go to the IAM & Admin page in the Google Cloud Console.\n",
        "2. Click Grant Access.\n",
        "3. In the New principals field, paste the service account ID you copied from Step 2.\n",
        "4. In the Select a role dropdown, search for and select Vertex AI User.\n",
        "5. Click Save."
      ],
      "metadata": {
        "id": "z2pFbsPn32Sm"
      },
      "id": "z2pFbsPn32Sm"
    },
    {
      "cell_type": "markdown",
      "source": [
        "**Option B: Use the gcloud Command Line**\n",
        "\n",
        "Open the Cloud Shell or your local terminal and run the following command, replacing the placeholders with your project ID and the service account ID:"
      ],
      "metadata": {
        "id": "rBQ9Fjm64pAj"
      },
      "id": "rBQ9Fjm64pAj"
    },
    {
      "cell_type": "code",
      "source": [
        "Bash\n",
        "gcloud projects add-iam-policy-binding YOUR_PROJECT_ID \\\n",
        "    --member='serviceAccount:YOUR_CONNECTION_SERVICE_ACCOUNT' \\\n",
        "    --role='roles/aiplatform.user'\n",
        "# After completing these steps, the vertex_ai_connection is ready to be used in your BigQuery ML queries."
      ],
      "metadata": {
        "id": "Z2ygTfEm4x71"
      },
      "id": "Z2ygTfEm4x71",
      "execution_count": null,
      "outputs": []
    },
    {
      "cell_type": "markdown",
      "source": [
        "###Create the Dataset and Pull the Demo Data\n",
        "Run the below script to create the dataset in your project and load the needed tables."
      ],
      "metadata": {
        "id": "otL0C3Gt2Euu"
      },
      "id": "otL0C3Gt2Euu"
    },
    {
      "cell_type": "code",
      "source": [
        "-- First, create the dataset where the tables will be stored.\n",
        "-- This command will not fail if the dataset already exists.\n",
        "CREATE SCHEMA IF NOT EXISTS global_gadgets_fork;\n",
        "\n",
        "-- 1. Configuration: Set the destination dataset and the source bucket/folder.\n",
        "-- Anyone running this script can change `target_dataset_name` to their own dataset.\n",
        "DECLARE target_dataset_name STRING DEFAULT 'global_gadgets_fork';\n",
        "-- MODIFIED: Updated the source bucket and added a variable for the base folder.\n",
        "DECLARE source_bucket_name STRING DEFAULT 'data-analytics-golden-demo';\n",
        "DECLARE source_base_folder STRING DEFAULT 'demo-data/global-gadgets-fork';\n",
        "\n",
        "-- Array of all table names to load\n",
        "DECLARE table_list ARRAY<STRING> DEFAULT [\n",
        "  'monthly_product_sales',\n",
        "  'product_reviews',\n",
        "  'session_to_user_map',\n",
        "  'sessions',\n",
        "  'sessions_reviews',\n",
        "  'user_info'\n",
        "];\n",
        "\n",
        "-- 2. Loop through each table name and create a full copy in BigQuery.\n",
        "FOR table_row IN (SELECT t_name FROM UNNEST(table_list) AS t_name)\n",
        "DO\n",
        "\n",
        "  -- Step 2a: Create a temporary external table pointing to the Parquet files.\n",
        "  -- BigQuery automatically infers the schema from the Parquet file.\n",
        "  -- MODIFIED: Updated the URIs path to include the new source_base_folder.\n",
        "  EXECUTE IMMEDIATE FORMAT(\"\"\"\n",
        "    CREATE OR REPLACE EXTERNAL TABLE `%s.%s.temp_external_table_for_copy`\n",
        "    OPTIONS (\n",
        "      format = 'PARQUET',\n",
        "      uris = ['gs://%s/%s/%s/*.parquet']\n",
        "    );\n",
        "  \"\"\", @@project_id, target_dataset_name, source_bucket_name, source_base_folder, table_row.t_name);\n",
        "\n",
        "  -- Step 2b: Create the permanent, managed table by selecting from the external table.\n",
        "  -- This copies the data from GCS into managed BigQuery storage.\n",
        "  EXECUTE IMMEDIATE FORMAT(\"\"\"\n",
        "    CREATE OR REPLACE TABLE `%s.%s.%s` AS\n",
        "    SELECT * FROM `%s.%s.temp_external_table_for_copy`;\n",
        "  \"\"\", @@project_id, target_dataset_name, table_row.t_name, @@project_id, target_dataset_name);\n",
        "\n",
        "  -- Log a message to the results tab for tracking progress.\n",
        "  SELECT FORMAT(\"✅ Table created: %s.%s.%s\",\n",
        "    @@project_id, target_dataset_name, table_row.t_name) AS status;\n",
        "\n",
        "END FOR;\n"
      ],
      "metadata": {
        "id": "5wx8Cr1W1wCV"
      },
      "id": "5wx8Cr1W1wCV",
      "execution_count": null,
      "outputs": []
    },
    {
      "cell_type": "markdown",
      "source": [
        "\n",
        "\n",
        "```\n",
        "# This is formatted as code\n",
        "```\n",
        "\n",
        "## **1.** Data Exploration and Problem Visualization"
      ],
      "metadata": {
        "id": "nFi7G-q0mvHi"
      },
      "id": "nFi7G-q0mvHi"
    },
    {
      "cell_type": "markdown",
      "source": [
        "#### The Dataset"
      ],
      "metadata": {
        "id": "Fo2LNzWECUDF"
      },
      "id": "Fo2LNzWECUDF"
    },
    {
      "cell_type": "markdown",
      "source": [
        "\n",
        "\n",
        "*   **user_info:** This table has general demographic information about the site user such as the age range and gender and the urbanicity of the user’s address (urban, suburban, rural).\n",
        "*   **product_reviews:** Basic review information including review ID, star rating and the review body/text.\n",
        "* **sessions:** Basic info about the session such as the session ID, date-time, device and, most importantly, whether that session converted to a sale.\n",
        "* **sessions_reviews:** A mapping of each session ID to a comma-separated list of the review IDs of the reviews that were seen within that session.\n",
        "* **session_to_user_map:** For each session, a map to the user ID that was in that session.\n",
        "* **monthly_product_sales:** The sales by month of both products from the time of the launch of Speaker 1.\n",
        "\n",
        "Generated Tables: During the demo, you will create additional tables.\n",
        "* **reviews_feature_sentiment_score:** For each review, a mapping to each of the four product features and a score from -2 to +2 of how negative to positive it is as determined by the AI.SCORE function.\n",
        "* **FINAL_ANALYSIS:** The final joined table for analysis. It has the session info, the user info and the negative review seen info.\n",
        "\n"
      ],
      "metadata": {
        "id": "TuMb3KULC-hB"
      },
      "id": "TuMb3KULC-hB"
    },
    {
      "cell_type": "markdown",
      "source": [
        "### Visualizing the sales shortfall with the Data Science Agent"
      ],
      "metadata": {
        "id": "IC4Y2Z9tERkv"
      },
      "id": "IC4Y2Z9tERkv"
    },
    {
      "cell_type": "markdown",
      "source": [
        "The first thing we'll want to do is validate that the sales shortfall for V2 of the product is actually true.\n",
        "\n",
        "To that end, we'll ask the agent to create a plan and chart the data to compare the sales of V1 at its launch with the sales of V2 at its launch a year later.\n",
        "\n",
        "The prompt below was provided to the Data Science Agent which then generated the subsequent plan and code and visualization."
      ],
      "metadata": {
        "id": "GmeyJ77OEXw0"
      },
      "id": "GmeyJ77OEXw0"
    },
    {
      "cell_type": "markdown",
      "source": [
        "**The Prompt:**\n",
        "\n",
        "> This prompt generated the below code. It does not need to be entered again. It is included here for demonstration purposes only.\n",
        "\n",
        "\n",
        "\n",
        "*Use the global_gadgets_fork dataset for all of the following commands. Using the monthly_product_sales table, create a line chart comparing the sales growth of V1 and V2. For the x-axis, use 'Months Since Launch' to align their starting points. Plot the sales for V1 against months_since_launch for V1 and sales for V2 against months_since_launch for V2 on a single chart. Note that there is a “months_since_launch” column for each product. Please set the visualization so that the Y-axis grid lines are whole numbers. And please set the x-axis so that grid lines show every whole number from 0 through 18.*"
      ],
      "metadata": {
        "id": "TyYrMxAAAtJx"
      },
      "id": "TyYrMxAAAtJx"
    },
    {
      "cell_type": "markdown",
      "metadata": {
        "id": "6b41bcfd"
      },
      "source": [
        "### Task\n",
        "Create a line chart comparing the sales of V1 and V2 from the `global_gadgets_fork.monthly_product_sales` table, using 'months_since_launch' on the x-axis, with whole number Y-axis grid lines and x-axis grid lines showing every whole number from 0 through 18."
      ],
      "id": "6b41bcfd"
    },
    {
      "cell_type": "markdown",
      "metadata": {
        "id": "032f333a"
      },
      "source": [
        "### Data loading\n",
        "\n",
        "### Subtask:\n",
        "Load the `global_gadgets_fork.monthly_product_sales` table into a pandas DataFrame.\n"
      ],
      "id": "032f333a"
    },
    {
      "cell_type": "markdown",
      "metadata": {
        "id": "832d6f1c"
      },
      "source": [
        "**Reasoning**:\n",
        "The subtask requires installing `pandas-gbq` before importing and using it to load data from BigQuery. This ensures the necessary library is available.\n",
        "\n"
      ],
      "id": "832d6f1c"
    },
    {
      "cell_type": "code",
      "metadata": {
        "colab": {
          "base_uri": "https://localhost:8080/"
        },
        "id": "e277eb21",
        "executionInfo": {
          "status": "ok",
          "timestamp": 1754944968130,
          "user_tz": 420,
          "elapsed": 14674,
          "user": {
            "displayName": "",
            "userId": ""
          }
        },
        "outputId": "d5068d4e-6315-4417-ff33-2429c5e5943a"
      },
      "source": [
        "print(\"Installing pandas-gbq...\")\n",
        "!pip install pandas-gbq\n",
        "print(\"pandas-gbq installed.\")"
      ],
      "id": "e277eb21",
      "execution_count": null,
      "outputs": [
        {
          "output_type": "stream",
          "name": "stdout",
          "text": [
            "Installing pandas-gbq...\n",
            "Requirement already satisfied: pandas-gbq in /usr/local/lib/python3.11/dist-packages (0.29.2)\n",
            "Requirement already satisfied: setuptools in /usr/local/lib/python3.11/dist-packages (from pandas-gbq) (75.2.0)\n",
            "Requirement already satisfied: db-dtypes<2.0.0,>=1.0.4 in /usr/local/lib/python3.11/dist-packages (from pandas-gbq) (1.4.3)\n",
            "Requirement already satisfied: numpy>=1.18.1 in /usr/local/lib/python3.11/dist-packages (from pandas-gbq) (2.0.2)\n",
            "Requirement already satisfied: pandas>=1.1.4 in /usr/local/lib/python3.11/dist-packages (from pandas-gbq) (2.2.2)\n",
            "Requirement already satisfied: pyarrow>=4.0.0 in /usr/local/lib/python3.11/dist-packages (from pandas-gbq) (18.1.0)\n",
            "Requirement already satisfied: pydata-google-auth>=1.5.0 in /usr/local/lib/python3.11/dist-packages (from pandas-gbq) (1.9.1)\n",
            "Requirement already satisfied: google-api-core<3.0.0,>=2.10.2 in /usr/local/lib/python3.11/dist-packages (from pandas-gbq) (2.25.1)\n",
            "Requirement already satisfied: google-auth>=2.13.0 in /usr/local/lib/python3.11/dist-packages (from pandas-gbq) (2.38.0)\n",
            "Requirement already satisfied: google-auth-oauthlib>=0.7.0 in /usr/local/lib/python3.11/dist-packages (from pandas-gbq) (1.2.2)\n",
            "Requirement already satisfied: google-cloud-bigquery<4.0.0,>=3.4.2 in /usr/local/lib/python3.11/dist-packages (from pandas-gbq) (3.35.1)\n",
            "Requirement already satisfied: packaging>=22.0.0 in /usr/local/lib/python3.11/dist-packages (from pandas-gbq) (25.0)\n",
            "Requirement already satisfied: googleapis-common-protos<2.0.0,>=1.56.2 in /usr/local/lib/python3.11/dist-packages (from google-api-core<3.0.0,>=2.10.2->pandas-gbq) (1.70.0)\n",
            "Requirement already satisfied: protobuf!=3.20.0,!=3.20.1,!=4.21.0,!=4.21.1,!=4.21.2,!=4.21.3,!=4.21.4,!=4.21.5,<7.0.0,>=3.19.5 in /usr/local/lib/python3.11/dist-packages (from google-api-core<3.0.0,>=2.10.2->pandas-gbq) (6.31.1)\n",
            "Requirement already satisfied: proto-plus<2.0.0,>=1.22.3 in /usr/local/lib/python3.11/dist-packages (from google-api-core<3.0.0,>=2.10.2->pandas-gbq) (1.26.1)\n",
            "Requirement already satisfied: requests<3.0.0,>=2.18.0 in /usr/local/lib/python3.11/dist-packages (from google-api-core<3.0.0,>=2.10.2->pandas-gbq) (2.32.3)\n",
            "Requirement already satisfied: cachetools<6.0,>=2.0.0 in /usr/local/lib/python3.11/dist-packages (from google-auth>=2.13.0->pandas-gbq) (5.5.2)\n",
            "Requirement already satisfied: pyasn1-modules>=0.2.1 in /usr/local/lib/python3.11/dist-packages (from google-auth>=2.13.0->pandas-gbq) (0.4.2)\n",
            "Requirement already satisfied: rsa<5,>=3.1.4 in /usr/local/lib/python3.11/dist-packages (from google-auth>=2.13.0->pandas-gbq) (4.9.1)\n",
            "Requirement already satisfied: requests-oauthlib>=0.7.0 in /usr/local/lib/python3.11/dist-packages (from google-auth-oauthlib>=0.7.0->pandas-gbq) (2.0.0)\n",
            "Requirement already satisfied: google-cloud-core<3.0.0,>=2.4.1 in /usr/local/lib/python3.11/dist-packages (from google-cloud-bigquery<4.0.0,>=3.4.2->pandas-gbq) (2.4.3)\n",
            "Requirement already satisfied: google-resumable-media<3.0.0,>=2.0.0 in /usr/local/lib/python3.11/dist-packages (from google-cloud-bigquery<4.0.0,>=3.4.2->pandas-gbq) (2.7.2)\n",
            "Requirement already satisfied: python-dateutil<3.0.0,>=2.8.2 in /usr/local/lib/python3.11/dist-packages (from google-cloud-bigquery<4.0.0,>=3.4.2->pandas-gbq) (2.9.0.post0)\n",
            "Requirement already satisfied: pytz>=2020.1 in /usr/local/lib/python3.11/dist-packages (from pandas>=1.1.4->pandas-gbq) (2025.2)\n",
            "Requirement already satisfied: tzdata>=2022.7 in /usr/local/lib/python3.11/dist-packages (from pandas>=1.1.4->pandas-gbq) (2025.2)\n",
            "Requirement already satisfied: grpcio<2.0.0,>=1.33.2 in /usr/local/lib/python3.11/dist-packages (from google-api-core[grpc]<3.0.0,>=2.11.1->google-cloud-bigquery<4.0.0,>=3.4.2->pandas-gbq) (1.74.0)\n",
            "Requirement already satisfied: grpcio-status<2.0.0,>=1.33.2 in /usr/local/lib/python3.11/dist-packages (from google-api-core[grpc]<3.0.0,>=2.11.1->google-cloud-bigquery<4.0.0,>=3.4.2->pandas-gbq) (1.74.0)\n",
            "Requirement already satisfied: google-crc32c<2.0dev,>=1.0 in /usr/local/lib/python3.11/dist-packages (from google-resumable-media<3.0.0,>=2.0.0->google-cloud-bigquery<4.0.0,>=3.4.2->pandas-gbq) (1.7.1)\n",
            "Requirement already satisfied: pyasn1<0.7.0,>=0.6.1 in /usr/local/lib/python3.11/dist-packages (from pyasn1-modules>=0.2.1->google-auth>=2.13.0->pandas-gbq) (0.6.1)\n",
            "Requirement already satisfied: six>=1.5 in /usr/local/lib/python3.11/dist-packages (from python-dateutil<3.0.0,>=2.8.2->google-cloud-bigquery<4.0.0,>=3.4.2->pandas-gbq) (1.17.0)\n",
            "Requirement already satisfied: charset-normalizer<4,>=2 in /usr/local/lib/python3.11/dist-packages (from requests<3.0.0,>=2.18.0->google-api-core<3.0.0,>=2.10.2->pandas-gbq) (3.4.2)\n",
            "Requirement already satisfied: idna<4,>=2.5 in /usr/local/lib/python3.11/dist-packages (from requests<3.0.0,>=2.18.0->google-api-core<3.0.0,>=2.10.2->pandas-gbq) (3.10)\n",
            "Requirement already satisfied: urllib3<3,>=1.21.1 in /usr/local/lib/python3.11/dist-packages (from requests<3.0.0,>=2.18.0->google-api-core<3.0.0,>=2.10.2->pandas-gbq) (2.5.0)\n",
            "Requirement already satisfied: certifi>=2017.4.17 in /usr/local/lib/python3.11/dist-packages (from requests<3.0.0,>=2.18.0->google-api-core<3.0.0,>=2.10.2->pandas-gbq) (2025.7.14)\n",
            "Requirement already satisfied: oauthlib>=3.0.0 in /usr/local/lib/python3.11/dist-packages (from requests-oauthlib>=0.7.0->google-auth-oauthlib>=0.7.0->pandas-gbq) (3.3.1)\n",
            "pandas-gbq installed.\n"
          ]
        }
      ]
    },
    {
      "cell_type": "markdown",
      "metadata": {
        "id": "9573e274"
      },
      "source": [
        "**Reasoning**:\n",
        "With `pandas-gbq` installed, the next step is to import it, construct the BigQuery SQL query, and load the data into a pandas DataFrame using `gbq.read_gbq()`, displaying the first few rows to confirm successful loading.\n",
        "\n"
      ],
      "id": "9573e274"
    },
    {
      "cell_type": "code",
      "metadata": {
        "colab": {
          "base_uri": "https://localhost:8080/",
          "height": 242
        },
        "id": "4fd9063c",
        "executionInfo": {
          "status": "ok",
          "timestamp": 1754944993250,
          "user_tz": 420,
          "elapsed": 2729,
          "user": {
            "displayName": "",
            "userId": ""
          }
        },
        "outputId": "9c658675-798e-416e-8d44-5fff5a8d9e74"
      },
      "source": [
        "import pandas_gbq as gbq\n",
        "\n",
        "project_id = 'da-opm-sandbox'\n",
        "table_id = 'global_gadgets_fork.monthly_product_sales'\n",
        "\n",
        "query = f\"\"\"SELECT * FROM `{project_id}.{table_id}`\"\"\"\n",
        "\n",
        "df_sales = gbq.read_gbq(query, project_id=project_id)\n",
        "\n",
        "print(\"Data loaded successfully. Displaying the first 5 rows:\")\n",
        "df_sales.head()"
      ],
      "id": "4fd9063c",
      "execution_count": null,
      "outputs": [
        {
          "output_type": "stream",
          "name": "stdout",
          "text": [
            "Downloading: 100%|\u001b[32m██████████\u001b[0m|\n",
            "Data loaded successfully. Displaying the first 5 rows:\n"
          ]
        },
        {
          "output_type": "execute_result",
          "data": {
            "text/plain": [
              "      Month  V1_Sales  V2_Sales  V1_months_since_launch  \\\n",
              "0  Jun 2024    177000         0                       5   \n",
              "1  Oct 2024    381000         0                       9   \n",
              "2  Mar 2024     63000         0                       2   \n",
              "3  Nov 2024    440000         0                      10   \n",
              "4  Jul 2024    223000         0                       6   \n",
              "\n",
              "   V2_months_since_launch  \n",
              "0                    <NA>  \n",
              "1                    <NA>  \n",
              "2                    <NA>  \n",
              "3                    <NA>  \n",
              "4                    <NA>  "
            ],
            "text/html": [
              "\n",
              "  <div id=\"df-cd5b98ae-9dad-421d-8ad9-b4ac986fec36\" class=\"colab-df-container\">\n",
              "    <div>\n",
              "<style scoped>\n",
              "    .dataframe tbody tr th:only-of-type {\n",
              "        vertical-align: middle;\n",
              "    }\n",
              "\n",
              "    .dataframe tbody tr th {\n",
              "        vertical-align: top;\n",
              "    }\n",
              "\n",
              "    .dataframe thead th {\n",
              "        text-align: right;\n",
              "    }\n",
              "</style>\n",
              "<table border=\"1\" class=\"dataframe\">\n",
              "  <thead>\n",
              "    <tr style=\"text-align: right;\">\n",
              "      <th></th>\n",
              "      <th>Month</th>\n",
              "      <th>V1_Sales</th>\n",
              "      <th>V2_Sales</th>\n",
              "      <th>V1_months_since_launch</th>\n",
              "      <th>V2_months_since_launch</th>\n",
              "    </tr>\n",
              "  </thead>\n",
              "  <tbody>\n",
              "    <tr>\n",
              "      <th>0</th>\n",
              "      <td>Jun 2024</td>\n",
              "      <td>177000</td>\n",
              "      <td>0</td>\n",
              "      <td>5</td>\n",
              "      <td>&lt;NA&gt;</td>\n",
              "    </tr>\n",
              "    <tr>\n",
              "      <th>1</th>\n",
              "      <td>Oct 2024</td>\n",
              "      <td>381000</td>\n",
              "      <td>0</td>\n",
              "      <td>9</td>\n",
              "      <td>&lt;NA&gt;</td>\n",
              "    </tr>\n",
              "    <tr>\n",
              "      <th>2</th>\n",
              "      <td>Mar 2024</td>\n",
              "      <td>63000</td>\n",
              "      <td>0</td>\n",
              "      <td>2</td>\n",
              "      <td>&lt;NA&gt;</td>\n",
              "    </tr>\n",
              "    <tr>\n",
              "      <th>3</th>\n",
              "      <td>Nov 2024</td>\n",
              "      <td>440000</td>\n",
              "      <td>0</td>\n",
              "      <td>10</td>\n",
              "      <td>&lt;NA&gt;</td>\n",
              "    </tr>\n",
              "    <tr>\n",
              "      <th>4</th>\n",
              "      <td>Jul 2024</td>\n",
              "      <td>223000</td>\n",
              "      <td>0</td>\n",
              "      <td>6</td>\n",
              "      <td>&lt;NA&gt;</td>\n",
              "    </tr>\n",
              "  </tbody>\n",
              "</table>\n",
              "</div>\n",
              "    <div class=\"colab-df-buttons\">\n",
              "\n",
              "  <div class=\"colab-df-container\">\n",
              "    <button class=\"colab-df-convert\" onclick=\"convertToInteractive('df-cd5b98ae-9dad-421d-8ad9-b4ac986fec36')\"\n",
              "            title=\"Convert this dataframe to an interactive table.\"\n",
              "            style=\"display:none;\">\n",
              "\n",
              "  <svg xmlns=\"http://www.w3.org/2000/svg\" height=\"24px\" viewBox=\"0 -960 960 960\">\n",
              "    <path d=\"M120-120v-720h720v720H120Zm60-500h600v-160H180v160Zm220 220h160v-160H400v160Zm0 220h160v-160H400v160ZM180-400h160v-160H180v160Zm440 0h160v-160H620v160ZM180-180h160v-160H180v160Zm440 0h160v-160H620v160Z\"/>\n",
              "  </svg>\n",
              "    </button>\n",
              "\n",
              "  <style>\n",
              "    .colab-df-container {\n",
              "      display:flex;\n",
              "      gap: 12px;\n",
              "    }\n",
              "\n",
              "    .colab-df-convert {\n",
              "      background-color: #E8F0FE;\n",
              "      border: none;\n",
              "      border-radius: 50%;\n",
              "      cursor: pointer;\n",
              "      display: none;\n",
              "      fill: #1967D2;\n",
              "      height: 32px;\n",
              "      padding: 0 0 0 0;\n",
              "      width: 32px;\n",
              "    }\n",
              "\n",
              "    .colab-df-convert:hover {\n",
              "      background-color: #E2EBFA;\n",
              "      box-shadow: 0px 1px 2px rgba(60, 64, 67, 0.3), 0px 1px 3px 1px rgba(60, 64, 67, 0.15);\n",
              "      fill: #174EA6;\n",
              "    }\n",
              "\n",
              "    .colab-df-buttons div {\n",
              "      margin-bottom: 4px;\n",
              "    }\n",
              "\n",
              "    [theme=dark] .colab-df-convert {\n",
              "      background-color: #3B4455;\n",
              "      fill: #D2E3FC;\n",
              "    }\n",
              "\n",
              "    [theme=dark] .colab-df-convert:hover {\n",
              "      background-color: #434B5C;\n",
              "      box-shadow: 0px 1px 3px 1px rgba(0, 0, 0, 0.15);\n",
              "      filter: drop-shadow(0px 1px 2px rgba(0, 0, 0, 0.3));\n",
              "      fill: #FFFFFF;\n",
              "    }\n",
              "  </style>\n",
              "\n",
              "    <script>\n",
              "      const buttonEl =\n",
              "        document.querySelector('#df-cd5b98ae-9dad-421d-8ad9-b4ac986fec36 button.colab-df-convert');\n",
              "      buttonEl.style.display =\n",
              "        google.colab.kernel.accessAllowed ? 'block' : 'none';\n",
              "\n",
              "      async function convertToInteractive(key) {\n",
              "        const element = document.querySelector('#df-cd5b98ae-9dad-421d-8ad9-b4ac986fec36');\n",
              "        const dataTable =\n",
              "          await google.colab.kernel.invokeFunction('convertToInteractive',\n",
              "                                                    [key], {});\n",
              "        if (!dataTable) return;\n",
              "\n",
              "        const docLinkHtml = 'Like what you see? Visit the ' +\n",
              "          '<a target=\"_blank\" href=https://colab.research.google.com/notebooks/data_table.ipynb>data table notebook</a>'\n",
              "          + ' to learn more about interactive tables.';\n",
              "        element.innerHTML = '';\n",
              "        dataTable['output_type'] = 'display_data';\n",
              "        await google.colab.output.renderOutput(dataTable, element);\n",
              "        const docLink = document.createElement('div');\n",
              "        docLink.innerHTML = docLinkHtml;\n",
              "        element.appendChild(docLink);\n",
              "      }\n",
              "    </script>\n",
              "  </div>\n",
              "\n",
              "\n",
              "    <div id=\"df-24e48262-7e83-4ae5-9774-58fb57b81c65\">\n",
              "      <button class=\"colab-df-quickchart\" onclick=\"quickchart('df-24e48262-7e83-4ae5-9774-58fb57b81c65')\"\n",
              "                title=\"Suggest charts\"\n",
              "                style=\"display:none;\">\n",
              "\n",
              "<svg xmlns=\"http://www.w3.org/2000/svg\" height=\"24px\"viewBox=\"0 0 24 24\"\n",
              "     width=\"24px\">\n",
              "    <g>\n",
              "        <path d=\"M19 3H5c-1.1 0-2 .9-2 2v14c0 1.1.9 2 2 2h14c1.1 0 2-.9 2-2V5c0-1.1-.9-2-2-2zM9 17H7v-7h2v7zm4 0h-2V7h2v10zm4 0h-2v-4h2v4z\"/>\n",
              "    </g>\n",
              "</svg>\n",
              "      </button>\n",
              "\n",
              "<style>\n",
              "  .colab-df-quickchart {\n",
              "      --bg-color: #E8F0FE;\n",
              "      --fill-color: #1967D2;\n",
              "      --hover-bg-color: #E2EBFA;\n",
              "      --hover-fill-color: #174EA6;\n",
              "      --disabled-fill-color: #AAA;\n",
              "      --disabled-bg-color: #DDD;\n",
              "  }\n",
              "\n",
              "  [theme=dark] .colab-df-quickchart {\n",
              "      --bg-color: #3B4455;\n",
              "      --fill-color: #D2E3FC;\n",
              "      --hover-bg-color: #434B5C;\n",
              "      --hover-fill-color: #FFFFFF;\n",
              "      --disabled-bg-color: #3B4455;\n",
              "      --disabled-fill-color: #666;\n",
              "  }\n",
              "\n",
              "  .colab-df-quickchart {\n",
              "    background-color: var(--bg-color);\n",
              "    border: none;\n",
              "    border-radius: 50%;\n",
              "    cursor: pointer;\n",
              "    display: none;\n",
              "    fill: var(--fill-color);\n",
              "    height: 32px;\n",
              "    padding: 0;\n",
              "    width: 32px;\n",
              "  }\n",
              "\n",
              "  .colab-df-quickchart:hover {\n",
              "    background-color: var(--hover-bg-color);\n",
              "    box-shadow: 0 1px 2px rgba(60, 64, 67, 0.3), 0 1px 3px 1px rgba(60, 64, 67, 0.15);\n",
              "    fill: var(--button-hover-fill-color);\n",
              "  }\n",
              "\n",
              "  .colab-df-quickchart-complete:disabled,\n",
              "  .colab-df-quickchart-complete:disabled:hover {\n",
              "    background-color: var(--disabled-bg-color);\n",
              "    fill: var(--disabled-fill-color);\n",
              "    box-shadow: none;\n",
              "  }\n",
              "\n",
              "  .colab-df-spinner {\n",
              "    border: 2px solid var(--fill-color);\n",
              "    border-color: transparent;\n",
              "    border-bottom-color: var(--fill-color);\n",
              "    animation:\n",
              "      spin 1s steps(1) infinite;\n",
              "  }\n",
              "\n",
              "  @keyframes spin {\n",
              "    0% {\n",
              "      border-color: transparent;\n",
              "      border-bottom-color: var(--fill-color);\n",
              "      border-left-color: var(--fill-color);\n",
              "    }\n",
              "    20% {\n",
              "      border-color: transparent;\n",
              "      border-left-color: var(--fill-color);\n",
              "      border-top-color: var(--fill-color);\n",
              "    }\n",
              "    30% {\n",
              "      border-color: transparent;\n",
              "      border-left-color: var(--fill-color);\n",
              "      border-top-color: var(--fill-color);\n",
              "      border-right-color: var(--fill-color);\n",
              "    }\n",
              "    40% {\n",
              "      border-color: transparent;\n",
              "      border-right-color: var(--fill-color);\n",
              "      border-top-color: var(--fill-color);\n",
              "    }\n",
              "    60% {\n",
              "      border-color: transparent;\n",
              "      border-right-color: var(--fill-color);\n",
              "    }\n",
              "    80% {\n",
              "      border-color: transparent;\n",
              "      border-right-color: var(--fill-color);\n",
              "      border-bottom-color: var(--fill-color);\n",
              "    }\n",
              "    90% {\n",
              "      border-color: transparent;\n",
              "      border-bottom-color: var(--fill-color);\n",
              "    }\n",
              "  }\n",
              "</style>\n",
              "\n",
              "      <script>\n",
              "        async function quickchart(key) {\n",
              "          const quickchartButtonEl =\n",
              "            document.querySelector('#' + key + ' button');\n",
              "          quickchartButtonEl.disabled = true;  // To prevent multiple clicks.\n",
              "          quickchartButtonEl.classList.add('colab-df-spinner');\n",
              "          try {\n",
              "            const charts = await google.colab.kernel.invokeFunction(\n",
              "                'suggestCharts', [key], {});\n",
              "          } catch (error) {\n",
              "            console.error('Error during call to suggestCharts:', error);\n",
              "          }\n",
              "          quickchartButtonEl.classList.remove('colab-df-spinner');\n",
              "          quickchartButtonEl.classList.add('colab-df-quickchart-complete');\n",
              "        }\n",
              "        (() => {\n",
              "          let quickchartButtonEl =\n",
              "            document.querySelector('#df-24e48262-7e83-4ae5-9774-58fb57b81c65 button');\n",
              "          quickchartButtonEl.style.display =\n",
              "            google.colab.kernel.accessAllowed ? 'block' : 'none';\n",
              "        })();\n",
              "      </script>\n",
              "    </div>\n",
              "\n",
              "    </div>\n",
              "  </div>\n"
            ],
            "application/vnd.google.colaboratory.intrinsic+json": {
              "type": "dataframe",
              "variable_name": "df_sales",
              "summary": "{\n  \"name\": \"df_sales\",\n  \"rows\": 19,\n  \"fields\": [\n    {\n      \"column\": \"Month\",\n      \"properties\": {\n        \"dtype\": \"object\",\n        \"num_unique_values\": 19,\n        \"samples\": [\n          \"Jun 2024\",\n          \"Dec 2024\",\n          \"Apr 2024\"\n        ],\n        \"semantic_type\": \"\",\n        \"description\": \"\"\n      }\n    },\n    {\n      \"column\": \"V1_Sales\",\n      \"properties\": {\n        \"dtype\": \"Int64\",\n        \"num_unique_values\": 19,\n        \"samples\": [\n          177000,\n          502000,\n          96000\n        ],\n        \"semantic_type\": \"\",\n        \"description\": \"\"\n      }\n    },\n    {\n      \"column\": \"V2_Sales\",\n      \"properties\": {\n        \"dtype\": \"Int64\",\n        \"num_unique_values\": 8,\n        \"samples\": [\n          12000,\n          73000,\n          0\n        ],\n        \"semantic_type\": \"\",\n        \"description\": \"\"\n      }\n    },\n    {\n      \"column\": \"V1_months_since_launch\",\n      \"properties\": {\n        \"dtype\": \"Int64\",\n        \"num_unique_values\": 19,\n        \"samples\": [\n          5,\n          11,\n          3\n        ],\n        \"semantic_type\": \"\",\n        \"description\": \"\"\n      }\n    },\n    {\n      \"column\": \"V2_months_since_launch\",\n      \"properties\": {\n        \"dtype\": \"Int64\",\n        \"num_unique_values\": 7,\n        \"samples\": [\n          0,\n          1,\n          5\n        ],\n        \"semantic_type\": \"\",\n        \"description\": \"\"\n      }\n    }\n  ]\n}"
            }
          },
          "metadata": {},
          "execution_count": 2
        }
      ]
    },
    {
      "cell_type": "markdown",
      "metadata": {
        "id": "75365aa1"
      },
      "source": [
        "### Data preparation\n",
        "\n",
        "### Subtask:\n",
        "Prepare the data for plotting by selecting the relevant sales and 'months_since_launch' columns for V1 and V2, and restructuring the data into a suitable format for visualization.\n"
      ],
      "id": "75365aa1"
    },
    {
      "cell_type": "markdown",
      "metadata": {
        "id": "34df7638"
      },
      "source": [
        "**Reasoning**:\n",
        "To prepare the data for plotting as requested, I will select the specified columns, create and concatenate product-specific dataframes, clean missing/zero values, and convert 'months_since_launch' to integer.\n",
        "\n"
      ],
      "id": "34df7638"
    },
    {
      "cell_type": "code",
      "metadata": {
        "colab": {
          "base_uri": "https://localhost:8080/"
        },
        "id": "fb9c2e86",
        "executionInfo": {
          "status": "ok",
          "timestamp": 1754945203945,
          "user_tz": 420,
          "elapsed": 34,
          "user": {
            "displayName": "",
            "userId": ""
          }
        },
        "outputId": "0d5ccc62-95cc-43d6-ab79-bd2e07d5d641"
      },
      "source": [
        "import pandas as pd\n",
        "\n",
        "# Select relevant columns\n",
        "df_prepared = df_sales[['V1_Sales', 'V1_months_since_launch', 'V2_Sales', 'V2_months_since_launch']].copy()\n",
        "\n",
        "# Create DataFrame for V1 sales\n",
        "df_v1 = df_prepared[['V1_months_since_launch', 'V1_Sales']].copy()\n",
        "df_v1.rename(columns={'V1_months_since_launch': 'months_since_launch', 'V1_Sales': 'sales'}, inplace=True)\n",
        "df_v1['product'] = 'V1'\n",
        "\n",
        "# Create DataFrame for V2 sales\n",
        "df_v2 = df_prepared[['V2_months_since_launch', 'V2_Sales']].copy()\n",
        "df_v2.rename(columns={'V2_months_since_launch': 'months_since_launch', 'V2_Sales': 'sales'}, inplace=True)\n",
        "df_v2['product'] = 'V2'\n",
        "\n",
        "# Concatenate the two DataFrames\n",
        "df_combined = pd.concat([df_v1, df_v2], ignore_index=True)\n",
        "\n",
        "# Drop rows where 'sales' or 'months_since_launch' are missing or zero\n",
        "df_combined.replace({0: None}, inplace=True) # Replace 0 with None/NaN for dropping\n",
        "df_combined.dropna(subset=['sales', 'months_since_launch'], inplace=True)\n",
        "\n",
        "# Convert 'months_since_launch' to integer\n",
        "df_combined['months_since_launch'] = df_combined['months_since_launch'].astype(int)\n",
        "\n",
        "print(\"Data prepared successfully. Displaying the first 5 rows of the combined DataFrame:\")\n",
        "print(df_combined.head())\n",
        "print(\"\\nInfo of the combined DataFrame:\")\n",
        "df_combined.info()"
      ],
      "id": "fb9c2e86",
      "execution_count": null,
      "outputs": [
        {
          "output_type": "stream",
          "name": "stdout",
          "text": [
            "Data prepared successfully. Displaying the first 5 rows of the combined DataFrame:\n",
            "   months_since_launch   sales product\n",
            "0                    5  177000      V1\n",
            "1                    9  381000      V1\n",
            "2                    2   63000      V1\n",
            "3                   10  440000      V1\n",
            "4                    6  223000      V1\n",
            "\n",
            "Info of the combined DataFrame:\n",
            "<class 'pandas.core.frame.DataFrame'>\n",
            "Index: 24 entries, 0 to 37\n",
            "Data columns (total 3 columns):\n",
            " #   Column               Non-Null Count  Dtype \n",
            "---  ------               --------------  ----- \n",
            " 0   months_since_launch  24 non-null     int64 \n",
            " 1   sales                24 non-null     object\n",
            " 2   product              24 non-null     object\n",
            "dtypes: int64(1), object(2)\n",
            "memory usage: 768.0+ bytes\n"
          ]
        }
      ]
    },
    {
      "cell_type": "markdown",
      "metadata": {
        "id": "48956118"
      },
      "source": [
        "### Data visualization\n",
        "\n",
        "### Subtask:\n",
        "Create a line chart comparing the sales of V1 and V2 against 'Months Since Launch', applying the specified x and y axis grid line customizations.\n"
      ],
      "id": "48956118"
    },
    {
      "cell_type": "markdown",
      "metadata": {
        "id": "70ddccdd"
      },
      "source": [
        "**Reasoning**:\n",
        "To create the line chart as specified, I will first convert the 'sales' column to a numeric type, then use `matplotlib` to plot the sales data for V1 and V2, applying the required x-axis range and tick customizations, and whole number y-axis grid lines.\n",
        "\n"
      ],
      "id": "70ddccdd"
    },
    {
      "cell_type": "code",
      "metadata": {
        "colab": {
          "base_uri": "https://localhost:8080/",
          "height": 582
        },
        "id": "1cec9ace",
        "executionInfo": {
          "status": "ok",
          "timestamp": 1754945231784,
          "user_tz": 420,
          "elapsed": 517,
          "user": {
            "displayName": "",
            "userId": ""
          }
        },
        "outputId": "de7e3d0e-550b-42a7-a97a-7f82b5faf4ed"
      },
      "source": [
        "import matplotlib.pyplot as plt\n",
        "import matplotlib.ticker as mticker\n",
        "\n",
        "# Convert 'sales' column to numeric, coercing errors to NaN\n",
        "df_combined['sales'] = pd.to_numeric(df_combined['sales'], errors='coerce')\n",
        "\n",
        "# Drop any rows where sales might have become NaN after conversion\n",
        "df_combined.dropna(subset=['sales'], inplace=True)\n",
        "\n",
        "# Create the line plot\n",
        "plt.figure(figsize=(10, 6))\n",
        "\n",
        "# Plot V1 sales\n",
        "df_v1_plot = df_combined[df_combined['product'] == 'V1'].sort_values(by='months_since_launch')\n",
        "plt.plot(df_v1_plot['months_since_launch'], df_v1_plot['sales'], label='V1 Sales', marker='o')\n",
        "\n",
        "# Plot V2 sales\n",
        "df_v2_plot = df_combined[df_combined['product'] == 'V2'].sort_values(by='months_since_launch')\n",
        "plt.plot(df_v2_plot['months_since_launch'], df_v2_plot['sales'], label='V2 Sales', marker='o')\n",
        "\n",
        "# Customize x-axis\n",
        "plt.xlabel('Months Since Launch')\n",
        "plt.xticks(range(0, 19)) # Show whole numbers from 0 to 18\n",
        "plt.xlim(0, 18) # Set x-axis limits from 0 to 18\n",
        "\n",
        "# Customize y-axis\n",
        "plt.ylabel('Sales')\n",
        "plt.gca().yaxis.set_major_locator(mticker.MaxNLocator(integer=True)) # Ensure whole number grid lines\n",
        "plt.grid(axis='y', linestyle='--', alpha=0.7)\n",
        "\n",
        "# Add title and legend\n",
        "plt.title('Sales Comparison of V1 and V2 by Months Since Launch')\n",
        "plt.legend()\n",
        "plt.grid(True)\n",
        "\n",
        "# Display the plot\n",
        "plt.show()\n",
        "\n",
        "print(\"Line chart comparing V1 and V2 sales created successfully.\")"
      ],
      "id": "1cec9ace",
      "execution_count": null,
      "outputs": [
        {
          "output_type": "display_data",
          "data": {
            "text/plain": [
              "<Figure size 1000x600 with 1 Axes>"
            ],
            "image/png": "[encoded data removed]"
          },
          "metadata": {}
        },
        {
          "output_type": "stream",
          "name": "stdout",
          "text": [
            "Line chart comparing V1 and V2 sales created successfully.\n"
          ]
        }
      ]
    },
    {
      "cell_type": "markdown",
      "metadata": {
        "id": "8a6a7160"
      },
      "source": [
        "### Summary:\n",
        "\n",
        "### Data Analysis Key Findings\n",
        "\n",
        "*   The `global_gadgets_fork.monthly_product_sales` table was successfully loaded into a pandas DataFrame, providing sales data for V1 and V2 products, along with their respective 'months\\_since\\_launch' columns.\n",
        "*   Data preparation involved restructuring the sales data for V1 and V2 into a combined DataFrame (`df_combined`). This DataFrame contains 24 entries, with sales figures and 'months\\_since\\_launch' values for both products in a unified format, after removing any missing or zero values.\n",
        "*   A line chart was successfully generated comparing the sales of V1 and V2. The x-axis accurately represents 'Months Since Launch' from 0 to 18, with grid lines showing every whole number. The y-axis displays sales, with grid lines set to whole numbers for clarity.\n",
        "\n",
        "### Insights or Next Steps\n",
        "\n",
        "*   The generated chart provides a clear visual comparison of the sales growth trajectories for V1 and V2 products over their respective launch periods, allowing for direct comparison of their performance from inception.\n",
        "*   A potential next step could involve calculating and plotting the month-over-month growth rate for each product to provide a more detailed understanding of their sales momentum, and identify any specific months where one product significantly outperformed the other in terms of growth.\n"
      ],
      "id": "8a6a7160"
    },
    {
      "cell_type": "markdown",
      "source": [
        "### Confirming the drop"
      ],
      "metadata": {
        "id": "zfU_zFPDFVzk"
      },
      "id": "zfU_zFPDFVzk"
    },
    {
      "cell_type": "markdown",
      "source": [
        "As can be seen from the chart, the sales of V2 were initially tracking with the growth of V1 at the same point in its lifecycle but then the growth slowed dramatically."
      ],
      "metadata": {
        "id": "fJky0mJAFcid"
      },
      "id": "fJky0mJAFcid"
    },
    {
      "cell_type": "markdown",
      "source": [
        "## **2.** AI to Score Unstructured Data at Scale"
      ],
      "metadata": {
        "id": "NEq98qq-nfLJ"
      },
      "id": "NEq98qq-nfLJ"
    },
    {
      "cell_type": "markdown",
      "source": [
        "### Formulating a plan and using the AI Query Engine functions to analyze unstructured data"
      ],
      "metadata": {
        "id": "7X5yqYmwFxjt"
      },
      "id": "7X5yqYmwFxjt"
    },
    {
      "cell_type": "markdown",
      "source": [
        "We've seen some negative product reviews of the V2 speaker and are wondering how much those reviews might be impacting sales. We'll need to look into other factors such as shopper demographics as well.\n",
        "\n",
        "But first, to wrangle the review data, we'll need to categorize the reviews in terms of how positive or negative EACH review is toward the key product features that are most often mentioned in reviews for this type of product.\n",
        "\n",
        "We'll use the **AI.SCORE** function to analyze every V2 product review and to give each review a score from -2 (very negative) to +2 (very positive) with zero being either neutral or not mentioned for each of the four key product features.\n",
        "\n",
        "The product features are:\n",
        "* AI Assistant Pro (a new AI assistant added with V2)\n",
        "* Audio Quality\n",
        "* Seamless Connectivity\n",
        "* Smarthome Integration\n",
        "\n",
        "The following code generates a new table with that information for every V2 product review."
      ],
      "metadata": {
        "id": "4OKS0pMiF4Rt"
      },
      "id": "4OKS0pMiF4Rt"
    },
    {
      "cell_type": "code",
      "source": [
        "# set the variables for this environment\n",
        "# You will need to update these variables for YOUR project and location\n",
        "project_id = \"da-opm-sandbox\"\n",
        "location = \"US\""
      ],
      "metadata": {
        "id": "t9vFQXSPLoQH",
        "executionInfo": {
          "status": "ok",
          "timestamp": 1756831057081,
          "user_tz": 420,
          "elapsed": 90,
          "user": {
            "displayName": "",
            "userId": ""
          }
        }
      },
      "id": "t9vFQXSPLoQH",
      "execution_count": 11,
      "outputs": []
    },
    {
      "cell_type": "code",
      "source": [
        "# 1. Import the BigQuery client library\n",
        "from google.cloud import bigquery\n",
        "\n",
        "# 2. Create a client to interact with the BigQuery API\n",
        "# It will use the project_id variable you already set.\n",
        "client = bigquery.Client(project=project_id)\n",
        "\n",
        "# 3. Define the full SQL query using the f-string\n",
        "# This part is the same as before.\n",
        "query = f\"\"\"\n",
        "CREATE OR REPLACE TABLE {project_id}.global_gadgets_fork.reviews_feature_sentiment_score AS SELECT\n",
        "  review_id,\n",
        "\n",
        "  -- Score for \"AI Assistant Pro\"\n",
        "  AI.SCORE((\n",
        "    'Score the following review based on its sentiment towards \"AI Assistant Pro\". '\n",
        "    'This feature refers to the smart assistant\\\\'s intelligence, responsiveness, and ability to understand commands (e.g., \"the assistant is dumb\", \"the AI can\\\\'t understand me\"). '\n",
        "    'Use this scoring rubric: +2 (Very Positive), +1 (Positive), 0 (Neutral or Not Mentioned), -1 (Negative), -2 (Very Negative). '\n",
        "    'Review: ', review_body),\n",
        "    connection_id => '{project_id}.{location}.vertex_ai_connection'\n",
        "  ) AS ai_assistant_pro_score,\n",
        "\n",
        "  -- Score for \"Audio Quality\"\n",
        "  AI.SCORE((\n",
        "    'Score the following review based on its sentiment towards \"Audio Quality\". '\n",
        "    'This feature refers to how the speaker sounds (e.g., \"great bass\", \"clear sound\", \"it\\\\'s loud\"). '\n",
        "    'Use this scoring rubric: +2 (Very Positive), +1 (Positive), 0 (Neutral or Not Mentioned), -1 (Negative), -2 (Very Negative). '\n",
        "    'Review: ', review_body),\n",
        "    connection_id => '{project_id}.{location}.vertex_ai_connection'\n",
        "  ) AS audio_quality_score,\n",
        "\n",
        "  -- Score for \"Seamless Connectivity\"\n",
        "  AI.SCORE((\n",
        "    'Score the following review based on its sentiment towards \"Seamless Connectivity\". '\n",
        "    'This feature refers to how well the speaker connects to Wi-Fi or Bluetooth (e.g., \"connection drops\", \"setup was easy\"). '\n",
        "    'Use this scoring rubric: +2 (Very Positive), +1 (Positive), 0 (Neutral or Not Mentioned), -1 (Negative), -2 (Very Negative). '\n",
        "    'Review: ', review_body),\n",
        "    connection_id => '{project_id}.{location}.vertex_ai_connection'\n",
        "  ) AS seamless_connectivity_score,\n",
        "\n",
        "  -- Score for \"Smart Home Integration\"\n",
        "  AI.SCORE((\n",
        "    'Score the following review based on its sentiment towards \"Smart Home Integration\". '\n",
        "    'This feature refers to its ability to control other devices like lights or thermostats. '\n",
        "    'Use this scoring rubric: +2 (Very Positive), +1 (Positive), 0 (Neutral or Not Mentioned), -1 (Negative), -2 (Very Negative). '\n",
        "    'Review: ', review_body),\n",
        "    connection_id => '{project_id}.{location}.vertex_ai_connection'\n",
        "  ) AS smart_home_integration_score\n",
        "\n",
        "FROM\n",
        "  `{project_id}`.global_gadgets_fork.product_reviews\n",
        "\"\"\"\n",
        "\n",
        "# 4. Execute the query and wait for the job to complete\n",
        "print(\"Executing query...\")\n",
        "query_job = client.query(query)\n",
        "query_job.result()  # Waits for the job to finish.\n",
        "\n",
        "print(f\"Query finished successfully. Job {query_job.job_id} is complete.\")"
      ],
      "metadata": {
        "colab": {
          "base_uri": "https://localhost:8080/"
        },
        "id": "uaUbPOjdVHVR",
        "executionInfo": {
          "status": "ok",
          "timestamp": 1756831907044,
          "user_tz": 420,
          "elapsed": 38407,
          "user": {
            "displayName": "",
            "userId": ""
          }
        },
        "outputId": "b2872187-7585-455b-9152-021774801010"
      },
      "id": "uaUbPOjdVHVR",
      "execution_count": 16,
      "outputs": [
        {
          "output_type": "stream",
          "name": "stdout",
          "text": [
            "Executing query...\n",
            "Query finished successfully. Job 08f155af-60e2-4c03-a4f3-5dcf26ffd85b is complete.\n"
          ]
        }
      ]
    },
    {
      "cell_type": "markdown",
      "source": [
        "## **3.** Gathering all of the data: The bigger picture"
      ],
      "metadata": {
        "id": "9WW4hy0BI-Sj"
      },
      "id": "9WW4hy0BI-Sj"
    },
    {
      "cell_type": "markdown",
      "source": [
        "Now that we have the review sentiment information, we need to do two more things to prepare for our final analysis. We need to look at which site visitors to the V2 product page did NOT convert to purchases and for them:\n",
        "* Which negatively reviewed features did they see\n",
        "* What is all of the demographic and device data that we have\n",
        "\n",
        "We need to prepare a table for a final analysis so that our model can determine the weight of the different features to predict which feature is most influential in visitors choosing NOT to purchase. We need anctionable insights.\n",
        "\n",
        "The demographic features we'll look at are gender, age range and the urbanicity of the visitors location. The device information we'll consider will be mobile, desktop, tablet.\n",
        "\n",
        "The code below will identify which V2 product page visits saw which reviews and will have 1-hot columns for the four features to determine if any of those reviews had a very negative review of any of those features. It will also have 1-hot columns for demographic and device informaiton.\n",
        "\n",
        "This massively joined table will be used in the final analysis."
      ],
      "metadata": {
        "id": "t8TPK8XjJDDx"
      },
      "id": "t8TPK8XjJDDx"
    },
    {
      "cell_type": "code",
      "source": [
        "# 1. Define the full SQL query using the f-string\n",
        "query = f\"\"\"\n",
        "CREATE OR REPLACE TABLE `{project_id}`.global_gadgets_fork.FINAL_ANALYSIS AS (\n",
        "WITH\n",
        "  -- Unnest the comma-separated list of review IDs for each session\n",
        "  session_reviews_unnested AS (\n",
        "    SELECT\n",
        "      session_id,\n",
        "      -- Using REPLACE to remove single quotes and TRIM for whitespace\n",
        "      REPLACE(TRIM(review_id), \"'\", \"\") AS review_id\n",
        "    FROM\n",
        "      `{project_id}`.global_gadgets_fork.sessions_reviews,\n",
        "      UNNEST(SPLIT(reviews_seen, ',')) AS review_id\n",
        "  )\n",
        "-- Join all tables and perform the final aggregation\n",
        "SELECT\n",
        "  s.session_id,\n",
        "  s.`session_date-time`,\n",
        "  s.device_type,\n",
        "  s.converted,\n",
        "  -- Create a flag (1 or 0) if any review seen had a score of -2 for each feature\n",
        "  MAX(IF(scores.ai_assistant_pro_score = -2, 1, 0)) AS AI_Assistant_neg_review_seen,\n",
        "  MAX(IF(scores.audio_quality_score = -2, 1, 0)) AS Audio_Quality_neg_review_seen,\n",
        "  MAX(IF(scores.seamless_connectivity_score = -2, 1, 0)) AS Seamless_Connectivity_neg_review_seen,\n",
        "  MAX(IF(scores.smart_home_integration_score = -2, 1, 0)) AS Smart_Home_Integration_neg_review_seen,\n",
        "  -- One-hot encoded columns from user_info (based on actual distinct values)\n",
        "  CASE WHEN ui.gender = 'M' THEN 1 ELSE 0 END AS gender_M,\n",
        "  CASE WHEN ui.gender = 'F' THEN 1 ELSE 0 END AS gender_F,\n",
        "  CASE WHEN ui.age_range = '31 - 45' THEN 1 ELSE 0 END AS age_range_31_45,\n",
        "  CASE WHEN ui.age_range = '>60' THEN 1 ELSE 0 END AS age_range_gt60,\n",
        "  CASE WHEN ui.age_range = '20 - 30' THEN 1 ELSE 0 END AS age_range_20_30,\n",
        "  CASE WHEN ui.age_range = '46 - 60' THEN 1 ELSE 0 END AS age_range_46_60,\n",
        "  CASE WHEN ui.age_range = '<20' THEN 1 ELSE 0 END AS age_range_lt20,\n",
        "  CASE WHEN ui.urbanicity = 'suburban' THEN 1 ELSE 0 END AS urbanicity_suburban,\n",
        "  CASE WHEN ui.urbanicity = 'rural' THEN 1 ELSE 0 END AS urbanicity_rural,\n",
        "  CASE WHEN ui.urbanicity = 'urban' THEN 1 ELSE 0 END AS urbanicity_urban,\n",
        "  -- New one-hot encoded columns for device_type\n",
        "  CASE WHEN s.device_type = 'desktop' THEN 1 ELSE 0 END AS device_type_desktop,\n",
        "  CASE WHEN s.device_type = 'mobile' THEN 1 ELSE 0 END AS device_type_mobile,\n",
        "  CASE WHEN s.device_type = 'tablet' THEN 1 ELSE 0 END AS device_type_tablet\n",
        "FROM\n",
        "  `{project_id}`.global_gadgets_fork.sessions AS s\n",
        "  -- Join sessions with the now-clean unnested reviews\n",
        "  INNER JOIN session_reviews_unnested AS ur ON s.session_id = ur.session_id\n",
        "  -- Join with the scores table to get the sentiment for each review\n",
        "  INNER JOIN `{project_id}`.global_gadgets_fork.reviews_feature_sentiment_score AS scores ON ur.review_id = scores.review_id\n",
        "  -- Join with session_to_user_map to get user_id\n",
        "  INNER JOIN `{project_id}`.global_gadgets_fork.session_to_user_map AS stum ON s.session_id = stum.session_id\n",
        "  -- Join with user_info table\n",
        "  INNER JOIN `{project_id}`.global_gadgets_fork.user_info AS ui ON stum.user_id = ui.user_id\n",
        "GROUP BY\n",
        "  s.session_id,\n",
        "  s.`session_date-time`,\n",
        "  s.device_type,\n",
        "  s.converted,\n",
        "  -- Include new one-hot encoded columns in GROUP BY\n",
        "  gender_M,\n",
        "  gender_F,\n",
        "  age_range_31_45,\n",
        "  age_range_gt60,\n",
        "  age_range_20_30,\n",
        "  age_range_46_60,\n",
        "  age_range_lt20,\n",
        "  urbanicity_suburban,\n",
        "  urbanicity_rural,\n",
        "  urbanicity_urban,\n",
        "  -- New one-hot encoded columns for device_type in GROUP BY\n",
        "  device_type_desktop,\n",
        "  device_type_mobile,\n",
        "  device_type_tablet\n",
        ")\n",
        "\"\"\"\n",
        "\n",
        "# 2. Execute the query and wait for the job to complete\n",
        "print(\"Executing FINAL_ANALYSIS query...\")\n",
        "query_job = client.query(query)\n",
        "query_job.result()  # Waits for the job to finish.\n",
        "\n",
        "print(f\"Query finished successfully. Job {query_job.job_id} is complete.\")"
      ],
      "metadata": {
        "colab": {
          "base_uri": "https://localhost:8080/"
        },
        "id": "ZjPfb2weW7dJ",
        "executionInfo": {
          "status": "ok",
          "timestamp": 1756832201592,
          "user_tz": 420,
          "elapsed": 3302,
          "user": {
            "displayName": "",
            "userId": ""
          }
        },
        "outputId": "ea3947f9-c8b0-4b75-ba8d-42fdcc61cc90"
      },
      "id": "ZjPfb2weW7dJ",
      "execution_count": 17,
      "outputs": [
        {
          "output_type": "stream",
          "name": "stdout",
          "text": [
            "Executing FINAL_ANALYSIS query...\n",
            "Query finished successfully. Job 44e366ce-1708-4854-ade3-d591d6e0a833 is complete.\n"
          ]
        }
      ]
    },
    {
      "cell_type": "markdown",
      "source": [
        "## **4.** Model to predict the feature weight: The data science heavy lifting with the Data Science Agent"
      ],
      "metadata": {
        "id": "lWPRtLQtId2K"
      },
      "id": "lWPRtLQtId2K"
    },
    {
      "cell_type": "markdown",
      "source": [
        "Now that we have all of the data in a final table ready for analysis, we'll ask the Data Science Agent to run an XGBOOST model to identify the feature weights and to visualize the weights. The prompt below was used the generate the code and analysis that follows. It is included here for demonstration purposes.\n",
        "\n",
        "Our hope is that we can identify key factor(s) driving the drop in sales growth so that we can take corrective action."
      ],
      "metadata": {
        "id": "XpcAKkvOIscQ"
      },
      "id": "XpcAKkvOIscQ"
    },
    {
      "cell_type": "markdown",
      "source": [
        "**The Prompt:**\n",
        "\n",
        "> This prompt generated the below code. It does not need to be entered again. It is included here for demonstration purposes only.\n",
        "\n",
        "*Using the FINAL_ANALYSIS table, create an XGBOOST model to determine to what degree any demographic factors or device types or negative review seen is impacting why a shopper decided not to purchase the device. Show a visualization of the feature importance.*"
      ],
      "metadata": {
        "id": "18vMVyKjAO4r"
      },
      "id": "18vMVyKjAO4r"
    },
    {
      "cell_type": "markdown",
      "metadata": {
        "id": "d72b1455"
      },
      "source": [
        "### Task\n",
        "Create an XGBoost model using the data from `FINAL_ANALYSIS` table to determine the impact of demographic factors, device types, and negative reviews on shopper purchase decisions."
      ],
      "id": "d72b1455"
    },
    {
      "cell_type": "markdown",
      "metadata": {
        "id": "39fe516f"
      },
      "source": [
        "### Data loading\n",
        "\n",
        "### Subtask:\n",
        "Load the `FINAL_ANALYSIS` table into a pandas DataFrame.\n"
      ],
      "id": "39fe516f"
    },
    {
      "cell_type": "markdown",
      "metadata": {
        "id": "c7fe55c0"
      },
      "source": [
        "**Reasoning**:\n",
        "To load the `FINAL_ANALYSIS` table into a pandas DataFrame, I will import `pandas_gbq`, define the project and table IDs, construct the SQL query, and then use `gbq.read_gbq` to fetch the data. Finally, I will display the head and info of the DataFrame to confirm successful loading.\n",
        "\n"
      ],
      "id": "c7fe55c0"
    },
    {
      "cell_type": "code",
      "metadata": {
        "colab": {
          "base_uri": "https://localhost:8080/"
        },
        "id": "abc32231",
        "executionInfo": {
          "status": "ok",
          "timestamp": 1754946545138,
          "user_tz": 420,
          "elapsed": 4573,
          "user": {
            "displayName": "",
            "userId": ""
          }
        },
        "outputId": "b2bb6f26-5112-447a-96b8-0cce47891575"
      },
      "source": [
        "import pandas_gbq as gbq\n",
        "\n",
        "project_id = 'da-opm-sandbox'\n",
        "table_id = 'global_gadgets_fork.FINAL_ANALYSIS'\n",
        "\n",
        "query = f\"\"\"SELECT * FROM `{project_id}.{table_id}`\"\"\"\n",
        "\n",
        "df_final_analysis = gbq.read_gbq(query, project_id=project_id)\n",
        "\n",
        "print(\"Data loaded successfully. Displaying the first 5 rows:\")\n",
        "df_final_analysis.head()\n",
        "print(\"\\nInfo of the DataFrame:\")\n",
        "df_final_analysis.info()"
      ],
      "id": "abc32231",
      "execution_count": null,
      "outputs": [
        {
          "output_type": "stream",
          "name": "stdout",
          "text": [
            "Downloading: 100%|\u001b[32m██████████\u001b[0m|\n",
            "Data loaded successfully. Displaying the first 5 rows:\n",
            "\n",
            "Info of the DataFrame:\n",
            "<class 'pandas.core.frame.DataFrame'>\n",
            "RangeIndex: 10884 entries, 0 to 10883\n",
            "Data columns (total 21 columns):\n",
            " #   Column                                  Non-Null Count  Dtype              \n",
            "---  ------                                  --------------  -----              \n",
            " 0   session_id                              10884 non-null  object             \n",
            " 1   session_date-time                       10884 non-null  datetime64[us, UTC]\n",
            " 2   device_type                             10884 non-null  object             \n",
            " 3   converted                               10884 non-null  boolean            \n",
            " 4   AI_Assistant_neg_review_seen            10884 non-null  Int64              \n",
            " 5   Audio_Quality_neg_review_seen           10884 non-null  Int64              \n",
            " 6   Seamless_Connectivity_neg_review_seen   10884 non-null  Int64              \n",
            " 7   Smart_Home_Integration_neg_review_seen  10884 non-null  Int64              \n",
            " 8   gender_M                                10884 non-null  Int64              \n",
            " 9   gender_F                                10884 non-null  Int64              \n",
            " 10  age_range_31_45                         10884 non-null  Int64              \n",
            " 11  age_range_gt60                          10884 non-null  Int64              \n",
            " 12  age_range_20_30                         10884 non-null  Int64              \n",
            " 13  age_range_46_60                         10884 non-null  Int64              \n",
            " 14  age_range_lt20                          10884 non-null  Int64              \n",
            " 15  urbanicity_suburban                     10884 non-null  Int64              \n",
            " 16  urbanicity_rural                        10884 non-null  Int64              \n",
            " 17  urbanicity_urban                        10884 non-null  Int64              \n",
            " 18  device_type_desktop                     10884 non-null  Int64              \n",
            " 19  device_type_mobile                      10884 non-null  Int64              \n",
            " 20  device_type_tablet                      10884 non-null  Int64              \n",
            "dtypes: Int64(17), boolean(1), datetime64[us, UTC](1), object(2)\n",
            "memory usage: 1.9+ MB\n"
          ]
        }
      ]
    },
    {
      "cell_type": "markdown",
      "metadata": {
        "id": "bd38027e"
      },
      "source": [
        "### Data preprocessing\n",
        "\n",
        "### Subtask:\n",
        "Prepare the data for the XGBoost model, including handling categorical features and splitting into training and testing sets.\n"
      ],
      "id": "bd38027e"
    },
    {
      "cell_type": "markdown",
      "metadata": {
        "id": "7e0d953d"
      },
      "source": [
        "**Reasoning**:\n",
        "To prepare the data for the XGBoost model, I will separate the target and features, drop irrelevant columns, and then split the data into training and testing sets as per the instructions.\n",
        "\n"
      ],
      "id": "7e0d953d"
    },
    {
      "cell_type": "code",
      "metadata": {
        "colab": {
          "base_uri": "https://localhost:8080/"
        },
        "id": "ce3561f7",
        "executionInfo": {
          "status": "ok",
          "timestamp": 1754946638781,
          "user_tz": 420,
          "elapsed": 1462,
          "user": {
            "displayName": "",
            "userId": ""
          }
        },
        "outputId": "53b0d307-4e1f-4dd2-b752-53e83a90eb8a"
      },
      "source": [
        "from sklearn.model_selection import train_test_split\n",
        "\n",
        "# Separate target variable 'converted' from features\n",
        "X = df_final_analysis.drop('converted', axis=1)\n",
        "y = df_final_analysis['converted']\n",
        "\n",
        "# Drop irrelevant columns from features DataFrame\n",
        "X = X.drop(['session_id', 'session_date-time', 'device_type'], axis=1)\n",
        "\n",
        "# Split the data into training and testing sets (80/20 ratio)\n",
        "X_train, X_test, y_train, y_test = train_test_split(X, y, test_size=0.2, random_state=42)\n",
        "\n",
        "print(\"Data prepared and split into training and testing sets successfully.\")\n",
        "print(f\"Shape of X_train: {X_train.shape}\")\n",
        "print(f\"Shape of X_test: {X_test.shape}\")\n",
        "print(f\"Shape of y_train: {y_train.shape}\")\n",
        "print(f\"Shape of y_test: {y_test.shape}\")"
      ],
      "id": "ce3561f7",
      "execution_count": null,
      "outputs": [
        {
          "output_type": "stream",
          "name": "stdout",
          "text": [
            "Data prepared and split into training and testing sets successfully.\n",
            "Shape of X_train: (8707, 17)\n",
            "Shape of X_test: (2177, 17)\n",
            "Shape of y_train: (8707,)\n",
            "Shape of y_test: (2177,)\n"
          ]
        }
      ]
    },
    {
      "cell_type": "markdown",
      "metadata": {
        "id": "c9639369"
      },
      "source": [
        "### Model training\n",
        "\n",
        "### Subtask:\n",
        "Train an XGBoost classification model.\n"
      ],
      "id": "c9639369"
    },
    {
      "cell_type": "markdown",
      "metadata": {
        "id": "e704e814"
      },
      "source": [
        "**Reasoning**:\n",
        "To train the XGBoost classification model, I will import `XGBClassifier`, instantiate it with the specified parameters to avoid warnings, and then fit the model to the training data.\n",
        "\n"
      ],
      "id": "e704e814"
    },
    {
      "cell_type": "code",
      "metadata": {
        "colab": {
          "base_uri": "https://localhost:8080/"
        },
        "id": "8f134744",
        "executionInfo": {
          "status": "ok",
          "timestamp": 1754946787164,
          "user_tz": 420,
          "elapsed": 2363,
          "user": {
            "displayName": "",
            "userId": ""
          }
        },
        "outputId": "1c0a5550-d0ff-419a-9fb8-1474123cfb26"
      },
      "source": [
        "import xgboost as xgb\n",
        "\n",
        "# Instantiate XGBClassifier\n",
        "# Setting use_label_encoder=False and eval_metric='logloss' to suppress warnings\n",
        "model = xgb.XGBClassifier(use_label_encoder=False, eval_metric='logloss', random_state=42)\n",
        "\n",
        "# Train the model\n",
        "model.fit(X_train, y_train)\n",
        "\n",
        "print(\"XGBoost classification model trained successfully.\")"
      ],
      "id": "8f134744",
      "execution_count": null,
      "outputs": [
        {
          "output_type": "stream",
          "name": "stdout",
          "text": [
            "XGBoost classification model trained successfully.\n"
          ]
        },
        {
          "output_type": "stream",
          "name": "stderr",
          "text": [
            "/usr/local/lib/python3.11/dist-packages/xgboost/training.py:183: UserWarning: [21:13:08] WARNING: /workspace/src/learner.cc:738: \n",
            "Parameters: { \"use_label_encoder\" } are not used.\n",
            "\n",
            "  bst.update(dtrain, iteration=i, fobj=obj)\n"
          ]
        }
      ]
    },
    {
      "cell_type": "markdown",
      "metadata": {
        "id": "191c0337"
      },
      "source": [
        "### Model evaluation\n",
        "\n",
        "### Subtask:\n",
        "Evaluate the trained model's performance.\n"
      ],
      "id": "191c0337"
    },
    {
      "cell_type": "markdown",
      "metadata": {
        "id": "204bf4dc"
      },
      "source": [
        "**Reasoning**:\n",
        "To evaluate the model, I will import the necessary metrics from `sklearn.metrics`, make predictions on the test set, and then compute and display the accuracy, precision, recall, and F1-score.\n",
        "\n"
      ],
      "id": "204bf4dc"
    },
    {
      "cell_type": "code",
      "metadata": {
        "colab": {
          "base_uri": "https://localhost:8080/"
        },
        "id": "082aef90",
        "executionInfo": {
          "status": "ok",
          "timestamp": 1754946841962,
          "user_tz": 420,
          "elapsed": 48,
          "user": {
            "displayName": "",
            "userId": ""
          }
        },
        "outputId": "76e71b92-32e0-4605-cac1-7c16f0c7bc44"
      },
      "source": [
        "from sklearn.metrics import accuracy_score, precision_score, recall_score, f1_score\n",
        "\n",
        "# Make predictions on the test set\n",
        "y_pred = model.predict(X_test)\n",
        "\n",
        "# Calculate evaluation metrics\n",
        "accuracy = accuracy_score(y_test, y_pred)\n",
        "precision = precision_score(y_test, y_pred)\n",
        "recall = recall_score(y_test, y_pred)\n",
        "f1 = f1_score(y_test, y_pred)\n",
        "\n",
        "# Print the evaluation metrics\n",
        "print(f\"Model Evaluation Metrics:\\n\")\n",
        "print(f\"Accuracy: {accuracy:.4f}\")\n",
        "print(f\"Precision: {precision:.4f}\")\n",
        "print(f\"Recall: {recall:.4f}\")\n",
        "print(f\"F1-Score: {f1:.4f}\")"
      ],
      "id": "082aef90",
      "execution_count": null,
      "outputs": [
        {
          "output_type": "stream",
          "name": "stdout",
          "text": [
            "Model Evaluation Metrics:\n",
            "\n",
            "Accuracy: 0.8222\n",
            "Precision: 0.0000\n",
            "Recall: 0.0000\n",
            "F1-Score: 0.0000\n"
          ]
        },
        {
          "output_type": "stream",
          "name": "stderr",
          "text": [
            "/usr/local/lib/python3.11/dist-packages/sklearn/metrics/_classification.py:1565: UndefinedMetricWarning: Precision is ill-defined and being set to 0.0 due to no predicted samples. Use `zero_division` parameter to control this behavior.\n",
            "  _warn_prf(average, modifier, f\"{metric.capitalize()} is\", len(result))\n"
          ]
        }
      ]
    },
    {
      "cell_type": "markdown",
      "metadata": {
        "id": "a74d3ecb"
      },
      "source": [
        "### Feature importance analysis\n",
        "\n",
        "### Subtask:\n",
        "Determine the importance of each feature in predicting shopper purchase decisions.\n"
      ],
      "id": "a74d3ecb"
    },
    {
      "cell_type": "markdown",
      "metadata": {
        "id": "25a14b8e"
      },
      "source": [
        "**Reasoning**:\n",
        "To determine feature importance, I will access the trained model's `feature_importances_` attribute, create a pandas Series with feature names from `X_train`, sort it, and then print the results.\n",
        "\n"
      ],
      "id": "25a14b8e"
    },
    {
      "cell_type": "code",
      "metadata": {
        "colab": {
          "base_uri": "https://localhost:8080/"
        },
        "id": "8b97f03e",
        "executionInfo": {
          "status": "ok",
          "timestamp": 1754946865293,
          "user_tz": 420,
          "elapsed": 28,
          "user": {
            "displayName": "",
            "userId": ""
          }
        },
        "outputId": "b0b334d9-009f-4dcb-b676-4e39d7a72ef9"
      },
      "source": [
        "import pandas as pd\n",
        "\n",
        "# Get feature importances from the trained model\n",
        "feature_importances = model.feature_importances_\n",
        "\n",
        "# Create a pandas Series with feature names\n",
        "feature_names = X_train.columns\n",
        "importance_df = pd.Series(feature_importances, index=feature_names)\n",
        "\n",
        "# Sort feature importances in descending order\n",
        "sorted_importance = importance_df.sort_values(ascending=False)\n",
        "\n",
        "print(\"Feature Importances (sorted descending):\")\n",
        "print(sorted_importance)"
      ],
      "id": "8b97f03e",
      "execution_count": null,
      "outputs": [
        {
          "output_type": "stream",
          "name": "stdout",
          "text": [
            "Feature Importances (sorted descending):\n",
            "AI_Assistant_neg_review_seen              0.739801\n",
            "urbanicity_rural                          0.078660\n",
            "age_range_46_60                           0.046397\n",
            "device_type_mobile                        0.043561\n",
            "device_type_tablet                        0.016583\n",
            "gender_M                                  0.014598\n",
            "age_range_lt20                            0.012596\n",
            "age_range_20_30                           0.010700\n",
            "device_type_desktop                       0.010470\n",
            "age_range_31_45                           0.009705\n",
            "urbanicity_suburban                       0.006230\n",
            "age_range_gt60                            0.006018\n",
            "urbanicity_urban                          0.004682\n",
            "gender_F                                  0.000000\n",
            "Audio_Quality_neg_review_seen             0.000000\n",
            "Seamless_Connectivity_neg_review_seen     0.000000\n",
            "Smart_Home_Integration_neg_review_seen    0.000000\n",
            "dtype: float32\n"
          ]
        }
      ]
    },
    {
      "cell_type": "markdown",
      "metadata": {
        "id": "f5ae46c9"
      },
      "source": [
        "### Summary:\n",
        "\n",
        "### Q&A\n",
        "\n",
        "**To what degree are demographic factors, device types, or negative reviews impacting why a shopper decided not to purchase the device?**\n",
        "\n",
        "The XGBoost model indicates that the most significant factor impacting a shopper's decision not to purchase (or conversion) is `AI_Assistant_neg_review_seen`, with an importance score of approximately 0.74. This suggests that whether a shopper has viewed negative reviews related to AI Assistant features is highly influential. Other impactful factors, though to a much lesser degree, include `urbanicity_rural` (0.079), `age_range_46_60` (0.046), and `device_type_mobile` (0.044). Several demographic factors (like gender_F) and other negative review categories (Audio Quality, Seamless Connectivity, Smart Home Integration) showed zero importance in this model.\n",
        "\n",
        "### Data Analysis Key Findings\n",
        "\n",
        "*   The `FINAL_ANALYSIS` table, containing 10884 entries and 21 columns, was successfully loaded into a pandas DataFrame.\n",
        "*   The data was successfully preprocessed, separating the target variable 'converted' from 17 features, and then split into training (8707 samples) and testing (2177 samples) sets.\n",
        "*   An XGBoost classification model was successfully trained on the prepared data.\n",
        "*   The trained model achieved an accuracy of 0.8222. However, the precision, recall, and F1-score for the positive class (converted) were 0.0000. This indicates that the model did not predict any positive conversions in the test set, likely due to a significant class imbalance in the target variable.\n",
        "*   Feature importance analysis revealed that `AI_Assistant_neg_review_seen` is by far the most influential factor, contributing to approximately 74% of the feature importance.\n",
        "*   Other features with notable, but significantly lower, importance include `urbanicity_rural` (0.079), `age_range_46_60` (0.046), and `device_type_mobile` (0.044).\n",
        "*   Several features, including `gender_F`, `Audio_Quality_neg_review_seen`, `Seamless_Connectivity_neg_review_seen`, and `Smart_Home_Integration_neg_review_seen`, showed no importance (0.0000) in this model.\n",
        "\n",
        "### Insights or Next Steps\n",
        "\n",
        "*   The dominance of `AI_Assistant_neg_review_seen` as a predictor highlights a critical area for improving conversion rates. Businesses should investigate the content of these negative reviews and consider strategies to mitigate their impact, such as improving AI Assistant features or proactively addressing common complaints.\n",
        "*   The model's inability to predict any positive conversions (Precision, Recall, F1-Score of 0.0000) strongly suggests a class imbalance issue. Future steps should involve addressing this imbalance using techniques like oversampling (SMOTE), undersampling, or adjusting class weights in the XGBoost model to improve its ability to identify and predict conversions.\n"
      ],
      "id": "f5ae46c9"
    },
    {
      "cell_type": "code",
      "metadata": {
        "colab": {
          "base_uri": "https://localhost:8080/",
          "height": 619
        },
        "id": "384db7b8",
        "executionInfo": {
          "status": "ok",
          "timestamp": 1754947076798,
          "user_tz": 420,
          "elapsed": 423,
          "user": {
            "displayName": "",
            "userId": ""
          }
        },
        "outputId": "607b6743-a8cd-4f10-f02f-2a39191c83f6"
      },
      "source": [
        "import matplotlib.pyplot as plt\n",
        "import seaborn as sns\n",
        "\n",
        "# Create a bar plot of feature importances\n",
        "plt.figure(figsize=(12, 8))\n",
        "sns.barplot(x=sorted_importance.values, y=sorted_importance.index)\n",
        "plt.title('Feature Importances from XGBoost Model')\n",
        "plt.xlabel('Importance')\n",
        "plt.ylabel('Feature')\n",
        "plt.grid(axis='x', linestyle='--', alpha=0.7)\n",
        "plt.show()\n",
        "\n",
        "print(\"Feature importance visualization created successfully.\")"
      ],
      "id": "384db7b8",
      "execution_count": null,
      "outputs": [
        {
          "output_type": "display_data",
          "data": {
            "text/plain": [
              "<Figure size 1200x800 with 1 Axes>"
            ],
            "image/png": "[encoded data removed]"
          },
          "metadata": {}
        },
        {
          "output_type": "stream",
          "name": "stdout",
          "text": [
            "Feature importance visualization created successfully.\n"
          ]
        }
      ]
    },
    {
      "cell_type": "markdown",
      "source": [
        "## **5.** Closing: AI scoring at scale and agentic assist are force multipliers"
      ],
      "metadata": {
        "id": "KdUR8Sb4X_DA"
      },
      "id": "KdUR8Sb4X_DA"
    },
    {
      "cell_type": "markdown",
      "source": [
        "This visualization provides clear confirmation that the product reviews are most responsible for the decline in sales growth. In particular, it is the AI Assistant feature that is being poorly reviewed and when shoppers see those negative reviews they are choosing not to purchase.\n",
        "\n",
        "This gives us immediate actionable insight and means that our engineering team should be laser focused on addressing the complaints, bugs, issues with the AI Assistant Pro.\n",
        "\n",
        "The Data Science Agent provides **a powerful multiplier effect for our data scientists,** allowing them to rapidly build, train, and deploy models, delivering critical, actionable intelligence at an unprecedented pace.\n",
        "\n",
        "As you can see from this notebook, what at first seemed like a difficult question that would have required a team and several days, was quickly broken down and identified within minutes using Google AI Query Engine and Data Science Agent.\n",
        "\n"
      ],
      "metadata": {
        "id": "cKLTDNimYCl5"
      },
      "id": "cKLTDNimYCl5"
    }
  ],
  "metadata": {
    "kernelspec": {
      "display_name": "Python 3",
      "language": "python",
      "name": "python3"
    },
    "language_info": {
      "codemirror_mode": {
        "name": "ipython",
        "version": 3
      },
      "file_extension": ".py",
      "mimetype": "text/x-python",
      "name": "python",
      "nbconvert_exporter": "python",
      "pygments_lexer": "ipython3",
      "version": "3.10.10"
    },
    "colab": {
      "provenance": [],
      "name": "Investigating Poor Product Sales"
    }
  },
  "nbformat": 4,
  "nbformat_minor": 5
}
