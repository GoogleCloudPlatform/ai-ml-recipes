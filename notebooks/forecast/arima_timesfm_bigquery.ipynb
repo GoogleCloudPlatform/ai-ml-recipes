{
  "cells": [
    {
      "cell_type": "code",
      "execution_count": null,
      "metadata": {
        "id": "cMQCs0oQf5Jo"
      },
      "outputs": [],
      "source": [
        "# Copyright 2025 Google LLC\n",
        "#\n",
        "# Licensed under the Apache License, Version 2.0 (the \"License\");\n",
        "# you may not use this file except in compliance with the License.\n",
        "# You may obtain a copy of the License at\n",
        "#\n",
        "#     https://www.apache.org/licenses/LICENSE-2.0\n",
        "#\n",
        "# Unless required by applicable law or agreed to in writing, software\n",
        "# distributed under the License is distributed on an \"AS IS\" BASIS,\n",
        "# WITHOUT WARRANTIES OR CONDITIONS OF ANY KIND, either express or implied.\n",
        "# See the License for the specific language governing permissions and\n",
        "# limitations under the License."
      ]
    },
    {
      "cell_type": "markdown",
      "metadata": {},
      "source": [
        "<table align=\"left\">\n",
        "  <td><a href=\"https://colab.research.google.com/github/GoogleCloudPlatform/ai-ml-recipes/blob/main/notebooks/forecast/arima_timesfm_bigquery.ipynb\"><img src=\"https://avatars.githubusercontent.com/u/33467679?s=200&v=4\" width=\"32px\" alt=\"Colab logo\"> Run in Colab</a></td>\n",
        "  <td><a href=\"https://github.com/GoogleCloudPlatform/ai-ml-recipes/blob/main/notebooks/forecast/arima_timesfm_bigquery.ipynb\"><img src=\"https://github.githubassets.com/assets/GitHub-Mark-ea2971cee799.png\" width=\"32px\" alt=\"GitHub logo\"> View on GitHub</a></td>\n",
        "  <td><a href=\"https://console.cloud.google.com/vertex-ai/workbench/deploy-notebook?download_url=https://raw.githubusercontent.com/GoogleCloudPlatform/ai-ml-recipes/main/notebooks/forecast/arima_timesfm_bigquery.ipynb\"><img src=\"https://lh3.googleusercontent.com/UiNooY4LUgW_oTvpsNhPpQzsstV5W8F7rYgxgGBD85cWJoLmrOzhVs_ksK_vgx40SHs7jCqkTkCk=e14-rj-sc0xffffff-h130-w32\" alt=\"Vertex AI logo\"> Open in Vertex AI Workbench</a></td>\n",
        "  <td><a href=\"https://console.cloud.google.com/bigquery/import?url=https://github.com/GoogleCloudPlatform/ai-ml-recipes/blob/main/notebooks/forecast/arima_timesfm_bigquery.ipynb\"><img src=\"https://encrypted-tbn0.gstatic.com/images?q=tbn:ANd9GcTW1gvOovVlbZAIZylUtf5Iu8-693qS1w5NJw&s\" alt=\"BQ logo\" width=\"35\"> Open in BQ Studio</a></td>\n",
        "  <td><a href=\"https://console.cloud.google.com/vertex-ai/colab/import/https:%2F%2Fraw.githubusercontent.com%2FGoogleCloudPlatform%2Fai-ml-recipes%2Fmain%2Fnotebooks/forecast/arima_timesfm_bigquery.ipynb\"><img width=\"32px\" src=\"https://lh3.googleusercontent.com/JmcxdQi-qOpctIvWKgPtrzZdJJK-J3sWE1RsfjZNwshCFgE_9fULcNpuXYTilIR2hjwN\" alt=\"Google Cloud Colab Enterprise logo\"> Open in Colab Enterprise</a></td>\n",
        "</table>"
      ]
    },
    {
      "cell_type": "markdown",
      "metadata": {
        "id": "iR0jdheRGG89"
      },
      "source": [
        "# Time Series Analysis with TimesFM and ARIMA in BigQuery"
      ]
    },
    {
      "cell_type": "markdown",
      "metadata": {
        "id": "EiKsD6FM5i0m"
      },
      "source": [
        "| Author |\n",
        "| --- |\n",
        "| [Jeff Nelson](https://github.com/jeffonelson) |"
      ]
    },
    {
      "cell_type": "markdown",
      "metadata": {
        "id": "intro_md"
      },
      "source": [
        "## Overview\n",
        "\n",
        "Accurate and granular demand forecasting is critical for managing retail inventory, but forecasting for every individual item and location is a major operational challenge. This tutorial demonstrates how to perform scalable time series forecasting directly in [BigQuery](https://cloud.google.com/bigquery/docs/introduction), using the public [Iowa Liquor Sales](https://console.cloud.google.com/marketplace/product/iowa-department-of-commerce/iowa-liquor-sales) dataset as a practical example.\n",
        "\n",
        "In this notebook, you will compare two distinct approaches to generate forecasts:\n",
        "* **A Trained Model:** follow a traditional time series workflow by training an [**ARIMA**](https://cloud.google.com/bigquery/docs/reference/standard-sql/bigqueryml-syntax-create-time-series) model and generating predictions with [BigQuery Machine Learning](https://cloud.google.com/bigquery/docs/bqml-introduction).\n",
        "* **A Zero Shot Model:** use [**TimesFM**](https://github.com/google-research/timesfm), a foundaiton model, to generate predicitons directly from the data, no explicit model training required.\n",
        "\n",
        "You will apply both methods to a single aggregated time series and then scale to multiple series to see how each performs at a granular level."
      ]
    },
    {
      "cell_type": "markdown",
      "metadata": {
        "id": "SwQLISjqGTHd"
      },
      "source": [
        "### Objectives\n",
        "\n",
        "You will learn to:\n",
        "\n",
        "* Prepare raw data for time series forcasting scenarios in BigQuery\n",
        "* Train a traditional forecasting model using [`CREATE MODEL`](https://cloud.google.com/bigquery/docs/reference/standard-sql/bigqueryml-syntax-create-time-series) AND [`ML.FORECAST`](https://cloud.google.com/bigquery/docs/reference/standard-sql/bigqueryml-syntax-forecast) functions (ARIMA)\n",
        "* Generate zero-shot forcasts directly from data using the [`AI.FORECAST`](https://cloud.google.com/bigquery/docs/reference/standard-sql/bigqueryml-syntax-ai-forecast) function (TimesFM)\n",
        "* Scale your analysis from a single time series to multiple time series\n",
        "* Visualize and compare the outputs to understand the tradeoffs between the two methods"
      ]
    },
    {
      "cell_type": "markdown",
      "metadata": {
        "id": "costs_md"
      },
      "source": [
        "### Services and Costs\n",
        "\n",
        "This tutorial uses the following billable components of Google Cloud:\n",
        "\n",
        "* **BigQuery**: [Pricing](https://cloud.google.com/bigquery/pricing)\n",
        "\n",
        "* **BigQuery ML**: [Pricing](https://cloud.google.com/bigquery/pricing#bqml)\n",
        "\n",
        "\n",
        "You can use the [Pricing Calculator](https://cloud.google.com/products/calculator) to generate a cost estimate based on your projected usage."
      ]
    },
    {
      "cell_type": "markdown",
      "metadata": {
        "id": "nkoCFoFVSPii"
      },
      "source": [
        "---\n",
        "\n",
        "## Before you begin"
      ]
    },
    {
      "cell_type": "markdown",
      "metadata": {
        "id": "setup_md_1"
      },
      "source": [
        "### Set up your Google Cloud project\n",
        "**The following steps are required, regardless of your notebook environment.**\n",
        "\n",
        "1. [Select or create a Google Cloud project](https://console.cloud.google.com/cloud-resource-manager). When you first create an account, you get a $300 free credit towards your compute/storage costs.\n",
        "\n",
        "2. [Make sure that billing is enabled for your project](https://cloud.google.com/billing/docs/how-to/modify-project).\n",
        "\n",
        "3. [Enable the BigQuery, BigQuery Connection, and Vertex AI APIs](https://console.cloud.google.com/flows/enableapi?apiid=bigquery.googleapis.com,bigqueryconnection.googleapis.com,aiplatform.googleapis.com).\n",
        "\n",
        "4. If you are running this notebook locally, you need to install the [Cloud SDK](https://cloud.google.com/sdk)."
      ]
    },
    {
      "cell_type": "markdown",
      "metadata": {
        "id": "YQ3g-h7uTaSf"
      },
      "source": [
        "### Set your project ID\n",
        "\n",
        "Input your Google Cloud project_id into the box below:"
      ]
    },
    {
      "cell_type": "markdown",
      "metadata": {},
      "source": [
        "#### Initialize your project ID\n",
        "Set your Google Cloud project ID and configure the `gcloud` command-line tool to use it."
      ]
    },
    {
      "cell_type": "code",
      "execution_count": null,
      "metadata": {
        "id": "set_project_id"
      },
      "outputs": [],
      "source": [
        "PROJECT_ID = \"data-demo-n25\"  # @param {type:\"string\"}\n",
        "\n",
        "# Set the project id\n",
        "! gcloud config set project {PROJECT_ID}"
      ]
    },
    {
      "cell_type": "markdown",
      "metadata": {
        "id": "auth_md"
      },
      "source": [
        "### Authenticate to your Google Cloud account\n",
        "\n",
        "Depending on your Jupyter environment, you may have to manually authenticate. Follow the relevant instructions below."
      ]
    },
    {
      "cell_type": "markdown",
      "metadata": {
        "id": "V6NjZRCXU5Ro"
      },
      "source": [
        "**1. Colab Enterprise in BigQuery Studio or Vertex AI**\n",
        "* Do nothing as you are already authenticated."
      ]
    },
    {
      "cell_type": "markdown",
      "metadata": {
        "id": "l0dV1hvAU1ed"
      },
      "source": [
        "**2. Colab Consumer - uncomment and run the following:**"
      ]
    },
    {
      "cell_type": "markdown",
      "metadata": {},
      "source": [
        "#### Authenticate in Colab Consumer\n",
        "Authenticate your user in Colab consumer environments to access Google Cloud services."
      ]
    },
    {
      "cell_type": "code",
      "execution_count": null,
      "metadata": {
        "id": "auth_code"
      },
      "outputs": [],
      "source": [
        "from google.colab import auth\n",
        "auth.authenticate_user()"
      ]
    },
    {
      "cell_type": "markdown",
      "metadata": {
        "id": "4Pp4LAJ3UyRP"
      },
      "source": [
        "**3. Local JupyterLab instance, uncomment and run the following:**\n",
        "\n"
      ]
    },
    {
      "cell_type": "markdown",
      "metadata": {},
      "source": [
        "#### Authenticate in Local JupyterLab\n",
        "Authenticate your user in local JupyterLab environments to access Google Cloud services."
      ]
    },
    {
      "cell_type": "code",
      "execution_count": null,
      "metadata": {
        "id": "AzU7S3fMVDkW"
      },
      "outputs": [],
      "source": [
        "# ! gcloud auth login"
      ]
    },
    {
      "cell_type": "markdown",
      "metadata": {
        "id": "-fhqCNYQOLCq"
      },
      "source": [
        "#### Create a BigQuery Dataset\n",
        "\n",
        "Running the following query creates a [BigQuery dataset](https://cloud.google.com/bigquery/docs/datasets-intro) called **`bq_forecasting`** to house any tables or models created in this tutorial:"
      ]
    },
    {
      "cell_type": "markdown",
      "metadata": {},
      "source": [
        "Create a BigQuery dataset named `bq_forecasting` to store all tables and models created in this notebook."
      ]
    },
    {
      "cell_type": "code",
      "execution_count": null,
      "metadata": {
        "id": "ZR9S5lgpOGDr"
      },
      "outputs": [],
      "source": [
        "%%bigquery --project {PROJECT_ID}\n",
        "\n",
        "CREATE SCHEMA `bq_forecasting` OPTIONS (location = 'US');"
      ]
    },
    {
      "cell_type": "markdown",
      "metadata": {
        "id": "VfM1EL2NOTVR"
      },
      "source": [
        "### Set Colab display options\n",
        "\n",
        "Colab includes the `google.colab.data_table` package that can be used to display large pandas dataframes as an interactive data table. It can be enabled with:"
      ]
    },
    {
      "cell_type": "markdown",
      "metadata": {},
      "source": [
        "Load the `google.colab.data_table` extension to enable interactive data tables for pandas DataFrames in Colab."
      ]
    },
    {
      "cell_type": "code",
      "execution_count": null,
      "metadata": {
        "id": "iSYRP39jOQ7R"
      },
      "outputs": [],
      "source": [
        "%load_ext google.colab.data_table"
      ]
    },
    {
      "cell_type": "markdown",
      "metadata": {
        "id": "dip-Ee4sshzh"
      },
      "source": [
        "## Times Series Forecasting with BigQuery"
      ]
    },
    {
      "cell_type": "markdown",
      "metadata": {
        "id": "1Lg9UGSFspab"
      },
      "source": [
        "This tutorial uses the [Iowa Liquor Sales data](https://console.cloud.google.com/marketplace/product/iowa-department-of-commerce/iowa-liquor-sales), which contains every wholesale purchase of liquor in the state of Iowa from January 1, 2012 to today. We'll use this data for retail demand forecasting.\n",
        "\n",
        "Let's take a quick look at a few rows from the table."
      ]
    },
    {
      "cell_type": "markdown",
      "metadata": {},
      "source": [
        "Inspect the first few rows of the raw `iowa_liquor_sales` public dataset to understand its structure."
      ]
    },
    {
      "cell_type": "code",
      "execution_count": null,
      "metadata": {
        "id": "P03CsDZnAeiD"
      },
      "outputs": [],
      "source": [
        "%%bigquery --project {PROJECT_ID}\n",
        "\n",
        "SELECT\n",
        "    invoice_and_item_number,\n",
        "    date,\n",
        "    county,\n",
        "    store_number,\n",
        "    category_name,\n",
        "    item_description,\n",
        "    bottles_sold,\n",
        "    sale_dollars\n",
        "FROM\n",
        "  `bigquery-public-data.iowa_liquor_sales.sales`\n",
        "WHERE sale_dollars > 0\n",
        "LIMIT\n",
        "  5;"
      ]
    },
    {
      "cell_type": "markdown",
      "metadata": {
        "id": "-B4KacMmDCsC"
      },
      "source": [
        "### Data Preparation\n",
        "\n",
        "The `sales` table can contain multple rows for each date / county / store / item / other field combination. For this tutorial, we'll aggregate the table to generate total sales for each field we're interested in forecasting (e.g. `date`, `item_description`).\n",
        "\n",
        "We'll create two tables for two intended use cases:\n",
        "\n",
        "| Table | Granularity | Usage |\n",
        "|---|---|---|\n",
        "| liquor_sales_training_single | `total_sales` by date | Single times series |\n",
        "| liquor_sales_training_multiple | `total_sales` by multiple fields, including `item_name`| Multiple times series |"
      ]
    },
    {
      "cell_type": "markdown",
      "metadata": {},
      "source": [
        "Aggregate the raw sales data to create two new tables:\n",
        "\n",
        "*   `bq_forecasting.liquor_sales_training_multiple`: Aggregated by `date`, `county`, and `item_name` for multiple time series forecasting.\n",
        "*   `bq_forecasting.liquor_sales_training_single`: Aggregated by `date` for single time series forecasting."
      ]
    },
    {
      "cell_type": "code",
      "execution_count": null,
      "metadata": {
        "id": "c3ljkYruspAh"
      },
      "outputs": [],
      "source": [
        "%%bigquery --project {PROJECT_ID}\n",
        "\n",
        "-- SALES AGGREAGTED BY DATE, COUNTY, ITEM_NAME\n",
        "CREATE OR REPLACE TABLE bq_forecasting.liquor_sales_training_multiple AS (\n",
        "WITH top_sellers AS(\n",
        "      SELECT\n",
        "        item_description,\n",
        "        SUM( sale_dollars ) AS total_sales\n",
        "    FROM\n",
        "        `bigquery-public-data.iowa_liquor_sales.sales`\n",
        "    GROUP BY\n",
        "        item_description\n",
        "    ORDER BY total_sales DESC\n",
        "    LIMIT 5\n",
        ")\n",
        "SELECT\n",
        "    date,\n",
        "    county,\n",
        "    item_description AS item_name,\n",
        "    SUM( sale_dollars ) AS total_sales\n",
        "FROM\n",
        "    `bigquery-public-data.iowa_liquor_sales.sales`\n",
        "GROUP BY date, county, item_name\n",
        "HAVING\n",
        "    date BETWEEN '2018-01-01' AND '2024-12-31'\n",
        "    AND item_description IN (SELECT item_description FROM top_sellers)\n",
        ");\n",
        "\n",
        "-- SALES AGGREGATED BY DATE\n",
        "CREATE OR REPLACE TABLE bq_forecasting.liquor_sales_training_single AS (\n",
        "SELECT\n",
        "    date,\n",
        "    SUM( total_sales ) AS total_sales\n",
        "FROM\n",
        "    `bq_forecasting.liquor_sales_training_multiple`\n",
        "GROUP BY date\n",
        ");"
      ]
    },
    {
      "cell_type": "markdown",
      "metadata": {
        "id": "rQAzgnAvc8Ck"
      },
      "source": [
        "## 1. Forecasting a Single Time Series\n",
        "\n",
        "In time series forcasting, a simple scenario is a **single time series**. This means we are looking to predict a single variable over time. Think of it as having one column for your dates and one column for the value you want to predict.\n",
        "\n",
        "**Scenario: Total Sales Over Time**\n",
        "\n",
        "For this example, we'll forecast `total_sales` over time. We aren't breaking down sales by any other category. We will take two approaches using BigQuery ML and see how they compare:\n",
        "\n",
        "1. **ARIMA**: A widely used statistical model that requires you to explictly train a model on historical data.\n",
        "2. **TimesFM**: A pre-trained foundation model that allows you to generate a forecast with a simple function call, no training required."
      ]
    },
    {
      "cell_type": "markdown",
      "metadata": {
        "id": "f8b4wR5ILkF8"
      },
      "source": [
        "### Method A: ARIMA"
      ]
    },
    {
      "cell_type": "markdown",
      "metadata": {
        "id": "24oIqBzncYvV"
      },
      "source": [
        "#### Create a Model\n",
        "\n",
        "Before we can get a forecast, we need to train a dedicated model on our historical data. In BigQuery ML, we accomplish this using the `CREATE MODEL` statement, where we specify our timestamp column (`date`) and the data column we want to forecast (`total_sales`)."
      ]
    },
    {
      "cell_type": "markdown",
      "metadata": {},
      "source": [
        "Train an `ARIMA_PLUS` model using `BigQuery ML`. This model will learn patterns from the `total_sales` data over time in the `bq_forecasting.liquor_sales_training_single` table."
      ]
    },
    {
      "cell_type": "code",
      "execution_count": null,
      "metadata": {
        "id": "ennEECggcVvW"
      },
      "outputs": [],
      "source": [
        "%%bigquery --project {PROJECT_ID}\n",
        "\n",
        "CREATE OR REPLACE MODEL bq_forecasting.arima_model_single\n",
        "OPTIONS(\n",
        "  MODEL_TYPE='ARIMA_PLUS',\n",
        "  TIME_SERIES_TIMESTAMP_COL='date',\n",
        "  TIME_SERIES_DATA_COL='total_sales'\n",
        ") AS\n",
        "SELECT\n",
        "    date,\n",
        "    total_sales\n",
        "FROM\n",
        "  bq_forecasting.liquor_sales_training_single;"
      ]
    },
    {
      "cell_type": "markdown",
      "metadata": {
        "id": "qyNrE-OxhIBF"
      },
      "source": [
        "#### Generate a Forecast\n",
        "\n",
        "With our `arima_model` now trained, we can use it to generate the actual forecast. We do this with the `ML.FORECAST` function. This function takes our trained model as input and requires us to specify the `horizon` (the number of future time steps we want to predict), and a confidence level. It returns the forecasted values."
      ]
    },
    {
      "cell_type": "markdown",
      "metadata": {},
      "source": [
        "Generate a 30-day sales forecast using the trained `bq_forecasting.arima_model_single`. The `ML.FORECAST` function applies the trained model to predict future `total_sales` values and their confidence intervals."
      ]
    },
    {
      "cell_type": "code",
      "execution_count": null,
      "metadata": {
        "id": "OW9jRwL7hmbS"
      },
      "outputs": [],
      "source": [
        "%%bigquery df_arima --project {PROJECT_ID}\n",
        "\n",
        "SELECT *\n",
        "FROM ML.FORECAST(MODEL bq_forecasting.arima_model_single,\n",
        "       STRUCT(30 AS horizon,\n",
        "              0.95 AS confidence_level)\n",
        "      );"
      ]
    },
    {
      "cell_type": "markdown",
      "metadata": {
        "id": "tUjrnS-ujTI_"
      },
      "source": [
        "#### Fetch Historical Data for Single Series Plotting\n",
        "\n",
        "This query retrieves historical sales data for the single time series, which will be used for visualizing the ARIMA forecast.    "
      ]
    },
    {
      "cell_type": "markdown",
      "metadata": {},
      "source": [
        "Retrieve the most recent historical `total_sales` data from the `bq_forecasting.liquor_sales_training_single` table to provide context for visualizing the ARIMA forecast."
      ]
    },
    {
      "cell_type": "code",
      "execution_count": null,
      "metadata": {
        "id": "9KTR7-1xjSVl"
      },
      "outputs": [],
      "source": [
        "%%bigquery df_history --project {PROJECT_ID}\n",
        "\n",
        "SELECT\n",
        "    date,\n",
        "    total_sales\n",
        "FROM\n",
        "  bq_forecasting.liquor_sales_training_single\n",
        "WHERE\n",
        "  date BETWEEN '2024-10-01' AND '2024-12-31'\n",
        "ORDER BY date"
      ]
    },
    {
      "cell_type": "markdown",
      "metadata": {
        "id": "EHrOFugXyX9M"
      },
      "source": [
        "#### Visualize the Forecast\n",
        "\n",
        "To check out our model, we can plot the historical sales data against the forecated values and their 95% confidence interval."
      ]
    },
    {
      "cell_type": "markdown",
      "metadata": {},
      "source": [
        "Use `matplotlib` to plot the historical sales data alongside the ARIMA forecast, including the 95% confidence interval, to visually assess the model's predictions."
      ]
    },
    {
      "cell_type": "code",
      "execution_count": null,
      "metadata": {
        "id": "aCg-Vx2siaug"
      },
      "outputs": [],
      "source": [
        "import matplotlib.pyplot as plt\n",
        "\n",
        "plt.figure(figsize=(12, 6))\n",
        "plt.plot(df_history['date'], df_history['total_sales'], label='2024 Historical Data')\n",
        "plt.plot(df_arima['forecast_timestamp'], df_arima['forecast_value'], label='ARIMA Forecast')\n",
        "plt.fill_between(df_arima['forecast_timestamp'], df_arima['prediction_interval_lower_bound'], df_arima['prediction_interval_upper_bound'], color='blue', alpha=0.2, label='ARIMA 95% Confidence Interval')\n",
        "plt.xlabel('Timestamp')\n",
        "plt.ylabel('Total Sales')\n",
        "plt.title('ARIMA Forecast vs 2024 Historical Data with 95% Confidence Interval')\n",
        "plt.legend()\n",
        "plt.xticks(rotation=45)\n",
        "plt.tight_layout()\n",
        "plt.show()"
      ]
    },
    {
      "cell_type": "markdown",
      "metadata": {
        "id": "EkXY4gVCy_XQ"
      },
      "source": [
        "### Method B: TimesFM\n",
        "\n",
        "Our second method uses TimesFM, which operates differently from \"traditional\" models like ARIMA. TimesFM is a pre-trained foundation model, meaning the complex model training has already been done. As a result, we can skip the `CREATE MODEL` step entirely and apply it directly to our data for a zero-shot forecast.\n"
      ]
    },
    {
      "cell_type": "markdown",
      "metadata": {
        "id": "XAkTjhpJ1EUq"
      },
      "source": [
        "#### Generate a Forecast\n",
        "\n",
        "To get our forecast, we use the [`AI.FORECAST`](https://cloud.google.com/bigquery/docs/reference/standard-sql/bigqueryml-syntax-ai-forecast) function. Unlike the two-step process for ARIMA (create, then forecast), this single function takes our historical data table directly as its input. We just configure the forecast by passing arguments for the `horizon`, `timestamp_col`, and `data_col`. Then, BigQuery returns the predicted values in one go.\n",
        "\n",
        "Below is a quick look at 5 forecasted days."
      ]
    },
    {
      "cell_type": "markdown",
      "metadata": {},
      "source": [
        "Generate a 5-day zero-shot forecast using the pre-trained TimesFM model. The `AI.FORECAST` function directly predicts future `total_sales` without explicit model training, displaying a preview of the results."
      ]
    },
    {
      "cell_type": "code",
      "execution_count": null,
      "metadata": {
        "colab": {
          "background_save": true
        },
        "id": "dtzAy3XV1DWY"
      },
      "outputs": [],
      "source": [
        "%%bigquery --project {PROJECT_ID}\n",
        "\n",
        "SELECT *\n",
        "FROM\n",
        "  AI.FORECAST(\n",
        "    (\n",
        "      SELECT *\n",
        "      FROM bq_forecasting.liquor_sales_training_single\n",
        "    ),\n",
        "    horizon => 5,\n",
        "    confidence_level => 0.95,\n",
        "    timestamp_col => 'date',\n",
        "    data_col => 'total_sales')\n",
        "  ;"
      ]
    },
    {
      "cell_type": "markdown",
      "metadata": {
        "id": "dshxhVECMK09"
      },
      "source": [
        "### Visualize the Results"
      ]
    },
    {
      "cell_type": "markdown",
      "metadata": {
        "id": "pq_Qfe9M3smj"
      },
      "source": [
        "Let's expand the horizon to 30 days of forecasted data and save it to a DataFrame called `df_timesfm` so we can plot it alongside the ARIMA predictions."
      ]
    },
    {
      "cell_type": "markdown",
      "metadata": {},
      "source": [
        "Extend the TimesFM zero-shot forecast to a 30-day horizon, similar to the ARIMA forecast, to enable a direct visual comparison between the two methods."
      ]
    },
    {
      "cell_type": "code",
      "execution_count": null,
      "metadata": {
        "id": "IDw8D-li4Anm"
      },
      "outputs": [],
      "source": [
        "%%bigquery df_timesfm --project {PROJECT_ID}\n",
        "\n",
        "SELECT *\n",
        "FROM\n",
        "  AI.FORECAST(\n",
        "    (\n",
        "      SELECT *\n",
        "      FROM bq_forecasting.liquor_sales_training_single\n",
        "    ),\n",
        "    horizon => 30,\n",
        "    confidence_level => 0.95,\n",
        "    timestamp_col => 'date',\n",
        "    data_col => 'total_sales')\n",
        "  ;"
      ]
    },
    {
      "cell_type": "markdown",
      "metadata": {
        "id": "NhiAxcmM6db5"
      },
      "source": [
        "Plotting the results together provides a clear, side-by-side comparison. We can see that both models successfully identified the strong weekly seasonality in the sales data. However, the ARIMA forecast consistently underestimates the peaks of the sales cycles, while the TimesFM forecast appears to capture the magnitude of the recent historical data more accurately."
      ]
    },
    {
      "cell_type": "markdown",
      "metadata": {},
      "source": [
        "Visualize both the ARIMA and TimesFM forecasts against the recent historical data to visually compare their respective predictions and identify any notable differences."
      ]
    },
    {
      "cell_type": "code",
      "execution_count": null,
      "metadata": {
        "id": "qvHCBBrX5OuS"
      },
      "outputs": [],
      "source": [
        "plt.figure(figsize=(12, 6))\n",
        "plt.plot(df_history['date'], df_history['total_sales'], label='2024 Historical Data')\n",
        "plt.plot(df_arima['forecast_timestamp'], df_arima['forecast_value'], label='ARIMA Forecast')\n",
        "plt.plot(df_timesfm['forecast_timestamp'], df_timesfm['forecast_value'], label='TimesFM Forecast')\n",
        "plt.xlabel('Timestamp')\n",
        "plt.ylabel('Total Sales')\n",
        "plt.title('ARIMA vs TimesFM Forecast')\n",
        "plt.legend()\n",
        "plt.xticks(rotation=45)\n",
        "plt.tight_layout()\n",
        "plt.show()"
      ]
    },
    {
      "cell_type": "markdown",
      "metadata": {
        "id": "izKiUVyzbsvA"
      },
      "source": [
        "### Recap\n",
        "\n",
        "In this scenario we:\n",
        "* Addressed a single time series problem by forecasting `total_sales` based on `date`.\n",
        "* Used a two-step process to first train an `ARIMA_PLUS` model with the `CREATE MODEL` statement, and then generate predictions using `ML.FORECAST`.\n",
        "* Used a one-step, zero-shot approach to generate a forecast directly from the data using `AI.FORECAST` and the TimesFM model.\n",
        "* Plotted both forecasts alongside the historical data to visually compare the outputs from each method."
      ]
    },
    {
      "cell_type": "markdown",
      "metadata": {
        "id": "q_A4zzWousGx"
      },
      "source": [
        "\n",
        "---\n"
      ]
    },
    {
      "cell_type": "markdown",
      "metadata": {
        "id": "CC_9GDUo79yY"
      },
      "source": [
        "## 2. Forecasting Multiple TIme Series\n",
        "\n",
        "Forecasting a single series is useful, but most real-world scenarios require more granularity. With **multiple time series forecasting**, we can predict many individual time series at the same time. Instead of one forecast for `total_sales` by date, we will generate a unique forecast for every combination of `county` and `item_name`. This is powerful for tasks like inventory management and revenue predictions.\n",
        "\n",
        "Handling this complexity in BigQuery is straightforward. We simply specify which coumns uniquely identify each individual time series. Both the ARIMA and TimesFM methods support a parameter that tells BigQuery to partition the data, treating each unique ID as a separate series to be forecasted. With this addition, we can scale forecasting efforts from a _single_ series to thousands or more, without a significant change to our workflow."
      ]
    },
    {
      "cell_type": "markdown",
      "metadata": {
        "id": "cUwYplgUC_xt"
      },
      "source": [
        "### Method A: ARIMA\n",
        "\n",
        "Once again, we will start with the ARIMA model. This process is very similar to the single series example, but with an additional parameter to tell BigQuery how to handle different series within our dataset."
      ]
    },
    {
      "cell_type": "markdown",
      "metadata": {
        "id": "rRgz-wifDOBE"
      },
      "source": [
        "#### Create a Model\n",
        "\n",
        "To train the model on multiple time series simultaneously, we introduce the `TIME_SERIES_ID_COL` option. This parameter accepts an array of column names that uniquely identify each series. In our case, the input table is uniquely identified by a combination of `date` and the array [`county`, `item_name`].\n",
        "\n",
        "BigQuery now partitions the data by these IDs and trains a distinct ARIMA model for each indvidiual time series behind the scenes.\n",
        "\n"
      ]
    },
    {
      "cell_type": "markdown",
      "metadata": {},
      "source": [
        "Train an `ARIMA_PLUS` model designed for multiple time series. The `TIME_SERIES_ID_COL` option ensures that a separate ARIMA model is implicitly trained for each unique combination of `county` and `item_name`."
      ]
    },
    {
      "cell_type": "code",
      "execution_count": null,
      "metadata": {
        "id": "uNUzKi_b86ML"
      },
      "outputs": [],
      "source": [
        "%%bigquery --project {PROJECT_ID}\n",
        "\n",
        "CREATE OR REPLACE MODEL bq_forecasting.arima_model_multiple\n",
        "OPTIONS(\n",
        "  MODEL_TYPE='ARIMA_PLUS',\n",
        "  TIME_SERIES_TIMESTAMP_COL='date',\n",
        "  TIME_SERIES_DATA_COL='total_sales',\n",
        "  TIME_SERIES_ID_COL=['county','item_name']\n",
        ") AS\n",
        "SELECT\n",
        "    date,\n",
        "    total_sales,\n",
        "    county,\n",
        "    item_name\n",
        "FROM\n",
        "  bq_forecasting.liquor_sales_training_multiple;"
      ]
    },
    {
      "cell_type": "markdown",
      "metadata": {
        "id": "yruu9hg-Dbvi"
      },
      "source": [
        "#### Generate a Forecast\n",
        "\n",
        "After the model is trained, the process to generate a forcast is identical to what we did before. We use the `ML.FORECAST` function to call our new model (`arima_model_multiple`), which inherently understands it needs to produce a separate forecaste for each unique `county` and `item_name` combination.\n",
        "\n",
        "The result contains forecasts for all series. To make sense of the output, we will filter the results to visualize the forecast for single, specific series."
      ]
    },
    {
      "cell_type": "markdown",
      "metadata": {},
      "source": [
        "Generate a 50-day forecast for all the multiple time series using the trained `bq_forecasting.arima_model_multiple`. The results are then filtered to display the forecast for 'BLACK VELVET' in 'POLK' county."
      ]
    },
    {
      "cell_type": "code",
      "execution_count": null,
      "metadata": {
        "id": "5tBBX7VkCwga"
      },
      "outputs": [],
      "source": [
        "%%bigquery df_arima_multiple --project {PROJECT_ID}\n",
        "\n",
        "SELECT *\n",
        "FROM ML.FORECAST(MODEL bq_forecasting.arima_model_multiple,\n",
        "       STRUCT(50 AS horizon,\n",
        "              0.95 AS confidence_level)\n",
        "      )\n",
        "WHERE county = 'POLK'\n",
        "AND item_name = 'BLACK VELVET';"
      ]
    },
    {
      "cell_type": "markdown",
      "metadata": {
        "id": "9sK1OjEPFUFB"
      },
      "source": [
        "### Method B: TimesFM\n",
        "\n",
        "Adapting the TimesFM appraoch for multiple time series is just as straightforward. Since we don't have a model to create, we only need to add one parameter to the existing `AI.FORECAST` query to make it aware of the different series within our data."
      ]
    },
    {
      "cell_type": "markdown",
      "metadata": {
        "id": "ldXoKrhRFaXU"
      },
      "source": [
        "#### Generate a Forecast\n",
        "\n",
        "The process remains a single-step query, with the key adddition of the `id_cols` parameter. We simply pass an array of column names (`['county', 'item_name']`) to tell the function that each unique combination defines a separate time series.\n",
        "\n",
        "The `AI.FORECAST` function computes a forecast for every series in the dataset. As shown in the code, you can use a standard WHERE clause to output and easily filter the results for a specific series of interest. In this case, we'll look at Black Velvet liquor in Polk County."
      ]
    },
    {
      "cell_type": "markdown",
      "metadata": {},
      "source": [
        "Generate a 50-day zero-shot forecast for multiple time series using TimesFM. The `id_cols` parameter specifies `county` and `item_name` as identifiers for individual series, and the output is filtered for 'BLACK VELVET' in 'POLK' county."
      ]
    },
    {
      "cell_type": "code",
      "execution_count": null,
      "metadata": {
        "id": "4onw5t2DF8Ua"
      },
      "outputs": [],
      "source": [
        "%%bigquery df_timesfm_multiple --project {PROJECT_ID}\n",
        "\n",
        "SELECT *\n",
        "FROM\n",
        "  AI.FORECAST(\n",
        "    (\n",
        "      SELECT *\n",
        "      FROM bq_forecasting.liquor_sales_training_multiple\n",
        "    ),\n",
        "    horizon => 50,\n",
        "    confidence_level => 0.95,\n",
        "    timestamp_col => 'date',\n",
        "    data_col => 'total_sales',\n",
        "    id_cols => ['county', 'item_name']\n",
        "    )\n",
        "  WHERE county = 'POLK'\n",
        "  AND item_name = 'BLACK VELVET'\n",
        "  ;"
      ]
    },
    {
      "cell_type": "markdown",
      "metadata": {
        "id": "xaC0DMogKk48"
      },
      "source": [
        "### Visualize the Results\n",
        "\n",
        "Retrieve historical sales data for a specific county and item, which will be used for visualizing the multiple time series forecasts.  "
      ]
    },
    {
      "cell_type": "markdown",
      "metadata": {},
      "source": [
        "Retrieve recent historical sales data for the selected `county` and `item_name` to be used for visualizing the multiple time series forecasts."
      ]
    },
    {
      "cell_type": "code",
      "execution_count": null,
      "metadata": {
        "id": "UNceRjVWKo1C"
      },
      "outputs": [],
      "source": [
        "%%bigquery df_history_multiple --project {PROJECT_ID}\n",
        "\n",
        "SELECT\n",
        "    date,\n",
        "    county,\n",
        "    item_name,\n",
        "    total_sales\n",
        "FROM\n",
        "  bq_forecasting.liquor_sales_training_multiple\n",
        "WHERE\n",
        "  date BETWEEN '2024-10-01' AND '2025-03-20'"
      ]
    },
    {
      "cell_type": "markdown",
      "metadata": {},
      "source": [
        "Filter the historical data and plot it alongside both the ARIMA and TimesFM forecasts for 'BLACK VELVET' in 'POLK' county, providing a visual comparison for the multiple time series scenario."
      ]
    },
    {
      "cell_type": "code",
      "execution_count": null,
      "metadata": {
        "id": "8mhjETXFKqeE"
      },
      "outputs": [],
      "source": [
        "df_history_filtered = df_history_multiple[(df_history_multiple['county'] == 'POLK') & (df_history_multiple['item_name'] == 'BLACK VELVET')]\n",
        "plt.figure(figsize=(12, 6))\n",
        "plt.plot(df_history_filtered['date'], df_history_filtered['total_sales'], label='Historical Data')\n",
        "plt.plot(df_arima_multiple['forecast_timestamp'], df_arima_multiple['forecast_value'], label='ARIMA Forecast')\n",
        "plt.plot(df_timesfm_multiple['forecast_timestamp'], df_timesfm_multiple['forecast_value'], label='TimesFM Forecast')\n",
        "plt.xlabel('Timestamp')\n",
        "plt.ylabel('Total Sales')\n",
        "plt.title('ARIMA vs TimesFM Forecast for BLACK VELVET in POLK County')\n",
        "plt.legend()\n",
        "plt.xticks(rotation=45)\n",
        "plt.tight_layout()\n",
        "plt.show()"
      ]
    },
    {
      "cell_type": "markdown",
      "metadata": {
        "id": "muvZ1BIGMVlv"
      },
      "source": [
        "### Recap\n",
        "\n",
        "In this section, we:\n",
        "* Moved to multiple time series, forecasting `total_sales` for each unique combination of `county` and `item_name`.\n",
        "* Adapted our ARIMA model by adding the `TIME_SERIES_ID_COL` parameter to the `CREATE MODEL` statement.\n",
        "* Adapted our TimesFM query by adding the `id_cols` parameter to the `AI.FORECAST` function.\n",
        "* Demonstrated how a single parameter change in BigQuery allows us to easily scale our forecasting efforts from one to many individual series."
      ]
    },
    {
      "cell_type": "markdown",
      "metadata": {
        "id": "QpoY5tWj84zv"
      },
      "source": [
        "\n",
        "\n",
        "---\n",
        "\n"
      ]
    },
    {
      "cell_type": "markdown",
      "metadata": {
        "id": "cleanup_md"
      },
      "source": [
        "# Cleaning Up\n",
        "\n",
        "To clean up all Google Cloud resources used in this project, you can [delete the Google Cloud project](https://cloud.google.com/resource-manager/docs/creating-managing-projects#shutting_down_projects) you used for the tutorial.\n",
        "\n",
        "Otherwise, you can delete the individual resources you created in this tutorial:"
      ]
    },
    {
      "cell_type": "markdown",
      "metadata": {},
      "source": [
        "Execute `bq rm` commands to delete the BigQuery tables, models, and the dataset created during this tutorial, ensuring a clean environment."
      ]
    },
    {
      "cell_type": "code",
      "execution_count": null,
      "metadata": {
        "id": "yRzpOQf_Wqqi"
      },
      "outputs": [],
      "source": [
        "# Delete the BigQuery tables\n",
        "! bq rm --table -f bq_forecasting.liquor_sales_training_single\n",
        "! bq rm --table -f bq_forecasting.liquor_sales_training_multiple\n",
        "\n",
        "# Delete the ARIMA models\n",
        "! bq rm --model -f bq_forecasting.arima_model_single\n",
        "! bq rm --model -f bq_forecasting.arima_model_multiple\n",
        "\n",
        "# Delete the BigQuery dataset\n",
        "! bq rm -r -f $PROJECT_ID:bq_forecasting"
      ]
    }
  ],
  "metadata": {
    "colab": {
      "collapsed_sections": [],
      "provenance": [],
      "toc_visible": true
    },
    "kernelspec": {
      "display_name": "Python 3",
      "name": "python3"
    },
    "language_info": {
      "name": "python"
    }
  },
  "nbformat": 4,
  "nbformat_minor": 0
}