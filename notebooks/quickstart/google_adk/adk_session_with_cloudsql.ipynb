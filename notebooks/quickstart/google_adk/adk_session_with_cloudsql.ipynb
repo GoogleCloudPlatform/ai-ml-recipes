{
 "cells": [
  {
   "cell_type": "code",
   "execution_count": null,
   "id": "2e339eff-e13f-48c6-99bc-1027a9e12341",
   "metadata": {
    "tags": []
   },
   "outputs": [],
   "source": [
    "# Copyright 2025 Google LLC\n",
    "#\n",
    "# Licensed under the Apache License, Version 2.0 (the \"License\");\n",
    "# you may not use this file except in compliance with the License.\n",
    "# You may obtain a copy of the License at\n",
    "#\n",
    "#     https://www.apache.org/licenses/LICENSE-2.0\n",
    "#\n",
    "# Unless required by applicable law or agreed to in writing, software\n",
    "# distributed under the License is distributed on an \"AS IS\" BASIS,\n",
    "# WITHOUT WARRANTIES OR CONDITIONS OF ANY KIND, either express or implied.\n",
    "# See the License for the specific language governing permissions and\n",
    "# limitations under the License."
   ]
  },
  {
   "cell_type": "code",
   "execution_count": null,
   "id": "750ce816-d9c3-49c0-8d08-97251680e4f1",
   "metadata": {},
   "outputs": [],
   "source": [
    "# ==============================================================================\n",
    "#  1. Installation\n",
    "# ==============================================================================\n",
    "# This cell installs all the required Python libraries for this notebook.\n",
    "\n",
    "# - google-cloud-aiplatform: The client library for Vertex AI and Agent Engine.\n",
    "# - google-adk: The Agent Development Kit for building the agent.\n",
    "# - pandas: Used for displaying database query results in a clean table format.\n",
    "# - pg8000: A Python driver needed to connect to the PostgreSQL database.\n",
    "\n",
    "# Note: We remove python-dotenv as it's no longer needed.\n",
    "%pip install -q google-cloud-aiplatform[reasoning_engines] google-adk pandas pg8000\n",
    "\n",
    "print(\"✅ All required libraries are installed.\")"
   ]
  },
  {
   "cell_type": "code",
   "execution_count": null,
   "id": "31e710bf-46d5-4c2a-8cda-e02a572b5ac6",
   "metadata": {
    "tags": []
   },
   "outputs": [],
   "source": [
    "import os\n",
    "import vertexai\n",
    "import sqlite3\n",
    "import pandas as pd\n",
    "from google.adk.agents import Agent\n",
    "from google.adk.sessions import BaseSessionService, DatabaseSessionService\n",
    "from vertexai.preview.reasoning_engines import AdkApp\n",
    "from vertexai import agent_engines"
   ]
  },
  {
   "cell_type": "code",
   "execution_count": null,
   "id": "e38a85cf-97d8-45ae-83d0-53df1ff88f3d",
   "metadata": {
    "tags": []
   },
   "outputs": [],
   "source": [
    "# ==============================================================================\n",
    "#  Set Your Google Cloud Configuration\n",
    "# ==============================================================================\n",
    "# This cell sets the core configuration for your Google Cloud environment.\n",
    "\n",
    "# ACTION REQUIRED:\n",
    "# Replace the placeholder values below with your actual Project ID, Location,\n",
    "# and the name of a Cloud Storage bucket for staging.\n",
    "\n",
    "import os\n",
    "\n",
    "os.environ[\"GOOGLE_CLOUD_PROJECT\"] = \"your-project-id\"\n",
    "os.environ[\"GOOGLE_CLOUD_LOCATION\"] = \"us-central1\"\n",
    "os.environ[\"STAGING_BUCKET\"] = \"gs://your-staging-bucket\"\n",
    "\n",
    "print(\"✅ Google Cloud environment variables configured.\")"
   ]
  },
  {
   "cell_type": "code",
   "execution_count": null,
   "id": "638bc946-df49-42bb-8372-b4b11bde842f",
   "metadata": {
    "tags": []
   },
   "outputs": [],
   "source": [
    "# Loading the first env variables\n",
    "\n",
    "PROJECT_ID = os.environ[\"GOOGLE_CLOUD_PROJECT\"]\n",
    "LOCATION = os.environ[\"GOOGLE_CLOUD_LOCATION\"]\n",
    "STAGING_BUCKET = os.environ[\"STAGING_BUCKET\"]"
   ]
  },
  {
   "cell_type": "code",
   "execution_count": null,
   "id": "49df3124-4c5c-48b7-8600-da2638e3443b",
   "metadata": {
    "tags": []
   },
   "outputs": [],
   "source": [
    "# Initialize the Vertex AI SDK.\n",
    "# This authenticates your environment and sets the default project, location,\n",
    "# and staging bucket for all subsequent Vertex AI calls in this session.\n",
    "\n",
    "vertexai.init(\n",
    "    project=PROJECT_ID,\n",
    "    location=LOCATION,\n",
    "    staging_bucket=STAGING_BUCKET,\n",
    ")"
   ]
  },
  {
   "cell_type": "code",
   "execution_count": null,
   "id": "c902ace1-bab3-469b-bf1e-32e81cb712ce",
   "metadata": {
    "tags": []
   },
   "outputs": [],
   "source": [
    "# ==============================================================================\n",
    "#  Define the Core Agent\n",
    "# ==============================================================================\n",
    "# The Agent is the brain of our application. It combines a specific Gemini model\n",
    "# with a detailed instruction prompt that defines its personality, goals, and\n",
    "# constraints.\n",
    "\n",
    "# First, define the detailed instructions for the agent's behavior.\n",
    "simple_prompt = \"\"\"You are a helpful example bot that tries to answer anything the client wants.\n",
    "Help the client by answering his questions. Be respectful and kind, but if the client asks something bad feel free to deny it\"\"\"\n",
    "\n",
    "# Then, create the Agent instance, passing the prompt and other metadata.\n",
    "root_agent = Agent(\n",
    "    name=\"rag_agent\",\n",
    "    model=\"gemini-2.0-flash\",\n",
    "    description=(\n",
    "        \"Help the user by answering questions.\"\n",
    "    ),\n",
    "    instruction=simple_prompt,\n",
    ")"
   ]
  },
  {
   "cell_type": "markdown",
   "id": "6616ab13-42bc-4987-bcbd-ab33745f41f1",
   "metadata": {},
   "source": [
    "## Option 1: Using SQLite (Local Development & Testing)\n",
    "\n",
    "To get started, we'll use the simplest method for storing conversation history: a local **SQLite** database.\n",
    "\n",
    "### Why Use SQLite?\n",
    "* **Zero Setup**: It doesn't require any separate database server, authentication, or network configuration. The ADK handles everything for you.\n",
    "* **File-Based**: Your entire database is a single file (`sessions.db`) that gets created in your project directory, making it easy to inspect or delete.\n",
    "* **Perfect for Development**: It's the ideal choice for quickly building and testing your agent on your local machine.\n",
    "\n",
    "In the next cell, we will define a builder function that tells our agent to use this SQLite setup for its memory."
   ]
  },
  {
   "cell_type": "code",
   "execution_count": null,
   "id": "ed6dcf0d-1b52-40d8-9c62-94221bcae022",
   "metadata": {
    "tags": []
   },
   "outputs": [],
   "source": [
    "# ==============================================================================\n",
    "#  Define a Session Service Builder (Option 1: SQLite)\n",
    "# ==============================================================================\n",
    "# To remember conversations, the agent needs a session service. To start with,\n",
    "# we will use the simplest option: a service that stores conversation history\n",
    "# in a local SQLite database file (`sessions.db`).\n",
    "\n",
    "# This setup is perfect for getting started quickly, as it requires no\n",
    "# external database configuration. Later, we can easily swap this function with\n",
    "# one that connects to a more robust cloud database.\n",
    "\n",
    "# This function acts as a \"builder\" that the AdkApp will call to get the\n",
    "# session manager it needs for handling conversation memory.\n",
    "\n",
    "\n",
    "def create_database_session_service_sqlite() -> BaseSessionService:\n",
    "    \"\"\"\n",
    "    Creates and configures the DatabaseSessionService for SQLite.\n",
    "    This function acts as a \"builder\" that the AdkApp can call whenever\n",
    "    it needs to create a session service instance.\n",
    "    \"\"\"\n",
    "    db_connection_string = \"sqlite:///sessions.db\"\n",
    "\n",
    "    print(f\"Session service configured to use URL: {db_connection_string}\")\n",
    "    return DatabaseSessionService(db_url=db_connection_string)\n"
   ]
  },
  {
   "cell_type": "code",
   "execution_count": null,
   "id": "f1e2d155-0308-49fd-abd1-b9efc2d27eeb",
   "metadata": {
    "tags": []
   },
   "outputs": [],
   "source": [
    "# ==============================================================================\n",
    "#  Create the Main Application\n",
    "# ==============================================================================\n",
    "# The AdkApp serves as the main entry point for interacting with our agent.\n",
    "# We initialize it by bringing together our agent's logic and the session\n",
    "# management needed to store conversation history.\n",
    "\n",
    "# We pass it two key components:\n",
    "#  1. agent: The `root_agent` we defined earlier, which contains the prompt and model.\n",
    "#  2. session_service_builder: The function that tells the app how to create\n",
    "#     our SQLite session service for managing conversation memory.\n",
    "\n",
    "app = AdkApp(\n",
    "    agent=root_agent,\n",
    "    session_service_builder=create_database_session_service_sqlite,\n",
    ")"
   ]
  },
  {
   "cell_type": "code",
   "execution_count": null,
   "id": "bc64097f-95c2-4553-8d68-018178222cfb",
   "metadata": {
    "tags": []
   },
   "outputs": [],
   "source": [
    "# ==============================================================================\n",
    "#  Create a New Conversation Session\n",
    "# ==============================================================================\n",
    "# Before we can start chatting, we need to create a \"session,\" which represents\n",
    "# a single, stateful conversation that the agent can remember.\n",
    "\n",
    "# First, we define an ID for the user who is interacting with the agent.\n",
    "user_id = \"local_user_demo\"\n",
    "\n",
    "# Then, we call `app.create_session()` to start the conversation. This creates\n",
    "# a new record in our database and returns a session object.\n",
    "session = app.create_session(user_id=user_id)\n",
    "\n",
    "# We print the unique `session.id`. We must use this ID in all subsequent\n",
    "# messages to continue this specific conversation.\n",
    "print(f\"Created a new session for user '{user_id}' with session ID: {session.id}\")"
   ]
  },
  {
   "cell_type": "code",
   "execution_count": null,
   "id": "91b9f927-567d-49c0-8952-d1fa74bc2a4f",
   "metadata": {
    "tags": []
   },
   "outputs": [],
   "source": [
    "# ==============================================================================\n",
    "#  Send a Message and Stream the Response\n",
    "# ==============================================================================\n",
    "# This is the final step where we send our message to the agent and get its\n",
    "# response back.\n",
    "\n",
    "print(\"\\n--- User's Message ---\")\n",
    "message = \"Hello whats up?\"\n",
    "print(f\"You: {message}\\n\")\n",
    "\n",
    "print(\"--- Agent's Response ---\")\n",
    "for event in app.stream_query(user_id = user_id, \n",
    "                              session_id=session.id, \n",
    "                              message=message):\n",
    "    print(event['content'])"
   ]
  },
  {
   "cell_type": "code",
   "execution_count": null,
   "id": "6fcb4fd7-a955-4349-a083-59e7349433cd",
   "metadata": {
    "tags": []
   },
   "outputs": [],
   "source": [
    "# ==============================================================================\n",
    "#  A Look Inside the SQLite Database\n",
    "# ==============================================================================\n",
    "# Now that our agent has had a conversation, the DatabaseSessionService has saved the entire history into our sessions.db file.\n",
    "# We have the following tables: app_states, events, sessions, user_states\n",
    "# Lets take a look inside each one of them\n"
   ]
  },
  {
   "cell_type": "code",
   "execution_count": null,
   "id": "470c4973-4a38-46ca-ad2b-809f1bcada1f",
   "metadata": {
    "tags": []
   },
   "outputs": [],
   "source": [
    "# First, we set up our database connection. This cell points to the\n",
    "# sessions.db file and creates a live connection to it that we'll use\n",
    "# in the following cells to run queries.\n",
    "\n",
    "# Define the path to your SQLite database file.\n",
    "DB_FILE = \"sessions.db\"\n",
    "\n",
    "# Set pandas to display all column content without truncating\n",
    "pd.set_option('display.max_colwidth', None)\n",
    "\n",
    "# Connect to the SQLite database\n",
    "conn = sqlite3.connect(DB_FILE)"
   ]
  },
  {
   "cell_type": "code",
   "execution_count": null,
   "id": "22b9a925-d11f-4060-8825-9eb6ff00b798",
   "metadata": {
    "tags": []
   },
   "outputs": [],
   "source": [
    "# Now, let's query and display the contents of the 'sessions' table.\n",
    "# This table stores the main record for each conversation, including the\n",
    "# full history of turns between the user and the agent.\n",
    "\n",
    "print(\"--- Contents of the 'sessions' table ---\")\n",
    "sessions_df = pd.read_sql_query(\"SELECT * FROM sessions\", conn)\n",
    "display(sessions_df)"
   ]
  },
  {
   "cell_type": "code",
   "execution_count": null,
   "id": "22dd6fd8-a0f0-40a4-b627-de5ee87507d4",
   "metadata": {
    "tags": []
   },
   "outputs": [],
   "source": [
    "# Next, we'll look at the 'events' table. The ADK uses this table\n",
    "# to log specific actions or events that occur while the agent is\n",
    "# processing a request.\n",
    "\n",
    "print(\"--- Contents of the 'events' table ---\")\n",
    "events_df = pd.read_sql_query(\"SELECT * FROM events\", conn)\n",
    "display(events_df)"
   ]
  },
  {
   "cell_type": "code",
   "execution_count": null,
   "id": "39e13443-eb80-40e0-84f2-895d204510ec",
   "metadata": {
    "tags": []
   },
   "outputs": [],
   "source": [
    "# Next, let's look at the `app_states` table. The ADK uses this to store\n",
    "# the agent's internal \"application state\" or tool memory that needs to\n",
    "# persist across turns but isn't part of the chat history itself.\n",
    "\n",
    "print(\"--- Contents of the 'app_states' table ---\")\n",
    "app_states_df = pd.read_sql_query(\"SELECT * FROM app_states\", conn)\n",
    "display(app_states_df)"
   ]
  },
  {
   "cell_type": "code",
   "execution_count": null,
   "id": "ad7c9993-8208-4c8e-8a02-637211bbaea2",
   "metadata": {
    "tags": []
   },
   "outputs": [],
   "source": [
    "# Finally, we'll inspect the `user_states` table. This table holds\n",
    "# long-term memory about a specific user, like their preferences, which\n",
    "# can be recalled across many different conversations or sessions.\n",
    "\n",
    "print(\"--- Contents of the 'user_states' table ---\")\n",
    "user_states_df = pd.read_sql_query(\"SELECT * FROM user_states\", conn)\n",
    "display(user_states_df)"
   ]
  },
  {
   "cell_type": "markdown",
   "id": "a4b1c3d2-e4f5-4678-9876-f5d4e3c2b1a0",
   "metadata": {},
   "source": [
    "## Option 2: Using a Cloud SQL Database (Production Setup)\n",
    "\n",
    "While SQLite is great for getting started, a managed cloud database like **Cloud SQL** is the right choice for a more robust or production-ready application.\n",
    "\n",
    "### Why Use Cloud SQL?\n",
    "* **Scalability**: It can handle many more simultaneous connections than a local SQLite file.\n",
    "* **Persistence & Reliability**: As a managed service, Google handles backups, failovers, and maintenance, making your data much safer.\n",
    "* **Accessibility**: Your deployed applications (e.g., on Agent Engine) can connect to it from anywhere within your Google Cloud project.\n",
    "\n",
    "The following steps will guide you through creating a PostgreSQL instance on Cloud SQL using `gcloud` commands."
   ]
  },
  {
   "cell_type": "markdown",
   "id": "b5c4d3e2-f6a7-4890-a1b2-c3d4e5f6a7b8",
   "metadata": {},
   "source": [
    "### Step 1: Enable APIs\n",
    "\n",
    "Before creating an instance, you need to ensure the necessary APIs are enabled for your project. The following command enables the Cloud SQL Admin API (for managing instances) and the Vertex AI API."
   ]
  },
  {
   "cell_type": "code",
   "execution_count": null,
   "id": "c6d5e4f3-a8b9-4c12-b3c4-d5e6f7a8b9c0",
   "metadata": {},
   "outputs": [],
   "source": [
    "# Run this cell to enable the required Google Cloud services.\n",
    "!gcloud services enable sqladmin.googleapis.com aiplatform.googleapis.com --project=$PROJECT_ID\n",
    "\n",
    "print(\"✅ APIs enabled.\")"
   ]
  },
  {
   "cell_type": "markdown",
   "id": "d7e6f5a4-b9c0-4d34-a5b6-c7d8e9f0a1b2",
   "metadata": {},
   "source": [
    "### Step 2: Create the Cloud SQL Instance\n",
    "\n",
    "Next, we'll create the Cloud SQL instance. This command will provision a new PostgreSQL database.\n",
    "\n",
    "* **Instance ID**: A unique name for your instance, like `adk-agent-db`.\n",
    "* **Password**: You will be prompted to set a strong password for the default `postgres` user. **Important: Save this password somewhere secure!** You will need it for your `.env` file.\n",
    "* **Region**: To get the best performance, choose the **same region** where your other Vertex AI resources are located (e.g., `us-central1`).\n",
    "* **Database Version**: We'll use PostgreSQL 13, but you can choose another supported version.\n",
    "* **Tier**: The `db-g1-small` is a cost-effective option for development and testing.\n",
    "\n",
    "Replace `adk-agent-db` with your desired instance ID in the command below."
   ]
  },
  {
   "cell_type": "code",
   "execution_count": null,
   "id": "111599ee-debf-4da6-861e-a6742fb9d936",
   "metadata": {
    "tags": []
   },
   "outputs": [],
   "source": []
  },
  {
   "cell_type": "code",
   "execution_count": null,
   "id": "e8f7a6b5-c0d1-4e56-b7c8-d9e0f1a2b3c4",
   "metadata": {},
   "outputs": [],
   "source": [
    "import getpass\n",
    "import shlex\n",
    "import os\n",
    "\n",
    "# Set your desired instance ID and region.\n",
    "# Make sure the region matches your project's location.\n",
    "INSTANCE_ID = \"my-instance-name\"\n",
    "REGION = LOCATION # Using the LOCATION variable from earlier\n",
    "\n",
    "# This command can take a few minutes to complete.\n",
    "print(f\"Creating Cloud SQL instance '{INSTANCE_ID}'. This will take several minutes...\")\n",
    "!gcloud sql instances create {INSTANCE_ID} \\\n",
    "    --database-version=POSTGRES_13 \\\n",
    "    --tier=db-g1-small \\\n",
    "    --region={REGION} \\\n",
    "    --project={PROJECT_ID}\n",
    "print(\"Instance created.\")\n",
    "\n",
    "# --- Set Password Interactively ---\n",
    "# Use getpass to create a secure password prompt in the notebook output.\n",
    "db_password = getpass.getpass(\"Enter a secure password for the 'postgres' user: \")\n",
    "\n",
    "# Set the environment variable immediately for later use.\n",
    "os.environ[\"DB_PASSWORD\"] = db_password\n",
    "print(\"DB_PASSWORD environment variable has been set in this session.\")\n",
    "\n",
    "# Securely quote the password for the shell command\n",
    "quoted_password = shlex.quote(db_password)\n",
    "\n",
    "# Set the password using the --password flag.\n",
    "!gcloud sql users set-password postgres \\\n",
    "    --instance={INSTANCE_ID} \\\n",
    "    --project={PROJECT_ID} \\\n",
    "    --password={quoted_password}\n",
    "\n",
    "print(f\"✅ Cloud SQL instance '{INSTANCE_ID}' created and password set for 'postgres' user.\")"
   ]
  },
  {
   "cell_type": "markdown",
   "id": "f9a8b7c6-d1e2-4f78-a9b0-c1d2e3f4a5b6",
   "metadata": {},
   "source": [
    "### Step 3: Create a Database\n",
    "\n",
    "Once your instance is running, you need to create a specific database inside it for your agent's sessions. We'll name it `agent_sessions`."
   ]
  },
  {
   "cell_type": "code",
   "execution_count": null,
   "id": "0ab9c8d7-e2f3-4089-badc-1d2e3f4a5b6c",
   "metadata": {
    "tags": []
   },
   "outputs": [],
   "source": [
    "DATABASE_NAME = \"my-database-name\"\n",
    "\n",
    "!gcloud sql databases create {DATABASE_NAME} \\\n",
    "    --instance={INSTANCE_ID} \\\n",
    "    --project={PROJECT_ID}\n",
    "\n",
    "print(f\"✅ Database '{DATABASE_NAME}' created in instance '{INSTANCE_ID}'.\")"
   ]
  },
  {
   "cell_type": "markdown",
   "id": "1bcad8e-f3a4-419a-aedc-2d3e4f5a6b7d",
   "metadata": {},
   "source": [
    "### Step 4: Get the Instance Connection Name\n",
    "\n",
    "The instance connection name is a unique identifier for your database instance that is required for connecting securely, especially with the Cloud SQL Auth Proxy. The following command retrieves this name."
   ]
  },
  {
   "cell_type": "code",
   "execution_count": null,
   "id": "2cdbe9f-a4b5-42ab-bfed-3e4f5a6b7c8d",
   "metadata": {
    "tags": []
   },
   "outputs": [],
   "source": [
    "# Get the connection name and save it to a variable to use later.\n",
    "CONNECTION_NAME_VAR = !gcloud sql instances describe {INSTANCE_ID} --project={PROJECT_ID} --format='value(connectionName)'\n",
    "CONNECTION_NAME = CONNECTION_NAME_VAR[0]\n",
    "\n",
    "# You will need to add this to your .env file.\n",
    "print(f\"Instance Connection Name: {CONNECTION_NAME}\")\n",
    "print(\"ACTION: Copy this value and paste it into the 'Set and Load Database Connection Details' cell below.\")"
   ]
  },
  {
   "cell_type": "markdown",
   "id": "3defa0b-b5c6-43bc-80fd-4f5a6b7c8d9e",
   "metadata": {},
   "source": [
    "### Step 5: Download and Run the Cloud SQL Auth Proxy\n",
    "\n",
    "To connect your local machine to your Cloud SQL instance securely, you must use the **Cloud SQL Auth Proxy**. This tool creates a secure local connection without needing to configure IP allowlisting.\n",
    "\n",
    "The next cell automates the process of downloading the correct proxy for your operating system and starting it as a background process. The proxy must be running whenever you want to connect to your database from this notebook.\n",
    "\n",
    "**Note**: The proxy will run in the background. To stop it, you will need to interrupt or restart the notebook's kernel."
   ]
  },
  {
   "cell_type": "code",
   "execution_count": null,
   "id": "new-proxy-cell-12345",
   "metadata": {
    "tags": []
   },
   "outputs": [],
   "source": [
    "import os\n",
    "import platform\n",
    "import subprocess\n",
    "import time\n",
    "\n",
    "# Check if CONNECTION_NAME is defined\n",
    "if 'CONNECTION_NAME' not in locals():\n",
    "    raise NameError(\"CONNECTION_NAME is not defined. Please run the previous cell to get the instance connection name.\")\n",
    "\n",
    "# Determine the correct proxy binary URL\n",
    "system = platform.system()\n",
    "machine = platform.machine()\n",
    "proxy_url = \"\"\n",
    "executable_name = \"cloud-sql-proxy\"\n",
    "\n",
    "if system == \"Linux\" and machine == \"x86_64\":\n",
    "    proxy_url = \"https://storage.googleapis.com/cloud-sql-connectors/cloud-sql-proxy/v2.8.2/cloud-sql-proxy.linux.amd64\"\n",
    "elif system == \"Darwin\":\n",
    "    if machine == \"arm64\":\n",
    "        proxy_url = \"https://storage.googleapis.com/cloud-sql-connectors/cloud-sql-proxy/v2.8.2/cloud-sql-proxy.darwin.arm64\"\n",
    "    elif machine == \"x86_64\":\n",
    "        proxy_url = \"https://storage.googleapis.com/cloud-sql-connectors/cloud-sql-proxy/v2.8.2/cloud-sql-proxy.darwin.amd64\"\n",
    "elif system == \"Windows\":\n",
    "     proxy_url = \"https://storage.googleapis.com/cloud-sql-connectors/cloud-sql-proxy/v2.8.2/cloud-sql-proxy.x64.exe\"\n",
    "     executable_name += \".exe\"\n",
    "\n",
    "if not proxy_url:\n",
    "    print(f\"Unsupported OS/architecture: {system}/{machine}. Please install the Cloud SQL Auth Proxy manually.\")\n",
    "else:\n",
    "    # Download the proxy\n",
    "    print(f\"Downloading Cloud SQL Auth Proxy for {system}/{machine}...\")\n",
    "    !curl -o {executable_name} {proxy_url}\n",
    "    \n",
    "    # Make it executable (if not on Windows)\n",
    "    if system != \"Windows\":\n",
    "        print(\"Making it executable...\")\n",
    "        !chmod +x {executable_name}\n",
    "\n",
    "    # Start the proxy in the background\n",
    "    print(f\"Starting proxy for instance: {CONNECTION_NAME}\")\n",
    "    # Using Popen to run it as a non-blocking background process\n",
    "    proxy_process = subprocess.Popen([f\"./{executable_name}\", CONNECTION_NAME])\n",
    "    \n",
    "    # Give it a moment to start up\n",
    "    time.sleep(5)\n",
    "    \n",
    "    print(f\"✅ Cloud SQL Auth Proxy started in the background with PID: {proxy_process.pid}\")\n",
    "    print(\"You can now proceed to the next cells to connect to the database.\")"
   ]
  },
  {
   "cell_type": "code",
   "execution_count": null,
   "id": "15f78f49-07a2-474b-bf86-d89631cae02e",
   "metadata": {
    "tags": []
   },
   "outputs": [],
   "source": [
    "# ==============================================================================\n",
    "#  Set and Load Database Connection Details\n",
    "# ==============================================================================\n",
    "# This cell configures and loads the connection details for our Cloud SQL database.\n",
    "# The DB_PASSWORD was set interactively in the cell that created the instance.\n",
    "\n",
    "# ACTION REQUIRED:\n",
    "# 1. Paste the 'Instance Connection Name' you copied from the output of Step 4.\n",
    "\n",
    "# --- Set Database environment variables ---\n",
    "os.environ[\"DB_USER\"] = \"postgres\"\n",
    "os.environ[\"DB_NAME\"] = \"db-name\"\n",
    "os.environ[\"CONNECTION_NAME\"] = f\"connection-name\" # <-- PASTE CONNECTION NAME HERE\n",
    "os.environ[\"DB_HOST\"] = \"db_host_ip\" # example: 127.0.0.1\n",
    "os.environ[\"DB_PORT\"] = \"port_number\" # example: 5432\n",
    "\n",
    "# --- Load variables into the script ---\n",
    "# We retrieve DB_PASSWORD from the environment, assuming it was set by the getpass prompt earlier.\n",
    "DB_USER = os.environ[\"DB_USER\"]\n",
    "DB_PASSWORD = os.environ[\"DB_PASSWORD\"]\n",
    "DB_NAME = os.environ[\"DB_NAME\"]\n",
    "CONNECTION_NAME = os.environ[\"CONNECTION_NAME\"]\n",
    "DB_HOST = os.environ[\"DB_HOST\"]\n",
    "DB_PORT = os.environ[\"DB_PORT\"]\n",
    "\n",
    "if not DB_PASSWORD:\n",
    "    print(\"⚠️ DB_PASSWORD is not set. Please re-run the 'Create the Cloud SQL Instance' cell.\")\n",
    "else:\n",
    "    print(\"✅ Cloud SQL environment variables configured.\")"
   ]
  },
  {
   "cell_type": "code",
   "execution_count": null,
   "id": "2c734514-841c-4a8a-8e1e-c4c56183eade",
   "metadata": {
    "tags": []
   },
   "outputs": [],
   "source": [
    "# ==============================================================================\n",
    "#  Define a Session Service Builder (Option 2: Cloud SQL)\n",
    "# ==============================================================================\n",
    "# This is our second session service builder, designed to connect to the\n",
    "# Cloud SQL for PostgreSQL instance we configured earlier.\n",
    "\n",
    "# It takes the database credentials loaded from the .env file and builds a\n",
    "# standard PostgreSQL connection string. This string points to the Cloud SQL\n",
    "# Auth Proxy, which must be running locally to securely tunnel the connection.\n",
    "\n",
    "# We can easily switch the agent's memory from local SQLite to this cloud\n",
    "# database simply by changing which builder function we use in the next step.\n",
    "\n",
    "def create_database_session_service_sql() -> BaseSessionService:\n",
    "    db_url = f\"postgresql+pg8000://{DB_USER}:{DB_PASSWORD}@{DB_HOST}:{DB_PORT}/{DB_NAME}\"\n",
    "\n",
    "    # You can also pass other SQLAlchemy engine arguments if needed.\n",
    "    session_db_kwargs = {\n",
    "        \"pool_recycle\": 3600,\n",
    "        \"echo\": False  # Set to True for debugging, False in production\n",
    "    }\n",
    "\n",
    "    print(f\"Creating DatabaseSessionService with Cloud SQL URL.\")\n",
    "    return DatabaseSessionService(db_url=db_url, **session_db_kwargs)"
   ]
  },
  {
   "cell_type": "code",
   "execution_count": null,
   "id": "d92aaa30-f1be-4db8-a6f9-316e614f913d",
   "metadata": {
    "tags": []
   },
   "outputs": [],
   "source": [
    "# ==============================================================================\n",
    "#  Create the App Instance (Cloud SQL Option)\n",
    "# ==============================================================================\n",
    "# Now we create a new AdkApp instance, but this time we connect it to our\n",
    "# Cloud SQL database.\n",
    "\n",
    "# By simply passing our new `create_database_session_service_sql` builder,\n",
    "# we swap the agent's memory backend. All conversations handled by this\n",
    "# `sql_app` object will now be stored in our PostgreSQL database.\n",
    "\n",
    "sql_app = AdkApp(\n",
    "    agent=root_agent,\n",
    "    session_service_builder=create_database_session_service_sql,\n",
    ")"
   ]
  },
  {
   "cell_type": "code",
   "execution_count": null,
   "id": "765327bf-5e75-4afe-81d7-250432071daa",
   "metadata": {
    "tags": []
   },
   "outputs": [],
   "source": [
    "# ==============================================================================\n",
    "#  Create a session for a sample user\n",
    "# ==============================================================================\n",
    "\n",
    "\n",
    "user_id = \"sql_user_demo\"\n",
    "\n",
    "session = sql_app.create_session(user_id=user_id)"
   ]
  },
  {
   "cell_type": "code",
   "execution_count": null,
   "id": "587c153e-118f-4d00-a662-1bc539ff081a",
   "metadata": {
    "tags": []
   },
   "outputs": [],
   "source": [
    "# ==============================================================================\n",
    "#  Interact with the Agent (Using Cloud SQL)\n",
    "# ==============================================================================\n",
    "# Finally, let's test our new Cloud SQL-backed application.\n",
    "\n",
    "# We'll use the `sql_app` instance and the new session ID we just created to\n",
    "# send a message to the agent. Because we are using this app, this new\n",
    "# conversation turn will be saved to our PostgreSQL database in Cloud SQL.\n",
    "\n",
    "# After running this, you can use `psql` or the Cloud SQL Studio to query your\n",
    "# database and see this new conversation appear in the 'sessions' table.\n",
    "\n",
    "print(\"\\n--- User's Message ---\")\n",
    "message = \"Hello whats up?\"\n",
    "print(f\"You: {message}\\n\")\n",
    "\n",
    "\n",
    "print(\"--- Agent's Response ---\")\n",
    "for event in sql_app.stream_query(user_id=user_id, session_id=session.id, message=message):\n",
    "    print(event['content'])"
   ]
  },
  {
   "cell_type": "code",
   "execution_count": null,
   "id": "3a4fd3ab-a04a-4b97-80b3-e8fd4744e800",
   "metadata": {},
   "outputs": [],
   "source": []
  }
 ],
 "metadata": {
  "environment": {
   "kernel": "agentic_ssh",
   "name": "workbench-notebooks.m132",
   "type": "gcloud",
   "uri": "us-docker.pkg.dev/deeplearning-platform-release/gcr.io/workbench-notebooks:m132"
  },
  "kernelspec": {
   "display_name": "agents (Local)",
   "language": "python",
   "name": "agentic_ssh"
  },
  "language_info": {
   "codemirror_mode": {
    "name": "ipython",
    "version": 3
   },
   "file_extension": ".py",
   "mimetype": "text/x-python",
   "name": "python",
   "nbconvert_exporter": "python",
   "pygments_lexer": "ipython3",
   "version": "3.12.11"
  }
 },
 "nbformat": 4,
 "nbformat_minor": 5
}
