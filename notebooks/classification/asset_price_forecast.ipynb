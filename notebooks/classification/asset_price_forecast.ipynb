{
  "cells": [
    {
      "cell_type": "markdown",
      "id": "4b2300e6",
      "metadata": {},
      "source": [
        "# Asset Price Forecast using Iceberg and Prophet"
      ]
    },
    {
      "cell_type": "markdown",
      "id": "9440e57a",
      "metadata": {},
      "source": [
        "<img src=\"../../docs/images/forecast/gold-forecast.png\" alt=\"drawing\" width=\"800\"/>"
      ]
    },
    {
      "cell_type": "code",
      "execution_count": null,
      "id": "6892eb2c",
      "metadata": {},
      "outputs": [],
      "source": [
        "%pip install -q pyspark==3.5.0 google-spark-connect google-cloud-dataproc pandas prophet matplotlib"
      ]
    },
    {
      "cell_type": "code",
      "execution_count": null,
      "id": "d06431b9",
      "metadata": {},
      "outputs": [],
      "source": [
        "\n",
        "from prophet import Prophet\n",
        "\n",
        "from pyspark.sql.functions import col, year\n",
        "\n",
        "from google.cloud import dataproc_v1\n",
        "from google.cloud.dataproc_v1 import Session, SparkConnectConfig\n",
        "from google.cloud.spark_connect import GoogleSparkSession"
      ]
    },
    {
      "cell_type": "code",
      "execution_count": null,
      "id": "c8860965",
      "metadata": {},
      "outputs": [],
      "source": [
        "project_id = \"<YOUR_GCP_PROJECT>\"\n",
        "location = \"<YOUR_LOCATION>\"  \n",
        "\n",
        "serverless_spark_template_id = \"spark-serverless-runtime\"\n",
        "\n",
        "csv_path = 'gs://dataproc-metastore-public-binaries/asset_price_forecast/asset_price_forecast.csv'\n",
        "\n",
        "iceberg_warehouse_gcs_path = \"gs://<YOUR_ICEBERG_GCS_BUCKET>/iceberg/data\"\n",
        "iceberg_catalog_name = \"spark_catalog_demo\"\n",
        "iceberg_dataset = \"finance\""
      ]
    },
    {
      "cell_type": "code",
      "execution_count": null,
      "id": "9f4a9cb5",
      "metadata": {},
      "outputs": [],
      "source": [
        "import google.api_core.exceptions\n",
        "\n",
        "def create_session_template():\n",
        "    \"\"\"Creates a session template and handles the case where it already exists.\"\"\"\n",
        "    full_template_name = f\"projects/{project_id}/locations/{location}/sessionTemplates/{serverless_spark_template_id}\"\n",
        "\n",
        "    template = dataproc_v1.SessionTemplate()\n",
        "    template.description = \"A standard template for interactive PySpark sessions.\"\n",
        "    template.runtime_config = {\n",
        "        \"version\": \"2.2\",\n",
        "        \"properties\": {\n",
        "            \"spark.sql.extensions\": \"org.apache.iceberg.spark.extensions.IcebergSparkSessionExtensions\",\n",
        "            f\"spark.sql.catalog.{iceberg_catalog_name}\": \"org.apache.iceberg.spark.SparkCatalog\",\n",
        "            f\"spark.sql.catalog.{iceberg_catalog_name}.catalog-impl\": \"org.apache.iceberg.gcp.bigquery.BigQueryMetastoreCatalog\",\n",
        "            f\"spark.sql.catalog.{iceberg_catalog_name}.gcp_project\": project_id,\n",
        "            f\"spark.sql.catalog.{iceberg_catalog_name}.gcp_location\": location,\n",
        "            f\"spark.sql.catalog.{iceberg_catalog_name}.warehouse\": iceberg_warehouse_gcs_path,\n",
        "            \"spark.sql.warehouse.dir\": \"/tmp/hive/data/warehouse\"\n",
        "        }\n",
        "    }\n",
        "    template.spark_connect_session = {}\n",
        "    template.name = full_template_name\n",
        "\n",
        "    client_options = {\"api_endpoint\": f\"{location}-dataproc.googleapis.com:443\"}\n",
        "    client = dataproc_v1.SessionTemplateControllerClient(client_options=client_options)\n",
        "    parent = client.common_location_path(project_id, location)\n",
        "\n",
        "    try:\n",
        "        request = dataproc_v1.CreateSessionTemplateRequest(\n",
        "            parent=parent,\n",
        "            session_template=template\n",
        "        )\n",
        "        result = client.create_session_template(request=request)\n",
        "        print(f\"Session template created: {result.name}\")\n",
        "    except google.api_core.exceptions.AlreadyExists:\n",
        "        print(f\"Session template '{serverless_spark_template_id}' already exists.\")\n",
        "        request = dataproc_v1.GetSessionTemplateRequest(name=full_template_name)\n",
        "        result = client.get_session_template(request=request)\n",
        "        print(f\"Using existing session template: {result.name}\")\n",
        "\n",
        "create_session_template()"
      ]
    },
    {
      "cell_type": "code",
      "execution_count": null,
      "id": "de001e63",
      "metadata": {},
      "outputs": [],
      "source": [
        "session_config = Session()\n",
        "session_config.spark_connect_session = SparkConnectConfig()\n",
        "session_config.session_template = f\"projects/{project_id}/locations/{location}/sessionTemplates/{serverless_spark_template_id}\"\n",
        "spark = GoogleSparkSession.builder.projectId(project_id).location(location).googleSessionConfig(session_config).getOrCreate()"
      ]
    },
    {
      "cell_type": "code",
      "execution_count": null,
      "id": "3c6797c4-e1be-4eca-9775-12e86128b81c",
      "metadata": {},
      "outputs": [],
      "source": [
        "df = spark.read.option(\"header\", \"true\").option(\"inferSchema\", \"true\").csv(csv_path)\n",
        "df.count()"
      ]
    },
    {
      "cell_type": "code",
      "execution_count": null,
      "id": "b25618aa-f819-424b-a34b-695aa848f4a0",
      "metadata": {},
      "outputs": [],
      "source": [
        "df_optimized = df.drop('High', 'Low', 'Open', 'Volume')\n",
        "df_optimized = df_optimized.withColumn('year', year(col('date')))\n",
        "df_optimized.show()"
      ]
    },
    {
      "cell_type": "code",
      "execution_count": null,
      "id": "bba976f3",
      "metadata": {},
      "outputs": [],
      "source": [
        "spark.sql(f\"CREATE DATABASE IF NOT EXISTS {iceberg_catalog_name}.{iceberg_dataset}\")"
      ]
    },
    {
      "cell_type": "code",
      "execution_count": null,
      "id": "88a78a2c-3209-4356-92c9-a548d8f6c92b",
      "metadata": {},
      "outputs": [],
      "source": [
        "df_optimized.write.format('iceberg').mode('overwrite').partitionBy('year').saveAsTable(f'{iceberg_catalog_name}.{iceberg_dataset}.gold_price')"
      ]
    },
    {
      "cell_type": "code",
      "execution_count": null,
      "id": "92137c35-0e0c-49bb-874a-b1bf5ab95e2d",
      "metadata": {},
      "outputs": [],
      "source": [
        "df_pandas = df_optimized.toPandas()\n",
        "df_pandas.count()"
      ]
    },
    {
      "cell_type": "code",
      "execution_count": null,
      "id": "6daf8726-c67c-4c50-98a5-64cff93a2a14",
      "metadata": {},
      "outputs": [],
      "source": [
        "series = df_pandas.rename(columns={'Date': 'ds', 'Close': 'y'})\n",
        "confidence_interval = 0.9\n",
        "model = Prophet(interval_width=confidence_interval)\n",
        "model.fit(series)"
      ]
    },
    {
      "cell_type": "code",
      "execution_count": null,
      "id": "294ee85a-ee13-4700-a00e-986087f8926b",
      "metadata": {},
      "outputs": [],
      "source": [
        "forecast_period = 365\n",
        "future = model.make_future_dataframe(periods=forecast_period)\n",
        "forecast = model.predict(future)"
      ]
    },
    {
      "cell_type": "code",
      "execution_count": null,
      "id": "9b3f253f-40c7-4208-9c7a-f4987b60e85c",
      "metadata": {},
      "outputs": [],
      "source": [
        "fig1 = model.plot(forecast)\n",
        "fig1.gca().set_title(\"Gold Spot Price Forecast\", size=16)\n",
        "fig1.gca().set_xlabel(\"Date\")\n",
        "fig1.gca().set_ylabel(\"Price USD/Ounce\")\n"
      ]
    },
    {
      "cell_type": "code",
      "execution_count": null,
      "id": "eea8fe86-0554-495c-9da2-df82a8dc1e55",
      "metadata": {},
      "outputs": [],
      "source": [
        "forecast1 = forecast[['ds', 'yhat']][forecast['ds']> '2025-07-17']\n",
        "forecast1.columns = ['Date', 'Close']\n",
        "forecast1['Date'] = forecast1['Date'].dt.date\n",
        "df_forecast = spark.createDataFrame(forecast1)\n",
        "df_forecast = df_forecast.withColumn('year', year(col('date')))\n",
        "df_forecast.show()"
      ]
    },
    {
      "cell_type": "code",
      "execution_count": null,
      "id": "09c226ca-53a2-48c5-885c-83adba602be9",
      "metadata": {},
      "outputs": [],
      "source": [
        "combined_df = df_optimized.unionByName(df_forecast)\n",
        "combined_df.tail(20)"
      ]
    },
    {
      "cell_type": "code",
      "execution_count": null,
      "id": "b6626681-753a-4162-83cb-61a0c5099108",
      "metadata": {},
      "outputs": [],
      "source": [
        "combined_df.write.format('iceberg').mode('append').partitionBy('year').saveAsTable(f'{iceberg_catalog_name}.{iceberg_dataset}.gold_price')"
      ]
    }
  ],
  "metadata": {
    "kernelspec": {
      "display_name": ".venv",
      "language": "python",
      "name": "python3"
    },
    "language_info": {
      "codemirror_mode": {
        "name": "ipython",
        "version": 3
      },
      "file_extension": ".py",
      "mimetype": "text/x-python",
      "name": "python",
      "nbconvert_exporter": "python",
      "pygments_lexer": "ipython3",
      "version": "3.11.6"
    }
  },
  "nbformat": 4,
  "nbformat_minor": 5
}
