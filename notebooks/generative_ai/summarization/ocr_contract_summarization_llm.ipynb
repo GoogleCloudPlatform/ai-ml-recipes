{
 "cells": [
  {
   "cell_type": "code",
   "execution_count": null,
   "id": "bc383f7a",
   "metadata": {
    "collapsed": false,
    "jupyter": {
     "outputs_hidden": false
    }
   },
   "outputs": [],
   "source": [
    "# Copyright 2023 Google LLC\n",
    "#\n",
    "# Licensed under the Apache License, Version 2.0 (the \"License\");\n",
    "# you may not use this file except in compliance with the License.\n",
    "# You may obtain a copy of the License at\n",
    "#\n",
    "#     https://www.apache.org/licenses/LICENSE-2.0\n",
    "#\n",
    "# Unless required by applicable law or agreed to in writing, software\n",
    "# distributed under the License is distributed on an \"AS IS\" BASIS,\n",
    "# WITHOUT WARRANTIES OR CONDITIONS OF ANY KIND, either express or implied.\n",
    "# See the License for the specific language governing permissions and\n",
    "# limitations under the License."
   ]
  },
  {
   "cell_type": "markdown",
   "id": "14dada32",
   "metadata": {
    "collapsed": false,
    "jupyter": {
     "outputs_hidden": false
    }
   },
   "source": [
    "# Summarize contracts (PDF files) using OCR (Vision API) and LLM (Gemini)"
   ]
  },
  {
   "cell_type": "markdown",
   "id": "3a6383fb-e95d-4bae-88e7-d7919e44855f",
   "metadata": {},
   "source": [
    "<table align=\"left\">\n",
    "\n",
    "<a href=\"https://github.com/GoogleCloudPlatform/ai-ml-recipes/blob/main/notebooks/generative_ai/summarization/ocr_contract_summarization_llm.ipynb\">\n",
    "<img src=\"https://cloud.google.com/ml-engine/images/github-logo-32px.png\" alt=\"GitHub logo\">\n",
    "View on GitHub\n",
    "</a>\n",
    "</td>\n",
    "<td>\n",
    "<a href=\"https://console.cloud.google.com/vertex-ai/workbench/deploy-notebook?download_url=https://raw.githubusercontent.com/GoogleCloudPlatform/ai-ml-recipes/main/notebooks/generative_ai/summarization/ocr_contract_summarization_llm.ipynb\">\n",
    "<img src=\"https://lh3.googleusercontent.com/UiNooY4LUgW_oTvpsNhPpQzsstV5W8F7rYgxgGBD85cWJoLmrOzhVs_ksK_vgx40SHs7jCqkTkCk=e14-rj-sc0xffffff-h130-w32\" alt=\"Vertex AI logo\">\n",
    "Open in Vertex AI Workbench\n",
    "</a>\n",
    "</td>\n",
    "</table>"
   ]
  },
  {
   "cell_type": "markdown",
   "id": "1c177340-d3b4-4e5b-a927-31bcc8f031e7",
   "metadata": {
    "tags": []
   },
   "source": [
    "## Overview"
   ]
  },
  {
   "cell_type": "markdown",
   "id": "bb23a4a5-dbba-4370-b572-7b4382973e7b",
   "metadata": {
    "tags": []
   },
   "source": [
    "This notebook shows how to perform OCR and summarization using LLM for a large number of contract PDF files in a GCS bucket\n",
    "\n",
    "#### **Steps**\n",
    "Using Spark, \n",
    "1) It reads the table of the [Contract Understanding Atticus Dataset (CUAD)](https://www.atticusprojectai.org/cuad) dataset located in the [gs://dataproc-metastore-public-binaries/cuad_v1/full_contract_pdf/](https://console.cloud.google.com/storage/browser/dataproc-metastore-public-binaries/cuad_v1)  \n",
    "   We will create a metadata table poiting to the paths of the image files in the bucket.  \n",
    "2) It runs OCR using Vision API - it start a series of async operations and then checks its completion status.\n",
    "3) It calls [Vertex AI Gemini API](https://cloud.google.com/vertex-ai/docs/generative-ai/start/quickstarts/api-quickstart#try_text_prompts) to summarize the text.\n",
    "4) It saves the output to BigQuery\n",
    "\n",
    "#### Related content\n",
    "\n",
    "- [Design summarization prompts](https://cloud.google.com/vertex-ai/docs/generative-ai/text/summarization-prompts)"
   ]
  },
  {
   "cell_type": "markdown",
   "id": "239a33c4-5d5f-4a05-8ca2-3f30ddf23464",
   "metadata": {
    "tags": []
   },
   "source": [
    "## Setup"
   ]
  },
  {
   "cell_type": "markdown",
   "id": "69fb05c5-aac5-4f7e-9949-72e9890ec303",
   "metadata": {
    "tags": []
   },
   "source": [
    "#### Identity and Access Management (IAM)"
   ]
  },
  {
   "cell_type": "markdown",
   "id": "a79ac509-8480-49ff-9891-f14e9a1346ac",
   "metadata": {},
   "source": [
    "Make sure the service account running this notebook has the required permissions:\n",
    "\n",
    "- **Run the notebook**\n",
    "  - AI Platform Notebooks Service Agent\n",
    "  - Notebooks Admin\n",
    "  - Vertex AI Administrator\n",
    "- **Read files from bucket**\n",
    "  - Storage Object Viewer\n",
    "- **Run Dataproc jobs**\n",
    "  - Dataproc Service Agent\n",
    "  - Dataproc Worker\n",
    "- **Call Google APIs (Gemini and Vision)**\n",
    "  - Service Usage Consumer\n",
    "  - VisionAI Admin\n",
    "- **BigQuery**\n",
    "  - BigQuery Data Editor"
   ]
  },
  {
   "cell_type": "markdown",
   "id": "3a08dc3e-5364-443b-abcb-5a65dabe5d8e",
   "metadata": {
    "tags": []
   },
   "source": [
    "#### Imports"
   ]
  },
  {
   "cell_type": "code",
   "execution_count": null,
   "id": "4d323b55-1d2f-46d4-b2e1-d7c6b545ba15",
   "metadata": {},
   "outputs": [],
   "source": [
    "import os\n",
    "import sys\n",
    "import re\n",
    "import json\n",
    "import time\n",
    "\n",
    "from pyspark.sql.functions import udf, col, lit, split, explode, size, avg, count, regexp_replace, collect_list\n",
    "from pyspark.sql.types import StructType, StructField, StringType, ArrayType\n",
    "\n",
    "import google.auth\n",
    "import google.auth.transport.requests\n",
    "import requests\n",
    "\n",
    "from google.cloud import storage"
   ]
  },
  {
   "cell_type": "code",
   "execution_count": null,
   "id": "37a9e9fc-8b54-48a6-9389-e3ed4ce3cb6d",
   "metadata": {},
   "outputs": [],
   "source": [
    "# When using Dataproc Serverless, installed packages are automatically available on all nodes\n",
    "!pip install --upgrade google-cloud-aiplatform google-cloud-vision\n",
    "# When using a Dataproc cluster, you will need to install these packages during cluster creation: https://cloud.google.com/dataproc/docs/tutorials/python-configuration"
   ]
  },
  {
   "cell_type": "markdown",
   "id": "1ec3e8cd-9bdc-4b20-ac45-f6fc9b8acc56",
   "metadata": {
    "tags": []
   },
   "source": [
    "#### Authentication"
   ]
  },
  {
   "cell_type": "code",
   "execution_count": null,
   "id": "ceea2972-fe50-4779-8c1b-12333855d3b5",
   "metadata": {},
   "outputs": [],
   "source": [
    "# Get credentials to authenticate with Google APIs\n",
    "credentials, project_id = google.auth.default()\n",
    "auth_req = google.auth.transport.requests.Request()\n",
    "credentials.refresh(auth_req)"
   ]
  },
  {
   "cell_type": "markdown",
   "id": "8c739bba-bad6-421a-91da-1f9916359edd",
   "metadata": {
    "tags": []
   },
   "source": [
    "#### Setup Spark Session"
   ]
  },
  {
   "cell_type": "code",
   "execution_count": null,
   "id": "e03a39d4-d08f-4ceb-a11b-6cea8329ccb7",
   "metadata": {},
   "outputs": [],
   "source": [
    "from pyspark.sql import SparkSession"
   ]
  },
  {
   "cell_type": "code",
   "execution_count": null,
   "id": "a34ce061-651b-4fb9-88bb-bd59d4eaf2e0",
   "metadata": {},
   "outputs": [],
   "source": [
    "spark = SparkSession.builder \\\n",
    "    .appName(\"OCR contract PDF files and summarize\") \\\n",
    "    .enableHiveSupport() \\\n",
    "    .getOrCreate()"
   ]
  },
  {
   "cell_type": "markdown",
   "id": "07afb76e-7298-4c11-b43b-105e0fe8673f",
   "metadata": {
    "tags": []
   },
   "source": [
    "#### Parameters"
   ]
  },
  {
   "cell_type": "code",
   "execution_count": null,
   "id": "ac1459e1-f79b-440b-901a-1c9d1645a73e",
   "metadata": {},
   "outputs": [],
   "source": [
    "# Change the maximum number of files you want to consider\n",
    "limit_files = 5\n",
    "# OCR\n",
    "gcs_output_bucket = \"gs://dataproc-metastore-public-binaries\" # Output bucket where OCR text files will be saved\n",
    "output_path_prefix = \"cuad_v1/output_ocr\" # path prefix after bucket name where the folder structure will be created\n",
    "# BigQuery\n",
    "output_dataset_bq = \"output_dataset\" # create the BigQuery dataset beforehand\n",
    "output_table_bq = \"ocr_summaries\"\n",
    "bq_temp_bucket_name = \"workspaces-bq-temp-bucket-dev\""
   ]
  },
  {
   "cell_type": "markdown",
   "id": "6d49c961-0d83-467f-b107-ba24ebabb57c",
   "metadata": {
    "tags": []
   },
   "source": [
    "## Read dataset"
   ]
  },
  {
   "cell_type": "markdown",
   "id": "14fc5d32-a882-4b5d-ad98-5089647efec1",
   "metadata": {
    "tags": []
   },
   "source": [
    "#### Read CUAD V1 dataset from metastore"
   ]
  },
  {
   "cell_type": "code",
   "execution_count": null,
   "id": "a29ee53c-cc25-4d47-9f7d-90355f6ec8f0",
   "metadata": {},
   "outputs": [],
   "source": [
    "BINARIES_BUCKET_PATH = \"gs://dataproc-metastore-public-binaries/cuad_v1/full_contract_pdf/\"\n",
    "cuad_v1_df = spark.read.format(\"binaryFile\").option(\"recursiveFileLookup\", \"true\").load(BINARIES_BUCKET_PATH).limit(limit_files)"
   ]
  },
  {
   "cell_type": "markdown",
   "id": "0bb0deba-7fa0-42f3-8273-fb5079dd6825",
   "metadata": {},
   "source": [
    "|                path|    modificationTime| length|             content|\n",
    "|--------------------|--------------------|-------|--------------------|\n",
    "|gs://dataproc-met...|2023-05-15 20:53:...|3683550|[25 50 44 46 2D 3...|\n",
    "|gs://dataproc-met...|2023-05-15 20:53:...|2881262|[25 50 44 46 2D 3...|\n",
    "|gs://dataproc-met...|2023-05-15 20:54:...|1778356|[25 50 44 46 2D 3...|\n",
    "|gs://dataproc-met...|2023-05-15 20:53:...|1557129|[25 50 44 46 2D 3...|\n",
    "|gs://dataproc-met...|2023-05-15 20:53:...|1452180|[25 50 44 46 2D 3...|"
   ]
  },
  {
   "cell_type": "code",
   "execution_count": null,
   "id": "85dd7748-90bd-4222-863b-f9e34235a2e9",
   "metadata": {},
   "outputs": [],
   "source": [
    "files_df = cuad_v1_df.select(\"path\").withColumnRenamed(\"path\", \"pdf_path\")"
   ]
  },
  {
   "cell_type": "markdown",
   "id": "bb6285a4-7740-4a05-869f-5f8be3ec9838",
   "metadata": {
    "tags": []
   },
   "source": [
    "## Run OCR using Vision API"
   ]
  },
  {
   "cell_type": "markdown",
   "id": "a510e96b-6ff3-479a-9892-29b1193aba07",
   "metadata": {
    "tags": []
   },
   "source": [
    "#### Run OCR - Start operations"
   ]
  },
  {
   "cell_type": "code",
   "execution_count": null,
   "id": "958c6924-2fd3-4bcb-9c68-d965a286c030",
   "metadata": {},
   "outputs": [],
   "source": [
    "from google.cloud import vision_v1 as vision"
   ]
  },
  {
   "cell_type": "code",
   "execution_count": null,
   "id": "0251955c-0343-4195-9534-cc5c720e7935",
   "metadata": {},
   "outputs": [],
   "source": [
    "def perform_ocr(gcs_source_uri, gcs_output_bucket, output_path_prefix):\n",
    "\n",
    "    gcs_uri, file_name = os.path.split(gcs_source_uri)\n",
    "    sub_paths = re.sub(r\"gs://[^/]+\", \"\", gcs_uri, 1)\n",
    "    gcs_destination_uri = gcs_output_bucket + \"/\" + output_path_prefix + sub_paths + \"/\" + file_name\n",
    "\n",
    "    # Prepare the asynchronous request\n",
    "    async_request = vision.AsyncAnnotateFileRequest(\n",
    "        features=[vision.Feature(type_=vision.Feature.Type.DOCUMENT_TEXT_DETECTION)],\n",
    "        input_config = vision.InputConfig(\n",
    "            gcs_source=vision.GcsSource(uri=gcs_source_uri), \n",
    "            mime_type='application/pdf'\n",
    "        ),\n",
    "        output_config = vision.OutputConfig(\n",
    "            gcs_destination=vision.GcsDestination(uri=gcs_destination_uri),\n",
    "            batch_size=100\n",
    "        )\n",
    "    )\n",
    "\n",
    "    # Submit the OCR request and get the operation\n",
    "    client = vision.ImageAnnotatorClient()\n",
    "    operation = client.async_batch_annotate_files(requests=[async_request])\n",
    "\n",
    "    return [gcs_destination_uri, operation.operation.name]"
   ]
  },
  {
   "cell_type": "code",
   "execution_count": null,
   "id": "1f7af073-9ac4-415c-8049-046ac539ed9f",
   "metadata": {},
   "outputs": [],
   "source": [
    "schema = StructType(\n",
    "    [\n",
    "        StructField(\"ocr_text_path\", StringType(), False),\n",
    "        StructField(\"vision_api_async_operation_name\", StringType(), False)\n",
    "    ]\n",
    ")\n",
    "\n",
    "perform_ocr_udf = udf(perform_ocr, schema)"
   ]
  },
  {
   "cell_type": "code",
   "execution_count": null,
   "id": "1a175e31-11fa-407c-847b-a4ad07ea23bc",
   "metadata": {},
   "outputs": [],
   "source": [
    "ocr_async_op_df = files_df.withColumn(\"ocr_async_op\", perform_ocr_udf(files_df[\"pdf_path\"], lit(gcs_output_bucket), lit(output_path_prefix)))"
   ]
  },
  {
   "cell_type": "code",
   "execution_count": null,
   "id": "5ca21831-cc23-4cc9-9405-907bec26d9d2",
   "metadata": {},
   "outputs": [],
   "source": [
    "ocr_async_op_df = ocr_async_op_df.withColumn(\"ocr_text_path\", ocr_async_op_df[\"ocr_async_op\"][\"ocr_text_path\"]) \\\n",
    "                                 .withColumn(\"vision_api_async_operation_name\", ocr_async_op_df[\"ocr_async_op\"][\"vision_api_async_operation_name\"]) \\\n",
    "                                 .drop(\"ocr_async_op\")"
   ]
  },
  {
   "cell_type": "code",
   "execution_count": null,
   "id": "9d18f1e7-d5b0-445f-8e90-cab8b351d77d",
   "metadata": {},
   "outputs": [],
   "source": [
    "ocr_async_op_df.show(10,50)"
   ]
  },
  {
   "cell_type": "markdown",
   "id": "20de6bc5-95a8-49f1-a491-da5884181015",
   "metadata": {},
   "source": [
    "|                                          pdf_path|                                     ocr_text_path|                   vision_api_async_operation_name|\n",
    "|--------------------------------------------------|--------------------------------------------------|--------------------------------------------------|\n",
    "|gs://dataproc-metastore-public-binaries/cuad_v1...|gs://dataproc-metastore-public-binaries/cuad_v1...|projects/dataproc-workspaces-notebooks/operatio...|\n",
    "|gs://dataproc-metastore-public-binaries/cuad_v1...|gs://dataproc-metastore-public-binaries/cuad_v1...|projects/dataproc-workspaces-notebooks/operatio...|\n",
    "|gs://dataproc-metastore-public-binaries/cuad_v1...|gs://dataproc-metastore-public-binaries/cuad_v1...|projects/dataproc-workspaces-notebooks/operatio...|\n",
    "|gs://dataproc-metastore-public-binaries/cuad_v1...|gs://dataproc-metastore-public-binaries/cuad_v1...|projects/dataproc-workspaces-notebooks/operatio...|\n",
    "|gs://dataproc-metastore-public-binaries/cuad_v1...|gs://dataproc-metastore-public-binaries/cuad_v1...|projects/dataproc-workspaces-notebooks/operatio...|"
   ]
  },
  {
   "cell_type": "code",
   "execution_count": null,
   "id": "bdeddde9-cf54-4e06-ad3f-05a7296c4f81",
   "metadata": {},
   "outputs": [],
   "source": [
    "ocr_async_op_df.cache()"
   ]
  },
  {
   "cell_type": "markdown",
   "id": "a1c1feec-ac55-493b-b997-cdcdc662e907",
   "metadata": {
    "tags": []
   },
   "source": [
    "#### Check status of OCR operations"
   ]
  },
  {
   "cell_type": "code",
   "execution_count": null,
   "id": "47d1fe70-efc1-4ca1-9d33-e5b16089c668",
   "metadata": {},
   "outputs": [],
   "source": [
    "def check_completion(operation_name):\n",
    "    client = vision.ImageAnnotatorClient()\n",
    "    \n",
    "    operation = client.get_operation({'name': operation_name})\n",
    "\n",
    "    status_messages = {\n",
    "        True: 'done',\n",
    "        False: 'processing',\n",
    "        'error': lambda op: f'Operation error: code {op.metadata[\"error\"][\"code\"]} and message {op.metadata[\"error\"][\"message\"]}'\n",
    "    }\n",
    "\n",
    "    result = status_messages.get(operation.done, 'unknown')  # Handle unexpected states\n",
    "    if result == 'error':\n",
    "        result = result(operation)\n",
    "        \n",
    "    return result"
   ]
  },
  {
   "cell_type": "code",
   "execution_count": null,
   "id": "ff2304dc-94ac-445c-939e-946c8bf2b3d2",
   "metadata": {},
   "outputs": [],
   "source": [
    "check_completion = udf(check_completion)"
   ]
  },
  {
   "cell_type": "code",
   "execution_count": null,
   "id": "c302b8a6-7849-4615-af60-e4f9b27542a9",
   "metadata": {},
   "outputs": [],
   "source": [
    "time.sleep(45)"
   ]
  },
  {
   "cell_type": "code",
   "execution_count": null,
   "id": "4cdad238-82f0-4bf3-a63d-909d60ca0eaf",
   "metadata": {},
   "outputs": [],
   "source": [
    "check_completion_df = ocr_async_op_df.withColumn(\"status\", check_completion(ocr_async_op_df[\"vision_api_async_operation_name\"]))"
   ]
  },
  {
   "cell_type": "markdown",
   "id": "ad9e5f5c-fe1a-458e-8115-6e823e5a629f",
   "metadata": {
    "tags": []
   },
   "source": [
    "#### Get processed OCR text files from bucket"
   ]
  },
  {
   "cell_type": "code",
   "execution_count": null,
   "id": "7c2f06d0-09c0-47d8-aff3-52a782a9de48",
   "metadata": {},
   "outputs": [],
   "source": [
    "### Spark User Defined Function (UDF)\n",
    "def read_completed_ocr(path):\n",
    "\n",
    "    bucket = re.compile(r\"gs://[^/]+\").findall(path)[0]\n",
    "    prefix = re.sub(r\"gs://[^/]+\", \"\", path, 1)[1:]\n",
    "\n",
    "    storage_client = storage.Client()\n",
    "    bucket = storage_client.get_bucket(bucket[5:])\n",
    "    blobs = [blob for blob in list(bucket.list_blobs(prefix=prefix)) if not blob.name.endswith('/')]\n",
    "\n",
    "    try:\n",
    "        \n",
    "        json_string = blobs[0].download_as_bytes().decode(\"utf-8\")\n",
    "        structured_ocr = json.loads(json_string)\n",
    "        ocr_text = \"\"\n",
    "        ocr_pages = []\n",
    "        for page in structured_ocr['responses']:\n",
    "            if('fullTextAnnotation' in page):\n",
    "                fullTextAnnotation = page[\"fullTextAnnotation\"]\n",
    "                if('text' in fullTextAnnotation):\n",
    "                    page_text = fullTextAnnotation['text']\n",
    "                    ocr_text += page_text\n",
    "                    ocr_pages.append(page_text)\n",
    "        return ocr_text.strip(), ocr_pages\n",
    "    \n",
    "    except Exception as e:\n",
    "        return \"Error getting ocr from pdf: \" + str(e)"
   ]
  },
  {
   "cell_type": "code",
   "execution_count": null,
   "id": "5929e65a-6e46-47a4-855c-fe57c4d5ac02",
   "metadata": {},
   "outputs": [],
   "source": [
    "schema = StructType(\n",
    "    [\n",
    "        StructField(\"ocr_text\", StringType(), False),\n",
    "        StructField(\"ocr_pages\", ArrayType(StringType(), False), False)\n",
    "    ]\n",
    ")\n",
    "\n",
    "read_completed_ocr = udf(read_completed_ocr, schema)"
   ]
  },
  {
   "cell_type": "code",
   "execution_count": null,
   "id": "682cb712-4f1c-4ddf-aa4c-12855472c78e",
   "metadata": {},
   "outputs": [],
   "source": [
    "check_completion_df.show()"
   ]
  },
  {
   "cell_type": "code",
   "execution_count": null,
   "id": "c436540c-c578-4a22-b544-be4e41c5b0f1",
   "metadata": {},
   "outputs": [],
   "source": [
    "completion_df = check_completion_df.filter(\"status == 'done'\")"
   ]
  },
  {
   "cell_type": "code",
   "execution_count": null,
   "id": "20da5cce-87d0-4c98-a2fa-b8f9d00a6fad",
   "metadata": {},
   "outputs": [],
   "source": [
    "completion_df.cache()"
   ]
  },
  {
   "cell_type": "markdown",
   "id": "5cebcf88-58e9-4871-bff1-29c151785f41",
   "metadata": {
    "tags": []
   },
   "source": [
    "#### Get complete OCR text"
   ]
  },
  {
   "cell_type": "code",
   "execution_count": null,
   "id": "c3018b65-be61-4f56-922e-6cf9c34e3775",
   "metadata": {},
   "outputs": [],
   "source": [
    "fetch_ocr_df = check_completion_df.withColumn(\"ocr_output\", read_completed_ocr(check_completion_df['ocr_text_path']))\n",
    "ocr_df = fetch_ocr_df.select(\"pdf_path\",\"ocr_output\") \\\n",
    "                     .withColumn(\"ocr_text\", fetch_ocr_df[\"ocr_output\"][\"ocr_text\"]) \\\n",
    "                     .withColumn(\"ocr_pages\", fetch_ocr_df[\"ocr_output\"][\"ocr_pages\"]) \\\n",
    "                     .withColumn(\"number_pages\", size(col(\"ocr_pages\"))) \\\n",
    "                     .drop(\"ocr_output\")"
   ]
  },
  {
   "cell_type": "code",
   "execution_count": null,
   "id": "1a78e986-185a-47b1-8bee-a079521e0105",
   "metadata": {},
   "outputs": [],
   "source": [
    "ocr_df.show(5,50)"
   ]
  },
  {
   "cell_type": "code",
   "execution_count": null,
   "id": "f25c0ef6-35c4-4383-a779-31280a9b3770",
   "metadata": {},
   "outputs": [],
   "source": [
    "ocr_df.cache()"
   ]
  },
  {
   "cell_type": "markdown",
   "id": "279cf65c-8314-4d33-81ce-03f04ba9cb59",
   "metadata": {},
   "source": [
    "\n",
    "|  pdf_path|  ocr_text| ocr_pages|number_pages|\n",
    "|----------|----------|----------|------------|\n",
    "|gs://da...|THIS AG...|[THIS A...|           8|\n",
    "|gs://da...|Exhibit...|[Exhibi...|          40|\n",
    "|gs://da...|Exhibit...|[Exhibi...|          44|\n",
    "|gs://da...|Exhibit...|[Exhibi...|         100|\n",
    "|gs://da...|TRANSPO...|[TRANSP...|          25|"
   ]
  },
  {
   "cell_type": "markdown",
   "id": "c0fc3682-cb19-4717-a603-9bcea4935fca",
   "metadata": {
    "tags": []
   },
   "source": [
    "## Summarize pages using Gemini API"
   ]
  },
  {
   "cell_type": "code",
   "execution_count": null,
   "id": "1678db6b-3a2e-4a42-b411-34e7dbcb95e7",
   "metadata": {},
   "outputs": [],
   "source": [
    "def gemini_predict(prompt, temperature=0.5, model_name=\"gemini-1.5-pro\"):\n",
    "    \n",
    "    from vertexai.generative_models import GenerativeModel, Part, Content, HarmCategory, HarmBlockThreshold\n",
    "\n",
    "    model = GenerativeModel(model_name=model_name)\n",
    "    \n",
    "    prompt_content = Content(\n",
    "        role=\"user\",\n",
    "        parts=[Part.from_text(prompt)]\n",
    "    )\n",
    "\n",
    "    response = model.generate_content(\n",
    "        prompt_content,\n",
    "        generation_config={\n",
    "                \"temperature\": temperature,\n",
    "                \"response_mime_type\": \"text/x.enum\"\n",
    "        },\n",
    "        safety_settings={\n",
    "                HarmCategory.HARM_CATEGORY_UNSPECIFIED: HarmBlockThreshold.BLOCK_ONLY_HIGH\n",
    "        }\n",
    "    )\n",
    "    \n",
    "    return response.text"
   ]
  },
  {
   "cell_type": "code",
   "execution_count": null,
   "id": "4024f4bb-874b-4907-9cc0-8a393be6f5f7",
   "metadata": {},
   "outputs": [],
   "source": [
    "def summarize_text(page):\n",
    "    \n",
    "    prompt = f\"\"\"You an expert in reading contracts, articles, agreements, or text in general.\n",
    "You are able to create concise summaries of the text provided to you.\n",
    "Try your best to summarize the text even if the information is not so well understandable.\n",
    "Here is an article I will ask you to summarize:\n",
    "{page}\n",
    "Provide a summary with about 3 sentences with the most important information from the text.\n",
    "Summary:\n",
    "\"\"\"\n",
    "    \n",
    "    summary = gemini_predict(prompt)\n",
    "    return summary\n",
    "    \n",
    "generate_descriptions_udf = udf(summarize_text)"
   ]
  },
  {
   "cell_type": "code",
   "execution_count": null,
   "id": "4dfb48a5-a308-4a1c-941b-9e5252a442ea",
   "metadata": {},
   "outputs": [],
   "source": [
    "summarize_text = udf(summarize_text)"
   ]
  },
  {
   "cell_type": "code",
   "execution_count": null,
   "id": "3184c463-6deb-42e8-9696-007d2c52f7f3",
   "metadata": {},
   "outputs": [],
   "source": [
    "summaries_df = ocr_df.withColumn(\"summary\", summarize_text(ocr_df[\"ocr_text\"]))"
   ]
  },
  {
   "cell_type": "code",
   "execution_count": null,
   "id": "68b62926-1f4f-40ed-bb60-21e81cba905b",
   "metadata": {},
   "outputs": [],
   "source": [
    "summaries_df.show(5,50)"
   ]
  },
  {
   "cell_type": "markdown",
   "id": "a03765e2-f28f-4c04-a2c3-761b6dbc615a",
   "metadata": {},
   "source": [
    "|                                          pdf_path|                                          ocr_text|                                         ocr_pages|number_pages|                                           summary|\n",
    "|--------------------------------------------------|--------------------------------------------------|--------------------------------------------------|------------|--------------------------------------------------|\n",
    "|gs://dataproc-metastore-public-binaries/cuad_v1...|EXECUTION COPY\\nConfidential\\nExhibit 10.18\\nCE...|[EXECUTION COPY\\nConfidential\\nExhibit 10.18\\nC...|          85|This Development and Option Agreement outlines ...|\n",
    "|gs://dataproc-metastore-public-binaries/cuad_v1...|Source: UPJOHN INC, 10-12G, 1/21/2020\\nFORM OF\\...|[Source: UPJOHN INC, 10-12G, 1/21/2020\\nFORM OF...|          82|This Manufacturing and Supply Agreement outline...|\n",
    "|gs://dataproc-metastore-public-binaries/cuad_v1...|Exhibit 10.1\\nCERTAIN CONFIDENTIAL PORTIONS OF ...|[Exhibit 10.1\\nCERTAIN CONFIDENTIAL PORTIONS OF...|          71|This Network Build and Maintenance Agreement ou...|\n",
    "|gs://dataproc-metastore-public-binaries/cuad_v1...|Exhibit 10.2\\nCERTAIN INFORMATION (INDICATED BY...|[Exhibit 10.2\\nCERTAIN INFORMATION (INDICATED B...|          68|This is a Distributorship Agreement between Zog...|\n",
    "|gs://dataproc-metastore-public-binaries/cuad_v1...|Exhibit 10.12\\n[***] Certain information in thi...|[Exhibit 10.12\\n[***] Certain information in th...|          85|This Collaboration Agreement outlines the terms...|"
   ]
  },
  {
   "cell_type": "markdown",
   "id": "8e28b838-b61b-4409-a908-31cb5ebfbc6d",
   "metadata": {},
   "source": [
    "Example: "
   ]
  },
  {
   "cell_type": "markdown",
   "id": "f85ad441-f244-462f-a0c5-1b4dbdbad0ed",
   "metadata": {},
   "source": [
    "|page|\n",
    "|----------|\n",
    "|EXECUTION COPY\\nConfidential\\nExhibit 10.18\\nCERTAIN CONFIDENTIAL INFORMATION CONTAINED IN THIS DOCUMENT, MARKED BY \\*\\*\\*, HAS BEEN OMITTED BECAUSE IT IS BOTH NOT MATERIAL AND WOULD BE COMPETITIVELY\\nHARMFUL IF PUBLICLY DISCLOSED.\\nDEVELOPMENT AND OPTION AGREEMENT\\nbetween\\nHARPOON THERAPEUTICS, INC.\\nand\\nABBVIE BIOTECHNOLOGY LTD\\nDated as of November 20, 2019\\nSource: HARPOON THERAPEUTICS, INC., 10-K, 3/12/2020TABLE OF CONTENTS\\nARTICLE 1\\nDEFINITIONS\\n1\\nARTICLE 2\\n18\\nCOLLABORATION\\nMANAGEMENT\\n2.1\\nJoint Governance Committee.\\n2.2\\n2.3\\nDiscontinuation of the JGC.\\n2.4\\nGeneral Provisions Applicable to the JGC.\\nInteractions Between the JGC and Internal Teams.\\n18\\n19\\n20\\n2.5\\nCMC Working Group.\\n2.6\\nWorking Groups.\\n2.7\\nExpenses.\\n21\\n21\\n21\\nARTICLE 3\\n21\\nDEVELOPMENT\\nAND\\nREGULATORY\\n3.1\\n3.2\\n3.3\\n\\*\\*\\*.\\n3.4\\n3.5\\nInitial Development Plan and Activities.\\nAbbVie Option.\\n24\\nPost-Exercise Development Activities.\\nSupply of Technology for Development Purposes.\\n21\\n25\\n3.6\\n3.7\\n3.8\\nARTICLE 4\\nExpenses and Invoicing.\\nSubcontracting.\\nRegulatory Matters.\\n30\\n26\\n27\\n28\\n28\\nCOMMERCIALIZATION\\n4.1\\n4.2\\n4.3\\n4.4\\n4.5\\nProducts.\\nARTICLE 5\\n33\\nGRANT OF\\nRIGHTS\\nIn General.\\nCommercialization Diligence.\\nBooking of Sales; Distribution.\\n30\\n30\\n31\\n31\\nProduct Trademarks.\\nCommercial Supply of Licensed Compounds or Licensed\\n31\\n20\\n27\\n27\\n5.1\\nGrants to AbbVie.\\n5.2\\nGrants to Harpoon.\\n5.3\\nSublicenses.\\n5.4\\nDistributorships.\\n5.5\\nCo-Promotion Rights.\\n5.6\\nRetention of Rights.\\n5.7\\n5.8\\n5.9\\nConfirmatory Patent License.\\nExclusivity with Respect to the Territory.\\nIn-License Agreements.\\n33\\n34\\n34\\n34\\n34\\n34\\n35\\n35\\n35\\nARTICLE 6\\n36\\nPAYMENTS AND\\nRECORDS\\n6.1\\nUpfront Payment.\\n36\\n6.2\\n6.3\\nDevelopment and Regulatory Milestones.\\nFirst Commercial Sales Milestones.\\n36\\n37\\n6.4\\nSales-Based Milestones.\\n37\\n6.5\\nRoyalties.\\n38\\n6.6\\nRoyalty Payments and Reports.\\n39\\n6.7\\nMode of Payment; Offsets.\\n40\\n6.8\\nWithholding Taxes.\\n40\\nSource: HARPOON THERAPEUTICS, INC., 10-K, 3/12/202040\\n41\\n6.9\\nIndirect Taxes.\\n6.10\\nInterest on Late Payments.\\n6.11\\nAudit.\\n41\\n6.12\\nAudit Dispute.\\n6.13\\nConfidentiality.\\n41\\n41\\n6.14\\n\\*\\*\\*\\n41\\n6.15\\nNo Other Compensation.\\nARTICLE 7\\n42\\nINTELLECTUAL\\nPROPERTY\\n42\\n7.1\\nOwnership of Intellectual Property.\\n7.2\\n7.3\\n7.4\\n7.5\\n7.6\\n7.7\\n7.8\\n7.9\\nARTICLE 8\\nMaintenance and Prosecution of Patents.\\n42\\n43\\nEnforcement of Patents.\\n45\\nInfringement Claims by Third Parties.\\n48\\nInvalidity or unenforceability Defenses or Actions.\\n48\\nProduct Trademarks.\\n49\\nInternational Nonproprietary Name.\\n50\\nInventor's Remuneration.\\n50\\nCommon Interest.\\n50\\n50\\nPHARMACOVIGILANCE\\nAND SAFETY\\n8.1\\n8.2\\nPharmacovigilance.\\nGlobal Safety Database.\\n50\\n50\\n50\\nARTICLE 9\\n51\\nCONFIDENTIALITY\\nAND NON-\\nDISCLOSURE\\n9.1\\n9.2\\n9.3\\nProduct Information.\\nConfidentiality Obligations.\\nPermitted Disclosures.\\n51\\n51\\n52\\n2\\n9.4\\nUse of Name.\\n53\\n553\\n9.5\\nPublic Announcements.\\n9.6\\nPublications.\\n53\\n54\\n9.7\\n9.8\\nReturn of Confidential Information.\\nSurvival.\\n54\\n54\\nARTICLE 10\\n55\\nREPRESENTATIONS\\nAND WARRANTIES\\n10.1\\n10.2\\n10.3\\n10.4\\n10.5\\nMutual Representations and Warranties.\\n55\\nAdditional Representations and Warranties of Harpoon.\\nCovenants of Harpoon.\\n58\\nCovenants of AbbVie.\\n58\\nDISCLAIMER OF WARRANTIES.\\n59\\nARTICLE 11\\n60\\nINDEMNITY\\n11.1\\n11.2\\nIndemnification of Harpoon.\\nIndemnification of AbbVie.\\n11.3\\n11.4\\n11.5\\n11.6\\n60\\n66\\n60\\nNotice of Claim.\\n60\\nControl of Defense.\\n61\\nSpecial, Indirect, and Other Losses.\\n61\\nInsurance.\\n61\\nARTICLE 12\\n62\\nTERM AND\\nTERMINATION\\n12.1\\n- ii -\\nTerm.\\n62\\nSource: HARPOON THERAPEUTICS, INC., 10-K, 3/12/2020\\n55\\n5512.2\\n12.3\\nTermination for Material Breach.\\nAdditional Termination Rights by AbbVie.\\n12.4\\nTermination for Insolvency.\\n12.5\\nRights in Bankruptcy.\\n12.6\\nTermination in Entirety.\\n12.7\\nReversion of Harpoon Products.\\n12.8\\n12.9\\n12.10\\nTermination of Terminated Territory.\\nRemedies.\\nAccrued Rights; Surviving Obligations.\\n67\\n62\\n63\\n63\\n63\\n66\\n67\\n67\\n12\\n63\\n63\\nARTICLE 13\\n68\\nMISCELLANEOUS\\n13.1\\nForce Majeure.\\n68\\n13.2\\nChange in Control of Harpoon.\\n68\\n13.3\\nExport Control.\\n69\\n13.4\\nAssignment.\\n69\\n13.5\\nSeverability.\\n70\\n13.6\\nGoverning Law, Jurisdiction and Service.\\n70\\n13.7\\nDispute Resolution.\\n70\\n13.8\\nNotices.\\n71\\n13.9\\nEntire Agreement; Amendments.\\n72\\n13.10\\nEnglish Language.\\n72\\n13.11\\nEquitable Relief.\\n72\\n13.12\\nWaiver and Non-Exclusion of Remedies.\\n72\\n13.13\\nNo Benefit to Third Parties.\\n72\\n13.14\\nFurther Assurance.\\n73\\n13.15\\nRelationship of the Parties.\\n13.16\\nPerformance by Affiliates.\\n73\\nWW\\n73\\n13.17\\nCounterparts; Facsimile Execution.\\n73\\n13.18\\nReferences.\\n73\\n13.19\\nSchedules.\\n73\\n13.20\\nSCHEDULES\\nSchedule 1.84\\nSchedule 1.99\\nSchedule 3.7\\nSchedule 10.2\\nSchedule 10.2.1\\nSchedule 13.7.3\\nConstruction.\\nInitial Development Plan\\nLicensed Compound\\nPre-Approved Third Party Providers\\nDisclosure Schedules\\nExisting Patents\\nArbitration\\n73\\n- 111 -\\nSource: HARPOON THERAPEUTICS, INC., 10-K, 3/12/2020DEVELOPMENT AND OPTION AGREEMENT\\nThis Development and Option Agreement (the \"Agreement\") is made and entered into effective as of\\nNovember 20, 2019 (the \"Effective Date\") by and between Harpoon Therapeutics, Inc., a Delaware corporation (\"Harpoon”), and\\nAbbVie Biotechnology Ltd, a Bermuda corporation (“AbbVie”). Harpoon and AbbVie are sometimes referred to herein individually\\nas a \"Party\" and collectively as the \"Parties.\"\\nRECITALS\\nWHEREAS, Harpoon Controls (as defined herein) certain intellectual property rights with respect to the\\nLicensed Compound (as defined herein) and Licensed Products (as defined herein) in the Territory (as defined herein); and\\nWHEREAS, Harpoon wishes to grant an option to a license to AbbVie, and AbbVie wishes to take, such option\\nto a license under such intellectual property rights to develop and commercialize Licensed Products in the Territory, in each case in\\naccordance with the terms and conditions set forth below.....................|"
   ]
  },
  {
   "cell_type": "markdown",
   "id": "d246c42e-f674-4eca-bd25-2b254ea02813",
   "metadata": {},
   "source": [
    "|summary|\n",
    "|----------|\n",
    "|This Development and Option Agreement outlines the collaboration between Harpoon Therapeutics, Inc. and AbbVie Biotechnology Ltd for the development and commercialization of a compound known as HPN217. The agreement grants AbbVie an exclusive option to license the compound after reviewing the results of a Phase I/IB trial conducted by Harpoon. Upon exercising the option, AbbVie will take over development and commercialization responsibilities, with Harpoon receiving milestone payments and royalties on net sales. |"
   ]
  },
  {
   "cell_type": "markdown",
   "id": "ac92387a-56e9-45aa-a741-9d2c0f66d866",
   "metadata": {},
   "source": [
    "## Save to BigQuery"
   ]
  },
  {
   "cell_type": "code",
   "execution_count": null,
   "id": "f4f2c9c1-dbf7-447d-8187-f4c003358f32",
   "metadata": {},
   "outputs": [],
   "source": [
    "agreggated_df = summaries_df.groupby(\"pdf_path\") \\\n",
    "                           .agg(collect_list(\"summary\").alias(\"page_summary_list\"))"
   ]
  },
  {
   "cell_type": "code",
   "execution_count": null,
   "id": "c6c4d2c4-bb20-4575-96f9-48fbba382cd6",
   "metadata": {},
   "outputs": [],
   "source": [
    "summaries_df.write \\\n",
    "            .format(\"bigquery\") \\\n",
    "            .option(\"table\", project_id + \":\" + output_dataset_bq + \".\" + output_table_bq) \\\n",
    "            .option(\"temporaryGcsBucket\", bq_temp_bucket_name) \\\n",
    "            .option(\"enableListInference\", True) \\\n",
    "            .mode(\"overwrite\") \\\n",
    "            .save()"
   ]
  }
 ],
 "metadata": {
  "kernelspec": {
   "display_name": "delta-runtime on Serverless Spark (Remote)",
   "language": "python",
   "name": "9c39b79e5d2e7072beb4bd59-delta-runtime"
  },
  "language_info": {
   "codemirror_mode": {
    "name": "ipython",
    "version": 3
   },
   "file_extension": ".py",
   "mimetype": "text/x-python",
   "name": "python",
   "nbconvert_exporter": "python",
   "pygments_lexer": "ipython3",
   "version": "3.12.3"
  }
 },
 "nbformat": 4,
 "nbformat_minor": 5
}
