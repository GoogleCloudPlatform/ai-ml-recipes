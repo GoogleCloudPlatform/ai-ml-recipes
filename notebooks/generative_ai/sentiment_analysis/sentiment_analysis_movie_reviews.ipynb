{
 "cells": [
  {
   "cell_type": "code",
   "execution_count": null,
   "id": "7b9f55ae-6bf5-4e91-bd30-64e07ea85450",
   "metadata": {},
   "outputs": [],
   "source": [
    "# Copyright 2023 Google LLC\n",
    "#\n",
    "# Licensed under the Apache License, Version 2.0 (the \"License\");\n",
    "# you may not use this file except in compliance with the License.\n",
    "# You may obtain a copy of the License at\n",
    "#\n",
    "#     https://www.apache.org/licenses/LICENSE-2.0\n",
    "#\n",
    "# Unless required by applicable law or agreed to in writing, software\n",
    "# distributed under the License is distributed on an \"AS IS\" BASIS,\n",
    "# WITHOUT WARRANTIES OR CONDITIONS OF ANY KIND, either express or implied.\n",
    "# See the License for the specific language governing permissions and\n",
    "# limitations under the License."
   ]
  },
  {
   "cell_type": "markdown",
   "id": "fe656833-3d7c-4fde-87f5-c7c7ad21a106",
   "metadata": {},
   "source": [
    "# Sentiment Analysis for large scale data using Gemini"
   ]
  },
  {
   "cell_type": "markdown",
   "id": "f5528149-6b62-4ac2-b4b5-c30a381ad480",
   "metadata": {},
   "source": [
    "<table align=\"left\">\n",
    "\n",
    "  <td>\n",
    "    <a href=\"https://colab.research.google.com/github/GoogleCloudPlatform/ai-ml-recipes/blob/main/notebooks/generative_ai/sentiment_analysis/sentiment_analysis_movie_reviews.ipynb\">\n",
    "      <img src=\"https://cloud.google.com/ml-engine/images/colab-logo-32px.png\" alt=\"Colab logo\"> Run in Colab\n",
    "    </a>\n",
    "  </td>\n",
    "  <td>\n",
    "    <a href=\"https://github.com/GoogleCloudPlatform/ai-ml-recipes/blob/main/notebooks/generative_ai/sentiment_analysis/sentiment_analysis_movie_reviews.ipynb\">\n",
    "      <img src=\"https://cloud.google.com/ml-engine/images/github-logo-32px.png\" alt=\"GitHub logo\">\n",
    "      View on GitHub\n",
    "    </a>\n",
    "  </td>\n",
    "  <td>\n",
    "    <a href=\"https://console.cloud.google.com/vertex-ai/workbench/deploy-notebook?download_url=https://raw.githubusercontent.com/GoogleCloudPlatform/ai-ml-recipes/main/notebooks/generative_ai/sentiment_analysis/sentiment_analysis_movie_reviews.ipynb\">\n",
    "      <img src=\"https://lh3.googleusercontent.com/UiNooY4LUgW_oTvpsNhPpQzsstV5W8F7rYgxgGBD85cWJoLmrOzhVs_ksK_vgx40SHs7jCqkTkCk=e14-rj-sc0xffffff-h130-w32\" alt=\"Vertex AI logo\">\n",
    "      Open in Vertex AI Workbench\n",
    "    </a>\n",
    "  </td>\n",
    "  <td>\n",
    "    <a href=\"https://console.cloud.google.com/bigquery/import?url=https://github.com/GoogleCloudPlatform/ai-ml-recipes/blob/main/notebooks/generative_ai/sentiment_analysis/sentiment_analysis_movie_reviews.ipynb\">\n",
    "      <img src=\"https://encrypted-tbn0.gstatic.com/images?q=tbn:ANd9GcTW1gvOovVlbZAIZylUtf5Iu8-693qS1w5NJw&s\" alt=\"BQ logo\" width=\"35\">\n",
    "      Open in BQ Studio\n",
    "    </a>\n",
    "  </td>\n",
    "  <td>\n",
    "    <a href=\"https://console.cloud.google.com/vertex-ai/colab/import/https:%2F%2Fraw.githubusercontent.com%2FGoogleCloudPlatform%2Fai-ml-recipes%2Fmain%2Fnotebooks%2Fgenerative_ai%2Fsentiment_analysis%2Fsentiment_analysis_movie_reviews.ipynb\">\n",
    "    <img width=\"32px\" src=\"https://lh3.googleusercontent.com/JmcxdQi-qOpctIvWKgPtrzZdJJK-J3sWE1RsfjZNwshCFgE_9fULcNpuXYTilIR2hjwN\" alt=\"Google Cloud Colab Enterprise logo\">\n",
    "    Open in Colab Enterprise\n",
    "    </a>\n",
    "  </td>\n",
    "\n",
    "</table>"
   ]
  },
  {
   "cell_type": "markdown",
   "id": "e6fd7856-e138-4831-801e-6318f856efe3",
   "metadata": {},
   "source": [
    "## Overview"
   ]
  },
  {
   "cell_type": "markdown",
   "id": "e854e6c7-14f3-4b8a-933e-9091b24140af",
   "metadata": {
    "tags": []
   },
   "source": [
    "This notebook shows how to perform sentimental analysis on large scale data using LLM.\n",
    "The dataset used is a public dataset from Bigquery Public Datasets.\n",
    "\n",
    "#### **Steps**\n",
    "Using Spark, \n",
    "1) This notebook reads data from Bigquery public dataset **bigquery-public-data.imdb.reviews**\n",
    "2) It calls [Vertex AI Gemini API](https://cloud.google.com/vertex-ai/docs/generative-ai/start/quickstarts/api-quickstart#try_text_prompts) to find the sentiment of each review (positive vs negative)\n",
    "3) We compare the result side by side\n",
    "4) Find accuracy, and again trim the input and observe the accuracy increase\n",
    "\n",
    "#### Related content\n",
    "\n",
    "- [Text Prompt](https://cloud.google.com/vertex-ai/docs/generative-ai/text/text-prompts)\n",
    "- [Content Classification](https://cloud.google.com/vertex-ai/docs/generative-ai/text/text-prompts#content-classification)"
   ]
  },
  {
   "cell_type": "code",
   "execution_count": null,
   "id": "95c47182-9bc3-41e5-ab3c-f10f01727b99",
   "metadata": {},
   "outputs": [],
   "source": [
    "import sys\n",
    "import time\n",
    "import google.auth\n",
    "import google.auth.transport.requests\n",
    "import requests\n",
    "\n",
    "from pyspark.sql import SparkSession\n",
    "from pyspark.sql.functions import *\n",
    "from pyspark.sql.types import StructType, StructField, StringType, ArrayType\n",
    "from pyspark.ml.evaluation import BinaryClassificationEvaluator\n",
    "from pyspark.ml.feature import StringIndexer"
   ]
  },
  {
   "cell_type": "code",
   "execution_count": null,
   "id": "9eb15ebe-c6aa-4f92-92d3-6fa8ec5dc5b3",
   "metadata": {},
   "outputs": [],
   "source": [
    "# When using Dataproc Serverless, installed packages are automatically available on all nodes\n",
    "!pip3 install --upgrade -q google-cloud-aiplatform google-genai \"protobuf~=4.25.3\" \"numpy~=1.26.4\" \n",
    "# When using a Dataproc cluster, you will need to install these packages during cluster creation: https://cloud.google.com/dataproc/docs/tutorials/python-configuration"
   ]
  },
  {
   "cell_type": "code",
   "execution_count": null,
   "id": "867cff94",
   "metadata": {},
   "outputs": [],
   "source": [
    "# To use the newly installed packages, you must restart the runtime on Google Colab (Colab only)\n",
    "if \"google.colab\" in sys.modules:\n",
    "    import IPython\n",
    "    app = IPython.Application.instance()\n",
    "    app.kernel.do_shutdown(True)"
   ]
  },
  {
   "cell_type": "markdown",
   "id": "50ebd0b3-c4b5-4df5-8d11-0f721a147467",
   "metadata": {},
   "source": [
    "#### Get credentials to authenticate with Google APIs\n"
   ]
  },
  {
   "cell_type": "code",
   "execution_count": null,
   "id": "464b4302",
   "metadata": {},
   "outputs": [],
   "source": [
    "# Authenticate your notebook environment (Colab only)\n",
    "if \"google.colab\" in sys.modules:\n",
    "    from google.colab import auth\n",
    "    auth.authenticate_user(project_id=\"PROJECT_ID\") # Replace with your actual project ID (Colab only)"
   ]
  },
  {
   "cell_type": "code",
   "execution_count": null,
   "id": "bf715064-3b4b-44d2-9dcb-2c25143affa9",
   "metadata": {},
   "outputs": [],
   "source": [
    "credentials, project_id = google.auth.default()\n",
    "auth_req = google.auth.transport.requests.Request()\n",
    "credentials.refresh(auth_req)"
   ]
  },
  {
   "cell_type": "markdown",
   "id": "483fa597-0127-4077-b1f3-4bcb9ff11c65",
   "metadata": {},
   "source": [
    "### Create Spark Session for the notebook"
   ]
  },
  {
   "cell_type": "code",
   "execution_count": null,
   "id": "c3e4dced-00af-4324-8d00-2855f6152f31",
   "metadata": {},
   "outputs": [],
   "source": [
    "spark = SparkSession.builder \\\n",
    "    .appName(\"Sentimental Analysis using Dataproc and Gemini on Vertex AI\") \\\n",
    "    .config(\"spark.jars.packages\", \"com.google.cloud.spark:spark-bigquery-with-dependencies_2.12:0.42.2\") \\\n",
    "    .config(\"projectId\", project_id) \\\n",
    "    .getOrCreate()"
   ]
  },
  {
   "cell_type": "markdown",
   "id": "97b310e5-ede5-4ac5-a5dd-df0732f61c8e",
   "metadata": {},
   "source": [
    "### Read data from Bigquery Public Dataset "
   ]
  },
  {
   "cell_type": "code",
   "execution_count": null,
   "id": "02d7cad8-6ef6-44bb-baa9-78d5f10dc288",
   "metadata": {},
   "outputs": [],
   "source": [
    "movie_reviews = spark.read.format(\"bigquery\").option(\"table\", \"bigquery-public-data.imdb.reviews\").load()"
   ]
  },
  {
   "cell_type": "markdown",
   "id": "b76336bd-14a3-4d1f-a8b5-0e500eba39ef",
   "metadata": {},
   "source": [
    "|                                                                                              review|split|   label| movie_id|reviewer_rating|                           movie_url|title|\n",
    "|----------------------------------------------------------------------------------------------------|-----|--------|---------|---------------|------------------------------------|-----|\n",
    "|I had to see this on the British Airways plane. It was terribly bad acting and a dumb story. Not ...| test|Negative|tt0158887|              2|http://www.imdb.com/title/tt0158887/| null|\n",
    "|This is a family movie that was broadcast on my local ITV station at 1.00 am a couple of nights a...| test|Negative|tt0158887|              4|http://www.imdb.com/title/tt0158887/| null|\n",
    "|I would like to comment on how the girls are chosen. why is that their are always more white wome...| test|Negative|tt0391576|              2|http://www.imdb.com/title/tt0391576/| null|\n",
    "|Tyra & the rest of the modeling world needs to know that real women like myself and my daughter d...| test|Negative|tt0391576|              3|http://www.imdb.com/title/tt0391576/| null|"
   ]
  },
  {
   "cell_type": "markdown",
   "id": "8efeb371-c8ae-4a20-b5e6-a21c5723e737",
   "metadata": {},
   "source": [
    "### Get Positive Reviews from Dataset"
   ]
  },
  {
   "cell_type": "code",
   "execution_count": null,
   "id": "523c5cf6-5165-4ca6-b2b4-447bb15762b4",
   "metadata": {},
   "outputs": [],
   "source": [
    "positive_movie_reviews = movie_reviews.select(col(\"review\"), col(\"reviewer_rating\"), col(\"movie_id\"), col(\"label\")).where(col(\"label\") == \"Positive\").limit(100)"
   ]
  },
  {
   "cell_type": "markdown",
   "id": "d5846a0c-1ca6-483f-b9f1-52873bd50312",
   "metadata": {},
   "source": [
    "### Get Negative Reviews from Dataset"
   ]
  },
  {
   "cell_type": "code",
   "execution_count": null,
   "id": "ec0a1557-cf01-4f86-9785-47ecb06ba752",
   "metadata": {},
   "outputs": [],
   "source": [
    "negative_movie_reviews = movie_reviews.select(col(\"review\"), col(\"reviewer_rating\"), col(\"movie_id\"), col(\"label\")).where(col(\"label\") == \"Negative\").limit(100)"
   ]
  },
  {
   "cell_type": "markdown",
   "id": "14843f6a-8f88-49b8-b2a0-db930d3a5c37",
   "metadata": {},
   "source": [
    "### Mix positive and negative \n",
    "Making union of positive and negative reviews to get a good dataset of mixed set of reviews. For the purpose notebook, each class of reviews has 100 rows each."
   ]
  },
  {
   "cell_type": "code",
   "execution_count": null,
   "id": "eda456fa-b95a-4e95-835c-cbc64be1fe11",
   "metadata": {},
   "outputs": [],
   "source": [
    "movie_reviews_mixed = positive_movie_reviews.union(negative_movie_reviews)"
   ]
  },
  {
   "cell_type": "markdown",
   "id": "d39af261-8416-4b2f-b830-f90a7379f859",
   "metadata": {},
   "source": [
    "|              review|reviewer_rating| movie_id|   label|\n",
    "|--------------------|---------------|---------|--------|\n",
    "|This movie is ama...|             10|tt0187123|Positive|\n",
    "|THE HAND OF DEATH...|             10|tt0187123|Positive|\n",
    "|The Hand of Death...|              7|tt0187123|Positive|\n",
    "|Just as a reminde...|             10|tt0163955|Positive|\n",
    "|Like an earlier c...|              9|tt0163955|Positive|"
   ]
  },
  {
   "cell_type": "markdown",
   "id": "558c6709-e265-4e21-a15b-4e5980303686",
   "metadata": {},
   "source": [
    "### Final count is 200 as can be seen below"
   ]
  },
  {
   "cell_type": "code",
   "execution_count": null,
   "id": "a4bfebe8-6491-4cc4-b8b5-d6b408e67196",
   "metadata": {},
   "outputs": [],
   "source": [
    "movie_reviews_mixed.count()"
   ]
  },
  {
   "cell_type": "markdown",
   "id": "2951e16c-5dd3-49b7-abf1-0fbb930453a2",
   "metadata": {},
   "source": [
    "### Creating a UDF to get predictions from Gemini Model\n",
    "In this method, text whose sentiment is to be predicted is passed"
   ]
  },
  {
   "cell_type": "code",
   "execution_count": null,
   "id": "5288e2ee-af06-47ee-a6ce-977852bb700e",
   "metadata": {},
   "outputs": [],
   "source": [
    "def gemini_predict(prompt, model_name=\"gemini-2.0-flash\", max_retries=3, initial_delay=1):\n",
    "    \n",
    "    import time\n",
    "    import enum\n",
    "    from google import genai\n",
    "    from google.genai import types\n",
    "    \n",
    "    client = genai.Client(\n",
    "        vertexai=True,\n",
    "        project=project_id,\n",
    "        location=\"us-central1\"\n",
    "    )\n",
    "\n",
    "    class ResponseSchema(enum.Enum):\n",
    "        POSITIVE = \"Positive\"\n",
    "        NEGATIVE = \"Negative\"\n",
    "    \n",
    "    generate_content_config = types.GenerateContentConfig(\n",
    "        response_mime_type = \"text/x.enum\",\n",
    "        response_schema = ResponseSchema\n",
    "    )\n",
    "    \n",
    "    retries, delay = 0, initial_delay\n",
    "    while retries <= max_retries:\n",
    "        try:\n",
    "            response = client.models.generate_content(model=model_name,\n",
    "                                                      contents=prompt,\n",
    "                                                      config=generate_content_config)\n",
    "            \n",
    "            return response.text\n",
    "        except Exception:\n",
    "            if retries == max_retries:\n",
    "                return\n",
    "            time.sleep(delay)\n",
    "            delay *= 2\n",
    "            retries += 1\n",
    "    return \"\""
   ]
  },
  {
   "cell_type": "code",
   "execution_count": null,
   "id": "385d6430-6415-4e16-97c3-b51cd1527395",
   "metadata": {},
   "outputs": [],
   "source": [
    "def classify_sentiment(text):\n",
    "    \n",
    "    prompt = f\"\"\"You are an expert at analyzing movie reviews from IMDb. Your task is to classify the sentiment of the provided review text.\n",
    "                When classifying, pay close attention to:\n",
    "                - **Overall sentiment**: Consider the entire review, not just individual words. Criticism is not always negative.\n",
    "                - **Sarcasm and irony**: Identify when negative language is used to express positive sentiment, or vice-versa.\n",
    "                - **Conditional statements**: Understand if the sentiment is dependent on certain conditions.\n",
    "                - **Comparative language**: Determine if the review is comparing the current movie favorably or unfavorably to others.\n",
    "                \n",
    "                Provide the sentiment classification from one of the two classes:\n",
    "                - Negative\n",
    "                - Positive\n",
    "                \n",
    "                Always choose the most appropriate classification.\n",
    "                \n",
    "                Text: {text}\n",
    "                Sentiment:\"\"\"\n",
    "    \n",
    "    sentiment = gemini_predict(prompt)\n",
    "    return sentiment\n",
    "    \n",
    "classify_sentiment_udf = udf(classify_sentiment)"
   ]
  },
  {
   "cell_type": "markdown",
   "id": "3642ecc0-2734-4027-b9d3-5ed32ff6d867",
   "metadata": {},
   "source": [
    "### Get prediction from Gemini using the UDF on the movie reviews"
   ]
  },
  {
   "cell_type": "code",
   "execution_count": null,
   "id": "b7239a8d-f60a-40f5-95ee-a18b9b5d3a6c",
   "metadata": {},
   "outputs": [],
   "source": [
    "movie_review_sentiment_pred = movie_reviews_mixed.withColumn(\"pred\", classify_sentiment_udf(movie_reviews_mixed[\"review\"]))"
   ]
  },
  {
   "cell_type": "markdown",
   "id": "92c545e1-8d4f-47b7-a595-c03e01efbacf",
   "metadata": {},
   "source": [
    "### Let's check the predicted value and do a quick comparison of required output v/s actual label"
   ]
  },
  {
   "cell_type": "code",
   "execution_count": null,
   "id": "2e178b7f-f747-4093-a69e-50019ea3529e",
   "metadata": {},
   "outputs": [],
   "source": [
    "movie_review_sentiment_pred.select(col(\"pred\"), col(\"label\")).show(20,50)"
   ]
  },
  {
   "cell_type": "code",
   "execution_count": null,
   "id": "5cc405d9-a775-40c9-93e1-3a79a5251837",
   "metadata": {},
   "outputs": [],
   "source": [
    "movie_review_sentiment_pred.cache()"
   ]
  },
  {
   "cell_type": "markdown",
   "id": "7fa62d52-795b-4c27-b3c0-cb725a93d473",
   "metadata": {},
   "source": [
    "### Evaluation\n",
    "\n",
    "Let's index the classes Negative and Positive to 1 and 0.  "
   ]
  },
  {
   "cell_type": "code",
   "execution_count": null,
   "id": "11aaf2c1-e64c-459e-9439-2f9ac18e2d4c",
   "metadata": {},
   "outputs": [],
   "source": [
    "from pyspark.sql.functions import when\n",
    "\n",
    "indexed_df = movie_review_sentiment_pred.withColumn(\"label_indexed\",when(movie_review_sentiment_pred[\"label\"] == \"Positive\", 0.0).when(movie_review_sentiment_pred[\"label\"] == \"Negative\", 1.0)) \\\n",
    "                                        .withColumn(\"pred_indexed\",when(movie_review_sentiment_pred[\"pred\"] == \"Positive\", 0.0).when(movie_review_sentiment_pred[\"pred\"] == \"Negative\", 1.0))"
   ]
  },
  {
   "cell_type": "markdown",
   "id": "3c19120e-d06f-4743-ad76-6d89c027f5af",
   "metadata": {},
   "source": [
    "And use the BinaryClassificationEvaluator to output our Area Under the ROC curve (AUC-ROC)"
   ]
  },
  {
   "cell_type": "code",
   "execution_count": null,
   "id": "7d0a765d-91f6-40b2-82d4-f44fcef2a179",
   "metadata": {},
   "outputs": [],
   "source": [
    "evaluator = BinaryClassificationEvaluator()\n",
    "evaluator.setRawPredictionCol(\"pred_indexed\")\n",
    "evaluator.setLabelCol(\"label_indexed\")\n",
    "\n",
    "area_under_roc = evaluator.evaluate(indexed_df, {evaluator.metricName: \"areaUnderROC\"})\n",
    "\n",
    "print(\"area_under_roc (%): \", area_under_roc)"
   ]
  },
  {
   "cell_type": "markdown",
   "id": "36daec26-213d-4a94-9c30-caa4a419ea13",
   "metadata": {},
   "source": [
    "Without any prior training or chaining prompts, only by zero shot, the model has been able to predict sentiments properly with 94% AUC-ROC"
   ]
  },
  {
   "cell_type": "markdown",
   "id": "14b574d7-42e2-40f1-9108-74f9239aa0e3",
   "metadata": {},
   "source": [
    "#### Count the number of unsuccessful predictions"
   ]
  },
  {
   "cell_type": "code",
   "execution_count": null,
   "id": "e5c30334-869e-405d-83a8-4f8a36837c4a",
   "metadata": {},
   "outputs": [],
   "source": [
    "match_predictions_df = indexed_df.withColumn(\"if_match\", when((col(\"pred_indexed\")==col(\"label_indexed\")),1).otherwise(0))"
   ]
  },
  {
   "cell_type": "code",
   "execution_count": null,
   "id": "2363c33a-20b1-45ca-b46c-08d936233a8d",
   "metadata": {},
   "outputs": [],
   "source": [
    "match_predictions_df.where(col(\"if_match\")==0).count()"
   ]
  },
  {
   "cell_type": "markdown",
   "id": "724aa40e-b047-4e4a-9a67-f300202acadc",
   "metadata": {},
   "source": [
    "#### Percentage Accuracy  \n",
    "\n",
    "Total Rows = 200\n",
    "* Mislabeled rows = 11\n",
    "* Accuracy = (True positives + True Negatives)/ (True positives + True negatives + False positives + False negatives)\n",
    "* Percentage Accuracy= 189 / 200 = 90%"
   ]
  },
  {
   "cell_type": "markdown",
   "id": "632afa55-edb1-4431-b78d-4765d527d838",
   "metadata": {},
   "source": [
    "#### Check the mismatch predictions\n",
    "Find the mismatched rows and show it"
   ]
  },
  {
   "cell_type": "code",
   "execution_count": null,
   "id": "1e3f8d6c-7fab-4157-b60f-85784bc9fb74",
   "metadata": {},
   "outputs": [],
   "source": [
    "mismatch_df = match_predictions_df.where(col(\"if_match\")==0).select(col('pred'),col('label'),col('review'))"
   ]
  },
  {
   "cell_type": "code",
   "execution_count": null,
   "id": "366b633a-46a1-4739-8758-58e483451365",
   "metadata": {},
   "outputs": [],
   "source": [
    "mismatch_df.show(20,200)"
   ]
  },
  {
   "cell_type": "markdown",
   "id": "0e9e6b13-ead2-4630-90b7-8cf07d31c9cb",
   "metadata": {},
   "source": [
    "|    pred|   label|                                                                                                                                                                                                  review|\n",
    "|--------|--------|--------------------------------------------------------------------------------------------------------------------------------------------------------------------------------------------------------|\n",
    "|Negative|Positive|Like one of the previous commenters said, this had the foundations of a great movie but something happened on the way to delivery. Such a waste because Collette's performance was eerie and Williams...|\n",
    "|Negative|Positive|If there is one thing to recommend about this film is that it is intriguing. The premise certainly draws the audience in because it is a mystery, and throughout the film there are hints that there ...|\n",
    "|Negative|Positive|Sure, Titanic was a good movie, the first time you see it, but you really should see it a second time and your opinion of the film will definetly change. The first time you see the movie you see th...|\n",
    "|Negative|Positive|Verhoeven's movie was utter and complete garbage. He's a disgusting hack of a director and should be ashamed. By his own admission, he read 2 chapters of the book, got bored, and decided to make th...|\n",
    "|Negative|Positive|quote by Nicolas Martin (nicmart) from Houston, TX: \"Fine film, but DVD \"reformatted for TV\", 8 April 2002 - This is a charming and emotive film. On the other hand, the DVD I purchased has been \"re...|\n",
    "|Negative|Positive|In the rapid economic development of 1990's in China, there is a resurgence of traditional Chinese culture, partially due to the rise of nationalism accompanied by the increase in wealth, and more ...|\n",
    "|Positive|Negative|Earth has been destroyed in a nuclear holocaust. Well, parts of the Earth, because somewhere in Italy, a band of purebred survivors--those without radioactive contamination--are holed up in a massi...|\n",
    "|Positive|Negative|Everything everyone has said already pretty much rings true when it comes to 'The Prey'. Endless nature footage, bad acting - Aside from these elements, this is a watchable film for slasher fans th...|\n",
    "|Positive|Negative|This tale of the upper-classes getting their come-uppance and wallowing in their high-class misery is like a contemporary Mid-Sommerish version of an old Joan Crawford movie in which she suffered i...|\n",
    "|Positive|Negative|                                  Looking for a REAL super bad movie? If you wanna have great fun, don't hesitate and check this one!Ferrigno is incredibly bad but is also the best of this mediocrity.|\n",
    "|Positive|Negative|From the fertile imagination which brought you the irresistible HERCULES (1983), comes its even more preposterous (read goofier) sequel: right off the bat, we get another unwieldy \"beginning of tim...|"
   ]
  }
 ],
 "metadata": {
  "environment": {
   "kernel": "9c39b79e5d2e7072beb4bd59-runtime",
   "name": "workbench-notebooks.m129",
   "type": "gcloud",
   "uri": "us-docker.pkg.dev/deeplearning-platform-release/gcr.io/workbench-notebooks:m129"
  },
  "kernelspec": {
   "display_name": "runtime on Serverless Spark (Remote)",
   "language": "python",
   "name": "9c39b79e5d2e7072beb4bd59-runtime"
  },
  "language_info": {
   "codemirror_mode": {
    "name": "ipython",
    "version": 3
   },
   "file_extension": ".py",
   "mimetype": "text/x-python",
   "name": "python",
   "nbconvert_exporter": "python",
   "pygments_lexer": "ipython3",
   "version": "3.12.3"
  }
 },
 "nbformat": 4,
 "nbformat_minor": 5
}
