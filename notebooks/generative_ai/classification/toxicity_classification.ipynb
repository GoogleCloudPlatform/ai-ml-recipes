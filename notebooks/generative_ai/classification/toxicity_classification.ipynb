{
 "cells": [
  {
   "cell_type": "code",
   "execution_count": 1,
   "metadata": {
    "id": "ur8xi4C7S06n"
   },
   "outputs": [],
   "source": [
    "# Copyright 2024 Google LLC\n",
    "#\n",
    "# Licensed under the Apache License, Version 2.0 (the \"License\");\n",
    "# you may not use this file except in compliance with the License.\n",
    "# You may obtain a copy of the License at\n",
    "#\n",
    "#     https://www.apache.org/licenses/LICENSE-2.0\n",
    "#\n",
    "# Unless required by applicable law or agreed to in writing, software\n",
    "# distributed under the License is distributed on an \"AS IS\" BASIS,\n",
    "# WITHOUT WARRANTIES OR CONDITIONS OF ANY KIND, either express or implied.\n",
    "# See the License for the specific language governing permissions and\n",
    "# limitations under the License."
   ]
  },
  {
   "cell_type": "markdown",
   "metadata": {
    "id": "JAPoU8Sm5E6e"
   },
   "source": [
    "## Toxicity classification using Gemini fine-tuned\n"
   ]
  },
  {
   "cell_type": "markdown",
   "metadata": {
    "jupyter": {
     "outputs_hidden": false
    }
   },
   "source": [
    "<table align=\"left\">\n",
    "\n",
    "  <td>\n",
    "    <a href=\"https://colab.research.google.com/github/GoogleCloudPlatform/ai-ml-recipes/blob/main/notebooks/generative_ai/classification/toxicity_classification.ipynb\">\n",
    "      <img src=\"https://avatars.githubusercontent.com/u/33467679?s=200&v=4\" width=\"32px\" alt=\"Colab logo\"> Run in Colab\n",
    "    </a>\n",
    "  </td>\n",
    "  <td>\n",
    "    <a href=\"https://github.com/GoogleCloudPlatform/ai-ml-recipes/blob/main/notebooks/generative_ai/classification/toxicity_classification.ipynb\">\n",
    "      <img src=\"https://github.githubassets.com/assets/GitHub-Mark-ea2971cee799.png\" width=\"32px\" alt=\"GitHub logo\">\n",
    "      View on GitHub\n",
    "    </a>\n",
    "  </td>\n",
    "  <td>\n",
    "    <a href=\"https://console.cloud.google.com/vertex-ai/workbench/deploy-notebook?download_url=https://raw.githubusercontent.com/GoogleCloudPlatform/ai-ml-recipes/main/notebooks/generative_ai/classification/toxicity_classification.ipynb\">\n",
    "      <img src=\"https://lh3.googleusercontent.com/UiNooY4LUgW_oTvpsNhPpQzsstV5W8F7rYgxgGBD85cWJoLmrOzhVs_ksK_vgx40SHs7jCqkTkCk=e14-rj-sc0xffffff-h130-w32\" alt=\"Vertex AI logo\">\n",
    "      Open in Vertex AI Workbench\n",
    "    </a>\n",
    "  </td>\n",
    "  <td>\n",
    "    <a href=\"https://console.cloud.google.com/bigquery/import?url=https://github.com/GoogleCloudPlatform/ai-ml-recipes/blob/main/notebooks/generative_ai/classification/toxicity_classification.ipynb\">\n",
    "      <img src=\"https://encrypted-tbn0.gstatic.com/images?q=tbn:ANd9GcTW1gvOovVlbZAIZylUtf5Iu8-693qS1w5NJw&s\" alt=\"BQ logo\" width=\"35\">\n",
    "      Open in BQ Studio\n",
    "    </a>\n",
    "  </td>\n",
    "  <td>\n",
    "    <a href=\"https://console.cloud.google.com/vertex-ai/colab/import/https:%2F%2Fraw.githubusercontent.com%2FGoogleCloudPlatform%2Fai-ml-recipes%2Fmain%2Fnotebooks%2Fgenerative_ai%2Fclassification%2Ftoxicity_classification.ipynb\">\n",
    "    <img width=\"32px\" src=\"https://lh3.googleusercontent.com/JmcxdQi-qOpctIvWKgPtrzZdJJK-J3sWE1RsfjZNwshCFgE_9fULcNpuXYTilIR2hjwN\" alt=\"Google Cloud Colab Enterprise logo\">\n",
    "    Open in Colab Enterprise\n",
    "    </a>\n",
    "  </td>\n",
    "\n",
    "</table>"
   ]
  },
  {
   "cell_type": "markdown",
   "metadata": {
    "jupyter": {
     "outputs_hidden": false
    }
   },
   "source": [
    "## Overview\n",
    "\n",
    "This notebook shows how to classify human text toxic comments into different Responsible AI harms categories: \"toxic\", \"severe_toxic\", \"obscene\", \"threat\", \"insult\", \"identity_hate\"\n",
    "\n",
    "#### **Steps**\n",
    "Using Bigframes (BigQuery Dataframes),\n",
    "1) It reads the [```Jigsaw Multilingual Toxic Comment Classification```](https://www.kaggle.com/competitions/jigsaw-multilingual-toxic-comment-classification/data) dataset \n",
    "2) It preprocess the dataset and split into train and test for finetuning and metrics evaluation  \n",
    "3) It requests the Gemini 2.5 Flash model API to classify the text comment for the different categories (multi-label classification)  \n",
    "4) It evaluates the Precision scores and F1 scores\n",
    "5) It fine-tunes the Gemini 2.5 Flash model for this type of classification and evaluates the results against the test dataset again to compare the quality increase"
   ]
  },
  {
   "cell_type": "markdown",
   "metadata": {
    "jupyter": {
     "outputs_hidden": false
    }
   },
   "source": [
    "References:\n",
    "- [BigQuery DataFrames](https://cloud.google.com/python/docs/reference/bigframes/latest)\n",
    "- [Google Gen AI SDK](https://googleapis.github.io/python-genai/)"
   ]
  },
  {
   "cell_type": "markdown",
   "metadata": {
    "id": "aed92deeb4a0"
   },
   "source": [
    "### Costs\n",
    "\n",
    "This tutorial uses billable components of Google Cloud:\n",
    "\n",
    "* BigQuery (compute)\n",
    "* BigQuery ML\n",
    "\n",
    "Learn about [BigQuery compute pricing](https://cloud.google.com/bigquery/pricing#analysis_pricing_models)\n",
    "and [BigQuery ML pricing](https://cloud.google.com/bigquery/pricing#bqml),\n",
    "and use the [Pricing Calculator](https://cloud.google.com/products/calculator/)\n",
    "to generate a cost estimate based on your projected usage."
   ]
  },
  {
   "cell_type": "markdown",
   "metadata": {
    "id": "i7EUnXsZhAGF"
   },
   "source": [
    "## Setup"
   ]
  },
  {
   "cell_type": "code",
   "execution_count": null,
   "metadata": {
    "id": "9O0Ka4W2MNF3",
    "pycharm": {
     "is_executing": true
    },
    "tags": []
   },
   "outputs": [],
   "source": [
    "!pip install --upgrade google-genai google-cloud-bigquery google-cloud-aiplatform bigframes -q"
   ]
  },
  {
   "cell_type": "markdown",
   "metadata": {
    "id": "oDfTjfACBvJk"
   },
   "source": [
    "\n",
    "1. [Select or create a Google Cloud project](https://console.cloud.google.com/cloud-resource-manager). When you first create an account, you get a $300 credit towards your compute/storage costs.\n",
    "\n",
    "2. [Make sure that billing is enabled for your project](https://cloud.google.com/billing/docs/how-to/modify-project).\n",
    "\n",
    "3. [Enable the BigQuery API](https://console.cloud.google.com/flows/enableapi?apiid=bigquery.googleapis.com).\n",
    "\n",
    "4. If you are running this notebook locally, install the [Cloud SDK](https://cloud.google.com/sdk)."
   ]
  },
  {
   "cell_type": "markdown",
   "metadata": {
    "id": "960505627ddf"
   },
   "source": [
    "### Import dependencies"
   ]
  },
  {
   "cell_type": "code",
   "execution_count": null,
   "metadata": {},
   "outputs": [],
   "source": [
    "import json\n",
    "import time\n",
    "from typing import List\n",
    "from pydantic import BaseModel\n",
    "\n",
    "import numpy as np\n",
    "import pandas as pd\n",
    "import matplotlib.pyplot as plt\n",
    "from google.cloud import bigquery, storage\n",
    "\n",
    "import bigframes.pandas as bpd\n",
    "import bigframes.bigquery as bbq\n",
    "from bigframes.dataframe import DataFrame\n",
    "from bigframes.ml.model_selection import train_test_split\n",
    "from bigframes.ml import metrics\n",
    "\n",
    "from google import genai\n",
    "from google.genai import types"
   ]
  },
  {
   "cell_type": "markdown",
   "metadata": {
    "jupyter": {
     "outputs_hidden": false
    }
   },
   "source": [
    "### Set BigQuery DataFrames options"
   ]
  },
  {
   "cell_type": "code",
   "execution_count": null,
   "metadata": {
    "collapsed": false,
    "jupyter": {
     "outputs_hidden": false
    },
    "tags": []
   },
   "outputs": [],
   "source": [
    "PROJECT_ID = \"<PROJECT_ID>\"\n",
    "REGION = \"US\""
   ]
  },
  {
   "cell_type": "markdown",
   "metadata": {},
   "source": [
    "Before running, [create a BigQuery dataset](https://cloud.google.com/bigquery/docs/datasets) and a [BigQuery connection](https://cloud.google.com/bigquery/docs/create-cloud-resource-connection) and refer them below"
   ]
  },
  {
   "cell_type": "code",
   "execution_count": null,
   "metadata": {
    "tags": []
   },
   "outputs": [],
   "source": [
    "DATASET_ID = \"<BQ_DATASET>\"\n",
    "CONNECTION_ID = \"<BQ_CONNECTION>\""
   ]
  },
  {
   "cell_type": "code",
   "execution_count": null,
   "metadata": {
    "collapsed": false,
    "jupyter": {
     "outputs_hidden": false
    },
    "tags": []
   },
   "outputs": [],
   "source": [
    "bpd.options.bigquery.project = PROJECT_ID\n",
    "bpd.options.bigquery.location = REGION\n",
    "bpd.options.display.progress_bar = None"
   ]
  },
  {
   "cell_type": "markdown",
   "metadata": {
    "id": "9EMAqR37AfLS"
   },
   "source": [
    "## Read the dataset using BigQuery Dataframes"
   ]
  },
  {
   "cell_type": "code",
   "execution_count": null,
   "metadata": {
    "id": "EDAaIwHpQCDZ",
    "tags": []
   },
   "outputs": [],
   "source": [
    "df = bpd.read_csv(\"gs://dataproc-metastore-public-binaries/jigsaw/jigsaw-toxic-comment-train.csv\")"
   ]
  },
  {
   "cell_type": "code",
   "execution_count": null,
   "metadata": {
    "tags": []
   },
   "outputs": [],
   "source": [
    "classification_columns = [\"toxic\", \"severe_toxic\", \"obscene\", \"threat\", \"insult\", \"identity_hate\"]"
   ]
  },
  {
   "cell_type": "markdown",
   "metadata": {},
   "source": [
    "## Visualize basic statistics"
   ]
  },
  {
   "cell_type": "code",
   "execution_count": 8,
   "metadata": {
    "id": "_gPD0Zn1Stdb",
    "tags": []
   },
   "outputs": [
    {
     "data": {
      "text/html": [
       "<div>\n",
       "<style scoped>\n",
       "    .dataframe tbody tr th:only-of-type {\n",
       "        vertical-align: middle;\n",
       "    }\n",
       "\n",
       "    .dataframe tbody tr th {\n",
       "        vertical-align: top;\n",
       "    }\n",
       "\n",
       "    .dataframe thead th {\n",
       "        text-align: right;\n",
       "    }\n",
       "</style>\n",
       "<table border=\"1\" class=\"dataframe\">\n",
       "  <thead>\n",
       "    <tr style=\"text-align: right;\">\n",
       "      <th></th>\n",
       "      <th>id</th>\n",
       "      <th>comment_text</th>\n",
       "      <th>toxic</th>\n",
       "      <th>severe_toxic</th>\n",
       "      <th>obscene</th>\n",
       "      <th>threat</th>\n",
       "      <th>insult</th>\n",
       "      <th>identity_hate</th>\n",
       "    </tr>\n",
       "  </thead>\n",
       "  <tbody>\n",
       "    <tr>\n",
       "      <th>0</th>\n",
       "      <td>0000997932d777bf</td>\n",
       "      <td>Explanation\n",
       "Why the edits made under my userna...</td>\n",
       "      <td>0</td>\n",
       "      <td>0</td>\n",
       "      <td>0</td>\n",
       "      <td>0</td>\n",
       "      <td>0</td>\n",
       "      <td>0</td>\n",
       "    </tr>\n",
       "    <tr>\n",
       "      <th>1</th>\n",
       "      <td>000103f0d9cfb60f</td>\n",
       "      <td>D'aww! He matches this background colour I'm s...</td>\n",
       "      <td>0</td>\n",
       "      <td>0</td>\n",
       "      <td>0</td>\n",
       "      <td>0</td>\n",
       "      <td>0</td>\n",
       "      <td>0</td>\n",
       "    </tr>\n",
       "    <tr>\n",
       "      <th>2</th>\n",
       "      <td>000113f07ec002fd</td>\n",
       "      <td>Hey man, I'm really not trying to edit war. It...</td>\n",
       "      <td>0</td>\n",
       "      <td>0</td>\n",
       "      <td>0</td>\n",
       "      <td>0</td>\n",
       "      <td>0</td>\n",
       "      <td>0</td>\n",
       "    </tr>\n",
       "    <tr>\n",
       "      <th>3</th>\n",
       "      <td>0001b41b1c6bb37e</td>\n",
       "      <td>\"\n",
       "More\n",
       "I can't make any real suggestions on im...</td>\n",
       "      <td>0</td>\n",
       "      <td>0</td>\n",
       "      <td>0</td>\n",
       "      <td>0</td>\n",
       "      <td>0</td>\n",
       "      <td>0</td>\n",
       "    </tr>\n",
       "    <tr>\n",
       "      <th>4</th>\n",
       "      <td>0001d958c54c6e35</td>\n",
       "      <td>You, sir, are my hero. Any chance you remember...</td>\n",
       "      <td>0</td>\n",
       "      <td>0</td>\n",
       "      <td>0</td>\n",
       "      <td>0</td>\n",
       "      <td>0</td>\n",
       "      <td>0</td>\n",
       "    </tr>\n",
       "    <tr>\n",
       "      <th>5</th>\n",
       "      <td>00025465d4725e87</td>\n",
       "      <td>\"\n",
       "\n",
       "Congratulations from me as well, use the to...</td>\n",
       "      <td>0</td>\n",
       "      <td>0</td>\n",
       "      <td>0</td>\n",
       "      <td>0</td>\n",
       "      <td>0</td>\n",
       "      <td>0</td>\n",
       "    </tr>\n",
       "    <tr>\n",
       "      <th>6</th>\n",
       "      <td>0002bcb3da6cb337</td>\n",
       "      <td>COCKSUCKER BEFORE YOU PISS AROUND ON MY WORK</td>\n",
       "      <td>1</td>\n",
       "      <td>1</td>\n",
       "      <td>1</td>\n",
       "      <td>0</td>\n",
       "      <td>1</td>\n",
       "      <td>0</td>\n",
       "    </tr>\n",
       "    <tr>\n",
       "      <th>7</th>\n",
       "      <td>00031b1e95af7921</td>\n",
       "      <td>Your vandalism to the Matt Shirvington article...</td>\n",
       "      <td>0</td>\n",
       "      <td>0</td>\n",
       "      <td>0</td>\n",
       "      <td>0</td>\n",
       "      <td>0</td>\n",
       "      <td>0</td>\n",
       "    </tr>\n",
       "    <tr>\n",
       "      <th>8</th>\n",
       "      <td>00037261f536c51d</td>\n",
       "      <td>Sorry if the word 'nonsense' was offensive to ...</td>\n",
       "      <td>0</td>\n",
       "      <td>0</td>\n",
       "      <td>0</td>\n",
       "      <td>0</td>\n",
       "      <td>0</td>\n",
       "      <td>0</td>\n",
       "    </tr>\n",
       "    <tr>\n",
       "      <th>9</th>\n",
       "      <td>00040093b2687caa</td>\n",
       "      <td>alignment on this subject and which are contra...</td>\n",
       "      <td>0</td>\n",
       "      <td>0</td>\n",
       "      <td>0</td>\n",
       "      <td>0</td>\n",
       "      <td>0</td>\n",
       "      <td>0</td>\n",
       "    </tr>\n",
       "  </tbody>\n",
       "</table>\n",
       "<p>10 rows × 8 columns</p>\n",
       "</div>[10 rows x 8 columns in total]"
      ],
      "text/plain": [
       "                 id                                       comment_text  toxic  \\\n",
       "0  0000997932d777bf  Explanation\n",
       "Why the edits made under my userna...      0   \n",
       "1  000103f0d9cfb60f  D'aww! He matches this background colour I'm s...      0   \n",
       "2  000113f07ec002fd  Hey man, I'm really not trying to edit war. It...      0   \n",
       "3  0001b41b1c6bb37e  \"\n",
       "More\n",
       "I can't make any real suggestions on im...      0   \n",
       "4  0001d958c54c6e35  You, sir, are my hero. Any chance you remember...      0   \n",
       "5  00025465d4725e87  \"\n",
       "\n",
       "Congratulations from me as well, use the to...      0   \n",
       "6  0002bcb3da6cb337       COCKSUCKER BEFORE YOU PISS AROUND ON MY WORK      1   \n",
       "7  00031b1e95af7921  Your vandalism to the Matt Shirvington article...      0   \n",
       "8  00037261f536c51d  Sorry if the word 'nonsense' was offensive to ...      0   \n",
       "9  00040093b2687caa  alignment on this subject and which are contra...      0   \n",
       "\n",
       "   severe_toxic  obscene  threat  insult  identity_hate  \n",
       "0             0        0       0       0              0  \n",
       "1             0        0       0       0              0  \n",
       "2             0        0       0       0              0  \n",
       "3             0        0       0       0              0  \n",
       "4             0        0       0       0              0  \n",
       "5             0        0       0       0              0  \n",
       "6             1        1       0       1              0  \n",
       "7             0        0       0       0              0  \n",
       "8             0        0       0       0              0  \n",
       "9             0        0       0       0              0  \n",
       "\n",
       "[10 rows x 8 columns]"
      ]
     },
     "execution_count": 8,
     "metadata": {},
     "output_type": "execute_result"
    }
   ],
   "source": [
    "df.head(10)"
   ]
  },
  {
   "cell_type": "code",
   "execution_count": 9,
   "metadata": {
    "tags": []
   },
   "outputs": [
    {
     "name": "stdout",
     "output_type": "stream",
     "text": [
      "Total: 223549\n"
     ]
    }
   ],
   "source": [
    "ids_count = df[\"id\"].count()\n",
    "print(f\"Total: {ids_count}\")"
   ]
  },
  {
   "cell_type": "code",
   "execution_count": null,
   "metadata": {
    "tags": []
   },
   "outputs": [],
   "source": [
    "classification_counts = df[classification_columns].sum()\n",
    "classification_counts"
   ]
  },
  {
   "cell_type": "code",
   "execution_count": null,
   "metadata": {
    "tags": []
   },
   "outputs": [],
   "source": [
    "def plot_percentages(classification_counts: DataFrame, total: int):\n",
    "    \n",
    "    percentages = (classification_counts / total) * 100\n",
    "\n",
    "    plt.figure(figsize=(10, 5))\n",
    "    plt.bar(percentages.index, percentages.values)\n",
    "    plt.title('Distribution of Classifications (Percentage)')\n",
    "    plt.xlabel('Classification Type')\n",
    "    plt.ylabel('Percentage of Occurrences')\n",
    "    plt.xticks(rotation=45)\n",
    "    plt.show()"
   ]
  },
  {
   "cell_type": "code",
   "execution_count": 12,
   "metadata": {
    "tags": []
   },
   "outputs": [
    {
     "data": {
      "image/png": "[encoded data removed]",
      "text/plain": [
       "<Figure size 1000x500 with 1 Axes>"
      ]
     },
     "metadata": {},
     "output_type": "display_data"
    }
   ],
   "source": [
    "plot_percentages(classification_counts, ids_count)"
   ]
  },
  {
   "cell_type": "markdown",
   "metadata": {
    "id": "rwPLjqW2Ajzh"
   },
   "source": [
    "## Preprocess dataset"
   ]
  },
  {
   "cell_type": "markdown",
   "metadata": {},
   "source": [
    "Sample the data with **at least** a sample_size for each column in classification_columns  \n",
    "Including a sample with rows where all classification_columns are 0   "
   ]
  },
  {
   "cell_type": "markdown",
   "metadata": {},
   "source": [
    "### Balance dataset"
   ]
  },
  {
   "cell_type": "code",
   "execution_count": null,
   "metadata": {
    "tags": []
   },
   "outputs": [],
   "source": [
    "def balance_dataset(df: DataFrame, classification_columns: List, sample_size):\n",
    "\n",
    "    sampled_dfs = []\n",
    "\n",
    "    for col in classification_columns:\n",
    "        temp_df = df[df[col] == 1].sample(sample_size)\n",
    "        sampled_dfs.append(temp_df)\n",
    "\n",
    "    all_zeroes_df = df[(df[classification_columns] == 0).all(axis=1)].sample(sample_size)\n",
    "    sampled_dfs.append(all_zeroes_df)\n",
    "\n",
    "    balanced_df = bpd.concat(sampled_dfs) # could create duplicates, dropping for simplicity\n",
    "    balanced_df.drop_duplicates()\n",
    "    \n",
    "    return balanced_df"
   ]
  },
  {
   "cell_type": "code",
   "execution_count": null,
   "metadata": {},
   "outputs": [],
   "source": [
    "SAMPLE_SIZE = 20"
   ]
  },
  {
   "cell_type": "code",
   "execution_count": null,
   "metadata": {
    "tags": []
   },
   "outputs": [],
   "source": [
    "balanced_data = balance_dataset(df, classification_columns, sample_size = SAMPLE_SIZE)"
   ]
  },
  {
   "cell_type": "code",
   "execution_count": null,
   "metadata": {
    "tags": []
   },
   "outputs": [],
   "source": [
    "def plot_distribution(classification_counts: DataFrame):\n",
    "\n",
    "    plt.figure(figsize=(10, 5))\n",
    "    plt.bar(classification_counts.index, classification_counts.values)\n",
    "    plt.title('Distribution of Classifications')\n",
    "    plt.xlabel('Classification Type')\n",
    "    plt.ylabel('Number of Occurrences')\n",
    "    plt.xticks(rotation=45)\n",
    "    plt.show()"
   ]
  },
  {
   "cell_type": "code",
   "execution_count": null,
   "metadata": {
    "tags": []
   },
   "outputs": [],
   "source": [
    "balanced_data_counts = balanced_data[classification_columns].sum()\n",
    "balanced_data_counts"
   ]
  },
  {
   "cell_type": "code",
   "execution_count": 18,
   "metadata": {
    "tags": []
   },
   "outputs": [
    {
     "name": "stdout",
     "output_type": "stream",
     "text": [
      "Total: 140\n"
     ]
    }
   ],
   "source": [
    "total = balanced_data[\"id\"].count()\n",
    "print(f\"Total: {total}\")"
   ]
  },
  {
   "cell_type": "code",
   "execution_count": 19,
   "metadata": {
    "tags": []
   },
   "outputs": [
    {
     "data": {
      "image/png": "[encoded data removed]",
      "text/plain": [
       "<Figure size 1000x500 with 1 Axes>"
      ]
     },
     "metadata": {},
     "output_type": "display_data"
    }
   ],
   "source": [
    "plot_distribution(balanced_data_counts)"
   ]
  },
  {
   "cell_type": "markdown",
   "metadata": {},
   "source": [
    "### Split dataset"
   ]
  },
  {
   "cell_type": "code",
   "execution_count": null,
   "metadata": {
    "tags": []
   },
   "outputs": [],
   "source": [
    "train_df, test_df = train_test_split(balanced_data, test_size=0.2, random_state=42)"
   ]
  },
  {
   "cell_type": "code",
   "execution_count": 21,
   "metadata": {
    "collapsed": false,
    "jupyter": {
     "outputs_hidden": false
    },
    "tags": []
   },
   "outputs": [
    {
     "name": "stdout",
     "output_type": "stream",
     "text": [
      "Training data sample size:  112\n",
      "Test data sample size:  28\n"
     ]
    }
   ],
   "source": [
    "print(\"Training data sample size: \", train_df[\"id\"].count())\n",
    "print(\"Test data sample size: \", test_df[\"id\"].count())"
   ]
  },
  {
   "cell_type": "markdown",
   "metadata": {},
   "source": [
    "#### Cache to simplify the execution graph"
   ]
  },
  {
   "cell_type": "code",
   "execution_count": null,
   "metadata": {
    "tags": []
   },
   "outputs": [],
   "source": [
    "test_df.cache()"
   ]
  },
  {
   "cell_type": "code",
   "execution_count": null,
   "metadata": {},
   "outputs": [],
   "source": [
    "train_df.cache()"
   ]
  },
  {
   "cell_type": "markdown",
   "metadata": {},
   "source": [
    "## Configure Gemini"
   ]
  },
  {
   "cell_type": "code",
   "execution_count": null,
   "metadata": {
    "tags": []
   },
   "outputs": [],
   "source": [
    "system_instructions = [\n",
    "    \"\"\"You are a Responsible AI specialist, and analysis harmful content with the objective of filtering such undesired content from the web via your analysis\"\"\",\n",
    "    \"\"\"You will respond only 0s or 1s in JSON format to the following fields: \"toxic\", \"severe_toxic\", \"obscene\", \"threat\", \"insult\", \"identity_hate\" \"\"\"\n",
    "]"
   ]
  },
  {
   "cell_type": "code",
   "execution_count": null,
   "metadata": {
    "tags": []
   },
   "outputs": [],
   "source": [
    "class ResponseSchema(BaseModel):\n",
    "    toxic: int\n",
    "    severe_toxic: int\n",
    "    obscene: int\n",
    "    threat: int\n",
    "    insult: int\n",
    "    identity_hate: int"
   ]
  },
  {
   "cell_type": "code",
   "execution_count": null,
   "metadata": {
    "tags": []
   },
   "outputs": [],
   "source": [
    "prompt = \"\"\"\n",
    "Your task is to analyze comments from the web and classify if the content is related to the following classifications: \"toxic\", \"severe_toxic\", \"obscene\", \"threat\", \"insult\", \"identity_hate\"\n",
    "Here is the comment you should analyze and generate the structured response with the classifications: \n",
    "\"\"\""
   ]
  },
  {
   "cell_type": "code",
   "execution_count": null,
   "metadata": {
    "tags": []
   },
   "outputs": [],
   "source": [
    "def predict(prompt, model_name, max_retries=5, initial_delay=2):\n",
    "\n",
    "    import time\n",
    "    from google import genai\n",
    "    from google.genai import types\n",
    "    from google.genai.types import HttpOptions\n",
    "\n",
    "    client = genai.Client(\n",
    "      vertexai=True,\n",
    "      project=PROJECT_ID,\n",
    "      location=\"us-central1\",\n",
    "      http_options=HttpOptions(api_version=\"v1\")\n",
    "    )\n",
    "\n",
    "    model = model_name\n",
    "\n",
    "    contents = [\n",
    "        types.Part.from_text(text=prompt)\n",
    "    ]\n",
    "\n",
    "    generate_content_config = types.GenerateContentConfig(\n",
    "        temperature = 0.5,\n",
    "        max_output_tokens = 1024,\n",
    "        response_mime_type = \"application/json\",\n",
    "        response_schema = ResponseSchema,\n",
    "        safety_settings = [types.SafetySetting(\n",
    "            category = 'HARM_CATEGORY_UNSPECIFIED',\n",
    "            threshold = 'BLOCK_ONLY_HIGH',\n",
    "        )],\n",
    "        system_instruction = system_instructions,\n",
    "    )\n",
    "    \n",
    "    retries, delay = 0, initial_delay\n",
    "    while retries <= max_retries:\n",
    "        try:\n",
    "            response = client.models.generate_content(model=model,\n",
    "                                                      contents=contents,\n",
    "                                                      config=generate_content_config)\n",
    "            return response.text\n",
    "        except Exception:\n",
    "            if retries == max_retries:\n",
    "                return\n",
    "            time.sleep(delay)\n",
    "            delay *= 2\n",
    "            retries += 1\n",
    "    return"
   ]
  },
  {
   "cell_type": "code",
   "execution_count": null,
   "metadata": {
    "tags": []
   },
   "outputs": [],
   "source": [
    "@bpd.remote_function(\n",
    "    [str, str],\n",
    "    str,\n",
    "    bigquery_connection=CONNECTION_ID,\n",
    "    cloud_function_service_account=\"default\",\n",
    "    packages=[\"google-genai\"]\n",
    ")\n",
    "def generate_predictions(prompt: str, model_name: str) -> str:\n",
    "    \n",
    "    prediction = predict(prompt, model_name)\n",
    "    \n",
    "    return prediction"
   ]
  },
  {
   "cell_type": "markdown",
   "metadata": {},
   "source": [
    "## Run predictions against the test dataset using Gemini 2.5 Flash (default)"
   ]
  },
  {
   "cell_type": "code",
   "execution_count": null,
   "metadata": {
    "tags": []
   },
   "outputs": [],
   "source": [
    "GEMINI_MODEL = \"gemini-2.5-flash\""
   ]
  },
  {
   "cell_type": "code",
   "execution_count": null,
   "metadata": {
    "tags": []
   },
   "outputs": [],
   "source": [
    "test_df[\"input_prompt\"] = prompt + test_df[\"comment_text\"]"
   ]
  },
  {
   "cell_type": "code",
   "execution_count": null,
   "metadata": {
    "tags": []
   },
   "outputs": [],
   "source": [
    "input_remote_function = test_df[[\"input_prompt\"]].assign(model_name=GEMINI_MODEL)"
   ]
  },
  {
   "cell_type": "code",
   "execution_count": null,
   "metadata": {
    "tags": []
   },
   "outputs": [],
   "source": [
    "predictions = test_df.assign(pred=input_remote_function.apply(generate_predictions, axis=1))"
   ]
  },
  {
   "cell_type": "markdown",
   "metadata": {},
   "source": [
    "#### Persist this transformed data to BigQuery to simplify the execution graph"
   ]
  },
  {
   "cell_type": "code",
   "execution_count": null,
   "metadata": {
    "tags": []
   },
   "outputs": [],
   "source": [
    "predictions.to_gbq(destination_table=f\"{PROJECT_ID}.{DATASET_ID}.toxicity_predictions_raw\", if_exists=\"replace\")"
   ]
  },
  {
   "cell_type": "markdown",
   "metadata": {},
   "source": [
    "### Extract attributes"
   ]
  },
  {
   "cell_type": "code",
   "execution_count": null,
   "metadata": {
    "tags": []
   },
   "outputs": [],
   "source": [
    "extract_query = f\"CREATE OR REPLACE TABLE {PROJECT_ID}.{DATASET_ID}.toxicity_predictions AS (SELECT *, \" + \"\".join([f\"CAST(JSON_EXTRACT(pred, '$.{col}') AS INT64) AS predicted_{col},\" for col in classification_columns]) + f\" FROM {PROJECT_ID}.{DATASET_ID}.toxicity_predictions_raw)\""
   ]
  },
  {
   "cell_type": "code",
   "execution_count": null,
   "metadata": {
    "tags": []
   },
   "outputs": [],
   "source": [
    "%%bigquery\n",
    "$extract_query"
   ]
  },
  {
   "cell_type": "code",
   "execution_count": null,
   "metadata": {
    "tags": []
   },
   "outputs": [],
   "source": [
    "toxicity_predictions = bpd.read_gbq(f\"{PROJECT_ID}.{DATASET_ID}.toxicity_predictions\", use_cache=False)"
   ]
  },
  {
   "cell_type": "code",
   "execution_count": 37,
   "metadata": {
    "tags": []
   },
   "outputs": [
    {
     "data": {
      "text/html": [
       "<div>\n",
       "<style scoped>\n",
       "    .dataframe tbody tr th:only-of-type {\n",
       "        vertical-align: middle;\n",
       "    }\n",
       "\n",
       "    .dataframe tbody tr th {\n",
       "        vertical-align: top;\n",
       "    }\n",
       "\n",
       "    .dataframe thead th {\n",
       "        text-align: right;\n",
       "    }\n",
       "</style>\n",
       "<table border=\"1\" class=\"dataframe\">\n",
       "  <thead>\n",
       "    <tr style=\"text-align: right;\">\n",
       "      <th></th>\n",
       "      <th>id</th>\n",
       "      <th>comment_text</th>\n",
       "      <th>toxic</th>\n",
       "      <th>severe_toxic</th>\n",
       "      <th>obscene</th>\n",
       "      <th>threat</th>\n",
       "      <th>insult</th>\n",
       "      <th>identity_hate</th>\n",
       "      <th>input_prompt</th>\n",
       "      <th>pred</th>\n",
       "      <th>predicted_toxic</th>\n",
       "      <th>predicted_severe_toxic</th>\n",
       "      <th>predicted_obscene</th>\n",
       "      <th>predicted_threat</th>\n",
       "      <th>predicted_insult</th>\n",
       "      <th>predicted_identity_hate</th>\n",
       "    </tr>\n",
       "  </thead>\n",
       "  <tbody>\n",
       "    <tr>\n",
       "      <th>0</th>\n",
       "      <td>fc84b525b96f5bc5</td>\n",
       "      <td>No he really is a stinking gay rights activist...</td>\n",
       "      <td>1</td>\n",
       "      <td>0</td>\n",
       "      <td>0</td>\n",
       "      <td>0</td>\n",
       "      <td>1</td>\n",
       "      <td>1</td>\n",
       "      <td>Your task is to analyze comments from the web...</td>\n",
       "      <td>{\n",
       "\"identity_hate\": 1,\n",
       "\"insult\": 1,\n",
       "\"obscene\": ...</td>\n",
       "      <td>1</td>\n",
       "      <td>1</td>\n",
       "      <td>0</td>\n",
       "      <td>0</td>\n",
       "      <td>1</td>\n",
       "      <td>1</td>\n",
       "    </tr>\n",
       "    <tr>\n",
       "      <th>1</th>\n",
       "      <td>e19367f9304454eb</td>\n",
       "      <td>\" \n",
       "\n",
       " :There may be POV issues with showing an ...</td>\n",
       "      <td>0</td>\n",
       "      <td>0</td>\n",
       "      <td>0</td>\n",
       "      <td>0</td>\n",
       "      <td>0</td>\n",
       "      <td>0</td>\n",
       "      <td>Your task is to analyze comments from the web...</td>\n",
       "      <td>{\n",
       "\"identity_hate\":  0,\n",
       "\"insult\":  0,\n",
       "\"obscene\"...</td>\n",
       "      <td>0</td>\n",
       "      <td>0</td>\n",
       "      <td>0</td>\n",
       "      <td>0</td>\n",
       "      <td>0</td>\n",
       "      <td>0</td>\n",
       "    </tr>\n",
       "    <tr>\n",
       "      <th>2</th>\n",
       "      <td>6fe2b7e3904620a0</td>\n",
       "      <td>== Fair and righteous opinion == \n",
       "\n",
       " You are a ...</td>\n",
       "      <td>1</td>\n",
       "      <td>1</td>\n",
       "      <td>1</td>\n",
       "      <td>0</td>\n",
       "      <td>1</td>\n",
       "      <td>1</td>\n",
       "      <td>Your task is to analyze comments from the web...</td>\n",
       "      <td>{\n",
       "\"identity_hate\": 1,\n",
       "\"insult\": 1,\n",
       "\"obscene\": ...</td>\n",
       "      <td>1</td>\n",
       "      <td>1</td>\n",
       "      <td>1</td>\n",
       "      <td>1</td>\n",
       "      <td>1</td>\n",
       "      <td>1</td>\n",
       "    </tr>\n",
       "    <tr>\n",
       "      <th>3</th>\n",
       "      <td>4728162570943035</td>\n",
       "      <td>:Addendum: I have just returned to find my Use...</td>\n",
       "      <td>1</td>\n",
       "      <td>0</td>\n",
       "      <td>1</td>\n",
       "      <td>0</td>\n",
       "      <td>1</td>\n",
       "      <td>0</td>\n",
       "      <td>Your task is to analyze comments from the web...</td>\n",
       "      <td>{\n",
       "\"identity_hate\": 0,\n",
       "\"insult\": 1,\n",
       "\"obscene\": ...</td>\n",
       "      <td>1</td>\n",
       "      <td>0</td>\n",
       "      <td>1</td>\n",
       "      <td>0</td>\n",
       "      <td>1</td>\n",
       "      <td>0</td>\n",
       "    </tr>\n",
       "    <tr>\n",
       "      <th>4</th>\n",
       "      <td>dc3221f167a7d3f3</td>\n",
       "      <td>- I agree with the specific conditions.</td>\n",
       "      <td>0</td>\n",
       "      <td>0</td>\n",
       "      <td>0</td>\n",
       "      <td>0</td>\n",
       "      <td>0</td>\n",
       "      <td>0</td>\n",
       "      <td>Your task is to analyze comments from the web...</td>\n",
       "      <td>{\n",
       "\"identity_hate\": 0,\n",
       "\"insult\": 0,\n",
       "\"obscene\": ...</td>\n",
       "      <td>0</td>\n",
       "      <td>0</td>\n",
       "      <td>0</td>\n",
       "      <td>0</td>\n",
       "      <td>0</td>\n",
       "      <td>0</td>\n",
       "    </tr>\n",
       "  </tbody>\n",
       "</table>\n",
       "<p>5 rows × 16 columns</p>\n",
       "</div>[5 rows x 16 columns in total]"
      ],
      "text/plain": [
       "                 id                                       comment_text  toxic  \\\n",
       "0  fc84b525b96f5bc5  No he really is a stinking gay rights activist...      1   \n",
       "1  e19367f9304454eb  \" \n",
       "\n",
       " :There may be POV issues with showing an ...      0   \n",
       "2  6fe2b7e3904620a0  == Fair and righteous opinion == \n",
       "\n",
       " You are a ...      1   \n",
       "3  4728162570943035  :Addendum: I have just returned to find my Use...      1   \n",
       "4  dc3221f167a7d3f3            - I agree with the specific conditions.      0   \n",
       "\n",
       "   severe_toxic  obscene  threat  insult  identity_hate  \\\n",
       "0             0        0       0       1              1   \n",
       "1             0        0       0       0              0   \n",
       "2             1        1       0       1              1   \n",
       "3             0        1       0       1              0   \n",
       "4             0        0       0       0              0   \n",
       "\n",
       "                                        input_prompt  \\\n",
       "0  \n",
       "Your task is to analyze comments from the web...   \n",
       "1  \n",
       "Your task is to analyze comments from the web...   \n",
       "2  \n",
       "Your task is to analyze comments from the web...   \n",
       "3  \n",
       "Your task is to analyze comments from the web...   \n",
       "4  \n",
       "Your task is to analyze comments from the web...   \n",
       "\n",
       "                                                pred  predicted_toxic  \\\n",
       "0  {\n",
       "\"identity_hate\": 1,\n",
       "\"insult\": 1,\n",
       "\"obscene\": ...                1   \n",
       "1  {\n",
       "\"identity_hate\":  0,\n",
       "\"insult\":  0,\n",
       "\"obscene\"...                0   \n",
       "2  {\n",
       "\"identity_hate\": 1,\n",
       "\"insult\": 1,\n",
       "\"obscene\": ...                1   \n",
       "3  {\n",
       "\"identity_hate\": 0,\n",
       "\"insult\": 1,\n",
       "\"obscene\": ...                1   \n",
       "4  {\n",
       "\"identity_hate\": 0,\n",
       "\"insult\": 0,\n",
       "\"obscene\": ...                0   \n",
       "\n",
       "   predicted_severe_toxic  predicted_obscene  predicted_threat  \\\n",
       "0                       1                  0                 0   \n",
       "1                       0                  0                 0   \n",
       "2                       1                  1                 1   \n",
       "3                       0                  1                 0   \n",
       "4                       0                  0                 0   \n",
       "\n",
       "   predicted_insult  predicted_identity_hate  \n",
       "0                 1                        1  \n",
       "1                 0                        0  \n",
       "2                 1                        1  \n",
       "3                 1                        0  \n",
       "4                 0                        0  \n",
       "\n",
       "[5 rows x 16 columns]"
      ]
     },
     "execution_count": 37,
     "metadata": {},
     "output_type": "execute_result"
    }
   ],
   "source": [
    "toxicity_predictions.head()"
   ]
  },
  {
   "cell_type": "markdown",
   "metadata": {},
   "source": [
    "### Evaluate results"
   ]
  },
  {
   "cell_type": "code",
   "execution_count": null,
   "metadata": {
    "tags": []
   },
   "outputs": [],
   "source": [
    "def compute_recall_scores(predictions: DataFrame):\n",
    "\n",
    "    recall_scores = {}\n",
    "\n",
    "    for col in classification_columns:\n",
    "        \n",
    "        y_true = predictions[col]\n",
    "        y_pred = predictions[\"predicted_\" + col]\n",
    "        \n",
    "        recall_score = metrics.recall_score(y_true, y_pred, average=None)\n",
    "        recall_scores[col] = recall_score.to_dict()\n",
    "    \n",
    "    return recall_scores"
   ]
  },
  {
   "cell_type": "code",
   "execution_count": null,
   "metadata": {
    "tags": []
   },
   "outputs": [],
   "source": [
    "recall_scores = compute_recall_scores(toxicity_predictions)"
   ]
  },
  {
   "cell_type": "code",
   "execution_count": null,
   "metadata": {
    "tags": []
   },
   "outputs": [],
   "source": [
    "recall_scores"
   ]
  },
  {
   "cell_type": "code",
   "execution_count": null,
   "metadata": {
    "tags": []
   },
   "outputs": [],
   "source": [
    "def compute_precision_scores(predictions: DataFrame):\n",
    "\n",
    "    precision_scores = {}\n",
    "\n",
    "    for col in classification_columns:\n",
    "        \n",
    "        y_true = predictions[col]\n",
    "        y_pred = predictions[\"predicted_\" + col]\n",
    "        \n",
    "        precision_score = metrics.precision_score(y_true, y_pred, average=None)\n",
    "        precision_scores[col] = precision_score.to_dict()\n",
    "    \n",
    "    return precision_scores"
   ]
  },
  {
   "cell_type": "code",
   "execution_count": null,
   "metadata": {
    "tags": []
   },
   "outputs": [],
   "source": [
    "precision_scores = compute_precision_scores(toxicity_predictions)"
   ]
  },
  {
   "cell_type": "code",
   "execution_count": null,
   "metadata": {},
   "outputs": [],
   "source": [
    "precision_scores"
   ]
  },
  {
   "cell_type": "code",
   "execution_count": null,
   "metadata": {
    "tags": []
   },
   "outputs": [],
   "source": [
    "def compute_f1_scores(predictions: DataFrame):\n",
    "\n",
    "    f1_scores = {}\n",
    "\n",
    "    for col in classification_columns:\n",
    "        \n",
    "        y_true = predictions[col]\n",
    "        y_pred = predictions[\"predicted_\" + col]\n",
    "        \n",
    "        f1_score = metrics.f1_score(y_true, y_pred, average=None)\n",
    "        f1_scores[col] = f1_score.to_dict()\n",
    "    \n",
    "    return f1_scores"
   ]
  },
  {
   "cell_type": "code",
   "execution_count": null,
   "metadata": {
    "tags": []
   },
   "outputs": [],
   "source": [
    "f1_scores = compute_f1_scores(toxicity_predictions)"
   ]
  },
  {
   "cell_type": "code",
   "execution_count": null,
   "metadata": {
    "tags": []
   },
   "outputs": [],
   "source": [
    "f1_scores"
   ]
  },
  {
   "cell_type": "markdown",
   "metadata": {},
   "source": [
    "## Finetune Gemini"
   ]
  },
  {
   "cell_type": "markdown",
   "metadata": {},
   "source": [
    "#### Generate a dataset for fine-tuning"
   ]
  },
  {
   "cell_type": "code",
   "execution_count": null,
   "metadata": {
    "tags": []
   },
   "outputs": [],
   "source": [
    "def generate_fine_tuning_dataset(df: DataFrame) -> pd.DataFrame:\n",
    "    \n",
    "    df[\"input_prompt\"] = prompt + df[\"comment_text\"]\n",
    "    fine_tuning_dataset = df.to_pandas()\n",
    "    fine_tuning_dataset['expected_model_output'] = fine_tuning_dataset[classification_columns].apply(lambda row: row.to_json(), axis=1) \n",
    "    \n",
    "    return fine_tuning_dataset"
   ]
  },
  {
   "cell_type": "code",
   "execution_count": null,
   "metadata": {
    "tags": []
   },
   "outputs": [],
   "source": [
    "fine_tuning_dataset_train = generate_fine_tuning_dataset(train_df)\n",
    "fine_tuning_dataset_val = generate_fine_tuning_dataset(test_df)"
   ]
  },
  {
   "cell_type": "code",
   "execution_count": 49,
   "metadata": {
    "tags": []
   },
   "outputs": [
    {
     "data": {
      "text/html": [
       "<div>\n",
       "<style scoped>\n",
       "    .dataframe tbody tr th:only-of-type {\n",
       "        vertical-align: middle;\n",
       "    }\n",
       "\n",
       "    .dataframe tbody tr th {\n",
       "        vertical-align: top;\n",
       "    }\n",
       "\n",
       "    .dataframe thead th {\n",
       "        text-align: right;\n",
       "    }\n",
       "</style>\n",
       "<table border=\"1\" class=\"dataframe\">\n",
       "  <thead>\n",
       "    <tr style=\"text-align: right;\">\n",
       "      <th></th>\n",
       "      <th>id</th>\n",
       "      <th>comment_text</th>\n",
       "      <th>toxic</th>\n",
       "      <th>severe_toxic</th>\n",
       "      <th>obscene</th>\n",
       "      <th>threat</th>\n",
       "      <th>insult</th>\n",
       "      <th>identity_hate</th>\n",
       "      <th>input_prompt</th>\n",
       "      <th>expected_model_output</th>\n",
       "    </tr>\n",
       "  </thead>\n",
       "  <tbody>\n",
       "    <tr>\n",
       "      <th>0</th>\n",
       "      <td>97003050132a4384</td>\n",
       "      <td>FUCK YOU DICK LICKS! \n",
       "\n",
       "You guys will never be ...</td>\n",
       "      <td>1</td>\n",
       "      <td>1</td>\n",
       "      <td>1</td>\n",
       "      <td>0</td>\n",
       "      <td>0</td>\n",
       "      <td>0</td>\n",
       "      <td>Your task is to analyze comments from the web...</td>\n",
       "      <td>{\"toxic\":1,\"severe_toxic\":1,\"obscene\":1,\"threa...</td>\n",
       "    </tr>\n",
       "    <tr>\n",
       "      <th>1</th>\n",
       "      <td>d837f49721876ad9</td>\n",
       "      <td>EL OH FUCKING EL. NIGGER YOU THINK YOUR FUNNY....</td>\n",
       "      <td>1</td>\n",
       "      <td>1</td>\n",
       "      <td>1</td>\n",
       "      <td>0</td>\n",
       "      <td>1</td>\n",
       "      <td>1</td>\n",
       "      <td>Your task is to analyze comments from the web...</td>\n",
       "      <td>{\"toxic\":1,\"severe_toxic\":1,\"obscene\":1,\"threa...</td>\n",
       "    </tr>\n",
       "    <tr>\n",
       "      <th>2</th>\n",
       "      <td>71231d24cd28a682</td>\n",
       "      <td>Get off your fucking high horse. I'm not a new...</td>\n",
       "      <td>1</td>\n",
       "      <td>1</td>\n",
       "      <td>1</td>\n",
       "      <td>0</td>\n",
       "      <td>1</td>\n",
       "      <td>0</td>\n",
       "      <td>Your task is to analyze comments from the web...</td>\n",
       "      <td>{\"toxic\":1,\"severe_toxic\":1,\"obscene\":1,\"threa...</td>\n",
       "    </tr>\n",
       "    <tr>\n",
       "      <th>3</th>\n",
       "      <td>6a6c06ac54c01f31</td>\n",
       "      <td>look here \n",
       "\n",
       "your a fuckin cunt you czeckoslova...</td>\n",
       "      <td>1</td>\n",
       "      <td>1</td>\n",
       "      <td>1</td>\n",
       "      <td>0</td>\n",
       "      <td>1</td>\n",
       "      <td>1</td>\n",
       "      <td>Your task is to analyze comments from the web...</td>\n",
       "      <td>{\"toxic\":1,\"severe_toxic\":1,\"obscene\":1,\"threa...</td>\n",
       "    </tr>\n",
       "    <tr>\n",
       "      <th>4</th>\n",
       "      <td>286bcad31c36d1d3</td>\n",
       "      <td>sonek \n",
       "\n",
       "put princes saly in sonek 4 or clay al...</td>\n",
       "      <td>1</td>\n",
       "      <td>0</td>\n",
       "      <td>0</td>\n",
       "      <td>1</td>\n",
       "      <td>0</td>\n",
       "      <td>0</td>\n",
       "      <td>Your task is to analyze comments from the web...</td>\n",
       "      <td>{\"toxic\":1,\"severe_toxic\":0,\"obscene\":0,\"threa...</td>\n",
       "    </tr>\n",
       "    <tr>\n",
       "      <th>...</th>\n",
       "      <td>...</td>\n",
       "      <td>...</td>\n",
       "      <td>...</td>\n",
       "      <td>...</td>\n",
       "      <td>...</td>\n",
       "      <td>...</td>\n",
       "      <td>...</td>\n",
       "      <td>...</td>\n",
       "      <td>...</td>\n",
       "      <td>...</td>\n",
       "    </tr>\n",
       "    <tr>\n",
       "      <th>107</th>\n",
       "      <td>cdbcc8d96aabb699</td>\n",
       "      <td>stop  grinning u idiot. What I said waz true t...</td>\n",
       "      <td>1</td>\n",
       "      <td>0</td>\n",
       "      <td>1</td>\n",
       "      <td>0</td>\n",
       "      <td>1</td>\n",
       "      <td>0</td>\n",
       "      <td>Your task is to analyze comments from the web...</td>\n",
       "      <td>{\"toxic\":1,\"severe_toxic\":0,\"obscene\":1,\"threa...</td>\n",
       "    </tr>\n",
       "    <tr>\n",
       "      <th>108</th>\n",
       "      <td>8cd53f0520fb3bdc</td>\n",
       "      <td>You are an arse! \n",
       "\n",
       "SHUTUP!</td>\n",
       "      <td>1</td>\n",
       "      <td>0</td>\n",
       "      <td>0</td>\n",
       "      <td>0</td>\n",
       "      <td>1</td>\n",
       "      <td>0</td>\n",
       "      <td>Your task is to analyze comments from the web...</td>\n",
       "      <td>{\"toxic\":1,\"severe_toxic\":0,\"obscene\":0,\"threa...</td>\n",
       "    </tr>\n",
       "    <tr>\n",
       "      <th>109</th>\n",
       "      <td>c9640ae6ae7bb052</td>\n",
       "      <td>you have been blocked for being a pimped out f...</td>\n",
       "      <td>1</td>\n",
       "      <td>0</td>\n",
       "      <td>1</td>\n",
       "      <td>0</td>\n",
       "      <td>1</td>\n",
       "      <td>0</td>\n",
       "      <td>Your task is to analyze comments from the web...</td>\n",
       "      <td>{\"toxic\":1,\"severe_toxic\":0,\"obscene\":1,\"threa...</td>\n",
       "    </tr>\n",
       "    <tr>\n",
       "      <th>110</th>\n",
       "      <td>eca0e12c9c0311cd</td>\n",
       "      <td>===Apology=== \n",
       " I would like to sincerely apol...</td>\n",
       "      <td>1</td>\n",
       "      <td>1</td>\n",
       "      <td>1</td>\n",
       "      <td>1</td>\n",
       "      <td>1</td>\n",
       "      <td>0</td>\n",
       "      <td>Your task is to analyze comments from the web...</td>\n",
       "      <td>{\"toxic\":1,\"severe_toxic\":1,\"obscene\":1,\"threa...</td>\n",
       "    </tr>\n",
       "    <tr>\n",
       "      <th>111</th>\n",
       "      <td>c95aa516b5b7c177</td>\n",
       "      <td>\"\n",
       "\n",
       " D€ATH TO NORWEGIANS AND ALL ANTI-SEℳITES W...</td>\n",
       "      <td>1</td>\n",
       "      <td>0</td>\n",
       "      <td>1</td>\n",
       "      <td>1</td>\n",
       "      <td>1</td>\n",
       "      <td>1</td>\n",
       "      <td>Your task is to analyze comments from the web...</td>\n",
       "      <td>{\"toxic\":1,\"severe_toxic\":0,\"obscene\":1,\"threa...</td>\n",
       "    </tr>\n",
       "  </tbody>\n",
       "</table>\n",
       "<p>112 rows × 10 columns</p>\n",
       "</div>"
      ],
      "text/plain": [
       "                   id                                       comment_text  \\\n",
       "0    97003050132a4384  FUCK YOU DICK LICKS! \n",
       "\n",
       "You guys will never be ...   \n",
       "1    d837f49721876ad9  EL OH FUCKING EL. NIGGER YOU THINK YOUR FUNNY....   \n",
       "2    71231d24cd28a682  Get off your fucking high horse. I'm not a new...   \n",
       "3    6a6c06ac54c01f31  look here \n",
       "\n",
       "your a fuckin cunt you czeckoslova...   \n",
       "4    286bcad31c36d1d3  sonek \n",
       "\n",
       "put princes saly in sonek 4 or clay al...   \n",
       "..                ...                                                ...   \n",
       "107  cdbcc8d96aabb699  stop  grinning u idiot. What I said waz true t...   \n",
       "108  8cd53f0520fb3bdc                         You are an arse! \n",
       "\n",
       "SHUTUP!   \n",
       "109  c9640ae6ae7bb052  you have been blocked for being a pimped out f...   \n",
       "110  eca0e12c9c0311cd  ===Apology=== \n",
       " I would like to sincerely apol...   \n",
       "111  c95aa516b5b7c177  \"\n",
       "\n",
       " D€ATH TO NORWEGIANS AND ALL ANTI-SEℳITES W...   \n",
       "\n",
       "     toxic  severe_toxic  obscene  threat  insult  identity_hate  \\\n",
       "0        1             1        1       0       0              0   \n",
       "1        1             1        1       0       1              1   \n",
       "2        1             1        1       0       1              0   \n",
       "3        1             1        1       0       1              1   \n",
       "4        1             0        0       1       0              0   \n",
       "..     ...           ...      ...     ...     ...            ...   \n",
       "107      1             0        1       0       1              0   \n",
       "108      1             0        0       0       1              0   \n",
       "109      1             0        1       0       1              0   \n",
       "110      1             1        1       1       1              0   \n",
       "111      1             0        1       1       1              1   \n",
       "\n",
       "                                          input_prompt  \\\n",
       "0    \n",
       "Your task is to analyze comments from the web...   \n",
       "1    \n",
       "Your task is to analyze comments from the web...   \n",
       "2    \n",
       "Your task is to analyze comments from the web...   \n",
       "3    \n",
       "Your task is to analyze comments from the web...   \n",
       "4    \n",
       "Your task is to analyze comments from the web...   \n",
       "..                                                 ...   \n",
       "107  \n",
       "Your task is to analyze comments from the web...   \n",
       "108  \n",
       "Your task is to analyze comments from the web...   \n",
       "109  \n",
       "Your task is to analyze comments from the web...   \n",
       "110  \n",
       "Your task is to analyze comments from the web...   \n",
       "111  \n",
       "Your task is to analyze comments from the web...   \n",
       "\n",
       "                                 expected_model_output  \n",
       "0    {\"toxic\":1,\"severe_toxic\":1,\"obscene\":1,\"threa...  \n",
       "1    {\"toxic\":1,\"severe_toxic\":1,\"obscene\":1,\"threa...  \n",
       "2    {\"toxic\":1,\"severe_toxic\":1,\"obscene\":1,\"threa...  \n",
       "3    {\"toxic\":1,\"severe_toxic\":1,\"obscene\":1,\"threa...  \n",
       "4    {\"toxic\":1,\"severe_toxic\":0,\"obscene\":0,\"threa...  \n",
       "..                                                 ...  \n",
       "107  {\"toxic\":1,\"severe_toxic\":0,\"obscene\":1,\"threa...  \n",
       "108  {\"toxic\":1,\"severe_toxic\":0,\"obscene\":0,\"threa...  \n",
       "109  {\"toxic\":1,\"severe_toxic\":0,\"obscene\":1,\"threa...  \n",
       "110  {\"toxic\":1,\"severe_toxic\":1,\"obscene\":1,\"threa...  \n",
       "111  {\"toxic\":1,\"severe_toxic\":0,\"obscene\":1,\"threa...  \n",
       "\n",
       "[112 rows x 10 columns]"
      ]
     },
     "execution_count": 49,
     "metadata": {},
     "output_type": "execute_result"
    }
   ],
   "source": [
    "fine_tuning_dataset_train"
   ]
  },
  {
   "cell_type": "code",
   "execution_count": 50,
   "metadata": {
    "tags": []
   },
   "outputs": [
    {
     "data": {
      "text/html": [
       "<div>\n",
       "<style scoped>\n",
       "    .dataframe tbody tr th:only-of-type {\n",
       "        vertical-align: middle;\n",
       "    }\n",
       "\n",
       "    .dataframe tbody tr th {\n",
       "        vertical-align: top;\n",
       "    }\n",
       "\n",
       "    .dataframe thead th {\n",
       "        text-align: right;\n",
       "    }\n",
       "</style>\n",
       "<table border=\"1\" class=\"dataframe\">\n",
       "  <thead>\n",
       "    <tr style=\"text-align: right;\">\n",
       "      <th></th>\n",
       "      <th>id</th>\n",
       "      <th>comment_text</th>\n",
       "      <th>toxic</th>\n",
       "      <th>severe_toxic</th>\n",
       "      <th>obscene</th>\n",
       "      <th>threat</th>\n",
       "      <th>insult</th>\n",
       "      <th>identity_hate</th>\n",
       "      <th>input_prompt</th>\n",
       "      <th>expected_model_output</th>\n",
       "    </tr>\n",
       "  </thead>\n",
       "  <tbody>\n",
       "    <tr>\n",
       "      <th>0</th>\n",
       "      <td>83bda5fa72211a52</td>\n",
       "      <td>:::you can't get no satisfaction and the artic...</td>\n",
       "      <td>0</td>\n",
       "      <td>0</td>\n",
       "      <td>0</td>\n",
       "      <td>0</td>\n",
       "      <td>0</td>\n",
       "      <td>0</td>\n",
       "      <td>Your task is to analyze comments from the web...</td>\n",
       "      <td>{\"toxic\":0,\"severe_toxic\":0,\"obscene\":0,\"threa...</td>\n",
       "    </tr>\n",
       "    <tr>\n",
       "      <th>1</th>\n",
       "      <td>2f784baa117cfef7</td>\n",
       "      <td>\"well wat i think of halo 4 is the best game e...</td>\n",
       "      <td>1</td>\n",
       "      <td>0</td>\n",
       "      <td>0</td>\n",
       "      <td>0</td>\n",
       "      <td>0</td>\n",
       "      <td>0</td>\n",
       "      <td>Your task is to analyze comments from the web...</td>\n",
       "      <td>{\"toxic\":1,\"severe_toxic\":0,\"obscene\":0,\"threa...</td>\n",
       "    </tr>\n",
       "    <tr>\n",
       "      <th>2</th>\n",
       "      <td>fc84b525b96f5bc5</td>\n",
       "      <td>No he really is a stinking gay rights activist...</td>\n",
       "      <td>1</td>\n",
       "      <td>0</td>\n",
       "      <td>0</td>\n",
       "      <td>0</td>\n",
       "      <td>1</td>\n",
       "      <td>1</td>\n",
       "      <td>Your task is to analyze comments from the web...</td>\n",
       "      <td>{\"toxic\":1,\"severe_toxic\":0,\"obscene\":0,\"threa...</td>\n",
       "    </tr>\n",
       "    <tr>\n",
       "      <th>3</th>\n",
       "      <td>79412a691165763d</td>\n",
       "      <td>fuck this motherfucker asshole \n",
       "\n",
       "This asshole ...</td>\n",
       "      <td>1</td>\n",
       "      <td>1</td>\n",
       "      <td>1</td>\n",
       "      <td>0</td>\n",
       "      <td>1</td>\n",
       "      <td>0</td>\n",
       "      <td>Your task is to analyze comments from the web...</td>\n",
       "      <td>{\"toxic\":1,\"severe_toxic\":1,\"obscene\":1,\"threa...</td>\n",
       "    </tr>\n",
       "    <tr>\n",
       "      <th>4</th>\n",
       "      <td>4728162570943035</td>\n",
       "      <td>:Addendum: I have just returned to find my Use...</td>\n",
       "      <td>1</td>\n",
       "      <td>0</td>\n",
       "      <td>1</td>\n",
       "      <td>0</td>\n",
       "      <td>1</td>\n",
       "      <td>0</td>\n",
       "      <td>Your task is to analyze comments from the web...</td>\n",
       "      <td>{\"toxic\":1,\"severe_toxic\":0,\"obscene\":1,\"threa...</td>\n",
       "    </tr>\n",
       "    <tr>\n",
       "      <th>5</th>\n",
       "      <td>a96dbeef4bb6b1be</td>\n",
       "      <td>Contd \n",
       "\n",
       "scoundrel the block on padmalskhmi was...</td>\n",
       "      <td>0</td>\n",
       "      <td>0</td>\n",
       "      <td>0</td>\n",
       "      <td>1</td>\n",
       "      <td>1</td>\n",
       "      <td>0</td>\n",
       "      <td>Your task is to analyze comments from the web...</td>\n",
       "      <td>{\"toxic\":0,\"severe_toxic\":0,\"obscene\":0,\"threa...</td>\n",
       "    </tr>\n",
       "    <tr>\n",
       "      <th>6</th>\n",
       "      <td>779a3066bb1bf2d7</td>\n",
       "      <td>Fuck you people are dumb.... Facebook IS a pub...</td>\n",
       "      <td>1</td>\n",
       "      <td>0</td>\n",
       "      <td>1</td>\n",
       "      <td>0</td>\n",
       "      <td>1</td>\n",
       "      <td>0</td>\n",
       "      <td>Your task is to analyze comments from the web...</td>\n",
       "      <td>{\"toxic\":1,\"severe_toxic\":0,\"obscene\":1,\"threa...</td>\n",
       "    </tr>\n",
       "    <tr>\n",
       "      <th>7</th>\n",
       "      <td>57f9d99c423cfa09</td>\n",
       "      <td>thanks for deleting my page you fucking cock s...</td>\n",
       "      <td>1</td>\n",
       "      <td>1</td>\n",
       "      <td>1</td>\n",
       "      <td>1</td>\n",
       "      <td>1</td>\n",
       "      <td>0</td>\n",
       "      <td>Your task is to analyze comments from the web...</td>\n",
       "      <td>{\"toxic\":1,\"severe_toxic\":1,\"obscene\":1,\"threa...</td>\n",
       "    </tr>\n",
       "    <tr>\n",
       "      <th>8</th>\n",
       "      <td>faebd256d585a0ee</td>\n",
       "      <td>Mexican dickhead \n",
       "\n",
       " You and your family should...</td>\n",
       "      <td>1</td>\n",
       "      <td>0</td>\n",
       "      <td>1</td>\n",
       "      <td>1</td>\n",
       "      <td>1</td>\n",
       "      <td>1</td>\n",
       "      <td>Your task is to analyze comments from the web...</td>\n",
       "      <td>{\"toxic\":1,\"severe_toxic\":0,\"obscene\":1,\"threa...</td>\n",
       "    </tr>\n",
       "    <tr>\n",
       "      <th>9</th>\n",
       "      <td>2a2805dc384e9b60</td>\n",
       "      <td>Also, I Ohnoitsjamie am a homosexual who likes...</td>\n",
       "      <td>1</td>\n",
       "      <td>1</td>\n",
       "      <td>1</td>\n",
       "      <td>0</td>\n",
       "      <td>0</td>\n",
       "      <td>1</td>\n",
       "      <td>Your task is to analyze comments from the web...</td>\n",
       "      <td>{\"toxic\":1,\"severe_toxic\":1,\"obscene\":1,\"threa...</td>\n",
       "    </tr>\n",
       "    <tr>\n",
       "      <th>10</th>\n",
       "      <td>8bc9704335d6e58c</td>\n",
       "      <td>== STUPID SITE == \n",
       "\n",
       " THIS IS THE STUPIDEST FUC...</td>\n",
       "      <td>1</td>\n",
       "      <td>0</td>\n",
       "      <td>1</td>\n",
       "      <td>0</td>\n",
       "      <td>1</td>\n",
       "      <td>0</td>\n",
       "      <td>Your task is to analyze comments from the web...</td>\n",
       "      <td>{\"toxic\":1,\"severe_toxic\":0,\"obscene\":1,\"threa...</td>\n",
       "    </tr>\n",
       "    <tr>\n",
       "      <th>11</th>\n",
       "      <td>dc3221f167a7d3f3</td>\n",
       "      <td>- I agree with the specific conditions.</td>\n",
       "      <td>0</td>\n",
       "      <td>0</td>\n",
       "      <td>0</td>\n",
       "      <td>0</td>\n",
       "      <td>0</td>\n",
       "      <td>0</td>\n",
       "      <td>Your task is to analyze comments from the web...</td>\n",
       "      <td>{\"toxic\":0,\"severe_toxic\":0,\"obscene\":0,\"threa...</td>\n",
       "    </tr>\n",
       "    <tr>\n",
       "      <th>12</th>\n",
       "      <td>d99a8dc9ab0c7e32</td>\n",
       "      <td>Just be quiet. \n",
       "\n",
       "Who the fuck are you to tell ...</td>\n",
       "      <td>1</td>\n",
       "      <td>1</td>\n",
       "      <td>1</td>\n",
       "      <td>0</td>\n",
       "      <td>0</td>\n",
       "      <td>0</td>\n",
       "      <td>Your task is to analyze comments from the web...</td>\n",
       "      <td>{\"toxic\":1,\"severe_toxic\":1,\"obscene\":1,\"threa...</td>\n",
       "    </tr>\n",
       "    <tr>\n",
       "      <th>13</th>\n",
       "      <td>2091f9acb4fe07eb</td>\n",
       "      <td>Someguy please help block/unblock, thank you. ...</td>\n",
       "      <td>0</td>\n",
       "      <td>0</td>\n",
       "      <td>0</td>\n",
       "      <td>0</td>\n",
       "      <td>0</td>\n",
       "      <td>0</td>\n",
       "      <td>Your task is to analyze comments from the web...</td>\n",
       "      <td>{\"toxic\":0,\"severe_toxic\":0,\"obscene\":0,\"threa...</td>\n",
       "    </tr>\n",
       "    <tr>\n",
       "      <th>14</th>\n",
       "      <td>e56efae2d376b646</td>\n",
       "      <td>sarah palin is a fucking bitch \n",
       "\n",
       "this stupid n...</td>\n",
       "      <td>1</td>\n",
       "      <td>0</td>\n",
       "      <td>1</td>\n",
       "      <td>1</td>\n",
       "      <td>1</td>\n",
       "      <td>1</td>\n",
       "      <td>Your task is to analyze comments from the web...</td>\n",
       "      <td>{\"toxic\":1,\"severe_toxic\":0,\"obscene\":1,\"threa...</td>\n",
       "    </tr>\n",
       "    <tr>\n",
       "      <th>15</th>\n",
       "      <td>9a6ff7868ef4563d</td>\n",
       "      <td>FUCK ALL YOU CAMEL JOCKEY PUSSY LICKING DINK L...</td>\n",
       "      <td>1</td>\n",
       "      <td>1</td>\n",
       "      <td>1</td>\n",
       "      <td>0</td>\n",
       "      <td>1</td>\n",
       "      <td>0</td>\n",
       "      <td>Your task is to analyze comments from the web...</td>\n",
       "      <td>{\"toxic\":1,\"severe_toxic\":1,\"obscene\":1,\"threa...</td>\n",
       "    </tr>\n",
       "    <tr>\n",
       "      <th>16</th>\n",
       "      <td>e19367f9304454eb</td>\n",
       "      <td>\" \n",
       "\n",
       " :There may be POV issues with showing an ...</td>\n",
       "      <td>0</td>\n",
       "      <td>0</td>\n",
       "      <td>0</td>\n",
       "      <td>0</td>\n",
       "      <td>0</td>\n",
       "      <td>0</td>\n",
       "      <td>Your task is to analyze comments from the web...</td>\n",
       "      <td>{\"toxic\":0,\"severe_toxic\":0,\"obscene\":0,\"threa...</td>\n",
       "    </tr>\n",
       "    <tr>\n",
       "      <th>17</th>\n",
       "      <td>a0fad19dfafba43a</td>\n",
       "      <td>\" \n",
       "\n",
       " ==Now Nawaf== \n",
       " A few questions, since I'...</td>\n",
       "      <td>0</td>\n",
       "      <td>0</td>\n",
       "      <td>0</td>\n",
       "      <td>0</td>\n",
       "      <td>0</td>\n",
       "      <td>0</td>\n",
       "      <td>Your task is to analyze comments from the web...</td>\n",
       "      <td>{\"toxic\":0,\"severe_toxic\":0,\"obscene\":0,\"threa...</td>\n",
       "    </tr>\n",
       "    <tr>\n",
       "      <th>18</th>\n",
       "      <td>65f3e7fec1a650f3</td>\n",
       "      <td>Dahlia Tal does die \n",
       "\n",
       "Dahlia Tal does die. If ...</td>\n",
       "      <td>1</td>\n",
       "      <td>0</td>\n",
       "      <td>0</td>\n",
       "      <td>0</td>\n",
       "      <td>0</td>\n",
       "      <td>0</td>\n",
       "      <td>Your task is to analyze comments from the web...</td>\n",
       "      <td>{\"toxic\":1,\"severe_toxic\":0,\"obscene\":0,\"threa...</td>\n",
       "    </tr>\n",
       "    <tr>\n",
       "      <th>19</th>\n",
       "      <td>2b0603353a747511</td>\n",
       "      <td>I agree dude you should fuckin change shit. \n",
       " ...</td>\n",
       "      <td>1</td>\n",
       "      <td>0</td>\n",
       "      <td>1</td>\n",
       "      <td>0</td>\n",
       "      <td>1</td>\n",
       "      <td>1</td>\n",
       "      <td>Your task is to analyze comments from the web...</td>\n",
       "      <td>{\"toxic\":1,\"severe_toxic\":0,\"obscene\":1,\"threa...</td>\n",
       "    </tr>\n",
       "    <tr>\n",
       "      <th>20</th>\n",
       "      <td>6fe2b7e3904620a0</td>\n",
       "      <td>== Fair and righteous opinion == \n",
       "\n",
       " You are a ...</td>\n",
       "      <td>1</td>\n",
       "      <td>1</td>\n",
       "      <td>1</td>\n",
       "      <td>0</td>\n",
       "      <td>1</td>\n",
       "      <td>1</td>\n",
       "      <td>Your task is to analyze comments from the web...</td>\n",
       "      <td>{\"toxic\":1,\"severe_toxic\":1,\"obscene\":1,\"threa...</td>\n",
       "    </tr>\n",
       "    <tr>\n",
       "      <th>21</th>\n",
       "      <td>0598e041cdc3ea2f</td>\n",
       "      <td>Oh, I also take 1000% responsibility. I am a w...</td>\n",
       "      <td>1</td>\n",
       "      <td>0</td>\n",
       "      <td>1</td>\n",
       "      <td>1</td>\n",
       "      <td>1</td>\n",
       "      <td>0</td>\n",
       "      <td>Your task is to analyze comments from the web...</td>\n",
       "      <td>{\"toxic\":1,\"severe_toxic\":0,\"obscene\":1,\"threa...</td>\n",
       "    </tr>\n",
       "    <tr>\n",
       "      <th>22</th>\n",
       "      <td>2fb0f7fc9c52c989</td>\n",
       "      <td>Suck my dick \n",
       "\n",
       "I assure you, my semen is consi...</td>\n",
       "      <td>1</td>\n",
       "      <td>0</td>\n",
       "      <td>1</td>\n",
       "      <td>0</td>\n",
       "      <td>1</td>\n",
       "      <td>0</td>\n",
       "      <td>Your task is to analyze comments from the web...</td>\n",
       "      <td>{\"toxic\":1,\"severe_toxic\":0,\"obscene\":1,\"threa...</td>\n",
       "    </tr>\n",
       "    <tr>\n",
       "      <th>23</th>\n",
       "      <td>bf8b1e93498277af</td>\n",
       "      <td>stupid sit i will behead you</td>\n",
       "      <td>1</td>\n",
       "      <td>1</td>\n",
       "      <td>1</td>\n",
       "      <td>1</td>\n",
       "      <td>1</td>\n",
       "      <td>0</td>\n",
       "      <td>Your task is to analyze comments from the web...</td>\n",
       "      <td>{\"toxic\":1,\"severe_toxic\":1,\"obscene\":1,\"threa...</td>\n",
       "    </tr>\n",
       "    <tr>\n",
       "      <th>24</th>\n",
       "      <td>a97eabb625eb4f37</td>\n",
       "      <td>Rklaton is faggot and loves to suck cock and g...</td>\n",
       "      <td>1</td>\n",
       "      <td>0</td>\n",
       "      <td>1</td>\n",
       "      <td>0</td>\n",
       "      <td>1</td>\n",
       "      <td>1</td>\n",
       "      <td>Your task is to analyze comments from the web...</td>\n",
       "      <td>{\"toxic\":1,\"severe_toxic\":0,\"obscene\":1,\"threa...</td>\n",
       "    </tr>\n",
       "    <tr>\n",
       "      <th>25</th>\n",
       "      <td>435eaff72eefb45f</td>\n",
       "      <td>\" 2006 (UTC)\n",
       "\n",
       "I agree with the \"\"it's like dif...</td>\n",
       "      <td>0</td>\n",
       "      <td>0</td>\n",
       "      <td>0</td>\n",
       "      <td>0</td>\n",
       "      <td>0</td>\n",
       "      <td>0</td>\n",
       "      <td>Your task is to analyze comments from the web...</td>\n",
       "      <td>{\"toxic\":0,\"severe_toxic\":0,\"obscene\":0,\"threa...</td>\n",
       "    </tr>\n",
       "    <tr>\n",
       "      <th>26</th>\n",
       "      <td>9362f7009061c7c9</td>\n",
       "      <td>\" \n",
       " fuck you i'm pissed off that you say i sho...</td>\n",
       "      <td>1</td>\n",
       "      <td>0</td>\n",
       "      <td>1</td>\n",
       "      <td>0</td>\n",
       "      <td>1</td>\n",
       "      <td>0</td>\n",
       "      <td>Your task is to analyze comments from the web...</td>\n",
       "      <td>{\"toxic\":1,\"severe_toxic\":0,\"obscene\":1,\"threa...</td>\n",
       "    </tr>\n",
       "    <tr>\n",
       "      <th>27</th>\n",
       "      <td>ab10e624635246a3</td>\n",
       "      <td>\"\n",
       " I don't want to surf to 5 different pages t...</td>\n",
       "      <td>0</td>\n",
       "      <td>0</td>\n",
       "      <td>0</td>\n",
       "      <td>0</td>\n",
       "      <td>0</td>\n",
       "      <td>0</td>\n",
       "      <td>Your task is to analyze comments from the web...</td>\n",
       "      <td>{\"toxic\":0,\"severe_toxic\":0,\"obscene\":0,\"threa...</td>\n",
       "    </tr>\n",
       "  </tbody>\n",
       "</table>\n",
       "</div>"
      ],
      "text/plain": [
       "                  id                                       comment_text  \\\n",
       "0   83bda5fa72211a52  :::you can't get no satisfaction and the artic...   \n",
       "1   2f784baa117cfef7  \"well wat i think of halo 4 is the best game e...   \n",
       "2   fc84b525b96f5bc5  No he really is a stinking gay rights activist...   \n",
       "3   79412a691165763d  fuck this motherfucker asshole \n",
       "\n",
       "This asshole ...   \n",
       "4   4728162570943035  :Addendum: I have just returned to find my Use...   \n",
       "5   a96dbeef4bb6b1be  Contd \n",
       "\n",
       "scoundrel the block on padmalskhmi was...   \n",
       "6   779a3066bb1bf2d7  Fuck you people are dumb.... Facebook IS a pub...   \n",
       "7   57f9d99c423cfa09  thanks for deleting my page you fucking cock s...   \n",
       "8   faebd256d585a0ee  Mexican dickhead \n",
       "\n",
       " You and your family should...   \n",
       "9   2a2805dc384e9b60  Also, I Ohnoitsjamie am a homosexual who likes...   \n",
       "10  8bc9704335d6e58c  == STUPID SITE == \n",
       "\n",
       " THIS IS THE STUPIDEST FUC...   \n",
       "11  dc3221f167a7d3f3            - I agree with the specific conditions.   \n",
       "12  d99a8dc9ab0c7e32  Just be quiet. \n",
       "\n",
       "Who the fuck are you to tell ...   \n",
       "13  2091f9acb4fe07eb  Someguy please help block/unblock, thank you. ...   \n",
       "14  e56efae2d376b646  sarah palin is a fucking bitch \n",
       "\n",
       "this stupid n...   \n",
       "15  9a6ff7868ef4563d  FUCK ALL YOU CAMEL JOCKEY PUSSY LICKING DINK L...   \n",
       "16  e19367f9304454eb  \" \n",
       "\n",
       " :There may be POV issues with showing an ...   \n",
       "17  a0fad19dfafba43a  \" \n",
       "\n",
       " ==Now Nawaf== \n",
       " A few questions, since I'...   \n",
       "18  65f3e7fec1a650f3  Dahlia Tal does die \n",
       "\n",
       "Dahlia Tal does die. If ...   \n",
       "19  2b0603353a747511  I agree dude you should fuckin change shit. \n",
       " ...   \n",
       "20  6fe2b7e3904620a0  == Fair and righteous opinion == \n",
       "\n",
       " You are a ...   \n",
       "21  0598e041cdc3ea2f  Oh, I also take 1000% responsibility. I am a w...   \n",
       "22  2fb0f7fc9c52c989  Suck my dick \n",
       "\n",
       "I assure you, my semen is consi...   \n",
       "23  bf8b1e93498277af                       stupid sit i will behead you   \n",
       "24  a97eabb625eb4f37  Rklaton is faggot and loves to suck cock and g...   \n",
       "25  435eaff72eefb45f  \" 2006 (UTC)\n",
       "\n",
       "I agree with the \"\"it's like dif...   \n",
       "26  9362f7009061c7c9  \" \n",
       " fuck you i'm pissed off that you say i sho...   \n",
       "27  ab10e624635246a3  \"\n",
       " I don't want to surf to 5 different pages t...   \n",
       "\n",
       "    toxic  severe_toxic  obscene  threat  insult  identity_hate  \\\n",
       "0       0             0        0       0       0              0   \n",
       "1       1             0        0       0       0              0   \n",
       "2       1             0        0       0       1              1   \n",
       "3       1             1        1       0       1              0   \n",
       "4       1             0        1       0       1              0   \n",
       "5       0             0        0       1       1              0   \n",
       "6       1             0        1       0       1              0   \n",
       "7       1             1        1       1       1              0   \n",
       "8       1             0        1       1       1              1   \n",
       "9       1             1        1       0       0              1   \n",
       "10      1             0        1       0       1              0   \n",
       "11      0             0        0       0       0              0   \n",
       "12      1             1        1       0       0              0   \n",
       "13      0             0        0       0       0              0   \n",
       "14      1             0        1       1       1              1   \n",
       "15      1             1        1       0       1              0   \n",
       "16      0             0        0       0       0              0   \n",
       "17      0             0        0       0       0              0   \n",
       "18      1             0        0       0       0              0   \n",
       "19      1             0        1       0       1              1   \n",
       "20      1             1        1       0       1              1   \n",
       "21      1             0        1       1       1              0   \n",
       "22      1             0        1       0       1              0   \n",
       "23      1             1        1       1       1              0   \n",
       "24      1             0        1       0       1              1   \n",
       "25      0             0        0       0       0              0   \n",
       "26      1             0        1       0       1              0   \n",
       "27      0             0        0       0       0              0   \n",
       "\n",
       "                                         input_prompt  \\\n",
       "0   \n",
       "Your task is to analyze comments from the web...   \n",
       "1   \n",
       "Your task is to analyze comments from the web...   \n",
       "2   \n",
       "Your task is to analyze comments from the web...   \n",
       "3   \n",
       "Your task is to analyze comments from the web...   \n",
       "4   \n",
       "Your task is to analyze comments from the web...   \n",
       "5   \n",
       "Your task is to analyze comments from the web...   \n",
       "6   \n",
       "Your task is to analyze comments from the web...   \n",
       "7   \n",
       "Your task is to analyze comments from the web...   \n",
       "8   \n",
       "Your task is to analyze comments from the web...   \n",
       "9   \n",
       "Your task is to analyze comments from the web...   \n",
       "10  \n",
       "Your task is to analyze comments from the web...   \n",
       "11  \n",
       "Your task is to analyze comments from the web...   \n",
       "12  \n",
       "Your task is to analyze comments from the web...   \n",
       "13  \n",
       "Your task is to analyze comments from the web...   \n",
       "14  \n",
       "Your task is to analyze comments from the web...   \n",
       "15  \n",
       "Your task is to analyze comments from the web...   \n",
       "16  \n",
       "Your task is to analyze comments from the web...   \n",
       "17  \n",
       "Your task is to analyze comments from the web...   \n",
       "18  \n",
       "Your task is to analyze comments from the web...   \n",
       "19  \n",
       "Your task is to analyze comments from the web...   \n",
       "20  \n",
       "Your task is to analyze comments from the web...   \n",
       "21  \n",
       "Your task is to analyze comments from the web...   \n",
       "22  \n",
       "Your task is to analyze comments from the web...   \n",
       "23  \n",
       "Your task is to analyze comments from the web...   \n",
       "24  \n",
       "Your task is to analyze comments from the web...   \n",
       "25  \n",
       "Your task is to analyze comments from the web...   \n",
       "26  \n",
       "Your task is to analyze comments from the web...   \n",
       "27  \n",
       "Your task is to analyze comments from the web...   \n",
       "\n",
       "                                expected_model_output  \n",
       "0   {\"toxic\":0,\"severe_toxic\":0,\"obscene\":0,\"threa...  \n",
       "1   {\"toxic\":1,\"severe_toxic\":0,\"obscene\":0,\"threa...  \n",
       "2   {\"toxic\":1,\"severe_toxic\":0,\"obscene\":0,\"threa...  \n",
       "3   {\"toxic\":1,\"severe_toxic\":1,\"obscene\":1,\"threa...  \n",
       "4   {\"toxic\":1,\"severe_toxic\":0,\"obscene\":1,\"threa...  \n",
       "5   {\"toxic\":0,\"severe_toxic\":0,\"obscene\":0,\"threa...  \n",
       "6   {\"toxic\":1,\"severe_toxic\":0,\"obscene\":1,\"threa...  \n",
       "7   {\"toxic\":1,\"severe_toxic\":1,\"obscene\":1,\"threa...  \n",
       "8   {\"toxic\":1,\"severe_toxic\":0,\"obscene\":1,\"threa...  \n",
       "9   {\"toxic\":1,\"severe_toxic\":1,\"obscene\":1,\"threa...  \n",
       "10  {\"toxic\":1,\"severe_toxic\":0,\"obscene\":1,\"threa...  \n",
       "11  {\"toxic\":0,\"severe_toxic\":0,\"obscene\":0,\"threa...  \n",
       "12  {\"toxic\":1,\"severe_toxic\":1,\"obscene\":1,\"threa...  \n",
       "13  {\"toxic\":0,\"severe_toxic\":0,\"obscene\":0,\"threa...  \n",
       "14  {\"toxic\":1,\"severe_toxic\":0,\"obscene\":1,\"threa...  \n",
       "15  {\"toxic\":1,\"severe_toxic\":1,\"obscene\":1,\"threa...  \n",
       "16  {\"toxic\":0,\"severe_toxic\":0,\"obscene\":0,\"threa...  \n",
       "17  {\"toxic\":0,\"severe_toxic\":0,\"obscene\":0,\"threa...  \n",
       "18  {\"toxic\":1,\"severe_toxic\":0,\"obscene\":0,\"threa...  \n",
       "19  {\"toxic\":1,\"severe_toxic\":0,\"obscene\":1,\"threa...  \n",
       "20  {\"toxic\":1,\"severe_toxic\":1,\"obscene\":1,\"threa...  \n",
       "21  {\"toxic\":1,\"severe_toxic\":0,\"obscene\":1,\"threa...  \n",
       "22  {\"toxic\":1,\"severe_toxic\":0,\"obscene\":1,\"threa...  \n",
       "23  {\"toxic\":1,\"severe_toxic\":1,\"obscene\":1,\"threa...  \n",
       "24  {\"toxic\":1,\"severe_toxic\":0,\"obscene\":1,\"threa...  \n",
       "25  {\"toxic\":0,\"severe_toxic\":0,\"obscene\":0,\"threa...  \n",
       "26  {\"toxic\":1,\"severe_toxic\":0,\"obscene\":1,\"threa...  \n",
       "27  {\"toxic\":0,\"severe_toxic\":0,\"obscene\":0,\"threa...  "
      ]
     },
     "execution_count": 50,
     "metadata": {},
     "output_type": "execute_result"
    }
   ],
   "source": [
    "fine_tuning_dataset_val"
   ]
  },
  {
   "cell_type": "code",
   "execution_count": null,
   "metadata": {
    "tags": []
   },
   "outputs": [],
   "source": [
    "def generate_records(df: pd.DataFrame, system_instructions: List) -> List:\n",
    "    \n",
    "    records = []\n",
    "\n",
    "    for index, row in df.iterrows():\n",
    "\n",
    "        input_prompt = row['input_prompt']\n",
    "        expected_model_output = row['expected_model_output']\n",
    "\n",
    "        record = {\n",
    "          \"systemInstruction\": {\n",
    "            \"role\": \"system\",\n",
    "            \"parts\": [ { \"text\": system_instruction } for system_instruction in system_instructions ]\n",
    "          },\n",
    "          \"contents\": [\n",
    "            { \"role\": \"user\", \"parts\": [ { \"text\": input_prompt } ] },\n",
    "            { \"role\": \"model\", \"parts\": [ { \"text\": expected_model_output } ] } ] \n",
    "        }\n",
    "\n",
    "        records.append(record)\n",
    "        \n",
    "    return records"
   ]
  },
  {
   "cell_type": "code",
   "execution_count": null,
   "metadata": {
    "tags": []
   },
   "outputs": [],
   "source": [
    "train_records = generate_records(fine_tuning_dataset_train, system_instructions)\n",
    "val_records = generate_records(fine_tuning_dataset_val, system_instructions)"
   ]
  },
  {
   "cell_type": "code",
   "execution_count": 53,
   "metadata": {
    "tags": []
   },
   "outputs": [
    {
     "name": "stdout",
     "output_type": "stream",
     "text": [
      "Fine-tuning train dataset size:  112\n",
      "Fine-tuning validation dataset size:  28\n"
     ]
    }
   ],
   "source": [
    "print(\"Fine-tuning train dataset size: \", len(train_records))\n",
    "print(\"Fine-tuning validation dataset size: \", len(val_records))"
   ]
  },
  {
   "cell_type": "markdown",
   "metadata": {},
   "source": [
    "#### Upload to GCS"
   ]
  },
  {
   "cell_type": "code",
   "execution_count": null,
   "metadata": {
    "tags": []
   },
   "outputs": [],
   "source": [
    "BUCKET_NAME = \"<BUCKET_NAME>\"\n",
    "\n",
    "TRAIN_FILE_NAME = \"fine-tuning-train-dataset.jsonl\"\n",
    "VAL_FILE_NAME = \"fine-tuning-val-dataset.jsonl\""
   ]
  },
  {
   "cell_type": "code",
   "execution_count": null,
   "metadata": {
    "tags": []
   },
   "outputs": [],
   "source": [
    "def upload_gcs(records: List, file_name: str, bucket_name: str = BUCKET_NAME, project_id: str = PROJECT_ID) -> str:\n",
    "    \n",
    "    storage_client = storage.Client(project=project_id)\n",
    "    bucket = storage_client.bucket(bucket_name)\n",
    "    blob = bucket.blob(file_name)\n",
    "\n",
    "    jsonl_data = \"\\n\".join(json.dumps(item) for item in records)\n",
    "    blob.upload_from_string(jsonl_data)\n",
    "    \n",
    "    uri = f\"gs://{bucket_name}/{file_name}\"\n",
    "\n",
    "    return uri"
   ]
  },
  {
   "cell_type": "code",
   "execution_count": null,
   "metadata": {
    "tags": []
   },
   "outputs": [],
   "source": [
    "uri_train = upload_gcs(train_records, TRAIN_FILE_NAME)\n",
    "uri_val = upload_gcs(val_records, VAL_FILE_NAME)"
   ]
  },
  {
   "cell_type": "markdown",
   "metadata": {},
   "source": [
    "#### Run Vertex AI Supervised Fine Tuning job"
   ]
  },
  {
   "cell_type": "code",
   "execution_count": null,
   "metadata": {
    "tags": []
   },
   "outputs": [],
   "source": [
    "client = genai.Client(\n",
    "    vertexai=True,\n",
    "    project=PROJECT_ID,\n",
    "    location=\"us-central1\"\n",
    ")"
   ]
  },
  {
   "cell_type": "code",
   "execution_count": null,
   "metadata": {
    "tags": []
   },
   "outputs": [],
   "source": [
    "GEMINI_MODEL = \"gemini-2.5-flash\""
   ]
  },
  {
   "cell_type": "code",
   "execution_count": null,
   "metadata": {
    "tags": []
   },
   "outputs": [],
   "source": [
    "tuning_job = client.tunings.tune(\n",
    "    base_model = GEMINI_MODEL,\n",
    "    training_dataset = types.TuningDataset(gcs_uri = uri_train),\n",
    "    config=types.CreateTuningJobConfig(\n",
    "        epoch_count= 8,\n",
    "        tuned_model_display_name=\"tuned_gemini_2_5_flash\",\n",
    "        adapter_size = \"ADAPTER_SIZE_FOUR\",\n",
    "        learning_rate_multiplier = 0.8,\n",
    "        validation_dataset = types.TuningDataset(gcs_uri = uri_val)\n",
    "    )\n",
    ")"
   ]
  },
  {
   "cell_type": "code",
   "execution_count": null,
   "metadata": {
    "tags": []
   },
   "outputs": [],
   "source": [
    "while not tuning_job.has_ended:\n",
    "    time.sleep(30)\n",
    "    tuning_job = client.tunings.get(name=tuning_job.name)"
   ]
  },
  {
   "cell_type": "code",
   "execution_count": null,
   "metadata": {
    "tags": []
   },
   "outputs": [],
   "source": [
    "print(tuning_job.tuned_model.model)\n",
    "print(tuning_job.tuned_model.endpoint)\n",
    "print(tuning_job.experiment)"
   ]
  },
  {
   "cell_type": "markdown",
   "metadata": {
    "id": "Fx4lsNqMorJ-"
   },
   "source": [
    "## Run predictions against the test dataset using Gemini (fine-tuned)"
   ]
  },
  {
   "cell_type": "code",
   "execution_count": null,
   "metadata": {
    "tags": []
   },
   "outputs": [],
   "source": [
    "input_remote_function_tuned = test_df[[\"input_prompt\"]].assign(model_name=tuning_job.tuned_model.endpoint)"
   ]
  },
  {
   "cell_type": "code",
   "execution_count": null,
   "metadata": {
    "tags": []
   },
   "outputs": [],
   "source": [
    "predictions_tuned = test_df.assign(pred=input_remote_function_tuned.apply(generate_predictions, axis=1))"
   ]
  },
  {
   "cell_type": "code",
   "execution_count": null,
   "metadata": {
    "tags": []
   },
   "outputs": [],
   "source": [
    "predictions_tuned.to_gbq(destination_table=f\"{PROJECT_ID}.{DATASET_ID}.toxicity_predictions_finetuned_raw\", if_exists=\"replace\")"
   ]
  },
  {
   "cell_type": "code",
   "execution_count": null,
   "metadata": {
    "tags": []
   },
   "outputs": [],
   "source": [
    "extract_query = f\"CREATE OR REPLACE TABLE {PROJECT_ID}.{DATASET_ID}.toxicity_predictions_finetuned AS (SELECT *, \" + \"\".join([f\"CAST(JSON_EXTRACT(pred, '$.{col}') AS INT64) AS predicted_{col},\" for col in classification_columns]) + f\" FROM {PROJECT_ID}.{DATASET_ID}.toxicity_predictions_finetuned_raw)\""
   ]
  },
  {
   "cell_type": "code",
   "execution_count": null,
   "metadata": {
    "tags": []
   },
   "outputs": [],
   "source": [
    "%%bigquery\n",
    "$extract_query"
   ]
  },
  {
   "cell_type": "code",
   "execution_count": null,
   "metadata": {
    "tags": []
   },
   "outputs": [],
   "source": [
    "toxicity_predictions_tuned = bpd.read_gbq(f\"{PROJECT_ID}.{DATASET_ID}.toxicity_predictions_finetuned\", use_cache=False)"
   ]
  },
  {
   "cell_type": "markdown",
   "metadata": {},
   "source": [
    "### Evaluate results"
   ]
  },
  {
   "cell_type": "code",
   "execution_count": null,
   "metadata": {
    "tags": []
   },
   "outputs": [],
   "source": [
    "recall_scores_tuned = compute_recall_scores(toxicity_predictions_tuned)"
   ]
  },
  {
   "cell_type": "code",
   "execution_count": null,
   "metadata": {
    "tags": []
   },
   "outputs": [],
   "source": [
    "recall_scores_tuned"
   ]
  },
  {
   "cell_type": "code",
   "execution_count": null,
   "metadata": {
    "tags": []
   },
   "outputs": [],
   "source": [
    "precision_scores_tuned = compute_precision_scores(toxicity_predictions_tuned)"
   ]
  },
  {
   "cell_type": "code",
   "execution_count": null,
   "metadata": {
    "tags": []
   },
   "outputs": [],
   "source": [
    "precision_scores_tuned"
   ]
  },
  {
   "cell_type": "code",
   "execution_count": null,
   "metadata": {
    "tags": []
   },
   "outputs": [],
   "source": [
    "f1_scores_tuned = compute_f1_scores(toxicity_predictions_tuned)"
   ]
  },
  {
   "cell_type": "code",
   "execution_count": null,
   "metadata": {
    "tags": []
   },
   "outputs": [],
   "source": [
    "f1_scores_tuned"
   ]
  },
  {
   "cell_type": "markdown",
   "metadata": {},
   "source": [
    "## Prediction results difference between Gemini vs Gemini Fine Tuned"
   ]
  },
  {
   "cell_type": "code",
   "execution_count": null,
   "metadata": {
    "tags": []
   },
   "outputs": [],
   "source": [
    "def plot_differences(title, gemini_scores, gemini_finetuned_scores):\n",
    "    \n",
    "    categories = list(gemini_scores.keys())\n",
    "    \n",
    "    gemini_scores = [np.mean(list(v.values())) for v in gemini_scores.values()]\n",
    "    gemini_finetuned_scores = [np.mean(list(v.values())) for v in gemini_finetuned_scores.values()]\n",
    "\n",
    "    differences = [m1 - m2 for m1, m2 in zip(gemini_scores, gemini_finetuned_scores)] \n",
    "\n",
    "    bar_width = 0.35\n",
    "    index = np.arange(len(categories))\n",
    "\n",
    "    fig, ax = plt.subplots()\n",
    "    rects1 = ax.bar(index, gemini_scores, bar_width, label='Gemini 2.5 Flash')\n",
    "    rects2 = ax.bar(index + bar_width, gemini_finetuned_scores, bar_width, label='Gemini 2.5 Flash Fine Tuned')\n",
    "\n",
    "    ax.set_xlabel('Classification')\n",
    "    ax.set_ylabel('Score value')\n",
    "    ax.set_title(title)\n",
    "    ax.set_xticks(index + bar_width / 2)\n",
    "    ax.set_xticklabels(categories, rotation=45, ha='right')\n",
    "    ax.legend()\n",
    "\n",
    "    fig.tight_layout()\n",
    "    plt.show()"
   ]
  },
  {
   "cell_type": "markdown",
   "metadata": {},
   "source": [
    "#### Precision Score"
   ]
  },
  {
   "cell_type": "code",
   "execution_count": 93,
   "metadata": {
    "tags": []
   },
   "outputs": [
    {
     "data": {
      "image/png": "[encoded data removed]",
      "text/plain": [
       "<Figure size 640x480 with 1 Axes>"
      ]
     },
     "metadata": {},
     "output_type": "display_data"
    }
   ],
   "source": [
    "plot_differences(\"Precision score differences\", precision_scores, precision_scores_tuned)"
   ]
  },
  {
   "cell_type": "markdown",
   "metadata": {},
   "source": [
    "#### Recall Score"
   ]
  },
  {
   "cell_type": "code",
   "execution_count": 95,
   "metadata": {
    "tags": []
   },
   "outputs": [
    {
     "data": {
      "image/png": "[encoded data removed]",
      "text/plain": [
       "<Figure size 640x480 with 1 Axes>"
      ]
     },
     "metadata": {},
     "output_type": "display_data"
    }
   ],
   "source": [
    "plot_differences(\"Recall differences\", recall_scores, recall_scores_tuned)"
   ]
  },
  {
   "cell_type": "markdown",
   "metadata": {},
   "source": [
    "#### F1 Score"
   ]
  },
  {
   "cell_type": "code",
   "execution_count": 94,
   "metadata": {
    "tags": []
   },
   "outputs": [
    {
     "data": {
      "image/png": "[encoded data removed]",
      "text/plain": [
       "<Figure size 640x480 with 1 Axes>"
      ]
     },
     "metadata": {},
     "output_type": "display_data"
    }
   ],
   "source": [
    "plot_differences(\"F1 Score differences\", f1_scores, f1_scores_tuned)"
   ]
  }
 ],
 "metadata": {
  "colab": {
   "provenance": [],
   "toc_visible": true
  },
  "environment": {
   "kernel": "conda-base-py",
   "name": "workbench-notebooks.m126",
   "type": "gcloud",
   "uri": "us-docker.pkg.dev/deeplearning-platform-release/gcr.io/workbench-notebooks:m126"
  },
  "kernelspec": {
   "display_name": "Python 3 (ipykernel) (Local)",
   "language": "python",
   "name": "conda-base-py"
  },
  "language_info": {
   "codemirror_mode": {
    "name": "ipython",
    "version": 3
   },
   "file_extension": ".py",
   "mimetype": "text/x-python",
   "name": "python",
   "nbconvert_exporter": "python",
   "pygments_lexer": "ipython3",
   "version": "3.10.15"
  }
 },
 "nbformat": 4,
 "nbformat_minor": 4
}
