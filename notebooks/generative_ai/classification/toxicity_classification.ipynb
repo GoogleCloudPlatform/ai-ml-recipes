{
 "cells": [
  {
   "cell_type": "code",
   "execution_count": 1,
   "metadata": {
    "id": "ur8xi4C7S06n"
   },
   "outputs": [],
   "source": [
    "# Copyright 2024 Google LLC\n",
    "#\n",
    "# Licensed under the Apache License, Version 2.0 (the \"License\");\n",
    "# you may not use this file except in compliance with the License.\n",
    "# You may obtain a copy of the License at\n",
    "#\n",
    "#     https://www.apache.org/licenses/LICENSE-2.0\n",
    "#\n",
    "# Unless required by applicable law or agreed to in writing, software\n",
    "# distributed under the License is distributed on an \"AS IS\" BASIS,\n",
    "# WITHOUT WARRANTIES OR CONDITIONS OF ANY KIND, either express or implied.\n",
    "# See the License for the specific language governing permissions and\n",
    "# limitations under the License."
   ]
  },
  {
   "cell_type": "markdown",
   "metadata": {
    "id": "JAPoU8Sm5E6e"
   },
   "source": [
    "## Toxicity classification using Gemini fine-tuned\n"
   ]
  },
  {
   "cell_type": "markdown",
   "metadata": {
    "jupyter": {
     "outputs_hidden": false
    }
   },
   "source": [
    "<table align=\"left\">\n",
    "\n",
    "<a href=\"https://github.com/GoogleCloudPlatform/ai-ml-recipes/blob/main/notebooks/generative_ai/classification/toxicity_classification.ipynb\">\n",
    "<img src=\"https://cloud.google.com/ml-engine/images/github-logo-32px.png\" alt=\"GitHub logo\">\n",
    "View on GitHub\n",
    "</a>\n",
    "</td>\n",
    "<td>\n",
    "<a href=\"https://console.cloud.google.com/vertex-ai/workbench/deploy-notebook?download_url=https://raw.githubusercontent.com/GoogleCloudPlatform/ai-ml-recipes/main/notebooks/generative_ai/classification/toxicity_classification.ipynb\">\n",
    "<img src=\"https://lh3.googleusercontent.com/UiNooY4LUgW_oTvpsNhPpQzsstV5W8F7rYgxgGBD85cWJoLmrOzhVs_ksK_vgx40SHs7jCqkTkCk=e14-rj-sc0xffffff-h130-w32\" alt=\"Vertex AI logo\">\n",
    "Open in Vertex AI Workbench\n",
    "</a>\n",
    "</td>\n",
    "</table>"
   ]
  },
  {
   "cell_type": "markdown",
   "metadata": {
    "jupyter": {
     "outputs_hidden": false
    }
   },
   "source": [
    "## Overview\n",
    "\n",
    "This notebook shows how to classify human text toxic comments into different Responsible AI harms categories: \"toxic\", \"severe_toxic\", \"obscene\", \"threat\", \"insult\", \"identity_hate\"\n",
    "\n",
    "#### **Steps**\n",
    "Using Bigframes (BigQuery Dataframes),\n",
    "1) It reads the [```Jigsaw Multilingual Toxic Comment Classification```](https://www.kaggle.com/competitions/jigsaw-multilingual-toxic-comment-classification/data) dataset \n",
    "2) It preprocess the dataset and split into train and test for finetuning and metrics evaluation  \n",
    "3) It requests the Gemini model API to classify the text comment for the different categories (multi-label classification)  \n",
    "4) It evaluates the Precision scores and F1 scores\n",
    "5) It fine-tunes the Gemini model for this type of classification and evaluates the results against the test dataset again to compare the quality increase"
   ]
  },
  {
   "cell_type": "markdown",
   "metadata": {
    "jupyter": {
     "outputs_hidden": false
    }
   },
   "source": [
    "References:\n",
    "- [BigQuery DataFrames](https://cloud.google.com/python/docs/reference/bigframes/latest)"
   ]
  },
  {
   "cell_type": "markdown",
   "metadata": {
    "id": "aed92deeb4a0"
   },
   "source": [
    "### Costs\n",
    "\n",
    "This tutorial uses billable components of Google Cloud:\n",
    "\n",
    "* BigQuery (compute)\n",
    "* BigQuery ML\n",
    "\n",
    "Learn about [BigQuery compute pricing](https://cloud.google.com/bigquery/pricing#analysis_pricing_models)\n",
    "and [BigQuery ML pricing](https://cloud.google.com/bigquery/pricing#bqml),\n",
    "and use the [Pricing Calculator](https://cloud.google.com/products/calculator/)\n",
    "to generate a cost estimate based on your projected usage."
   ]
  },
  {
   "cell_type": "markdown",
   "metadata": {
    "id": "i7EUnXsZhAGF"
   },
   "source": [
    "## Setup"
   ]
  },
  {
   "cell_type": "code",
   "execution_count": null,
   "metadata": {
    "id": "9O0Ka4W2MNF3",
    "pycharm": {
     "is_executing": true
    },
    "tags": []
   },
   "outputs": [],
   "source": [
    "!pip install --upgrade google-cloud-bigquery google-cloud-aiplatform bigframes -q"
   ]
  },
  {
   "cell_type": "markdown",
   "metadata": {
    "id": "oDfTjfACBvJk"
   },
   "source": [
    "\n",
    "1. [Select or create a Google Cloud project](https://console.cloud.google.com/cloud-resource-manager). When you first create an account, you get a $300 credit towards your compute/storage costs.\n",
    "\n",
    "2. [Make sure that billing is enabled for your project](https://cloud.google.com/billing/docs/how-to/modify-project).\n",
    "\n",
    "3. [Enable the BigQuery API](https://console.cloud.google.com/flows/enableapi?apiid=bigquery.googleapis.com).\n",
    "\n",
    "4. If you are running this notebook locally, install the [Cloud SDK](https://cloud.google.com/sdk)."
   ]
  },
  {
   "cell_type": "markdown",
   "metadata": {
    "id": "960505627ddf"
   },
   "source": [
    "### Import dependencies"
   ]
  },
  {
   "cell_type": "code",
   "execution_count": null,
   "metadata": {},
   "outputs": [],
   "source": [
    "import json\n",
    "from typing import List\n",
    "\n",
    "import numpy as np\n",
    "import pandas as pd\n",
    "import matplotlib.pyplot as plt\n",
    "from google.cloud import bigquery, storage\n",
    "\n",
    "import bigframes.pandas as bpd\n",
    "import bigframes.bigquery as bbq\n",
    "from bigframes.dataframe import DataFrame\n",
    "from bigframes.ml.model_selection import train_test_split\n",
    "from bigframes.ml import metrics"
   ]
  },
  {
   "cell_type": "markdown",
   "metadata": {
    "jupyter": {
     "outputs_hidden": false
    }
   },
   "source": [
    "### Set BigQuery DataFrames options"
   ]
  },
  {
   "cell_type": "code",
   "execution_count": null,
   "metadata": {
    "collapsed": false,
    "jupyter": {
     "outputs_hidden": false
    },
    "tags": []
   },
   "outputs": [],
   "source": [
    "PROJECT_ID = \"<YOUR_PROJECT_ID>\"\n",
    "REGION = \"US\""
   ]
  },
  {
   "cell_type": "markdown",
   "metadata": {},
   "source": [
    "Before running, [create a BigQuery dataset](https://cloud.google.com/bigquery/docs/datasets) and a [BigQuery connection](https://cloud.google.com/bigquery/docs/create-cloud-resource-connection) and refer them below"
   ]
  },
  {
   "cell_type": "code",
   "execution_count": null,
   "metadata": {
    "tags": []
   },
   "outputs": [],
   "source": [
    "DATASET_ID = \"<YOUR_BQ_DATASET_NAME>\"\n",
    "CONNECTION_ID = \"<YOUR_BQ_CONNECTION_ID>\""
   ]
  },
  {
   "cell_type": "code",
   "execution_count": null,
   "metadata": {
    "collapsed": false,
    "jupyter": {
     "outputs_hidden": false
    },
    "tags": []
   },
   "outputs": [],
   "source": [
    "bpd.options.bigquery.project = PROJECT_ID\n",
    "bpd.options.bigquery.location = REGION\n",
    "bpd.options.display.progress_bar = None"
   ]
  },
  {
   "cell_type": "markdown",
   "metadata": {
    "id": "9EMAqR37AfLS"
   },
   "source": [
    "## Read the dataset using BigQuery Dataframes"
   ]
  },
  {
   "cell_type": "code",
   "execution_count": null,
   "metadata": {
    "id": "EDAaIwHpQCDZ",
    "tags": []
   },
   "outputs": [],
   "source": [
    "df = bpd.read_csv(\"gs://dataproc-metastore-public-binaries/jigsaw/jigsaw-toxic-comment-train.csv\")"
   ]
  },
  {
   "cell_type": "code",
   "execution_count": null,
   "metadata": {
    "tags": []
   },
   "outputs": [],
   "source": [
    "classification_columns = [\"toxic\", \"severe_toxic\", \"obscene\", \"threat\", \"insult\", \"identity_hate\"]"
   ]
  },
  {
   "cell_type": "markdown",
   "metadata": {},
   "source": [
    "## Visualize basic statistics"
   ]
  },
  {
   "cell_type": "code",
   "execution_count": 9,
   "metadata": {
    "id": "_gPD0Zn1Stdb",
    "tags": []
   },
   "outputs": [
    {
     "data": {
      "text/html": [
       "<div>\n",
       "<style scoped>\n",
       "    .dataframe tbody tr th:only-of-type {\n",
       "        vertical-align: middle;\n",
       "    }\n",
       "\n",
       "    .dataframe tbody tr th {\n",
       "        vertical-align: top;\n",
       "    }\n",
       "\n",
       "    .dataframe thead th {\n",
       "        text-align: right;\n",
       "    }\n",
       "</style>\n",
       "<table border=\"1\" class=\"dataframe\">\n",
       "  <thead>\n",
       "    <tr style=\"text-align: right;\">\n",
       "      <th></th>\n",
       "      <th>id</th>\n",
       "      <th>comment_text</th>\n",
       "      <th>toxic</th>\n",
       "      <th>severe_toxic</th>\n",
       "      <th>obscene</th>\n",
       "      <th>threat</th>\n",
       "      <th>insult</th>\n",
       "      <th>identity_hate</th>\n",
       "    </tr>\n",
       "  </thead>\n",
       "  <tbody>\n",
       "    <tr>\n",
       "      <th>0</th>\n",
       "      <td>0000997932d777bf</td>\n",
       "      <td>Explanation\n",
       "Why the edits made under my userna...</td>\n",
       "      <td>0</td>\n",
       "      <td>0</td>\n",
       "      <td>0</td>\n",
       "      <td>0</td>\n",
       "      <td>0</td>\n",
       "      <td>0</td>\n",
       "    </tr>\n",
       "    <tr>\n",
       "      <th>1</th>\n",
       "      <td>000103f0d9cfb60f</td>\n",
       "      <td>D'aww! He matches this background colour I'm s...</td>\n",
       "      <td>0</td>\n",
       "      <td>0</td>\n",
       "      <td>0</td>\n",
       "      <td>0</td>\n",
       "      <td>0</td>\n",
       "      <td>0</td>\n",
       "    </tr>\n",
       "    <tr>\n",
       "      <th>2</th>\n",
       "      <td>000113f07ec002fd</td>\n",
       "      <td>Hey man, I'm really not trying to edit war. It...</td>\n",
       "      <td>0</td>\n",
       "      <td>0</td>\n",
       "      <td>0</td>\n",
       "      <td>0</td>\n",
       "      <td>0</td>\n",
       "      <td>0</td>\n",
       "    </tr>\n",
       "    <tr>\n",
       "      <th>3</th>\n",
       "      <td>0001b41b1c6bb37e</td>\n",
       "      <td>\"\n",
       "More\n",
       "I can't make any real suggestions on im...</td>\n",
       "      <td>0</td>\n",
       "      <td>0</td>\n",
       "      <td>0</td>\n",
       "      <td>0</td>\n",
       "      <td>0</td>\n",
       "      <td>0</td>\n",
       "    </tr>\n",
       "    <tr>\n",
       "      <th>4</th>\n",
       "      <td>0001d958c54c6e35</td>\n",
       "      <td>You, sir, are my hero. Any chance you remember...</td>\n",
       "      <td>0</td>\n",
       "      <td>0</td>\n",
       "      <td>0</td>\n",
       "      <td>0</td>\n",
       "      <td>0</td>\n",
       "      <td>0</td>\n",
       "    </tr>\n",
       "    <tr>\n",
       "      <th>5</th>\n",
       "      <td>00025465d4725e87</td>\n",
       "      <td>\"\n",
       "\n",
       "Congratulations from me as well, use the to...</td>\n",
       "      <td>0</td>\n",
       "      <td>0</td>\n",
       "      <td>0</td>\n",
       "      <td>0</td>\n",
       "      <td>0</td>\n",
       "      <td>0</td>\n",
       "    </tr>\n",
       "    <tr>\n",
       "      <th>6</th>\n",
       "      <td>0002bcb3da6cb337</td>\n",
       "      <td>COCKSUCKER BEFORE YOU PISS AROUND ON MY WORK</td>\n",
       "      <td>1</td>\n",
       "      <td>1</td>\n",
       "      <td>1</td>\n",
       "      <td>0</td>\n",
       "      <td>1</td>\n",
       "      <td>0</td>\n",
       "    </tr>\n",
       "    <tr>\n",
       "      <th>7</th>\n",
       "      <td>00031b1e95af7921</td>\n",
       "      <td>Your vandalism to the Matt Shirvington article...</td>\n",
       "      <td>0</td>\n",
       "      <td>0</td>\n",
       "      <td>0</td>\n",
       "      <td>0</td>\n",
       "      <td>0</td>\n",
       "      <td>0</td>\n",
       "    </tr>\n",
       "    <tr>\n",
       "      <th>8</th>\n",
       "      <td>00037261f536c51d</td>\n",
       "      <td>Sorry if the word 'nonsense' was offensive to ...</td>\n",
       "      <td>0</td>\n",
       "      <td>0</td>\n",
       "      <td>0</td>\n",
       "      <td>0</td>\n",
       "      <td>0</td>\n",
       "      <td>0</td>\n",
       "    </tr>\n",
       "    <tr>\n",
       "      <th>9</th>\n",
       "      <td>00040093b2687caa</td>\n",
       "      <td>alignment on this subject and which are contra...</td>\n",
       "      <td>0</td>\n",
       "      <td>0</td>\n",
       "      <td>0</td>\n",
       "      <td>0</td>\n",
       "      <td>0</td>\n",
       "      <td>0</td>\n",
       "    </tr>\n",
       "  </tbody>\n",
       "</table>\n",
       "<p>10 rows × 8 columns</p>\n",
       "</div>[10 rows x 8 columns in total]"
      ],
      "text/plain": [
       "                 id                                       comment_text  toxic  \\\n",
       "0  0000997932d777bf  Explanation\n",
       "Why the edits made under my userna...      0   \n",
       "1  000103f0d9cfb60f  D'aww! He matches this background colour I'm s...      0   \n",
       "2  000113f07ec002fd  Hey man, I'm really not trying to edit war. It...      0   \n",
       "3  0001b41b1c6bb37e  \"\n",
       "More\n",
       "I can't make any real suggestions on im...      0   \n",
       "4  0001d958c54c6e35  You, sir, are my hero. Any chance you remember...      0   \n",
       "5  00025465d4725e87  \"\n",
       "\n",
       "Congratulations from me as well, use the to...      0   \n",
       "6  0002bcb3da6cb337       COCKSUCKER BEFORE YOU PISS AROUND ON MY WORK      1   \n",
       "7  00031b1e95af7921  Your vandalism to the Matt Shirvington article...      0   \n",
       "8  00037261f536c51d  Sorry if the word 'nonsense' was offensive to ...      0   \n",
       "9  00040093b2687caa  alignment on this subject and which are contra...      0   \n",
       "\n",
       "   severe_toxic  obscene  threat  insult  identity_hate  \n",
       "0             0        0       0       0              0  \n",
       "1             0        0       0       0              0  \n",
       "2             0        0       0       0              0  \n",
       "3             0        0       0       0              0  \n",
       "4             0        0       0       0              0  \n",
       "5             0        0       0       0              0  \n",
       "6             1        1       0       1              0  \n",
       "7             0        0       0       0              0  \n",
       "8             0        0       0       0              0  \n",
       "9             0        0       0       0              0  \n",
       "\n",
       "[10 rows x 8 columns]"
      ]
     },
     "execution_count": 9,
     "metadata": {},
     "output_type": "execute_result"
    }
   ],
   "source": [
    "df.head(10)"
   ]
  },
  {
   "cell_type": "code",
   "execution_count": 10,
   "metadata": {
    "tags": []
   },
   "outputs": [
    {
     "name": "stdout",
     "output_type": "stream",
     "text": [
      "Total: 223549\n"
     ]
    }
   ],
   "source": [
    "ids_count = df[\"id\"].count()\n",
    "print(f\"Total: {ids_count}\")"
   ]
  },
  {
   "cell_type": "code",
   "execution_count": null,
   "metadata": {
    "tags": []
   },
   "outputs": [],
   "source": [
    "classification_counts = df[classification_columns].sum()\n",
    "classification_counts"
   ]
  },
  {
   "cell_type": "code",
   "execution_count": null,
   "metadata": {
    "tags": []
   },
   "outputs": [],
   "source": [
    "def plot_percentages(classification_counts: DataFrame, total: int):\n",
    "    \n",
    "    percentages = (classification_counts / total) * 100\n",
    "\n",
    "    plt.figure(figsize=(10, 5))\n",
    "    plt.bar(percentages.index, percentages.values)\n",
    "    plt.title('Distribution of Classifications (Percentage)')\n",
    "    plt.xlabel('Classification Type')\n",
    "    plt.ylabel('Percentage of Occurrences')\n",
    "    plt.xticks(rotation=45)\n",
    "    plt.show()"
   ]
  },
  {
   "cell_type": "code",
   "execution_count": 13,
   "metadata": {
    "tags": []
   },
   "outputs": [
    {
     "data": {
      "image/png": "[encoded data removed]",
      "text/plain": [
       "<Figure size 1000x500 with 1 Axes>"
      ]
     },
     "metadata": {},
     "output_type": "display_data"
    }
   ],
   "source": [
    "plot_percentages(classification_counts, ids_count)"
   ]
  },
  {
   "cell_type": "markdown",
   "metadata": {
    "id": "rwPLjqW2Ajzh"
   },
   "source": [
    "## Preprocess dataset"
   ]
  },
  {
   "cell_type": "markdown",
   "metadata": {},
   "source": [
    "Sample the data with **at least** a sample_size for each column in classification_columns  \n",
    "Including a sample with rows where all classification_columns are 0   "
   ]
  },
  {
   "cell_type": "markdown",
   "metadata": {},
   "source": [
    "### Balance dataset"
   ]
  },
  {
   "cell_type": "code",
   "execution_count": null,
   "metadata": {
    "tags": []
   },
   "outputs": [],
   "source": [
    "def balance_dataset(df: DataFrame, classification_columns: List, sample_size):\n",
    "\n",
    "    sampled_dfs = []\n",
    "\n",
    "    for col in classification_columns:\n",
    "        temp_df = df[df[col] == 1].sample(sample_size)\n",
    "        sampled_dfs.append(temp_df)\n",
    "\n",
    "    all_zeroes_df = df[(df[classification_columns] == 0).all(axis=1)].sample(sample_size)\n",
    "    sampled_dfs.append(all_zeroes_df)\n",
    "\n",
    "    balanced_df = bpd.concat(sampled_dfs) # could create duplicates, dropping for simplicity\n",
    "    balanced_df.drop_duplicates()\n",
    "    \n",
    "    return balanced_df"
   ]
  },
  {
   "cell_type": "code",
   "execution_count": null,
   "metadata": {},
   "outputs": [],
   "source": [
    "SAMPLE_SIZE = 100"
   ]
  },
  {
   "cell_type": "code",
   "execution_count": null,
   "metadata": {
    "tags": []
   },
   "outputs": [],
   "source": [
    "balanced_data = balance_dataset(df, classification_columns, sample_size = SAMPLE_SIZE)"
   ]
  },
  {
   "cell_type": "code",
   "execution_count": null,
   "metadata": {
    "tags": []
   },
   "outputs": [],
   "source": [
    "def plot_distribution(classification_counts: DataFrame):\n",
    "\n",
    "    plt.figure(figsize=(10, 5))\n",
    "    plt.bar(classification_counts.index, classification_counts.values)\n",
    "    plt.title('Distribution of Classifications')\n",
    "    plt.xlabel('Classification Type')\n",
    "    plt.ylabel('Number of Occurrences')\n",
    "    plt.xticks(rotation=45)\n",
    "    plt.show()"
   ]
  },
  {
   "cell_type": "code",
   "execution_count": null,
   "metadata": {
    "tags": []
   },
   "outputs": [],
   "source": [
    "balanced_data_counts = balanced_data[classification_columns].sum()\n",
    "balanced_data_counts"
   ]
  },
  {
   "cell_type": "code",
   "execution_count": 19,
   "metadata": {
    "tags": []
   },
   "outputs": [
    {
     "name": "stdout",
     "output_type": "stream",
     "text": [
      "Total: 700\n"
     ]
    }
   ],
   "source": [
    "total = balanced_data[\"id\"].count()\n",
    "print(f\"Total: {total}\")"
   ]
  },
  {
   "cell_type": "code",
   "execution_count": 20,
   "metadata": {
    "tags": []
   },
   "outputs": [
    {
     "data": {
      "image/png": "[encoded data removed]",
      "text/plain": [
       "<Figure size 1000x500 with 1 Axes>"
      ]
     },
     "metadata": {},
     "output_type": "display_data"
    }
   ],
   "source": [
    "plot_distribution(balanced_data_counts)"
   ]
  },
  {
   "cell_type": "markdown",
   "metadata": {},
   "source": [
    "### Split dataset"
   ]
  },
  {
   "cell_type": "code",
   "execution_count": null,
   "metadata": {
    "tags": []
   },
   "outputs": [],
   "source": [
    "train_df, test_df = train_test_split(balanced_data, test_size=0.2, random_state=42)"
   ]
  },
  {
   "cell_type": "code",
   "execution_count": 22,
   "metadata": {
    "collapsed": false,
    "jupyter": {
     "outputs_hidden": false
    },
    "tags": []
   },
   "outputs": [
    {
     "name": "stdout",
     "output_type": "stream",
     "text": [
      "Training data sample size:  560\n",
      "Test data sample size:  140\n"
     ]
    }
   ],
   "source": [
    "print(\"Training data sample size: \", train_df[\"id\"].count())\n",
    "print(\"Test data sample size: \", test_df[\"id\"].count())"
   ]
  },
  {
   "cell_type": "markdown",
   "metadata": {},
   "source": [
    "#### Persist this transformed data to BigQuery to simplify the execution graph"
   ]
  },
  {
   "cell_type": "code",
   "execution_count": null,
   "metadata": {
    "tags": []
   },
   "outputs": [],
   "source": [
    "train_df.to_gbq(destination_table=f\"{PROJECT_ID}.{DATASET_ID}.toxicity_train_dataset\", if_exists=\"replace\")\n",
    "test_df.to_gbq(destination_table=f\"{PROJECT_ID}.{DATASET_ID}.toxicity_test_dataset\", if_exists=\"replace\")"
   ]
  },
  {
   "cell_type": "code",
   "execution_count": null,
   "metadata": {
    "tags": []
   },
   "outputs": [],
   "source": [
    "train_dataset = bpd.read_gbq(f\"{PROJECT_ID}.{DATASET_ID}.toxicity_train_dataset\")\n",
    "test_dataset = bpd.read_gbq(f\"{PROJECT_ID}.{DATASET_ID}.toxicity_test_dataset\")"
   ]
  },
  {
   "cell_type": "markdown",
   "metadata": {},
   "source": [
    "## Configure Gemini"
   ]
  },
  {
   "cell_type": "code",
   "execution_count": null,
   "metadata": {
    "tags": []
   },
   "outputs": [],
   "source": [
    "system_instructions = [\n",
    "    \"\"\"You are a Responsible AI specialist, and analysis harmful content with the objective of filtering such undesired content from the web via your analysis\"\"\",\n",
    "    \"\"\"You will respond only 0s or 1s in JSON format to the following fields: \"toxic\", \"severe_toxic\", \"obscene\", \"threat\", \"insult\", \"identity_hate\" \"\"\"\n",
    "]"
   ]
  },
  {
   "cell_type": "code",
   "execution_count": null,
   "metadata": {
    "tags": []
   },
   "outputs": [],
   "source": [
    "response_schema = {\n",
    "    \"type\": \"OBJECT\",\n",
    "    \"properties\": {\n",
    "        \"toxic\": {\"type\": \"INTEGER\"},\n",
    "        \"severe_toxic\": {\"type\": \"INTEGER\"},\n",
    "        \"obscene\": {\"type\": \"INTEGER\"},\n",
    "        \"threat\": {\"type\": \"INTEGER\"},\n",
    "        \"insult\": {\"type\": \"INTEGER\"},\n",
    "        \"identity_hate\": {\"type\": \"INTEGER\"}\n",
    "    },\n",
    "    \"required\": [\"toxic\", \"severe_toxic\", \"obscene\", \"threat\", \"insult\", \"identity_hate\"],\n",
    "}"
   ]
  },
  {
   "cell_type": "code",
   "execution_count": null,
   "metadata": {
    "tags": []
   },
   "outputs": [],
   "source": [
    "prompt = \"\"\"\n",
    "Your task is to analyze comments from the web and classify if the content is related to the following classifications: \"toxic\", \"severe_toxic\", \"obscene\", \"threat\", \"insult\", \"identity_hate\"\n",
    "Here is the comment you should analyze and generate the structured response with the classifications: \n",
    "\"\"\""
   ]
  },
  {
   "cell_type": "code",
   "execution_count": null,
   "metadata": {
    "tags": []
   },
   "outputs": [],
   "source": [
    "def predict(prompt, model_name):\n",
    "\n",
    "    from vertexai.generative_models import GenerativeModel, GenerationConfig, Part, Content, HarmCategory, HarmBlockThreshold\n",
    "    \n",
    "    model = GenerativeModel(model_name=model_name, system_instruction=system_instructions)\n",
    "    \n",
    "    prompt_content = Content(\n",
    "        role=\"user\",\n",
    "        parts=[Part.from_text(prompt)]\n",
    "    )\n",
    "\n",
    "    response = model.generate_content(\n",
    "        prompt_content,\n",
    "        generation_config=GenerationConfig(\n",
    "            max_output_tokens=128, temperature=0.5, response_mime_type=\"application/json\", response_schema=response_schema\n",
    "        ),\n",
    "        safety_settings={\n",
    "                HarmCategory.HARM_CATEGORY_UNSPECIFIED: HarmBlockThreshold.BLOCK_ONLY_HIGH\n",
    "        }\n",
    "    )\n",
    "    \n",
    "    return response.text"
   ]
  },
  {
   "cell_type": "code",
   "execution_count": null,
   "metadata": {
    "tags": []
   },
   "outputs": [],
   "source": [
    "@bpd.remote_function(\n",
    "    [str, str],\n",
    "    str,\n",
    "    bigquery_connection=CONNECTION_ID,\n",
    "    packages=[\"google-cloud-aiplatform\"]\n",
    ")\n",
    "def generate_predictions(prompt: str, model_name: str) -> str:\n",
    "    \n",
    "    prediction = predict(prompt, model_name)\n",
    "    \n",
    "    return prediction"
   ]
  },
  {
   "cell_type": "markdown",
   "metadata": {},
   "source": [
    "## Run predictions against the test dataset using Gemini (default)"
   ]
  },
  {
   "cell_type": "code",
   "execution_count": null,
   "metadata": {
    "tags": []
   },
   "outputs": [],
   "source": [
    "test_dataset[\"input_prompt\"] = prompt + test_dataset[\"comment_text\"]"
   ]
  },
  {
   "cell_type": "code",
   "execution_count": null,
   "metadata": {
    "tags": []
   },
   "outputs": [],
   "source": [
    "input_remote_function = test_dataset[[\"input_prompt\"]].assign(model_name=\"gemini-1.5-pro\")"
   ]
  },
  {
   "cell_type": "code",
   "execution_count": null,
   "metadata": {
    "tags": []
   },
   "outputs": [],
   "source": [
    "predictions = test_dataset.assign(pred=input_remote_function.apply(generate_predictions, axis=1))"
   ]
  },
  {
   "cell_type": "code",
   "execution_count": 34,
   "metadata": {
    "tags": []
   },
   "outputs": [
    {
     "data": {
      "text/html": [
       "<div>\n",
       "<style scoped>\n",
       "    .dataframe tbody tr th:only-of-type {\n",
       "        vertical-align: middle;\n",
       "    }\n",
       "\n",
       "    .dataframe tbody tr th {\n",
       "        vertical-align: top;\n",
       "    }\n",
       "\n",
       "    .dataframe thead th {\n",
       "        text-align: right;\n",
       "    }\n",
       "</style>\n",
       "<table border=\"1\" class=\"dataframe\">\n",
       "  <thead>\n",
       "    <tr style=\"text-align: right;\">\n",
       "      <th></th>\n",
       "      <th>id</th>\n",
       "      <th>comment_text</th>\n",
       "      <th>toxic</th>\n",
       "      <th>severe_toxic</th>\n",
       "      <th>obscene</th>\n",
       "      <th>threat</th>\n",
       "      <th>insult</th>\n",
       "      <th>identity_hate</th>\n",
       "      <th>input_prompt</th>\n",
       "      <th>pred</th>\n",
       "    </tr>\n",
       "  </thead>\n",
       "  <tbody>\n",
       "    <tr>\n",
       "      <th>0</th>\n",
       "      <td>663301f1cb4b59e5</td>\n",
       "      <td>quick thing mate \n",
       "\n",
       "Give me a couple of reasons...</td>\n",
       "      <td>1</td>\n",
       "      <td>0</td>\n",
       "      <td>0</td>\n",
       "      <td>1</td>\n",
       "      <td>0</td>\n",
       "      <td>0</td>\n",
       "      <td>Your task is to analyze comments from the web...</td>\n",
       "      <td>{\"toxic\": 1, \"severe_toxic\": 1, \"obscene\": 0, ...</td>\n",
       "    </tr>\n",
       "    <tr>\n",
       "      <th>1</th>\n",
       "      <td>935b9fdece617e51</td>\n",
       "      <td>\"Rmcsamson refuses to understand that the issu...</td>\n",
       "      <td>0</td>\n",
       "      <td>0</td>\n",
       "      <td>0</td>\n",
       "      <td>0</td>\n",
       "      <td>0</td>\n",
       "      <td>0</td>\n",
       "      <td>Your task is to analyze comments from the web...</td>\n",
       "      <td>{\"toxic\": 0, \"severe_toxic\": 0, \"obscene\": 0, ...</td>\n",
       "    </tr>\n",
       "    <tr>\n",
       "      <th>2</th>\n",
       "      <td>5d1c496c1ce34c9b</td>\n",
       "      <td>Devious little buggers! If only they'd put hal...</td>\n",
       "      <td>0</td>\n",
       "      <td>0</td>\n",
       "      <td>0</td>\n",
       "      <td>0</td>\n",
       "      <td>0</td>\n",
       "      <td>0</td>\n",
       "      <td>Your task is to analyze comments from the web...</td>\n",
       "      <td>{\"toxic\": 1, \"severe_toxic\": 0, \"obscene\": 0, ...</td>\n",
       "    </tr>\n",
       "    <tr>\n",
       "      <th>3</th>\n",
       "      <td>2b044e81580d9695</td>\n",
       "      <td>{{subst:arbcom notice|Military Occupation of G...</td>\n",
       "      <td>0</td>\n",
       "      <td>0</td>\n",
       "      <td>0</td>\n",
       "      <td>0</td>\n",
       "      <td>0</td>\n",
       "      <td>0</td>\n",
       "      <td>Your task is to analyze comments from the web...</td>\n",
       "      <td>{\"toxic\": 0, \"severe_toxic\": 0, \"obscene\": 0, ...</td>\n",
       "    </tr>\n",
       "    <tr>\n",
       "      <th>4</th>\n",
       "      <td>fc61ea68fdd30317</td>\n",
       "      <td>I suppose you're right, the keyword here with ...</td>\n",
       "      <td>0</td>\n",
       "      <td>0</td>\n",
       "      <td>0</td>\n",
       "      <td>0</td>\n",
       "      <td>0</td>\n",
       "      <td>0</td>\n",
       "      <td>Your task is to analyze comments from the web...</td>\n",
       "      <td>{\"toxic\": 0, \"severe_toxic\": 0, \"obscene\": 0, ...</td>\n",
       "    </tr>\n",
       "    <tr>\n",
       "      <th>5</th>\n",
       "      <td>ef69c4edfb85559c</td>\n",
       "      <td>guess what ==\n",
       "\n",
       "your retarded\n",
       "\n",
       "==</td>\n",
       "      <td>1</td>\n",
       "      <td>0</td>\n",
       "      <td>0</td>\n",
       "      <td>0</td>\n",
       "      <td>1</td>\n",
       "      <td>0</td>\n",
       "      <td>Your task is to analyze comments from the web...</td>\n",
       "      <td>{\"toxic\": 1, \"severe_toxic\": 0, \"obscene\": 0, ...</td>\n",
       "    </tr>\n",
       "    <tr>\n",
       "      <th>6</th>\n",
       "      <td>ab1aed6659d33e75</td>\n",
       "      <td>\"\n",
       " Done -Thanks for the correction suggested. ...</td>\n",
       "      <td>0</td>\n",
       "      <td>0</td>\n",
       "      <td>0</td>\n",
       "      <td>0</td>\n",
       "      <td>0</td>\n",
       "      <td>0</td>\n",
       "      <td>Your task is to analyze comments from the web...</td>\n",
       "      <td>{\"toxic\": 0, \"severe_toxic\": 0, \"obscene\": 0, ...</td>\n",
       "    </tr>\n",
       "    <tr>\n",
       "      <th>7</th>\n",
       "      <td>b514481f358dbd40</td>\n",
       "      <td>Thanks for heads-up!  You are right about the ...</td>\n",
       "      <td>0</td>\n",
       "      <td>0</td>\n",
       "      <td>0</td>\n",
       "      <td>0</td>\n",
       "      <td>0</td>\n",
       "      <td>0</td>\n",
       "      <td>Your task is to analyze comments from the web...</td>\n",
       "      <td>{\"toxic\": 0, \"severe_toxic\": 0, \"obscene\": 0, ...</td>\n",
       "    </tr>\n",
       "    <tr>\n",
       "      <th>8</th>\n",
       "      <td>1307fa21a863c606</td>\n",
       "      <td>You would understand... \n",
       "\n",
       "You would understand...</td>\n",
       "      <td>1</td>\n",
       "      <td>0</td>\n",
       "      <td>1</td>\n",
       "      <td>0</td>\n",
       "      <td>1</td>\n",
       "      <td>0</td>\n",
       "      <td>Your task is to analyze comments from the web...</td>\n",
       "      <td>{\"toxic\": 1, \"severe_toxic\": 0, \"obscene\": 1, ...</td>\n",
       "    </tr>\n",
       "    <tr>\n",
       "      <th>9</th>\n",
       "      <td>6ae4580294f2d587</td>\n",
       "      <td>Editing Wikipedia \n",
       "\n",
       "Fuck You, you anal rapist</td>\n",
       "      <td>1</td>\n",
       "      <td>0</td>\n",
       "      <td>1</td>\n",
       "      <td>0</td>\n",
       "      <td>1</td>\n",
       "      <td>0</td>\n",
       "      <td>Your task is to analyze comments from the web...</td>\n",
       "      <td>{\"toxic\": 1, \"severe_toxic\": 1, \"obscene\": 1, ...</td>\n",
       "    </tr>\n",
       "  </tbody>\n",
       "</table>\n",
       "<p>10 rows × 10 columns</p>\n",
       "</div>[10 rows x 10 columns in total]"
      ],
      "text/plain": [
       "                 id                                       comment_text  toxic  \\\n",
       "0  663301f1cb4b59e5  quick thing mate \n",
       "\n",
       "Give me a couple of reasons...      1   \n",
       "1  935b9fdece617e51  \"Rmcsamson refuses to understand that the issu...      0   \n",
       "2  5d1c496c1ce34c9b  Devious little buggers! If only they'd put hal...      0   \n",
       "3  2b044e81580d9695  {{subst:arbcom notice|Military Occupation of G...      0   \n",
       "4  fc61ea68fdd30317  I suppose you're right, the keyword here with ...      0   \n",
       "5  ef69c4edfb85559c                   guess what ==\n",
       "\n",
       "your retarded\n",
       "\n",
       "==      1   \n",
       "6  ab1aed6659d33e75  \"\n",
       " Done -Thanks for the correction suggested. ...      0   \n",
       "7  b514481f358dbd40  Thanks for heads-up!  You are right about the ...      0   \n",
       "8  1307fa21a863c606  You would understand... \n",
       "\n",
       "You would understand...      1   \n",
       "9  6ae4580294f2d587      Editing Wikipedia \n",
       "\n",
       "Fuck You, you anal rapist      1   \n",
       "\n",
       "   severe_toxic  obscene  threat  insult  identity_hate  \\\n",
       "0             0        0       1       0              0   \n",
       "1             0        0       0       0              0   \n",
       "2             0        0       0       0              0   \n",
       "3             0        0       0       0              0   \n",
       "4             0        0       0       0              0   \n",
       "5             0        0       0       1              0   \n",
       "6             0        0       0       0              0   \n",
       "7             0        0       0       0              0   \n",
       "8             0        1       0       1              0   \n",
       "9             0        1       0       1              0   \n",
       "\n",
       "                                        input_prompt  \\\n",
       "0  \n",
       "Your task is to analyze comments from the web...   \n",
       "1  \n",
       "Your task is to analyze comments from the web...   \n",
       "2  \n",
       "Your task is to analyze comments from the web...   \n",
       "3  \n",
       "Your task is to analyze comments from the web...   \n",
       "4  \n",
       "Your task is to analyze comments from the web...   \n",
       "5  \n",
       "Your task is to analyze comments from the web...   \n",
       "6  \n",
       "Your task is to analyze comments from the web...   \n",
       "7  \n",
       "Your task is to analyze comments from the web...   \n",
       "8  \n",
       "Your task is to analyze comments from the web...   \n",
       "9  \n",
       "Your task is to analyze comments from the web...   \n",
       "\n",
       "                                                pred  \n",
       "0  {\"toxic\": 1, \"severe_toxic\": 1, \"obscene\": 0, ...  \n",
       "1  {\"toxic\": 0, \"severe_toxic\": 0, \"obscene\": 0, ...  \n",
       "2  {\"toxic\": 1, \"severe_toxic\": 0, \"obscene\": 0, ...  \n",
       "3  {\"toxic\": 0, \"severe_toxic\": 0, \"obscene\": 0, ...  \n",
       "4  {\"toxic\": 0, \"severe_toxic\": 0, \"obscene\": 0, ...  \n",
       "5  {\"toxic\": 1, \"severe_toxic\": 0, \"obscene\": 0, ...  \n",
       "6  {\"toxic\": 0, \"severe_toxic\": 0, \"obscene\": 0, ...  \n",
       "7  {\"toxic\": 0, \"severe_toxic\": 0, \"obscene\": 0, ...  \n",
       "8  {\"toxic\": 1, \"severe_toxic\": 0, \"obscene\": 1, ...  \n",
       "9  {\"toxic\": 1, \"severe_toxic\": 1, \"obscene\": 1, ...  \n",
       "\n",
       "[10 rows x 10 columns]"
      ]
     },
     "execution_count": 34,
     "metadata": {},
     "output_type": "execute_result"
    }
   ],
   "source": [
    "predictions.head(10)"
   ]
  },
  {
   "cell_type": "markdown",
   "metadata": {},
   "source": [
    "#### Persist this transformed data to BigQuery to simplify the execution graph"
   ]
  },
  {
   "cell_type": "code",
   "execution_count": null,
   "metadata": {
    "tags": []
   },
   "outputs": [],
   "source": [
    "predictions.to_gbq(destination_table=f\"{PROJECT_ID}.{DATASET_ID}.toxicity_predictions_raw\", if_exists=\"replace\")"
   ]
  },
  {
   "cell_type": "markdown",
   "metadata": {},
   "source": [
    "### Extract attributes"
   ]
  },
  {
   "cell_type": "code",
   "execution_count": null,
   "metadata": {
    "tags": []
   },
   "outputs": [],
   "source": [
    "extract_query = f\"CREATE OR REPLACE TABLE {PROJECT_ID}.{DATASET_ID}.toxicity_predictions AS (SELECT *, \" + \"\".join([f\"CAST(JSON_EXTRACT(pred, '$.{col}') AS INT64) AS predicted_{col},\" for col in classification_columns]) + f\" FROM {PROJECT_ID}.{DATASET_ID}.toxicity_predictions_raw)\""
   ]
  },
  {
   "cell_type": "code",
   "execution_count": null,
   "metadata": {
    "tags": []
   },
   "outputs": [],
   "source": [
    "%%bigquery\n",
    "$extract_query"
   ]
  },
  {
   "cell_type": "code",
   "execution_count": null,
   "metadata": {
    "tags": []
   },
   "outputs": [],
   "source": [
    "toxicity_predictions = bpd.read_gbq(f\"{PROJECT_ID}.{DATASET_ID}.toxicity_predictions\", use_cache=False)"
   ]
  },
  {
   "cell_type": "markdown",
   "metadata": {},
   "source": [
    "### Evaluate results"
   ]
  },
  {
   "cell_type": "code",
   "execution_count": null,
   "metadata": {
    "tags": []
   },
   "outputs": [],
   "source": [
    "def compute_precision_scores(predictions: DataFrame):\n",
    "\n",
    "    precision_scores = {}\n",
    "\n",
    "    for col in classification_columns:\n",
    "        \n",
    "        y_true = predictions[col]\n",
    "        y_pred = predictions[\"predicted_\" + col]\n",
    "        \n",
    "        precision_score = metrics.precision_score(y_true, y_pred, average=None)\n",
    "        precision_scores[col] = precision_score.to_dict()\n",
    "    \n",
    "    return precision_scores"
   ]
  },
  {
   "cell_type": "code",
   "execution_count": null,
   "metadata": {
    "tags": []
   },
   "outputs": [],
   "source": [
    "precision_scores = compute_precision_scores(toxicity_predictions)"
   ]
  },
  {
   "cell_type": "code",
   "execution_count": 129,
   "metadata": {},
   "outputs": [
    {
     "data": {
      "text/plain": [
       "{'toxic': {0: 0.7916666666666666, 1: 0.9310344827586207},\n",
       " 'severe_toxic': {0: 0.8939393939393939, 1: 0.3783783783783784},\n",
       " 'obscene': {0: 0.8679245283018868, 1: 0.9540229885057471},\n",
       " 'threat': {0: 0.9895833333333334, 1: 0.5909090909090909},\n",
       " 'insult': {0: 1.0, 1: 0.7981651376146789},\n",
       " 'identity_hate': {0: 0.9555555555555556, 1: 0.78}}"
      ]
     },
     "execution_count": 129,
     "metadata": {},
     "output_type": "execute_result"
    }
   ],
   "source": [
    "precision_scores"
   ]
  },
  {
   "cell_type": "code",
   "execution_count": 42,
   "metadata": {
    "tags": []
   },
   "outputs": [],
   "source": [
    "def compute_f1_scores(predictions: DataFrame):\n",
    "\n",
    "    f1_scores = {}\n",
    "\n",
    "    for col in classification_columns:\n",
    "        \n",
    "        y_true = predictions[col]\n",
    "        y_pred = predictions[\"predicted_\" + col]\n",
    "        \n",
    "        f1_score = metrics.f1_score(y_true, y_pred, average=None)\n",
    "        f1_scores[col] = f1_score.to_dict()\n",
    "    \n",
    "    return f1_scores"
   ]
  },
  {
   "cell_type": "code",
   "execution_count": null,
   "metadata": {
    "tags": []
   },
   "outputs": [],
   "source": [
    "f1_scores = compute_f1_scores(toxicity_predictions)"
   ]
  },
  {
   "cell_type": "code",
   "execution_count": 117,
   "metadata": {
    "tags": []
   },
   "outputs": [
    {
     "data": {
      "text/plain": [
       "{'toxic': {0: 0.7450980392156864, 1: 0.943231441048035},\n",
       " 'severe_toxic': {0: 0.6900584795321637, 1: 0.5137614678899083},\n",
       " 'obscene': {0: 0.8932038834951457, 1: 0.9378531073446328},\n",
       " 'threat': {0: 0.9090909090909092, 1: 0.732394366197183},\n",
       " 'insult': {0: 0.738095238095238, 1: 0.8877551020408164},\n",
       " 'identity_hate': {0: 0.9197860962566844, 1: 0.8387096774193548}}"
      ]
     },
     "execution_count": 117,
     "metadata": {},
     "output_type": "execute_result"
    }
   ],
   "source": [
    "f1_scores"
   ]
  },
  {
   "cell_type": "markdown",
   "metadata": {},
   "source": [
    "## Finetune Gemini"
   ]
  },
  {
   "cell_type": "markdown",
   "metadata": {},
   "source": [
    "#### Generate a dataset for fine-tuning"
   ]
  },
  {
   "cell_type": "code",
   "execution_count": null,
   "metadata": {
    "tags": []
   },
   "outputs": [],
   "source": [
    "def generate_fine_tuning_dataset(df: DataFrame) -> pd.DataFrame:\n",
    "    \n",
    "    df[\"input_prompt\"] = prompt + df[\"comment_text\"]\n",
    "    fine_tuning_dataset = df.to_pandas()\n",
    "    fine_tuning_dataset['expected_model_output'] = fine_tuning_dataset[classification_columns].apply(lambda row: row.to_json(), axis=1) \n",
    "    \n",
    "    return fine_tuning_dataset"
   ]
  },
  {
   "cell_type": "code",
   "execution_count": null,
   "metadata": {
    "tags": []
   },
   "outputs": [],
   "source": [
    "fine_tuning_dataset_train = generate_fine_tuning_dataset(train_dataset)\n",
    "fine_tuning_dataset_val = generate_fine_tuning_dataset(test_dataset)"
   ]
  },
  {
   "cell_type": "code",
   "execution_count": 73,
   "metadata": {
    "tags": []
   },
   "outputs": [
    {
     "data": {
      "text/html": [
       "<div>\n",
       "<style scoped>\n",
       "    .dataframe tbody tr th:only-of-type {\n",
       "        vertical-align: middle;\n",
       "    }\n",
       "\n",
       "    .dataframe tbody tr th {\n",
       "        vertical-align: top;\n",
       "    }\n",
       "\n",
       "    .dataframe thead th {\n",
       "        text-align: right;\n",
       "    }\n",
       "</style>\n",
       "<table border=\"1\" class=\"dataframe\">\n",
       "  <thead>\n",
       "    <tr style=\"text-align: right;\">\n",
       "      <th></th>\n",
       "      <th>id</th>\n",
       "      <th>comment_text</th>\n",
       "      <th>toxic</th>\n",
       "      <th>severe_toxic</th>\n",
       "      <th>obscene</th>\n",
       "      <th>threat</th>\n",
       "      <th>insult</th>\n",
       "      <th>identity_hate</th>\n",
       "      <th>input_prompt</th>\n",
       "      <th>expected_model_output</th>\n",
       "    </tr>\n",
       "  </thead>\n",
       "  <tbody>\n",
       "    <tr>\n",
       "      <th>0</th>\n",
       "      <td>1f6d1ad2a942fd1a</td>\n",
       "      <td>steve irwin \n",
       "\n",
       "МљHEY FAGGIT GO RAPE A 7 YEAR OL...</td>\n",
       "      <td>1</td>\n",
       "      <td>1</td>\n",
       "      <td>0</td>\n",
       "      <td>0</td>\n",
       "      <td>0</td>\n",
       "      <td>0</td>\n",
       "      <td>Your task is to analyze comments from the web...</td>\n",
       "      <td>{\"toxic\":1,\"severe_toxic\":1,\"obscene\":0,\"threa...</td>\n",
       "    </tr>\n",
       "    <tr>\n",
       "      <th>1</th>\n",
       "      <td>1bda7cb63838be2d</td>\n",
       "      <td>HEATHER MALLICK IS SUCH A PIECE OF CANADIAN TR...</td>\n",
       "      <td>1</td>\n",
       "      <td>0</td>\n",
       "      <td>0</td>\n",
       "      <td>0</td>\n",
       "      <td>1</td>\n",
       "      <td>1</td>\n",
       "      <td>Your task is to analyze comments from the web...</td>\n",
       "      <td>{\"toxic\":1,\"severe_toxic\":0,\"obscene\":0,\"threa...</td>\n",
       "    </tr>\n",
       "    <tr>\n",
       "      <th>2</th>\n",
       "      <td>096aa08835d2c1f1</td>\n",
       "      <td>ADMINS SCREW OFF \n",
       "\n",
       "SCREW OFF YOU FUCKING RETAR...</td>\n",
       "      <td>1</td>\n",
       "      <td>1</td>\n",
       "      <td>1</td>\n",
       "      <td>0</td>\n",
       "      <td>1</td>\n",
       "      <td>0</td>\n",
       "      <td>Your task is to analyze comments from the web...</td>\n",
       "      <td>{\"toxic\":1,\"severe_toxic\":1,\"obscene\":1,\"threa...</td>\n",
       "    </tr>\n",
       "    <tr>\n",
       "      <th>3</th>\n",
       "      <td>2ba67d26e5f63509</td>\n",
       "      <td>bitch why are you deleting my shit.</td>\n",
       "      <td>1</td>\n",
       "      <td>1</td>\n",
       "      <td>1</td>\n",
       "      <td>0</td>\n",
       "      <td>1</td>\n",
       "      <td>0</td>\n",
       "      <td>Your task is to analyze comments from the web...</td>\n",
       "      <td>{\"toxic\":1,\"severe_toxic\":1,\"obscene\":1,\"threa...</td>\n",
       "    </tr>\n",
       "    <tr>\n",
       "      <th>4</th>\n",
       "      <td>65bd67fef6fcbcc5</td>\n",
       "      <td>I am going to shoot you in the head and laugh ...</td>\n",
       "      <td>1</td>\n",
       "      <td>0</td>\n",
       "      <td>0</td>\n",
       "      <td>1</td>\n",
       "      <td>0</td>\n",
       "      <td>0</td>\n",
       "      <td>Your task is to analyze comments from the web...</td>\n",
       "      <td>{\"toxic\":1,\"severe_toxic\":0,\"obscene\":0,\"threa...</td>\n",
       "    </tr>\n",
       "    <tr>\n",
       "      <th>...</th>\n",
       "      <td>...</td>\n",
       "      <td>...</td>\n",
       "      <td>...</td>\n",
       "      <td>...</td>\n",
       "      <td>...</td>\n",
       "      <td>...</td>\n",
       "      <td>...</td>\n",
       "      <td>...</td>\n",
       "      <td>...</td>\n",
       "      <td>...</td>\n",
       "    </tr>\n",
       "    <tr>\n",
       "      <th>555</th>\n",
       "      <td>12c89af929168f6d</td>\n",
       "      <td>Hey nigger \n",
       "\n",
       "Go fuck yourself and stop reverin...</td>\n",
       "      <td>1</td>\n",
       "      <td>1</td>\n",
       "      <td>1</td>\n",
       "      <td>0</td>\n",
       "      <td>1</td>\n",
       "      <td>1</td>\n",
       "      <td>Your task is to analyze comments from the web...</td>\n",
       "      <td>{\"toxic\":1,\"severe_toxic\":1,\"obscene\":1,\"threa...</td>\n",
       "    </tr>\n",
       "    <tr>\n",
       "      <th>556</th>\n",
       "      <td>f5402ab57eb8aeb8</td>\n",
       "      <td>Jew supremacist liar. 146.179.213.55</td>\n",
       "      <td>1</td>\n",
       "      <td>0</td>\n",
       "      <td>0</td>\n",
       "      <td>0</td>\n",
       "      <td>0</td>\n",
       "      <td>1</td>\n",
       "      <td>Your task is to analyze comments from the web...</td>\n",
       "      <td>{\"toxic\":1,\"severe_toxic\":0,\"obscene\":0,\"threa...</td>\n",
       "    </tr>\n",
       "    <tr>\n",
       "      <th>557</th>\n",
       "      <td>ef6ecce9bd8b9356</td>\n",
       "      <td>(they are both wortheless pieces of shit that ...</td>\n",
       "      <td>1</td>\n",
       "      <td>0</td>\n",
       "      <td>1</td>\n",
       "      <td>0</td>\n",
       "      <td>1</td>\n",
       "      <td>1</td>\n",
       "      <td>Your task is to analyze comments from the web...</td>\n",
       "      <td>{\"toxic\":1,\"severe_toxic\":0,\"obscene\":1,\"threa...</td>\n",
       "    </tr>\n",
       "    <tr>\n",
       "      <th>558</th>\n",
       "      <td>29bb05ac7ee4b466</td>\n",
       "      <td>poopoo caca bullpenis shit cock mother fucker ...</td>\n",
       "      <td>1</td>\n",
       "      <td>1</td>\n",
       "      <td>1</td>\n",
       "      <td>0</td>\n",
       "      <td>1</td>\n",
       "      <td>0</td>\n",
       "      <td>Your task is to analyze comments from the web...</td>\n",
       "      <td>{\"toxic\":1,\"severe_toxic\":1,\"obscene\":1,\"threa...</td>\n",
       "    </tr>\n",
       "    <tr>\n",
       "      <th>559</th>\n",
       "      <td>8273a778e21ebe18</td>\n",
       "      <td>Sitush you are an ass.  I do not know who let ...</td>\n",
       "      <td>1</td>\n",
       "      <td>0</td>\n",
       "      <td>1</td>\n",
       "      <td>0</td>\n",
       "      <td>1</td>\n",
       "      <td>0</td>\n",
       "      <td>Your task is to analyze comments from the web...</td>\n",
       "      <td>{\"toxic\":1,\"severe_toxic\":0,\"obscene\":1,\"threa...</td>\n",
       "    </tr>\n",
       "  </tbody>\n",
       "</table>\n",
       "<p>560 rows × 10 columns</p>\n",
       "</div>"
      ],
      "text/plain": [
       "                   id                                       comment_text  \\\n",
       "0    1f6d1ad2a942fd1a  steve irwin \n",
       "\n",
       "МљHEY FAGGIT GO RAPE A 7 YEAR OL...   \n",
       "1    1bda7cb63838be2d  HEATHER MALLICK IS SUCH A PIECE OF CANADIAN TR...   \n",
       "2    096aa08835d2c1f1  ADMINS SCREW OFF \n",
       "\n",
       "SCREW OFF YOU FUCKING RETAR...   \n",
       "3    2ba67d26e5f63509                bitch why are you deleting my shit.   \n",
       "4    65bd67fef6fcbcc5  I am going to shoot you in the head and laugh ...   \n",
       "..                ...                                                ...   \n",
       "555  12c89af929168f6d  Hey nigger \n",
       "\n",
       "Go fuck yourself and stop reverin...   \n",
       "556  f5402ab57eb8aeb8               Jew supremacist liar. 146.179.213.55   \n",
       "557  ef6ecce9bd8b9356  (they are both wortheless pieces of shit that ...   \n",
       "558  29bb05ac7ee4b466  poopoo caca bullpenis shit cock mother fucker ...   \n",
       "559  8273a778e21ebe18  Sitush you are an ass.  I do not know who let ...   \n",
       "\n",
       "     toxic  severe_toxic  obscene  threat  insult  identity_hate  \\\n",
       "0        1             1        0       0       0              0   \n",
       "1        1             0        0       0       1              1   \n",
       "2        1             1        1       0       1              0   \n",
       "3        1             1        1       0       1              0   \n",
       "4        1             0        0       1       0              0   \n",
       "..     ...           ...      ...     ...     ...            ...   \n",
       "555      1             1        1       0       1              1   \n",
       "556      1             0        0       0       0              1   \n",
       "557      1             0        1       0       1              1   \n",
       "558      1             1        1       0       1              0   \n",
       "559      1             0        1       0       1              0   \n",
       "\n",
       "                                          input_prompt  \\\n",
       "0    \n",
       "Your task is to analyze comments from the web...   \n",
       "1    \n",
       "Your task is to analyze comments from the web...   \n",
       "2    \n",
       "Your task is to analyze comments from the web...   \n",
       "3    \n",
       "Your task is to analyze comments from the web...   \n",
       "4    \n",
       "Your task is to analyze comments from the web...   \n",
       "..                                                 ...   \n",
       "555  \n",
       "Your task is to analyze comments from the web...   \n",
       "556  \n",
       "Your task is to analyze comments from the web...   \n",
       "557  \n",
       "Your task is to analyze comments from the web...   \n",
       "558  \n",
       "Your task is to analyze comments from the web...   \n",
       "559  \n",
       "Your task is to analyze comments from the web...   \n",
       "\n",
       "                                 expected_model_output  \n",
       "0    {\"toxic\":1,\"severe_toxic\":1,\"obscene\":0,\"threa...  \n",
       "1    {\"toxic\":1,\"severe_toxic\":0,\"obscene\":0,\"threa...  \n",
       "2    {\"toxic\":1,\"severe_toxic\":1,\"obscene\":1,\"threa...  \n",
       "3    {\"toxic\":1,\"severe_toxic\":1,\"obscene\":1,\"threa...  \n",
       "4    {\"toxic\":1,\"severe_toxic\":0,\"obscene\":0,\"threa...  \n",
       "..                                                 ...  \n",
       "555  {\"toxic\":1,\"severe_toxic\":1,\"obscene\":1,\"threa...  \n",
       "556  {\"toxic\":1,\"severe_toxic\":0,\"obscene\":0,\"threa...  \n",
       "557  {\"toxic\":1,\"severe_toxic\":0,\"obscene\":1,\"threa...  \n",
       "558  {\"toxic\":1,\"severe_toxic\":1,\"obscene\":1,\"threa...  \n",
       "559  {\"toxic\":1,\"severe_toxic\":0,\"obscene\":1,\"threa...  \n",
       "\n",
       "[560 rows x 10 columns]"
      ]
     },
     "execution_count": 73,
     "metadata": {},
     "output_type": "execute_result"
    }
   ],
   "source": [
    "fine_tuning_dataset_train"
   ]
  },
  {
   "cell_type": "code",
   "execution_count": 83,
   "metadata": {
    "tags": []
   },
   "outputs": [
    {
     "data": {
      "text/html": [
       "<div>\n",
       "<style scoped>\n",
       "    .dataframe tbody tr th:only-of-type {\n",
       "        vertical-align: middle;\n",
       "    }\n",
       "\n",
       "    .dataframe tbody tr th {\n",
       "        vertical-align: top;\n",
       "    }\n",
       "\n",
       "    .dataframe thead th {\n",
       "        text-align: right;\n",
       "    }\n",
       "</style>\n",
       "<table border=\"1\" class=\"dataframe\">\n",
       "  <thead>\n",
       "    <tr style=\"text-align: right;\">\n",
       "      <th></th>\n",
       "      <th>id</th>\n",
       "      <th>comment_text</th>\n",
       "      <th>toxic</th>\n",
       "      <th>severe_toxic</th>\n",
       "      <th>obscene</th>\n",
       "      <th>threat</th>\n",
       "      <th>insult</th>\n",
       "      <th>identity_hate</th>\n",
       "      <th>input_prompt</th>\n",
       "      <th>expected_model_output</th>\n",
       "    </tr>\n",
       "  </thead>\n",
       "  <tbody>\n",
       "    <tr>\n",
       "      <th>0</th>\n",
       "      <td>663301f1cb4b59e5</td>\n",
       "      <td>quick thing mate \n",
       "\n",
       "Give me a couple of reasons...</td>\n",
       "      <td>1</td>\n",
       "      <td>0</td>\n",
       "      <td>0</td>\n",
       "      <td>1</td>\n",
       "      <td>0</td>\n",
       "      <td>0</td>\n",
       "      <td>Your task is to analyze comments from the web...</td>\n",
       "      <td>{\"toxic\":1,\"severe_toxic\":0,\"obscene\":0,\"threa...</td>\n",
       "    </tr>\n",
       "    <tr>\n",
       "      <th>1</th>\n",
       "      <td>935b9fdece617e51</td>\n",
       "      <td>\"Rmcsamson refuses to understand that the issu...</td>\n",
       "      <td>0</td>\n",
       "      <td>0</td>\n",
       "      <td>0</td>\n",
       "      <td>0</td>\n",
       "      <td>0</td>\n",
       "      <td>0</td>\n",
       "      <td>Your task is to analyze comments from the web...</td>\n",
       "      <td>{\"toxic\":0,\"severe_toxic\":0,\"obscene\":0,\"threa...</td>\n",
       "    </tr>\n",
       "    <tr>\n",
       "      <th>2</th>\n",
       "      <td>5d1c496c1ce34c9b</td>\n",
       "      <td>Devious little buggers! If only they'd put hal...</td>\n",
       "      <td>0</td>\n",
       "      <td>0</td>\n",
       "      <td>0</td>\n",
       "      <td>0</td>\n",
       "      <td>0</td>\n",
       "      <td>0</td>\n",
       "      <td>Your task is to analyze comments from the web...</td>\n",
       "      <td>{\"toxic\":0,\"severe_toxic\":0,\"obscene\":0,\"threa...</td>\n",
       "    </tr>\n",
       "    <tr>\n",
       "      <th>3</th>\n",
       "      <td>2b044e81580d9695</td>\n",
       "      <td>{{subst:arbcom notice|Military Occupation of G...</td>\n",
       "      <td>0</td>\n",
       "      <td>0</td>\n",
       "      <td>0</td>\n",
       "      <td>0</td>\n",
       "      <td>0</td>\n",
       "      <td>0</td>\n",
       "      <td>Your task is to analyze comments from the web...</td>\n",
       "      <td>{\"toxic\":0,\"severe_toxic\":0,\"obscene\":0,\"threa...</td>\n",
       "    </tr>\n",
       "    <tr>\n",
       "      <th>4</th>\n",
       "      <td>fc61ea68fdd30317</td>\n",
       "      <td>I suppose you're right, the keyword here with ...</td>\n",
       "      <td>0</td>\n",
       "      <td>0</td>\n",
       "      <td>0</td>\n",
       "      <td>0</td>\n",
       "      <td>0</td>\n",
       "      <td>0</td>\n",
       "      <td>Your task is to analyze comments from the web...</td>\n",
       "      <td>{\"toxic\":0,\"severe_toxic\":0,\"obscene\":0,\"threa...</td>\n",
       "    </tr>\n",
       "    <tr>\n",
       "      <th>...</th>\n",
       "      <td>...</td>\n",
       "      <td>...</td>\n",
       "      <td>...</td>\n",
       "      <td>...</td>\n",
       "      <td>...</td>\n",
       "      <td>...</td>\n",
       "      <td>...</td>\n",
       "      <td>...</td>\n",
       "      <td>...</td>\n",
       "      <td>...</td>\n",
       "    </tr>\n",
       "    <tr>\n",
       "      <th>135</th>\n",
       "      <td>4c7963eaf9697d35</td>\n",
       "      <td>JIM WALES MUST DIE!!!!!!!!!!!!  JIM WALES MUST...</td>\n",
       "      <td>1</td>\n",
       "      <td>1</td>\n",
       "      <td>0</td>\n",
       "      <td>1</td>\n",
       "      <td>0</td>\n",
       "      <td>0</td>\n",
       "      <td>Your task is to analyze comments from the web...</td>\n",
       "      <td>{\"toxic\":1,\"severe_toxic\":1,\"obscene\":0,\"threa...</td>\n",
       "    </tr>\n",
       "    <tr>\n",
       "      <th>136</th>\n",
       "      <td>ebdd8918eaeedd4e</td>\n",
       "      <td>Deletion discussion about Afif Chaya \n",
       "Hello, A...</td>\n",
       "      <td>0</td>\n",
       "      <td>0</td>\n",
       "      <td>0</td>\n",
       "      <td>0</td>\n",
       "      <td>0</td>\n",
       "      <td>0</td>\n",
       "      <td>Your task is to analyze comments from the web...</td>\n",
       "      <td>{\"toxic\":0,\"severe_toxic\":0,\"obscene\":0,\"threa...</td>\n",
       "    </tr>\n",
       "    <tr>\n",
       "      <th>137</th>\n",
       "      <td>a9577ad4d2d69c3b</td>\n",
       "      <td>RUNESCAPE IS GAY, EVERYONE JOIN WORLD OF WARCR...</td>\n",
       "      <td>1</td>\n",
       "      <td>0</td>\n",
       "      <td>0</td>\n",
       "      <td>0</td>\n",
       "      <td>1</td>\n",
       "      <td>0</td>\n",
       "      <td>Your task is to analyze comments from the web...</td>\n",
       "      <td>{\"toxic\":1,\"severe_toxic\":0,\"obscene\":0,\"threa...</td>\n",
       "    </tr>\n",
       "    <tr>\n",
       "      <th>138</th>\n",
       "      <td>40dd3e9c8f051076</td>\n",
       "      <td>Have edited citation on Kingscote page to show...</td>\n",
       "      <td>0</td>\n",
       "      <td>0</td>\n",
       "      <td>0</td>\n",
       "      <td>0</td>\n",
       "      <td>0</td>\n",
       "      <td>0</td>\n",
       "      <td>Your task is to analyze comments from the web...</td>\n",
       "      <td>{\"toxic\":0,\"severe_toxic\":0,\"obscene\":0,\"threa...</td>\n",
       "    </tr>\n",
       "    <tr>\n",
       "      <th>139</th>\n",
       "      <td>2ec3d168e418c706</td>\n",
       "      <td>FUCKAN STOP CHANGON IT OR I AM TWIST OFF YOURE...</td>\n",
       "      <td>1</td>\n",
       "      <td>1</td>\n",
       "      <td>1</td>\n",
       "      <td>0</td>\n",
       "      <td>1</td>\n",
       "      <td>0</td>\n",
       "      <td>Your task is to analyze comments from the web...</td>\n",
       "      <td>{\"toxic\":1,\"severe_toxic\":1,\"obscene\":1,\"threa...</td>\n",
       "    </tr>\n",
       "  </tbody>\n",
       "</table>\n",
       "<p>140 rows × 10 columns</p>\n",
       "</div>"
      ],
      "text/plain": [
       "                   id                                       comment_text  \\\n",
       "0    663301f1cb4b59e5  quick thing mate \n",
       "\n",
       "Give me a couple of reasons...   \n",
       "1    935b9fdece617e51  \"Rmcsamson refuses to understand that the issu...   \n",
       "2    5d1c496c1ce34c9b  Devious little buggers! If only they'd put hal...   \n",
       "3    2b044e81580d9695  {{subst:arbcom notice|Military Occupation of G...   \n",
       "4    fc61ea68fdd30317  I suppose you're right, the keyword here with ...   \n",
       "..                ...                                                ...   \n",
       "135  4c7963eaf9697d35  JIM WALES MUST DIE!!!!!!!!!!!!  JIM WALES MUST...   \n",
       "136  ebdd8918eaeedd4e  Deletion discussion about Afif Chaya \n",
       "Hello, A...   \n",
       "137  a9577ad4d2d69c3b  RUNESCAPE IS GAY, EVERYONE JOIN WORLD OF WARCR...   \n",
       "138  40dd3e9c8f051076  Have edited citation on Kingscote page to show...   \n",
       "139  2ec3d168e418c706  FUCKAN STOP CHANGON IT OR I AM TWIST OFF YOURE...   \n",
       "\n",
       "     toxic  severe_toxic  obscene  threat  insult  identity_hate  \\\n",
       "0        1             0        0       1       0              0   \n",
       "1        0             0        0       0       0              0   \n",
       "2        0             0        0       0       0              0   \n",
       "3        0             0        0       0       0              0   \n",
       "4        0             0        0       0       0              0   \n",
       "..     ...           ...      ...     ...     ...            ...   \n",
       "135      1             1        0       1       0              0   \n",
       "136      0             0        0       0       0              0   \n",
       "137      1             0        0       0       1              0   \n",
       "138      0             0        0       0       0              0   \n",
       "139      1             1        1       0       1              0   \n",
       "\n",
       "                                          input_prompt  \\\n",
       "0    \n",
       "Your task is to analyze comments from the web...   \n",
       "1    \n",
       "Your task is to analyze comments from the web...   \n",
       "2    \n",
       "Your task is to analyze comments from the web...   \n",
       "3    \n",
       "Your task is to analyze comments from the web...   \n",
       "4    \n",
       "Your task is to analyze comments from the web...   \n",
       "..                                                 ...   \n",
       "135  \n",
       "Your task is to analyze comments from the web...   \n",
       "136  \n",
       "Your task is to analyze comments from the web...   \n",
       "137  \n",
       "Your task is to analyze comments from the web...   \n",
       "138  \n",
       "Your task is to analyze comments from the web...   \n",
       "139  \n",
       "Your task is to analyze comments from the web...   \n",
       "\n",
       "                                 expected_model_output  \n",
       "0    {\"toxic\":1,\"severe_toxic\":0,\"obscene\":0,\"threa...  \n",
       "1    {\"toxic\":0,\"severe_toxic\":0,\"obscene\":0,\"threa...  \n",
       "2    {\"toxic\":0,\"severe_toxic\":0,\"obscene\":0,\"threa...  \n",
       "3    {\"toxic\":0,\"severe_toxic\":0,\"obscene\":0,\"threa...  \n",
       "4    {\"toxic\":0,\"severe_toxic\":0,\"obscene\":0,\"threa...  \n",
       "..                                                 ...  \n",
       "135  {\"toxic\":1,\"severe_toxic\":1,\"obscene\":0,\"threa...  \n",
       "136  {\"toxic\":0,\"severe_toxic\":0,\"obscene\":0,\"threa...  \n",
       "137  {\"toxic\":1,\"severe_toxic\":0,\"obscene\":0,\"threa...  \n",
       "138  {\"toxic\":0,\"severe_toxic\":0,\"obscene\":0,\"threa...  \n",
       "139  {\"toxic\":1,\"severe_toxic\":1,\"obscene\":1,\"threa...  \n",
       "\n",
       "[140 rows x 10 columns]"
      ]
     },
     "execution_count": 83,
     "metadata": {},
     "output_type": "execute_result"
    }
   ],
   "source": [
    "fine_tuning_dataset_val"
   ]
  },
  {
   "cell_type": "code",
   "execution_count": null,
   "metadata": {
    "tags": []
   },
   "outputs": [],
   "source": [
    "def generate_records(df: pd.DataFrame, system_instructions: List) -> List:\n",
    "    \n",
    "    records = []\n",
    "\n",
    "    for index, row in df.iterrows():\n",
    "\n",
    "        input_prompt = row['input_prompt']\n",
    "        expected_model_output = row['expected_model_output']\n",
    "\n",
    "        record = {\n",
    "          \"systemInstruction\": {\n",
    "            \"role\": \"system\",\n",
    "            \"parts\": [ { \"text\": system_instruction } for system_instruction in system_instructions ]\n",
    "          },\n",
    "          \"contents\": [\n",
    "            { \"role\": \"user\", \"parts\": [ { \"text\": input_prompt } ] },\n",
    "            { \"role\": \"model\", \"parts\": [ { \"text\": expected_model_output } ] } ] \n",
    "        }\n",
    "\n",
    "        records.append(record)\n",
    "        \n",
    "    return records"
   ]
  },
  {
   "cell_type": "code",
   "execution_count": null,
   "metadata": {
    "tags": []
   },
   "outputs": [],
   "source": [
    "train_records = generate_records(fine_tuning_dataset_train, system_instructions)\n",
    "val_records = generate_records(fine_tuning_dataset_val, system_instructions)"
   ]
  },
  {
   "cell_type": "code",
   "execution_count": 85,
   "metadata": {
    "tags": []
   },
   "outputs": [
    {
     "name": "stdout",
     "output_type": "stream",
     "text": [
      "Fine-tuning train dataset size:  560\n",
      "Fine-tuning validation dataset size:  140\n"
     ]
    }
   ],
   "source": [
    "print(\"Fine-tuning train dataset size: \", len(train_records))\n",
    "print(\"Fine-tuning validation dataset size: \", len(val_records))"
   ]
  },
  {
   "cell_type": "markdown",
   "metadata": {},
   "source": [
    "#### Upload to GCS"
   ]
  },
  {
   "cell_type": "code",
   "execution_count": null,
   "metadata": {
    "tags": []
   },
   "outputs": [],
   "source": [
    "BUCKET_NAME = \"<YOUR_BUCKET_NAME>\"\n",
    "\n",
    "TRAIN_FILE_NAME = \"fine-tuning-train-dataset.jsonl\"\n",
    "VAL_FILE_NAME = \"fine-tuning-val-dataset.jsonl\""
   ]
  },
  {
   "cell_type": "code",
   "execution_count": null,
   "metadata": {
    "tags": []
   },
   "outputs": [],
   "source": [
    "def upload_gcs(records: List, file_name: str, bucket_name: str = BUCKET_NAME, project_id: str = PROJECT_ID) -> str:\n",
    "    \n",
    "    storage_client = storage.Client(project=project_id)\n",
    "    bucket = storage_client.bucket(bucket_name)\n",
    "    blob = bucket.blob(file_name)\n",
    "\n",
    "    jsonl_data = \"\\n\".join(json.dumps(item) for item in records)\n",
    "    blob.upload_from_string(jsonl_data)\n",
    "    \n",
    "    uri = f\"gs://{bucket_name}/{file_name}\"\n",
    "\n",
    "    return uri"
   ]
  },
  {
   "cell_type": "code",
   "execution_count": null,
   "metadata": {
    "tags": []
   },
   "outputs": [],
   "source": [
    "uri_train = upload_gcs(train_records, TRAIN_FILE_NAME)\n",
    "uri_val = upload_gcs(val_records, VAL_FILE_NAME)"
   ]
  },
  {
   "cell_type": "markdown",
   "metadata": {},
   "source": [
    "#### Run Vertex AI Supervised Fine Tuning job"
   ]
  },
  {
   "cell_type": "code",
   "execution_count": null,
   "metadata": {},
   "outputs": [],
   "source": [
    "import time\n",
    "import vertexai\n",
    "from vertexai.tuning import sft\n",
    "\n",
    "vertexai.init(project=PROJECT_ID, location=\"us-central1\")"
   ]
  },
  {
   "cell_type": "code",
   "execution_count": null,
   "metadata": {
    "tags": []
   },
   "outputs": [],
   "source": [
    "sft_tuning_job = sft.train(\n",
    "    source_model = \"gemini-1.5-pro-002\",\n",
    "    train_dataset = uri_train,\n",
    "    validation_dataset = uri_val,\n",
    "    epochs = 8,\n",
    "    adapter_size = 4,\n",
    "    learning_rate_multiplier = 0.8,\n",
    "    tuned_model_display_name = \"tuned_gemini_1_5_pro\",\n",
    ")\n",
    "\n",
    "while not sft_tuning_job.has_ended:\n",
    "    time.sleep(60)\n",
    "    sft_tuning_job.refresh()\n",
    "\n",
    "print(sft_tuning_job.tuned_model_name)\n",
    "print(sft_tuning_job.tuned_model_endpoint_name)\n",
    "print(sft_tuning_job.experiment)"
   ]
  },
  {
   "cell_type": "markdown",
   "metadata": {
    "id": "Fx4lsNqMorJ-"
   },
   "source": [
    "## Run predictions against the test dataset using Gemini (fine-tuned)"
   ]
  },
  {
   "cell_type": "code",
   "execution_count": null,
   "metadata": {
    "tags": []
   },
   "outputs": [],
   "source": [
    "input_remote_function_tuned = test_dataset[[\"input_prompt\"]].assign(model_name=sft_tuning_job.tuned_model_endpoint_name)"
   ]
  },
  {
   "cell_type": "code",
   "execution_count": null,
   "metadata": {
    "tags": []
   },
   "outputs": [],
   "source": [
    "predictions_tuned = test_dataset.assign(pred=input_remote_function_tuned.apply(generate_predictions, axis=1))"
   ]
  },
  {
   "cell_type": "code",
   "execution_count": null,
   "metadata": {
    "tags": []
   },
   "outputs": [],
   "source": [
    "predictions_tuned.to_gbq(destination_table=f\"{PROJECT_ID}.{DATASET_ID}.toxicity_predictions_finetuned_raw\", if_exists=\"replace\")"
   ]
  },
  {
   "cell_type": "code",
   "execution_count": null,
   "metadata": {
    "tags": []
   },
   "outputs": [],
   "source": [
    "extract_query = f\"CREATE OR REPLACE TABLE {PROJECT_ID}.{DATASET_ID}.toxicity_predictions_finetuned AS (SELECT *, \" + \"\".join([f\"CAST(JSON_EXTRACT(pred, '$.{col}') AS INT64) AS predicted_{col},\" for col in classification_columns]) + f\" FROM {PROJECT_ID}.{DATASET_ID}.toxicity_predictions_finetuned_raw)\""
   ]
  },
  {
   "cell_type": "code",
   "execution_count": null,
   "metadata": {
    "tags": []
   },
   "outputs": [],
   "source": [
    "%%bigquery\n",
    "$extract_query"
   ]
  },
  {
   "cell_type": "code",
   "execution_count": null,
   "metadata": {
    "tags": []
   },
   "outputs": [],
   "source": [
    "toxicity_predictions_tuned = bpd.read_gbq(f\"{PROJECT_ID}.{DATASET_ID}.toxicity_predictions_finetuned\", use_cache=False)"
   ]
  },
  {
   "cell_type": "markdown",
   "metadata": {},
   "source": [
    "### Evaluate results"
   ]
  },
  {
   "cell_type": "code",
   "execution_count": null,
   "metadata": {
    "tags": []
   },
   "outputs": [],
   "source": [
    "precision_scores_tuned = compute_precision_scores(toxicity_predictions_tuned)"
   ]
  },
  {
   "cell_type": "code",
   "execution_count": 131,
   "metadata": {
    "tags": []
   },
   "outputs": [
    {
     "data": {
      "text/plain": [
       "{'toxic': {0: 0.7692307692307693, 1: 0.9385964912280702},\n",
       " 'severe_toxic': {0: 0.8018867924528302, 1: 0.4117647058823529},\n",
       " 'obscene': {0: 0.8846153846153846, 1: 0.9545454545454546},\n",
       " 'threat': {0: 0.98989898989899, 1: 0.6341463414634146},\n",
       " 'insult': {0: 0.8571428571428571, 1: 0.8791208791208791},\n",
       " 'identity_hate': {0: 0.9354838709677419, 1: 0.7872340425531915}}"
      ]
     },
     "execution_count": 131,
     "metadata": {},
     "output_type": "execute_result"
    }
   ],
   "source": [
    "precision_scores_tuned"
   ]
  },
  {
   "cell_type": "code",
   "execution_count": null,
   "metadata": {
    "tags": []
   },
   "outputs": [],
   "source": [
    "f1_scores_tuned = compute_f1_scores(toxicity_predictions_tuned)"
   ]
  },
  {
   "cell_type": "code",
   "execution_count": 112,
   "metadata": {
    "tags": []
   },
   "outputs": [
    {
     "data": {
      "text/plain": [
       "{'toxic': {0: 0.7547169811320754, 1: 0.9427312775330398},\n",
       " 'severe_toxic': {0: 0.8056872037914692, 1: 0.40579710144927533},\n",
       " 'obscene': {0: 0.9019607843137256, 1: 0.9438202247191012},\n",
       " 'threat': {0: 0.9245283018867925, 1: 0.7647058823529412},\n",
       " 'insult': {0: 0.8235294117647058, 1: 0.898876404494382},\n",
       " 'identity_hate': {0: 0.9157894736842105, 1: 0.8222222222222222}}"
      ]
     },
     "execution_count": 112,
     "metadata": {},
     "output_type": "execute_result"
    }
   ],
   "source": [
    "f1_scores_tuned"
   ]
  },
  {
   "cell_type": "markdown",
   "metadata": {},
   "source": [
    "## Prediction results difference between Gemini vs Gemini Fine Tuned"
   ]
  },
  {
   "cell_type": "code",
   "execution_count": null,
   "metadata": {
    "tags": []
   },
   "outputs": [],
   "source": [
    "def plot_differences(title, gemini_scores, gemini_finetuned_scores):\n",
    "    \n",
    "    categories = list(gemini_scores.keys())\n",
    "    \n",
    "    gemini_scores = [np.mean(list(v.values())) for v in gemini_scores.values()]\n",
    "    gemini_finetuned_scores = [np.mean(list(v.values())) for v in gemini_finetuned_scores.values()]\n",
    "\n",
    "    differences = [m1 - m2 for m1, m2 in zip(gemini_scores, gemini_finetuned_scores)] \n",
    "\n",
    "    bar_width = 0.35\n",
    "    index = np.arange(len(categories))\n",
    "\n",
    "    fig, ax = plt.subplots()\n",
    "    rects1 = ax.bar(index, gemini_scores, bar_width, label='Gemini')\n",
    "    rects2 = ax.bar(index + bar_width, gemini_finetuned_scores, bar_width, label='Gemini Fine Tuned')\n",
    "\n",
    "    ax.set_xlabel('Classification')\n",
    "    ax.set_ylabel('Score value')\n",
    "    ax.set_title(title)\n",
    "    ax.set_xticks(index + bar_width / 2)\n",
    "    ax.set_xticklabels(categories, rotation=45, ha='right')\n",
    "    ax.legend()\n",
    "\n",
    "    fig.tight_layout()\n",
    "    plt.show()"
   ]
  },
  {
   "cell_type": "markdown",
   "metadata": {},
   "source": [
    "#### Precision Score"
   ]
  },
  {
   "cell_type": "code",
   "execution_count": 136,
   "metadata": {
    "tags": []
   },
   "outputs": [
    {
     "data": {
      "image/png": "[encoded data removed]",
      "text/plain": [
       "<Figure size 640x480 with 1 Axes>"
      ]
     },
     "metadata": {},
     "output_type": "display_data"
    }
   ],
   "source": [
    "plot_differences(\"Precision score differences\", precision_scores, precision_scores_tuned)"
   ]
  },
  {
   "cell_type": "markdown",
   "metadata": {},
   "source": [
    "#### F1 Score"
   ]
  },
  {
   "cell_type": "code",
   "execution_count": 137,
   "metadata": {
    "tags": []
   },
   "outputs": [
    {
     "data": {
      "image/png": "[encoded data removed]",
      "text/plain": [
       "<Figure size 640x480 with 1 Axes>"
      ]
     },
     "metadata": {},
     "output_type": "display_data"
    }
   ],
   "source": [
    "plot_differences(\"F1 Score differences\", f1_scores, f1_scores_tuned)"
   ]
  }
 ],
 "metadata": {
  "colab": {
   "provenance": [],
   "toc_visible": true
  },
  "environment": {
   "kernel": "conda-base-py",
   "name": "workbench-notebooks.m126",
   "type": "gcloud",
   "uri": "us-docker.pkg.dev/deeplearning-platform-release/gcr.io/workbench-notebooks:m126"
  },
  "kernelspec": {
   "display_name": "Python 3 (ipykernel) (Local)",
   "language": "python",
   "name": "conda-base-py"
  },
  "language_info": {
   "codemirror_mode": {
    "name": "ipython",
    "version": 3
   },
   "file_extension": ".py",
   "mimetype": "text/x-python",
   "name": "python",
   "nbconvert_exporter": "python",
   "pygments_lexer": "ipython3",
   "version": "3.10.15"
  }
 },
 "nbformat": 4,
 "nbformat_minor": 4
}
