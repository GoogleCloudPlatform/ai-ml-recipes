{
 "cells": [
  {
   "cell_type": "code",
   "execution_count": null,
   "outputs": [],
   "source": [
    "# Copyright 2023 Google LLC\n",
    "#\n",
    "# Licensed under the Apache License, Version 2.0 (the \"License\");\n",
    "# you may not use this file except in compliance with the License.\n",
    "# You may obtain a copy of the License at\n",
    "#\n",
    "#     https://www.apache.org/licenses/LICENSE-2.0\n",
    "#\n",
    "# Unless required by applicable law or agreed to in writing, software\n",
    "# distributed under the License is distributed on an \"AS IS\" BASIS,\n",
    "# WITHOUT WARRANTIES OR CONDITIONS OF ANY KIND, either express or implied.\n",
    "# See the License for the specific language governing permissions and\n",
    "# limitations under the License."
   ],
   "metadata": {
    "collapsed": false
   }
  },
  {
   "cell_type": "markdown",
   "source": [
    "# Summarize contracts (PDF files) using OCR (Vision API) and LLM (PaLM API)"
   ],
   "metadata": {
    "collapsed": false
   }
  },
  {
   "cell_type": "markdown",
   "id": "1c177340-d3b4-4e5b-a927-31bcc8f031e7",
   "metadata": {
    "tags": []
   },
   "source": [
    "## Overview"
   ]
  },
  {
   "cell_type": "markdown",
   "id": "bb23a4a5-dbba-4370-b572-7b4382973e7b",
   "metadata": {
    "tags": []
   },
   "source": [
    "This notebook shows how to perform OCR and summarization using LLM for a large number of contract PDF files in a GCS bucket\n",
    "\n",
    "#### **Steps**\n",
    "Using Spark, \n",
    "1) It reads a metadata table of the [Contract Understanding Atticus Dataset (CUAD)](https://www.atticusprojectai.org/cuad) from the **public_datasets** dataset located in the [metastore](../gcp_services/README.md) (notebook should be connected with the public metastore if using this specific dataset).    \n",
    "   This metadata table contains the paths of the pdf files in the bucket.  \n",
    "   If you want to apply this to a different dataset, you can read the pdf files in your bucket with spark.read.format(\"binaryFile\") (no need of the metastore) - more details [here](../gcp_services/README.md). \n",
    "2) It runs OCR using Vision API - it start a series of async operations and then checks its completion status.\n",
    "3) It calls [Vertex AI PaLM API](https://cloud.google.com/vertex-ai/docs/generative-ai/start/quickstarts/api-quickstart#try_text_prompts) to summarize each text page.\n",
    "4) It saves the output to BigQuery\n",
    "\n",
    "#### Related content\n",
    "\n",
    "- [Summarization with Large Documents using LangChain](https://github.com/GoogleCloudPlatform/generative-ai/blob/dev/language/examples/oss-samples/langchain/summarization_with_large_documents_langchain.ipynb)\n",
    "- [Design summarization prompts](https://cloud.google.com/vertex-ai/docs/generative-ai/text/summarization-prompts)"
   ]
  },
  {
   "cell_type": "markdown",
   "id": "239a33c4-5d5f-4a05-8ca2-3f30ddf23464",
   "metadata": {
    "tags": []
   },
   "source": [
    "## Setup"
   ]
  },
  {
   "cell_type": "markdown",
   "id": "69fb05c5-aac5-4f7e-9949-72e9890ec303",
   "metadata": {
    "tags": []
   },
   "source": [
    "#### Identity and Access Management (IAM)"
   ]
  },
  {
   "cell_type": "markdown",
   "id": "a79ac509-8480-49ff-9891-f14e9a1346ac",
   "metadata": {},
   "source": [
    "Make sure the service account running this notebook has the required permissions:\n",
    "\n",
    "- **Run the notebook**\n",
    "  - AI Platform Notebooks Service Agent\n",
    "  - Notebooks Admin\n",
    "  - Vertex AI Administrator\n",
    "- **Read tables from Dataproc Metastore**\n",
    "  - Dataproc Metastore Editor\n",
    "  - Dataproc Metastore Metadata Editor\n",
    "  - Dataproc Metastore Metadata User\n",
    "  - Dataproc Metastore Service Agent\n",
    "- **Read files from bucket**\n",
    "  - Storage Object Viewer\n",
    "- **Run Dataproc jobs**\n",
    "  - Dataproc Service Agent\n",
    "  - Dataproc Worker\n",
    "- **Call Google APIs (PaLM and Vision)**\n",
    "  - Service Usage Consumer\n",
    "  - VisionAI Admin\n",
    "- **BigQuery**\n",
    "  - BigQuery Data Editor"
   ]
  },
  {
   "cell_type": "markdown",
   "id": "3a08dc3e-5364-443b-abcb-5a65dabe5d8e",
   "metadata": {
    "tags": []
   },
   "source": [
    "#### Imports"
   ]
  },
  {
   "cell_type": "code",
   "execution_count": null,
   "id": "4d323b55-1d2f-46d4-b2e1-d7c6b545ba15",
   "metadata": {},
   "outputs": [],
   "source": [
    "import os\n",
    "import sys\n",
    "import re\n",
    "import json\n",
    "import time\n",
    "\n",
    "from pyspark.sql.functions import udf, col, lit, split, explode, size, avg, count, regexp_replace, collect_list\n",
    "from pyspark.sql.types import StructType, StructField, StringType, ArrayType\n",
    "\n",
    "import google.auth\n",
    "import google.auth.transport.requests\n",
    "import requests\n",
    "\n",
    "from google.cloud import storage"
   ]
  },
  {
   "cell_type": "markdown",
   "id": "1ec3e8cd-9bdc-4b20-ac45-f6fc9b8acc56",
   "metadata": {
    "tags": []
   },
   "source": [
    "#### Authentication"
   ]
  },
  {
   "cell_type": "code",
   "execution_count": null,
   "id": "ceea2972-fe50-4779-8c1b-12333855d3b5",
   "metadata": {},
   "outputs": [],
   "source": [
    "# Get credentials to authenticate with Google APIs\n",
    "credentials, project_id = google.auth.default()\n",
    "auth_req = google.auth.transport.requests.Request()\n",
    "credentials.refresh(auth_req)"
   ]
  },
  {
   "cell_type": "markdown",
   "id": "8c739bba-bad6-421a-91da-1f9916359edd",
   "metadata": {
    "tags": []
   },
   "source": [
    "#### Setup Spark Session"
   ]
  },
  {
   "cell_type": "code",
   "execution_count": null,
   "id": "e03a39d4-d08f-4ceb-a11b-6cea8329ccb7",
   "metadata": {},
   "outputs": [],
   "source": [
    "from pyspark.sql import SparkSession"
   ]
  },
  {
   "cell_type": "code",
   "execution_count": null,
   "id": "a34ce061-651b-4fb9-88bb-bd59d4eaf2e0",
   "metadata": {},
   "outputs": [],
   "source": [
    "spark = SparkSession.builder \\\n",
    "    .appName(\"OCR contract PDF files and summarize\") \\\n",
    "    .enableHiveSupport() \\\n",
    "    .getOrCreate()"
   ]
  },
  {
   "cell_type": "markdown",
   "id": "07afb76e-7298-4c11-b43b-105e0fe8673f",
   "metadata": {
    "tags": []
   },
   "source": [
    "#### Parameters"
   ]
  },
  {
   "cell_type": "code",
   "execution_count": null,
   "id": "ac1459e1-f79b-440b-901a-1c9d1645a73e",
   "metadata": {},
   "outputs": [],
   "source": [
    "# PDFs\n",
    "input_dataset_table = \"public_datasets.cuad_v1\"\n",
    "# Change the maximum number of files you want to consider\n",
    "limit_files = 5\n",
    "# OCR\n",
    "gcs_output_bucket = \"gs://dataproc-metastore-public-binaries\" # Output bucket where OCR text files will be saved\n",
    "output_path_prefix = \"cuad_v1/output_ocr\" # path prefix after bucket name where the folder structure will be created\n",
    "# BigQuery\n",
    "output_dataset_bq = \"output_dataset\" # create the BigQuery dataset beforehand\n",
    "output_table_bq = \"ocr_page_summaries\"\n",
    "bq_temp_bucket_name = \"workspaces-bq-temp-bucket-dev\""
   ]
  },
  {
   "cell_type": "markdown",
   "id": "6d49c961-0d83-467f-b107-ba24ebabb57c",
   "metadata": {
    "tags": []
   },
   "source": [
    "## Read dataset"
   ]
  },
  {
   "cell_type": "markdown",
   "id": "14fc5d32-a882-4b5d-ad98-5089647efec1",
   "metadata": {
    "tags": []
   },
   "source": [
    "#### Read CUAD V1 dataset from metastore"
   ]
  },
  {
   "cell_type": "code",
   "execution_count": null,
   "id": "a29ee53c-cc25-4d47-9f7d-90355f6ec8f0",
   "metadata": {},
   "outputs": [],
   "source": [
    "cuad_v1_df = spark.read.table(input_dataset_table).limit(limit_files)"
   ]
  },
  {
   "cell_type": "markdown",
   "id": "0bb0deba-7fa0-42f3-8273-fb5079dd6825",
   "metadata": {},
   "source": [
    "|                path|    modificationTime| length|             content|\n",
    "|--------------------|--------------------|-------|--------------------|\n",
    "|gs://dataproc-met...|2023-05-15 20:53:...|3683550|[25 50 44 46 2D 3...|\n",
    "|gs://dataproc-met...|2023-05-15 20:53:...|2881262|[25 50 44 46 2D 3...|\n",
    "|gs://dataproc-met...|2023-05-15 20:54:...|1778356|[25 50 44 46 2D 3...|\n",
    "|gs://dataproc-met...|2023-05-15 20:53:...|1557129|[25 50 44 46 2D 3...|\n",
    "|gs://dataproc-met...|2023-05-15 20:53:...|1452180|[25 50 44 46 2D 3...|"
   ]
  },
  {
   "cell_type": "code",
   "execution_count": null,
   "id": "85dd7748-90bd-4222-863b-f9e34235a2e9",
   "metadata": {},
   "outputs": [],
   "source": [
    "files_df = cuad_v1_df.select(\"path\").withColumnRenamed(\"path\", \"pdf_path\")"
   ]
  },
  {
   "cell_type": "markdown",
   "id": "bb6285a4-7740-4a05-869f-5f8be3ec9838",
   "metadata": {
    "tags": []
   },
   "source": [
    "## Run OCR using Vision API"
   ]
  },
  {
   "cell_type": "markdown",
   "id": "a510e96b-6ff3-479a-9892-29b1193aba07",
   "metadata": {
    "tags": []
   },
   "source": [
    "#### Run OCR - Start async operations"
   ]
  },
  {
   "cell_type": "code",
   "execution_count": null,
   "id": "3edd4f41-abef-45ea-ac07-d1b1a2fa311e",
   "metadata": {},
   "outputs": [],
   "source": [
    "### Spark User Defined Function (UDF)\n",
    "def perform_ocr(gcs_source_uri, gcs_output_bucket, output_path_prefix):     \n",
    "\n",
    "    gcs_uri, file_name = os.path.split(gcs_source_uri)\n",
    "    sub_paths = re.sub(r\"gs://[^/]+\", \"\", gcs_uri, 1)\n",
    "    gcs_destination_uri = gcs_output_bucket + \"/\" + output_path_prefix + sub_paths + \"/\" + file_name\n",
    "\n",
    "    operation = requests.post(\n",
    "            f\"https://us-vision.googleapis.com/v1/projects/{project_id}/locations/us/files:asyncBatchAnnotate\",\n",
    "            headers={'Authorization': 'Bearer %s' % credentials.token,\n",
    "                     'x-goog-user-project': project_id,\n",
    "                     'Content-Type': 'application/json; charset=utf-8'},\n",
    "            json={ \"requests\":[{\n",
    "                      \"inputConfig\": {\n",
    "                        \"gcsSource\": {\n",
    "                          \"uri\": gcs_source_uri\n",
    "                        },\n",
    "                        \"mimeType\": \"application/pdf\"\n",
    "                      },\n",
    "                      \"features\": [{\n",
    "                        \"type\": \"DOCUMENT_TEXT_DETECTION\"\n",
    "                      }],\n",
    "                      \"outputConfig\": {\n",
    "                        \"gcsDestination\": {\n",
    "                          \"uri\": gcs_destination_uri\n",
    "                        },\n",
    "                        \"batchSize\": 100\n",
    "                      }\n",
    "                    }]\n",
    "                }\n",
    "        ).json()\n",
    "\n",
    "    return [gcs_destination_uri, operation[\"name\"]]"
   ]
  },
  {
   "cell_type": "code",
   "execution_count": null,
   "id": "1f7af073-9ac4-415c-8049-046ac539ed9f",
   "metadata": {},
   "outputs": [],
   "source": [
    "schema = StructType(\n",
    "    [\n",
    "        StructField(\"ocr_text_path\", StringType(), False),\n",
    "        StructField(\"vision_api_async_operation_name\", StringType(), False)\n",
    "    ]\n",
    ")\n",
    "\n",
    "perform_ocr_udf = udf(perform_ocr, schema)"
   ]
  },
  {
   "cell_type": "code",
   "execution_count": null,
   "id": "1a175e31-11fa-407c-847b-a4ad07ea23bc",
   "metadata": {},
   "outputs": [],
   "source": [
    "ocr_async_op_df = files_df.withColumn(\"ocr_async_op\", perform_ocr_udf(files_df[\"pdf_path\"], lit(gcs_output_bucket), lit(output_path_prefix)))"
   ]
  },
  {
   "cell_type": "code",
   "execution_count": null,
   "id": "5ca21831-cc23-4cc9-9405-907bec26d9d2",
   "metadata": {},
   "outputs": [],
   "source": [
    "ocr_async_op_df = ocr_async_op_df.withColumn(\"ocr_text_path\", ocr_async_op_df[\"ocr_async_op\"][\"ocr_text_path\"]) \\\n",
    "                                 .withColumn(\"vision_api_async_operation_name\", ocr_async_op_df[\"ocr_async_op\"][\"vision_api_async_operation_name\"]) \\\n",
    "                                 .drop(\"ocr_async_op\")"
   ]
  },
  {
   "cell_type": "code",
   "execution_count": null,
   "id": "9d18f1e7-d5b0-445f-8e90-cab8b351d77d",
   "metadata": {},
   "outputs": [],
   "source": [
    "ocr_async_op_df.show(10,50)"
   ]
  },
  {
   "cell_type": "markdown",
   "id": "20de6bc5-95a8-49f1-a491-da5884181015",
   "metadata": {},
   "source": [
    "|                                          pdf_path|                                     ocr_text_path|                   vision_api_async_operation_name|\n",
    "|--------------------------------------------------|--------------------------------------------------|--------------------------------------------------|\n",
    "|gs://dataproc-metastore-public-binaries/cuad_v1...|gs://dataproc-metastore-public-binaries/cuad_v1...|projects/dataproc-workspaces-notebooks/operatio...|\n",
    "|gs://dataproc-metastore-public-binaries/cuad_v1...|gs://dataproc-metastore-public-binaries/cuad_v1...|projects/dataproc-workspaces-notebooks/operatio...|\n",
    "|gs://dataproc-metastore-public-binaries/cuad_v1...|gs://dataproc-metastore-public-binaries/cuad_v1...|projects/dataproc-workspaces-notebooks/operatio...|\n",
    "|gs://dataproc-metastore-public-binaries/cuad_v1...|gs://dataproc-metastore-public-binaries/cuad_v1...|projects/dataproc-workspaces-notebooks/operatio...|\n",
    "|gs://dataproc-metastore-public-binaries/cuad_v1...|gs://dataproc-metastore-public-binaries/cuad_v1...|projects/dataproc-workspaces-notebooks/operatio...|"
   ]
  },
  {
   "cell_type": "code",
   "execution_count": null,
   "id": "bdeddde9-cf54-4e06-ad3f-05a7296c4f81",
   "metadata": {},
   "outputs": [],
   "source": [
    "ocr_async_op_df.cache()"
   ]
  },
  {
   "cell_type": "markdown",
   "id": "a1c1feec-ac55-493b-b997-cdcdc662e907",
   "metadata": {
    "tags": []
   },
   "source": [
    "#### Check status of OCR operations"
   ]
  },
  {
   "cell_type": "code",
   "execution_count": null,
   "id": "de193592-a521-4e5e-875e-e0bf54b0a293",
   "metadata": {},
   "outputs": [],
   "source": [
    "### Spark User Defined Function (UDF)\n",
    "def check_completion(operation_name):\n",
    "\n",
    "    operation = requests.get(\n",
    "        f\"https://us-vision.googleapis.com/v1/{operation_name}\",\n",
    "        headers={'Authorization': 'Bearer %s' % credentials.token,\n",
    "                 'x-goog-user-project': project_id}\n",
    "    ).json()\n",
    "    \n",
    "    if \"done\" in operation and operation[\"done\"]:\n",
    "        if \"error\" in operation:\n",
    "            return f'Operation error: code {operation[\"error\"][\"code\"]} and message {operation[\"error\"][\"message\"]}'\n",
    "        else:\n",
    "            return \"done\"\n",
    "    else:\n",
    "        if (\"error\" in operation):\n",
    "            return f\"Error getting operation: {operation['error']}\"\n",
    "        else:\n",
    "            return \"processing\""
   ]
  },
  {
   "cell_type": "code",
   "execution_count": null,
   "id": "ff2304dc-94ac-445c-939e-946c8bf2b3d2",
   "metadata": {},
   "outputs": [],
   "source": [
    "check_completion = udf(check_completion)"
   ]
  },
  {
   "cell_type": "code",
   "execution_count": null,
   "id": "c302b8a6-7849-4615-af60-e4f9b27542a9",
   "metadata": {},
   "outputs": [],
   "source": [
    "time.sleep(45)"
   ]
  },
  {
   "cell_type": "code",
   "execution_count": null,
   "id": "4cdad238-82f0-4bf3-a63d-909d60ca0eaf",
   "metadata": {},
   "outputs": [],
   "source": [
    "check_completion_df = ocr_async_op_df.withColumn(\"status\", check_completion(ocr_async_op_df[\"vision_api_async_operation_name\"]))"
   ]
  },
  {
   "cell_type": "markdown",
   "id": "ad9e5f5c-fe1a-458e-8115-6e823e5a629f",
   "metadata": {
    "tags": []
   },
   "source": [
    "#### Get processed OCR text files from bucket"
   ]
  },
  {
   "cell_type": "code",
   "execution_count": null,
   "id": "7c2f06d0-09c0-47d8-aff3-52a782a9de48",
   "metadata": {},
   "outputs": [],
   "source": [
    "### Spark User Defined Function (UDF)\n",
    "def read_completed_ocr(path):\n",
    "\n",
    "    bucket = re.compile(r\"gs://[^/]+\").findall(path)[0]\n",
    "    prefix = re.sub(r\"gs://[^/]+\", \"\", path, 1)[1:]\n",
    "\n",
    "    storage_client = storage.Client()\n",
    "    bucket = storage_client.get_bucket(bucket[5:])\n",
    "    blobs = [blob for blob in list(bucket.list_blobs(prefix=prefix)) if not blob.name.endswith('/')]\n",
    "\n",
    "    try:\n",
    "        \n",
    "        json_string = blobs[0].download_as_bytes().decode(\"utf-8\")\n",
    "        structured_ocr = json.loads(json_string)\n",
    "        ocr_text = \"\"\n",
    "        ocr_pages = []\n",
    "        for page in structured_ocr['responses']:\n",
    "            if('fullTextAnnotation' in page):\n",
    "                fullTextAnnotation = page[\"fullTextAnnotation\"]\n",
    "                if('text' in fullTextAnnotation):\n",
    "                    page_text = fullTextAnnotation['text']\n",
    "                    ocr_text += page_text\n",
    "                    ocr_pages.append(page_text)\n",
    "        return ocr_text.strip(), ocr_pages\n",
    "    \n",
    "    except Exception as e:\n",
    "        return \"Error getting ocr from pdf: \" + str(e)"
   ]
  },
  {
   "cell_type": "code",
   "execution_count": null,
   "id": "5929e65a-6e46-47a4-855c-fe57c4d5ac02",
   "metadata": {},
   "outputs": [],
   "source": [
    "schema = StructType(\n",
    "    [\n",
    "        StructField(\"ocr_text\", StringType(), False),\n",
    "        StructField(\"ocr_pages\", ArrayType(StringType(), False), False)\n",
    "    ]\n",
    ")\n",
    "\n",
    "read_completed_ocr = udf(read_completed_ocr, schema)"
   ]
  },
  {
   "cell_type": "code",
   "execution_count": null,
   "id": "682cb712-4f1c-4ddf-aa4c-12855472c78e",
   "metadata": {},
   "outputs": [],
   "source": [
    "check_completion_df.show()"
   ]
  },
  {
   "cell_type": "code",
   "execution_count": null,
   "id": "c436540c-c578-4a22-b544-be4e41c5b0f1",
   "metadata": {},
   "outputs": [],
   "source": [
    "completion_df = check_completion_df.filter(\"status == 'done'\")"
   ]
  },
  {
   "cell_type": "code",
   "execution_count": null,
   "id": "20da5cce-87d0-4c98-a2fa-b8f9d00a6fad",
   "metadata": {},
   "outputs": [],
   "source": [
    "completion_df.cache()"
   ]
  },
  {
   "cell_type": "markdown",
   "id": "5cebcf88-58e9-4871-bff1-29c151785f41",
   "metadata": {
    "tags": []
   },
   "source": [
    "#### Get complete OCR text"
   ]
  },
  {
   "cell_type": "code",
   "execution_count": null,
   "id": "c3018b65-be61-4f56-922e-6cf9c34e3775",
   "metadata": {},
   "outputs": [],
   "source": [
    "fetch_ocr_df = check_completion_df.withColumn(\"ocr_output\", read_completed_ocr(check_completion_df['ocr_text_path']))\n",
    "ocr_df = fetch_ocr_df.select(\"pdf_path\",\"ocr_output\") \\\n",
    "                     .withColumn(\"ocr_text\", fetch_ocr_df[\"ocr_output\"][\"ocr_text\"]) \\\n",
    "                     .withColumn(\"ocr_pages\", fetch_ocr_df[\"ocr_output\"][\"ocr_pages\"]) \\\n",
    "                     .withColumn(\"number_pages\", size(col(\"ocr_pages\"))) \\\n",
    "                     .drop(\"ocr_output\")"
   ]
  },
  {
   "cell_type": "code",
   "execution_count": null,
   "id": "1a78e986-185a-47b1-8bee-a079521e0105",
   "metadata": {},
   "outputs": [],
   "source": [
    "ocr_df.show(5,5)"
   ]
  },
  {
   "cell_type": "code",
   "execution_count": null,
   "id": "f25c0ef6-35c4-4383-a779-31280a9b3770",
   "metadata": {},
   "outputs": [],
   "source": [
    "ocr_df.cache()"
   ]
  },
  {
   "cell_type": "markdown",
   "id": "279cf65c-8314-4d33-81ce-03f04ba9cb59",
   "metadata": {},
   "source": [
    "\n",
    "|  pdf_path|  ocr_text| ocr_pages|number_pages|\n",
    "|----------|----------|----------|------------|\n",
    "|gs://da...|THIS AG...|[THIS A...|           8|\n",
    "|gs://da...|Exhibit...|[Exhibi...|          40|\n",
    "|gs://da...|Exhibit...|[Exhibi...|          44|\n",
    "|gs://da...|Exhibit...|[Exhibi...|         100|\n",
    "|gs://da...|TRANSPO...|[TRANSP...|          25|"
   ]
  },
  {
   "cell_type": "markdown",
   "id": "c0fc3682-cb19-4717-a603-9bcea4935fca",
   "metadata": {
    "tags": []
   },
   "source": [
    "## Summarize pages using Palm API"
   ]
  },
  {
   "cell_type": "code",
   "execution_count": null,
   "id": "70925709-3659-48d7-ad2b-83a578bfbf0b",
   "metadata": {},
   "outputs": [],
   "source": [
    "### Spark User Defined Function (UDF)\n",
    "def summarize_page(page):\n",
    "    \n",
    "    def predict_palm(prompt):\n",
    "        MODEL_ID=\"text-bison\"\n",
    "        prediction = requests.post(\n",
    "            f\"https://us-central1-aiplatform.googleapis.com/v1/projects/{project_id}/locations/us-central1/publishers/google/models/{MODEL_ID}:predict\",\n",
    "            headers={'Authorization': 'Bearer %s' % credentials.token,\n",
    "                     'Content-Type': 'application/json'},\n",
    "            json = {\n",
    "                      \"instances\": [\n",
    "                        { \"prompt\": prompt}\n",
    "                      ],\n",
    "                      \"parameters\": {\n",
    "                        \"temperature\": 0.2,\n",
    "                        \"maxOutputTokens\": 256,\n",
    "                        \"topK\": 40,\n",
    "                        \"topP\": 0.95\n",
    "                    }\n",
    "            }\n",
    "        ).json()\n",
    "        print(prediction)\n",
    "\n",
    "        if \"predictions\" in prediction:\n",
    "            pred = prediction[\"predictions\"][0]\n",
    "            if \"content\" in pred:\n",
    "                return pred[\"content\"]\n",
    "        else:\n",
    "            if \"error\" in prediction:\n",
    "                if prediction[\"error\"][\"code\"] == 429:  # Quota exceeded\n",
    "                    time.sleep(5)\n",
    "                    return predict_palm(prompt)\n",
    "                else:\n",
    "                    return f\"Error getting prediction: {prediction['error']}\"\n",
    "\n",
    "            return f\"Error getting predictions\"\n",
    "        \n",
    "    prompt = f\"\"\"Provide a summary with about two sentences for the following article page:\n",
    "    {page}\n",
    "    Summary:\"\"\"\n",
    "    \n",
    "    summary = predict_palm(prompt)\n",
    "        \n",
    "    return summary"
   ]
  },
  {
   "cell_type": "code",
   "execution_count": null,
   "id": "4dfb48a5-a308-4a1c-941b-9e5252a442ea",
   "metadata": {},
   "outputs": [],
   "source": [
    "summarize_page = udf(summarize_page)"
   ]
  },
  {
   "cell_type": "code",
   "execution_count": null,
   "id": "2f21e9ae-1d0a-4633-867d-23c52773b573",
   "metadata": {},
   "outputs": [],
   "source": [
    "ocr_pages_df = ocr_df.select(\"pdf_path\", explode(ocr_df[\"ocr_pages\"]).alias(\"page\"))"
   ]
  },
  {
   "cell_type": "code",
   "execution_count": null,
   "id": "3184c463-6deb-42e8-9696-007d2c52f7f3",
   "metadata": {},
   "outputs": [],
   "source": [
    "summaries_df = ocr_pages_df.withColumn(\"summary\", summarize_page(ocr_pages_df[\"page\"]))"
   ]
  },
  {
   "cell_type": "markdown",
   "id": "a03765e2-f28f-4c04-a2c3-761b6dbc615a",
   "metadata": {},
   "source": [
    "|  pdf_path|      page|   summary|\n",
    "|----------|----------|----------|\n",
    "|gs://da...|THIS AG...|This is...|\n",
    "|gs://da...|Definit...|(b)    ...|\n",
    "|gs://da...|- 5- fo...|This se...|"
   ]
  },
  {
   "cell_type": "code",
   "execution_count": null,
   "id": "68b62926-1f4f-40ed-bb60-21e81cba905b",
   "metadata": {},
   "outputs": [],
   "source": [
    "summaries_df.show(5,10)"
   ]
  },
  {
   "cell_type": "markdown",
   "id": "f85ad441-f244-462f-a0c5-1b4dbdbad0ed",
   "metadata": {},
   "source": [
    "|page|\n",
    "|----------|\n",
    "|[THIS AGREEMENT is dated May 3, 2006. NON-COMPETITION AGREEMENT AND RIGHT OF FIRST OFFER BETWEEN: AND: WHEREAS: GLAMIS GOLD LTD., a company incorporated under the laws of the Province of British Columbia, having an office at 310-5190 Neil Road, Reno, Nevada 89502 (\"Glamis\") WESTERN COPPER CORPORATION, a company incorporated under the laws of the Province of British Columbia, having an office at 2050-1111 West Georgia Street, Vancouver, B.C. V6E 4M3 (\"Western Copper\") (A) Glamis, Western Copper and Western Silver Corporation (\"Western Silver\") are parties to an arrangement agreement dated as of February 23, 2006 (the \"Arrangement Agreement\"), pursuant to which, among other things, Western Copper will acquire certain assets of Western Silver and Glamis will become the sole shareholder of Western Silver and the indirect owner, through Western Silver, of certain corporations and mineral properties in Mexico (the \"Arrangement\"); and 1162967.3...|"
   ]
  },
  {
   "cell_type": "markdown",
   "id": "d246c42e-f674-4eca-bd25-2b254ea02813",
   "metadata": {},
   "source": [
    "|summary|\n",
    "|----------|\n",
    "|[This is a non-competition agreement and right of first offer between Glamis Gold Ltd. and Western Copper Corporation. Glamis Gold Ltd. will not compete with Western Copper Corporation in certain areas of Mexico and will grant Western Copper Corporation a right of first offer with respect to the proposed disposition by Glamis Gold Ltd. of mineral properties or legal interests therein located in Mexico that Glamis Gold Ltd. acquired under the Arrangement.,  (b) the headings in this Agreement are for convenience of reference only and shall not affect its interpretation...|"
   ]
  },
  {
   "cell_type": "markdown",
   "id": "ac92387a-56e9-45aa-a741-9d2c0f66d866",
   "metadata": {},
   "source": [
    "## Save to BigQuery"
   ]
  },
  {
   "cell_type": "code",
   "execution_count": null,
   "id": "f4f2c9c1-dbf7-447d-8187-f4c003358f32",
   "metadata": {},
   "outputs": [],
   "source": [
    "agreggated_df = summaries_df.groupby(\"pdf_path\") \\\n",
    "                           .agg(collect_list(\"summary\").alias(\"page_summary_list\"))"
   ]
  },
  {
   "cell_type": "code",
   "execution_count": null,
   "id": "c6c4d2c4-bb20-4575-96f9-48fbba382cd6",
   "metadata": {},
   "outputs": [],
   "source": [
    "agreggated_df.write \\\n",
    "            .format(\"com.google.cloud.spark.bigquery\") \\\n",
    "            .option(\"table\", project_id + \":\" + output_dataset_bq + \".\" + output_table_bq) \\\n",
    "            .option(\"temporaryGcsBucket\", bq_temp_bucket_name) \\\n",
    "            .option(\"enableListInference\", True) \\\n",
    "            .mode(\"overwrite\") \\\n",
    "            .save()"
   ]
  }
 ],
 "metadata": {
  "language_info": {
   "codemirror_mode": {
    "name": "ipython",
    "version": 3
   },
   "file_extension": ".py",
   "mimetype": "text/x-python",
   "name": "python",
   "nbconvert_exporter": "python",
   "pygments_lexer": "ipython3",
   "version": "3.8.15"
  }
 },
 "nbformat": 4,
 "nbformat_minor": 5
}
